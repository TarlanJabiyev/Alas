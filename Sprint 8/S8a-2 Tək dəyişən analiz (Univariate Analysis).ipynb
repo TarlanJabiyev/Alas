{
 "cells": [
  {
   "cell_type": "code",
   "execution_count": 1,
   "id": "dce5d60f-01ff-46eb-a275-9ee2cdb0651b",
   "metadata": {},
   "outputs": [],
   "source": [
    "import pandas as pd\n",
    "import numpy as np\n",
    "from scipy import stats\n",
    "import statsmodels.stats.proportion as smprop"
   ]
  },
  {
   "cell_type": "code",
   "execution_count": 2,
   "id": "39d61146-2fa0-4242-b293-5507437086a3",
   "metadata": {},
   "outputs": [],
   "source": [
    "data = pd.read_csv(\"demographics.csv\")"
   ]
  },
  {
   "cell_type": "markdown",
   "id": "a819b9d8-f070-40ba-9eb5-525d61a77cbb",
   "metadata": {},
   "source": [
    "## One-Sample T test"
   ]
  },
  {
   "cell_type": "raw",
   "id": "0c7a3e9d-371f-46aa-9aa2-b4ade3b598de",
   "metadata": {},
   "source": [
    "Əsas fərziyyələr:\n",
    "    Dəyişən normal paylanmışdır.\n",
    "    Dəyişənin mühüm “outliers”-ləri yoxdur.\n",
    "\n",
    "Nəticənin izahı:\n",
    "    H₀ (null hipotez): μ = 70 (orta gəlir 70-dir)\n",
    "    H₁ (alternativ hipotez): μ ≠ 70\n",
    "\n",
    "Orta gəlirin 70-dən əhəmiyyətli dərəcədə fərqli olub-olmadığını yoxlayacağıq.\n",
    "Əgər p-value < 0.05 olarsa, null hipotezi rədd edirik, yəni gəlir 70-dən əhəmiyyətli dərəcədə fərqlənir."
   ]
  },
  {
   "cell_type": "code",
   "execution_count": 3,
   "id": "2badc284-0163-4ba9-960a-9e1b9398442f",
   "metadata": {},
   "outputs": [],
   "source": [
    "t_stat, p_value = stats.ttest_1samp(data['income'], popmean=70)"
   ]
  },
  {
   "cell_type": "code",
   "execution_count": 4,
   "id": "14139bcb-f646-40ce-9314-92e861fc5965",
   "metadata": {},
   "outputs": [],
   "source": [
    "mean_income = data['income'].mean()\n",
    "ci = stats.t.interval(confidence=0.95, df=len(data['income'])-1, loc=mean_income, scale=stats.sem(data['income']))"
   ]
  },
  {
   "cell_type": "code",
   "execution_count": 5,
   "id": "b9fab0af-1e9f-4d6c-ae81-2e0fd18ddf6e",
   "metadata": {},
   "outputs": [
    {
     "name": "stdout",
     "output_type": "stream",
     "text": [
      "One-Sample T-test Results:\n",
      "Mean income: 78.59\n",
      "t-statistic: 1.7282\n",
      "p-value: 0.0846\n",
      "95% Confidence Interval: (68.82, 88.36)\n"
     ]
    }
   ],
   "source": [
    "print(\"One-Sample T-test Results:\")\n",
    "print(f\"Mean income: {mean_income:.2f}\")\n",
    "print(f\"t-statistic: {t_stat:.4f}\")\n",
    "print(f\"p-value: {p_value:.4f}\")\n",
    "print(f\"95% Confidence Interval: ({ci[0]:.2f}, {ci[1]:.2f})\")"
   ]
  },
  {
   "cell_type": "raw",
   "id": "bc66e8aa-de6b-43b7-bd25-ee2fd8b4c363",
   "metadata": {},
   "source": [
    "Izah:\n",
    " \n",
    "    Orta gəlir (78.59) nəzəri dəyər olan 70-dən yüksəkdir, lakin bu fərqin statistik baxımdan əhəmiyyətli olub-olmadığını p-value ilə qiymətləndiririk.\n",
    "\n",
    "    p-value = 0.08456 - Bu dəyər 0.05-dən böyükdür. Bu o deməkdir ki, 70-dən fərqli olması ehtimalı statistik cəhətdən əhəmiyyətli deyil.\n",
    " \n",
    "    95% güvən intervalı (68.82 - 88.36): Bu interval 70-i də əhatə edir, bu da o deməkdir ki, əminliklə 70-dən fərqlənir demək mümkün deyil."
   ]
  },
  {
   "cell_type": "raw",
   "id": "10ff9414-3445-4cd5-84f0-9b504b294f15",
   "metadata": {},
   "source": [
    "Nəticə (Yekun qərar):\n",
    "\n",
    "    H₀ hipotezi rədd edilmir. Yəni income dəyişəninin ortalaması 70-dən əhəmiyyətli dərəcədə fərqlənmir (α = 0.05 səviyyəsində baxsaq).\n",
    "\n",
    "    Qısaca - Müşahidə etdiyimiz orta gəlir 78.59 olsa da, bu fərq statistik cəhətdən əhəmiyyətli deyil – çünki p-value 0.05-dən böyükdür."
   ]
  },
  {
   "cell_type": "markdown",
   "id": "6cb1b980-0191-4247-bc72-03a176418011",
   "metadata": {},
   "source": [
    "## \"Binomial\" Test"
   ]
  },
  {
   "cell_type": "code",
   "execution_count": 6,
   "id": "b4fdb720-a1bb-4c51-9a46-e887188d3b88",
   "metadata": {},
   "outputs": [],
   "source": [
    "#Məqsəd: kişi-qadın nisbətinin 50/50 olub-olmadığını yoxlayacağıq.\n",
    "\n",
    "gender_counts = data['gender'].value_counts()\n",
    "male_count = gender_counts.get('Male', 0) \n",
    "total_count = len(data['gender'])\n",
    "male_proportion = male_count / total_count"
   ]
  },
  {
   "cell_type": "code",
   "execution_count": 7,
   "id": "7b27c0cb-8329-4eaa-a5f5-11e8c13ded5f",
   "metadata": {},
   "outputs": [
    {
     "name": "stdout",
     "output_type": "stream",
     "text": [
      "\n",
      "Gender Distribution:\n",
      "gender\n",
      "Male      260\n",
      "Female    250\n",
      "Name: count, dtype: int64\n",
      "Proportion of males: 0.510\n"
     ]
    }
   ],
   "source": [
    "print(\"\\nGender Distribution:\")\n",
    "print(gender_counts)\n",
    "print(f\"Proportion of males: {male_proportion:.3f}\")"
   ]
  },
  {
   "cell_type": "code",
   "execution_count": 8,
   "id": "66a94987-005a-4cd9-bf7c-ccd868638565",
   "metadata": {},
   "outputs": [],
   "source": [
    "binom_result = smprop.binom_test(male_count, total_count, prop=0.5)\n",
    "ci_binom = smprop.proportion_confint(male_count, total_count, alpha=0.05, method='wilson')"
   ]
  },
  {
   "cell_type": "code",
   "execution_count": 9,
   "id": "ee610b41-6702-4b9b-92de-24775b9f6bf6",
   "metadata": {},
   "outputs": [
    {
     "name": "stdout",
     "output_type": "stream",
     "text": [
      "\n",
      "Binomial Test (p=0.5):\n",
      "p-value: 0.6903\n",
      "95% Confidence Interval for male proportion: (0.467, 0.553)\n"
     ]
    }
   ],
   "source": [
    "print(\"\\nBinomial Test (p=0.5):\")\n",
    "print(f\"p-value: {binom_result:.4f}\")\n",
    "print(f\"95% Confidence Interval for male proportion: ({ci_binom[0]:.3f}, {ci_binom[1]:.3f})\")"
   ]
  },
  {
   "cell_type": "raw",
   "id": "47219038-9c41-4613-b634-3f4aeb39199c",
   "metadata": {},
   "source": [
    "Izah:\n",
    "\n",
    "    Müşahidə edilən kişi nisbəti: 0.49 - bu, nəzəri 0.50 nisbətindən bir qədər azdır, lakin çox yaxın.\n",
    "\n",
    "    p-value = 0.6903 - bu dəyər çox böyükdür və 0.05-dən çox yuxarıdır. Bu o deməkdir ki, müşahidə olunan 0.49 nisbəti ilə nəzəri 0.50 nisbəti arasında statistik olaraq əhəmiyyətli fərq yoxdur.\n",
    "\n",
    "    95% güvən intervalı (0.446 - 0.535): Bu interval 0.50 dəyərini əhatə edir, yəni kişi nisbətinin 0.50 ola bilmə ehtimalı var."
   ]
  },
  {
   "cell_type": "raw",
   "id": "25483d4e-4e39-4d0b-9786-ba7f0ffd92d0",
   "metadata": {},
   "source": [
    "Nəticə (Yekun qərar):\n",
    "\n",
    "    H₀ hipotezi rədd edilmir.Yəni, kişilərin nisbəti statistik olaraq 50% ilə uyğundur.\n",
    "\n",
    "    Qısaca - Bu test göstərdi ki, kişilərin sayı 250 olsa da, bu, təsadüfi dəyişkənliyin nəticəsi ola bilər. Cinslərin 50/50 nisbətdə olması əvvəlki fərziyyə kimi qəbul oluna bilər - müşahidə olunan fərq əhəmiyyətli deyil."
   ]
  },
  {
   "cell_type": "code",
   "execution_count": 10,
   "id": "32e45802-4d9a-4521-a837-b6682a12c803",
   "metadata": {},
   "outputs": [],
   "source": [
    "#kişi subyektlərin nisbətinin 40% olub-olmadığını yoxlamaq.\n",
    "\n",
    "binom_result_40 = smprop.binom_test(male_count, total_count, prop=0.4)\n",
    "ci_binom_40 = smprop.proportion_confint(male_count, total_count, alpha=0.05, method='wilson')"
   ]
  },
  {
   "cell_type": "code",
   "execution_count": 11,
   "id": "3d92907d-e841-4eac-8ef3-db2060c40e21",
   "metadata": {},
   "outputs": [
    {
     "name": "stdout",
     "output_type": "stream",
     "text": [
      "\n",
      "Binomial Test (p=0.4):\n",
      "p-value: 0.000001\n",
      "95% Confidence Interval for male proportion: (0.467, 0.553)\n"
     ]
    }
   ],
   "source": [
    "print(\"\\nBinomial Test (p=0.4):\")\n",
    "print(f\"p-value: {binom_result_40:.6f}\")\n",
    "print(f\"95% Confidence Interval for male proportion: ({ci_binom_40[0]:.3f}, {ci_binom_40[1]:.3f})\")"
   ]
  },
  {
   "cell_type": "raw",
   "id": "06625b22-4c16-46b3-9514-f7a88956f5c7",
   "metadata": {},
   "source": [
    "Izah:\n",
    "\n",
    "    Müşahidə olunan kişi nisbəti təqribən 49%-dir, lakin biz yoxlayırıq ki, bu nisbət 40% ola bilərmi?\n",
    "\n",
    "    p-value = 0.00003786 - bu çox kiçik bir dəyərdir, yəni müşahidə etdiyimiz nəticə (49%) nəzəri ehtimal olan 40%-lə statistik baxımdan uyğun gəlmir.\n",
    "\n",
    "    95% güvən intervalı (0.446 - 0.535) - bu interval 0.40-ı əhatə etmir, bu da H₀-nin rədd edilməsi üçün əlavə sübutdur."
   ]
  },
  {
   "cell_type": "raw",
   "id": "b27b15e7-8b13-4393-9671-c1185094192d",
   "metadata": {},
   "source": [
    "Nəticə (Yekun qərar):\n",
    "\n",
    "    H₀ hipotezi rədd edilmir.Yəni kişilərin nisbəti 40%-dən statistik cəhətdən əhəmiyyətli dərəcədə fərqlidir.\n",
    "\n",
    "    Qısaca - Əgər biri desə ki, \"kişilərin nisbəti 40%-dir\", bu test göstərir ki, yox, deyil - əslində 49% müşahidə olunub və bu fərq təsadüfi deyil, əhəmiyyətlidir."
   ]
  },
  {
   "cell_type": "markdown",
   "id": "f8c9bb5c-86b3-4d8f-9931-7401de4cd8b3",
   "metadata": {},
   "source": [
    "## \"Chi-Square\" Test"
   ]
  },
  {
   "cell_type": "code",
   "execution_count": 12,
   "id": "307ddaea-6481-4094-a94c-b394111d94da",
   "metadata": {},
   "outputs": [],
   "source": [
    "#Məqsəd: Təhsil səviyyəsinin (educ) bərabər ehtimallarla paylanıb-paylanmadığını yoxlamaq.\n",
    "\n",
    "educ_counts = data['educ'].value_counts()\n",
    "n_categories = len(educ_counts)\n",
    "expected_prop = 1 / n_categories\n",
    "expected_counts = np.array([total_count * expected_prop] * n_categories)"
   ]
  },
  {
   "cell_type": "code",
   "execution_count": 13,
   "id": "da494b6f-f58f-4b86-8ffd-a4802645df9e",
   "metadata": {},
   "outputs": [
    {
     "name": "stdout",
     "output_type": "stream",
     "text": [
      "\n",
      "Education Level Distribution:\n",
      "educ\n",
      "High school degree              132\n",
      "Did not complete high school    125\n",
      "Some college                    113\n",
      "College degree                  113\n",
      "Post-undergraduate degree        27\n",
      "Name: count, dtype: int64\n"
     ]
    }
   ],
   "source": [
    "print(\"\\nEducation Level Distribution:\")\n",
    "print(educ_counts)"
   ]
  },
  {
   "cell_type": "code",
   "execution_count": 14,
   "id": "39cd3a54-2cbf-4927-875b-88abc97d56c3",
   "metadata": {},
   "outputs": [],
   "source": [
    "chi2_stat, chi2_p = stats.chisquare(educ_counts, f_exp=expected_counts)"
   ]
  },
  {
   "cell_type": "code",
   "execution_count": 15,
   "id": "bd809ced-b006-4223-ac37-aa9924a36af4",
   "metadata": {},
   "outputs": [
    {
     "name": "stdout",
     "output_type": "stream",
     "text": [
      "\n",
      "Chi-Square Test (Equal Probabilities):\n",
      "Chi-square statistic: 71.529\n",
      "p-value: 0.0000\n"
     ]
    }
   ],
   "source": [
    "print(\"\\nChi-Square Test (Equal Probabilities):\")\n",
    "print(f\"Chi-square statistic: {chi2_stat:.3f}\")\n",
    "print(f\"p-value: {chi2_p:.4f}\")"
   ]
  },
  {
   "cell_type": "raw",
   "id": "b4615722-9fe3-4353-96aa-80ba03f071f2",
   "metadata": {},
   "source": [
    "Izah:\n",
    "\n",
    "    Chi-Square statistikası çox böyükdür (71.529) - Bu o deməkdir ki, müşahidə olunan tezliklərlə nəzəri tezliklər arasında böyük fərq var.\n",
    "\n",
    "    p-value çox kiçikdir - 0.05-dən (və hətta 0.01-dən) çox kiçik, deməli bu fərq statistik olaraq əhəmiyyətlidir."
   ]
  },
  {
   "cell_type": "raw",
   "id": "beee197e-a946-48b7-b330-059bafcbdd09",
   "metadata": {},
   "source": [
    "Nəticə (Yekun qərar):\n",
    "\n",
    "H₀ hipotezi qəti şəkildə rədd edilir. Yəni təhsil səviyyələri bərabər ehtimalla (20% hər bir səviyyə üçün) paylanmayıb. Müşahidə olunan bölgü bərabər paylamadan əhəmiyyətli dərəcədə fərqlənir.\n",
    "\n",
    "Qısaca - Təhsil səviyyələrinin paylanması təsadüfi və bərabər deyil. Bəzi səviyyələr daha çox, bəziləri isə daha az təmsil olunub. Bu nəticə çox güclü statistik sübutla təsdiqlənir."
   ]
  },
  {
   "cell_type": "code",
   "execution_count": 16,
   "id": "fa52d7f2-3a8f-462e-b4b2-930d2b02eca9",
   "metadata": {},
   "outputs": [],
   "source": [
    "expected_values = expected_counts #gözlənilən dəyərlər - (nəzəri ehtimallara əsasən)\n",
    "#Bu dəyərlər, bərabər ehtimallı paylama fərziyyəsinə əsasən hesablanıb. \n",
    "#Çünki 510 nəfər var və 5 təhsil səviyyəsi - hər biri üçün 510 / 5 = 102 nəfər gözlənilir.\n",
    "\n",
    "residuals = (educ_counts - expected_values) / np.sqrt(expected_values) #qalıq dəyərlər = müşahidə - gözlənilən\n",
    "#Müsbət qalıq - Gözləniləndən çox müşahidə edilib\n",
    "#Mənfi qalıq - Gözləniləndən az müşahidə edilib\n",
    "\n",
    "std_residuals = residuals / np.sqrt(1 - expected_prop) #standartlaşdırılmış qalıqlar - Qalıqların standartlaşdırılmış forması (yəni z-score formasında)\n",
    "# |z| > 2 - statistik olaraq əhəmiyyətli fərq var\n",
    "# |z| > 3 - çox əhəmiyyətli fərq"
   ]
  },
  {
   "cell_type": "code",
   "execution_count": 17,
   "id": "fb91fcf2-f974-4d02-a95d-6824f06d2fe7",
   "metadata": {},
   "outputs": [
    {
     "name": "stdout",
     "output_type": "stream",
     "text": [
      "\n",
      "Expected Values:\n",
      "[102. 102. 102. 102. 102.]\n",
      "\n",
      "Residuals:\n",
      "educ\n",
      "High school degree              2.970443\n",
      "Did not complete high school    2.277339\n",
      "Some college                    1.089162\n",
      "College degree                  1.089162\n",
      "Post-undergraduate degree      -7.426107\n",
      "Name: count, dtype: float64\n",
      "\n",
      "Standardized Residuals:\n",
      "educ\n",
      "High school degree              3.321056\n",
      "Did not complete high school    2.546143\n",
      "Some college                    1.217720\n",
      "College degree                  1.217720\n",
      "Post-undergraduate degree      -8.302640\n",
      "Name: count, dtype: float64\n"
     ]
    }
   ],
   "source": [
    "print(\"\\nExpected Values:\")\n",
    "print(expected_values)\n",
    "print(\"\\nResiduals:\")\n",
    "print(residuals)\n",
    "print(\"\\nStandardized Residuals:\")\n",
    "print(std_residuals)"
   ]
  },
  {
   "cell_type": "code",
   "execution_count": 18,
   "id": "d2370819-78fe-4235-9bc2-98a5682a8867",
   "metadata": {},
   "outputs": [
    {
     "data": {
      "text/plain": [
       "array([153., 153., 102.,  51.,  51.])"
      ]
     },
     "execution_count": 18,
     "metadata": {},
     "output_type": "execute_result"
    }
   ],
   "source": [
    "#Qeyri-bərabər nəzəri ehtimallarla Chi-Square Test - nin yerinə yetirilməsi.\n",
    "\n",
    "custom_probs = [0.30, 0.30, 0.20, 0.10, 0.10]\n",
    "expected_custom = np.array(custom_probs) * total_count\n",
    "expected_custom"
   ]
  },
  {
   "cell_type": "code",
   "execution_count": 19,
   "id": "bacd46c9-0bac-4d55-bb20-bc1fa61cd7f2",
   "metadata": {},
   "outputs": [],
   "source": [
    "chi2_stat_custom, chi2_p_custom = stats.chisquare(educ_counts, f_exp=expected_custom)"
   ]
  },
  {
   "cell_type": "code",
   "execution_count": 20,
   "id": "18a1a53b-088f-4250-aaf3-fc88b99bd2ca",
   "metadata": {},
   "outputs": [
    {
     "name": "stdout",
     "output_type": "stream",
     "text": [
      "\n",
      "Chi-Square Test (Custom Probabilities [0.3, 0.3, 0.2, 0.1, 0.1]):\n",
      "Chi-square statistic: 95.859\n",
      "p-value: 0.0000\n",
      "\n",
      "Expected Values (Custom Probabilities):\n",
      "[153. 153. 102.  51.  51.]\n"
     ]
    }
   ],
   "source": [
    "print(\"\\nChi-Square Test (Custom Probabilities [0.3, 0.3, 0.2, 0.1, 0.1]):\")\n",
    "print(f\"Chi-square statistic: {chi2_stat_custom:.3f}\")\n",
    "print(f\"p-value: {chi2_p_custom:.4f}\")\n",
    "print(\"\\nExpected Values (Custom Probabilities):\")\n",
    "print(expected_custom)"
   ]
  },
  {
   "cell_type": "code",
   "execution_count": null,
   "id": "38efcff8-465d-4ef6-bd68-e9e5e681a2bc",
   "metadata": {},
   "outputs": [],
   "source": []
  }
 ],
 "metadata": {
  "kernelspec": {
   "display_name": "Python 3 (ipykernel)",
   "language": "python",
   "name": "python3"
  },
  "language_info": {
   "codemirror_mode": {
    "name": "ipython",
    "version": 3
   },
   "file_extension": ".py",
   "mimetype": "text/x-python",
   "name": "python",
   "nbconvert_exporter": "python",
   "pygments_lexer": "ipython3",
   "version": "3.11.7"
  }
 },
 "nbformat": 4,
 "nbformat_minor": 5
}
