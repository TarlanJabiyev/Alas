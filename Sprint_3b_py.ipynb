{
 "cells": [
  {
   "cell_type": "markdown",
   "id": "16a4c2d6-979a-432c-a13b-815332f95d6a",
   "metadata": {},
   "source": [
    "## Funksiya yaratmaq"
   ]
  },
  {
   "cell_type": "code",
   "execution_count": 1,
   "id": "e0a4df21-4efc-4a8e-80ea-ae4d2cc06a04",
   "metadata": {},
   "outputs": [],
   "source": [
    "def func_1():\n",
    "    print(\"Ilk funksiyam\")"
   ]
  },
  {
   "cell_type": "code",
   "execution_count": 2,
   "id": "05ef4929-25be-44ad-a78f-906d4025f022",
   "metadata": {},
   "outputs": [
    {
     "name": "stdout",
     "output_type": "stream",
     "text": [
      "Ilk funksiyam\n"
     ]
    }
   ],
   "source": [
    "func_1()"
   ]
  },
  {
   "cell_type": "code",
   "execution_count": 3,
   "id": "78360bd0-c31d-4fcf-8e14-b7fbc9dfe8f6",
   "metadata": {},
   "outputs": [],
   "source": [
    "def func_2(ad, soyad):\n",
    "    print(\"Mənim adım {}, soyadım {}dir.\".format(ad, soyad))"
   ]
  },
  {
   "cell_type": "code",
   "execution_count": 4,
   "id": "c1be741f-de43-4623-8318-aa7627ac8a40",
   "metadata": {},
   "outputs": [
    {
     "name": "stdout",
     "output_type": "stream",
     "text": [
      "Mənim adım Tərlan, soyadım Cəbiyevdir.\n"
     ]
    }
   ],
   "source": [
    "func_2(\"Tərlan\", \"Cəbiyev\")"
   ]
  },
  {
   "cell_type": "code",
   "execution_count": 5,
   "id": "e5a0af4b-4119-4246-96f0-5a9c6967fe01",
   "metadata": {},
   "outputs": [
    {
     "name": "stdout",
     "output_type": "stream",
     "text": [
      "Mənim adım X, soyadım Ydir.\n"
     ]
    }
   ],
   "source": [
    "def func_2(ad = 'X', soyad = 'Y'):\n",
    "    print(\"Mənim adım {}, soyadım {}dir.\".format(ad, soyad))\n",
    "    \n",
    "func_2()"
   ]
  },
  {
   "cell_type": "code",
   "execution_count": 6,
   "id": "55c15f1a-ac28-4757-8726-92d3a0db4cf9",
   "metadata": {},
   "outputs": [
    {
     "name": "stdout",
     "output_type": "stream",
     "text": [
      "Mənim adım Tərlan, soyadım Cəbiyevdir.\n"
     ]
    }
   ],
   "source": [
    "func_2(\"Tərlan\", \"Cəbiyev\")"
   ]
  },
  {
   "cell_type": "code",
   "execution_count": 7,
   "id": "bffaf48d-6572-4fa4-9fd2-e41f05891c05",
   "metadata": {},
   "outputs": [],
   "source": [
    "def func_3(x):\n",
    "    i = 0\n",
    "    while i < x:\n",
    "        print(i)\n",
    "        i += 1"
   ]
  },
  {
   "cell_type": "code",
   "execution_count": 8,
   "id": "7bbe24c6-827e-4610-9f56-69e1eab1c611",
   "metadata": {},
   "outputs": [
    {
     "name": "stdout",
     "output_type": "stream",
     "text": [
      "0\n",
      "1\n",
      "2\n",
      "3\n",
      "4\n"
     ]
    }
   ],
   "source": [
    "func_3(5)"
   ]
  },
  {
   "cell_type": "code",
   "execution_count": 9,
   "id": "9805ab37-305e-457c-a4f4-196512f89aa6",
   "metadata": {},
   "outputs": [],
   "source": [
    "def func_4(x, y):\n",
    "    for i in range(x, y):\n",
    "        print(i)"
   ]
  },
  {
   "cell_type": "code",
   "execution_count": 10,
   "id": "fdc3a8f0-ba49-4289-85de-2127ea74ec11",
   "metadata": {},
   "outputs": [
    {
     "name": "stdout",
     "output_type": "stream",
     "text": [
      "5\n",
      "6\n",
      "7\n",
      "8\n"
     ]
    }
   ],
   "source": [
    "func_4(5, 9)"
   ]
  },
  {
   "cell_type": "code",
   "execution_count": 11,
   "id": "1494ed40-0c3b-4469-b339-40ecd1ec940a",
   "metadata": {},
   "outputs": [],
   "source": [
    "def func_5(x):\n",
    "    for x in x:\n",
    "        print(x)"
   ]
  },
  {
   "cell_type": "code",
   "execution_count": 12,
   "id": "8fc38360-35fa-4976-af83-c01ff0492743",
   "metadata": {},
   "outputs": [
    {
     "name": "stdout",
     "output_type": "stream",
     "text": [
      "a\n",
      "b\n",
      "c\n",
      "d\n",
      "e\n"
     ]
    }
   ],
   "source": [
    "h = ['a','b','c','d','e']\n",
    "\n",
    "func_5(h)"
   ]
  },
  {
   "cell_type": "code",
   "execution_count": 13,
   "id": "b9e38e3e-d0e1-44be-b927-efdaf51932fa",
   "metadata": {},
   "outputs": [],
   "source": [
    "def ortalama(x):\n",
    "    s = sum(x)\n",
    "    n = len(x)\n",
    "    return s / n"
   ]
  },
  {
   "cell_type": "code",
   "execution_count": 14,
   "id": "3fe1e234-3107-4631-b771-34adef994f20",
   "metadata": {},
   "outputs": [
    {
     "data": {
      "text/plain": [
       "5.5"
      ]
     },
     "execution_count": 14,
     "metadata": {},
     "output_type": "execute_result"
    }
   ],
   "source": [
    "ortalama(range(1,11))"
   ]
  },
  {
   "cell_type": "code",
   "execution_count": 15,
   "id": "7cf42b49-1ddf-4a42-9fa0-dfb9c1ae7c62",
   "metadata": {},
   "outputs": [],
   "source": [
    "def ortalama(y, hesab = True):\n",
    "    n = len(y)\n",
    "    if hesab:\n",
    "        return sum(y) / n\n",
    "    else:\n",
    "        return sum(y) + 7777"
   ]
  },
  {
   "cell_type": "code",
   "execution_count": 16,
   "id": "a84da785-d757-4786-9ccc-0df0bddc34af",
   "metadata": {},
   "outputs": [
    {
     "name": "stdout",
     "output_type": "stream",
     "text": [
      "50.5\n",
      "12827\n"
     ]
    }
   ],
   "source": [
    "y = range(1, 101)  \n",
    "\n",
    "print(ortalama(y, hesab = True))  \n",
    "print(ortalama(y, hesab = False)) "
   ]
  },
  {
   "cell_type": "code",
   "execution_count": 17,
   "id": "4245d8d4-9596-44fb-ab6c-c0bebc680809",
   "metadata": {},
   "outputs": [],
   "source": [
    "def cəm_1(x):\n",
    "    tot = 0\n",
    "    for rəqəm in x:\n",
    "        tot += rəqəm\n",
    "    return tot"
   ]
  },
  {
   "cell_type": "code",
   "execution_count": 18,
   "id": "ce1eb688-dca6-46ce-a031-978b41dbee2e",
   "metadata": {},
   "outputs": [
    {
     "data": {
      "text/plain": [
       "10"
      ]
     },
     "execution_count": 18,
     "metadata": {},
     "output_type": "execute_result"
    }
   ],
   "source": [
    "numbers = [1,2,3,4]\n",
    "\n",
    "cəm_1(numbers)"
   ]
  },
  {
   "cell_type": "markdown",
   "id": "80ec32c3-6552-43d3-8059-674bd4f7e3a1",
   "metadata": {},
   "source": [
    "## Scope(local, global)"
   ]
  },
  {
   "cell_type": "code",
   "execution_count": 60,
   "id": "9bb22c3e-24fa-4c28-b630-bdc91fa586b8",
   "metadata": {},
   "outputs": [
    {
     "name": "stdout",
     "output_type": "stream",
     "text": [
      "Bu local dəyişəndir.\n"
     ]
    }
   ],
   "source": [
    "def func_6():\n",
    "    local_dəyişən = \"Bu local dəyişəndir.\"\n",
    "    print(local_dəyişən)\n",
    "\n",
    "func_6()"
   ]
  },
  {
   "cell_type": "code",
   "execution_count": 61,
   "id": "4718bfb6-4c13-4aba-913a-c10754e2c6db",
   "metadata": {},
   "outputs": [
    {
     "name": "stdout",
     "output_type": "stream",
     "text": [
      "Bu global dəyişəndir.\n"
     ]
    }
   ],
   "source": [
    "global_dəyişən = \"Bu global dəyişəndir.\"\n",
    "\n",
    "def func_7():\n",
    "    print(global_dəyişən) \n",
    "\n",
    "func_7()"
   ]
  },
  {
   "cell_type": "code",
   "execution_count": 66,
   "id": "7038873e-d6d7-444a-86fe-41c1ad8baa30",
   "metadata": {},
   "outputs": [
    {
     "name": "stdout",
     "output_type": "stream",
     "text": [
      "Local y: 10\n",
      "Global y: 5\n"
     ]
    }
   ],
   "source": [
    "y = 5\n",
    "\n",
    "def func_8():\n",
    "    y = 10 \n",
    "    print(\"Local y:\", y)\n",
    "\n",
    "func_8()\n",
    "print(\"Global y:\", y)"
   ]
  },
  {
   "cell_type": "markdown",
   "id": "55d6a2fd-8939-41be-8b4b-0bb16883fc17",
   "metadata": {},
   "source": [
    "## *args, **kwargs"
   ]
  },
  {
   "cell_type": "code",
   "execution_count": 19,
   "id": "c74dc2aa-5644-4daf-ad53-09f6d9eed7c0",
   "metadata": {},
   "outputs": [],
   "source": [
    "def cəm_2(*args):\n",
    "    return sum(args)"
   ]
  },
  {
   "cell_type": "code",
   "execution_count": 20,
   "id": "071e1f0f-30ae-4636-abec-e3677d3a5905",
   "metadata": {},
   "outputs": [
    {
     "name": "stdout",
     "output_type": "stream",
     "text": [
      "6\n",
      "30\n"
     ]
    }
   ],
   "source": [
    "print(cəm_2(1, 2, 3))\n",
    "print(cəm_2(10, 20))"
   ]
  },
  {
   "cell_type": "code",
   "execution_count": 21,
   "id": "51ebbb59-faaf-43bc-9241-1caf842f362e",
   "metadata": {},
   "outputs": [],
   "source": [
    "def cəm_3(*args):\n",
    "    cəm = 0\n",
    "    for rəqəm in args:\n",
    "        cəm += rəqəm \n",
    "    return(cəm)"
   ]
  },
  {
   "cell_type": "code",
   "execution_count": 22,
   "id": "1cbda584-6310-454a-9099-de65856cb5fe",
   "metadata": {},
   "outputs": [
    {
     "data": {
      "text/plain": [
       "25"
      ]
     },
     "execution_count": 22,
     "metadata": {},
     "output_type": "execute_result"
    }
   ],
   "source": [
    "cəm_3(3,5,7,10)"
   ]
  },
  {
   "cell_type": "code",
   "execution_count": 23,
   "id": "fd44599f-234d-4325-ae8e-76495c9c4911",
   "metadata": {},
   "outputs": [],
   "source": [
    "def ortalama_2(*args):\n",
    "    cəm = 0\n",
    "    say = 0\n",
    "    for rəqəm in args:\n",
    "        cəm += rəqəm\n",
    "        say += 1\n",
    "    if say == 0:  \n",
    "        return \"Element yoxdur.\"\n",
    "    return cəm / say"
   ]
  },
  {
   "cell_type": "code",
   "execution_count": 24,
   "id": "372b045d-c24a-4759-a203-22665ad70a7c",
   "metadata": {},
   "outputs": [
    {
     "data": {
      "text/plain": [
       "6.25"
      ]
     },
     "execution_count": 24,
     "metadata": {},
     "output_type": "execute_result"
    }
   ],
   "source": [
    "ortalama_2(3,5,7,10)"
   ]
  },
  {
   "cell_type": "code",
   "execution_count": 25,
   "id": "e8ea6975-1d54-408e-913b-b1375f4cd7af",
   "metadata": {},
   "outputs": [],
   "source": [
    "def ad_rəqəm(**kwargs):\n",
    "    for ad, rəqəm in kwargs.items():\n",
    "        print(\"ad: {}, rəqəm: {}\".format(ad, rəqəm))"
   ]
  },
  {
   "cell_type": "code",
   "execution_count": 26,
   "id": "d9f3e630-5fbc-4660-983d-dfd7420af457",
   "metadata": {},
   "outputs": [
    {
     "name": "stdout",
     "output_type": "stream",
     "text": [
      "ad: bir, rəqəm: 1\n",
      "ad: iki, rəqəm: 2\n",
      "ad: üç, rəqəm: 3\n"
     ]
    }
   ],
   "source": [
    "ad_rəqəm(bir = 1, iki = 2, üç = 3)"
   ]
  },
  {
   "cell_type": "code",
   "execution_count": 27,
   "id": "bd53c6b2-1511-4b02-8610-a71a34d0f914",
   "metadata": {},
   "outputs": [],
   "source": [
    "def qarışıq_funksiya(ad, *args, **kwargs):\n",
    "    print(f\"Ad: {ad}\")\n",
    "    print(\"Alətlər\", args)\n",
    "    print(\"Əlavə məlumatlar:\", kwargs)"
   ]
  },
  {
   "cell_type": "code",
   "execution_count": 28,
   "id": "4443e33c-65c4-4b3f-97ee-0f09660cd15e",
   "metadata": {},
   "outputs": [
    {
     "name": "stdout",
     "output_type": "stream",
     "text": [
      "Ad: Data Science\n",
      "Alətlər ('Python', 'R')\n",
      "Əlavə məlumatlar: {'məktəb': 'Alas Acadmy', 'məkan': 'AF Business House'}\n"
     ]
    }
   ],
   "source": [
    "qarışıq_funksiya('Data Science', 'Python', 'R', məktəb = 'Alas Acadmy', məkan = 'AF Business House')"
   ]
  },
  {
   "cell_type": "markdown",
   "id": "28c12404-4ee4-4d2a-b50b-6a0150c2d78f",
   "metadata": {},
   "source": [
    "## Zip"
   ]
  },
  {
   "cell_type": "code",
   "execution_count": 29,
   "id": "9158ccb8-c4a8-45fa-90ac-8641ffd44c27",
   "metadata": {},
   "outputs": [
    {
     "name": "stdout",
     "output_type": "stream",
     "text": [
      "A - 1\n",
      "B - 2\n",
      "C - 3\n"
     ]
    }
   ],
   "source": [
    "hərflər = ['A','B','C']\n",
    "rəqəmlər = [1, 2, 3]\n",
    "\n",
    "for h, r in zip(hərflər, rəqəmlər):\n",
    "    print(f\"{h} - {r}\")"
   ]
  },
  {
   "cell_type": "code",
   "execution_count": 30,
   "id": "5d9fed08-f0f3-4cc5-8e89-6efaaf59f820",
   "metadata": {},
   "outputs": [],
   "source": [
    "def çəkili_ortalama(rəqəmlər, çəkilər):\n",
    "    if len(rəqəmlər) != len(çəkişlər):\n",
    "        return \"Rəqəmlər və çəkilər eyni uzunluqda olmalıdır.\"\n",
    "    cəmi = 0\n",
    "    çəkili_cəmi = 0\n",
    "    for rəqəm, çəki in zip(rəqəmlər, çəkilər):\n",
    "        çəkili_cəmi += rəqəm * çəki\n",
    "        cəmi += çəki\n",
    "    if cəmi == 0:\n",
    "        return \"Çəkilərin cəmi sıfır ola bilməz.\"\n",
    "    return çəkili_cəmi / cəmi"
   ]
  },
  {
   "cell_type": "code",
   "execution_count": 31,
   "id": "4aa25b37-f7cd-47f5-b7b3-e1be5a942333",
   "metadata": {},
   "outputs": [
    {
     "data": {
      "text/plain": [
       "83.0"
      ]
     },
     "execution_count": 31,
     "metadata": {},
     "output_type": "execute_result"
    }
   ],
   "source": [
    "rəqəmlər = [90, 80, 70]\n",
    "çəkişlər = [0.5, 0.3, 0.2]\n",
    "çəkili_ortalama(rəqəmlər, çəkişlər)"
   ]
  },
  {
   "cell_type": "markdown",
   "id": "49511457-c00e-4a49-96f4-900d1c60f303",
   "metadata": {},
   "source": [
    "## Isinstance"
   ]
  },
  {
   "cell_type": "code",
   "execution_count": 32,
   "id": "642de3dd-5733-4303-b1a9-f2e36b702c7c",
   "metadata": {},
   "outputs": [
    {
     "name": "stdout",
     "output_type": "stream",
     "text": [
      "True\n",
      "True\n",
      "True\n",
      "True\n"
     ]
    }
   ],
   "source": [
    "print(isinstance(10, int))\n",
    "print(isinstance(3.14, float))\n",
    "print(isinstance(\"Salam\", str))\n",
    "print(isinstance([1, 2, 3], list)) "
   ]
  },
  {
   "cell_type": "code",
   "execution_count": 33,
   "id": "e45ff9e5-bbe5-4f31-ac72-e78a2c2b92f2",
   "metadata": {},
   "outputs": [],
   "source": [
    "def func_9(x):\n",
    "    if isinstance(x, (int, float)): \n",
    "        print('numeric')\n",
    "    else:\n",
    "        print('not numeric')"
   ]
  },
  {
   "cell_type": "code",
   "execution_count": 34,
   "id": "da2e8811-eaff-4c1e-935f-28650b43e2a0",
   "metadata": {},
   "outputs": [
    {
     "name": "stdout",
     "output_type": "stream",
     "text": [
      "numeric\n"
     ]
    }
   ],
   "source": [
    "func_9(51)"
   ]
  },
  {
   "cell_type": "code",
   "execution_count": 35,
   "id": "1de3461b-0e08-429f-afa7-2864f1e39956",
   "metadata": {},
   "outputs": [
    {
     "name": "stdout",
     "output_type": "stream",
     "text": [
      "not numeric\n"
     ]
    }
   ],
   "source": [
    "func_9(\"əlli bir\")"
   ]
  },
  {
   "cell_type": "code",
   "execution_count": 36,
   "id": "3b824ce4-1897-4137-9e01-c1f803e4f712",
   "metadata": {},
   "outputs": [],
   "source": [
    "def func_10(dəyər):\n",
    "    if isinstance(dəyər, str):\n",
    "        print(\"Bu mətn tipindədir.\")\n",
    "    elif isinstance(dəyər, (int, float)):\n",
    "        print(\"Bu rəqəm tipindədir.\")\n",
    "    else:\n",
    "        print(\"Bu digər tipdədir.\")"
   ]
  },
  {
   "cell_type": "code",
   "execution_count": 37,
   "id": "b423c406-61d3-423f-bdf8-dd31bc9f6d40",
   "metadata": {},
   "outputs": [
    {
     "name": "stdout",
     "output_type": "stream",
     "text": [
      "Bu rəqəm tipindədir.\n",
      "Bu mətn tipindədir.\n"
     ]
    }
   ],
   "source": [
    "func_10(100)\n",
    "func_10(\"Salam\")"
   ]
  },
  {
   "cell_type": "markdown",
   "id": "1a8dd967-0bd2-4362-870e-3fa10322509a",
   "metadata": {},
   "source": [
    "## Input"
   ]
  },
  {
   "cell_type": "code",
   "execution_count": 38,
   "id": "9687c70f-5c1b-4173-a324-4bb4862c1943",
   "metadata": {},
   "outputs": [
    {
     "name": "stdin",
     "output_type": "stream",
     "text": [
      "Adınızı daxil edin:  Tərlan\n"
     ]
    },
    {
     "name": "stdout",
     "output_type": "stream",
     "text": [
      "Salam, Tərlan👋\n"
     ]
    }
   ],
   "source": [
    "ad = input(\"Adınızı daxil edin: \")\n",
    "print(f\"Salam, {ad}👋\")"
   ]
  },
  {
   "cell_type": "code",
   "execution_count": 39,
   "id": "ab88f3d5-0bed-40fe-b8d2-cf27c0a307dd",
   "metadata": {},
   "outputs": [
    {
     "name": "stdin",
     "output_type": "stream",
     "text": [
      "Adınızı daxil edin:  Tərlan\n",
      "Yaşınızı daxil edin:  27\n"
     ]
    },
    {
     "name": "stdout",
     "output_type": "stream",
     "text": [
      "Tərlan 27\n"
     ]
    }
   ],
   "source": [
    "ad = input(\"Adınızı daxil edin: \")\n",
    "yaş = int(input(\"Yaşınızı daxil edin: \"))\n",
    "print(f\"{ad} {yaş}\")\n"
   ]
  },
  {
   "cell_type": "code",
   "execution_count": 1,
   "id": "ad13d5b2-e86d-4dfa-a137-a70fc95f2cca",
   "metadata": {},
   "outputs": [
    {
     "name": "stdin",
     "output_type": "stream",
     "text": [
      "Yaşınızı daxil edin:  27\n"
     ]
    },
    {
     "name": "stdout",
     "output_type": "stream",
     "text": [
      "Siz yetkinlik yaşına çatmısınız.\n"
     ]
    }
   ],
   "source": [
    "yas = int(input(\"Yaşınızı daxil edin: \"))\n",
    "if yas < 18:\n",
    "    print(\"Siz yetkinlik yaşına çatmamısınız.\")\n",
    "else:\n",
    "    print(\"Siz yetkinlik yaşına çatmısınız.\")"
   ]
  },
  {
   "cell_type": "code",
   "execution_count": 4,
   "id": "01ccaed5-9f90-4023-8bee-b0d70ee62a3d",
   "metadata": {},
   "outputs": [
    {
     "name": "stdin",
     "output_type": "stream",
     "text": [
      "Boyunuzu (metrlə) daxil edin:  1.74\n",
      "Çəkinizi (kq ilə) daxil edin:  65\n"
     ]
    },
    {
     "name": "stdout",
     "output_type": "stream",
     "text": [
      "Sizin BMI-niz: 21.47\n"
     ]
    }
   ],
   "source": [
    "boy = float(input(\"Boyunuzu (metrlə) daxil edin: \"))\n",
    "ceki = float(input(\"Çəkinizi (kq ilə) daxil edin: \"))\n",
    "bmi = ceki / (boy ** 2)\n",
    "print(f\"Sizin BMI-niz: {bmi:.2f}\")"
   ]
  },
  {
   "cell_type": "code",
   "execution_count": 8,
   "id": "809fc0b5-5191-4661-ba40-ed1d803064b5",
   "metadata": {},
   "outputs": [
    {
     "name": "stdin",
     "output_type": "stream",
     "text": [
      "Sevdiyiniz sözü daxil edin:  söz\n"
     ]
    },
    {
     "name": "stdout",
     "output_type": "stream",
     "text": [
      "Daxil etdiyiniz söz 'söz' 3 simvoldan ibarətdir.\n"
     ]
    }
   ],
   "source": [
    "söz = input(\"Sevdiyiniz sözü daxil edin: \")\n",
    "uzunluq = len(söz)\n",
    "print(f\"Daxil etdiyiniz söz '{söz}' {uzunluq} simvoldan ibarətdir.\")"
   ]
  },
  {
   "cell_type": "code",
   "execution_count": 9,
   "id": "0237cdf9-ab5d-46f6-9ca2-a0b051443145",
   "metadata": {},
   "outputs": [
    {
     "name": "stdin",
     "output_type": "stream",
     "text": [
      "Bir mətn daxil edin:  qüertyuio\n"
     ]
    },
    {
     "name": "stdout",
     "output_type": "stream",
     "text": [
      "Tərs mətn: oiuytreüq\n"
     ]
    }
   ],
   "source": [
    "metn = input(\"Bir mətn daxil edin: \")\n",
    "ters_metn = metn[::-1]\n",
    "print(f\"Tərs mətn: {ters_metn}\")"
   ]
  },
  {
   "cell_type": "code",
   "execution_count": 11,
   "id": "a5d00950-47a9-46ab-b52c-e4964ebf03a1",
   "metadata": {},
   "outputs": [
    {
     "name": "stdin",
     "output_type": "stream",
     "text": [
      "Çay (1), yoxsa qəhvə (2)?  3\n"
     ]
    },
    {
     "name": "stdout",
     "output_type": "stream",
     "text": [
      "Yanlış seçim etdiniz!\n"
     ]
    }
   ],
   "source": [
    "seçim = input(\"Çay (1), yoxsa qəhvə (2)? \")\n",
    "if seçim == \"1\":\n",
    "    print(\"Çay hazırlanır...\")\n",
    "elif seçim == \"2\":\n",
    "    print(\"Qəhvə hazırlanır...\")\n",
    "else:\n",
    "    print(\"Yanlış seçim etdiniz!\")"
   ]
  },
  {
   "cell_type": "code",
   "execution_count": null,
   "id": "e98b8354-0575-4356-a0f8-50d0c6ab4986",
   "metadata": {},
   "outputs": [],
   "source": []
  }
 ],
 "metadata": {
  "kernelspec": {
   "display_name": "Python 3 (ipykernel)",
   "language": "python",
   "name": "python3"
  },
  "language_info": {
   "codemirror_mode": {
    "name": "ipython",
    "version": 3
   },
   "file_extension": ".py",
   "mimetype": "text/x-python",
   "name": "python",
   "nbconvert_exporter": "python",
   "pygments_lexer": "ipython3",
   "version": "3.11.6"
  }
 },
 "nbformat": 4,
 "nbformat_minor": 5
}
