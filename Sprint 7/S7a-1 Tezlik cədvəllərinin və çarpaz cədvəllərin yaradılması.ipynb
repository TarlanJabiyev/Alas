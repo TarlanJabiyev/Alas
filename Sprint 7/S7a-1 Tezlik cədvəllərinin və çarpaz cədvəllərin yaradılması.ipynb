{
 "cells": [
  {
   "cell_type": "markdown",
   "id": "0642b403-f4c2-4fd7-9e26-3c26071ec2db",
   "metadata": {},
   "source": [
    "## Tezlik cədvəlləri (Frequency Tables)"
   ]
  },
  {
   "cell_type": "code",
   "execution_count": 1,
   "id": "638cffe4-5f64-4d8a-9be0-3eafce7a4fa1",
   "metadata": {},
   "outputs": [],
   "source": [
    "import pandas as pd\n",
    "import numpy as np\n",
    "\n",
    "data = pd.read_csv(\"demographics.csv\")"
   ]
  },
  {
   "cell_type": "code",
   "execution_count": 4,
   "id": "0afa56fb-65a5-44a7-aa31-83bd612f9bf8",
   "metadata": {},
   "outputs": [
    {
     "data": {
      "text/plain": [
       "educ\n",
       "High school degree              132\n",
       "Did not complete high school    125\n",
       "Some college                    113\n",
       "College degree                  113\n",
       "Post-undergraduate degree        27\n",
       "Name: count, dtype: int64"
      ]
     },
     "execution_count": 4,
     "metadata": {},
     "output_type": "execute_result"
    }
   ],
   "source": [
    "# \"educ\"(education level) dəyişəni üçün cədvəl quracağıq \n",
    "# mütləq say (absolute (counts)), kumulyativ mütləq say (cumulative absolute), \n",
    "# nisbət/faiz (relative) və kumulyativ nisbət/faiz (cumulatitve relative)\n",
    "\n",
    "educ_counts = data['educ'].value_counts(dropna=False)\n",
    "educ_counts"
   ]
  },
  {
   "cell_type": "code",
   "execution_count": 9,
   "id": "48596bd3-58ca-4fc4-9e4f-19ba50855027",
   "metadata": {},
   "outputs": [
    {
     "name": "stdout",
     "output_type": "stream",
     "text": [
      "113\n",
      "125\n",
      "132\n",
      "27\n",
      "113\n"
     ]
    }
   ],
   "source": [
    "print(data[(data['educ'] == \"College degree\")].shape[0])\n",
    "print(data[(data['educ'] == \"Did not complete high school\")].shape[0])\n",
    "print(data[(data['educ'] == \"High school degree\")].shape[0])\n",
    "print(data[(data['educ'] == \"Post-undergraduate degree\")].shape[0])\n",
    "print(data[(data['educ'] == \"Some college\")].shape[0])"
   ]
  },
  {
   "cell_type": "code",
   "execution_count": 7,
   "id": "24018f07-74b7-473b-b157-11c21592f20f",
   "metadata": {},
   "outputs": [
    {
     "data": {
      "text/plain": [
       "educ\n",
       "High school degree              132\n",
       "Did not complete high school    257\n",
       "Some college                    370\n",
       "College degree                  483\n",
       "Post-undergraduate degree       510\n",
       "Name: count, dtype: int64"
      ]
     },
     "execution_count": 7,
     "metadata": {},
     "output_type": "execute_result"
    }
   ],
   "source": [
    "# kumulyativ sayların hesablanması\n",
    "\n",
    "cumulative_counts = educ_counts.cumsum()\n",
    "cumulative_counts"
   ]
  },
  {
   "cell_type": "code",
   "execution_count": 10,
   "id": "1877911e-53cd-4e32-bfc7-4b8d8da44d43",
   "metadata": {},
   "outputs": [
    {
     "data": {
      "text/plain": [
       "educ\n",
       "High school degree              0.258824\n",
       "Did not complete high school    0.245098\n",
       "Some college                    0.221569\n",
       "College degree                  0.221569\n",
       "Post-undergraduate degree       0.052941\n",
       "Name: count, dtype: float64"
      ]
     },
     "execution_count": 10,
     "metadata": {},
     "output_type": "execute_result"
    }
   ],
   "source": [
    "# nisbət/faiz (relative) hesablanması\n",
    "\n",
    "relative = data.educ.value_counts(normalize=True)\n",
    "relative"
   ]
  },
  {
   "cell_type": "code",
   "execution_count": 11,
   "id": "e1c8288c-17e3-42d9-9d99-8cccb75dad68",
   "metadata": {},
   "outputs": [
    {
     "data": {
      "text/plain": [
       "educ\n",
       "High school degree              0.258824\n",
       "Did not complete high school    0.503922\n",
       "Some college                    0.725490\n",
       "College degree                  0.947059\n",
       "Post-undergraduate degree       1.000000\n",
       "Name: count, dtype: float64"
      ]
     },
     "execution_count": 11,
     "metadata": {},
     "output_type": "execute_result"
    }
   ],
   "source": [
    "# kumulyativ nisbət/faiz (relative) hesablanması\n",
    "\n",
    "cumulative_relative = cumulative_counts / len(data)\n",
    "cumulative_relative"
   ]
  },
  {
   "cell_type": "code",
   "execution_count": 12,
   "id": "4564a783-9913-43db-aca2-3a3b36fbd24f",
   "metadata": {},
   "outputs": [
    {
     "data": {
      "text/html": [
       "<div>\n",
       "<style scoped>\n",
       "    .dataframe tbody tr th:only-of-type {\n",
       "        vertical-align: middle;\n",
       "    }\n",
       "\n",
       "    .dataframe tbody tr th {\n",
       "        vertical-align: top;\n",
       "    }\n",
       "\n",
       "    .dataframe thead th {\n",
       "        text-align: right;\n",
       "    }\n",
       "</style>\n",
       "<table border=\"1\" class=\"dataframe\">\n",
       "  <thead>\n",
       "    <tr style=\"text-align: right;\">\n",
       "      <th></th>\n",
       "      <th>Freq</th>\n",
       "      <th>Cumul</th>\n",
       "      <th>Relative</th>\n",
       "      <th>CumFreq</th>\n",
       "    </tr>\n",
       "    <tr>\n",
       "      <th>educ</th>\n",
       "      <th></th>\n",
       "      <th></th>\n",
       "      <th></th>\n",
       "      <th></th>\n",
       "    </tr>\n",
       "  </thead>\n",
       "  <tbody>\n",
       "    <tr>\n",
       "      <th>High school degree</th>\n",
       "      <td>132</td>\n",
       "      <td>132</td>\n",
       "      <td>0.258824</td>\n",
       "      <td>0.258824</td>\n",
       "    </tr>\n",
       "    <tr>\n",
       "      <th>Did not complete high school</th>\n",
       "      <td>125</td>\n",
       "      <td>257</td>\n",
       "      <td>0.245098</td>\n",
       "      <td>0.503922</td>\n",
       "    </tr>\n",
       "    <tr>\n",
       "      <th>Some college</th>\n",
       "      <td>113</td>\n",
       "      <td>370</td>\n",
       "      <td>0.221569</td>\n",
       "      <td>0.725490</td>\n",
       "    </tr>\n",
       "    <tr>\n",
       "      <th>College degree</th>\n",
       "      <td>113</td>\n",
       "      <td>483</td>\n",
       "      <td>0.221569</td>\n",
       "      <td>0.947059</td>\n",
       "    </tr>\n",
       "    <tr>\n",
       "      <th>Post-undergraduate degree</th>\n",
       "      <td>27</td>\n",
       "      <td>510</td>\n",
       "      <td>0.052941</td>\n",
       "      <td>1.000000</td>\n",
       "    </tr>\n",
       "  </tbody>\n",
       "</table>\n",
       "</div>"
      ],
      "text/plain": [
       "                              Freq  Cumul  Relative   CumFreq\n",
       "educ                                                         \n",
       "High school degree             132    132  0.258824  0.258824\n",
       "Did not complete high school   125    257  0.245098  0.503922\n",
       "Some college                   113    370  0.221569  0.725490\n",
       "College degree                 113    483  0.221569  0.947059\n",
       "Post-undergraduate degree       27    510  0.052941  1.000000"
      ]
     },
     "execution_count": 12,
     "metadata": {},
     "output_type": "execute_result"
    }
   ],
   "source": [
    "# yekun cədvəlin yaradılması\n",
    "\n",
    "educ_table = pd.DataFrame({\n",
    "    \"Freq\": educ_counts,\n",
    "    \"Cumul\": cumulative_counts,\n",
    "    \"Relative\": relative,\n",
    "    \"CumFreq\": cumulative_relative\n",
    "})\n",
    "\n",
    "educ_table"
   ]
  },
  {
   "cell_type": "markdown",
   "id": "0cd2aa04-948d-4d5b-800e-3a30d6fb8e67",
   "metadata": {},
   "source": [
    "## Çarpaz cədvəllər qurulması (Cross Tables)"
   ]
  },
  {
   "cell_type": "code",
   "execution_count": 13,
   "id": "6d9b13bc-c076-4b03-b976-9ad5c31c74ff",
   "metadata": {},
   "outputs": [
    {
     "data": {
      "text/html": [
       "<div>\n",
       "<style scoped>\n",
       "    .dataframe tbody tr th:only-of-type {\n",
       "        vertical-align: middle;\n",
       "    }\n",
       "\n",
       "    .dataframe tbody tr th {\n",
       "        vertical-align: top;\n",
       "    }\n",
       "\n",
       "    .dataframe thead th {\n",
       "        text-align: right;\n",
       "    }\n",
       "</style>\n",
       "<table border=\"1\" class=\"dataframe\">\n",
       "  <thead>\n",
       "    <tr style=\"text-align: right;\">\n",
       "      <th>carcat</th>\n",
       "      <th>Economy</th>\n",
       "      <th>Luxury</th>\n",
       "      <th>Standard</th>\n",
       "    </tr>\n",
       "    <tr>\n",
       "      <th>gender</th>\n",
       "      <th></th>\n",
       "      <th></th>\n",
       "      <th></th>\n",
       "    </tr>\n",
       "  </thead>\n",
       "  <tbody>\n",
       "    <tr>\n",
       "      <th>Female</th>\n",
       "      <td>67</td>\n",
       "      <td>103</td>\n",
       "      <td>80</td>\n",
       "    </tr>\n",
       "    <tr>\n",
       "      <th>Male</th>\n",
       "      <td>80</td>\n",
       "      <td>87</td>\n",
       "      <td>93</td>\n",
       "    </tr>\n",
       "  </tbody>\n",
       "</table>\n",
       "</div>"
      ],
      "text/plain": [
       "carcat  Economy  Luxury  Standard\n",
       "gender                           \n",
       "Female       67     103        80\n",
       "Male         80      87        93"
      ]
     },
     "execution_count": 13,
     "metadata": {},
     "output_type": "execute_result"
    }
   ],
   "source": [
    "cross_tab = pd.crosstab(data['gender'], data['carcat'])\n",
    "cross_tab"
   ]
  },
  {
   "cell_type": "code",
   "execution_count": null,
   "id": "21af45d1-3538-44fe-b041-630b48a429c5",
   "metadata": {},
   "outputs": [],
   "source": []
  }
 ],
 "metadata": {
  "kernelspec": {
   "display_name": "Python 3 (ipykernel)",
   "language": "python",
   "name": "python3"
  },
  "language_info": {
   "codemirror_mode": {
    "name": "ipython",
    "version": 3
   },
   "file_extension": ".py",
   "mimetype": "text/x-python",
   "name": "python",
   "nbconvert_exporter": "python",
   "pygments_lexer": "ipython3",
   "version": "3.11.7"
  }
 },
 "nbformat": 4,
 "nbformat_minor": 5
}
