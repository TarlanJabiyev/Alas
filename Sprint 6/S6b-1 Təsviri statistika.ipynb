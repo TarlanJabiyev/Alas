{
 "cells": [
  {
   "cell_type": "markdown",
   "id": "b4a2d890-985e-4af1-a029-cb3bad8f21d5",
   "metadata": {},
   "source": [
    "## Statistik göstəricilərin yaradılması"
   ]
  },
  {
   "cell_type": "code",
   "execution_count": 2,
   "id": "a6df60ae-f90e-4495-96b3-06691076dcf8",
   "metadata": {},
   "outputs": [],
   "source": [
    "import pandas as pd"
   ]
  },
  {
   "cell_type": "code",
   "execution_count": 6,
   "id": "a1112531-63ac-49f9-a6b4-bc9302d06ded",
   "metadata": {},
   "outputs": [],
   "source": [
    "data = pd.read_csv(\"C:/Users/tarlan.jabiyev/Desktop/datasets/demographics.csv\")"
   ]
  },
  {
   "cell_type": "code",
   "execution_count": 8,
   "id": "92a29138-60b1-4b2a-9461-3c27136f8d52",
   "metadata": {},
   "outputs": [
    {
     "data": {
      "text/html": [
       "<div>\n",
       "<style scoped>\n",
       "    .dataframe tbody tr th:only-of-type {\n",
       "        vertical-align: middle;\n",
       "    }\n",
       "\n",
       "    .dataframe tbody tr th {\n",
       "        vertical-align: top;\n",
       "    }\n",
       "\n",
       "    .dataframe thead th {\n",
       "        text-align: right;\n",
       "    }\n",
       "</style>\n",
       "<table border=\"1\" class=\"dataframe\">\n",
       "  <thead>\n",
       "    <tr style=\"text-align: right;\">\n",
       "      <th></th>\n",
       "      <th>age</th>\n",
       "      <th>marital</th>\n",
       "      <th>income</th>\n",
       "      <th>educ</th>\n",
       "      <th>carpr</th>\n",
       "      <th>carcat</th>\n",
       "      <th>gender</th>\n",
       "      <th>retired</th>\n",
       "    </tr>\n",
       "  </thead>\n",
       "  <tbody>\n",
       "    <tr>\n",
       "      <th>0</th>\n",
       "      <td>55</td>\n",
       "      <td>Married</td>\n",
       "      <td>72</td>\n",
       "      <td>Did not complete high school</td>\n",
       "      <td>36.2</td>\n",
       "      <td>Luxury</td>\n",
       "      <td>Female</td>\n",
       "      <td>No</td>\n",
       "    </tr>\n",
       "    <tr>\n",
       "      <th>1</th>\n",
       "      <td>56</td>\n",
       "      <td>Unmarried</td>\n",
       "      <td>153</td>\n",
       "      <td>Did not complete high school</td>\n",
       "      <td>76.9</td>\n",
       "      <td>Luxury</td>\n",
       "      <td>Male</td>\n",
       "      <td>No</td>\n",
       "    </tr>\n",
       "    <tr>\n",
       "      <th>2</th>\n",
       "      <td>28</td>\n",
       "      <td>Married</td>\n",
       "      <td>28</td>\n",
       "      <td>Some college</td>\n",
       "      <td>13.7</td>\n",
       "      <td>Economy</td>\n",
       "      <td>Female</td>\n",
       "      <td>No</td>\n",
       "    </tr>\n",
       "    <tr>\n",
       "      <th>3</th>\n",
       "      <td>24</td>\n",
       "      <td>Married</td>\n",
       "      <td>26</td>\n",
       "      <td>College degree</td>\n",
       "      <td>12.5</td>\n",
       "      <td>Economy</td>\n",
       "      <td>Male</td>\n",
       "      <td>No</td>\n",
       "    </tr>\n",
       "    <tr>\n",
       "      <th>4</th>\n",
       "      <td>25</td>\n",
       "      <td>Unmarried</td>\n",
       "      <td>23</td>\n",
       "      <td>High school degree</td>\n",
       "      <td>11.3</td>\n",
       "      <td>Economy</td>\n",
       "      <td>Male</td>\n",
       "      <td>No</td>\n",
       "    </tr>\n",
       "  </tbody>\n",
       "</table>\n",
       "</div>"
      ],
      "text/plain": [
       "   age    marital  income                          educ  carpr   carcat  \\\n",
       "0   55    Married      72  Did not complete high school   36.2   Luxury   \n",
       "1   56  Unmarried     153  Did not complete high school   76.9   Luxury   \n",
       "2   28    Married      28                  Some college   13.7  Economy   \n",
       "3   24    Married      26                College degree   12.5  Economy   \n",
       "4   25  Unmarried      23            High school degree   11.3  Economy   \n",
       "\n",
       "   gender retired  \n",
       "0  Female      No  \n",
       "1    Male      No  \n",
       "2  Female      No  \n",
       "3    Male      No  \n",
       "4    Male      No  "
      ]
     },
     "execution_count": 8,
     "metadata": {},
     "output_type": "execute_result"
    }
   ],
   "source": [
    "data.head()"
   ]
  },
  {
   "cell_type": "code",
   "execution_count": 9,
   "id": "1ba8fd06-8698-4ed5-8540-4e1e80efdc1f",
   "metadata": {},
   "outputs": [
    {
     "name": "stdout",
     "output_type": "stream",
     "text": [
      "<class 'pandas.core.frame.DataFrame'>\n",
      "RangeIndex: 510 entries, 0 to 509\n",
      "Data columns (total 8 columns):\n",
      " #   Column   Non-Null Count  Dtype  \n",
      "---  ------   --------------  -----  \n",
      " 0   age      510 non-null    int64  \n",
      " 1   marital  510 non-null    object \n",
      " 2   income   510 non-null    int64  \n",
      " 3   educ     510 non-null    object \n",
      " 4   carpr    510 non-null    float64\n",
      " 5   carcat   510 non-null    object \n",
      " 6   gender   510 non-null    object \n",
      " 7   retired  510 non-null    object \n",
      "dtypes: float64(1), int64(2), object(5)\n",
      "memory usage: 32.0+ KB\n"
     ]
    }
   ],
   "source": [
    "data.info()"
   ]
  },
  {
   "cell_type": "code",
   "execution_count": 11,
   "id": "f4abe4b7-804a-40cd-ad4d-333bb8a1ef89",
   "metadata": {},
   "outputs": [
    {
     "data": {
      "text/plain": [
       "78.59411764705882"
      ]
     },
     "execution_count": 11,
     "metadata": {},
     "output_type": "execute_result"
    }
   ],
   "source": [
    "# Aritmatik orta(mean)\n",
    "data['income'].mean()"
   ]
  },
  {
   "cell_type": "code",
   "execution_count": 14,
   "id": "9fe04ad1-5a1b-444d-9f7b-508b89081dbb",
   "metadata": {},
   "outputs": [
    {
     "data": {
      "text/plain": [
       "112.30544392622947"
      ]
     },
     "execution_count": 14,
     "metadata": {},
     "output_type": "execute_result"
    }
   ],
   "source": [
    "# standart sapma və variansın hesablanması\n",
    "data['income'].std() "
   ]
  },
  {
   "cell_type": "code",
   "execution_count": 15,
   "id": "7e68e674-6a68-4f1b-89ae-c8b7104c3065",
   "metadata": {},
   "outputs": [
    {
     "data": {
      "text/plain": [
       "12612.512735467471"
      ]
     },
     "execution_count": 15,
     "metadata": {},
     "output_type": "execute_result"
    }
   ],
   "source": [
    "data['income'].var() #data['income'].std() ** 2"
   ]
  },
  {
   "cell_type": "code",
   "execution_count": 17,
   "id": "fa78ebf4-f629-4797-b283-cbb05b5a2f7e",
   "metadata": {},
   "outputs": [
    {
     "data": {
      "text/plain": [
       "9"
      ]
     },
     "execution_count": 17,
     "metadata": {},
     "output_type": "execute_result"
    }
   ],
   "source": [
    "# minimum, maksimum və aralığın hesablanması\n",
    "data['income'].min()"
   ]
  },
  {
   "cell_type": "code",
   "execution_count": 18,
   "id": "74246028-5100-4f83-a46f-945c3613715c",
   "metadata": {},
   "outputs": [
    {
     "data": {
      "text/plain": [
       "1116"
      ]
     },
     "execution_count": 18,
     "metadata": {},
     "output_type": "execute_result"
    }
   ],
   "source": [
    "data['income'].max()"
   ]
  },
  {
   "cell_type": "code",
   "execution_count": 19,
   "id": "c52e1128-48f7-496f-8895-c1b64a9f9047",
   "metadata": {},
   "outputs": [
    {
     "data": {
      "text/plain": [
       "1107"
      ]
     },
     "execution_count": 19,
     "metadata": {},
     "output_type": "execute_result"
    }
   ],
   "source": [
    "data['income'].max() - data['income'].min()"
   ]
  },
  {
   "cell_type": "code",
   "execution_count": 21,
   "id": "41daf1f5-170f-4ef1-ad8d-af80236f75ae",
   "metadata": {},
   "outputs": [
    {
     "data": {
      "text/plain": [
       "45.0"
      ]
     },
     "execution_count": 21,
     "metadata": {},
     "output_type": "execute_result"
    }
   ],
   "source": [
    "# median\n",
    "data['income'].median()"
   ]
  },
  {
   "cell_type": "code",
   "execution_count": 26,
   "id": "3db862d6-8e63-4212-9218-f6aa364ecd79",
   "metadata": {},
   "outputs": [],
   "source": [
    "# \"scipy\" və \"statistics\" paketləri"
   ]
  },
  {
   "cell_type": "code",
   "execution_count": 27,
   "id": "af616646-4e66-42fe-b3a3-8d7528e6c9c7",
   "metadata": {},
   "outputs": [
    {
     "data": {
      "text/html": [
       "<div>\n",
       "<style scoped>\n",
       "    .dataframe tbody tr th:only-of-type {\n",
       "        vertical-align: middle;\n",
       "    }\n",
       "\n",
       "    .dataframe tbody tr th {\n",
       "        vertical-align: top;\n",
       "    }\n",
       "\n",
       "    .dataframe thead th {\n",
       "        text-align: right;\n",
       "    }\n",
       "</style>\n",
       "<table border=\"1\" class=\"dataframe\">\n",
       "  <thead>\n",
       "    <tr style=\"text-align: right;\">\n",
       "      <th></th>\n",
       "      <th>age</th>\n",
       "      <th>marital</th>\n",
       "      <th>income</th>\n",
       "      <th>educ</th>\n",
       "      <th>carpr</th>\n",
       "      <th>carcat</th>\n",
       "      <th>gender</th>\n",
       "      <th>retired</th>\n",
       "    </tr>\n",
       "  </thead>\n",
       "  <tbody>\n",
       "    <tr>\n",
       "      <th>count</th>\n",
       "      <td>510.000000</td>\n",
       "      <td>510</td>\n",
       "      <td>510.000000</td>\n",
       "      <td>510</td>\n",
       "      <td>510.000000</td>\n",
       "      <td>510</td>\n",
       "      <td>510</td>\n",
       "      <td>510</td>\n",
       "    </tr>\n",
       "    <tr>\n",
       "      <th>unique</th>\n",
       "      <td>NaN</td>\n",
       "      <td>2</td>\n",
       "      <td>NaN</td>\n",
       "      <td>5</td>\n",
       "      <td>NaN</td>\n",
       "      <td>3</td>\n",
       "      <td>2</td>\n",
       "      <td>2</td>\n",
       "    </tr>\n",
       "    <tr>\n",
       "      <th>top</th>\n",
       "      <td>NaN</td>\n",
       "      <td>Unmarried</td>\n",
       "      <td>NaN</td>\n",
       "      <td>High school degree</td>\n",
       "      <td>NaN</td>\n",
       "      <td>Luxury</td>\n",
       "      <td>Male</td>\n",
       "      <td>No</td>\n",
       "    </tr>\n",
       "    <tr>\n",
       "      <th>freq</th>\n",
       "      <td>NaN</td>\n",
       "      <td>256</td>\n",
       "      <td>NaN</td>\n",
       "      <td>132</td>\n",
       "      <td>NaN</td>\n",
       "      <td>190</td>\n",
       "      <td>260</td>\n",
       "      <td>485</td>\n",
       "    </tr>\n",
       "    <tr>\n",
       "      <th>mean</th>\n",
       "      <td>42.058824</td>\n",
       "      <td>NaN</td>\n",
       "      <td>78.594118</td>\n",
       "      <td>NaN</td>\n",
       "      <td>30.836667</td>\n",
       "      <td>NaN</td>\n",
       "      <td>NaN</td>\n",
       "      <td>NaN</td>\n",
       "    </tr>\n",
       "    <tr>\n",
       "      <th>std</th>\n",
       "      <td>12.428043</td>\n",
       "      <td>NaN</td>\n",
       "      <td>112.305444</td>\n",
       "      <td>NaN</td>\n",
       "      <td>22.067056</td>\n",
       "      <td>NaN</td>\n",
       "      <td>NaN</td>\n",
       "      <td>NaN</td>\n",
       "    </tr>\n",
       "    <tr>\n",
       "      <th>min</th>\n",
       "      <td>18.000000</td>\n",
       "      <td>NaN</td>\n",
       "      <td>9.000000</td>\n",
       "      <td>NaN</td>\n",
       "      <td>4.400000</td>\n",
       "      <td>NaN</td>\n",
       "      <td>NaN</td>\n",
       "      <td>NaN</td>\n",
       "    </tr>\n",
       "    <tr>\n",
       "      <th>25%</th>\n",
       "      <td>32.000000</td>\n",
       "      <td>NaN</td>\n",
       "      <td>28.000000</td>\n",
       "      <td>NaN</td>\n",
       "      <td>13.825000</td>\n",
       "      <td>NaN</td>\n",
       "      <td>NaN</td>\n",
       "      <td>NaN</td>\n",
       "    </tr>\n",
       "    <tr>\n",
       "      <th>50%</th>\n",
       "      <td>41.000000</td>\n",
       "      <td>NaN</td>\n",
       "      <td>45.000000</td>\n",
       "      <td>NaN</td>\n",
       "      <td>22.200000</td>\n",
       "      <td>NaN</td>\n",
       "      <td>NaN</td>\n",
       "      <td>NaN</td>\n",
       "    </tr>\n",
       "    <tr>\n",
       "      <th>75%</th>\n",
       "      <td>51.000000</td>\n",
       "      <td>NaN</td>\n",
       "      <td>86.000000</td>\n",
       "      <td>NaN</td>\n",
       "      <td>42.425000</td>\n",
       "      <td>NaN</td>\n",
       "      <td>NaN</td>\n",
       "      <td>NaN</td>\n",
       "    </tr>\n",
       "    <tr>\n",
       "      <th>max</th>\n",
       "      <td>73.000000</td>\n",
       "      <td>NaN</td>\n",
       "      <td>1116.000000</td>\n",
       "      <td>NaN</td>\n",
       "      <td>98.600000</td>\n",
       "      <td>NaN</td>\n",
       "      <td>NaN</td>\n",
       "      <td>NaN</td>\n",
       "    </tr>\n",
       "  </tbody>\n",
       "</table>\n",
       "</div>"
      ],
      "text/plain": [
       "               age    marital       income                educ       carpr  \\\n",
       "count   510.000000        510   510.000000                 510  510.000000   \n",
       "unique         NaN          2          NaN                   5         NaN   \n",
       "top            NaN  Unmarried          NaN  High school degree         NaN   \n",
       "freq           NaN        256          NaN                 132         NaN   \n",
       "mean     42.058824        NaN    78.594118                 NaN   30.836667   \n",
       "std      12.428043        NaN   112.305444                 NaN   22.067056   \n",
       "min      18.000000        NaN     9.000000                 NaN    4.400000   \n",
       "25%      32.000000        NaN    28.000000                 NaN   13.825000   \n",
       "50%      41.000000        NaN    45.000000                 NaN   22.200000   \n",
       "75%      51.000000        NaN    86.000000                 NaN   42.425000   \n",
       "max      73.000000        NaN  1116.000000                 NaN   98.600000   \n",
       "\n",
       "        carcat gender retired  \n",
       "count      510    510     510  \n",
       "unique       3      2       2  \n",
       "top     Luxury   Male      No  \n",
       "freq       190    260     485  \n",
       "mean       NaN    NaN     NaN  \n",
       "std        NaN    NaN     NaN  \n",
       "min        NaN    NaN     NaN  \n",
       "25%        NaN    NaN     NaN  \n",
       "50%        NaN    NaN     NaN  \n",
       "75%        NaN    NaN     NaN  \n",
       "max        NaN    NaN     NaN  "
      ]
     },
     "execution_count": 27,
     "metadata": {},
     "output_type": "execute_result"
    }
   ],
   "source": [
    "data.describe(include='all')"
   ]
  },
  {
   "cell_type": "code",
   "execution_count": 28,
   "id": "189ce6b8-0e86-4a6f-a032-add6bc6b85b1",
   "metadata": {},
   "outputs": [
    {
     "data": {
      "text/plain": [
       "DescribeResult(nobs=510, minmax=(9, 1116), mean=78.59411764705882, variance=12612.512735467468, skewness=5.509270256908631, kurtosis=40.4816802038627)"
      ]
     },
     "execution_count": 28,
     "metadata": {},
     "output_type": "execute_result"
    }
   ],
   "source": [
    "from scipy import stats\n",
    "stats.describe(data['income'])"
   ]
  },
  {
   "cell_type": "markdown",
   "id": "a411c259-d4bf-4e26-932f-696f31b59479",
   "metadata": {},
   "source": [
    "## Skewness və Kurtosis müəyyənləşdirilməsi"
   ]
  },
  {
   "cell_type": "code",
   "execution_count": 29,
   "id": "e7a39f58-0403-436f-9f78-63f76e72bdeb",
   "metadata": {},
   "outputs": [
    {
     "data": {
      "text/plain": [
       "5.509270256908631"
      ]
     },
     "execution_count": 29,
     "metadata": {},
     "output_type": "execute_result"
    }
   ],
   "source": [
    "from scipy.stats import skew, kurtosis\n",
    "\n",
    "skew(data['income'])"
   ]
  },
  {
   "cell_type": "code",
   "execution_count": 36,
   "id": "e39f87cc-ccab-4cc1-9e0b-ed2cd92c1742",
   "metadata": {},
   "outputs": [
    {
     "data": {
      "text/plain": [
       "40.4816802038627"
      ]
     },
     "execution_count": 36,
     "metadata": {},
     "output_type": "execute_result"
    }
   ],
   "source": [
    "kurtosis(data['income']) "
   ]
  },
  {
   "cell_type": "code",
   "execution_count": 37,
   "id": "4c64da3a-e2e2-4a92-b4fc-93de881d4b58",
   "metadata": {},
   "outputs": [
    {
     "data": {
      "text/plain": [
       "0.05     16.0\n",
       "0.50     45.0\n",
       "0.95    241.1\n",
       "Name: income, dtype: float64"
      ]
     },
     "execution_count": 37,
     "metadata": {},
     "output_type": "execute_result"
    }
   ],
   "source": [
    "# Quantiles hesablanması\n",
    "data['income'].quantile([0.05, 0.5, 0.95])"
   ]
  },
  {
   "cell_type": "code",
   "execution_count": 41,
   "id": "946cc26f-4495-4013-96b5-fd778ff9996e",
   "metadata": {},
   "outputs": [
    {
     "data": {
      "text/plain": [
       "0    28\n",
       "Name: income, dtype: int64"
      ]
     },
     "execution_count": 41,
     "metadata": {},
     "output_type": "execute_result"
    }
   ],
   "source": [
    "# Mode'un tapılması\n",
    "data['income'].mode() "
   ]
  },
  {
   "cell_type": "code",
   "execution_count": 42,
   "id": "39c1c5fa-8c90-4952-af3f-2288932ccbbf",
   "metadata": {},
   "outputs": [],
   "source": [
    "from statistics import mode\n",
    "from scipy.stats import mode as scipy_mode"
   ]
  },
  {
   "cell_type": "code",
   "execution_count": 43,
   "id": "d2811d93-5ee2-48fe-ac66-4455fbe0998f",
   "metadata": {},
   "outputs": [
    {
     "data": {
      "text/plain": [
       "ModeResult(mode=array([28], dtype=int64), count=array([14], dtype=int64))"
      ]
     },
     "execution_count": 43,
     "metadata": {},
     "output_type": "execute_result"
    }
   ],
   "source": [
    "scipy_mode(data['income'], keepdims=True)"
   ]
  },
  {
   "cell_type": "markdown",
   "id": "3a297ba2-191e-4c1b-8dd5-87b770f00441",
   "metadata": {},
   "source": [
    "## Qrup üzrə statistik göstəricilərin əldə edilməsi"
   ]
  },
  {
   "cell_type": "code",
   "execution_count": 51,
   "id": "7c19c4e8-d280-4742-b9f4-da57b69f8aa7",
   "metadata": {},
   "outputs": [
    {
     "data": {
      "text/html": [
       "<div>\n",
       "<style scoped>\n",
       "    .dataframe tbody tr th:only-of-type {\n",
       "        vertical-align: middle;\n",
       "    }\n",
       "\n",
       "    .dataframe tbody tr th {\n",
       "        vertical-align: top;\n",
       "    }\n",
       "\n",
       "    .dataframe thead th {\n",
       "        text-align: right;\n",
       "    }\n",
       "</style>\n",
       "<table border=\"1\" class=\"dataframe\">\n",
       "  <thead>\n",
       "    <tr style=\"text-align: right;\">\n",
       "      <th></th>\n",
       "      <th>mean</th>\n",
       "      <th>std</th>\n",
       "      <th>median</th>\n",
       "      <th>var</th>\n",
       "    </tr>\n",
       "    <tr>\n",
       "      <th>marital</th>\n",
       "      <th></th>\n",
       "      <th></th>\n",
       "      <th></th>\n",
       "      <th></th>\n",
       "    </tr>\n",
       "  </thead>\n",
       "  <tbody>\n",
       "    <tr>\n",
       "      <th>Married</th>\n",
       "      <td>42.023622</td>\n",
       "      <td>12.005246</td>\n",
       "      <td>41.0</td>\n",
       "      <td>144.125922</td>\n",
       "    </tr>\n",
       "    <tr>\n",
       "      <th>Unmarried</th>\n",
       "      <td>42.093750</td>\n",
       "      <td>12.857248</td>\n",
       "      <td>41.0</td>\n",
       "      <td>165.308824</td>\n",
       "    </tr>\n",
       "  </tbody>\n",
       "</table>\n",
       "</div>"
      ],
      "text/plain": [
       "                mean        std  median         var\n",
       "marital                                            \n",
       "Married    42.023622  12.005246    41.0  144.125922\n",
       "Unmarried  42.093750  12.857248    41.0  165.308824"
      ]
     },
     "execution_count": 51,
     "metadata": {},
     "output_type": "execute_result"
    }
   ],
   "source": [
    "data.groupby('marital')['age'].agg(['mean', 'std', 'median', 'var'])"
   ]
  },
  {
   "cell_type": "code",
   "execution_count": 52,
   "id": "48298189-6517-444b-b4ce-d770c8946d49",
   "metadata": {},
   "outputs": [
    {
     "data": {
      "text/plain": [
       "marital    gender\n",
       "Married    Female    41.302326\n",
       "           Male      42.768000\n",
       "Unmarried  Female    42.545455\n",
       "           Male      41.688889\n",
       "Name: age, dtype: float64"
      ]
     },
     "execution_count": 52,
     "metadata": {},
     "output_type": "execute_result"
    }
   ],
   "source": [
    "data.groupby(['marital', 'gender'])['age'].mean()"
   ]
  },
  {
   "cell_type": "code",
   "execution_count": null,
   "id": "2fe20ed8-0342-4f2c-aeec-d7bc55db0501",
   "metadata": {},
   "outputs": [],
   "source": []
  }
 ],
 "metadata": {
  "kernelspec": {
   "display_name": "Python 3 (ipykernel)",
   "language": "python",
   "name": "python3"
  },
  "language_info": {
   "codemirror_mode": {
    "name": "ipython",
    "version": 3
   },
   "file_extension": ".py",
   "mimetype": "text/x-python",
   "name": "python",
   "nbconvert_exporter": "python",
   "pygments_lexer": "ipython3",
   "version": "3.11.7"
  }
 },
 "nbformat": 4,
 "nbformat_minor": 5
}
