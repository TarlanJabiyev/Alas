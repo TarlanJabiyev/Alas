{
 "cells": [
  {
   "cell_type": "code",
   "execution_count": 1,
   "id": "ccd585d5-4cc6-4c5d-872c-fedcc7271665",
   "metadata": {},
   "outputs": [],
   "source": [
    "import pandas as pd\n",
    "import numpy as np\n",
    "from scipy import stats\n",
    "from statsmodels.stats.multicomp import pairwise_tukeyhsd\n",
    "from statsmodels.formula.api import ols\n",
    "from statsmodels.stats.anova import anova_lm\n",
    "import seaborn as sns\n",
    "import matplotlib.pyplot as plt\n",
    "import warnings\n",
    "warnings.filterwarnings('ignore')"
   ]
  },
  {
   "cell_type": "markdown",
   "id": "c1255022-c1e1-48eb-a2a7-30d9a0d98a1e",
   "metadata": {},
   "source": [
    "## Müstəqil Nümunə T testi - Independent-Sample T test"
   ]
  },
  {
   "cell_type": "code",
   "execution_count": 2,
   "id": "1d9c1268-83b5-4315-a7b6-1d480ec177a6",
   "metadata": {},
   "outputs": [
    {
     "data": {
      "text/html": [
       "<div>\n",
       "<style scoped>\n",
       "    .dataframe tbody tr th:only-of-type {\n",
       "        vertical-align: middle;\n",
       "    }\n",
       "\n",
       "    .dataframe tbody tr th {\n",
       "        vertical-align: top;\n",
       "    }\n",
       "\n",
       "    .dataframe thead th {\n",
       "        text-align: right;\n",
       "    }\n",
       "</style>\n",
       "<table border=\"1\" class=\"dataframe\">\n",
       "  <thead>\n",
       "    <tr style=\"text-align: right;\">\n",
       "      <th></th>\n",
       "      <th>course</th>\n",
       "      <th>score</th>\n",
       "    </tr>\n",
       "  </thead>\n",
       "  <tbody>\n",
       "    <tr>\n",
       "      <th>0</th>\n",
       "      <td>no</td>\n",
       "      <td>66</td>\n",
       "    </tr>\n",
       "    <tr>\n",
       "      <th>1</th>\n",
       "      <td>no</td>\n",
       "      <td>41</td>\n",
       "    </tr>\n",
       "    <tr>\n",
       "      <th>2</th>\n",
       "      <td>no</td>\n",
       "      <td>51</td>\n",
       "    </tr>\n",
       "    <tr>\n",
       "      <th>3</th>\n",
       "      <td>no</td>\n",
       "      <td>34</td>\n",
       "    </tr>\n",
       "    <tr>\n",
       "      <th>4</th>\n",
       "      <td>no</td>\n",
       "      <td>60</td>\n",
       "    </tr>\n",
       "  </tbody>\n",
       "</table>\n",
       "</div>"
      ],
      "text/plain": [
       "  course  score\n",
       "0     no     66\n",
       "1     no     41\n",
       "2     no     51\n",
       "3     no     34\n",
       "4     no     60"
      ]
     },
     "execution_count": 2,
     "metadata": {},
     "output_type": "execute_result"
    }
   ],
   "source": [
    "sp = pd.read_csv(\"spanish.csv\")\n",
    "\n",
    "sp.head()"
   ]
  },
  {
   "cell_type": "raw",
   "id": "f4cb6528-bf78-4005-93a6-45000f380ac4",
   "metadata": {},
   "source": [
    "İspan dili dərsini götürən tələbələrlə götürməyənlər arasında qiymət ortalamasında ciddi fərqin olub-olmadığını müəyyən olunması.\n",
    "\n",
    "İlkin fərziyyələr:\n",
    "    asılı dəyişən hər iki qrupda normal paylanmışdır\n",
    "    asılı dəyişəndə heç bir qrupda mühüm \"outliers\" yoxdur\n",
    "    qrup variansı bərabərdir"
   ]
  },
  {
   "cell_type": "code",
   "execution_count": 3,
   "id": "99bacfa0-bfd9-4ff6-8368-52a863fa8059",
   "metadata": {},
   "outputs": [],
   "source": [
    "group1 = sp[sp['course'] == 'yes']['score']\n",
    "group2 = sp[sp['course'] == 'no']['score']\n",
    "levene_stat, levene_p = stats.levene(group1, group2)"
   ]
  },
  {
   "cell_type": "code",
   "execution_count": 4,
   "id": "c427be51-2ae8-41a1-b78b-65a9a2e4fd2c",
   "metadata": {},
   "outputs": [
    {
     "name": "stdout",
     "output_type": "stream",
     "text": [
      "Levene's Test for Homogeneity of Variances:\n",
      "Statistic: 0.8947\n",
      "p-value: 0.3451\n"
     ]
    }
   ],
   "source": [
    "print(\"Levene's Test for Homogeneity of Variances:\")\n",
    "print(f\"Statistic: {levene_stat:.4f}\")\n",
    "print(f\"p-value: {levene_p:.4f}\")"
   ]
  },
  {
   "cell_type": "raw",
   "id": "079b852c-310d-4fb3-80c4-4e2aca7f80de",
   "metadata": {},
   "source": [
    "H0 hipotezi (varianslar bərabərdir) rədd edilmir. \n",
    "Qruplar arasında varians fərqi statistik olaraq əhəmiyyətli deyil."
   ]
  },
  {
   "cell_type": "raw",
   "id": "0bfbb743-6cd0-44f3-8554-239e0d5452db",
   "metadata": {},
   "source": [
    "Əgər qrup variansları bərabər olarsa t testini, \n",
    "qrup variansları bərabər deyilsə, biz \"Welch\" testini həyata keçirəcəyik"
   ]
  },
  {
   "cell_type": "code",
   "execution_count": 5,
   "id": "a36b7726-cef9-4910-9ea7-52790967c85e",
   "metadata": {},
   "outputs": [],
   "source": [
    "t_stat_eq, p_val_eq = stats.ttest_ind(group1, group2, equal_var=True)\n",
    "t_stat_welch, p_val_welch = stats.ttest_ind(group1, group2, equal_var=False)"
   ]
  },
  {
   "cell_type": "code",
   "execution_count": 6,
   "id": "1eb0d17c-1075-4be2-8044-093238cf1c58",
   "metadata": {},
   "outputs": [
    {
     "name": "stdout",
     "output_type": "stream",
     "text": [
      "\n",
      "Independent T-test (Equal Variances):\n",
      "t-statistic: 16.5667\n",
      "p-value: 0.0000\n"
     ]
    }
   ],
   "source": [
    "print(\"\\nIndependent T-test (Equal Variances):\")\n",
    "print(f\"t-statistic: {t_stat_eq:.4f}\")\n",
    "print(f\"p-value: {p_val_eq:.4f}\")"
   ]
  },
  {
   "cell_type": "code",
   "execution_count": 7,
   "id": "cf8676a3-6806-441a-a2ef-d8950ae4611f",
   "metadata": {},
   "outputs": [
    {
     "name": "stdout",
     "output_type": "stream",
     "text": [
      "\n",
      "Welch's T-test (Unequal Variances):\n",
      "t-statistic: 16.8823\n",
      "p-value: 0.0000\n"
     ]
    }
   ],
   "source": [
    "print(\"\\nWelch's T-test (Unequal Variances):\")\n",
    "print(f\"t-statistic: {t_stat_welch:.4f}\")\n",
    "print(f\"p-value: {p_val_welch:.4f}\")"
   ]
  },
  {
   "cell_type": "raw",
   "id": "23a786c6-0842-41c2-8dce-b2b587688402",
   "metadata": {},
   "source": [
    "Nəticə:\n",
    "    p-value < 0.05 → Əhəmiyyətli fərq var\n",
    "    Təsadüfən fərq olma ehtimalı çox azdır.\n",
    "    Qruplar arasında statistik əhəmiyyətli fərq var.\n",
    "\n",
    "Hər iki testdə p-value çox kiçikdir (0.05-dən aşağı), bu da göstərir ki:\n",
    "    Qrupların ortalama balları arasında statistik olaraq əhəmiyyətli fərq var.\n",
    "    Kurs keçənlərin (yes) orta balı daha yüksəkdir."
   ]
  },
  {
   "cell_type": "code",
   "execution_count": 8,
   "id": "ed92126a-81af-402d-b937-3c1ab3737750",
   "metadata": {},
   "outputs": [
    {
     "data": {
      "image/png": "[encoded data removed]",
      "text/plain": [
       "<Figure size 640x480 with 1 Axes>"
      ]
     },
     "metadata": {},
     "output_type": "display_data"
    }
   ],
   "source": [
    "# Boxplot ilə kurs keçib-keçməyənlər üzrə nəticələr\n",
    "sns.boxplot(x='course', y='score', data=sp, palette=['lightblue', 'lightpink'])\n",
    "plt.title(\"Comparison of Scores by Course\")\n",
    "plt.xlabel(\"Took Course?\")\n",
    "plt.ylabel(\"Score\")\n",
    "plt.show()"
   ]
  },
  {
   "cell_type": "markdown",
   "id": "be8f008d-d091-460a-bc01-b233f392a50f",
   "metadata": {},
   "source": [
    "## Qoşalaşmış Nümunə T testi - Paired-Sample T test"
   ]
  },
  {
   "cell_type": "code",
   "execution_count": 9,
   "id": "7456434e-e8b0-494b-9272-78258899f6b4",
   "metadata": {},
   "outputs": [
    {
     "data": {
      "text/html": [
       "<div>\n",
       "<style scoped>\n",
       "    .dataframe tbody tr th:only-of-type {\n",
       "        vertical-align: middle;\n",
       "    }\n",
       "\n",
       "    .dataframe tbody tr th {\n",
       "        vertical-align: top;\n",
       "    }\n",
       "\n",
       "    .dataframe thead th {\n",
       "        text-align: right;\n",
       "    }\n",
       "</style>\n",
       "<table border=\"1\" class=\"dataframe\">\n",
       "  <thead>\n",
       "    <tr style=\"text-align: right;\">\n",
       "      <th></th>\n",
       "      <th>grade1</th>\n",
       "      <th>grade2</th>\n",
       "    </tr>\n",
       "  </thead>\n",
       "  <tbody>\n",
       "    <tr>\n",
       "      <th>0</th>\n",
       "      <td>5.54</td>\n",
       "      <td>7.19</td>\n",
       "    </tr>\n",
       "    <tr>\n",
       "      <th>1</th>\n",
       "      <td>5.86</td>\n",
       "      <td>7.13</td>\n",
       "    </tr>\n",
       "    <tr>\n",
       "      <th>2</th>\n",
       "      <td>5.07</td>\n",
       "      <td>6.85</td>\n",
       "    </tr>\n",
       "    <tr>\n",
       "      <th>3</th>\n",
       "      <td>5.84</td>\n",
       "      <td>7.53</td>\n",
       "    </tr>\n",
       "    <tr>\n",
       "      <th>4</th>\n",
       "      <td>5.91</td>\n",
       "      <td>7.14</td>\n",
       "    </tr>\n",
       "  </tbody>\n",
       "</table>\n",
       "</div>"
      ],
      "text/plain": [
       "   grade1  grade2\n",
       "0    5.54    7.19\n",
       "1    5.86    7.13\n",
       "2    5.07    6.85\n",
       "3    5.84    7.53\n",
       "4    5.91    7.14"
      ]
     },
     "execution_count": 9,
     "metadata": {},
     "output_type": "execute_result"
    }
   ],
   "source": [
    "mat = pd.read_csv(\"math.csv\")\n",
    "\n",
    "mat.head()"
   ]
  },
  {
   "cell_type": "raw",
   "id": "8eb48527-e4ba-45a2-ac6d-ad10f269ada8",
   "metadata": {},
   "source": [
    "Riyaziyyat kursundan əvvəl və sonra nəticələrin ortalama balları arasında əhəmiyyətli fərqin olub-olmadığını yoxlamaq\n",
    "\n",
    "İlkin fərziyyələr:\n",
    "    asılı dəyişənlər arasındakı fərqlər normal paylanıb.\n",
    "    asılı dəyişənlər arasındakı fərqlərdə mühüm \"outliers\" yoxdur."
   ]
  },
  {
   "cell_type": "code",
   "execution_count": 10,
   "id": "b5a8ed99-ad7a-455e-bd65-90b025e328f6",
   "metadata": {},
   "outputs": [],
   "source": [
    "t_stat_paired, p_val_paired = stats.ttest_rel(mat['grade2'], mat['grade1'])\n",
    "mean_diff = (mat['grade2'] - mat['grade1']).mean()\n",
    "ci_paired = stats.t.interval(confidence=0.95, df=len(mat)-1, loc=mean_diff, scale=stats.sem(mat['grade2'] - mat['grade1']))"
   ]
  },
  {
   "cell_type": "code",
   "execution_count": 11,
   "id": "35c24e7a-5288-4056-9919-e1bdf5a41ab3",
   "metadata": {},
   "outputs": [
    {
     "name": "stdout",
     "output_type": "stream",
     "text": [
      "\n",
      "Paired-Sample T-test Results:\n",
      "t-statistic: 43.1549\n",
      "p-value: 0.0000\n",
      "Mean difference (grade2 - grade1): 1.18\n",
      "95% Confidence Interval for mean difference: (1.12, 1.23)\n"
     ]
    }
   ],
   "source": [
    "print(\"\\nPaired-Sample T-test Results:\")\n",
    "print(f\"t-statistic: {t_stat_paired:.4f}\")\n",
    "print(f\"p-value: {p_val_paired:.4f}\")\n",
    "print(f\"Mean difference (grade2 - grade1): {mean_diff:.2f}\")\n",
    "print(f\"95% Confidence Interval for mean difference: ({ci_paired[0]:.2f}, {ci_paired[1]:.2f})\")"
   ]
  },
  {
   "cell_type": "raw",
   "id": "0607dae8-7266-4880-b8c6-699a308bb700",
   "metadata": {},
   "source": [
    "p < 0.05 olduğuna görə: İki qiymət arasında statistik olaraq əhəmiyyətli fərq var.\n",
    "Ortalama fərq ≈ 1.18: 2-ci qiymət (grade2) ortalama olaraq 1.18 bal yüksəkdir 1-ci qiymətdən (grade1).\n",
    "Etibar intervalı: Həqiqi orta fərq 95% ehtimalla 1.12 ilə 1.23 arasındadır.\n",
    "\n",
    "Nəticə:\n",
    "    Şagirdlərin ikinci qiyməti (grade2) statistik olaraq əhəmiyyətli şəkildə artmışdır. \n",
    "    Bu, təlim və ya müdaxilənin müsbət təsir etdiyini göstərə bilər."
   ]
  },
  {
   "cell_type": "markdown",
   "id": "2056835c-d3ff-4b43-a957-62eacfeb3a93",
   "metadata": {},
   "source": [
    "## \"One-Way ANOVA\""
   ]
  },
  {
   "cell_type": "code",
   "execution_count": 12,
   "id": "43d2862b-b4bd-4f7d-a86c-5cf99d186d6f",
   "metadata": {},
   "outputs": [
    {
     "data": {
      "text/html": [
       "<div>\n",
       "<style scoped>\n",
       "    .dataframe tbody tr th:only-of-type {\n",
       "        vertical-align: middle;\n",
       "    }\n",
       "\n",
       "    .dataframe tbody tr th {\n",
       "        vertical-align: top;\n",
       "    }\n",
       "\n",
       "    .dataframe thead th {\n",
       "        text-align: right;\n",
       "    }\n",
       "</style>\n",
       "<table border=\"1\" class=\"dataframe\">\n",
       "  <thead>\n",
       "    <tr style=\"text-align: right;\">\n",
       "      <th></th>\n",
       "      <th>effort</th>\n",
       "      <th>dose</th>\n",
       "    </tr>\n",
       "  </thead>\n",
       "  <tbody>\n",
       "    <tr>\n",
       "      <th>0</th>\n",
       "      <td>20.3</td>\n",
       "      <td>placebo</td>\n",
       "    </tr>\n",
       "    <tr>\n",
       "      <th>1</th>\n",
       "      <td>20.2</td>\n",
       "      <td>placebo</td>\n",
       "    </tr>\n",
       "    <tr>\n",
       "      <th>2</th>\n",
       "      <td>19.0</td>\n",
       "      <td>placebo</td>\n",
       "    </tr>\n",
       "    <tr>\n",
       "      <th>3</th>\n",
       "      <td>18.7</td>\n",
       "      <td>placebo</td>\n",
       "    </tr>\n",
       "    <tr>\n",
       "      <th>4</th>\n",
       "      <td>17.8</td>\n",
       "      <td>placebo</td>\n",
       "    </tr>\n",
       "  </tbody>\n",
       "</table>\n",
       "</div>"
      ],
      "text/plain": [
       "   effort     dose\n",
       "0    20.3  placebo\n",
       "1    20.2  placebo\n",
       "2    19.0  placebo\n",
       "3    18.7  placebo\n",
       "4    17.8  placebo"
      ]
     },
     "execution_count": 12,
     "metadata": {},
     "output_type": "execute_result"
    }
   ],
   "source": [
    "vit = pd.read_csv(\"vitamin1.csv\")\n",
    "\n",
    "vit.head()"
   ]
  },
  {
   "cell_type": "raw",
   "id": "6195f168-9831-4aec-9e33-18d19bb0eb0e",
   "metadata": {},
   "source": [
    "3 qrup (platsebo, aşağı doza, yüksək doza) arasında orta səy müqavimətinə (effort resistance) görə fərq olub-olmadığını yoxlamaq\n",
    "\n",
    "İlkin fərziyyələr:\n",
    "    asılı dəyişən bütün qruplarda normal paylanmışdır\n",
    "    asılı dəyişəndə heç bir qrupda mühüm outliers yoxdur\n",
    "    qrup variansları bərabərdir"
   ]
  },
  {
   "cell_type": "code",
   "execution_count": 20,
   "id": "70cc6213-cc17-406e-91cf-99a9b555201f",
   "metadata": {},
   "outputs": [],
   "source": [
    "# varians bərabərliyinin yoxlanılması\n",
    "groups = [vit[vit['dose'] == level]['effort'] for level in vit['dose'].unique()]\n",
    "levene_stat_anova, levene_p_anova = stats.levene(*groups)"
   ]
  },
  {
   "cell_type": "code",
   "execution_count": 21,
   "id": "6d01d446-0fcd-4867-a238-afff539fb65a",
   "metadata": {},
   "outputs": [
    {
     "name": "stdout",
     "output_type": "stream",
     "text": [
      "\n",
      "Levene's Test for One-Way ANOVA (Homogeneity of Variances):\n",
      "Statistic: 0.7367\n",
      "p-value: 0.4795\n"
     ]
    }
   ],
   "source": [
    "print(\"\\nLevene's Test for One-Way ANOVA (Homogeneity of Variances):\")\n",
    "print(f\"Statistic: {levene_stat_anova:.4f}\")\n",
    "print(f\"p-value: {levene_p_anova:.4f}\")"
   ]
  },
  {
   "cell_type": "raw",
   "id": "502b8646-9630-4455-b08b-bf224a93b7c6",
   "metadata": {},
   "source": [
    "H₀ (null hipotez): Qruplar arasında varyanslar eynidir.\n",
    "H₁ (alternativ hipotez): Qruplar arasında varyanslar fərqlidir.\n",
    "p > 0.05 olduğuna görə, H₀ rədd olunmur."
   ]
  },
  {
   "cell_type": "code",
   "execution_count": 22,
   "id": "48647314-c2fc-4d4f-9606-a45f3b3de48f",
   "metadata": {},
   "outputs": [],
   "source": [
    "f_stat, p_val_anova = stats.f_oneway(*groups)"
   ]
  },
  {
   "cell_type": "code",
   "execution_count": 23,
   "id": "48ba2546-783c-46c0-b4c6-182a20aa2f7e",
   "metadata": {},
   "outputs": [
    {
     "name": "stdout",
     "output_type": "stream",
     "text": [
      "\n",
      "One-Way ANOVA Results:\n",
      "F-statistic: 50.18\n",
      "p-value: 0.0000\n"
     ]
    }
   ],
   "source": [
    "print(\"\\nOne-Way ANOVA Results:\")\n",
    "print(f\"F-statistic: {f_stat:.2f}\")\n",
    "print(f\"p-value: {p_val_anova:.4f}\")"
   ]
  },
  {
   "cell_type": "raw",
   "id": "f941371f-e23a-441f-9ae3-527ccdb4b58c",
   "metadata": {},
   "source": [
    "H₀ (null hipotez): Bütün doza qruplarının ortalamaları eynidir.\n",
    "H₁ (alternativ hipotez): Ən azı bir doza qrupu digərindən fərqlidir.\n",
    "\n",
    "Nəticə:\n",
    "    F qiyməti = 50.18, çox yüksəkdir.\n",
    "    p-dəyəri < 0.001 olduğuna görə, H₀ rədd olunur.\n",
    "    Dozanın səviyyəsi effort dəyişəninə statistik olaraq əhəmiyyətli təsir göstərir."
   ]
  },
  {
   "cell_type": "code",
   "execution_count": 24,
   "id": "20179ad7-be50-4320-b158-bec4f65488d8",
   "metadata": {},
   "outputs": [
    {
     "name": "stdout",
     "output_type": "stream",
     "text": [
      "\n",
      "Tukey's HSD Test Results:\n",
      "   Multiple Comparison of Means - Tukey HSD, FWER=0.05   \n",
      "=========================================================\n",
      "  group1   group2  meandiff p-adj   lower   upper  reject\n",
      "---------------------------------------------------------\n",
      "high dose low dose  -3.3448    0.0 -4.3783 -2.3113   True\n",
      "high dose  placebo  -4.3508    0.0 -5.4115 -3.2902   True\n",
      " low dose  placebo   -1.006 0.0434 -1.9888 -0.0232   True\n",
      "---------------------------------------------------------\n"
     ]
    }
   ],
   "source": [
    "#İndi Tukey HSD testi ilə hansı doza qruplarının bir-birindən fərqləndiyini araşdıraq:\n",
    "tukey = pairwise_tukeyhsd(endog=vit['effort'], groups=vit['dose'])\n",
    "print(\"\\nTukey's HSD Test Results:\")\n",
    "print(tukey)"
   ]
  },
  {
   "cell_type": "raw",
   "id": "92e9d9c5-7f1a-4562-96b7-ca6bf7338e1b",
   "metadata": {},
   "source": [
    "ANOVA testindən sonra aparılan Tukey HSD testi göstərir ki, doza qrupları arasında cüt müqayisələrdə əhəmiyyətli fərqlər mövcuddur.\n",
    "\n",
    "Nəticələrin Yorumlanması:\n",
    "    High dose qrupunun effort səviyyəsi həm placebo, həm də low dose qruplarından significantly yüksəkdir.\n",
    "    Low dose və placebo qrupları arasında da statistik olaraq əhəmiyyətli fərq var (p = 0.043), lakin bu fərq nisbətən zəifdir.\n",
    "\n",
    "Yekun Qərar:\n",
    "    Dozanın miqdarı insanın göstərdiyi effort (cəhd/səylilik) səviyyəsinə mühüm təsir edir. \n",
    "    Xüsusilə, high dose qəbul edənlər digərləri ilə müqayisədə daha çox effort göstərirlər."
   ]
  },
  {
   "cell_type": "code",
   "execution_count": 26,
   "id": "70e17a48-c519-4be4-894b-3babb9549227",
   "metadata": {},
   "outputs": [
    {
     "data": {
      "image/png": "[encoded data removed]",
      "text/plain": [
       "<Figure size 640x480 with 1 Axes>"
      ]
     },
     "metadata": {},
     "output_type": "display_data"
    }
   ],
   "source": [
    "# Boxplot ilə effort dəyişəninə görə dozaların təsiri\n",
    "sns.boxplot(x='dose', y='effort', data=vit, palette=['lightblue', 'lightgreen', 'lightpink'])\n",
    "plt.title(\"Effort Level by Dose Type\")\n",
    "plt.xlabel(\"Dose Type\")\n",
    "plt.ylabel(\"Effort Level\")\n",
    "plt.show()"
   ]
  },
  {
   "cell_type": "markdown",
   "id": "5f0e2734-8946-4f4a-990a-14d810b32b72",
   "metadata": {},
   "source": [
    "## \"Two-Way ANOVA\""
   ]
  },
  {
   "cell_type": "code",
   "execution_count": 27,
   "id": "8d93d61c-70ba-4b30-bee1-3012e419cce7",
   "metadata": {},
   "outputs": [
    {
     "data": {
      "text/html": [
       "<div>\n",
       "<style scoped>\n",
       "    .dataframe tbody tr th:only-of-type {\n",
       "        vertical-align: middle;\n",
       "    }\n",
       "\n",
       "    .dataframe tbody tr th {\n",
       "        vertical-align: top;\n",
       "    }\n",
       "\n",
       "    .dataframe thead th {\n",
       "        text-align: right;\n",
       "    }\n",
       "</style>\n",
       "<table border=\"1\" class=\"dataframe\">\n",
       "  <thead>\n",
       "    <tr style=\"text-align: right;\">\n",
       "      <th></th>\n",
       "      <th>effort</th>\n",
       "      <th>dose</th>\n",
       "      <th>gender</th>\n",
       "    </tr>\n",
       "  </thead>\n",
       "  <tbody>\n",
       "    <tr>\n",
       "      <th>0</th>\n",
       "      <td>9.5</td>\n",
       "      <td>placebo</td>\n",
       "      <td>male</td>\n",
       "    </tr>\n",
       "    <tr>\n",
       "      <th>1</th>\n",
       "      <td>11.0</td>\n",
       "      <td>placebo</td>\n",
       "      <td>male</td>\n",
       "    </tr>\n",
       "    <tr>\n",
       "      <th>2</th>\n",
       "      <td>8.3</td>\n",
       "      <td>placebo</td>\n",
       "      <td>male</td>\n",
       "    </tr>\n",
       "    <tr>\n",
       "      <th>3</th>\n",
       "      <td>9.0</td>\n",
       "      <td>placebo</td>\n",
       "      <td>male</td>\n",
       "    </tr>\n",
       "    <tr>\n",
       "      <th>4</th>\n",
       "      <td>10.4</td>\n",
       "      <td>placebo</td>\n",
       "      <td>male</td>\n",
       "    </tr>\n",
       "  </tbody>\n",
       "</table>\n",
       "</div>"
      ],
      "text/plain": [
       "   effort     dose gender\n",
       "0     9.5  placebo   male\n",
       "1    11.0  placebo   male\n",
       "2     8.3  placebo   male\n",
       "3     9.0  placebo   male\n",
       "4    10.4  placebo   male"
      ]
     },
     "execution_count": 27,
     "metadata": {},
     "output_type": "execute_result"
    }
   ],
   "source": [
    "vit = pd.read_csv(\"vitamin2.csv\")\n",
    "\n",
    "vit.head()"
   ]
  },
  {
   "cell_type": "raw",
   "id": "fb1b7f31-1796-49d3-9e48-2e23a7801964",
   "metadata": {},
   "source": [
    "\"vitamin\" və \"gender\" faktorlarının işçilərin effort müqavimətinə təsir edib-etmədiyini müəyyən etmək\n",
    "\n",
    "İlkin fərziyyələr:\n",
    "    asılı dəyişən bütün qruplarda normal paylanmışdır\n",
    "    asılı dəyişəndə heç bir qrupda mühüm outliers yoxdur\n",
    "    qrup variansları bərabərdir"
   ]
  },
  {
   "cell_type": "code",
   "execution_count": 28,
   "id": "40a2b86f-85b9-400b-aa53-bba35f7f23b5",
   "metadata": {},
   "outputs": [],
   "source": [
    "model = ols('effort ~ C(dose) + C(gender) + C(dose):C(gender)', data=vit).fit()\n",
    "anova_table = anova_lm(model, typ=2)"
   ]
  },
  {
   "cell_type": "code",
   "execution_count": 29,
   "id": "0e42c31f-109d-4929-b571-163b349e0298",
   "metadata": {},
   "outputs": [
    {
     "data": {
      "text/html": [
       "<div>\n",
       "<style scoped>\n",
       "    .dataframe tbody tr th:only-of-type {\n",
       "        vertical-align: middle;\n",
       "    }\n",
       "\n",
       "    .dataframe tbody tr th {\n",
       "        vertical-align: top;\n",
       "    }\n",
       "\n",
       "    .dataframe thead th {\n",
       "        text-align: right;\n",
       "    }\n",
       "</style>\n",
       "<table border=\"1\" class=\"dataframe\">\n",
       "  <thead>\n",
       "    <tr style=\"text-align: right;\">\n",
       "      <th></th>\n",
       "      <th>sum_sq</th>\n",
       "      <th>df</th>\n",
       "      <th>F</th>\n",
       "      <th>PR(&gt;F)</th>\n",
       "    </tr>\n",
       "  </thead>\n",
       "  <tbody>\n",
       "    <tr>\n",
       "      <th>C(dose)</th>\n",
       "      <td>1305.846778</td>\n",
       "      <td>2.0</td>\n",
       "      <td>174.965787</td>\n",
       "      <td>3.628580e-59</td>\n",
       "    </tr>\n",
       "    <tr>\n",
       "      <th>C(gender)</th>\n",
       "      <td>761.365630</td>\n",
       "      <td>1.0</td>\n",
       "      <td>204.025371</td>\n",
       "      <td>1.965825e-39</td>\n",
       "    </tr>\n",
       "    <tr>\n",
       "      <th>C(dose):C(gender)</th>\n",
       "      <td>470.466259</td>\n",
       "      <td>2.0</td>\n",
       "      <td>63.036109</td>\n",
       "      <td>2.646047e-25</td>\n",
       "    </tr>\n",
       "    <tr>\n",
       "      <th>Residual</th>\n",
       "      <td>1992.738667</td>\n",
       "      <td>534.0</td>\n",
       "      <td>NaN</td>\n",
       "      <td>NaN</td>\n",
       "    </tr>\n",
       "  </tbody>\n",
       "</table>\n",
       "</div>"
      ],
      "text/plain": [
       "                        sum_sq     df           F        PR(>F)\n",
       "C(dose)            1305.846778    2.0  174.965787  3.628580e-59\n",
       "C(gender)           761.365630    1.0  204.025371  1.965825e-39\n",
       "C(dose):C(gender)   470.466259    2.0   63.036109  2.646047e-25\n",
       "Residual           1992.738667  534.0         NaN           NaN"
      ]
     },
     "execution_count": 29,
     "metadata": {},
     "output_type": "execute_result"
    }
   ],
   "source": [
    "anova_table"
   ]
  },
  {
   "cell_type": "raw",
   "id": "9a765a78-c74b-475e-bbf5-592c4e774c37",
   "metadata": {},
   "source": [
    "P dəyərlər hamısında kiçikdir: hər bir faktor (dose, gender) və onların qarşılıqlı təsiri (dose * gender) statistik olaraq əhəmiyyətlidir.\n",
    "\n",
    "Bu o deməkdir ki:\n",
    "    Müxtəlif doza səviyyələri effort-a fərqli təsir edir.\n",
    "    Genderlər arasında effort fərqi var.\n",
    "    Eyni doza müxtəlif genderlərdə eyni dərəcədə təsir göstərmir - interaksiyalı effekt mövcuddur."
   ]
  },
  {
   "cell_type": "code",
   "execution_count": 22,
   "id": "c45aabca-3ab0-404e-bf49-3022e74af69f",
   "metadata": {},
   "outputs": [
    {
     "data": {
      "image/png": "[encoded data removed]",
      "text/plain": [
       "<Figure size 640x480 with 1 Axes>"
      ]
     },
     "metadata": {},
     "output_type": "display_data"
    }
   ],
   "source": [
    "# Boxplot\n",
    "sns.boxplot(x='dose', y='effort', hue='gender', data=vit, palette='Set2')\n",
    "plt.title(\"Effort by Dose and Gender Interaction\")\n",
    "plt.xlabel(\"Dose Type\")\n",
    "plt.ylabel(\"Effort Level\")\n",
    "plt.legend(title=\"Gender\")\n",
    "plt.show()"
   ]
  },
  {
   "cell_type": "code",
   "execution_count": null,
   "id": "80611af1-775c-41a2-ace8-08f5400aa4d6",
   "metadata": {},
   "outputs": [],
   "source": []
  }
 ],
 "metadata": {
  "kernelspec": {
   "display_name": "Python 3 (ipykernel)",
   "language": "python",
   "name": "python3"
  },
  "language_info": {
   "codemirror_mode": {
    "name": "ipython",
    "version": 3
   },
   "file_extension": ".py",
   "mimetype": "text/x-python",
   "name": "python",
   "nbconvert_exporter": "python",
   "pygments_lexer": "ipython3",
   "version": "3.11.7"
  }
 },
 "nbformat": 4,
 "nbformat_minor": 5
}
