{
 "cells": [
  {
   "cell_type": "markdown",
   "id": "1e820b45-3e38-4a25-8551-82a0d686d94e",
   "metadata": {},
   "source": [
    "## Funksiya yaratmaq"
   ]
  },
  {
   "cell_type": "code",
   "execution_count": 1,
   "id": "6899d09f-862e-4b46-bb55-72ac6832e755",
   "metadata": {},
   "outputs": [],
   "source": [
    "func_1 <- function() {\n",
    "  print(\"Ilk funksiyam\")\n",
    "}"
   ]
  },
  {
   "cell_type": "code",
   "execution_count": 2,
   "id": "01c50641-b6f9-443b-9711-484e5fd525a0",
   "metadata": {},
   "outputs": [
    {
     "name": "stdout",
     "output_type": "stream",
     "text": [
      "[1] \"Ilk funksiyam\"\n"
     ]
    }
   ],
   "source": [
    "func_1()"
   ]
  },
  {
   "cell_type": "code",
   "execution_count": 3,
   "id": "9e57cda5-0d6a-4359-b9d8-12df33967ef3",
   "metadata": {},
   "outputs": [],
   "source": [
    "func_2 <- function(ad, soyad) {\n",
    "  print(paste(\"Mənim adım\", ad, \", soyadım\", soyad, \"dir.\"))\n",
    "}"
   ]
  },
  {
   "cell_type": "code",
   "execution_count": 4,
   "id": "61adbadd-7352-4015-9917-bd5bdb92f0b7",
   "metadata": {},
   "outputs": [
    {
     "name": "stdout",
     "output_type": "stream",
     "text": [
      "[1] \"Mənim adım Tərlan , soyadım Cəbiyev dir.\"\n"
     ]
    }
   ],
   "source": [
    "func_2(\"Tərlan\", \"Cəbiyev\")"
   ]
  },
  {
   "cell_type": "code",
   "execution_count": 5,
   "id": "1f8982b0-e54a-4051-919f-69851e73bae1",
   "metadata": {},
   "outputs": [
    {
     "name": "stdout",
     "output_type": "stream",
     "text": [
      "[1] \"Mənim adım X , soyadım Y dir.\"\n"
     ]
    }
   ],
   "source": [
    "func_2 <- function(ad = \"X\", soyad = \"Y\") {\n",
    "  print(paste(\"Mənim adım\", ad, \", soyadım\", soyad, \"dir.\"))\n",
    "}\n",
    "\n",
    "func_2()"
   ]
  },
  {
   "cell_type": "code",
   "execution_count": 6,
   "id": "4ed14ff1-741c-4806-a63f-501c2abc8fb8",
   "metadata": {},
   "outputs": [
    {
     "name": "stdout",
     "output_type": "stream",
     "text": [
      "[1] \"Mənim adım Tərlan , soyadım Cəbiyev dir.\"\n"
     ]
    }
   ],
   "source": [
    "func_2(\"Tərlan\", \"Cəbiyev\")"
   ]
  },
  {
   "cell_type": "code",
   "execution_count": 7,
   "id": "bce0ebd5-7c0a-4706-be35-2e0dd75843fe",
   "metadata": {},
   "outputs": [],
   "source": [
    "func_3 <- function(x) {\n",
    "  i <- 0\n",
    "  while (i < x) {\n",
    "    print(i)\n",
    "    i <- i + 1\n",
    "  }\n",
    "}"
   ]
  },
  {
   "cell_type": "code",
   "execution_count": 8,
   "id": "ddc1530e-9996-4c8b-9e08-360d2718bb80",
   "metadata": {},
   "outputs": [
    {
     "name": "stdout",
     "output_type": "stream",
     "text": [
      "[1] 0\n",
      "[1] 1\n",
      "[1] 2\n",
      "[1] 3\n",
      "[1] 4\n"
     ]
    }
   ],
   "source": [
    "func_3(5)"
   ]
  },
  {
   "cell_type": "code",
   "execution_count": 9,
   "id": "d8e26688-3bbf-4409-8c6a-fb2949680cc0",
   "metadata": {},
   "outputs": [],
   "source": [
    "func_4 <- function(x, y) {\n",
    "  for (i in x:y) {  \n",
    "    print(i)\n",
    "  }\n",
    "}"
   ]
  },
  {
   "cell_type": "code",
   "execution_count": 10,
   "id": "01fdbdad-1f97-45d8-ad32-eabb5920a17b",
   "metadata": {},
   "outputs": [
    {
     "name": "stdout",
     "output_type": "stream",
     "text": [
      "[1] 5\n",
      "[1] 6\n",
      "[1] 7\n",
      "[1] 8\n",
      "[1] 9\n"
     ]
    }
   ],
   "source": [
    "func_4(5, 9)"
   ]
  },
  {
   "cell_type": "code",
   "execution_count": 11,
   "id": "f3a15124-424c-4301-834b-13de5b04943e",
   "metadata": {},
   "outputs": [],
   "source": [
    "func_5 <- function(x) {\n",
    "  for (x in x) {\n",
    "    print(x)\n",
    "  }\n",
    "}"
   ]
  },
  {
   "cell_type": "code",
   "execution_count": 12,
   "id": "6cc65e04-e1ad-46ea-9af0-5e9675603d3a",
   "metadata": {},
   "outputs": [
    {
     "name": "stdout",
     "output_type": "stream",
     "text": [
      "[1] \"a\"\n",
      "[1] \"b\"\n",
      "[1] \"c\"\n",
      "[1] \"d\"\n",
      "[1] \"e\"\n"
     ]
    }
   ],
   "source": [
    "h <- c(\"a\", \"b\", \"c\", \"d\", \"e\")\n",
    "\n",
    "func_5(h)"
   ]
  },
  {
   "cell_type": "code",
   "execution_count": 13,
   "id": "3eb005fb-1507-4528-b5b8-f4aa5a535241",
   "metadata": {},
   "outputs": [],
   "source": [
    "ortalama <- function(x) {\n",
    "  s <- sum(x)\n",
    "  n <- length(x)\n",
    "  return(s / n)\n",
    "}"
   ]
  },
  {
   "cell_type": "code",
   "execution_count": 14,
   "id": "cb1d7242-78f8-44aa-bde3-42d2e064bb48",
   "metadata": {},
   "outputs": [
    {
     "data": {
      "text/html": [
       "5.5"
      ],
      "text/latex": [
       "5.5"
      ],
      "text/markdown": [
       "5.5"
      ],
      "text/plain": [
       "[1] 5.5"
      ]
     },
     "metadata": {},
     "output_type": "display_data"
    }
   ],
   "source": [
    "ortalama(1:10)"
   ]
  },
  {
   "cell_type": "code",
   "execution_count": 15,
   "id": "cffe8f69-211c-4cbd-ad74-7336eb3a0500",
   "metadata": {},
   "outputs": [],
   "source": [
    "ortalama <- function(y, hesab = TRUE) {\n",
    "  n <- length(y)\n",
    "  if (hesab) {\n",
    "    return(sum(y) / n)\n",
    "  } else {\n",
    "    return(sum(y) + 7777)\n",
    "  }\n",
    "}"
   ]
  },
  {
   "cell_type": "code",
   "execution_count": 16,
   "id": "f7ee8510-aef5-40dc-88a4-6d003d43621b",
   "metadata": {},
   "outputs": [
    {
     "data": {
      "text/html": [
       "50.5"
      ],
      "text/latex": [
       "50.5"
      ],
      "text/markdown": [
       "50.5"
      ],
      "text/plain": [
       "[1] 50.5"
      ]
     },
     "metadata": {},
     "output_type": "display_data"
    },
    {
     "data": {
      "text/html": [
       "12827"
      ],
      "text/latex": [
       "12827"
      ],
      "text/markdown": [
       "12827"
      ],
      "text/plain": [
       "[1] 12827"
      ]
     },
     "metadata": {},
     "output_type": "display_data"
    }
   ],
   "source": [
    "y <- 1:100  \n",
    "\n",
    "ortalama(y, hesab = TRUE)\n",
    "ortalama(y, hesab = FALSE)"
   ]
  },
  {
   "cell_type": "code",
   "execution_count": 17,
   "id": "1067fe5a-d761-4842-9a95-740b25a622d8",
   "metadata": {},
   "outputs": [],
   "source": [
    "cəm_1 <- function(x) {\n",
    "  tot <- 0\n",
    "  for (rəqəm in x) {\n",
    "    tot <- tot + rəqəm\n",
    "  }\n",
    "  return(tot)\n",
    "}"
   ]
  },
  {
   "cell_type": "code",
   "execution_count": 18,
   "id": "e1f15c2b-6d6f-48f6-8d40-dd6af679044a",
   "metadata": {},
   "outputs": [
    {
     "data": {
      "text/html": [
       "10"
      ],
      "text/latex": [
       "10"
      ],
      "text/markdown": [
       "10"
      ],
      "text/plain": [
       "[1] 10"
      ]
     },
     "metadata": {},
     "output_type": "display_data"
    }
   ],
   "source": [
    "numbers <- c(1, 2, 3, 4)\n",
    "\n",
    "cəm_1(numbers)"
   ]
  },
  {
   "cell_type": "markdown",
   "id": "fa28708c-2997-4ddc-8cf6-66dd2b643f2e",
   "metadata": {},
   "source": [
    "## Scope(local, global)"
   ]
  },
  {
   "cell_type": "code",
   "execution_count": 19,
   "id": "87c34f77-0220-4da9-92f9-f2ae36bc862a",
   "metadata": {},
   "outputs": [
    {
     "data": {
      "text/html": [
       "'Bu local dəyişəndir.'"
      ],
      "text/latex": [
       "'Bu local dəyişəndir.'"
      ],
      "text/markdown": [
       "'Bu local dəyişəndir.'"
      ],
      "text/plain": [
       "[1] \"Bu local dəyişəndir.\""
      ]
     },
     "metadata": {},
     "output_type": "display_data"
    }
   ],
   "source": [
    "func_6 <- function() {\n",
    "  local_dəyişən <- \"Bu local dəyişəndir.\"\n",
    "  local_dəyişən\n",
    "}\n",
    "\n",
    "func_6()"
   ]
  },
  {
   "cell_type": "code",
   "execution_count": 20,
   "id": "a79ab275-b52b-4ce1-b36c-0a4d74cade3f",
   "metadata": {},
   "outputs": [
    {
     "data": {
      "text/html": [
       "'Bu global dəyişəndir.'"
      ],
      "text/latex": [
       "'Bu global dəyişəndir.'"
      ],
      "text/markdown": [
       "'Bu global dəyişəndir.'"
      ],
      "text/plain": [
       "[1] \"Bu global dəyişəndir.\""
      ]
     },
     "metadata": {},
     "output_type": "display_data"
    }
   ],
   "source": [
    "global_dəyişən <- \"Bu global dəyişəndir.\"\n",
    "\n",
    "func_7 <- function() {\n",
    "  global_dəyişən\n",
    "}\n",
    "\n",
    "func_7()"
   ]
  },
  {
   "cell_type": "code",
   "execution_count": 21,
   "id": "a877eef3-0dc6-4e15-9c91-89ced631fae2",
   "metadata": {},
   "outputs": [
    {
     "data": {
      "text/html": [
       "'Local y: 10'"
      ],
      "text/latex": [
       "'Local y: 10'"
      ],
      "text/markdown": [
       "'Local y: 10'"
      ],
      "text/plain": [
       "[1] \"Local y: 10\""
      ]
     },
     "metadata": {},
     "output_type": "display_data"
    },
    {
     "data": {
      "text/html": [
       "'Global y: 5'"
      ],
      "text/latex": [
       "'Global y: 5'"
      ],
      "text/markdown": [
       "'Global y: 5'"
      ],
      "text/plain": [
       "[1] \"Global y: 5\""
      ]
     },
     "metadata": {},
     "output_type": "display_data"
    }
   ],
   "source": [
    "y <- 5\n",
    "\n",
    "func_8 <- function() {\n",
    "  y <- 10\n",
    "  paste(\"Local y:\", y)\n",
    "}\n",
    "\n",
    "func_8()\n",
    "paste(\"Global y:\", y)"
   ]
  },
  {
   "cell_type": "markdown",
   "id": "5c67ef7c-885d-4786-951c-5f0247f28bb1",
   "metadata": {},
   "source": [
    "## *args, **kwargs"
   ]
  },
  {
   "cell_type": "raw",
   "id": "275bd7d5-0212-4889-a71f-83466db4bb39",
   "metadata": {},
   "source": [
    "Rda *args üçün ..., **kwargs üçün adlı arqumentlər və list() istifadə edilir."
   ]
  },
  {
   "cell_type": "code",
   "execution_count": 22,
   "id": "a0e52db3-8cb6-4edc-888d-990d474ecaf0",
   "metadata": {},
   "outputs": [],
   "source": [
    "cəm_2 <- function(...) {\n",
    "  return(sum(...))\n",
    "}"
   ]
  },
  {
   "cell_type": "code",
   "execution_count": 23,
   "id": "b882b359-4e33-43fa-af4b-a3ce80f40192",
   "metadata": {},
   "outputs": [
    {
     "data": {
      "text/html": [
       "6"
      ],
      "text/latex": [
       "6"
      ],
      "text/markdown": [
       "6"
      ],
      "text/plain": [
       "[1] 6"
      ]
     },
     "metadata": {},
     "output_type": "display_data"
    },
    {
     "data": {
      "text/html": [
       "30"
      ],
      "text/latex": [
       "30"
      ],
      "text/markdown": [
       "30"
      ],
      "text/plain": [
       "[1] 30"
      ]
     },
     "metadata": {},
     "output_type": "display_data"
    }
   ],
   "source": [
    "cəm_2(1, 2, 3)\n",
    "cəm_2(10, 20)"
   ]
  },
  {
   "cell_type": "code",
   "execution_count": 24,
   "id": "c446c775-107b-43f6-a6ac-3a2a688c9679",
   "metadata": {},
   "outputs": [],
   "source": [
    "cəm_3 <- function(...) {\n",
    "  args <- c(...)\n",
    "  cəm <- 0\n",
    "  for (rəqəm in args) {\n",
    "    cəm <- cəm + rəqəm\n",
    "  }\n",
    "  return(cəm)\n",
    "}"
   ]
  },
  {
   "cell_type": "code",
   "execution_count": 25,
   "id": "b05495d4-278a-4233-b3c6-2fe1108823d6",
   "metadata": {},
   "outputs": [
    {
     "data": {
      "text/html": [
       "25"
      ],
      "text/latex": [
       "25"
      ],
      "text/markdown": [
       "25"
      ],
      "text/plain": [
       "[1] 25"
      ]
     },
     "metadata": {},
     "output_type": "display_data"
    }
   ],
   "source": [
    "cəm_3(3, 5, 7, 10)"
   ]
  },
  {
   "cell_type": "code",
   "execution_count": 26,
   "id": "18459fc4-9faa-4be7-bd77-f67a5fd3da68",
   "metadata": {},
   "outputs": [],
   "source": [
    "ortalama_2 <- function(...) {\n",
    "  args <- c(...)\n",
    "  cəm <- 0\n",
    "  say <- 0\n",
    "  for (rəqəm in args) {\n",
    "    cəm <- cəm + rəqəm\n",
    "    say <- say + 1\n",
    "  }\n",
    "  if (say == 0) {\n",
    "    return(\"Element yoxdur.\")\n",
    "  }\n",
    "  return(cəm / say)\n",
    "}"
   ]
  },
  {
   "cell_type": "code",
   "execution_count": 27,
   "id": "03f26f4f-e444-4ca2-9921-e9ed707a7441",
   "metadata": {},
   "outputs": [
    {
     "data": {
      "text/html": [
       "6.25"
      ],
      "text/latex": [
       "6.25"
      ],
      "text/markdown": [
       "6.25"
      ],
      "text/plain": [
       "[1] 6.25"
      ]
     },
     "metadata": {},
     "output_type": "display_data"
    }
   ],
   "source": [
    "ortalama_2(3, 5, 7, 10)"
   ]
  },
  {
   "cell_type": "code",
   "execution_count": 28,
   "id": "4a676768-bff3-48f0-ae9f-2c75f5464cba",
   "metadata": {},
   "outputs": [],
   "source": [
    "ad_rəqəm <- function(...) {\n",
    "  kwargs <- c(...)\n",
    "  for (ad in names(kwargs)) {\n",
    "    print(paste(\"ad:\", ad, \", rəqəm:\", kwargs[[ad]]))\n",
    "  }\n",
    "}"
   ]
  },
  {
   "cell_type": "code",
   "execution_count": 29,
   "id": "09bb8141-1ce4-4dc6-bb9c-8b355fc5fc4b",
   "metadata": {},
   "outputs": [
    {
     "name": "stdout",
     "output_type": "stream",
     "text": [
      "[1] \"ad: bir , rəqəm: 1\"\n",
      "[1] \"ad: iki , rəqəm: 2\"\n",
      "[1] \"ad: üç , rəqəm: 3\"\n"
     ]
    }
   ],
   "source": [
    "ad_rəqəm(bir = 1, iki = 2, üç = 3)"
   ]
  },
  {
   "cell_type": "code",
   "execution_count": 30,
   "id": "4e62f1fb-61ff-4fb0-9c60-de1c078374ac",
   "metadata": {},
   "outputs": [],
   "source": [
    "qarışıq_funksiya <- function(ad, ..., extra = list()) {\n",
    "  print(paste(\"Ad:\", ad))\n",
    "  print(\"Alətlər:\")\n",
    "  print(list(...))\n",
    "  print(\"Əlavə məlumatlar:\")\n",
    "  print(extra)\n",
    "}"
   ]
  },
  {
   "cell_type": "code",
   "execution_count": 31,
   "id": "44adcbc4-9d63-4d76-81fa-b743bc0fe89f",
   "metadata": {},
   "outputs": [
    {
     "name": "stdout",
     "output_type": "stream",
     "text": [
      "[1] \"Ad: Data Science\"\n",
      "[1] \"Alətlər:\"\n",
      "[[1]]\n",
      "[1] \"Python\"\n",
      "\n",
      "[[2]]\n",
      "[1] \"R\"\n",
      "\n",
      "[1] \"Əlavə məlumatlar:\"\n",
      "$məktəb\n",
      "[1] \"Alas Academy\"\n",
      "\n",
      "$məkan\n",
      "[1] \"AF Business House\"\n",
      "\n"
     ]
    }
   ],
   "source": [
    "qarışıq_funksiya(\"Data Science\", \"Python\", \"R\", extra = list(məktəb = \"Alas Academy\", məkan = \"AF Business House\"))"
   ]
  },
  {
   "cell_type": "markdown",
   "id": "32a42b5d-8b08-4141-b8bf-bd9a0786fcec",
   "metadata": {},
   "source": [
    "### R-da zip() ekvivalenti yoxdur, lakin eyni funksionallığı yazmaq mümkündür"
   ]
  },
  {
   "cell_type": "code",
   "execution_count": 32,
   "id": "298f17d6-8a60-4f53-9652-8e4481ff855b",
   "metadata": {},
   "outputs": [
    {
     "name": "stdout",
     "output_type": "stream",
     "text": [
      "[1] \"A - 1\"\n",
      "[1] \"B - 2\"\n",
      "[1] \"C - 3\"\n"
     ]
    }
   ],
   "source": [
    "hərflər <- c(\"A\", \"B\", \"C\")\n",
    "rəqəmlər <- c(1, 2, 3)\n",
    "\n",
    "for (i in 1:length(hərflər)) {\n",
    "  print(paste(hərflər[i], \"-\", rəqəmlər[i]))\n",
    "}"
   ]
  },
  {
   "cell_type": "code",
   "execution_count": 33,
   "id": "36c1abfd-6e84-4196-bf12-60258571bdfd",
   "metadata": {},
   "outputs": [],
   "source": [
    "çəkili_ortalama <- function(rəqəmlər, çəkilər) {\n",
    "  if (length(rəqəmlər) != length(çəkilər)) {\n",
    "    return(\"Rəqəmlər və çəkilər eyni uzunluqda olmalıdır.\")\n",
    "  }\n",
    "  cəmi <- 0\n",
    "  çəkili_cəmi <- 0\n",
    "  for (i in 1:length(rəqəmlər)) {\n",
    "    çəkili_cəmi <- çəkili_cəmi + rəqəmlər[i] * çəkilər[i]\n",
    "    cəmi <- cəmi + çəkilər[i]\n",
    "  }\n",
    "  if (cəmi == 0) {\n",
    "    return(\"Çəkilərin cəmi sıfır ola bilməz.\")\n",
    "  }\n",
    "  return(çəkili_cəmi / cəmi)\n",
    "}"
   ]
  },
  {
   "cell_type": "code",
   "execution_count": 34,
   "id": "fc3b040d-1941-4c5e-a4ce-2ae1f75eba59",
   "metadata": {},
   "outputs": [
    {
     "data": {
      "text/html": [
       "83"
      ],
      "text/latex": [
       "83"
      ],
      "text/markdown": [
       "83"
      ],
      "text/plain": [
       "[1] 83"
      ]
     },
     "metadata": {},
     "output_type": "display_data"
    }
   ],
   "source": [
    "rəqəmlər <- c(90, 80, 70)\n",
    "çəkişlər <- c(0.5, 0.3, 0.2)\n",
    "çəkili_ortalama(rəqəmlər, çəkişlər)"
   ]
  },
  {
   "cell_type": "markdown",
   "id": "bd9aa02f-6e19-4da0-ac7a-aabae813a93d",
   "metadata": {},
   "source": [
    "## is.*() funksiyaları"
   ]
  },
  {
   "cell_type": "code",
   "execution_count": 35,
   "id": "af89d966-6dc9-495f-b6cd-affe16c0550e",
   "metadata": {},
   "outputs": [
    {
     "data": {
      "text/html": [
       "TRUE"
      ],
      "text/latex": [
       "TRUE"
      ],
      "text/markdown": [
       "TRUE"
      ],
      "text/plain": [
       "[1] TRUE"
      ]
     },
     "metadata": {},
     "output_type": "display_data"
    },
    {
     "data": {
      "text/html": [
       "TRUE"
      ],
      "text/latex": [
       "TRUE"
      ],
      "text/markdown": [
       "TRUE"
      ],
      "text/plain": [
       "[1] TRUE"
      ]
     },
     "metadata": {},
     "output_type": "display_data"
    },
    {
     "data": {
      "text/html": [
       "TRUE"
      ],
      "text/latex": [
       "TRUE"
      ],
      "text/markdown": [
       "TRUE"
      ],
      "text/plain": [
       "[1] TRUE"
      ]
     },
     "metadata": {},
     "output_type": "display_data"
    }
   ],
   "source": [
    "is.numeric(3.14)\n",
    "is.character(\"Salam\")\n",
    "is.list(list(1, 2, 3))"
   ]
  },
  {
   "cell_type": "code",
   "execution_count": 36,
   "id": "e45e456e-2cb4-4973-b84c-07a7f7447a3a",
   "metadata": {},
   "outputs": [],
   "source": [
    "func_9 <- function(x) {\n",
    "  if (is.numeric(x)) {\n",
    "    print(\"numeric\")\n",
    "  } else {\n",
    "    print(\"not numeric\")\n",
    "  }\n",
    "}"
   ]
  },
  {
   "cell_type": "code",
   "execution_count": 37,
   "id": "a2c2c534-3c96-43af-bd51-851fd0eebbe2",
   "metadata": {},
   "outputs": [
    {
     "name": "stdout",
     "output_type": "stream",
     "text": [
      "[1] \"numeric\"\n",
      "[1] \"not numeric\"\n"
     ]
    }
   ],
   "source": [
    "func_9(51)\n",
    "func_9(\"əlli bir\")"
   ]
  },
  {
   "cell_type": "code",
   "execution_count": 38,
   "id": "fe2a1d8f-a13d-43b6-b43a-a2a7076c2b92",
   "metadata": {},
   "outputs": [],
   "source": [
    "func_10 <- function(dəyər) {\n",
    "  if (is.character(dəyər)) {\n",
    "    print(\"Bu mətn tipindədir.\")\n",
    "  } else if (is.numeric(dəyər)) {\n",
    "    print(\"Bu rəqəm tipindədir.\")\n",
    "  } else {\n",
    "    print(\"Bu digər tipdədir.\")\n",
    "  }\n",
    "}"
   ]
  },
  {
   "cell_type": "code",
   "execution_count": 39,
   "id": "6ca233c6-d2d9-4590-86fa-e59770a52913",
   "metadata": {},
   "outputs": [
    {
     "name": "stdout",
     "output_type": "stream",
     "text": [
      "[1] \"Bu rəqəm tipindədir.\"\n",
      "[1] \"Bu mətn tipindədir.\"\n"
     ]
    }
   ],
   "source": [
    "func_10(100)\n",
    "func_10(\"Salam\")"
   ]
  },
  {
   "cell_type": "markdown",
   "id": "cb04e93d-c2be-4c36-8254-d3886caebfe4",
   "metadata": {},
   "source": [
    "## readline()"
   ]
  },
  {
   "cell_type": "code",
   "execution_count": 40,
   "id": "037a2bb3-a921-42ca-b2ea-40f7a54bf171",
   "metadata": {},
   "outputs": [
    {
     "name": "stdin",
     "output_type": "stream",
     "text": [
      "Adınızı daxil edin:  Tərlan\n"
     ]
    },
    {
     "data": {
      "text/html": [
       "'Salam, Tərlan 👋'"
      ],
      "text/latex": [
       "'Salam, Tərlan 👋'"
      ],
      "text/markdown": [
       "'Salam, Tərlan 👋'"
      ],
      "text/plain": [
       "[1] \"Salam, Tərlan 👋\""
      ]
     },
     "metadata": {},
     "output_type": "display_data"
    }
   ],
   "source": [
    "ad <- readline(prompt = \"Adınızı daxil edin: \")\n",
    "paste(\"Salam,\", ad, \"👋\")"
   ]
  },
  {
   "cell_type": "code",
   "execution_count": 41,
   "id": "993fdd8e-7d54-4b31-adbe-93837e0320c7",
   "metadata": {},
   "outputs": [
    {
     "name": "stdin",
     "output_type": "stream",
     "text": [
      "Adınızı daxil edin:  Tərlan\n",
      "Yaşınızı daxil edin:  28\n"
     ]
    },
    {
     "data": {
      "text/html": [
       "'Tərlan 28'"
      ],
      "text/latex": [
       "'Tərlan 28'"
      ],
      "text/markdown": [
       "'Tərlan 28'"
      ],
      "text/plain": [
       "[1] \"Tərlan 28\""
      ]
     },
     "metadata": {},
     "output_type": "display_data"
    }
   ],
   "source": [
    "ad <- readline(prompt = \"Adınızı daxil edin: \")\n",
    "yaş <- as.integer(readline(prompt = \"Yaşınızı daxil edin: \"))\n",
    "paste(ad, yaş)"
   ]
  },
  {
   "cell_type": "code",
   "execution_count": 42,
   "id": "e9a538b5-b795-4968-88f8-d1e2519dae38",
   "metadata": {},
   "outputs": [
    {
     "name": "stdin",
     "output_type": "stream",
     "text": [
      "Yaşınızı daxil edin:  28\n"
     ]
    },
    {
     "name": "stdout",
     "output_type": "stream",
     "text": [
      "[1] \"Siz yetkinlik yaşına çatmısınız.\"\n"
     ]
    }
   ],
   "source": [
    "yas <- readline(prompt = \"Yaşınızı daxil edin: \")\n",
    "if (yas < 18) {\n",
    "  print(\"Siz yetkinlik yaşına çatmamısınız.\")\n",
    "} else {\n",
    "  print(\"Siz yetkinlik yaşına çatmısınız.\")\n",
    "}"
   ]
  },
  {
   "cell_type": "code",
   "execution_count": 43,
   "id": "2ce1b8b2-a43a-4168-833c-6698461ee2de",
   "metadata": {},
   "outputs": [
    {
     "name": "stdin",
     "output_type": "stream",
     "text": [
      "Boyunuzu (metrlə) daxil edin:  1.75\n",
      "Çəkinizi (kq ilə) daxil edin:  65\n"
     ]
    },
    {
     "name": "stdout",
     "output_type": "stream",
     "text": [
      "[1] \"Sizin BMI-niz: 21.22\"\n"
     ]
    }
   ],
   "source": [
    "boy <- as.numeric(readline(prompt = \"Boyunuzu (metrlə) daxil edin: \"))\n",
    "ceki <- as.numeric(readline(prompt = \"Çəkinizi (kq ilə) daxil edin: \"))\n",
    "bmi <- ceki / (boy^2)\n",
    "sprintf(\"Sizin BMI-niz: %.2f\", bmi)"
   ]
  },
  {
   "cell_type": "code",
   "execution_count": 44,
   "id": "d84f758e-c6bb-43c3-a155-7da5e53589ae",
   "metadata": {},
   "outputs": [
    {
     "name": "stdin",
     "output_type": "stream",
     "text": [
      "Sevdiyiniz sözü daxil edin:  SÖZ\n"
     ]
    },
    {
     "data": {
      "text/html": [
       "'Daxil etdiyiniz söz SÖZ 3 simvoldan ibarətdir.'"
      ],
      "text/latex": [
       "'Daxil etdiyiniz söz SÖZ 3 simvoldan ibarətdir.'"
      ],
      "text/markdown": [
       "'Daxil etdiyiniz söz SÖZ 3 simvoldan ibarətdir.'"
      ],
      "text/plain": [
       "[1] \"Daxil etdiyiniz söz SÖZ 3 simvoldan ibarətdir.\""
      ]
     },
     "metadata": {},
     "output_type": "display_data"
    }
   ],
   "source": [
    "söz <- readline(prompt = \"Sevdiyiniz sözü daxil edin: \")\n",
    "uzunluq <- nchar(söz)\n",
    "paste(\"Daxil etdiyiniz söz\", söz, uzunluq, \"simvoldan ibarətdir.\")"
   ]
  },
  {
   "cell_type": "code",
   "execution_count": 45,
   "id": "f5d6610a-9ebe-4f32-ae43-3a9aa2b5631f",
   "metadata": {},
   "outputs": [
    {
     "name": "stdin",
     "output_type": "stream",
     "text": [
      "Çay (1), yoxsa qəhvə (2)?  1\n"
     ]
    },
    {
     "name": "stdout",
     "output_type": "stream",
     "text": [
      "[1] \"Çay hazırlanır...\"\n"
     ]
    }
   ],
   "source": [
    "seçim <- readline(prompt = \"Çay (1), yoxsa qəhvə (2)? \")\n",
    "if (seçim == \"1\") {\n",
    "  print(\"Çay hazırlanır...\")\n",
    "} else if (seçim == \"2\") {\n",
    "  print(\"Qəhvə hazırlanır...\")\n",
    "} else {\n",
    "  print(\"Yanlış seçim etdiniz!\")\n",
    "}"
   ]
  },
  {
   "cell_type": "code",
   "execution_count": null,
   "id": "726ca6fa-11ba-42cc-ac8d-52a5c3fbf779",
   "metadata": {},
   "outputs": [],
   "source": []
  }
 ],
 "metadata": {
  "kernelspec": {
   "display_name": "R",
   "language": "R",
   "name": "ir"
  },
  "language_info": {
   "codemirror_mode": "r",
   "file_extension": ".r",
   "mimetype": "text/x-r-source",
   "name": "R",
   "pygments_lexer": "r",
   "version": "4.4.2"
  }
 },
 "nbformat": 4,
 "nbformat_minor": 5
}
