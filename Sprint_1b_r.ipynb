{
 "cells": [
  {
   "cell_type": "markdown",
   "id": "99c53f24-db76-4144-9ed0-7907604df164",
   "metadata": {},
   "source": [
    "## String"
   ]
  },
  {
   "cell_type": "code",
   "execution_count": 1,
   "id": "53915578-95e4-4585-8afd-4cd2578b01bb",
   "metadata": {},
   "outputs": [
    {
     "data": {
      "text/html": [
       "'Alas'"
      ],
      "text/latex": [
       "'Alas'"
      ],
      "text/markdown": [
       "'Alas'"
      ],
      "text/plain": [
       "[1] \"Alas\""
      ]
     },
     "metadata": {},
     "output_type": "display_data"
    }
   ],
   "source": [
    "\"Alas\""
   ]
  },
  {
   "cell_type": "code",
   "execution_count": 2,
   "id": "4cc3d577-056c-445b-a8f5-74a8858cbc0c",
   "metadata": {},
   "outputs": [
    {
     "data": {
      "text/html": [
       "'Alas'"
      ],
      "text/latex": [
       "'Alas'"
      ],
      "text/markdown": [
       "'Alas'"
      ],
      "text/plain": [
       "[1] \"Alas\""
      ]
     },
     "metadata": {},
     "output_type": "display_data"
    }
   ],
   "source": [
    "'Alas'"
   ]
  },
  {
   "cell_type": "code",
   "execution_count": 3,
   "id": "1e4c5c63-51fc-47a5-a936-e1e055331e11",
   "metadata": {},
   "outputs": [
    {
     "data": {
      "text/html": [
       "'Salam Alas'"
      ],
      "text/latex": [
       "'Salam Alas'"
      ],
      "text/markdown": [
       "'Salam Alas'"
      ],
      "text/plain": [
       "[1] \"Salam Alas\""
      ]
     },
     "metadata": {},
     "output_type": "display_data"
    }
   ],
   "source": [
    "'Salam Alas'"
   ]
  },
  {
   "cell_type": "markdown",
   "id": "3786275b-a5a3-4751-9a75-9d07705e41ee",
   "metadata": {},
   "source": [
    "### Index"
   ]
  },
  {
   "cell_type": "code",
   "execution_count": 4,
   "id": "1f612e29-a513-430c-a05d-bd11065754d0",
   "metadata": {},
   "outputs": [],
   "source": [
    "söz = 'Alas'\n",
    "cümlə = 'Salam Alas'"
   ]
  },
  {
   "cell_type": "code",
   "execution_count": 5,
   "id": "73524b63-ade4-4f56-b0b4-5e34c5c8609f",
   "metadata": {},
   "outputs": [
    {
     "data": {
      "text/html": [
       "4"
      ],
      "text/latex": [
       "4"
      ],
      "text/markdown": [
       "4"
      ],
      "text/plain": [
       "[1] 4"
      ]
     },
     "metadata": {},
     "output_type": "display_data"
    }
   ],
   "source": [
    "nchar(söz)"
   ]
  },
  {
   "cell_type": "code",
   "execution_count": 6,
   "id": "6e7a0a6d-a43b-4f09-8415-ec9627da1a4a",
   "metadata": {},
   "outputs": [
    {
     "data": {
      "text/html": [
       "'A'"
      ],
      "text/latex": [
       "'A'"
      ],
      "text/markdown": [
       "'A'"
      ],
      "text/plain": [
       "[1] \"A\""
      ]
     },
     "metadata": {},
     "output_type": "display_data"
    }
   ],
   "source": [
    "substr(söz, 1, 1)"
   ]
  },
  {
   "cell_type": "code",
   "execution_count": 7,
   "id": "0840245d-b3f5-4a21-b5eb-df575ab373f4",
   "metadata": {},
   "outputs": [
    {
     "data": {
      "text/html": [
       "'l'"
      ],
      "text/latex": [
       "'l'"
      ],
      "text/markdown": [
       "'l'"
      ],
      "text/plain": [
       "[1] \"l\""
      ]
     },
     "metadata": {},
     "output_type": "display_data"
    }
   ],
   "source": [
    "substr(söz, 2, 2)"
   ]
  },
  {
   "cell_type": "code",
   "execution_count": 8,
   "id": "036b9953-ff02-43e6-860d-8e628908bba6",
   "metadata": {},
   "outputs": [
    {
     "data": {
      "text/html": [
       "'s'"
      ],
      "text/latex": [
       "'s'"
      ],
      "text/markdown": [
       "'s'"
      ],
      "text/plain": [
       "[1] \"s\""
      ]
     },
     "metadata": {},
     "output_type": "display_data"
    }
   ],
   "source": [
    "substr(cümlə, nchar(cümlə), nchar(cümlə))"
   ]
  },
  {
   "cell_type": "code",
   "execution_count": null,
   "id": "17fe5294-573d-4b22-bfa8-92dceed4ef7c",
   "metadata": {},
   "outputs": [],
   "source": []
  },
  {
   "cell_type": "code",
   "execution_count": 9,
   "id": "376c8535-495f-41be-ac0b-4aad4cb737a0",
   "metadata": {},
   "outputs": [
    {
     "data": {
      "text/html": [
       "'al'"
      ],
      "text/latex": [
       "'al'"
      ],
      "text/markdown": [
       "'al'"
      ],
      "text/plain": [
       "[1] \"al\""
      ]
     },
     "metadata": {},
     "output_type": "display_data"
    }
   ],
   "source": [
    "substr(cümlə, 2, 3)"
   ]
  },
  {
   "cell_type": "code",
   "execution_count": 10,
   "id": "e698dbdb-0c48-42fa-b408-be7ead57e00c",
   "metadata": {},
   "outputs": [
    {
     "data": {
      "text/html": [
       "10"
      ],
      "text/latex": [
       "10"
      ],
      "text/markdown": [
       "10"
      ],
      "text/plain": [
       "[1] 10"
      ]
     },
     "metadata": {},
     "output_type": "display_data"
    }
   ],
   "source": [
    "nchar(cümlə)"
   ]
  },
  {
   "cell_type": "code",
   "execution_count": 11,
   "id": "c9161ee4-19b7-4dd4-9771-3589b64c8ae1",
   "metadata": {},
   "outputs": [],
   "source": [
    "söz_2 = \"academy\""
   ]
  },
  {
   "cell_type": "code",
   "execution_count": 12,
   "id": "bc56cd31-8909-4028-9d5a-20cc165c2340",
   "metadata": {},
   "outputs": [
    {
     "data": {
      "text/html": [
       "'Alasacademy'"
      ],
      "text/latex": [
       "'Alasacademy'"
      ],
      "text/markdown": [
       "'Alasacademy'"
      ],
      "text/plain": [
       "[1] \"Alasacademy\""
      ]
     },
     "metadata": {},
     "output_type": "display_data"
    }
   ],
   "source": [
    "paste0(söz, söz_2)"
   ]
  },
  {
   "cell_type": "code",
   "execution_count": 13,
   "id": "b73c826a-337b-46a3-a9ee-0eabfa22e539",
   "metadata": {},
   "outputs": [
    {
     "data": {
      "text/html": [
       "'Alas academy'"
      ],
      "text/latex": [
       "'Alas academy'"
      ],
      "text/markdown": [
       "'Alas academy'"
      ],
      "text/plain": [
       "[1] \"Alas academy\""
      ]
     },
     "metadata": {},
     "output_type": "display_data"
    }
   ],
   "source": [
    "paste(söz, söz_2)"
   ]
  },
  {
   "cell_type": "code",
   "execution_count": 14,
   "id": "1c68d1ba-86dd-4dd3-8d32-9cae79f89054",
   "metadata": {},
   "outputs": [
    {
     "data": {
      "text/html": [
       "'Data Science ➡️ 𝐑ꨄ 𝙖𝙣𝙙 𝓟ᥫ᭡'"
      ],
      "text/latex": [
       "'Data Science ➡️ 𝐑ꨄ 𝙖𝙣𝙙 𝓟ᥫ᭡'"
      ],
      "text/markdown": [
       "'Data Science ➡️ 𝐑ꨄ 𝙖𝙣𝙙 𝓟ᥫ᭡'"
      ],
      "text/plain": [
       "[1] \"Data Science ➡️ 𝐑ꨄ 𝙖𝙣𝙙 𝓟ᥫ᭡\""
      ]
     },
     "metadata": {},
     "output_type": "display_data"
    }
   ],
   "source": [
    "paste(\"Data Science\", \"➡️\", \"𝐑ꨄ\", \"𝙖𝙣𝙙\", \"𝓟ᥫ᭡\", sep=\" \")"
   ]
  },
  {
   "cell_type": "markdown",
   "id": "2712915a-79d0-4422-b85d-12e2de78e0a4",
   "metadata": {},
   "source": [
    "### Xüsusi funksiyalar"
   ]
  },
  {
   "cell_type": "code",
   "execution_count": 15,
   "id": "b4d8744f-ee11-4e60-8317-580ffcd337f7",
   "metadata": {},
   "outputs": [
    {
     "data": {
      "text/html": [
       "'ACADEMY'"
      ],
      "text/latex": [
       "'ACADEMY'"
      ],
      "text/markdown": [
       "'ACADEMY'"
      ],
      "text/plain": [
       "[1] \"ACADEMY\""
      ]
     },
     "metadata": {},
     "output_type": "display_data"
    }
   ],
   "source": [
    "toupper(söz_2)"
   ]
  },
  {
   "cell_type": "code",
   "execution_count": 16,
   "id": "99a2b95e-8fc7-4750-be47-2db609f9c9ad",
   "metadata": {},
   "outputs": [
    {
     "data": {
      "text/html": [
       "'salam alas'"
      ],
      "text/latex": [
       "'salam alas'"
      ],
      "text/markdown": [
       "'salam alas'"
      ],
      "text/plain": [
       "[1] \"salam alas\""
      ]
     },
     "metadata": {},
     "output_type": "display_data"
    }
   ],
   "source": [
    "tolower(cümlə)"
   ]
  },
  {
   "cell_type": "code",
   "execution_count": 17,
   "id": "d11478e6-3f5d-4eec-9fa3-a63ae91ab24e",
   "metadata": {},
   "outputs": [
    {
     "data": {
      "text/html": [
       "<ol>\n",
       "\t<li><style>\n",
       ".list-inline {list-style: none; margin:0; padding: 0}\n",
       ".list-inline>li {display: inline-block}\n",
       ".list-inline>li:not(:last-child)::after {content: \"\\00b7\"; padding: 0 .5ex}\n",
       "</style>\n",
       "<ol class=list-inline><li>'Salam'</li><li>'Alas'</li></ol>\n",
       "</li>\n",
       "</ol>\n"
      ],
      "text/latex": [
       "\\begin{enumerate}\n",
       "\\item \\begin{enumerate*}\n",
       "\\item 'Salam'\n",
       "\\item 'Alas'\n",
       "\\end{enumerate*}\n",
       "\n",
       "\\end{enumerate}\n"
      ],
      "text/markdown": [
       "1. 1. 'Salam'\n",
       "2. 'Alas'\n",
       "\n",
       "\n",
       "\n",
       "\n",
       "\n"
      ],
      "text/plain": [
       "[[1]]\n",
       "[1] \"Salam\" \"Alas\" \n"
      ]
     },
     "metadata": {},
     "output_type": "display_data"
    }
   ],
   "source": [
    "strsplit(cümlə, \" \")"
   ]
  },
  {
   "cell_type": "code",
   "execution_count": 18,
   "id": "f4d3e64f-074d-4e0b-93c9-a9bd870ad28e",
   "metadata": {},
   "outputs": [],
   "source": [
    "cümlə_2 = \"Salam-Alas-Academy\""
   ]
  },
  {
   "cell_type": "code",
   "execution_count": 19,
   "id": "736b3da3-2200-4bb1-bd45-d5aef3869e24",
   "metadata": {},
   "outputs": [
    {
     "data": {
      "text/html": [
       "<ol>\n",
       "\t<li><style>\n",
       ".list-inline {list-style: none; margin:0; padding: 0}\n",
       ".list-inline>li {display: inline-block}\n",
       ".list-inline>li:not(:last-child)::after {content: \"\\00b7\"; padding: 0 .5ex}\n",
       "</style>\n",
       "<ol class=list-inline><li>'Salam'</li><li>'Alas'</li><li>'Academy'</li></ol>\n",
       "</li>\n",
       "</ol>\n"
      ],
      "text/latex": [
       "\\begin{enumerate}\n",
       "\\item \\begin{enumerate*}\n",
       "\\item 'Salam'\n",
       "\\item 'Alas'\n",
       "\\item 'Academy'\n",
       "\\end{enumerate*}\n",
       "\n",
       "\\end{enumerate}\n"
      ],
      "text/markdown": [
       "1. 1. 'Salam'\n",
       "2. 'Alas'\n",
       "3. 'Academy'\n",
       "\n",
       "\n",
       "\n",
       "\n",
       "\n"
      ],
      "text/plain": [
       "[[1]]\n",
       "[1] \"Salam\"   \"Alas\"    \"Academy\"\n"
      ]
     },
     "metadata": {},
     "output_type": "display_data"
    }
   ],
   "source": [
    "strsplit(cümlə_2, \"-\")"
   ]
  },
  {
   "cell_type": "code",
   "execution_count": 20,
   "id": "c49ef7b7-69c3-44a7-95f3-cd504e279fef",
   "metadata": {},
   "outputs": [
    {
     "data": {
      "text/html": [
       "'Salam Alas Academy'"
      ],
      "text/latex": [
       "'Salam Alas Academy'"
      ],
      "text/markdown": [
       "'Salam Alas Academy'"
      ],
      "text/plain": [
       "[1] \"Salam Alas Academy\""
      ]
     },
     "metadata": {},
     "output_type": "display_data"
    }
   ],
   "source": [
    "gsub(\"-\", \" \", cümlə_2)"
   ]
  },
  {
   "cell_type": "markdown",
   "id": "a1d6cecf-ee8f-4429-864c-a5dc057627f2",
   "metadata": {},
   "source": [
    "## Format Print"
   ]
  },
  {
   "cell_type": "code",
   "execution_count": 21,
   "id": "8a871985-1e25-49c9-a99d-475cb70e171d",
   "metadata": {},
   "outputs": [
    {
     "data": {
      "text/html": [
       "5.33333333333333"
      ],
      "text/latex": [
       "5.33333333333333"
      ],
      "text/markdown": [
       "5.33333333333333"
      ],
      "text/plain": [
       "[1] 5.333333"
      ]
     },
     "metadata": {},
     "output_type": "display_data"
    }
   ],
   "source": [
    "hesab = 16 / 3\n",
    "hesab"
   ]
  },
  {
   "cell_type": "code",
   "execution_count": 22,
   "id": "bb41100e-359b-45cc-a560-3434b9ae1274",
   "metadata": {},
   "outputs": [],
   "source": [
    "son_hesab = round(hesab, 1)"
   ]
  },
  {
   "cell_type": "code",
   "execution_count": 23,
   "id": "412cf12e-ea62-48c8-b4c0-4f4b30467e78",
   "metadata": {},
   "outputs": [
    {
     "data": {
      "text/html": [
       "'given number: 5.33'"
      ],
      "text/latex": [
       "'given number: 5.33'"
      ],
      "text/markdown": [
       "'given number: 5.33'"
      ],
      "text/plain": [
       "[1] \"given number: 5.33\""
      ]
     },
     "metadata": {},
     "output_type": "display_data"
    }
   ],
   "source": [
    "sprintf(\"given number: %.2f\", hesab)"
   ]
  },
  {
   "cell_type": "code",
   "execution_count": 24,
   "id": "83f8a92e-e049-4c3a-8b9e-49e842545664",
   "metadata": {},
   "outputs": [
    {
     "data": {
      "text/html": [
       "'Mənim 22 yaşım var'"
      ],
      "text/latex": [
       "'Mənim 22 yaşım var'"
      ],
      "text/markdown": [
       "'Mənim 22 yaşım var'"
      ],
      "text/plain": [
       "[1] \"Mənim 22 yaşım var\""
      ]
     },
     "metadata": {},
     "output_type": "display_data"
    }
   ],
   "source": [
    "sprintf(\"Mənim %d yaşım var\", 22)"
   ]
  },
  {
   "cell_type": "code",
   "execution_count": 25,
   "id": "e945cd5d-5d6b-4add-8804-2dbae584d2d6",
   "metadata": {},
   "outputs": [
    {
     "data": {
      "text/html": [
       "'Nəticə 5.33333333333333, Son nəticə: 5.3'"
      ],
      "text/latex": [
       "'Nəticə 5.33333333333333, Son nəticə: 5.3'"
      ],
      "text/markdown": [
       "'Nəticə 5.33333333333333, Son nəticə: 5.3'"
      ],
      "text/plain": [
       "[1] \"Nəticə 5.33333333333333, Son nəticə: 5.3\""
      ]
     },
     "metadata": {},
     "output_type": "display_data"
    }
   ],
   "source": [
    "sprintf(\"Nəticə %s, Son nəticə: %s\", hesab, son_hesab)"
   ]
  },
  {
   "cell_type": "code",
   "execution_count": 26,
   "id": "746c2f12-e12e-448e-b3d8-a8b0f2dd4132",
   "metadata": {},
   "outputs": [
    {
     "name": "stdout",
     "output_type": "stream",
     "text": [
      "Nəticə 5.33, Son nəticə: 5.3"
     ]
    }
   ],
   "source": [
    "cat(sprintf(\"Nəticə %.2f, Son nəticə: %s\", hesab, son_hesab))"
   ]
  },
  {
   "cell_type": "code",
   "execution_count": 27,
   "id": "7b62bcd2-6996-40df-ac2e-95f4859fb587",
   "metadata": {},
   "outputs": [
    {
     "name": "stdout",
     "output_type": "stream",
     "text": [
      "Nəticə 5.33,\n",
      "Son nəticə: 5.3"
     ]
    }
   ],
   "source": [
    "cat(sprintf(\"Nəticə %.2f,\\nSon nəticə: %s\", hesab, son_hesab))"
   ]
  },
  {
   "cell_type": "code",
   "execution_count": null,
   "id": "8c697162-0e38-468c-a0cf-e2b43aa3ecea",
   "metadata": {},
   "outputs": [],
   "source": []
  }
 ],
 "metadata": {
  "kernelspec": {
   "display_name": "R",
   "language": "R",
   "name": "ir"
  },
  "language_info": {
   "codemirror_mode": "r",
   "file_extension": ".r",
   "mimetype": "text/x-r-source",
   "name": "R",
   "pygments_lexer": "r",
   "version": "4.4.2"
  }
 },
 "nbformat": 4,
 "nbformat_minor": 5
}
