{
 "cells": [
  {
   "cell_type": "markdown",
   "id": "f1cd12a8-e509-44a8-9dba-996ea8617d42",
   "metadata": {},
   "source": [
    "## plotnine paketi"
   ]
  },
  {
   "cell_type": "code",
   "execution_count": 1,
   "id": "0cd07182-3731-4e69-800b-e34663bcf88d",
   "metadata": {},
   "outputs": [],
   "source": [
    "import pandas as pd\n",
    "from plotnine import *\n",
    "from plotnine.data import mpg"
   ]
  },
  {
   "cell_type": "code",
   "execution_count": 2,
   "id": "49f485de-4025-43ec-8a95-18e5471fad7e",
   "metadata": {},
   "outputs": [
    {
     "data": {
      "text/html": [
       "<div>\n",
       "<style scoped>\n",
       "    .dataframe tbody tr th:only-of-type {\n",
       "        vertical-align: middle;\n",
       "    }\n",
       "\n",
       "    .dataframe tbody tr th {\n",
       "        vertical-align: top;\n",
       "    }\n",
       "\n",
       "    .dataframe thead th {\n",
       "        text-align: right;\n",
       "    }\n",
       "</style>\n",
       "<table border=\"1\" class=\"dataframe\">\n",
       "  <thead>\n",
       "    <tr style=\"text-align: right;\">\n",
       "      <th></th>\n",
       "      <th>manufacturer</th>\n",
       "      <th>model</th>\n",
       "      <th>displ</th>\n",
       "      <th>year</th>\n",
       "      <th>cyl</th>\n",
       "      <th>trans</th>\n",
       "      <th>drv</th>\n",
       "      <th>cty</th>\n",
       "      <th>hwy</th>\n",
       "      <th>fl</th>\n",
       "      <th>class</th>\n",
       "    </tr>\n",
       "  </thead>\n",
       "  <tbody>\n",
       "    <tr>\n",
       "      <th>0</th>\n",
       "      <td>audi</td>\n",
       "      <td>a4</td>\n",
       "      <td>1.8</td>\n",
       "      <td>1999</td>\n",
       "      <td>4</td>\n",
       "      <td>auto(l5)</td>\n",
       "      <td>f</td>\n",
       "      <td>18</td>\n",
       "      <td>29</td>\n",
       "      <td>p</td>\n",
       "      <td>compact</td>\n",
       "    </tr>\n",
       "    <tr>\n",
       "      <th>1</th>\n",
       "      <td>audi</td>\n",
       "      <td>a4</td>\n",
       "      <td>1.8</td>\n",
       "      <td>1999</td>\n",
       "      <td>4</td>\n",
       "      <td>manual(m5)</td>\n",
       "      <td>f</td>\n",
       "      <td>21</td>\n",
       "      <td>29</td>\n",
       "      <td>p</td>\n",
       "      <td>compact</td>\n",
       "    </tr>\n",
       "    <tr>\n",
       "      <th>2</th>\n",
       "      <td>audi</td>\n",
       "      <td>a4</td>\n",
       "      <td>2.0</td>\n",
       "      <td>2008</td>\n",
       "      <td>4</td>\n",
       "      <td>manual(m6)</td>\n",
       "      <td>f</td>\n",
       "      <td>20</td>\n",
       "      <td>31</td>\n",
       "      <td>p</td>\n",
       "      <td>compact</td>\n",
       "    </tr>\n",
       "    <tr>\n",
       "      <th>3</th>\n",
       "      <td>audi</td>\n",
       "      <td>a4</td>\n",
       "      <td>2.0</td>\n",
       "      <td>2008</td>\n",
       "      <td>4</td>\n",
       "      <td>auto(av)</td>\n",
       "      <td>f</td>\n",
       "      <td>21</td>\n",
       "      <td>30</td>\n",
       "      <td>p</td>\n",
       "      <td>compact</td>\n",
       "    </tr>\n",
       "    <tr>\n",
       "      <th>4</th>\n",
       "      <td>audi</td>\n",
       "      <td>a4</td>\n",
       "      <td>2.8</td>\n",
       "      <td>1999</td>\n",
       "      <td>6</td>\n",
       "      <td>auto(l5)</td>\n",
       "      <td>f</td>\n",
       "      <td>16</td>\n",
       "      <td>26</td>\n",
       "      <td>p</td>\n",
       "      <td>compact</td>\n",
       "    </tr>\n",
       "  </tbody>\n",
       "</table>\n",
       "</div>"
      ],
      "text/plain": [
       "  manufacturer model  displ  year  cyl       trans drv  cty  hwy fl    class\n",
       "0         audi    a4    1.8  1999    4    auto(l5)   f   18   29  p  compact\n",
       "1         audi    a4    1.8  1999    4  manual(m5)   f   21   29  p  compact\n",
       "2         audi    a4    2.0  2008    4  manual(m6)   f   20   31  p  compact\n",
       "3         audi    a4    2.0  2008    4    auto(av)   f   21   30  p  compact\n",
       "4         audi    a4    2.8  1999    6    auto(l5)   f   16   26  p  compact"
      ]
     },
     "execution_count": 2,
     "metadata": {},
     "output_type": "execute_result"
    }
   ],
   "source": [
    "data = mpg\n",
    "data.head()"
   ]
  },
  {
   "cell_type": "code",
   "execution_count": null,
   "id": "8b15205a-0fcc-4b7f-a719-b81951d155b9",
   "metadata": {},
   "outputs": [],
   "source": [
    "#set x,y\n",
    "ggplot(data, aes('displ', 'cty'))"
   ]
  },
  {
   "cell_type": "code",
   "execution_count": null,
   "id": "df191122-b557-42f8-a8a6-9c28261432fe",
   "metadata": {},
   "outputs": [],
   "source": [
    "#add geometry\n",
    "(\n",
    "   ggplot(data, aes('displ', 'cty')) +\n",
    "    geom_point() \n",
    ")"
   ]
  },
  {
   "cell_type": "code",
   "execution_count": null,
   "id": "972278d8-24e9-4d82-8ea2-0b7c107a48cf",
   "metadata": {},
   "outputs": [],
   "source": [
    "#add colour\n",
    "(\n",
    "   ggplot(data, aes('displ', 'cty')) +\n",
    "    geom_point(color = 'red') \n",
    ")"
   ]
  },
  {
   "cell_type": "code",
   "execution_count": null,
   "id": "03c552b9-e33d-499e-9b4c-fbcc240cb59f",
   "metadata": {},
   "outputs": [],
   "source": [
    "#add size \n",
    "(\n",
    "   ggplot(data, aes('displ', 'cty', size = 'hwy')) +\n",
    "    geom_point(color = 'red') \n",
    ")"
   ]
  },
  {
   "cell_type": "code",
   "execution_count": null,
   "id": "291ad394-f91c-4970-8efb-d91875d6d680",
   "metadata": {},
   "outputs": [],
   "source": [
    "#add labs\n",
    "(\n",
    "   ggplot(data, aes('displ', 'cty', size = 'hwy')) +\n",
    "    geom_point(color = 'red') +\n",
    "    labs(\n",
    "        x = 'mühərrikin həcmi',\n",
    "        y = 'millər',\n",
    "        title = 'Yanacaq iqtisadiyyatı məlumatları',\n",
    "        subtitle = 'Scatterplot'\n",
    "    )\n",
    ")"
   ]
  },
  {
   "cell_type": "code",
   "execution_count": null,
   "id": "9b8194b6-4fb9-4d6a-8537-c5ddd0ad6fa2",
   "metadata": {},
   "outputs": [],
   "source": [
    "#add scales \n",
    "(\n",
    "   ggplot(data, aes('displ', 'cty', size = 'hwy')) +\n",
    "    geom_point(color = 'red') +\n",
    "    labs(\n",
    "        x = 'mühərrikin həcmi',\n",
    "        y = 'millər',\n",
    "        title = 'Yanacaq iqtisadiyyatı məlumatları',\n",
    "        subtitle = 'Scatterplot'\n",
    "    ) +\n",
    "    scale_y_continuous(breaks=range(0, 51, 2))\n",
    ")"
   ]
  },
  {
   "cell_type": "code",
   "execution_count": null,
   "id": "b6ef3532-3fc6-4ea8-96d3-1f932c2bb3a0",
   "metadata": {},
   "outputs": [],
   "source": [
    "# add facet\n",
    "\n",
    "data['total'] = data['hwy'] + data['cty']\n",
    "\n",
    "(\n",
    "    ggplot(data, aes('total')) +\n",
    "    geom_histogram(aes(fill='class'), color='black') +\n",
    "    facet_grid('class ~ .')\n",
    ")"
   ]
  },
  {
   "cell_type": "code",
   "execution_count": null,
   "id": "65a47ef4-5e9f-426c-b18d-becfe1a04221",
   "metadata": {},
   "outputs": [],
   "source": [
    "p = ggplot(data, aes('hwy', 'cty', colour = 'class'))\n",
    "p + geom_point(color = 'red')"
   ]
  },
  {
   "cell_type": "code",
   "execution_count": null,
   "id": "7a162330-0635-4d3f-aead-25f093dd7292",
   "metadata": {},
   "outputs": [],
   "source": [
    "(\n",
    "    p + \n",
    "    geom_point(color = 'red') + \n",
    "    facet_grid('class ~ .', scales = 'free') +\n",
    "    theme(legend_position='none')\n",
    ")"
   ]
  },
  {
   "cell_type": "code",
   "execution_count": null,
   "id": "2fd2103b-1454-40cf-bc7f-323729c608c7",
   "metadata": {},
   "outputs": [],
   "source": [
    "(\n",
    "    p + \n",
    "    geom_point(color = 'red') + \n",
    "    facet_grid('. ~ year', scales = 'free') +\n",
    "    theme(legend_position='none')\n",
    ")"
   ]
  },
  {
   "cell_type": "code",
   "execution_count": null,
   "id": "8cadd9d3-7cb9-4223-8422-5de519d203d7",
   "metadata": {},
   "outputs": [],
   "source": [
    "p = (\n",
    "    p + \n",
    "    geom_point(color = 'red') + \n",
    "    facet_grid('class ~ year', scales = 'free') +\n",
    "    theme(legend_position='none')\n",
    ")\n",
    "p"
   ]
  },
  {
   "cell_type": "markdown",
   "id": "2d3188a3-3f41-455f-b78e-0db594cb7bf4",
   "metadata": {},
   "source": [
    "## plotly paketi"
   ]
  },
  {
   "cell_type": "code",
   "execution_count": null,
   "id": "8519a42f-724b-460c-8f81-d81476882fc2",
   "metadata": {},
   "outputs": [],
   "source": [
    "import plotly.express as px\n",
    "import plotly.graph_objects as go"
   ]
  },
  {
   "cell_type": "code",
   "execution_count": null,
   "id": "7923db83-8243-4751-847b-f4cb910082a4",
   "metadata": {},
   "outputs": [],
   "source": [
    "fig = px.scatter(\n",
    "    data_frame = data,\n",
    "    x = 'displ',\n",
    "    y = 'cty',\n",
    "    size = 'hwy',\n",
    "    color_discrete_sequence = ['yellow'], \n",
    "    title = 'Yanacaq iqtisadiyyatı məlumatları<br><sup>Scatterplot</sup>',\n",
    "    labels = {'displ': 'mühərrikin həcmi', 'cty': 'millər'},\n",
    ")\n",
    "\n",
    "fig.show()"
   ]
  },
  {
   "cell_type": "code",
   "execution_count": null,
   "id": "6f214fbf-1dd0-484b-b8ad-9e59cef2da05",
   "metadata": {},
   "outputs": [],
   "source": [
    "fig.update_layout(\n",
    "    template = 'plotly_white',\n",
    "    title_font_size = 20,\n",
    "    title_x = 0.5\n",
    ")\n",
    "\n",
    "fig.show()"
   ]
  },
  {
   "cell_type": "code",
   "execution_count": null,
   "id": "3a2ed363-eb46-4a65-a1c9-b11025d8c5a8",
   "metadata": {},
   "outputs": [],
   "source": [
    "# Histogram\n",
    "\n",
    "fig2 = px.histogram(\n",
    "    data,\n",
    "    x = \"hwy\",\n",
    "    color = \"trans\",\n",
    "    nbins = 30,\n",
    "    title = \"Highway Mileage Histogram by Transmission\",\n",
    "    labels = {\"hwy\": \"Highway MPG\"},\n",
    "    color_discrete_sequence = px.colors.qualitative.Set3\n",
    ")\n",
    "\n",
    "fig2.update_layout(\n",
    "    xaxis = dict(dtick = 5),\n",
    "    yaxis = dict(dtick = 2),\n",
    "    bargap = 0.5,\n",
    "    template = \"plotly_white\",\n",
    "    title_x = 0.5\n",
    ")\n",
    "\n",
    "fig2.show()"
   ]
  },
  {
   "cell_type": "code",
   "execution_count": null,
   "id": "b9064841-9e72-48ee-b2de-c7bcc67ab2cf",
   "metadata": {},
   "outputs": [],
   "source": [
    "# Boxplot\n",
    "\n",
    "fig3 = px.box(\n",
    "    data,\n",
    "    y = \"hwy\",\n",
    "    color = \"class\",\n",
    "    title = \"Highway Mileage by Class\",\n",
    "    labels = {\"hwy\": \"Highway MPG\"},\n",
    "    color_discrete_sequence = px.colors.qualitative.Set2\n",
    ")\n",
    "fig3.update_layout(\n",
    "    template = \"plotly_white\", \n",
    "    title_x = 0.5\n",
    ")\n",
    "\n",
    "fig3.show()"
   ]
  },
  {
   "cell_type": "markdown",
   "id": "6d00081e-7c34-4e9d-8818-9bd29053c6ec",
   "metadata": {},
   "source": [
    "## save plot"
   ]
  },
  {
   "cell_type": "code",
   "execution_count": null,
   "id": "666080a2-f694-489d-9706-19e38e754ac2",
   "metadata": {},
   "outputs": [],
   "source": [
    "p"
   ]
  },
  {
   "cell_type": "code",
   "execution_count": null,
   "id": "a6007975-752a-4638-b0ea-7c7bb8e26492",
   "metadata": {},
   "outputs": [],
   "source": [
    "p.save(\"p.png\")"
   ]
  },
  {
   "cell_type": "code",
   "execution_count": null,
   "id": "0ba2ce71-53dc-4fbb-9387-bd05abe0ed07",
   "metadata": {},
   "outputs": [],
   "source": [
    "p.save(\"p.jpg\")"
   ]
  },
  {
   "cell_type": "code",
   "execution_count": null,
   "id": "7b2a89d7-3b09-4110-bc19-81686b6da8e7",
   "metadata": {},
   "outputs": [],
   "source": [
    "p.save(\"p.pdf\")   "
   ]
  },
  {
   "cell_type": "code",
   "execution_count": null,
   "id": "d2f02404-72bd-4ea7-93a7-a5e475d681e2",
   "metadata": {},
   "outputs": [],
   "source": [
    "fig2.write_html(\"fig2.html\")"
   ]
  }
 ],
 "metadata": {
  "kernelspec": {
   "display_name": "Python 3 (ipykernel)",
   "language": "python",
   "name": "python3"
  },
  "language_info": {
   "codemirror_mode": {
    "name": "ipython",
    "version": 3
   },
   "file_extension": ".py",
   "mimetype": "text/x-python",
   "name": "python",
   "nbconvert_exporter": "python",
   "pygments_lexer": "ipython3",
   "version": "3.11.7"
  }
 },
 "nbformat": 4,
 "nbformat_minor": 5
}
