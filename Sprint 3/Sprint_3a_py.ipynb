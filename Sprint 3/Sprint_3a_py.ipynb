{
 "cells": [
  {
   "cell_type": "markdown",
   "id": "77190c8c-0b4c-43a4-8c16-4a677be78536",
   "metadata": {},
   "source": [
    "## if, else, elif"
   ]
  },
  {
   "cell_type": "code",
   "execution_count": 1,
   "id": "d639ec5c-d174-47a4-933c-6bf13a078537",
   "metadata": {},
   "outputs": [
    {
     "name": "stdout",
     "output_type": "stream",
     "text": [
      "2 böyükdür 1dən\n"
     ]
    }
   ],
   "source": [
    "if 2 > 1:\n",
    "    print(\"2 böyükdür 1dən\")"
   ]
  },
  {
   "cell_type": "code",
   "execution_count": 2,
   "id": "4fb7c330-fb85-45e5-a92c-9ba48b465ee0",
   "metadata": {},
   "outputs": [
    {
     "name": "stdout",
     "output_type": "stream",
     "text": [
      "True\n"
     ]
    }
   ],
   "source": [
    "if 2 > 1 and 1 == 1:\n",
    "    print(True)"
   ]
  },
  {
   "cell_type": "code",
   "execution_count": 3,
   "id": "0edb18b0-c58f-4d57-bd1f-ded13d9cfc7a",
   "metadata": {},
   "outputs": [],
   "source": [
    "if 2 > 1 & 1 == 0:\n",
    "    print(True)"
   ]
  },
  {
   "cell_type": "code",
   "execution_count": 4,
   "id": "b5cbd3e6-6b0a-4d87-8d04-ef0295a69b43",
   "metadata": {},
   "outputs": [
    {
     "name": "stdout",
     "output_type": "stream",
     "text": [
      "True\n"
     ]
    }
   ],
   "source": [
    "if 2 > 1 or 1 == 0:\n",
    "    print(True)"
   ]
  },
  {
   "cell_type": "code",
   "execution_count": 5,
   "id": "2387678a-d460-4ea5-bb6c-b74838c07063",
   "metadata": {},
   "outputs": [
    {
     "name": "stdout",
     "output_type": "stream",
     "text": [
      "False\n"
     ]
    }
   ],
   "source": [
    "if 2 > 1 & 1 == 0:\n",
    "    print(True)\n",
    "else:\n",
    "    print(False)"
   ]
  },
  {
   "cell_type": "code",
   "execution_count": 6,
   "id": "6165f30c-db51-4a38-a703-0108bf08cc60",
   "metadata": {},
   "outputs": [
    {
     "name": "stdout",
     "output_type": "stream",
     "text": [
      "x_1 və x_2 bərabər deyil\n"
     ]
    }
   ],
   "source": [
    "x_1 = 'X'\n",
    "x_2 = 'x'\n",
    "\n",
    "if x_1 == x_2:\n",
    "    print(\"x_1 və x_2 bərabərdir\")\n",
    "else:\n",
    "    print(\"x_1 və x_2 bərabər deyil\")"
   ]
  },
  {
   "cell_type": "code",
   "execution_count": 7,
   "id": "58c951a3-cc46-4afb-b9cc-c10d63300051",
   "metadata": {},
   "outputs": [
    {
     "name": "stdout",
     "output_type": "stream",
     "text": [
      "x 5dən böyükdür, ancaq 9dan kiçikdir\n"
     ]
    }
   ],
   "source": [
    "x = 7\n",
    "\n",
    "if x >= 9:\n",
    "    print(\"x 9dan böyükdür və ya 9a bərabərdir\")\n",
    "elif x > 5:\n",
    "    print(\"x 5dən böyükdür, ancaq 9dan kiçikdir\")\n",
    "else:\n",
    "    print(\"x 5dən kiçikdir\")"
   ]
  },
  {
   "cell_type": "code",
   "execution_count": 8,
   "id": "b8e5ca43-dbd4-4201-9be4-5b788278db84",
   "metadata": {},
   "outputs": [
    {
     "name": "stdout",
     "output_type": "stream",
     "text": [
      "söz_2 daha uzundur\n"
     ]
    }
   ],
   "source": [
    "söz_1 = \"söz_1\"\n",
    "söz_2 = \"söz_2.\"\n",
    "\n",
    "if len(söz_1) == len(söz_2):\n",
    "    print(\"uzunluqlar bərabərdir\")\n",
    "elif len(söz_1) < len(söz_2):\n",
    "    print(\"söz_2 daha uzundur\")\n",
    "else:\n",
    "    print(\"söz_1 daha uzundur\")"
   ]
  },
  {
   "cell_type": "markdown",
   "id": "a0de402b-95b4-4567-a20a-740b3772a5be",
   "metadata": {},
   "source": [
    "## while loop"
   ]
  },
  {
   "cell_type": "code",
   "execution_count": 9,
   "id": "d7cb781d-1bbe-48c8-ab97-2c96d139c953",
   "metadata": {},
   "outputs": [],
   "source": [
    "# while(2 > 1){\n",
    "#   print(\"stop\")\n",
    "# }"
   ]
  },
  {
   "cell_type": "code",
   "execution_count": 10,
   "id": "faa75b92-1050-41e9-87fa-31261035f46a",
   "metadata": {},
   "outputs": [
    {
     "name": "stdout",
     "output_type": "stream",
     "text": [
      "1\n",
      "2\n",
      "3\n",
      "4\n",
      "5\n",
      "6\n",
      "7\n",
      "8\n",
      "9\n",
      "10\n",
      "11\n"
     ]
    }
   ],
   "source": [
    "z = 1\n",
    "\n",
    "while z < 12:\n",
    "    print(z)\n",
    "    z = z + 1"
   ]
  },
  {
   "cell_type": "code",
   "execution_count": 11,
   "id": "9897ecab-c395-40b8-bdda-778a0597da93",
   "metadata": {},
   "outputs": [
    {
     "name": "stdout",
     "output_type": "stream",
     "text": [
      "1\n",
      "2\n",
      "3\n",
      "4\n",
      "5\n",
      "6\n",
      "7\n",
      "8\n",
      "9\n",
      "10\n",
      "11\n"
     ]
    }
   ],
   "source": [
    "z = 1\n",
    "\n",
    "while z < 12:\n",
    "    print(z)\n",
    "    z += 1"
   ]
  },
  {
   "cell_type": "markdown",
   "id": "11834c53-44e7-492f-a0f2-3a963fab9af6",
   "metadata": {},
   "source": [
    "## for loop"
   ]
  },
  {
   "cell_type": "code",
   "execution_count": 12,
   "id": "fec6345d-e18e-46e9-ae20-c0ad1914304d",
   "metadata": {},
   "outputs": [
    {
     "name": "stdout",
     "output_type": "stream",
     "text": [
      "0\n",
      "1\n",
      "2\n",
      "3\n",
      "4\n",
      "5\n",
      "6\n",
      "7\n",
      "8\n"
     ]
    }
   ],
   "source": [
    "for i in range(9):\n",
    "    print(i)"
   ]
  },
  {
   "cell_type": "code",
   "execution_count": 13,
   "id": "5c3cfeb5-bfd4-4792-9e6f-f1eb89d48b7a",
   "metadata": {},
   "outputs": [
    {
     "name": "stdout",
     "output_type": "stream",
     "text": [
      "5\n",
      "6\n",
      "7\n",
      "8\n"
     ]
    }
   ],
   "source": [
    "for i in range(5,9):\n",
    "    print(i)"
   ]
  },
  {
   "cell_type": "code",
   "execution_count": 14,
   "id": "0ba5b9a9-6acd-47e3-8e6b-efdbb96225cb",
   "metadata": {},
   "outputs": [
    {
     "name": "stdout",
     "output_type": "stream",
     "text": [
      "1\n",
      "3\n",
      "5\n"
     ]
    }
   ],
   "source": [
    "for i in range(1,6,2):\n",
    "    print(i)"
   ]
  },
  {
   "cell_type": "code",
   "execution_count": 15,
   "id": "d93f620a-f312-4132-9705-553d2124b42e",
   "metadata": {},
   "outputs": [
    {
     "name": "stdout",
     "output_type": "stream",
     "text": [
      "a\n",
      "b\n",
      "c\n",
      "d\n",
      "e\n"
     ]
    }
   ],
   "source": [
    "x = ['a','b','c','d','e']\n",
    "\n",
    "for x in x:\n",
    "    print(x)"
   ]
  },
  {
   "cell_type": "code",
   "execution_count": 16,
   "id": "4398e7be-8266-475c-9e82-a16ae51337c0",
   "metadata": {},
   "outputs": [
    {
     "name": "stdout",
     "output_type": "stream",
     "text": [
      "3\n",
      "11\n"
     ]
    }
   ],
   "source": [
    "list = [2, 3, 5, 7, 11, 13]\n",
    "\n",
    "for gəzən in [1,4]:\n",
    "    print(list[gəzən])"
   ]
  },
  {
   "cell_type": "code",
   "execution_count": 17,
   "id": "d342702b-57fc-4082-8113-4feede79fd61",
   "metadata": {},
   "outputs": [
    {
     "name": "stdout",
     "output_type": "stream",
     "text": [
      "1 a\n",
      "1 b\n",
      "1 c\n",
      "1 d\n",
      "1 e\n",
      "2 a\n",
      "2 b\n",
      "2 c\n",
      "2 d\n",
      "2 e\n",
      "3 a\n",
      "3 b\n",
      "3 c\n",
      "3 d\n",
      "3 e\n",
      "4 a\n",
      "4 b\n",
      "4 c\n",
      "4 d\n",
      "4 e\n"
     ]
    }
   ],
   "source": [
    "for i in range(1, 5): \n",
    "    for v in [\"a\", \"b\", \"c\", \"d\", \"e\"]:\n",
    "        print(f\"{i} {v}\") "
   ]
  },
  {
   "cell_type": "code",
   "execution_count": 18,
   "id": "c4517c94-8a64-4b57-872a-4a5dc9c21ee2",
   "metadata": {},
   "outputs": [
    {
     "name": "stdout",
     "output_type": "stream",
     "text": [
      "Data\n",
      "D\n",
      "a\n",
      "t\n",
      "a\n",
      "Science\n",
      "S\n",
      "c\n",
      "i\n",
      "e\n",
      "n\n",
      "c\n",
      "e\n",
      "Python\n",
      "P\n",
      "y\n",
      "t\n",
      "h\n",
      "o\n",
      "n\n",
      "R\n",
      "R\n",
      "Alas\n",
      "A\n",
      "l\n",
      "a\n",
      "s\n",
      "Academy\n",
      "A\n",
      "c\n",
      "a\n",
      "d\n",
      "e\n",
      "m\n",
      "y\n"
     ]
    }
   ],
   "source": [
    "X = ['Data','Science','Python','R','Alas','Academy']\n",
    "\n",
    "for i in X: \n",
    "    #print('')\n",
    "    print(i)\n",
    "    for j in i:\n",
    "        print(j)"
   ]
  },
  {
   "cell_type": "code",
   "execution_count": 19,
   "id": "267d3718-1581-4a06-ada1-283dc4a35957",
   "metadata": {},
   "outputs": [
    {
     "name": "stdout",
     "output_type": "stream",
     "text": [
      "0 Data\n",
      "1 Science\n",
      "2 Python\n",
      "3 R\n",
      "4 Alas\n",
      "5 Academy\n"
     ]
    }
   ],
   "source": [
    "for i,j in enumerate(X):\n",
    "    print(i, j)"
   ]
  },
  {
   "cell_type": "code",
   "execution_count": 20,
   "id": "99ae2a1b-9fb5-4263-8978-c41730d6d265",
   "metadata": {},
   "outputs": [
    {
     "name": "stdout",
     "output_type": "stream",
     "text": [
      "I found Python! Its index is 2\n"
     ]
    }
   ],
   "source": [
    "for i,j in enumerate(X):\n",
    "    if j == 'Python':\n",
    "        print(f\"I found Python! Its index is {i}\")"
   ]
  },
  {
   "cell_type": "code",
   "execution_count": 21,
   "id": "33ccf267-e7d5-4c02-b1d5-18236d0bc5ee",
   "metadata": {},
   "outputs": [
    {
     "name": "stdout",
     "output_type": "stream",
     "text": [
      "['0 Data', '1 Science', '2 Python', '3 R', '4 Alas', '5 Academy']\n"
     ]
    }
   ],
   "source": [
    "list = []\n",
    "\n",
    "for i,j in enumerate(X):\n",
    "    output = f\"{i} {j}\"\n",
    "    list.append(output)\n",
    "\n",
    "print(list)"
   ]
  },
  {
   "cell_type": "markdown",
   "id": "05cf0c73-9bec-4a5a-94ce-8251a1cd36c1",
   "metadata": {},
   "source": [
    "## break, continue, pass"
   ]
  },
  {
   "cell_type": "code",
   "execution_count": 22,
   "id": "ab1e0573-2207-421f-ac53-b30f26c30c98",
   "metadata": {},
   "outputs": [
    {
     "name": "stdout",
     "output_type": "stream",
     "text": [
      "0\n",
      "1\n",
      "2\n",
      "3\n",
      "4\n",
      "5\n",
      "6\n",
      "7\n"
     ]
    }
   ],
   "source": [
    "i = 0\n",
    "\n",
    "while True:\n",
    "    print(i)\n",
    "    i += 1\n",
    "    if i == 8:\n",
    "        break"
   ]
  },
  {
   "cell_type": "code",
   "execution_count": 23,
   "id": "c81cdcdb-c7ae-4303-b27d-97fa2b923f06",
   "metadata": {},
   "outputs": [
    {
     "name": "stdout",
     "output_type": "stream",
     "text": [
      "1\n",
      "2\n",
      "3\n",
      "5\n",
      "6\n",
      "7\n"
     ]
    }
   ],
   "source": [
    "i = 0\n",
    "\n",
    "while i <= 6:\n",
    "    i += 1\n",
    "    if i == 4:\n",
    "        continue\n",
    "    print(i)"
   ]
  },
  {
   "cell_type": "code",
   "execution_count": 24,
   "id": "bcd2eb56-060c-4c8a-bd5d-15d1c4c2cc5e",
   "metadata": {},
   "outputs": [
    {
     "name": "stdout",
     "output_type": "stream",
     "text": [
      "1\n",
      "2\n",
      "4\n",
      "5\n",
      "6\n",
      "7\n"
     ]
    }
   ],
   "source": [
    "i = 0\n",
    "\n",
    "while i <= 6:\n",
    "    i += 1\n",
    "    if i == 3:\n",
    "        pass\n",
    "    else:\n",
    "        print(i)"
   ]
  },
  {
   "cell_type": "code",
   "execution_count": 25,
   "id": "67f28c0e-2904-4b65-9b46-6e02d6d02863",
   "metadata": {},
   "outputs": [
    {
     "name": "stdout",
     "output_type": "stream",
     "text": [
      "0\n",
      "1\n",
      "2\n",
      "3\n",
      "4\n"
     ]
    }
   ],
   "source": [
    "for i in range(10):\n",
    "    if i == 5:\n",
    "        break\n",
    "    print(i)"
   ]
  },
  {
   "cell_type": "code",
   "execution_count": 26,
   "id": "aeb57aa4-0218-4507-90d6-517c1f89a895",
   "metadata": {},
   "outputs": [
    {
     "name": "stdout",
     "output_type": "stream",
     "text": [
      "1\n",
      "3\n",
      "5\n",
      "7\n",
      "9\n"
     ]
    }
   ],
   "source": [
    "for i in range(10):\n",
    "    if i % 2 == 0:\n",
    "        continue\n",
    "    print(i)"
   ]
  },
  {
   "cell_type": "code",
   "execution_count": 27,
   "id": "abb8d030-b1cb-42d7-baa3-2fce9f507e62",
   "metadata": {},
   "outputs": [
    {
     "name": "stdout",
     "output_type": "stream",
     "text": [
      "0\n",
      "1\n",
      "2\n",
      "4\n"
     ]
    }
   ],
   "source": [
    "for i in range(5):\n",
    "    if i == 3:\n",
    "        pass \n",
    "    else:\n",
    "        print(i)"
   ]
  },
  {
   "cell_type": "markdown",
   "id": "8e36b24c-75ee-4377-9921-c5cfc6be7c60",
   "metadata": {},
   "source": [
    "## İç-içə (nested) dövrlər"
   ]
  },
  {
   "cell_type": "code",
   "execution_count": 28,
   "id": "c3efbe61-eeed-4c37-b680-b8f31c73e8ec",
   "metadata": {},
   "outputs": [
    {
     "name": "stdout",
     "output_type": "stream",
     "text": [
      "['1 a', '1 b', '1 c', '1 d', '1 e', '2 a', '2 b', '2 c', '2 d', '2 e', '3 a', '3 b', '3 c', '3 d', '3 e', '4 a', '4 b', '4 c', '4 d', '4 e', '5 a', '5 b', '5 c', '5 d', '5 e']\n"
     ]
    }
   ],
   "source": [
    "list = []\n",
    "\n",
    "for i in range(1, 6): \n",
    "    for v in ['a', 'b', 'c', 'd', 'e']:\n",
    "        output = f\"{i} {v}\"  \n",
    "        list.append(output)\n",
    "\n",
    "print(list)"
   ]
  },
  {
   "cell_type": "code",
   "execution_count": 29,
   "id": "d2635736-8937-45f6-add9-75bfb86cd7f1",
   "metadata": {},
   "outputs": [
    {
     "data": {
      "text/html": [
       "<div>\n",
       "<style scoped>\n",
       "    .dataframe tbody tr th:only-of-type {\n",
       "        vertical-align: middle;\n",
       "    }\n",
       "\n",
       "    .dataframe tbody tr th {\n",
       "        vertical-align: top;\n",
       "    }\n",
       "\n",
       "    .dataframe thead th {\n",
       "        text-align: right;\n",
       "    }\n",
       "</style>\n",
       "<table border=\"1\" class=\"dataframe\">\n",
       "  <thead>\n",
       "    <tr style=\"text-align: right;\">\n",
       "      <th></th>\n",
       "      <th>c1</th>\n",
       "      <th>c2</th>\n",
       "      <th>c3</th>\n",
       "      <th>c4</th>\n",
       "    </tr>\n",
       "  </thead>\n",
       "  <tbody>\n",
       "    <tr>\n",
       "      <th>r1</th>\n",
       "      <td>0</td>\n",
       "      <td>1</td>\n",
       "      <td>2</td>\n",
       "      <td>3</td>\n",
       "    </tr>\n",
       "    <tr>\n",
       "      <th>r2</th>\n",
       "      <td>4</td>\n",
       "      <td>5</td>\n",
       "      <td>6</td>\n",
       "      <td>7</td>\n",
       "    </tr>\n",
       "    <tr>\n",
       "      <th>r3</th>\n",
       "      <td>8</td>\n",
       "      <td>9</td>\n",
       "      <td>10</td>\n",
       "      <td>11</td>\n",
       "    </tr>\n",
       "    <tr>\n",
       "      <th>r4</th>\n",
       "      <td>12</td>\n",
       "      <td>13</td>\n",
       "      <td>14</td>\n",
       "      <td>15</td>\n",
       "    </tr>\n",
       "    <tr>\n",
       "      <th>r5</th>\n",
       "      <td>16</td>\n",
       "      <td>17</td>\n",
       "      <td>18</td>\n",
       "      <td>19</td>\n",
       "    </tr>\n",
       "    <tr>\n",
       "      <th>r6</th>\n",
       "      <td>20</td>\n",
       "      <td>21</td>\n",
       "      <td>22</td>\n",
       "      <td>23</td>\n",
       "    </tr>\n",
       "  </tbody>\n",
       "</table>\n",
       "</div>"
      ],
      "text/plain": [
       "    c1  c2  c3  c4\n",
       "r1   0   1   2   3\n",
       "r2   4   5   6   7\n",
       "r3   8   9  10  11\n",
       "r4  12  13  14  15\n",
       "r5  16  17  18  19\n",
       "r6  20  21  22  23"
      ]
     },
     "execution_count": 29,
     "metadata": {},
     "output_type": "execute_result"
    }
   ],
   "source": [
    "import numpy as np\n",
    "import pandas as pd\n",
    "\n",
    "array = np.arange(24).reshape(6,4)\n",
    "df = pd.DataFrame(array,\n",
    "                  index = ['r1','r2','r3','r4','r5','r6'],\n",
    "                  columns = ['c1','c2','c3','c4'])\n",
    "df"
   ]
  },
  {
   "cell_type": "code",
   "execution_count": 30,
   "id": "3379ec7c-2323-464c-97a6-56e2b6aa1a4a",
   "metadata": {},
   "outputs": [
    {
     "name": "stdout",
     "output_type": "stream",
     "text": [
      "10.0\n",
      "11.0\n",
      "12.0\n",
      "13.0\n"
     ]
    }
   ],
   "source": [
    "print(df.c1.mean())\n",
    "print(df.c2.mean())\n",
    "print(df.c3.mean())\n",
    "print(df.c4.mean())"
   ]
  },
  {
   "cell_type": "code",
   "execution_count": 31,
   "id": "c8ac52fc-a77b-4d5c-b651-193f6d64b19e",
   "metadata": {},
   "outputs": [
    {
     "name": "stdout",
     "output_type": "stream",
     "text": [
      "10.0\n",
      "11.0\n",
      "12.0\n",
      "13.0\n"
     ]
    }
   ],
   "source": [
    "for col in df.columns:\n",
    "    print(df[col].mean())"
   ]
  },
  {
   "cell_type": "code",
   "execution_count": 32,
   "id": "474a82c9-d15a-4926-a150-6b27b49b790a",
   "metadata": {},
   "outputs": [
    {
     "name": "stdout",
     "output_type": "stream",
     "text": [
      "c1 10.0\n",
      "c2 11.0\n",
      "c3 12.0\n",
      "c4 13.0\n"
     ]
    }
   ],
   "source": [
    "for col in df.columns:\n",
    "    print(col, df[col].mean())"
   ]
  },
  {
   "cell_type": "code",
   "execution_count": 33,
   "id": "87f60bc9-c8d9-4a9f-b1a7-29b7b3767d8e",
   "metadata": {},
   "outputs": [
    {
     "name": "stdout",
     "output_type": "stream",
     "text": [
      "1.sətir: 4\n",
      "2.sətir: 8\n",
      "3.sətir: 12\n",
      "4.sətir: 16\n",
      "5.sətir: 20\n"
     ]
    }
   ],
   "source": [
    "for r in range(len(df)): \n",
    "    if df.iloc[r, 0] > 0:  \n",
    "        print(f\"{r}.sətir: {df.iloc[r, 0]}\") "
   ]
  },
  {
   "cell_type": "code",
   "execution_count": 34,
   "id": "21ec7d33-a47c-44ba-924f-d0e1d2699242",
   "metadata": {},
   "outputs": [
    {
     "name": "stdout",
     "output_type": "stream",
     "text": [
      "0.sütun və 1.sətir: 4\n",
      "0.sütun və 2.sətir: 8\n",
      "0.sütun və 3.sətir: 12\n",
      "0.sütun və 4.sətir: 16\n",
      "0.sütun və 5.sətir: 20\n",
      "1.sütun və 0.sətir: 1\n",
      "1.sütun və 1.sətir: 5\n",
      "1.sütun və 2.sətir: 9\n",
      "1.sütun və 3.sətir: 13\n",
      "1.sütun və 4.sətir: 17\n",
      "1.sütun və 5.sətir: 21\n",
      "2.sütun və 0.sətir: 2\n",
      "2.sütun və 1.sətir: 6\n",
      "2.sütun və 2.sətir: 10\n",
      "2.sütun və 3.sətir: 14\n",
      "2.sütun və 4.sətir: 18\n",
      "2.sütun və 5.sətir: 22\n",
      "3.sütun və 0.sətir: 3\n",
      "3.sütun və 1.sətir: 7\n",
      "3.sütun və 2.sətir: 11\n",
      "3.sütun və 3.sətir: 15\n",
      "3.sütun və 4.sətir: 19\n",
      "3.sütun və 5.sətir: 23\n"
     ]
    }
   ],
   "source": [
    "for c in range(df.shape[1]): \n",
    "    for r in range(df.shape[0]): \n",
    "        if df.iloc[r, c] > 0: \n",
    "            print(f\"{c}.sütun və {r}.sətir: {df.iloc[r, c]}\") "
   ]
  },
  {
   "cell_type": "code",
   "execution_count": 36,
   "id": "8c55a022-11a7-4ed5-a1c6-866cd0aacded",
   "metadata": {},
   "outputs": [
    {
     "name": "stdout",
     "output_type": "stream",
     "text": [
      "5\n"
     ]
    }
   ],
   "source": [
    "x = 1\n",
    "while True:\n",
    "    if x % 5 == 0:\n",
    "        print(x)\n",
    "        break\n",
    "    x += 1"
   ]
  },
  {
   "cell_type": "code",
   "execution_count": null,
   "id": "619b8229-dfe2-4a24-975c-2fd6157f1db3",
   "metadata": {},
   "outputs": [],
   "source": []
  }
 ],
 "metadata": {
  "kernelspec": {
   "display_name": "Python 3 (ipykernel)",
   "language": "python",
   "name": "python3"
  },
  "language_info": {
   "codemirror_mode": {
    "name": "ipython",
    "version": 3
   },
   "file_extension": ".py",
   "mimetype": "text/x-python",
   "name": "python",
   "nbconvert_exporter": "python",
   "pygments_lexer": "ipython3",
   "version": "3.13.2"
  }
 },
 "nbformat": 4,
 "nbformat_minor": 5
}
