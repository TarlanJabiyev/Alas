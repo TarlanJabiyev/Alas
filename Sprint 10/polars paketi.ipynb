{
 "cells": [
  {
   "cell_type": "code",
   "execution_count": 1,
   "id": "fb3cb409-7f9a-4c55-8d4a-107965602ba2",
   "metadata": {},
   "outputs": [],
   "source": [
    "import polars as pl"
   ]
  },
  {
   "cell_type": "code",
   "execution_count": 2,
   "id": "c25ca5ef-32e0-4836-9502-b0891df48170",
   "metadata": {},
   "outputs": [
    {
     "data": {
      "text/html": [
       "<div><style>\n",
       ".dataframe > thead > tr,\n",
       ".dataframe > tbody > tr {\n",
       "  text-align: right;\n",
       "  white-space: pre-wrap;\n",
       "}\n",
       "</style>\n",
       "<small>shape: (5, 6)</small><table border=\"1\" class=\"dataframe\"><thead><tr><th>country</th><th>year</th><th>pop</th><th>continent</th><th>life_expectancy</th><th>gdp</th></tr><tr><td>str</td><td>i64</td><td>f64</td><td>str</td><td>f64</td><td>f64</td></tr></thead><tbody><tr><td>&quot;Afghanistan&quot;</td><td>1952</td><td>8.425333e6</td><td>&quot;Asia&quot;</td><td>28.801</td><td>779.445314</td></tr><tr><td>&quot;Afghanistan&quot;</td><td>1957</td><td>9.240934e6</td><td>&quot;Asia&quot;</td><td>30.332</td><td>820.85303</td></tr><tr><td>&quot;Afghanistan&quot;</td><td>1962</td><td>1.0267083e7</td><td>&quot;Asia&quot;</td><td>31.997</td><td>853.10071</td></tr><tr><td>&quot;Afghanistan&quot;</td><td>1967</td><td>1.1537966e7</td><td>&quot;Asia&quot;</td><td>34.02</td><td>836.197138</td></tr><tr><td>&quot;Afghanistan&quot;</td><td>1972</td><td>1.307946e7</td><td>&quot;Asia&quot;</td><td>36.088</td><td>739.981106</td></tr></tbody></table></div>"
      ],
      "text/plain": [
       "shape: (5, 6)\n",
       "┌─────────────┬──────┬─────────────┬───────────┬─────────────────┬────────────┐\n",
       "│ country     ┆ year ┆ pop         ┆ continent ┆ life_expectancy ┆ gdp        │\n",
       "│ ---         ┆ ---  ┆ ---         ┆ ---       ┆ ---             ┆ ---        │\n",
       "│ str         ┆ i64  ┆ f64         ┆ str       ┆ f64             ┆ f64        │\n",
       "╞═════════════╪══════╪═════════════╪═══════════╪═════════════════╪════════════╡\n",
       "│ Afghanistan ┆ 1952 ┆ 8.425333e6  ┆ Asia      ┆ 28.801          ┆ 779.445314 │\n",
       "│ Afghanistan ┆ 1957 ┆ 9.240934e6  ┆ Asia      ┆ 30.332          ┆ 820.85303  │\n",
       "│ Afghanistan ┆ 1962 ┆ 1.0267083e7 ┆ Asia      ┆ 31.997          ┆ 853.10071  │\n",
       "│ Afghanistan ┆ 1967 ┆ 1.1537966e7 ┆ Asia      ┆ 34.02           ┆ 836.197138 │\n",
       "│ Afghanistan ┆ 1972 ┆ 1.307946e7  ┆ Asia      ┆ 36.088          ┆ 739.981106 │\n",
       "└─────────────┴──────┴─────────────┴───────────┴─────────────────┴────────────┘"
      ]
     },
     "execution_count": 2,
     "metadata": {},
     "output_type": "execute_result"
    }
   ],
   "source": [
    "data = pl.read_csv(\"C:/Users/tarlan.jabiyev/Desktop/Sprint 10/gapminder_cleaned.csv\")\n",
    "data = data.rename({\"lifeExp\": \"life_expectancy\", \"gdpPercap\": \"gdp\"})\n",
    "data.head()"
   ]
  },
  {
   "cell_type": "markdown",
   "id": "9c6cc5ec-fa6f-41ba-904d-7a85f09b1b75",
   "metadata": {},
   "source": [
    "## arrange() funksiyası"
   ]
  },
  {
   "cell_type": "code",
   "execution_count": 3,
   "id": "031f84b9-7247-4819-884f-f72ec1c0d20a",
   "metadata": {},
   "outputs": [
    {
     "data": {
      "text/html": [
       "<div><style>\n",
       ".dataframe > thead > tr,\n",
       ".dataframe > tbody > tr {\n",
       "  text-align: right;\n",
       "  white-space: pre-wrap;\n",
       "}\n",
       "</style>\n",
       "<small>shape: (5, 6)</small><table border=\"1\" class=\"dataframe\"><thead><tr><th>country</th><th>year</th><th>pop</th><th>continent</th><th>life_expectancy</th><th>gdp</th></tr><tr><td>str</td><td>i64</td><td>f64</td><td>str</td><td>f64</td><td>f64</td></tr></thead><tbody><tr><td>&quot;Rwanda&quot;</td><td>1992</td><td>7.290203e6</td><td>&quot;Africa&quot;</td><td>23.599</td><td>737.068595</td></tr><tr><td>&quot;Afghanistan&quot;</td><td>1952</td><td>8.425333e6</td><td>&quot;Asia&quot;</td><td>28.801</td><td>779.445314</td></tr><tr><td>&quot;Gambia&quot;</td><td>1952</td><td>284320.0</td><td>&quot;Africa&quot;</td><td>30.0</td><td>485.230659</td></tr><tr><td>&quot;Angola&quot;</td><td>1952</td><td>4.232095e6</td><td>&quot;Africa&quot;</td><td>30.015</td><td>3520.610273</td></tr><tr><td>&quot;Sierra Leone&quot;</td><td>1952</td><td>2.143249e6</td><td>&quot;Africa&quot;</td><td>30.331</td><td>879.787736</td></tr></tbody></table></div>"
      ],
      "text/plain": [
       "shape: (5, 6)\n",
       "┌──────────────┬──────┬────────────┬───────────┬─────────────────┬─────────────┐\n",
       "│ country      ┆ year ┆ pop        ┆ continent ┆ life_expectancy ┆ gdp         │\n",
       "│ ---          ┆ ---  ┆ ---        ┆ ---       ┆ ---             ┆ ---         │\n",
       "│ str          ┆ i64  ┆ f64        ┆ str       ┆ f64             ┆ f64         │\n",
       "╞══════════════╪══════╪════════════╪═══════════╪═════════════════╪═════════════╡\n",
       "│ Rwanda       ┆ 1992 ┆ 7.290203e6 ┆ Africa    ┆ 23.599          ┆ 737.068595  │\n",
       "│ Afghanistan  ┆ 1952 ┆ 8.425333e6 ┆ Asia      ┆ 28.801          ┆ 779.445314  │\n",
       "│ Gambia       ┆ 1952 ┆ 284320.0   ┆ Africa    ┆ 30.0            ┆ 485.230659  │\n",
       "│ Angola       ┆ 1952 ┆ 4.232095e6 ┆ Africa    ┆ 30.015          ┆ 3520.610273 │\n",
       "│ Sierra Leone ┆ 1952 ┆ 2.143249e6 ┆ Africa    ┆ 30.331          ┆ 879.787736  │\n",
       "└──────────────┴──────┴────────────┴───────────┴─────────────────┴─────────────┘"
      ]
     },
     "execution_count": 3,
     "metadata": {},
     "output_type": "execute_result"
    }
   ],
   "source": [
    "data.sort(\"life_expectancy\").head()"
   ]
  },
  {
   "cell_type": "code",
   "execution_count": 4,
   "id": "62caff71-8142-440a-aa8c-10d8eaa431fb",
   "metadata": {},
   "outputs": [
    {
     "data": {
      "text/html": [
       "<div><style>\n",
       ".dataframe > thead > tr,\n",
       ".dataframe > tbody > tr {\n",
       "  text-align: right;\n",
       "  white-space: pre-wrap;\n",
       "}\n",
       "</style>\n",
       "<small>shape: (5, 6)</small><table border=\"1\" class=\"dataframe\"><thead><tr><th>country</th><th>year</th><th>pop</th><th>continent</th><th>life_expectancy</th><th>gdp</th></tr><tr><td>str</td><td>i64</td><td>f64</td><td>str</td><td>f64</td><td>f64</td></tr></thead><tbody><tr><td>&quot;Japan&quot;</td><td>2007</td><td>1.27467972e8</td><td>&quot;Asia&quot;</td><td>82.603</td><td>31656.06806</td></tr><tr><td>&quot;Hong Kong China&quot;</td><td>2007</td><td>6.980412e6</td><td>&quot;Asia&quot;</td><td>82.208</td><td>39724.97867</td></tr><tr><td>&quot;Japan&quot;</td><td>2002</td><td>1.27065841e8</td><td>&quot;Asia&quot;</td><td>82.0</td><td>28604.5919</td></tr><tr><td>&quot;Iceland&quot;</td><td>2007</td><td>301931.0</td><td>&quot;Europe&quot;</td><td>81.757</td><td>36180.78919</td></tr><tr><td>&quot;Switzerland&quot;</td><td>2007</td><td>7.554661e6</td><td>&quot;Europe&quot;</td><td>81.701</td><td>37506.41907</td></tr></tbody></table></div>"
      ],
      "text/plain": [
       "shape: (5, 6)\n",
       "┌─────────────────┬──────┬──────────────┬───────────┬─────────────────┬─────────────┐\n",
       "│ country         ┆ year ┆ pop          ┆ continent ┆ life_expectancy ┆ gdp         │\n",
       "│ ---             ┆ ---  ┆ ---          ┆ ---       ┆ ---             ┆ ---         │\n",
       "│ str             ┆ i64  ┆ f64          ┆ str       ┆ f64             ┆ f64         │\n",
       "╞═════════════════╪══════╪══════════════╪═══════════╪═════════════════╪═════════════╡\n",
       "│ Japan           ┆ 2007 ┆ 1.27467972e8 ┆ Asia      ┆ 82.603          ┆ 31656.06806 │\n",
       "│ Hong Kong China ┆ 2007 ┆ 6.980412e6   ┆ Asia      ┆ 82.208          ┆ 39724.97867 │\n",
       "│ Japan           ┆ 2002 ┆ 1.27065841e8 ┆ Asia      ┆ 82.0            ┆ 28604.5919  │\n",
       "│ Iceland         ┆ 2007 ┆ 301931.0     ┆ Europe    ┆ 81.757          ┆ 36180.78919 │\n",
       "│ Switzerland     ┆ 2007 ┆ 7.554661e6   ┆ Europe    ┆ 81.701          ┆ 37506.41907 │\n",
       "└─────────────────┴──────┴──────────────┴───────────┴─────────────────┴─────────────┘"
      ]
     },
     "execution_count": 4,
     "metadata": {},
     "output_type": "execute_result"
    }
   ],
   "source": [
    "data.sort(\"life_expectancy\", descending=True).head()"
   ]
  },
  {
   "cell_type": "code",
   "execution_count": 5,
   "id": "4ae2b82e-24bd-45a8-9ada-c3a79758c655",
   "metadata": {},
   "outputs": [
    {
     "data": {
      "text/html": [
       "<div><style>\n",
       ".dataframe > thead > tr,\n",
       ".dataframe > tbody > tr {\n",
       "  text-align: right;\n",
       "  white-space: pre-wrap;\n",
       "}\n",
       "</style>\n",
       "<small>shape: (5, 6)</small><table border=\"1\" class=\"dataframe\"><thead><tr><th>country</th><th>year</th><th>pop</th><th>continent</th><th>life_expectancy</th><th>gdp</th></tr><tr><td>str</td><td>i64</td><td>f64</td><td>str</td><td>f64</td><td>f64</td></tr></thead><tbody><tr><td>&quot;Algeria&quot;</td><td>1952</td><td>9.279525e6</td><td>&quot;Africa&quot;</td><td>43.077</td><td>2449.008185</td></tr><tr><td>&quot;Algeria&quot;</td><td>1957</td><td>1.0270856e7</td><td>&quot;Africa&quot;</td><td>45.685</td><td>3013.976023</td></tr><tr><td>&quot;Algeria&quot;</td><td>1962</td><td>1.1000948e7</td><td>&quot;Africa&quot;</td><td>48.303</td><td>2550.81688</td></tr><tr><td>&quot;Algeria&quot;</td><td>1967</td><td>1.2760499e7</td><td>&quot;Africa&quot;</td><td>51.407</td><td>3246.991771</td></tr><tr><td>&quot;Algeria&quot;</td><td>1972</td><td>1.4760787e7</td><td>&quot;Africa&quot;</td><td>54.518</td><td>4182.663766</td></tr></tbody></table></div>"
      ],
      "text/plain": [
       "shape: (5, 6)\n",
       "┌─────────┬──────┬─────────────┬───────────┬─────────────────┬─────────────┐\n",
       "│ country ┆ year ┆ pop         ┆ continent ┆ life_expectancy ┆ gdp         │\n",
       "│ ---     ┆ ---  ┆ ---         ┆ ---       ┆ ---             ┆ ---         │\n",
       "│ str     ┆ i64  ┆ f64         ┆ str       ┆ f64             ┆ f64         │\n",
       "╞═════════╪══════╪═════════════╪═══════════╪═════════════════╪═════════════╡\n",
       "│ Algeria ┆ 1952 ┆ 9.279525e6  ┆ Africa    ┆ 43.077          ┆ 2449.008185 │\n",
       "│ Algeria ┆ 1957 ┆ 1.0270856e7 ┆ Africa    ┆ 45.685          ┆ 3013.976023 │\n",
       "│ Algeria ┆ 1962 ┆ 1.1000948e7 ┆ Africa    ┆ 48.303          ┆ 2550.81688  │\n",
       "│ Algeria ┆ 1967 ┆ 1.2760499e7 ┆ Africa    ┆ 51.407          ┆ 3246.991771 │\n",
       "│ Algeria ┆ 1972 ┆ 1.4760787e7 ┆ Africa    ┆ 54.518          ┆ 4182.663766 │\n",
       "└─────────┴──────┴─────────────┴───────────┴─────────────────┴─────────────┘"
      ]
     },
     "execution_count": 5,
     "metadata": {},
     "output_type": "execute_result"
    }
   ],
   "source": [
    "data.sort(\"continent\").head()"
   ]
  },
  {
   "cell_type": "code",
   "execution_count": 6,
   "id": "80877d10-9c13-4d4e-89f7-c0f144af31c5",
   "metadata": {},
   "outputs": [
    {
     "data": {
      "text/html": [
       "<div><style>\n",
       ".dataframe > thead > tr,\n",
       ".dataframe > tbody > tr {\n",
       "  text-align: right;\n",
       "  white-space: pre-wrap;\n",
       "}\n",
       "</style>\n",
       "<small>shape: (5, 6)</small><table border=\"1\" class=\"dataframe\"><thead><tr><th>country</th><th>year</th><th>pop</th><th>continent</th><th>life_expectancy</th><th>gdp</th></tr><tr><td>str</td><td>i64</td><td>f64</td><td>str</td><td>f64</td><td>f64</td></tr></thead><tbody><tr><td>&quot;Reunion&quot;</td><td>2007</td><td>798094.0</td><td>&quot;Africa&quot;</td><td>76.442</td><td>7670.122558</td></tr><tr><td>&quot;Reunion&quot;</td><td>2002</td><td>743981.0</td><td>&quot;Africa&quot;</td><td>75.744</td><td>6316.1652</td></tr><tr><td>&quot;Reunion&quot;</td><td>1997</td><td>684810.0</td><td>&quot;Africa&quot;</td><td>74.772</td><td>6071.941411</td></tr><tr><td>&quot;Libya&quot;</td><td>2007</td><td>6.036914e6</td><td>&quot;Africa&quot;</td><td>73.952</td><td>12057.49928</td></tr><tr><td>&quot;Tunisia&quot;</td><td>2007</td><td>1.0276158e7</td><td>&quot;Africa&quot;</td><td>73.923</td><td>7092.923025</td></tr></tbody></table></div>"
      ],
      "text/plain": [
       "shape: (5, 6)\n",
       "┌─────────┬──────┬─────────────┬───────────┬─────────────────┬─────────────┐\n",
       "│ country ┆ year ┆ pop         ┆ continent ┆ life_expectancy ┆ gdp         │\n",
       "│ ---     ┆ ---  ┆ ---         ┆ ---       ┆ ---             ┆ ---         │\n",
       "│ str     ┆ i64  ┆ f64         ┆ str       ┆ f64             ┆ f64         │\n",
       "╞═════════╪══════╪═════════════╪═══════════╪═════════════════╪═════════════╡\n",
       "│ Reunion ┆ 2007 ┆ 798094.0    ┆ Africa    ┆ 76.442          ┆ 7670.122558 │\n",
       "│ Reunion ┆ 2002 ┆ 743981.0    ┆ Africa    ┆ 75.744          ┆ 6316.1652   │\n",
       "│ Reunion ┆ 1997 ┆ 684810.0    ┆ Africa    ┆ 74.772          ┆ 6071.941411 │\n",
       "│ Libya   ┆ 2007 ┆ 6.036914e6  ┆ Africa    ┆ 73.952          ┆ 12057.49928 │\n",
       "│ Tunisia ┆ 2007 ┆ 1.0276158e7 ┆ Africa    ┆ 73.923          ┆ 7092.923025 │\n",
       "└─────────┴──────┴─────────────┴───────────┴─────────────────┴─────────────┘"
      ]
     },
     "execution_count": 6,
     "metadata": {},
     "output_type": "execute_result"
    }
   ],
   "source": [
    "data.sort(\n",
    "    by=[\"continent\", \"life_expectancy\"],\n",
    "    descending=[False, True]\n",
    ").head()"
   ]
  },
  {
   "cell_type": "markdown",
   "id": "02a3ca73-40ad-4321-846b-4ef18dbe6ffb",
   "metadata": {},
   "source": [
    "## rename() funksiyası"
   ]
  },
  {
   "cell_type": "code",
   "execution_count": 7,
   "id": "72771277-d489-443b-be08-19e459000cea",
   "metadata": {},
   "outputs": [
    {
     "data": {
      "text/html": [
       "<div><style>\n",
       ".dataframe > thead > tr,\n",
       ".dataframe > tbody > tr {\n",
       "  text-align: right;\n",
       "  white-space: pre-wrap;\n",
       "}\n",
       "</style>\n",
       "<small>shape: (5, 6)</small><table border=\"1\" class=\"dataframe\"><thead><tr><th>olke</th><th>il</th><th>pop</th><th>continent</th><th>life_expectancy</th><th>gdp</th></tr><tr><td>str</td><td>i64</td><td>f64</td><td>str</td><td>f64</td><td>f64</td></tr></thead><tbody><tr><td>&quot;Afghanistan&quot;</td><td>1952</td><td>8.425333e6</td><td>&quot;Asia&quot;</td><td>28.801</td><td>779.445314</td></tr><tr><td>&quot;Afghanistan&quot;</td><td>1957</td><td>9.240934e6</td><td>&quot;Asia&quot;</td><td>30.332</td><td>820.85303</td></tr><tr><td>&quot;Afghanistan&quot;</td><td>1962</td><td>1.0267083e7</td><td>&quot;Asia&quot;</td><td>31.997</td><td>853.10071</td></tr><tr><td>&quot;Afghanistan&quot;</td><td>1967</td><td>1.1537966e7</td><td>&quot;Asia&quot;</td><td>34.02</td><td>836.197138</td></tr><tr><td>&quot;Afghanistan&quot;</td><td>1972</td><td>1.307946e7</td><td>&quot;Asia&quot;</td><td>36.088</td><td>739.981106</td></tr></tbody></table></div>"
      ],
      "text/plain": [
       "shape: (5, 6)\n",
       "┌─────────────┬──────┬─────────────┬───────────┬─────────────────┬────────────┐\n",
       "│ olke        ┆ il   ┆ pop         ┆ continent ┆ life_expectancy ┆ gdp        │\n",
       "│ ---         ┆ ---  ┆ ---         ┆ ---       ┆ ---             ┆ ---        │\n",
       "│ str         ┆ i64  ┆ f64         ┆ str       ┆ f64             ┆ f64        │\n",
       "╞═════════════╪══════╪═════════════╪═══════════╪═════════════════╪════════════╡\n",
       "│ Afghanistan ┆ 1952 ┆ 8.425333e6  ┆ Asia      ┆ 28.801          ┆ 779.445314 │\n",
       "│ Afghanistan ┆ 1957 ┆ 9.240934e6  ┆ Asia      ┆ 30.332          ┆ 820.85303  │\n",
       "│ Afghanistan ┆ 1962 ┆ 1.0267083e7 ┆ Asia      ┆ 31.997          ┆ 853.10071  │\n",
       "│ Afghanistan ┆ 1967 ┆ 1.1537966e7 ┆ Asia      ┆ 34.02           ┆ 836.197138 │\n",
       "│ Afghanistan ┆ 1972 ┆ 1.307946e7  ┆ Asia      ┆ 36.088          ┆ 739.981106 │\n",
       "└─────────────┴──────┴─────────────┴───────────┴─────────────────┴────────────┘"
      ]
     },
     "execution_count": 7,
     "metadata": {},
     "output_type": "execute_result"
    }
   ],
   "source": [
    "data.rename({\"country\": \"olke\", \"year\": \"il\"}).head()"
   ]
  },
  {
   "cell_type": "markdown",
   "id": "28fbb928-1266-4613-ac93-e0a8bf2e7dd2",
   "metadata": {},
   "source": [
    "## select() funksiyası"
   ]
  },
  {
   "cell_type": "code",
   "execution_count": 8,
   "id": "33033123-fb0b-4c43-8f16-968fab5ebe12",
   "metadata": {},
   "outputs": [
    {
     "data": {
      "text/html": [
       "<div><style>\n",
       ".dataframe > thead > tr,\n",
       ".dataframe > tbody > tr {\n",
       "  text-align: right;\n",
       "  white-space: pre-wrap;\n",
       "}\n",
       "</style>\n",
       "<small>shape: (5, 2)</small><table border=\"1\" class=\"dataframe\"><thead><tr><th>country</th><th>year</th></tr><tr><td>str</td><td>i64</td></tr></thead><tbody><tr><td>&quot;Afghanistan&quot;</td><td>1952</td></tr><tr><td>&quot;Afghanistan&quot;</td><td>1957</td></tr><tr><td>&quot;Afghanistan&quot;</td><td>1962</td></tr><tr><td>&quot;Afghanistan&quot;</td><td>1967</td></tr><tr><td>&quot;Afghanistan&quot;</td><td>1972</td></tr></tbody></table></div>"
      ],
      "text/plain": [
       "shape: (5, 2)\n",
       "┌─────────────┬──────┐\n",
       "│ country     ┆ year │\n",
       "│ ---         ┆ ---  │\n",
       "│ str         ┆ i64  │\n",
       "╞═════════════╪══════╡\n",
       "│ Afghanistan ┆ 1952 │\n",
       "│ Afghanistan ┆ 1957 │\n",
       "│ Afghanistan ┆ 1962 │\n",
       "│ Afghanistan ┆ 1967 │\n",
       "│ Afghanistan ┆ 1972 │\n",
       "└─────────────┴──────┘"
      ]
     },
     "execution_count": 8,
     "metadata": {},
     "output_type": "execute_result"
    }
   ],
   "source": [
    "data.select([\"country\", \"year\"]).head()"
   ]
  },
  {
   "cell_type": "code",
   "execution_count": 9,
   "id": "295d49e4-47aa-40b4-83a5-d2fe743140df",
   "metadata": {},
   "outputs": [
    {
     "data": {
      "text/html": [
       "<div><style>\n",
       ".dataframe > thead > tr,\n",
       ".dataframe > tbody > tr {\n",
       "  text-align: right;\n",
       "  white-space: pre-wrap;\n",
       "}\n",
       "</style>\n",
       "<small>shape: (5, 4)</small><table border=\"1\" class=\"dataframe\"><thead><tr><th>pop</th><th>continent</th><th>life_expectancy</th><th>gdp</th></tr><tr><td>f64</td><td>str</td><td>f64</td><td>f64</td></tr></thead><tbody><tr><td>8.425333e6</td><td>&quot;Asia&quot;</td><td>28.801</td><td>779.445314</td></tr><tr><td>9.240934e6</td><td>&quot;Asia&quot;</td><td>30.332</td><td>820.85303</td></tr><tr><td>1.0267083e7</td><td>&quot;Asia&quot;</td><td>31.997</td><td>853.10071</td></tr><tr><td>1.1537966e7</td><td>&quot;Asia&quot;</td><td>34.02</td><td>836.197138</td></tr><tr><td>1.307946e7</td><td>&quot;Asia&quot;</td><td>36.088</td><td>739.981106</td></tr></tbody></table></div>"
      ],
      "text/plain": [
       "shape: (5, 4)\n",
       "┌─────────────┬───────────┬─────────────────┬────────────┐\n",
       "│ pop         ┆ continent ┆ life_expectancy ┆ gdp        │\n",
       "│ ---         ┆ ---       ┆ ---             ┆ ---        │\n",
       "│ f64         ┆ str       ┆ f64             ┆ f64        │\n",
       "╞═════════════╪═══════════╪═════════════════╪════════════╡\n",
       "│ 8.425333e6  ┆ Asia      ┆ 28.801          ┆ 779.445314 │\n",
       "│ 9.240934e6  ┆ Asia      ┆ 30.332          ┆ 820.85303  │\n",
       "│ 1.0267083e7 ┆ Asia      ┆ 31.997          ┆ 853.10071  │\n",
       "│ 1.1537966e7 ┆ Asia      ┆ 34.02           ┆ 836.197138 │\n",
       "│ 1.307946e7  ┆ Asia      ┆ 36.088          ┆ 739.981106 │\n",
       "└─────────────┴───────────┴─────────────────┴────────────┘"
      ]
     },
     "execution_count": 9,
     "metadata": {},
     "output_type": "execute_result"
    }
   ],
   "source": [
    "data.select([col for col in data.columns if col not in [\"country\", \"year\"]]).head()"
   ]
  },
  {
   "cell_type": "code",
   "execution_count": 10,
   "id": "124a8c38-8aeb-45c3-b616-3bd5ca3dd32e",
   "metadata": {},
   "outputs": [
    {
     "data": {
      "text/html": [
       "<div><style>\n",
       ".dataframe > thead > tr,\n",
       ".dataframe > tbody > tr {\n",
       "  text-align: right;\n",
       "  white-space: pre-wrap;\n",
       "}\n",
       "</style>\n",
       "<small>shape: (5, 4)</small><table border=\"1\" class=\"dataframe\"><thead><tr><th>pop</th><th>continent</th><th>life_expectancy</th><th>gdp</th></tr><tr><td>f64</td><td>str</td><td>f64</td><td>f64</td></tr></thead><tbody><tr><td>8.425333e6</td><td>&quot;Asia&quot;</td><td>28.801</td><td>779.445314</td></tr><tr><td>9.240934e6</td><td>&quot;Asia&quot;</td><td>30.332</td><td>820.85303</td></tr><tr><td>1.0267083e7</td><td>&quot;Asia&quot;</td><td>31.997</td><td>853.10071</td></tr><tr><td>1.1537966e7</td><td>&quot;Asia&quot;</td><td>34.02</td><td>836.197138</td></tr><tr><td>1.307946e7</td><td>&quot;Asia&quot;</td><td>36.088</td><td>739.981106</td></tr></tbody></table></div>"
      ],
      "text/plain": [
       "shape: (5, 4)\n",
       "┌─────────────┬───────────┬─────────────────┬────────────┐\n",
       "│ pop         ┆ continent ┆ life_expectancy ┆ gdp        │\n",
       "│ ---         ┆ ---       ┆ ---             ┆ ---        │\n",
       "│ f64         ┆ str       ┆ f64             ┆ f64        │\n",
       "╞═════════════╪═══════════╪═════════════════╪════════════╡\n",
       "│ 8.425333e6  ┆ Asia      ┆ 28.801          ┆ 779.445314 │\n",
       "│ 9.240934e6  ┆ Asia      ┆ 30.332          ┆ 820.85303  │\n",
       "│ 1.0267083e7 ┆ Asia      ┆ 31.997          ┆ 853.10071  │\n",
       "│ 1.1537966e7 ┆ Asia      ┆ 34.02           ┆ 836.197138 │\n",
       "│ 1.307946e7  ┆ Asia      ┆ 36.088          ┆ 739.981106 │\n",
       "└─────────────┴───────────┴─────────────────┴────────────┘"
      ]
     },
     "execution_count": 10,
     "metadata": {},
     "output_type": "execute_result"
    }
   ],
   "source": [
    "data.select(data.columns[2:6]).head()"
   ]
  },
  {
   "cell_type": "code",
   "execution_count": 11,
   "id": "b04cecdf-cbf7-4f8c-a2d9-2d3f975dd41b",
   "metadata": {},
   "outputs": [
    {
     "data": {
      "text/html": [
       "<div><style>\n",
       ".dataframe > thead > tr,\n",
       ".dataframe > tbody > tr {\n",
       "  text-align: right;\n",
       "  white-space: pre-wrap;\n",
       "}\n",
       "</style>\n",
       "<small>shape: (5, 6)</small><table border=\"1\" class=\"dataframe\"><thead><tr><th>year</th><th>gdp</th><th>country</th><th>pop</th><th>continent</th><th>life_expectancy</th></tr><tr><td>i64</td><td>f64</td><td>str</td><td>f64</td><td>str</td><td>f64</td></tr></thead><tbody><tr><td>1952</td><td>779.445314</td><td>&quot;Afghanistan&quot;</td><td>8.425333e6</td><td>&quot;Asia&quot;</td><td>28.801</td></tr><tr><td>1957</td><td>820.85303</td><td>&quot;Afghanistan&quot;</td><td>9.240934e6</td><td>&quot;Asia&quot;</td><td>30.332</td></tr><tr><td>1962</td><td>853.10071</td><td>&quot;Afghanistan&quot;</td><td>1.0267083e7</td><td>&quot;Asia&quot;</td><td>31.997</td></tr><tr><td>1967</td><td>836.197138</td><td>&quot;Afghanistan&quot;</td><td>1.1537966e7</td><td>&quot;Asia&quot;</td><td>34.02</td></tr><tr><td>1972</td><td>739.981106</td><td>&quot;Afghanistan&quot;</td><td>1.307946e7</td><td>&quot;Asia&quot;</td><td>36.088</td></tr></tbody></table></div>"
      ],
      "text/plain": [
       "shape: (5, 6)\n",
       "┌──────┬────────────┬─────────────┬─────────────┬───────────┬─────────────────┐\n",
       "│ year ┆ gdp        ┆ country     ┆ pop         ┆ continent ┆ life_expectancy │\n",
       "│ ---  ┆ ---        ┆ ---         ┆ ---         ┆ ---       ┆ ---             │\n",
       "│ i64  ┆ f64        ┆ str         ┆ f64         ┆ str       ┆ f64             │\n",
       "╞══════╪════════════╪═════════════╪═════════════╪═══════════╪═════════════════╡\n",
       "│ 1952 ┆ 779.445314 ┆ Afghanistan ┆ 8.425333e6  ┆ Asia      ┆ 28.801          │\n",
       "│ 1957 ┆ 820.85303  ┆ Afghanistan ┆ 9.240934e6  ┆ Asia      ┆ 30.332          │\n",
       "│ 1962 ┆ 853.10071  ┆ Afghanistan ┆ 1.0267083e7 ┆ Asia      ┆ 31.997          │\n",
       "│ 1967 ┆ 836.197138 ┆ Afghanistan ┆ 1.1537966e7 ┆ Asia      ┆ 34.02           │\n",
       "│ 1972 ┆ 739.981106 ┆ Afghanistan ┆ 1.307946e7  ┆ Asia      ┆ 36.088          │\n",
       "└──────┴────────────┴─────────────┴─────────────┴───────────┴─────────────────┘"
      ]
     },
     "execution_count": 11,
     "metadata": {},
     "output_type": "execute_result"
    }
   ],
   "source": [
    "data.select([\"year\", \"gdp\"] + [c for c in data.columns if c not in [\"year\", \"gdp\"]]).head()"
   ]
  },
  {
   "cell_type": "code",
   "execution_count": 12,
   "id": "8a833a56-6dab-4742-9a02-1996bb0860e4",
   "metadata": {},
   "outputs": [
    {
     "data": {
      "text/html": [
       "<div><style>\n",
       ".dataframe > thead > tr,\n",
       ".dataframe > tbody > tr {\n",
       "  text-align: right;\n",
       "  white-space: pre-wrap;\n",
       "}\n",
       "</style>\n",
       "<small>shape: (5, 1)</small><table border=\"1\" class=\"dataframe\"><thead><tr><th>life_expectancy</th></tr><tr><td>f64</td></tr></thead><tbody><tr><td>28.801</td></tr><tr><td>30.332</td></tr><tr><td>31.997</td></tr><tr><td>34.02</td></tr><tr><td>36.088</td></tr></tbody></table></div>"
      ],
      "text/plain": [
       "shape: (5, 1)\n",
       "┌─────────────────┐\n",
       "│ life_expectancy │\n",
       "│ ---             │\n",
       "│ f64             │\n",
       "╞═════════════════╡\n",
       "│ 28.801          │\n",
       "│ 30.332          │\n",
       "│ 31.997          │\n",
       "│ 34.02           │\n",
       "│ 36.088          │\n",
       "└─────────────────┘"
      ]
     },
     "execution_count": 12,
     "metadata": {},
     "output_type": "execute_result"
    }
   ],
   "source": [
    "data.select([c for c in data.columns if \"_\" in c]).head()"
   ]
  },
  {
   "cell_type": "code",
   "execution_count": 13,
   "id": "8869a527-4e57-455b-bd21-5f11425560e7",
   "metadata": {},
   "outputs": [
    {
     "data": {
      "text/html": [
       "<div><style>\n",
       ".dataframe > thead > tr,\n",
       ".dataframe > tbody > tr {\n",
       "  text-align: right;\n",
       "  white-space: pre-wrap;\n",
       "}\n",
       "</style>\n",
       "<small>shape: (5, 2)</small><table border=\"1\" class=\"dataframe\"><thead><tr><th>country</th><th>continent</th></tr><tr><td>str</td><td>str</td></tr></thead><tbody><tr><td>&quot;Afghanistan&quot;</td><td>&quot;Asia&quot;</td></tr><tr><td>&quot;Afghanistan&quot;</td><td>&quot;Asia&quot;</td></tr><tr><td>&quot;Afghanistan&quot;</td><td>&quot;Asia&quot;</td></tr><tr><td>&quot;Afghanistan&quot;</td><td>&quot;Asia&quot;</td></tr><tr><td>&quot;Afghanistan&quot;</td><td>&quot;Asia&quot;</td></tr></tbody></table></div>"
      ],
      "text/plain": [
       "shape: (5, 2)\n",
       "┌─────────────┬───────────┐\n",
       "│ country     ┆ continent │\n",
       "│ ---         ┆ ---       │\n",
       "│ str         ┆ str       │\n",
       "╞═════════════╪═══════════╡\n",
       "│ Afghanistan ┆ Asia      │\n",
       "│ Afghanistan ┆ Asia      │\n",
       "│ Afghanistan ┆ Asia      │\n",
       "│ Afghanistan ┆ Asia      │\n",
       "│ Afghanistan ┆ Asia      │\n",
       "└─────────────┴───────────┘"
      ]
     },
     "execution_count": 13,
     "metadata": {},
     "output_type": "execute_result"
    }
   ],
   "source": [
    "data.select([c for c in data.columns if c.startswith(\"co\")]).head()"
   ]
  },
  {
   "cell_type": "code",
   "execution_count": 14,
   "id": "cdc29564-ce08-4893-b464-14d558089275",
   "metadata": {},
   "outputs": [
    {
     "data": {
      "text/html": [
       "<div><style>\n",
       ".dataframe > thead > tr,\n",
       ".dataframe > tbody > tr {\n",
       "  text-align: right;\n",
       "  white-space: pre-wrap;\n",
       "}\n",
       "</style>\n",
       "<small>shape: (5, 2)</small><table border=\"1\" class=\"dataframe\"><thead><tr><th>pop</th><th>gdp</th></tr><tr><td>f64</td><td>f64</td></tr></thead><tbody><tr><td>8.425333e6</td><td>779.445314</td></tr><tr><td>9.240934e6</td><td>820.85303</td></tr><tr><td>1.0267083e7</td><td>853.10071</td></tr><tr><td>1.1537966e7</td><td>836.197138</td></tr><tr><td>1.307946e7</td><td>739.981106</td></tr></tbody></table></div>"
      ],
      "text/plain": [
       "shape: (5, 2)\n",
       "┌─────────────┬────────────┐\n",
       "│ pop         ┆ gdp        │\n",
       "│ ---         ┆ ---        │\n",
       "│ f64         ┆ f64        │\n",
       "╞═════════════╪════════════╡\n",
       "│ 8.425333e6  ┆ 779.445314 │\n",
       "│ 9.240934e6  ┆ 820.85303  │\n",
       "│ 1.0267083e7 ┆ 853.10071  │\n",
       "│ 1.1537966e7 ┆ 836.197138 │\n",
       "│ 1.307946e7  ┆ 739.981106 │\n",
       "└─────────────┴────────────┘"
      ]
     },
     "execution_count": 14,
     "metadata": {},
     "output_type": "execute_result"
    }
   ],
   "source": [
    "data.select([c for c in data.columns if c.endswith(\"p\")]).head()"
   ]
  },
  {
   "cell_type": "code",
   "execution_count": 15,
   "id": "227dd4e3-2c36-48bd-a054-5dbbed7805d8",
   "metadata": {},
   "outputs": [
    {
     "data": {
      "text/html": [
       "<div><style>\n",
       ".dataframe > thead > tr,\n",
       ".dataframe > tbody > tr {\n",
       "  text-align: right;\n",
       "  white-space: pre-wrap;\n",
       "}\n",
       "</style>\n",
       "<small>shape: (5, 2)</small><table border=\"1\" class=\"dataframe\"><thead><tr><th>olke</th><th>il</th></tr><tr><td>str</td><td>i64</td></tr></thead><tbody><tr><td>&quot;Afghanistan&quot;</td><td>1952</td></tr><tr><td>&quot;Afghanistan&quot;</td><td>1957</td></tr><tr><td>&quot;Afghanistan&quot;</td><td>1962</td></tr><tr><td>&quot;Afghanistan&quot;</td><td>1967</td></tr><tr><td>&quot;Afghanistan&quot;</td><td>1972</td></tr></tbody></table></div>"
      ],
      "text/plain": [
       "shape: (5, 2)\n",
       "┌─────────────┬──────┐\n",
       "│ olke        ┆ il   │\n",
       "│ ---         ┆ ---  │\n",
       "│ str         ┆ i64  │\n",
       "╞═════════════╪══════╡\n",
       "│ Afghanistan ┆ 1952 │\n",
       "│ Afghanistan ┆ 1957 │\n",
       "│ Afghanistan ┆ 1962 │\n",
       "│ Afghanistan ┆ 1967 │\n",
       "│ Afghanistan ┆ 1972 │\n",
       "└─────────────┴──────┘"
      ]
     },
     "execution_count": 15,
     "metadata": {},
     "output_type": "execute_result"
    }
   ],
   "source": [
    "data.rename({\"country\": \"olke\", \"year\": \"il\"}).select([\"olke\", \"il\"]).head()"
   ]
  },
  {
   "cell_type": "markdown",
   "id": "b8805647-7b94-42d4-b356-bbfba59460ee",
   "metadata": {},
   "source": [
    "## filter() funksiyası"
   ]
  },
  {
   "cell_type": "code",
   "execution_count": 16,
   "id": "77136750-e5f9-4f11-ba93-8e6266b33822",
   "metadata": {},
   "outputs": [
    {
     "data": {
      "text/html": [
       "<div><style>\n",
       ".dataframe > thead > tr,\n",
       ".dataframe > tbody > tr {\n",
       "  text-align: right;\n",
       "  white-space: pre-wrap;\n",
       "}\n",
       "</style>\n",
       "<small>shape: (5, 6)</small><table border=\"1\" class=\"dataframe\"><thead><tr><th>country</th><th>year</th><th>pop</th><th>continent</th><th>life_expectancy</th><th>gdp</th></tr><tr><td>str</td><td>i64</td><td>f64</td><td>str</td><td>f64</td><td>f64</td></tr></thead><tbody><tr><td>&quot;Afghanistan&quot;</td><td>2002</td><td>2.5268405e7</td><td>&quot;Asia&quot;</td><td>42.129</td><td>726.734055</td></tr><tr><td>&quot;Afghanistan&quot;</td><td>2007</td><td>3.1889923e7</td><td>&quot;Asia&quot;</td><td>43.828</td><td>974.580338</td></tr><tr><td>&quot;Albania&quot;</td><td>2002</td><td>3.508512e6</td><td>&quot;Europe&quot;</td><td>75.651</td><td>4604.211737</td></tr><tr><td>&quot;Albania&quot;</td><td>2007</td><td>3.600523e6</td><td>&quot;Europe&quot;</td><td>76.423</td><td>5937.029526</td></tr><tr><td>&quot;Algeria&quot;</td><td>2002</td><td>3.1287142e7</td><td>&quot;Africa&quot;</td><td>70.994</td><td>5288.040382</td></tr></tbody></table></div>"
      ],
      "text/plain": [
       "shape: (5, 6)\n",
       "┌─────────────┬──────┬─────────────┬───────────┬─────────────────┬─────────────┐\n",
       "│ country     ┆ year ┆ pop         ┆ continent ┆ life_expectancy ┆ gdp         │\n",
       "│ ---         ┆ ---  ┆ ---         ┆ ---       ┆ ---             ┆ ---         │\n",
       "│ str         ┆ i64  ┆ f64         ┆ str       ┆ f64             ┆ f64         │\n",
       "╞═════════════╪══════╪═════════════╪═══════════╪═════════════════╪═════════════╡\n",
       "│ Afghanistan ┆ 2002 ┆ 2.5268405e7 ┆ Asia      ┆ 42.129          ┆ 726.734055  │\n",
       "│ Afghanistan ┆ 2007 ┆ 3.1889923e7 ┆ Asia      ┆ 43.828          ┆ 974.580338  │\n",
       "│ Albania     ┆ 2002 ┆ 3.508512e6  ┆ Europe    ┆ 75.651          ┆ 4604.211737 │\n",
       "│ Albania     ┆ 2007 ┆ 3.600523e6  ┆ Europe    ┆ 76.423          ┆ 5937.029526 │\n",
       "│ Algeria     ┆ 2002 ┆ 3.1287142e7 ┆ Africa    ┆ 70.994          ┆ 5288.040382 │\n",
       "└─────────────┴──────┴─────────────┴───────────┴─────────────────┴─────────────┘"
      ]
     },
     "execution_count": 16,
     "metadata": {},
     "output_type": "execute_result"
    }
   ],
   "source": [
    "data.filter(pl.col(\"year\") > 2001).head()"
   ]
  },
  {
   "cell_type": "code",
   "execution_count": 17,
   "id": "6418cea7-c7a0-4383-a14f-3c332be42154",
   "metadata": {},
   "outputs": [
    {
     "data": {
      "text/html": [
       "<div><style>\n",
       ".dataframe > thead > tr,\n",
       ".dataframe > tbody > tr {\n",
       "  text-align: right;\n",
       "  white-space: pre-wrap;\n",
       "}\n",
       "</style>\n",
       "<small>shape: (5, 6)</small><table border=\"1\" class=\"dataframe\"><thead><tr><th>country</th><th>year</th><th>pop</th><th>continent</th><th>life_expectancy</th><th>gdp</th></tr><tr><td>str</td><td>i64</td><td>f64</td><td>str</td><td>f64</td><td>f64</td></tr></thead><tbody><tr><td>&quot;Albania&quot;</td><td>1952</td><td>1.282697e6</td><td>&quot;Europe&quot;</td><td>55.23</td><td>1601.056136</td></tr><tr><td>&quot;Albania&quot;</td><td>1957</td><td>1.476505e6</td><td>&quot;Europe&quot;</td><td>59.28</td><td>1942.284244</td></tr><tr><td>&quot;Albania&quot;</td><td>1962</td><td>1.728137e6</td><td>&quot;Europe&quot;</td><td>64.82</td><td>2312.888958</td></tr><tr><td>&quot;Albania&quot;</td><td>1967</td><td>1.98406e6</td><td>&quot;Europe&quot;</td><td>66.22</td><td>2760.196931</td></tr><tr><td>&quot;Albania&quot;</td><td>1972</td><td>2.263554e6</td><td>&quot;Europe&quot;</td><td>67.69</td><td>3313.422188</td></tr></tbody></table></div>"
      ],
      "text/plain": [
       "shape: (5, 6)\n",
       "┌─────────┬──────┬────────────┬───────────┬─────────────────┬─────────────┐\n",
       "│ country ┆ year ┆ pop        ┆ continent ┆ life_expectancy ┆ gdp         │\n",
       "│ ---     ┆ ---  ┆ ---        ┆ ---       ┆ ---             ┆ ---         │\n",
       "│ str     ┆ i64  ┆ f64        ┆ str       ┆ f64             ┆ f64         │\n",
       "╞═════════╪══════╪════════════╪═══════════╪═════════════════╪═════════════╡\n",
       "│ Albania ┆ 1952 ┆ 1.282697e6 ┆ Europe    ┆ 55.23           ┆ 1601.056136 │\n",
       "│ Albania ┆ 1957 ┆ 1.476505e6 ┆ Europe    ┆ 59.28           ┆ 1942.284244 │\n",
       "│ Albania ┆ 1962 ┆ 1.728137e6 ┆ Europe    ┆ 64.82           ┆ 2312.888958 │\n",
       "│ Albania ┆ 1967 ┆ 1.98406e6  ┆ Europe    ┆ 66.22           ┆ 2760.196931 │\n",
       "│ Albania ┆ 1972 ┆ 2.263554e6 ┆ Europe    ┆ 67.69           ┆ 3313.422188 │\n",
       "└─────────┴──────┴────────────┴───────────┴─────────────────┴─────────────┘"
      ]
     },
     "execution_count": 17,
     "metadata": {},
     "output_type": "execute_result"
    }
   ],
   "source": [
    "data.filter(pl.col(\"continent\") == \"Europe\").head()"
   ]
  },
  {
   "cell_type": "code",
   "execution_count": 18,
   "id": "167d9df1-89ce-4c21-925a-fa389a1cec2f",
   "metadata": {},
   "outputs": [
    {
     "data": {
      "text/html": [
       "<div><style>\n",
       ".dataframe > thead > tr,\n",
       ".dataframe > tbody > tr {\n",
       "  text-align: right;\n",
       "  white-space: pre-wrap;\n",
       "}\n",
       "</style>\n",
       "<small>shape: (5, 2)</small><table border=\"1\" class=\"dataframe\"><thead><tr><th>life_expectancy</th><th>gdp</th></tr><tr><td>f64</td><td>f64</td></tr></thead><tbody><tr><td>75.651</td><td>4604.211737</td></tr><tr><td>76.423</td><td>5937.029526</td></tr><tr><td>78.98</td><td>32417.60769</td></tr><tr><td>79.829</td><td>36126.4927</td></tr><tr><td>78.32</td><td>30485.88375</td></tr></tbody></table></div>"
      ],
      "text/plain": [
       "shape: (5, 2)\n",
       "┌─────────────────┬─────────────┐\n",
       "│ life_expectancy ┆ gdp         │\n",
       "│ ---             ┆ ---         │\n",
       "│ f64             ┆ f64         │\n",
       "╞═════════════════╪═════════════╡\n",
       "│ 75.651          ┆ 4604.211737 │\n",
       "│ 76.423          ┆ 5937.029526 │\n",
       "│ 78.98           ┆ 32417.60769 │\n",
       "│ 79.829          ┆ 36126.4927  │\n",
       "│ 78.32           ┆ 30485.88375 │\n",
       "└─────────────────┴─────────────┘"
      ]
     },
     "execution_count": 18,
     "metadata": {},
     "output_type": "execute_result"
    }
   ],
   "source": [
    "data.filter(\n",
    "    (pl.col(\"year\") > 2001) & \n",
    "    (pl.col(\"continent\") == \"Europe\")\n",
    ").select([\"life_expectancy\", \"gdp\"]).head()"
   ]
  },
  {
   "cell_type": "code",
   "execution_count": 19,
   "id": "0da3e8ae-8ec3-46c4-93b7-4b1b2a8d6b0d",
   "metadata": {},
   "outputs": [
    {
     "data": {
      "text/html": [
       "<div><style>\n",
       ".dataframe > thead > tr,\n",
       ".dataframe > tbody > tr {\n",
       "  text-align: right;\n",
       "  white-space: pre-wrap;\n",
       "}\n",
       "</style>\n",
       "<small>shape: (5, 6)</small><table border=\"1\" class=\"dataframe\"><thead><tr><th>country</th><th>year</th><th>pop</th><th>continent</th><th>life_expectancy</th><th>gdp</th></tr><tr><td>str</td><td>i64</td><td>f64</td><td>str</td><td>f64</td><td>f64</td></tr></thead><tbody><tr><td>&quot;Argentina&quot;</td><td>2007</td><td>4.0301927e7</td><td>&quot;Americas&quot;</td><td>75.32</td><td>12779.37964</td></tr><tr><td>&quot;Australia&quot;</td><td>2007</td><td>2.0434176e7</td><td>&quot;Oceania&quot;</td><td>81.235</td><td>34435.36744</td></tr><tr><td>&quot;Bolivia&quot;</td><td>2007</td><td>9.119152e6</td><td>&quot;Americas&quot;</td><td>65.554</td><td>3822.137084</td></tr><tr><td>&quot;Brazil&quot;</td><td>2007</td><td>1.90010647e8</td><td>&quot;Americas&quot;</td><td>72.39</td><td>9065.800825</td></tr><tr><td>&quot;Canada&quot;</td><td>2007</td><td>3.3390141e7</td><td>&quot;Americas&quot;</td><td>80.653</td><td>36319.23501</td></tr></tbody></table></div>"
      ],
      "text/plain": [
       "shape: (5, 6)\n",
       "┌───────────┬──────┬──────────────┬───────────┬─────────────────┬─────────────┐\n",
       "│ country   ┆ year ┆ pop          ┆ continent ┆ life_expectancy ┆ gdp         │\n",
       "│ ---       ┆ ---  ┆ ---          ┆ ---       ┆ ---             ┆ ---         │\n",
       "│ str       ┆ i64  ┆ f64          ┆ str       ┆ f64             ┆ f64         │\n",
       "╞═══════════╪══════╪══════════════╪═══════════╪═════════════════╪═════════════╡\n",
       "│ Argentina ┆ 2007 ┆ 4.0301927e7  ┆ Americas  ┆ 75.32           ┆ 12779.37964 │\n",
       "│ Australia ┆ 2007 ┆ 2.0434176e7  ┆ Oceania   ┆ 81.235          ┆ 34435.36744 │\n",
       "│ Bolivia   ┆ 2007 ┆ 9.119152e6   ┆ Americas  ┆ 65.554          ┆ 3822.137084 │\n",
       "│ Brazil    ┆ 2007 ┆ 1.90010647e8 ┆ Americas  ┆ 72.39           ┆ 9065.800825 │\n",
       "│ Canada    ┆ 2007 ┆ 3.3390141e7  ┆ Americas  ┆ 80.653          ┆ 36319.23501 │\n",
       "└───────────┴──────┴──────────────┴───────────┴─────────────────┴─────────────┘"
      ]
     },
     "execution_count": 19,
     "metadata": {},
     "output_type": "execute_result"
    }
   ],
   "source": [
    "data.filter(\n",
    "    pl.col(\"year\").is_in([2001,2005,2007]) &\n",
    "    ~pl.col(\"continent\").is_in([\"Europe\", \"Asia\", \"Africa\"])\n",
    ").head()"
   ]
  },
  {
   "cell_type": "markdown",
   "id": "e51990d1-e782-46cc-b410-9e8624f0d8a7",
   "metadata": {},
   "source": [
    "## slice()"
   ]
  },
  {
   "cell_type": "code",
   "execution_count": 20,
   "id": "c1a429b3-284f-4870-a2b6-ae2787014169",
   "metadata": {},
   "outputs": [
    {
     "data": {
      "text/html": [
       "<div><style>\n",
       ".dataframe > thead > tr,\n",
       ".dataframe > tbody > tr {\n",
       "  text-align: right;\n",
       "  white-space: pre-wrap;\n",
       "}\n",
       "</style>\n",
       "<small>shape: (2, 6)</small><table border=\"1\" class=\"dataframe\"><thead><tr><th>country</th><th>year</th><th>pop</th><th>continent</th><th>life_expectancy</th><th>gdp</th></tr><tr><td>str</td><td>i64</td><td>f64</td><td>str</td><td>f64</td><td>f64</td></tr></thead><tbody><tr><td>&quot;Afghanistan&quot;</td><td>1952</td><td>8.425333e6</td><td>&quot;Asia&quot;</td><td>28.801</td><td>779.445314</td></tr><tr><td>&quot;Afghanistan&quot;</td><td>1957</td><td>9.240934e6</td><td>&quot;Asia&quot;</td><td>30.332</td><td>820.85303</td></tr></tbody></table></div>"
      ],
      "text/plain": [
       "shape: (2, 6)\n",
       "┌─────────────┬──────┬────────────┬───────────┬─────────────────┬────────────┐\n",
       "│ country     ┆ year ┆ pop        ┆ continent ┆ life_expectancy ┆ gdp        │\n",
       "│ ---         ┆ ---  ┆ ---        ┆ ---       ┆ ---             ┆ ---        │\n",
       "│ str         ┆ i64  ┆ f64        ┆ str       ┆ f64             ┆ f64        │\n",
       "╞═════════════╪══════╪════════════╪═══════════╪═════════════════╪════════════╡\n",
       "│ Afghanistan ┆ 1952 ┆ 8.425333e6 ┆ Asia      ┆ 28.801          ┆ 779.445314 │\n",
       "│ Afghanistan ┆ 1957 ┆ 9.240934e6 ┆ Asia      ┆ 30.332          ┆ 820.85303  │\n",
       "└─────────────┴──────┴────────────┴───────────┴─────────────────┴────────────┘"
      ]
     },
     "execution_count": 20,
     "metadata": {},
     "output_type": "execute_result"
    }
   ],
   "source": [
    "data.slice(0, 2)"
   ]
  },
  {
   "cell_type": "code",
   "execution_count": 21,
   "id": "f68fe72a-7165-4c26-89ae-d134a84bdc77",
   "metadata": {},
   "outputs": [
    {
     "data": {
      "text/html": [
       "<div><style>\n",
       ".dataframe > thead > tr,\n",
       ".dataframe > tbody > tr {\n",
       "  text-align: right;\n",
       "  white-space: pre-wrap;\n",
       "}\n",
       "</style>\n",
       "<small>shape: (5, 6)</small><table border=\"1\" class=\"dataframe\"><thead><tr><th>country</th><th>year</th><th>pop</th><th>continent</th><th>life_expectancy</th><th>gdp</th></tr><tr><td>str</td><td>i64</td><td>f64</td><td>str</td><td>f64</td><td>f64</td></tr></thead><tbody><tr><td>&quot;Israel&quot;</td><td>1972</td><td>3.095893e6</td><td>&quot;Asia&quot;</td><td>71.63</td><td>12786.93223</td></tr><tr><td>&quot;Libya&quot;</td><td>1952</td><td>1.019729e6</td><td>&quot;Africa&quot;</td><td>42.723</td><td>2387.54806</td></tr><tr><td>&quot;Italy&quot;</td><td>1952</td><td>4.7666e7</td><td>&quot;Europe&quot;</td><td>65.94</td><td>4931.404155</td></tr><tr><td>&quot;Bosnia and Herzegovina&quot;</td><td>1957</td><td>3.076e6</td><td>&quot;Europe&quot;</td><td>58.45</td><td>1353.989176</td></tr><tr><td>&quot;Chad&quot;</td><td>2002</td><td>8.835739e6</td><td>&quot;Africa&quot;</td><td>50.525</td><td>1156.18186</td></tr></tbody></table></div>"
      ],
      "text/plain": [
       "shape: (5, 6)\n",
       "┌────────────────────────┬──────┬────────────┬───────────┬─────────────────┬─────────────┐\n",
       "│ country                ┆ year ┆ pop        ┆ continent ┆ life_expectancy ┆ gdp         │\n",
       "│ ---                    ┆ ---  ┆ ---        ┆ ---       ┆ ---             ┆ ---         │\n",
       "│ str                    ┆ i64  ┆ f64        ┆ str       ┆ f64             ┆ f64         │\n",
       "╞════════════════════════╪══════╪════════════╪═══════════╪═════════════════╪═════════════╡\n",
       "│ Israel                 ┆ 1972 ┆ 3.095893e6 ┆ Asia      ┆ 71.63           ┆ 12786.93223 │\n",
       "│ Libya                  ┆ 1952 ┆ 1.019729e6 ┆ Africa    ┆ 42.723          ┆ 2387.54806  │\n",
       "│ Italy                  ┆ 1952 ┆ 4.7666e7   ┆ Europe    ┆ 65.94           ┆ 4931.404155 │\n",
       "│ Bosnia and Herzegovina ┆ 1957 ┆ 3.076e6    ┆ Europe    ┆ 58.45           ┆ 1353.989176 │\n",
       "│ Chad                   ┆ 2002 ┆ 8.835739e6 ┆ Africa    ┆ 50.525          ┆ 1156.18186  │\n",
       "└────────────────────────┴──────┴────────────┴───────────┴─────────────────┴─────────────┘"
      ]
     },
     "execution_count": 21,
     "metadata": {},
     "output_type": "execute_result"
    }
   ],
   "source": [
    "data.sample(n=5)"
   ]
  },
  {
   "cell_type": "markdown",
   "id": "3ad7b8ae-001b-44c1-8746-cd4d376c321a",
   "metadata": {},
   "source": [
    "## mutate() funksiyası"
   ]
  },
  {
   "cell_type": "code",
   "execution_count": 22,
   "id": "a3d313da-5ce4-477c-ab60-3ddbb3bb222f",
   "metadata": {},
   "outputs": [
    {
     "data": {
      "text/html": [
       "<div><style>\n",
       ".dataframe > thead > tr,\n",
       ".dataframe > tbody > tr {\n",
       "  text-align: right;\n",
       "  white-space: pre-wrap;\n",
       "}\n",
       "</style>\n",
       "<small>shape: (5, 7)</small><table border=\"1\" class=\"dataframe\"><thead><tr><th>country</th><th>year</th><th>pop</th><th>continent</th><th>life_expectancy</th><th>gdp</th><th>yeni_sutun</th></tr><tr><td>str</td><td>i64</td><td>f64</td><td>str</td><td>f64</td><td>f64</td><td>f64</td></tr></thead><tbody><tr><td>&quot;Afghanistan&quot;</td><td>1952</td><td>8.425333e6</td><td>&quot;Asia&quot;</td><td>28.801</td><td>779.445314</td><td>0.28801</td></tr><tr><td>&quot;Afghanistan&quot;</td><td>1957</td><td>9.240934e6</td><td>&quot;Asia&quot;</td><td>30.332</td><td>820.85303</td><td>0.30332</td></tr><tr><td>&quot;Afghanistan&quot;</td><td>1962</td><td>1.0267083e7</td><td>&quot;Asia&quot;</td><td>31.997</td><td>853.10071</td><td>0.31997</td></tr><tr><td>&quot;Afghanistan&quot;</td><td>1967</td><td>1.1537966e7</td><td>&quot;Asia&quot;</td><td>34.02</td><td>836.197138</td><td>0.3402</td></tr><tr><td>&quot;Afghanistan&quot;</td><td>1972</td><td>1.307946e7</td><td>&quot;Asia&quot;</td><td>36.088</td><td>739.981106</td><td>0.36088</td></tr></tbody></table></div>"
      ],
      "text/plain": [
       "shape: (5, 7)\n",
       "┌─────────────┬──────┬─────────────┬───────────┬─────────────────┬────────────┬────────────┐\n",
       "│ country     ┆ year ┆ pop         ┆ continent ┆ life_expectancy ┆ gdp        ┆ yeni_sutun │\n",
       "│ ---         ┆ ---  ┆ ---         ┆ ---       ┆ ---             ┆ ---        ┆ ---        │\n",
       "│ str         ┆ i64  ┆ f64         ┆ str       ┆ f64             ┆ f64        ┆ f64        │\n",
       "╞═════════════╪══════╪═════════════╪═══════════╪═════════════════╪════════════╪════════════╡\n",
       "│ Afghanistan ┆ 1952 ┆ 8.425333e6  ┆ Asia      ┆ 28.801          ┆ 779.445314 ┆ 0.28801    │\n",
       "│ Afghanistan ┆ 1957 ┆ 9.240934e6  ┆ Asia      ┆ 30.332          ┆ 820.85303  ┆ 0.30332    │\n",
       "│ Afghanistan ┆ 1962 ┆ 1.0267083e7 ┆ Asia      ┆ 31.997          ┆ 853.10071  ┆ 0.31997    │\n",
       "│ Afghanistan ┆ 1967 ┆ 1.1537966e7 ┆ Asia      ┆ 34.02           ┆ 836.197138 ┆ 0.3402     │\n",
       "│ Afghanistan ┆ 1972 ┆ 1.307946e7  ┆ Asia      ┆ 36.088          ┆ 739.981106 ┆ 0.36088    │\n",
       "└─────────────┴──────┴─────────────┴───────────┴─────────────────┴────────────┴────────────┘"
      ]
     },
     "execution_count": 22,
     "metadata": {},
     "output_type": "execute_result"
    }
   ],
   "source": [
    "data.with_columns([\n",
    "    (pl.col(\"life_expectancy\") / 100).alias(\"yeni_sutun\")\n",
    "]).head()"
   ]
  },
  {
   "cell_type": "code",
   "execution_count": 23,
   "id": "ae432e52-a23e-4763-8dcf-6f2d4e1797a6",
   "metadata": {},
   "outputs": [
    {
     "data": {
      "text/html": [
       "<div><style>\n",
       ".dataframe > thead > tr,\n",
       ".dataframe > tbody > tr {\n",
       "  text-align: right;\n",
       "  white-space: pre-wrap;\n",
       "}\n",
       "</style>\n",
       "<small>shape: (5, 6)</small><table border=\"1\" class=\"dataframe\"><thead><tr><th>country</th><th>year</th><th>pop</th><th>continent</th><th>life_expectancy</th><th>gdp</th></tr><tr><td>str</td><td>i64</td><td>f64</td><td>str</td><td>f64</td><td>f64</td></tr></thead><tbody><tr><td>&quot;Afghanistan&quot;</td><td>1952</td><td>8.425333e6</td><td>&quot;Asia&quot;</td><td>0.29</td><td>779.445314</td></tr><tr><td>&quot;Afghanistan&quot;</td><td>1957</td><td>9.240934e6</td><td>&quot;Asia&quot;</td><td>0.3</td><td>820.85303</td></tr><tr><td>&quot;Afghanistan&quot;</td><td>1962</td><td>1.0267083e7</td><td>&quot;Asia&quot;</td><td>0.32</td><td>853.10071</td></tr><tr><td>&quot;Afghanistan&quot;</td><td>1967</td><td>1.1537966e7</td><td>&quot;Asia&quot;</td><td>0.34</td><td>836.197138</td></tr><tr><td>&quot;Afghanistan&quot;</td><td>1972</td><td>1.307946e7</td><td>&quot;Asia&quot;</td><td>0.36</td><td>739.981106</td></tr></tbody></table></div>"
      ],
      "text/plain": [
       "shape: (5, 6)\n",
       "┌─────────────┬──────┬─────────────┬───────────┬─────────────────┬────────────┐\n",
       "│ country     ┆ year ┆ pop         ┆ continent ┆ life_expectancy ┆ gdp        │\n",
       "│ ---         ┆ ---  ┆ ---         ┆ ---       ┆ ---             ┆ ---        │\n",
       "│ str         ┆ i64  ┆ f64         ┆ str       ┆ f64             ┆ f64        │\n",
       "╞═════════════╪══════╪═════════════╪═══════════╪═════════════════╪════════════╡\n",
       "│ Afghanistan ┆ 1952 ┆ 8.425333e6  ┆ Asia      ┆ 0.29            ┆ 779.445314 │\n",
       "│ Afghanistan ┆ 1957 ┆ 9.240934e6  ┆ Asia      ┆ 0.3             ┆ 820.85303  │\n",
       "│ Afghanistan ┆ 1962 ┆ 1.0267083e7 ┆ Asia      ┆ 0.32            ┆ 853.10071  │\n",
       "│ Afghanistan ┆ 1967 ┆ 1.1537966e7 ┆ Asia      ┆ 0.34            ┆ 836.197138 │\n",
       "│ Afghanistan ┆ 1972 ┆ 1.307946e7  ┆ Asia      ┆ 0.36            ┆ 739.981106 │\n",
       "└─────────────┴──────┴─────────────┴───────────┴─────────────────┴────────────┘"
      ]
     },
     "execution_count": 23,
     "metadata": {},
     "output_type": "execute_result"
    }
   ],
   "source": [
    "data.with_columns([\n",
    "    (pl.col(\"life_expectancy\") / 100).round(2).alias(\"life_expectancy\")\n",
    "]).head()"
   ]
  },
  {
   "cell_type": "markdown",
   "id": "018f4730-d228-4465-81dd-da15dad11cce",
   "metadata": {},
   "source": [
    "## summarise() funksiyası"
   ]
  },
  {
   "cell_type": "code",
   "execution_count": 24,
   "id": "b831df4f-951e-45da-a0bb-62c9c91b780a",
   "metadata": {},
   "outputs": [
    {
     "data": {
      "text/html": [
       "<div><style>\n",
       ".dataframe > thead > tr,\n",
       ".dataframe > tbody > tr {\n",
       "  text-align: right;\n",
       "  white-space: pre-wrap;\n",
       "}\n",
       "</style>\n",
       "<small>shape: (1, 1)</small><table border=\"1\" class=\"dataframe\"><thead><tr><th>life_expectancy</th></tr><tr><td>f64</td></tr></thead><tbody><tr><td>82.603</td></tr></tbody></table></div>"
      ],
      "text/plain": [
       "shape: (1, 1)\n",
       "┌─────────────────┐\n",
       "│ life_expectancy │\n",
       "│ ---             │\n",
       "│ f64             │\n",
       "╞═════════════════╡\n",
       "│ 82.603          │\n",
       "└─────────────────┘"
      ]
     },
     "execution_count": 24,
     "metadata": {},
     "output_type": "execute_result"
    }
   ],
   "source": [
    "data.select([\n",
    "    pl.col(\"life_expectancy\").max()\n",
    "])"
   ]
  },
  {
   "cell_type": "code",
   "execution_count": 25,
   "id": "772905ca-0177-4188-a28c-bab19f6ca42d",
   "metadata": {},
   "outputs": [
    {
     "data": {
      "text/html": [
       "<div><style>\n",
       ".dataframe > thead > tr,\n",
       ".dataframe > tbody > tr {\n",
       "  text-align: right;\n",
       "  white-space: pre-wrap;\n",
       "}\n",
       "</style>\n",
       "<small>shape: (1, 3)</small><table border=\"1\" class=\"dataframe\"><thead><tr><th>max_life</th><th>mean_life</th><th>min_life</th></tr><tr><td>f64</td><td>f64</td><td>f64</td></tr></thead><tbody><tr><td>82.603</td><td>59.474439</td><td>23.599</td></tr></tbody></table></div>"
      ],
      "text/plain": [
       "shape: (1, 3)\n",
       "┌──────────┬───────────┬──────────┐\n",
       "│ max_life ┆ mean_life ┆ min_life │\n",
       "│ ---      ┆ ---       ┆ ---      │\n",
       "│ f64      ┆ f64       ┆ f64      │\n",
       "╞══════════╪═══════════╪══════════╡\n",
       "│ 82.603   ┆ 59.474439 ┆ 23.599   │\n",
       "└──────────┴───────────┴──────────┘"
      ]
     },
     "execution_count": 25,
     "metadata": {},
     "output_type": "execute_result"
    }
   ],
   "source": [
    "data.select([\n",
    "    pl.col(\"life_expectancy\").max().alias(\"max_life\"),\n",
    "    pl.col(\"life_expectancy\").mean().alias(\"mean_life\"),\n",
    "    pl.col(\"life_expectancy\").min().alias(\"min_life\")\n",
    "])"
   ]
  },
  {
   "cell_type": "code",
   "execution_count": 26,
   "id": "af3d5cca-53ab-4b00-8422-742e82b903cf",
   "metadata": {},
   "outputs": [
    {
     "data": {
      "text/html": [
       "<div><style>\n",
       ".dataframe > thead > tr,\n",
       ".dataframe > tbody > tr {\n",
       "  text-align: right;\n",
       "  white-space: pre-wrap;\n",
       "}\n",
       "</style>\n",
       "<small>shape: (1, 3)</small><table border=\"1\" class=\"dataframe\"><thead><tr><th>max_life</th><th>mean_life</th><th>min_life</th></tr><tr><td>f64</td><td>f64</td><td>f64</td></tr></thead><tbody><tr><td>82.6</td><td>59.5</td><td>23.6</td></tr></tbody></table></div>"
      ],
      "text/plain": [
       "shape: (1, 3)\n",
       "┌──────────┬───────────┬──────────┐\n",
       "│ max_life ┆ mean_life ┆ min_life │\n",
       "│ ---      ┆ ---       ┆ ---      │\n",
       "│ f64      ┆ f64       ┆ f64      │\n",
       "╞══════════╪═══════════╪══════════╡\n",
       "│ 82.6     ┆ 59.5      ┆ 23.6     │\n",
       "└──────────┴───────────┴──────────┘"
      ]
     },
     "execution_count": 26,
     "metadata": {},
     "output_type": "execute_result"
    }
   ],
   "source": [
    "data.select([\n",
    "    pl.col(\"life_expectancy\").max().round(1).alias(\"max_life\"),\n",
    "    pl.col(\"life_expectancy\").mean().round(1).alias(\"mean_life\"),\n",
    "    pl.col(\"life_expectancy\").min().round(1).alias(\"min_life\")\n",
    "])"
   ]
  },
  {
   "cell_type": "markdown",
   "id": "0cbed63a-03c8-44ea-a3d7-9c95b01033ff",
   "metadata": {},
   "source": [
    "## group_by() funksiyası"
   ]
  },
  {
   "cell_type": "code",
   "execution_count": 27,
   "id": "821df4e8-7a51-4b91-8f00-1a8271b3b0e7",
   "metadata": {},
   "outputs": [
    {
     "data": {
      "text/html": [
       "<div><style>\n",
       ".dataframe > thead > tr,\n",
       ".dataframe > tbody > tr {\n",
       "  text-align: right;\n",
       "  white-space: pre-wrap;\n",
       "}\n",
       "</style>\n",
       "<small>shape: (5, 2)</small><table border=\"1\" class=\"dataframe\"><thead><tr><th>country</th><th>life_expectancy</th></tr><tr><td>str</td><td>f64</td></tr></thead><tbody><tr><td>&quot;Togo&quot;</td><td>58.42</td></tr><tr><td>&quot;Guatemala&quot;</td><td>70.259</td></tr><tr><td>&quot;Hungary&quot;</td><td>73.338</td></tr><tr><td>&quot;Spain&quot;</td><td>80.941</td></tr><tr><td>&quot;Bulgaria&quot;</td><td>73.005</td></tr></tbody></table></div>"
      ],
      "text/plain": [
       "shape: (5, 2)\n",
       "┌───────────┬─────────────────┐\n",
       "│ country   ┆ life_expectancy │\n",
       "│ ---       ┆ ---             │\n",
       "│ str       ┆ f64             │\n",
       "╞═══════════╪═════════════════╡\n",
       "│ Togo      ┆ 58.42           │\n",
       "│ Guatemala ┆ 70.259          │\n",
       "│ Hungary   ┆ 73.338          │\n",
       "│ Spain     ┆ 80.941          │\n",
       "│ Bulgaria  ┆ 73.005          │\n",
       "└───────────┴─────────────────┘"
      ]
     },
     "execution_count": 27,
     "metadata": {},
     "output_type": "execute_result"
    }
   ],
   "source": [
    "data.group_by(\"country\").agg([\n",
    "    pl.col(\"life_expectancy\").max()\n",
    "]).head()"
   ]
  },
  {
   "cell_type": "code",
   "execution_count": 28,
   "id": "4cb4d2e4-022c-49a4-8d9b-0672947cd25c",
   "metadata": {},
   "outputs": [
    {
     "data": {
      "text/html": [
       "<div><style>\n",
       ".dataframe > thead > tr,\n",
       ".dataframe > tbody > tr {\n",
       "  text-align: right;\n",
       "  white-space: pre-wrap;\n",
       "}\n",
       "</style>\n",
       "<small>shape: (5, 4)</small><table border=\"1\" class=\"dataframe\"><thead><tr><th>country</th><th>max_life</th><th>mean_life</th><th>min_life</th></tr><tr><td>str</td><td>f64</td><td>f64</td><td>f64</td></tr></thead><tbody><tr><td>&quot;Namibia&quot;</td><td>61.999</td><td>53.491333</td><td>41.725</td></tr><tr><td>&quot;Cuba&quot;</td><td>78.273</td><td>71.045083</td><td>59.421</td></tr><tr><td>&quot;Belgium&quot;</td><td>79.441</td><td>73.64175</td><td>68.0</td></tr><tr><td>&quot;Reunion&quot;</td><td>76.442</td><td>66.64425</td><td>52.724</td></tr><tr><td>&quot;Sierra Leone&quot;</td><td>42.568</td><td>36.769167</td><td>30.331</td></tr></tbody></table></div>"
      ],
      "text/plain": [
       "shape: (5, 4)\n",
       "┌──────────────┬──────────┬───────────┬──────────┐\n",
       "│ country      ┆ max_life ┆ mean_life ┆ min_life │\n",
       "│ ---          ┆ ---      ┆ ---       ┆ ---      │\n",
       "│ str          ┆ f64      ┆ f64       ┆ f64      │\n",
       "╞══════════════╪══════════╪═══════════╪══════════╡\n",
       "│ Namibia      ┆ 61.999   ┆ 53.491333 ┆ 41.725   │\n",
       "│ Cuba         ┆ 78.273   ┆ 71.045083 ┆ 59.421   │\n",
       "│ Belgium      ┆ 79.441   ┆ 73.64175  ┆ 68.0     │\n",
       "│ Reunion      ┆ 76.442   ┆ 66.64425  ┆ 52.724   │\n",
       "│ Sierra Leone ┆ 42.568   ┆ 36.769167 ┆ 30.331   │\n",
       "└──────────────┴──────────┴───────────┴──────────┘"
      ]
     },
     "execution_count": 28,
     "metadata": {},
     "output_type": "execute_result"
    }
   ],
   "source": [
    "data.group_by(\"country\").agg([\n",
    "    pl.col(\"life_expectancy\").max().alias(\"max_life\"),\n",
    "    pl.col(\"life_expectancy\").mean().alias(\"mean_life\"),\n",
    "    pl.col(\"life_expectancy\").min().alias(\"min_life\")\n",
    "]).head()"
   ]
  },
  {
   "cell_type": "code",
   "execution_count": 29,
   "id": "a0738d62-2123-4bd5-a265-7dec07f5cad9",
   "metadata": {},
   "outputs": [
    {
     "data": {
      "text/html": [
       "<div><style>\n",
       ".dataframe > thead > tr,\n",
       ".dataframe > tbody > tr {\n",
       "  text-align: right;\n",
       "  white-space: pre-wrap;\n",
       "}\n",
       "</style>\n",
       "<small>shape: (5, 2)</small><table border=\"1\" class=\"dataframe\"><thead><tr><th>country</th><th>max_life_ex</th></tr><tr><td>str</td><td>f64</td></tr></thead><tbody><tr><td>&quot;Japan&quot;</td><td>82.603</td></tr><tr><td>&quot;Hong Kong China&quot;</td><td>82.208</td></tr><tr><td>&quot;Iceland&quot;</td><td>81.757</td></tr><tr><td>&quot;Switzerland&quot;</td><td>81.701</td></tr><tr><td>&quot;Australia&quot;</td><td>81.235</td></tr></tbody></table></div>"
      ],
      "text/plain": [
       "shape: (5, 2)\n",
       "┌─────────────────┬─────────────┐\n",
       "│ country         ┆ max_life_ex │\n",
       "│ ---             ┆ ---         │\n",
       "│ str             ┆ f64         │\n",
       "╞═════════════════╪═════════════╡\n",
       "│ Japan           ┆ 82.603      │\n",
       "│ Hong Kong China ┆ 82.208      │\n",
       "│ Iceland         ┆ 81.757      │\n",
       "│ Switzerland     ┆ 81.701      │\n",
       "│ Australia       ┆ 81.235      │\n",
       "└─────────────────┴─────────────┘"
      ]
     },
     "execution_count": 29,
     "metadata": {},
     "output_type": "execute_result"
    }
   ],
   "source": [
    "data.group_by(\"country\").agg([\n",
    "    pl.col(\"life_expectancy\").max().alias(\"max_life_ex\")\n",
    "]).sort(\"max_life_ex\", descending=True).head()"
   ]
  },
  {
   "cell_type": "code",
   "execution_count": 30,
   "id": "2b4c3be4-9f6e-4bfc-aa92-d8dfbca2af92",
   "metadata": {},
   "outputs": [
    {
     "data": {
      "text/html": [
       "<div><style>\n",
       ".dataframe > thead > tr,\n",
       ".dataframe > tbody > tr {\n",
       "  text-align: right;\n",
       "  white-space: pre-wrap;\n",
       "}\n",
       "</style>\n",
       "<small>shape: (5, 2)</small><table border=\"1\" class=\"dataframe\"><thead><tr><th>continent</th><th>max_life_ex</th></tr><tr><td>str</td><td>f64</td></tr></thead><tbody><tr><td>&quot;Africa&quot;</td><td>76.442</td></tr><tr><td>&quot;Americas&quot;</td><td>80.653</td></tr><tr><td>&quot;Asia&quot;</td><td>82.603</td></tr><tr><td>&quot;Europe&quot;</td><td>81.757</td></tr><tr><td>&quot;Oceania&quot;</td><td>81.235</td></tr></tbody></table></div>"
      ],
      "text/plain": [
       "shape: (5, 2)\n",
       "┌───────────┬─────────────┐\n",
       "│ continent ┆ max_life_ex │\n",
       "│ ---       ┆ ---         │\n",
       "│ str       ┆ f64         │\n",
       "╞═══════════╪═════════════╡\n",
       "│ Africa    ┆ 76.442      │\n",
       "│ Americas  ┆ 80.653      │\n",
       "│ Asia      ┆ 82.603      │\n",
       "│ Europe    ┆ 81.757      │\n",
       "│ Oceania   ┆ 81.235      │\n",
       "└───────────┴─────────────┘"
      ]
     },
     "execution_count": 30,
     "metadata": {},
     "output_type": "execute_result"
    }
   ],
   "source": [
    "data.group_by([\"continent\", \"country\"]).agg([\n",
    "    pl.col(\"life_expectancy\").max().alias(\"max_life_ex\")\n",
    "]).sort([\"continent\", \"max_life_ex\"], descending=[False, True]).head()"
   ]
  },
  {
   "cell_type": "markdown",
   "id": "9c2f3628-cd4b-4bd4-978b-a2848319f588",
   "metadata": {},
   "source": [
    "## count() funksiyası"
   ]
  },
  {
   "cell_type": "code",
   "execution_count": 31,
   "id": "5bd7a24d-1aac-4749-8d2b-85ebac2b2516",
   "metadata": {},
   "outputs": [
    {
     "name": "stderr",
     "output_type": "stream",
     "text": [
      "C:\\Users\\tarlan.jabiyev\\AppData\\Local\\Temp\\ipykernel_54760\\3300329444.py:1: DeprecationWarning: `pl.count()` is deprecated. Please use `pl.len()` instead.\n",
      "(Deprecated in version 0.20.5)\n",
      "  data.group_by(\"continent\").agg(pl.count())\n"
     ]
    },
    {
     "data": {
      "text/html": [
       "<div><style>\n",
       ".dataframe > thead > tr,\n",
       ".dataframe > tbody > tr {\n",
       "  text-align: right;\n",
       "  white-space: pre-wrap;\n",
       "}\n",
       "</style>\n",
       "<small>shape: (5, 2)</small><table border=\"1\" class=\"dataframe\"><thead><tr><th>continent</th><th>count</th></tr><tr><td>str</td><td>u32</td></tr></thead><tbody><tr><td>&quot;Americas&quot;</td><td>300</td></tr><tr><td>&quot;Oceania&quot;</td><td>24</td></tr><tr><td>&quot;Europe&quot;</td><td>360</td></tr><tr><td>&quot;Asia&quot;</td><td>396</td></tr><tr><td>&quot;Africa&quot;</td><td>624</td></tr></tbody></table></div>"
      ],
      "text/plain": [
       "shape: (5, 2)\n",
       "┌───────────┬───────┐\n",
       "│ continent ┆ count │\n",
       "│ ---       ┆ ---   │\n",
       "│ str       ┆ u32   │\n",
       "╞═══════════╪═══════╡\n",
       "│ Americas  ┆ 300   │\n",
       "│ Oceania   ┆ 24    │\n",
       "│ Europe    ┆ 360   │\n",
       "│ Asia      ┆ 396   │\n",
       "│ Africa    ┆ 624   │\n",
       "└───────────┴───────┘"
      ]
     },
     "execution_count": 31,
     "metadata": {},
     "output_type": "execute_result"
    }
   ],
   "source": [
    "data.group_by(\"continent\").agg(pl.count())"
   ]
  },
  {
   "cell_type": "code",
   "execution_count": 32,
   "id": "3188b246-8898-47c4-ba67-b7a0ed38cc31",
   "metadata": {},
   "outputs": [
    {
     "name": "stderr",
     "output_type": "stream",
     "text": [
      "C:\\Users\\tarlan.jabiyev\\AppData\\Local\\Temp\\ipykernel_54760\\498986462.py:1: DeprecationWarning: `pl.count()` is deprecated. Please use `pl.len()` instead.\n",
      "(Deprecated in version 0.20.5)\n",
      "  data.group_by([\"country\", \"continent\"]).agg(pl.count()).head()\n"
     ]
    },
    {
     "data": {
      "text/html": [
       "<div><style>\n",
       ".dataframe > thead > tr,\n",
       ".dataframe > tbody > tr {\n",
       "  text-align: right;\n",
       "  white-space: pre-wrap;\n",
       "}\n",
       "</style>\n",
       "<small>shape: (5, 3)</small><table border=\"1\" class=\"dataframe\"><thead><tr><th>country</th><th>continent</th><th>count</th></tr><tr><td>str</td><td>str</td><td>u32</td></tr></thead><tbody><tr><td>&quot;Cuba&quot;</td><td>&quot;Americas&quot;</td><td>12</td></tr><tr><td>&quot;Japan&quot;</td><td>&quot;Asia&quot;</td><td>12</td></tr><tr><td>&quot;Pakistan&quot;</td><td>&quot;Asia&quot;</td><td>12</td></tr><tr><td>&quot;Nepal&quot;</td><td>&quot;Asia&quot;</td><td>12</td></tr><tr><td>&quot;Niger&quot;</td><td>&quot;Africa&quot;</td><td>12</td></tr></tbody></table></div>"
      ],
      "text/plain": [
       "shape: (5, 3)\n",
       "┌──────────┬───────────┬───────┐\n",
       "│ country  ┆ continent ┆ count │\n",
       "│ ---      ┆ ---       ┆ ---   │\n",
       "│ str      ┆ str       ┆ u32   │\n",
       "╞══════════╪═══════════╪═══════╡\n",
       "│ Cuba     ┆ Americas  ┆ 12    │\n",
       "│ Japan    ┆ Asia      ┆ 12    │\n",
       "│ Pakistan ┆ Asia      ┆ 12    │\n",
       "│ Nepal    ┆ Asia      ┆ 12    │\n",
       "│ Niger    ┆ Africa    ┆ 12    │\n",
       "└──────────┴───────────┴───────┘"
      ]
     },
     "execution_count": 32,
     "metadata": {},
     "output_type": "execute_result"
    }
   ],
   "source": [
    "data.group_by([\"country\", \"continent\"]).agg(pl.count()).head()"
   ]
  },
  {
   "cell_type": "markdown",
   "id": "1aa5818e-cdc8-4ccb-a308-dc4d29ec1013",
   "metadata": {},
   "source": [
    "## “join” funksiyaları"
   ]
  },
  {
   "cell_type": "code",
   "execution_count": 33,
   "id": "da854dae-d1db-4129-9552-eda883dd3121",
   "metadata": {},
   "outputs": [],
   "source": [
    "band_members = pl.DataFrame({\"name\": [\"Mick\", \"John\", \"Paul\"], \"band\": [\"Stones\", \"Beatles\", \"Beatles\"]})\n",
    "band_instruments = pl.DataFrame({\"name\": [\"John\", \"Paul\", \"George\"], \"plays\": [\"guitar\", \"bass\", \"guitar\"]})\n",
    "band_instruments2 = pl.DataFrame({\"artist\": [\"John\", \"Paul\", \"Ringo\"], \"instrument\": [\"guitar\", \"bass\", \"drums\"]})"
   ]
  },
  {
   "cell_type": "code",
   "execution_count": 34,
   "id": "5c786952-3cf4-41dc-b87f-3c1674990f7f",
   "metadata": {},
   "outputs": [
    {
     "data": {
      "text/html": [
       "<div><style>\n",
       ".dataframe > thead > tr,\n",
       ".dataframe > tbody > tr {\n",
       "  text-align: right;\n",
       "  white-space: pre-wrap;\n",
       "}\n",
       "</style>\n",
       "<small>shape: (2, 3)</small><table border=\"1\" class=\"dataframe\"><thead><tr><th>name</th><th>band</th><th>plays</th></tr><tr><td>str</td><td>str</td><td>str</td></tr></thead><tbody><tr><td>&quot;John&quot;</td><td>&quot;Beatles&quot;</td><td>&quot;guitar&quot;</td></tr><tr><td>&quot;Paul&quot;</td><td>&quot;Beatles&quot;</td><td>&quot;bass&quot;</td></tr></tbody></table></div>"
      ],
      "text/plain": [
       "shape: (2, 3)\n",
       "┌──────┬─────────┬────────┐\n",
       "│ name ┆ band    ┆ plays  │\n",
       "│ ---  ┆ ---     ┆ ---    │\n",
       "│ str  ┆ str     ┆ str    │\n",
       "╞══════╪═════════╪════════╡\n",
       "│ John ┆ Beatles ┆ guitar │\n",
       "│ Paul ┆ Beatles ┆ bass   │\n",
       "└──────┴─────────┴────────┘"
      ]
     },
     "execution_count": 34,
     "metadata": {},
     "output_type": "execute_result"
    }
   ],
   "source": [
    "band_members.join(band_instruments, on=\"name\", how=\"inner\")"
   ]
  },
  {
   "cell_type": "code",
   "execution_count": 35,
   "id": "b8e5e05e-c09a-419b-9c65-f33f424e20d5",
   "metadata": {},
   "outputs": [
    {
     "data": {
      "text/html": [
       "<div><style>\n",
       ".dataframe > thead > tr,\n",
       ".dataframe > tbody > tr {\n",
       "  text-align: right;\n",
       "  white-space: pre-wrap;\n",
       "}\n",
       "</style>\n",
       "<small>shape: (3, 3)</small><table border=\"1\" class=\"dataframe\"><thead><tr><th>name</th><th>band</th><th>plays</th></tr><tr><td>str</td><td>str</td><td>str</td></tr></thead><tbody><tr><td>&quot;Mick&quot;</td><td>&quot;Stones&quot;</td><td>null</td></tr><tr><td>&quot;John&quot;</td><td>&quot;Beatles&quot;</td><td>&quot;guitar&quot;</td></tr><tr><td>&quot;Paul&quot;</td><td>&quot;Beatles&quot;</td><td>&quot;bass&quot;</td></tr></tbody></table></div>"
      ],
      "text/plain": [
       "shape: (3, 3)\n",
       "┌──────┬─────────┬────────┐\n",
       "│ name ┆ band    ┆ plays  │\n",
       "│ ---  ┆ ---     ┆ ---    │\n",
       "│ str  ┆ str     ┆ str    │\n",
       "╞══════╪═════════╪════════╡\n",
       "│ Mick ┆ Stones  ┆ null   │\n",
       "│ John ┆ Beatles ┆ guitar │\n",
       "│ Paul ┆ Beatles ┆ bass   │\n",
       "└──────┴─────────┴────────┘"
      ]
     },
     "execution_count": 35,
     "metadata": {},
     "output_type": "execute_result"
    }
   ],
   "source": [
    "band_members.join(band_instruments, on=\"name\", how=\"left\")"
   ]
  },
  {
   "cell_type": "code",
   "execution_count": 36,
   "id": "fb4bbd55-592c-48d2-b888-bd5ea4eb4667",
   "metadata": {},
   "outputs": [
    {
     "data": {
      "text/html": [
       "<div><style>\n",
       ".dataframe > thead > tr,\n",
       ".dataframe > tbody > tr {\n",
       "  text-align: right;\n",
       "  white-space: pre-wrap;\n",
       "}\n",
       "</style>\n",
       "<small>shape: (3, 3)</small><table border=\"1\" class=\"dataframe\"><thead><tr><th>band</th><th>name</th><th>plays</th></tr><tr><td>str</td><td>str</td><td>str</td></tr></thead><tbody><tr><td>&quot;Beatles&quot;</td><td>&quot;John&quot;</td><td>&quot;guitar&quot;</td></tr><tr><td>&quot;Beatles&quot;</td><td>&quot;Paul&quot;</td><td>&quot;bass&quot;</td></tr><tr><td>null</td><td>&quot;George&quot;</td><td>&quot;guitar&quot;</td></tr></tbody></table></div>"
      ],
      "text/plain": [
       "shape: (3, 3)\n",
       "┌─────────┬────────┬────────┐\n",
       "│ band    ┆ name   ┆ plays  │\n",
       "│ ---     ┆ ---    ┆ ---    │\n",
       "│ str     ┆ str    ┆ str    │\n",
       "╞═════════╪════════╪════════╡\n",
       "│ Beatles ┆ John   ┆ guitar │\n",
       "│ Beatles ┆ Paul   ┆ bass   │\n",
       "│ null    ┆ George ┆ guitar │\n",
       "└─────────┴────────┴────────┘"
      ]
     },
     "execution_count": 36,
     "metadata": {},
     "output_type": "execute_result"
    }
   ],
   "source": [
    "band_members.join(band_instruments, on=\"name\", how=\"right\")"
   ]
  },
  {
   "cell_type": "code",
   "execution_count": 37,
   "id": "52d87159-3251-4e61-8ec9-efed57af5dff",
   "metadata": {},
   "outputs": [
    {
     "name": "stderr",
     "output_type": "stream",
     "text": [
      "C:\\Users\\tarlan.jabiyev\\AppData\\Local\\Temp\\ipykernel_54760\\2299610304.py:1: DeprecationWarning: use of `how='outer'` should be replaced with `how='full'`.\n",
      "(Deprecated in version 0.20.29)\n",
      "  band_members.join(band_instruments, on=\"name\", how=\"outer\")\n"
     ]
    },
    {
     "data": {
      "text/html": [
       "<div><style>\n",
       ".dataframe > thead > tr,\n",
       ".dataframe > tbody > tr {\n",
       "  text-align: right;\n",
       "  white-space: pre-wrap;\n",
       "}\n",
       "</style>\n",
       "<small>shape: (4, 4)</small><table border=\"1\" class=\"dataframe\"><thead><tr><th>name</th><th>band</th><th>name_right</th><th>plays</th></tr><tr><td>str</td><td>str</td><td>str</td><td>str</td></tr></thead><tbody><tr><td>&quot;John&quot;</td><td>&quot;Beatles&quot;</td><td>&quot;John&quot;</td><td>&quot;guitar&quot;</td></tr><tr><td>&quot;Paul&quot;</td><td>&quot;Beatles&quot;</td><td>&quot;Paul&quot;</td><td>&quot;bass&quot;</td></tr><tr><td>null</td><td>null</td><td>&quot;George&quot;</td><td>&quot;guitar&quot;</td></tr><tr><td>&quot;Mick&quot;</td><td>&quot;Stones&quot;</td><td>null</td><td>null</td></tr></tbody></table></div>"
      ],
      "text/plain": [
       "shape: (4, 4)\n",
       "┌──────┬─────────┬────────────┬────────┐\n",
       "│ name ┆ band    ┆ name_right ┆ plays  │\n",
       "│ ---  ┆ ---     ┆ ---        ┆ ---    │\n",
       "│ str  ┆ str     ┆ str        ┆ str    │\n",
       "╞══════╪═════════╪════════════╪════════╡\n",
       "│ John ┆ Beatles ┆ John       ┆ guitar │\n",
       "│ Paul ┆ Beatles ┆ Paul       ┆ bass   │\n",
       "│ null ┆ null    ┆ George     ┆ guitar │\n",
       "│ Mick ┆ Stones  ┆ null       ┆ null   │\n",
       "└──────┴─────────┴────────────┴────────┘"
      ]
     },
     "execution_count": 37,
     "metadata": {},
     "output_type": "execute_result"
    }
   ],
   "source": [
    "band_members.join(band_instruments, on=\"name\", how=\"outer\")"
   ]
  },
  {
   "cell_type": "code",
   "execution_count": 38,
   "id": "7db0283f-457c-4ff8-a5db-ff94aa486f70",
   "metadata": {},
   "outputs": [
    {
     "data": {
      "text/html": [
       "<div><style>\n",
       ".dataframe > thead > tr,\n",
       ".dataframe > tbody > tr {\n",
       "  text-align: right;\n",
       "  white-space: pre-wrap;\n",
       "}\n",
       "</style>\n",
       "<small>shape: (3, 3)</small><table border=\"1\" class=\"dataframe\"><thead><tr><th>name</th><th>band</th><th>instrument</th></tr><tr><td>str</td><td>str</td><td>str</td></tr></thead><tbody><tr><td>&quot;Mick&quot;</td><td>&quot;Stones&quot;</td><td>null</td></tr><tr><td>&quot;John&quot;</td><td>&quot;Beatles&quot;</td><td>&quot;guitar&quot;</td></tr><tr><td>&quot;Paul&quot;</td><td>&quot;Beatles&quot;</td><td>&quot;bass&quot;</td></tr></tbody></table></div>"
      ],
      "text/plain": [
       "shape: (3, 3)\n",
       "┌──────┬─────────┬────────────┐\n",
       "│ name ┆ band    ┆ instrument │\n",
       "│ ---  ┆ ---     ┆ ---        │\n",
       "│ str  ┆ str     ┆ str        │\n",
       "╞══════╪═════════╪════════════╡\n",
       "│ Mick ┆ Stones  ┆ null       │\n",
       "│ John ┆ Beatles ┆ guitar     │\n",
       "│ Paul ┆ Beatles ┆ bass       │\n",
       "└──────┴─────────┴────────────┘"
      ]
     },
     "execution_count": 38,
     "metadata": {},
     "output_type": "execute_result"
    }
   ],
   "source": [
    "band_members.join(band_instruments2, left_on=\"name\", right_on=\"artist\", how=\"left\")"
   ]
  },
  {
   "cell_type": "code",
   "execution_count": 39,
   "id": "4239b695-9797-4e2c-a09f-168b951206f8",
   "metadata": {},
   "outputs": [
    {
     "data": {
      "text/html": [
       "<div><style>\n",
       ".dataframe > thead > tr,\n",
       ".dataframe > tbody > tr {\n",
       "  text-align: right;\n",
       "  white-space: pre-wrap;\n",
       "}\n",
       "</style>\n",
       "<small>shape: (3, 3)</small><table border=\"1\" class=\"dataframe\"><thead><tr><th>name</th><th>band</th><th>instrument</th></tr><tr><td>str</td><td>str</td><td>str</td></tr></thead><tbody><tr><td>&quot;Mick&quot;</td><td>&quot;Stones&quot;</td><td>null</td></tr><tr><td>&quot;John&quot;</td><td>&quot;Beatles&quot;</td><td>&quot;guitar&quot;</td></tr><tr><td>&quot;Paul&quot;</td><td>&quot;Beatles&quot;</td><td>&quot;bass&quot;</td></tr></tbody></table></div>"
      ],
      "text/plain": [
       "shape: (3, 3)\n",
       "┌──────┬─────────┬────────────┐\n",
       "│ name ┆ band    ┆ instrument │\n",
       "│ ---  ┆ ---     ┆ ---        │\n",
       "│ str  ┆ str     ┆ str        │\n",
       "╞══════╪═════════╪════════════╡\n",
       "│ Mick ┆ Stones  ┆ null       │\n",
       "│ John ┆ Beatles ┆ guitar     │\n",
       "│ Paul ┆ Beatles ┆ bass       │\n",
       "└──────┴─────────┴────────────┘"
      ]
     },
     "execution_count": 39,
     "metadata": {},
     "output_type": "execute_result"
    }
   ],
   "source": [
    "band_members.join(band_instruments2, left_on=\"name\", right_on=\"artist\", how=\"left\")"
   ]
  },
  {
   "cell_type": "code",
   "execution_count": null,
   "id": "b7a3f996-27d2-4c00-bfb1-4d5b4fead986",
   "metadata": {},
   "outputs": [],
   "source": []
  }
 ],
 "metadata": {
  "kernelspec": {
   "display_name": "Python 3 (ipykernel)",
   "language": "python",
   "name": "python3"
  },
  "language_info": {
   "codemirror_mode": {
    "name": "ipython",
    "version": 3
   },
   "file_extension": ".py",
   "mimetype": "text/x-python",
   "name": "python",
   "nbconvert_exporter": "python",
   "pygments_lexer": "ipython3",
   "version": "3.11.7"
  }
 },
 "nbformat": 4,
 "nbformat_minor": 5
}
