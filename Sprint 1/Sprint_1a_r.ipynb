{
 "cells": [
  {
   "cell_type": "markdown",
   "id": "13d56b25-8183-4cab-8ffd-c18de0d3fb3d",
   "metadata": {},
   "source": [
    "## Data tipləri"
   ]
  },
  {
   "cell_type": "code",
   "execution_count": 2,
   "id": "4f4a72e1-dc31-4248-b39d-6a9dfc866c8a",
   "metadata": {},
   "outputs": [
    {
     "data": {
      "text/html": [
       "7"
      ],
      "text/latex": [
       "7"
      ],
      "text/markdown": [
       "7"
      ],
      "text/plain": [
       "[1] 7"
      ]
     },
     "metadata": {},
     "output_type": "display_data"
    }
   ],
   "source": [
    "7"
   ]
  },
  {
   "cell_type": "code",
   "execution_count": 12,
   "id": "4492f13c-b01d-47d6-a4df-2a3079cc920b",
   "metadata": {},
   "outputs": [
    {
     "data": {
      "text/html": [
       "'numeric'"
      ],
      "text/latex": [
       "'numeric'"
      ],
      "text/markdown": [
       "'numeric'"
      ],
      "text/plain": [
       "[1] \"numeric\""
      ]
     },
     "metadata": {},
     "output_type": "display_data"
    }
   ],
   "source": [
    "class(7)"
   ]
  },
  {
   "cell_type": "code",
   "execution_count": 13,
   "id": "6c193e79-775d-4b98-b370-507ab9970133",
   "metadata": {},
   "outputs": [
    {
     "data": {
      "text/html": [
       "3.14"
      ],
      "text/latex": [
       "3.14"
      ],
      "text/markdown": [
       "3.14"
      ],
      "text/plain": [
       "[1] 3.14"
      ]
     },
     "metadata": {},
     "output_type": "display_data"
    }
   ],
   "source": [
    "3.14"
   ]
  },
  {
   "cell_type": "code",
   "execution_count": 14,
   "id": "45b4406f-59e9-4479-80d7-0e08ff5c26de",
   "metadata": {},
   "outputs": [
    {
     "data": {
      "text/html": [
       "'numeric'"
      ],
      "text/latex": [
       "'numeric'"
      ],
      "text/markdown": [
       "'numeric'"
      ],
      "text/plain": [
       "[1] \"numeric\""
      ]
     },
     "metadata": {},
     "output_type": "display_data"
    }
   ],
   "source": [
    "class(3.14)"
   ]
  },
  {
   "cell_type": "code",
   "execution_count": 15,
   "id": "09c831ee-0646-4ff2-a158-400cffc9842f",
   "metadata": {},
   "outputs": [
    {
     "data": {
      "text/html": [
       "3"
      ],
      "text/latex": [
       "3"
      ],
      "text/markdown": [
       "3"
      ],
      "text/plain": [
       "[1] 3"
      ]
     },
     "metadata": {},
     "output_type": "display_data"
    }
   ],
   "source": [
    "as.integer(3.14)"
   ]
  },
  {
   "cell_type": "code",
   "execution_count": 16,
   "id": "d9cfa950-b2f5-49f8-a88d-58061a13e790",
   "metadata": {},
   "outputs": [
    {
     "data": {
      "text/html": [
       "'integer'"
      ],
      "text/latex": [
       "'integer'"
      ],
      "text/markdown": [
       "'integer'"
      ],
      "text/plain": [
       "[1] \"integer\""
      ]
     },
     "metadata": {},
     "output_type": "display_data"
    }
   ],
   "source": [
    "class(as.integer(3.14))"
   ]
  },
  {
   "cell_type": "code",
   "execution_count": 18,
   "id": "1317119d-1205-48d6-9934-7a6e36e69fdc",
   "metadata": {},
   "outputs": [
    {
     "data": {
      "text/html": [
       "'salam'"
      ],
      "text/latex": [
       "'salam'"
      ],
      "text/markdown": [
       "'salam'"
      ],
      "text/plain": [
       "[1] \"salam\""
      ]
     },
     "metadata": {},
     "output_type": "display_data"
    }
   ],
   "source": [
    "\"salam\""
   ]
  },
  {
   "cell_type": "code",
   "execution_count": 19,
   "id": "8785606d-ad2e-49f1-9995-75b29a675ffe",
   "metadata": {},
   "outputs": [
    {
     "data": {
      "text/html": [
       "'character'"
      ],
      "text/latex": [
       "'character'"
      ],
      "text/markdown": [
       "'character'"
      ],
      "text/plain": [
       "[1] \"character\""
      ]
     },
     "metadata": {},
     "output_type": "display_data"
    }
   ],
   "source": [
    "class(\"salam\")"
   ]
  },
  {
   "cell_type": "code",
   "execution_count": 20,
   "id": "0fc6a938-d682-48a4-852b-d0b8bc51201d",
   "metadata": {},
   "outputs": [
    {
     "data": {
      "text/html": [
       "'character'"
      ],
      "text/latex": [
       "'character'"
      ],
      "text/markdown": [
       "'character'"
      ],
      "text/plain": [
       "[1] \"character\""
      ]
     },
     "metadata": {},
     "output_type": "display_data"
    }
   ],
   "source": [
    "class(\"100\")"
   ]
  },
  {
   "cell_type": "code",
   "execution_count": 23,
   "id": "3743bc99-55a4-4e90-aa14-c3eeb1f61244",
   "metadata": {},
   "outputs": [
    {
     "data": {
      "text/html": [
       "100"
      ],
      "text/latex": [
       "100"
      ],
      "text/markdown": [
       "100"
      ],
      "text/plain": [
       "[1] 100"
      ]
     },
     "metadata": {},
     "output_type": "display_data"
    }
   ],
   "source": [
    "as.numeric(\"100\")"
   ]
  },
  {
   "cell_type": "code",
   "execution_count": 34,
   "id": "0f585fe3-b14a-42de-85c0-aa6b79d10e44",
   "metadata": {},
   "outputs": [
    {
     "data": {
      "text/html": [
       "TRUE"
      ],
      "text/latex": [
       "TRUE"
      ],
      "text/markdown": [
       "TRUE"
      ],
      "text/plain": [
       "[1] TRUE"
      ]
     },
     "metadata": {},
     "output_type": "display_data"
    },
    {
     "data": {
      "text/html": [
       "FALSE"
      ],
      "text/latex": [
       "FALSE"
      ],
      "text/markdown": [
       "FALSE"
      ],
      "text/plain": [
       "[1] FALSE"
      ]
     },
     "metadata": {},
     "output_type": "display_data"
    },
    {
     "data": {
      "text/html": [
       "TRUE"
      ],
      "text/latex": [
       "TRUE"
      ],
      "text/markdown": [
       "TRUE"
      ],
      "text/plain": [
       "[1] TRUE"
      ]
     },
     "metadata": {},
     "output_type": "display_data"
    },
    {
     "data": {
      "text/html": [
       "FALSE"
      ],
      "text/latex": [
       "FALSE"
      ],
      "text/markdown": [
       "FALSE"
      ],
      "text/plain": [
       "[1] FALSE"
      ]
     },
     "metadata": {},
     "output_type": "display_data"
    }
   ],
   "source": [
    "TRUE\n",
    "FALSE\n",
    "T\n",
    "F"
   ]
  },
  {
   "cell_type": "code",
   "execution_count": 35,
   "id": "409b80a8-b5bf-4a47-af40-43bb84027f4d",
   "metadata": {},
   "outputs": [
    {
     "data": {
      "text/html": [
       "'logical'"
      ],
      "text/latex": [
       "'logical'"
      ],
      "text/markdown": [
       "'logical'"
      ],
      "text/plain": [
       "[1] \"logical\""
      ]
     },
     "metadata": {},
     "output_type": "display_data"
    },
    {
     "data": {
      "text/html": [
       "'logical'"
      ],
      "text/latex": [
       "'logical'"
      ],
      "text/markdown": [
       "'logical'"
      ],
      "text/plain": [
       "[1] \"logical\""
      ]
     },
     "metadata": {},
     "output_type": "display_data"
    }
   ],
   "source": [
    "class(TRUE) \n",
    "class(F)"
   ]
  },
  {
   "cell_type": "markdown",
   "id": "45215469-c7ed-4a38-8757-5f38488c7846",
   "metadata": {},
   "source": [
    "## Operatorlar"
   ]
  },
  {
   "cell_type": "markdown",
   "id": "1be70b6d-13ac-4ebf-b990-ea7d234f98b7",
   "metadata": {},
   "source": [
    "### Riyazi operatorlar"
   ]
  },
  {
   "cell_type": "code",
   "execution_count": 36,
   "id": "bd9e77a2-2729-44d3-8dac-8d475289053c",
   "metadata": {},
   "outputs": [
    {
     "data": {
      "text/html": [
       "10"
      ],
      "text/latex": [
       "10"
      ],
      "text/markdown": [
       "10"
      ],
      "text/plain": [
       "[1] 10"
      ]
     },
     "metadata": {},
     "output_type": "display_data"
    }
   ],
   "source": [
    "5 + 5"
   ]
  },
  {
   "cell_type": "code",
   "execution_count": 37,
   "id": "7f9575f6-d06b-4140-9ed0-4d5bdfde326f",
   "metadata": {},
   "outputs": [
    {
     "data": {
      "text/html": [
       "0"
      ],
      "text/latex": [
       "0"
      ],
      "text/markdown": [
       "0"
      ],
      "text/plain": [
       "[1] 0"
      ]
     },
     "metadata": {},
     "output_type": "display_data"
    }
   ],
   "source": [
    "5 - 5"
   ]
  },
  {
   "cell_type": "code",
   "execution_count": 38,
   "id": "f4ec52ea-4e15-4e07-b06a-74ea4b8f601b",
   "metadata": {},
   "outputs": [
    {
     "data": {
      "text/html": [
       "25"
      ],
      "text/latex": [
       "25"
      ],
      "text/markdown": [
       "25"
      ],
      "text/plain": [
       "[1] 25"
      ]
     },
     "metadata": {},
     "output_type": "display_data"
    }
   ],
   "source": [
    "5 * 5"
   ]
  },
  {
   "cell_type": "code",
   "execution_count": 39,
   "id": "f8684458-ecdd-43c6-91be-0de1de1e2323",
   "metadata": {},
   "outputs": [
    {
     "data": {
      "text/html": [
       "1"
      ],
      "text/latex": [
       "1"
      ],
      "text/markdown": [
       "1"
      ],
      "text/plain": [
       "[1] 1"
      ]
     },
     "metadata": {},
     "output_type": "display_data"
    }
   ],
   "source": [
    "5 / 5"
   ]
  },
  {
   "cell_type": "code",
   "execution_count": 42,
   "id": "e702b8c8-5893-443b-a627-ecf4f7ea2d12",
   "metadata": {},
   "outputs": [
    {
     "data": {
      "text/html": [
       "2.5"
      ],
      "text/latex": [
       "2.5"
      ],
      "text/markdown": [
       "2.5"
      ],
      "text/plain": [
       "[1] 2.5"
      ]
     },
     "metadata": {},
     "output_type": "display_data"
    }
   ],
   "source": [
    "5 / 2"
   ]
  },
  {
   "cell_type": "code",
   "execution_count": 43,
   "id": "81ca7616-18d7-413c-b652-3e972a5f8072",
   "metadata": {},
   "outputs": [
    {
     "data": {
      "text/html": [
       "2"
      ],
      "text/latex": [
       "2"
      ],
      "text/markdown": [
       "2"
      ],
      "text/plain": [
       "[1] 2"
      ]
     },
     "metadata": {},
     "output_type": "display_data"
    }
   ],
   "source": [
    "5 %/% 2"
   ]
  },
  {
   "cell_type": "code",
   "execution_count": 44,
   "id": "16d358ec-ce5c-4dad-a89c-6449f7be9552",
   "metadata": {},
   "outputs": [
    {
     "data": {
      "text/html": [
       "1"
      ],
      "text/latex": [
       "1"
      ],
      "text/markdown": [
       "1"
      ],
      "text/plain": [
       "[1] 1"
      ]
     },
     "metadata": {},
     "output_type": "display_data"
    }
   ],
   "source": [
    "5 %% 2"
   ]
  },
  {
   "cell_type": "code",
   "execution_count": 46,
   "id": "e3c77609-66fb-407f-b902-a46d3c256a99",
   "metadata": {},
   "outputs": [
    {
     "data": {
      "text/html": [
       "2"
      ],
      "text/latex": [
       "2"
      ],
      "text/markdown": [
       "2"
      ],
      "text/plain": [
       "[1] 2"
      ]
     },
     "metadata": {},
     "output_type": "display_data"
    }
   ],
   "source": [
    "5 %% 3"
   ]
  },
  {
   "cell_type": "code",
   "execution_count": 47,
   "id": "a17c2f53-3160-4ca1-b628-2e6efbf32df1",
   "metadata": {},
   "outputs": [
    {
     "data": {
      "text/html": [
       "1"
      ],
      "text/latex": [
       "1"
      ],
      "text/markdown": [
       "1"
      ],
      "text/plain": [
       "[1] 1"
      ]
     },
     "metadata": {},
     "output_type": "display_data"
    }
   ],
   "source": [
    "5 %% 4"
   ]
  },
  {
   "cell_type": "code",
   "execution_count": 48,
   "id": "46643b9f-790e-4fc4-81c6-31188bf54669",
   "metadata": {},
   "outputs": [
    {
     "data": {
      "text/html": [
       "0"
      ],
      "text/latex": [
       "0"
      ],
      "text/markdown": [
       "0"
      ],
      "text/plain": [
       "[1] 0"
      ]
     },
     "metadata": {},
     "output_type": "display_data"
    }
   ],
   "source": [
    "5 %% 5"
   ]
  },
  {
   "cell_type": "code",
   "execution_count": 49,
   "id": "27c4fac1-e2f9-426f-9668-fd15d9d9fb76",
   "metadata": {},
   "outputs": [
    {
     "data": {
      "text/html": [
       "8"
      ],
      "text/latex": [
       "8"
      ],
      "text/markdown": [
       "8"
      ],
      "text/plain": [
       "[1] 8"
      ]
     },
     "metadata": {},
     "output_type": "display_data"
    }
   ],
   "source": [
    "2 ^ 3"
   ]
  },
  {
   "cell_type": "markdown",
   "id": "2969846e-f6b7-434d-8771-63cccaba5fa8",
   "metadata": {},
   "source": [
    "## Müqayisə operatorları"
   ]
  },
  {
   "cell_type": "code",
   "execution_count": 50,
   "id": "f33e0317-adf0-48eb-a79e-4af93b53d3ee",
   "metadata": {},
   "outputs": [
    {
     "data": {
      "text/html": [
       "TRUE"
      ],
      "text/latex": [
       "TRUE"
      ],
      "text/markdown": [
       "TRUE"
      ],
      "text/plain": [
       "[1] TRUE"
      ]
     },
     "metadata": {},
     "output_type": "display_data"
    }
   ],
   "source": [
    "3 > 2"
   ]
  },
  {
   "cell_type": "code",
   "execution_count": 51,
   "id": "5d68605a-60ad-4074-bca1-d927af8c4220",
   "metadata": {},
   "outputs": [
    {
     "data": {
      "text/html": [
       "FALSE"
      ],
      "text/latex": [
       "FALSE"
      ],
      "text/markdown": [
       "FALSE"
      ],
      "text/plain": [
       "[1] FALSE"
      ]
     },
     "metadata": {},
     "output_type": "display_data"
    }
   ],
   "source": [
    "3 < 2"
   ]
  },
  {
   "cell_type": "code",
   "execution_count": 52,
   "id": "1807a125-72e5-4508-96df-104739fba857",
   "metadata": {},
   "outputs": [
    {
     "data": {
      "text/html": [
       "FALSE"
      ],
      "text/latex": [
       "FALSE"
      ],
      "text/markdown": [
       "FALSE"
      ],
      "text/plain": [
       "[1] FALSE"
      ]
     },
     "metadata": {},
     "output_type": "display_data"
    }
   ],
   "source": [
    "3 == 2"
   ]
  },
  {
   "cell_type": "code",
   "execution_count": 53,
   "id": "1e4818fd-90d0-4cae-aae7-f933ed950434",
   "metadata": {},
   "outputs": [
    {
     "data": {
      "text/html": [
       "TRUE"
      ],
      "text/latex": [
       "TRUE"
      ],
      "text/markdown": [
       "TRUE"
      ],
      "text/plain": [
       "[1] TRUE"
      ]
     },
     "metadata": {},
     "output_type": "display_data"
    }
   ],
   "source": [
    "3 >= 3"
   ]
  },
  {
   "cell_type": "code",
   "execution_count": 54,
   "id": "c87ad820-eaa9-47ec-b366-153c7829d6a4",
   "metadata": {},
   "outputs": [
    {
     "data": {
      "text/html": [
       "TRUE"
      ],
      "text/latex": [
       "TRUE"
      ],
      "text/markdown": [
       "TRUE"
      ],
      "text/plain": [
       "[1] TRUE"
      ]
     },
     "metadata": {},
     "output_type": "display_data"
    }
   ],
   "source": [
    "2 <= 2"
   ]
  },
  {
   "cell_type": "code",
   "execution_count": 55,
   "id": "5e309463-ed11-4b20-832a-7386e9dcb033",
   "metadata": {},
   "outputs": [
    {
     "data": {
      "text/html": [
       "TRUE"
      ],
      "text/latex": [
       "TRUE"
      ],
      "text/markdown": [
       "TRUE"
      ],
      "text/plain": [
       "[1] TRUE"
      ]
     },
     "metadata": {},
     "output_type": "display_data"
    }
   ],
   "source": [
    "3 != 2"
   ]
  },
  {
   "cell_type": "code",
   "execution_count": 58,
   "id": "ed86a512-9efa-44a6-8c2c-655ad86604ae",
   "metadata": {},
   "outputs": [
    {
     "data": {
      "text/html": [
       "TRUE"
      ],
      "text/latex": [
       "TRUE"
      ],
      "text/markdown": [
       "TRUE"
      ],
      "text/plain": [
       "[1] TRUE"
      ]
     },
     "metadata": {},
     "output_type": "display_data"
    }
   ],
   "source": [
    "T & T"
   ]
  },
  {
   "cell_type": "code",
   "execution_count": 59,
   "id": "5dbde666-7c7d-4714-add1-fcf503a418f1",
   "metadata": {},
   "outputs": [
    {
     "data": {
      "text/html": [
       "FALSE"
      ],
      "text/latex": [
       "FALSE"
      ],
      "text/markdown": [
       "FALSE"
      ],
      "text/plain": [
       "[1] FALSE"
      ]
     },
     "metadata": {},
     "output_type": "display_data"
    }
   ],
   "source": [
    "T & F"
   ]
  },
  {
   "cell_type": "code",
   "execution_count": 60,
   "id": "5dd5b1a6-f86c-47e2-b6a3-160faa994b7f",
   "metadata": {},
   "outputs": [
    {
     "data": {
      "text/html": [
       "FALSE"
      ],
      "text/latex": [
       "FALSE"
      ],
      "text/markdown": [
       "FALSE"
      ],
      "text/plain": [
       "[1] FALSE"
      ]
     },
     "metadata": {},
     "output_type": "display_data"
    }
   ],
   "source": [
    "F & T"
   ]
  },
  {
   "cell_type": "code",
   "execution_count": 61,
   "id": "e1cc4f6d-41b4-45db-8af1-db5447c0f693",
   "metadata": {},
   "outputs": [
    {
     "data": {
      "text/html": [
       "FALSE"
      ],
      "text/latex": [
       "FALSE"
      ],
      "text/markdown": [
       "FALSE"
      ],
      "text/plain": [
       "[1] FALSE"
      ]
     },
     "metadata": {},
     "output_type": "display_data"
    }
   ],
   "source": [
    "F & F"
   ]
  },
  {
   "cell_type": "code",
   "execution_count": 62,
   "id": "27429a0c-1f22-41b2-9355-45970c647f5c",
   "metadata": {},
   "outputs": [
    {
     "data": {
      "text/html": [
       "TRUE"
      ],
      "text/latex": [
       "TRUE"
      ],
      "text/markdown": [
       "TRUE"
      ],
      "text/plain": [
       "[1] TRUE"
      ]
     },
     "metadata": {},
     "output_type": "display_data"
    }
   ],
   "source": [
    "T | T"
   ]
  },
  {
   "cell_type": "code",
   "execution_count": 63,
   "id": "e7035ff3-f870-4bea-9ab1-3bb0ccf4debb",
   "metadata": {},
   "outputs": [
    {
     "data": {
      "text/html": [
       "TRUE"
      ],
      "text/latex": [
       "TRUE"
      ],
      "text/markdown": [
       "TRUE"
      ],
      "text/plain": [
       "[1] TRUE"
      ]
     },
     "metadata": {},
     "output_type": "display_data"
    }
   ],
   "source": [
    "T | F"
   ]
  },
  {
   "cell_type": "code",
   "execution_count": 64,
   "id": "fdff01f5-f1f6-41e9-8b05-44c7e5c19a30",
   "metadata": {},
   "outputs": [
    {
     "data": {
      "text/html": [
       "FALSE"
      ],
      "text/latex": [
       "FALSE"
      ],
      "text/markdown": [
       "FALSE"
      ],
      "text/plain": [
       "[1] FALSE"
      ]
     },
     "metadata": {},
     "output_type": "display_data"
    }
   ],
   "source": [
    "F | F"
   ]
  },
  {
   "cell_type": "code",
   "execution_count": 65,
   "id": "4abdef70-e7fd-4681-892d-cbe148d898c6",
   "metadata": {},
   "outputs": [
    {
     "data": {
      "text/html": [
       "FALSE"
      ],
      "text/latex": [
       "FALSE"
      ],
      "text/markdown": [
       "FALSE"
      ],
      "text/plain": [
       "[1] FALSE"
      ]
     },
     "metadata": {},
     "output_type": "display_data"
    }
   ],
   "source": [
    "T & T & F"
   ]
  },
  {
   "cell_type": "code",
   "execution_count": 66,
   "id": "19deff53-1278-4d57-8729-340eb7f9dd88",
   "metadata": {},
   "outputs": [
    {
     "data": {
      "text/html": [
       "TRUE"
      ],
      "text/latex": [
       "TRUE"
      ],
      "text/markdown": [
       "TRUE"
      ],
      "text/plain": [
       "[1] TRUE"
      ]
     },
     "metadata": {},
     "output_type": "display_data"
    }
   ],
   "source": [
    "F | T | F"
   ]
  },
  {
   "cell_type": "code",
   "execution_count": 67,
   "id": "a2ea1fd0-d16d-4d84-8b70-131dd1205e04",
   "metadata": {},
   "outputs": [
    {
     "data": {
      "text/html": [
       "FALSE"
      ],
      "text/latex": [
       "FALSE"
      ],
      "text/markdown": [
       "FALSE"
      ],
      "text/plain": [
       "[1] FALSE"
      ]
     },
     "metadata": {},
     "output_type": "display_data"
    }
   ],
   "source": [
    "F | F | F"
   ]
  },
  {
   "cell_type": "raw",
   "id": "5f9e44cf-bdec-4a47-9cad-61ba6c273ff5",
   "metadata": {},
   "source": [
    "T & (F | T)"
   ]
  },
  {
   "cell_type": "raw",
   "id": "afdd0461-3690-404a-be49-fc872287fded",
   "metadata": {},
   "source": [
    "(F & T) | F"
   ]
  },
  {
   "cell_type": "raw",
   "id": "969fa7cf-48e7-4a86-b48c-9b252699a763",
   "metadata": {},
   "source": [
    "(3 > 7) | (3 != 7)"
   ]
  },
  {
   "cell_type": "raw",
   "id": "72d15180-36da-4624-8086-027d43669edd",
   "metadata": {},
   "source": [
    "(3 > 7) & (3 != 7)"
   ]
  },
  {
   "cell_type": "markdown",
   "id": "413ffaf6-57a2-4725-a108-3e8b937f619d",
   "metadata": {},
   "source": [
    "## Təyinat/Adlandırma (assignment)"
   ]
  },
  {
   "cell_type": "code",
   "execution_count": 68,
   "id": "4d1838f1-413f-4134-93e6-6d6f711b3cd4",
   "metadata": {},
   "outputs": [],
   "source": [
    "# x = 3\n",
    "x <- 3"
   ]
  },
  {
   "cell_type": "code",
   "execution_count": 69,
   "id": "201d24d2-881f-4db2-8f53-cd84b54c5f2f",
   "metadata": {},
   "outputs": [
    {
     "data": {
      "text/html": [
       "3"
      ],
      "text/latex": [
       "3"
      ],
      "text/markdown": [
       "3"
      ],
      "text/plain": [
       "[1] 3"
      ]
     },
     "metadata": {},
     "output_type": "display_data"
    }
   ],
   "source": [
    "x"
   ]
  },
  {
   "cell_type": "code",
   "execution_count": 70,
   "id": "0221f983-a9e8-4344-95fc-47cb750ed432",
   "metadata": {},
   "outputs": [
    {
     "data": {
      "text/html": [
       "'numeric'"
      ],
      "text/latex": [
       "'numeric'"
      ],
      "text/markdown": [
       "'numeric'"
      ],
      "text/plain": [
       "[1] \"numeric\""
      ]
     },
     "metadata": {},
     "output_type": "display_data"
    }
   ],
   "source": [
    "class(x)"
   ]
  },
  {
   "cell_type": "code",
   "execution_count": 71,
   "id": "05002d94-0876-4a62-8e22-62ff7682db13",
   "metadata": {},
   "outputs": [
    {
     "data": {
      "text/html": [
       "'3'"
      ],
      "text/latex": [
       "'3'"
      ],
      "text/markdown": [
       "'3'"
      ],
      "text/plain": [
       "[1] \"3\""
      ]
     },
     "metadata": {},
     "output_type": "display_data"
    }
   ],
   "source": [
    "as.character(x)"
   ]
  },
  {
   "cell_type": "code",
   "execution_count": 72,
   "id": "9aa973b5-e67e-44dd-a93d-55593b362756",
   "metadata": {},
   "outputs": [
    {
     "data": {
      "text/html": [
       "10"
      ],
      "text/latex": [
       "10"
      ],
      "text/markdown": [
       "10"
      ],
      "text/plain": [
       "[1] 10"
      ]
     },
     "metadata": {},
     "output_type": "display_data"
    }
   ],
   "source": [
    "hesab <- 5 + 5\n",
    "hesab"
   ]
  },
  {
   "cell_type": "code",
   "execution_count": 73,
   "id": "2c82cd39-af3d-46fe-82a7-5ee33690dfc2",
   "metadata": {},
   "outputs": [],
   "source": [
    "muqayise_1 <- 3 > 7\n",
    "muqayise_2 <- 3 != 7"
   ]
  },
  {
   "cell_type": "raw",
   "id": "fa2b9080-43a3-454f-b64c-ca33199c1dd2",
   "metadata": {},
   "source": [
    "muqayise_1 | muqayise_2"
   ]
  },
  {
   "cell_type": "code",
   "execution_count": null,
   "id": "ae15bff7-137b-4168-bda6-d3e0d5c34b59",
   "metadata": {},
   "outputs": [],
   "source": []
  }
 ],
 "metadata": {
  "kernelspec": {
   "display_name": "R",
   "language": "R",
   "name": "ir"
  },
  "language_info": {
   "codemirror_mode": "r",
   "file_extension": ".r",
   "mimetype": "text/x-r-source",
   "name": "R",
   "pygments_lexer": "r",
   "version": "4.4.2"
  }
 },
 "nbformat": 4,
 "nbformat_minor": 5
}
