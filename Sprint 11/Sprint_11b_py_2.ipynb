{
 "cells": [
  {
   "cell_type": "code",
   "execution_count": 16,
   "id": "b32957c8-fc68-4d79-94cd-b6fa4ef7fa8c",
   "metadata": {},
   "outputs": [],
   "source": [
    "import pandas as pd"
   ]
  },
  {
   "cell_type": "markdown",
   "id": "e0add41f-57f2-4436-ba3d-20b450c33327",
   "metadata": {},
   "source": [
    "## \" \".join()"
   ]
  },
  {
   "cell_type": "code",
   "execution_count": 15,
   "id": "fa5ce349-d1d0-4eda-b902-a552c84e889d",
   "metadata": {},
   "outputs": [
    {
     "data": {
      "text/plain": [
       "'salam əziz izləyicilər dostlar'"
      ]
     },
     "execution_count": 15,
     "metadata": {},
     "output_type": "execute_result"
    }
   ],
   "source": [
    "x = [\"salam\", \"əziz\", \"izləyicilər\", \"dostlar\"]\n",
    "\n",
    "\" \".join(x)"
   ]
  },
  {
   "cell_type": "markdown",
   "id": "ab7986a0-15bf-4f20-a20c-2a28b5bc35e1",
   "metadata": {},
   "source": [
    "## Series.str.len()"
   ]
  },
  {
   "cell_type": "code",
   "execution_count": 21,
   "id": "d394ef14-cc24-4e9b-ac8c-c5238082f6de",
   "metadata": {},
   "outputs": [
    {
     "data": {
      "text/plain": [
       "0     5\n",
       "1     4\n",
       "2    11\n",
       "3     7\n",
       "dtype: int64"
      ]
     },
     "execution_count": 21,
     "metadata": {},
     "output_type": "execute_result"
    }
   ],
   "source": [
    "x_series = pd.Series(x)\n",
    "x_series.str.len()"
   ]
  },
  {
   "cell_type": "markdown",
   "id": "b17a523e-1c79-490f-b300-fa9904f1531f",
   "metadata": {},
   "source": [
    "## str.count()"
   ]
  },
  {
   "cell_type": "code",
   "execution_count": 25,
   "id": "96cc52ec-b940-471d-b187-445b2dfbeda2",
   "metadata": {},
   "outputs": [
    {
     "name": "stdout",
     "output_type": "stream",
     "text": [
      "salam əziz izləyicilər dostlar\n"
     ]
    },
    {
     "data": {
      "text/plain": [
       "3"
      ]
     },
     "execution_count": 25,
     "metadata": {},
     "output_type": "execute_result"
    }
   ],
   "source": [
    "y = \" \".join(x)\n",
    "print(y)\n",
    "y.count(\"a\")"
   ]
  },
  {
   "cell_type": "markdown",
   "id": "eb0461dc-5d7e-4c72-82fa-ca16560b7792",
   "metadata": {},
   "source": [
    "## Slicing strings"
   ]
  },
  {
   "cell_type": "code",
   "execution_count": 27,
   "id": "71270655-0b9d-424a-9ba1-6cf79c15b6fc",
   "metadata": {},
   "outputs": [
    {
     "name": "stdout",
     "output_type": "stream",
     "text": [
      "sal\n",
      "lar\n"
     ]
    }
   ],
   "source": [
    "start_3 = y[:3]\n",
    "print(start_3)\n",
    "\n",
    "last_3 = y[-3:]\n",
    "print(last_3)"
   ]
  },
  {
   "cell_type": "markdown",
   "id": "1d142b8b-8ee8-47e9-a7b0-22a7dce40a04",
   "metadata": {},
   "source": [
    "## str.replace()"
   ]
  },
  {
   "cell_type": "code",
   "execution_count": 28,
   "id": "d4bbe74e-c1a6-45f2-8fb9-7cdadce4982a",
   "metadata": {},
   "outputs": [
    {
     "data": {
      "text/plain": [
       "'salam_əziz_izləyicilər_dostlar'"
      ]
     },
     "execution_count": 28,
     "metadata": {},
     "output_type": "execute_result"
    }
   ],
   "source": [
    "y.replace(\" \", \"_\")"
   ]
  },
  {
   "cell_type": "code",
   "execution_count": 29,
   "id": "84ab4812-2eef-44cb-9697-4a7dc0223fa9",
   "metadata": {},
   "outputs": [
    {
     "data": {
      "text/plain": [
       "'salaməzizizləyicilərdostlar'"
      ]
     },
     "execution_count": 29,
     "metadata": {},
     "output_type": "execute_result"
    }
   ],
   "source": [
    "y.replace(\" \", \"\")"
   ]
  },
  {
   "cell_type": "markdown",
   "id": "cd0ddb6b-3c2c-4e42-b9fd-267d4c78c8a7",
   "metadata": {},
   "source": [
    "## Series.str.contains()"
   ]
  },
  {
   "cell_type": "code",
   "execution_count": 30,
   "id": "e32dff69-01b0-4b6a-b570-41bcdf63c52e",
   "metadata": {},
   "outputs": [
    {
     "data": {
      "text/plain": [
       "0     True\n",
       "1    False\n",
       "2    False\n",
       "3     True\n",
       "dtype: bool"
      ]
     },
     "execution_count": 30,
     "metadata": {},
     "output_type": "execute_result"
    }
   ],
   "source": [
    "x_series.str.contains(\"a\")"
   ]
  },
  {
   "cell_type": "code",
   "execution_count": 31,
   "id": "23ea64d7-0776-4d2b-a8de-9ee2d0b4df57",
   "metadata": {},
   "outputs": [
    {
     "data": {
      "text/plain": [
       "0      salam\n",
       "3    dostlar\n",
       "dtype: object"
      ]
     },
     "execution_count": 31,
     "metadata": {},
     "output_type": "execute_result"
    }
   ],
   "source": [
    "x_series[x_series.str.contains(\"a\")]"
   ]
  },
  {
   "cell_type": "markdown",
   "id": "21ef048d-9550-4b58-a444-6aa51573d26c",
   "metadata": {},
   "source": [
    "## Series.str.extract()"
   ]
  },
  {
   "cell_type": "code",
   "execution_count": 32,
   "id": "2be62659-b8b3-49f5-bf28-3b128e740e77",
   "metadata": {},
   "outputs": [
    {
     "data": {
      "text/html": [
       "<div>\n",
       "<style scoped>\n",
       "    .dataframe tbody tr th:only-of-type {\n",
       "        vertical-align: middle;\n",
       "    }\n",
       "\n",
       "    .dataframe tbody tr th {\n",
       "        vertical-align: top;\n",
       "    }\n",
       "\n",
       "    .dataframe thead th {\n",
       "        text-align: right;\n",
       "    }\n",
       "</style>\n",
       "<table border=\"1\" class=\"dataframe\">\n",
       "  <thead>\n",
       "    <tr style=\"text-align: right;\">\n",
       "      <th></th>\n",
       "      <th>0</th>\n",
       "    </tr>\n",
       "  </thead>\n",
       "  <tbody>\n",
       "    <tr>\n",
       "      <th>0</th>\n",
       "      <td>la</td>\n",
       "    </tr>\n",
       "    <tr>\n",
       "      <th>1</th>\n",
       "      <td>NaN</td>\n",
       "    </tr>\n",
       "    <tr>\n",
       "      <th>2</th>\n",
       "      <td>NaN</td>\n",
       "    </tr>\n",
       "    <tr>\n",
       "      <th>3</th>\n",
       "      <td>la</td>\n",
       "    </tr>\n",
       "  </tbody>\n",
       "</table>\n",
       "</div>"
      ],
      "text/plain": [
       "     0\n",
       "0   la\n",
       "1  NaN\n",
       "2  NaN\n",
       "3   la"
      ]
     },
     "execution_count": 32,
     "metadata": {},
     "output_type": "execute_result"
    }
   ],
   "source": [
    "x_series.str.extract(\"(la)\")"
   ]
  },
  {
   "cell_type": "markdown",
   "id": "18771dea-c68a-49e5-b839-c8e5d79c9986",
   "metadata": {},
   "source": [
    "## str.upper() / str.lower() / str.title()"
   ]
  },
  {
   "cell_type": "code",
   "execution_count": 34,
   "id": "51488d7d-38fd-4057-94a1-9ff949186ddd",
   "metadata": {},
   "outputs": [
    {
     "name": "stdout",
     "output_type": "stream",
     "text": [
      "0    SALAM\n",
      "1     DOST\n",
      "2     ƏZIZ\n",
      "dtype: object\n",
      "0    salam\n",
      "1     dost\n",
      "2     əziz\n",
      "dtype: object\n",
      "0    Salam\n",
      "1     Dost\n",
      "2     Əziz\n",
      "dtype: object\n"
     ]
    }
   ],
   "source": [
    "x = pd.Series([\"salam\", \"Dost\", \"Əziz\"])\n",
    "\n",
    "print(x.str.upper())\n",
    "print(x.str.lower())\n",
    "print(x.str.title())"
   ]
  },
  {
   "cell_type": "markdown",
   "id": "55335e81-8c88-412a-b6a7-640148f9bbba",
   "metadata": {},
   "source": [
    "## str.startswith() / str.endswith()"
   ]
  },
  {
   "cell_type": "code",
   "execution_count": 35,
   "id": "00b5faff-074c-42a9-aec4-4e1e3d82c157",
   "metadata": {},
   "outputs": [
    {
     "name": "stdout",
     "output_type": "stream",
     "text": [
      "0     True\n",
      "1    False\n",
      "2     True\n",
      "3    False\n",
      "dtype: bool\n",
      "0    False\n",
      "1    False\n",
      "2    False\n",
      "3     True\n",
      "dtype: bool\n"
     ]
    }
   ],
   "source": [
    "x = pd.Series([\"alma\", \"armud\", \"alça\", \"banan\"])\n",
    "\n",
    "print(x.str.startswith(\"al\"))\n",
    "print(x.str.endswith(\"an\"))"
   ]
  },
  {
   "cell_type": "markdown",
   "id": "81a07f16-073a-43a7-8a99-6fce608108be",
   "metadata": {},
   "source": [
    "## str.findall()"
   ]
  },
  {
   "cell_type": "code",
   "execution_count": 36,
   "id": "aa199ce6-53d8-438d-bb1d-53eee3d9867d",
   "metadata": {},
   "outputs": [
    {
     "name": "stdout",
     "output_type": "stream",
     "text": [
      "0    [1, 2, 3]\n",
      "1    [4, 5, 6]\n",
      "2    [7, 8, 9]\n",
      "dtype: object\n"
     ]
    }
   ],
   "source": [
    "x = pd.Series([\"abc123\", \"456def\", \"7g8h9\"])\n",
    "\n",
    "print(x.str.findall(r\"\\d\"))"
   ]
  },
  {
   "cell_type": "markdown",
   "id": "3a667037-1e94-42f1-80ef-5069187e1a4f",
   "metadata": {},
   "source": [
    "## str.pad()"
   ]
  },
  {
   "cell_type": "code",
   "execution_count": 37,
   "id": "2deb0ed8-3037-4c4f-be03-ac0387eb1e23",
   "metadata": {},
   "outputs": [
    {
     "name": "stdout",
     "output_type": "stream",
     "text": [
      "0    0042\n",
      "1    0007\n",
      "2    1234\n",
      "dtype: object\n"
     ]
    }
   ],
   "source": [
    "x = pd.Series([\"42\", \"7\", \"1234\"])\n",
    "\n",
    "print(x.str.pad(width=4, fillchar=\"0\"))"
   ]
  },
  {
   "cell_type": "markdown",
   "id": "fb33049e-c867-41b0-aac5-408b30a4a9e1",
   "metadata": {},
   "source": [
    "## str.strip() / str.lstrip() / str.rstrip()"
   ]
  },
  {
   "cell_type": "code",
   "execution_count": 39,
   "id": "472944fc-9639-4865-affd-4af6344333c9",
   "metadata": {},
   "outputs": [
    {
     "name": "stdout",
     "output_type": "stream",
     "text": [
      "0     salam\n",
      "1    python\n",
      "2          \n",
      "dtype: object\n",
      "0      salam \n",
      "1    python\\n\n",
      "2            \n",
      "dtype: object\n",
      "0       salam\n",
      "1    \\tpython\n",
      "2            \n",
      "dtype: object\n"
     ]
    }
   ],
   "source": [
    "x = pd.Series([\"  salam \", \"\\tpython\\n\", \"   \"])\n",
    "\n",
    "print(x.str.strip())  # both sides\n",
    "print(x.str.lstrip()) # left only\n",
    "print(x.str.rstrip()) # right only"
   ]
  },
  {
   "cell_type": "markdown",
   "id": "61517dde-473c-44f2-b206-b6529c647a2e",
   "metadata": {},
   "source": [
    "## str.slice()"
   ]
  },
  {
   "cell_type": "code",
   "execution_count": 40,
   "id": "a254a741-a620-4f4d-b45c-abee740d0310",
   "metadata": {},
   "outputs": [
    {
     "name": "stdout",
     "output_type": "stream",
     "text": [
      "0    ello\n",
      "1    ataS\n",
      "2    anda\n",
      "dtype: object\n"
     ]
    }
   ],
   "source": [
    "x = pd.Series([\"HelloWorld\", \"DataScience\", \"PandasPython\"])\n",
    "\n",
    "print(x.str.slice(1, 5))"
   ]
  },
  {
   "cell_type": "code",
   "execution_count": null,
   "id": "ee98aa29-f3c0-4014-bf79-c68cb526402d",
   "metadata": {},
   "outputs": [],
   "source": []
  }
 ],
 "metadata": {
  "kernelspec": {
   "display_name": "Python 3 (ipykernel)",
   "language": "python",
   "name": "python3"
  },
  "language_info": {
   "codemirror_mode": {
    "name": "ipython",
    "version": 3
   },
   "file_extension": ".py",
   "mimetype": "text/x-python",
   "name": "python",
   "nbconvert_exporter": "python",
   "pygments_lexer": "ipython3",
   "version": "3.11.7"
  }
 },
 "nbformat": 4,
 "nbformat_minor": 5
}
