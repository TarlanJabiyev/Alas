{
 "cells": [
  {
   "cell_type": "markdown",
   "id": "99a72556-dac7-46b5-8496-068b650dc898",
   "metadata": {},
   "source": [
    "## Xətalarla iş(try, excpet, finally blokları)"
   ]
  },
  {
   "cell_type": "code",
   "execution_count": 1,
   "id": "26758b88-5f5e-44ad-b33f-0439a1201597",
   "metadata": {},
   "outputs": [],
   "source": [
    "#if 1 != 2:\n",
    "#    raise ValueError(\"xəta!\")"
   ]
  },
  {
   "cell_type": "code",
   "execution_count": 2,
   "id": "31c29fb1-ba80-4868-95ea-596cfdc4b0c1",
   "metadata": {},
   "outputs": [
    {
     "data": {
      "text/plain": [
       "ValueError"
      ]
     },
     "execution_count": 2,
     "metadata": {},
     "output_type": "execute_result"
    }
   ],
   "source": [
    "type(ValueError(\"xəta!\"))"
   ]
  },
  {
   "cell_type": "code",
   "execution_count": 3,
   "id": "1a609062-c864-4636-a0d0-7f36d105a64d",
   "metadata": {},
   "outputs": [],
   "source": [
    "#if 1 != 2:\n",
    "#    raise TypeError(\"xəta!\")"
   ]
  },
  {
   "cell_type": "code",
   "execution_count": 4,
   "id": "116951f4-e969-44e0-81a9-3211595406a9",
   "metadata": {},
   "outputs": [
    {
     "data": {
      "text/plain": [
       "TypeError"
      ]
     },
     "execution_count": 4,
     "metadata": {},
     "output_type": "execute_result"
    }
   ],
   "source": [
    "type(TypeError(\"xəta!\"))"
   ]
  },
  {
   "cell_type": "code",
   "execution_count": null,
   "id": "e8a4b542-c163-40be-8b64-2ca6e4ba1560",
   "metadata": {},
   "outputs": [],
   "source": []
  },
  {
   "cell_type": "code",
   "execution_count": 5,
   "id": "ed61bfb9-367c-45dd-a423-a8f1580898b2",
   "metadata": {},
   "outputs": [
    {
     "name": "stdout",
     "output_type": "stream",
     "text": [
      "Xəta: Fərqli tipli dəyərlər toplanmaz!\n"
     ]
    }
   ],
   "source": [
    "try:\n",
    "    a = 1\n",
    "    b = \"x\"\n",
    "    a + b  \n",
    "except TypeError:\n",
    "    print(\"Xəta: Fərqli tipli dəyərlər toplanmaz!\")"
   ]
  },
  {
   "cell_type": "code",
   "execution_count": 6,
   "id": "89104941-7a6a-4d41-8266-5930832f1fcf",
   "metadata": {},
   "outputs": [],
   "source": [
    "try:\n",
    "    a = 1\n",
    "    b = 2\n",
    "    a + b  \n",
    "except TypeError:\n",
    "    print(\"Xəta: Fərqli tipli dəyərlər toplanmaz!\")"
   ]
  },
  {
   "cell_type": "code",
   "execution_count": null,
   "id": "8be520b9-e1fc-4e3a-85cc-3ceecbea19c6",
   "metadata": {},
   "outputs": [],
   "source": []
  },
  {
   "cell_type": "code",
   "execution_count": 7,
   "id": "8d7f6c36-0a23-4ffa-aad4-10f2f0989f24",
   "metadata": {},
   "outputs": [
    {
     "name": "stdin",
     "output_type": "stream",
     "text": [
      "Bir rəqəm daxil edin:  4\n"
     ]
    },
    {
     "name": "stdout",
     "output_type": "stream",
     "text": [
      "Rəqəmin kvadratı: 16\n"
     ]
    }
   ],
   "source": [
    "try:\n",
    "    rəqəm = int(input(\"Bir rəqəm daxil edin: \"))\n",
    "    print(f\"Rəqəmin kvadratı: {rəqəm ** 2}\")\n",
    "except ValueError:\n",
    "    print(\"Zəhmət olmasa, düzgün rəqəm daxil edin!\")"
   ]
  },
  {
   "cell_type": "code",
   "execution_count": 8,
   "id": "36b5884d-5d6b-4f2a-9f3d-aac5b7742fc2",
   "metadata": {},
   "outputs": [],
   "source": [
    "def func_1(input):\n",
    "    if not isinstance(input, (int, float)): \n",
    "        raise ValueError(\"input numeric olmalıdır\")\n",
    "    hesab = ((input - 25) * 0.75) + 25    \n",
    "    return hesab"
   ]
  },
  {
   "cell_type": "code",
   "execution_count": 9,
   "id": "2e143f3e-8ac9-4f25-9a54-144d0b500e1a",
   "metadata": {},
   "outputs": [
    {
     "data": {
      "text/plain": [
       "44.5"
      ]
     },
     "execution_count": 9,
     "metadata": {},
     "output_type": "execute_result"
    }
   ],
   "source": [
    "func_1(51)"
   ]
  },
  {
   "cell_type": "code",
   "execution_count": 10,
   "id": "ec25b54a-e7a6-4328-8d08-0255c794cc3c",
   "metadata": {},
   "outputs": [],
   "source": [
    "#func_1(\"əlli bir\")"
   ]
  },
  {
   "cell_type": "code",
   "execution_count": 11,
   "id": "04103f49-c223-4081-8dc8-829abb3f9fa8",
   "metadata": {},
   "outputs": [
    {
     "name": "stdout",
     "output_type": "stream",
     "text": [
      "input numeric olmalıdır\n"
     ]
    }
   ],
   "source": [
    "try:\n",
    "    print(func_1(\"əlli bir\")) \n",
    "except ValueError as error:\n",
    "    print(error)"
   ]
  },
  {
   "cell_type": "code",
   "execution_count": 12,
   "id": "00b8135f-5ab8-4697-837a-81fac9623177",
   "metadata": {},
   "outputs": [
    {
     "name": "stdin",
     "output_type": "stream",
     "text": [
      "Bir rəqəm daxil edin:  4\n"
     ]
    },
    {
     "name": "stdout",
     "output_type": "stream",
     "text": [
      "2.5\n"
     ]
    }
   ],
   "source": [
    "try:\n",
    "    x = int(input(\"Bir rəqəm daxil edin: \"))\n",
    "    print(10 / x)\n",
    "except ZeroDivisionError:\n",
    "    print(\"0-a bölmə xətası!\")\n",
    "except ValueError:\n",
    "    print(\"Rəqəm daxil edilmədi!\")"
   ]
  },
  {
   "cell_type": "code",
   "execution_count": 13,
   "id": "7e303358-79a4-41c4-af5b-e0db3b3680c9",
   "metadata": {},
   "outputs": [
    {
     "name": "stdin",
     "output_type": "stream",
     "text": [
      "Birinci rəqəmi daxil edin:  4\n",
      "İkinci rəqəmi daxil edin:  8\n"
     ]
    },
    {
     "name": "stdout",
     "output_type": "stream",
     "text": [
      "Nəticə: 0.5\n"
     ]
    }
   ],
   "source": [
    "try:\n",
    "    bölən = int(input(\"Birinci rəqəmi daxil edin: \"))\n",
    "    bölünən = int(input(\"İkinci rəqəmi daxil edin: \"))\n",
    "    nəticə = bölən / bölünən\n",
    "    print(f\"Nəticə: {nəticə}\")\n",
    "except ZeroDivisionError:\n",
    "    print(\"0-a bölmə xətası!\")\n",
    "except ValueError:\n",
    "    print(\"Zəhmət olmasa, yalnız rəqəmlər daxil edin!\")"
   ]
  },
  {
   "cell_type": "code",
   "execution_count": 14,
   "id": "d2c6cb5c-6033-4275-b80e-e4e9de91a8f4",
   "metadata": {},
   "outputs": [],
   "source": [
    "def bölmə(a, b):\n",
    "    try:\n",
    "        return a / b\n",
    "    except ZeroDivisionError:\n",
    "        return \"mümkün deyil!\"\n",
    "    finally:\n",
    "        print(\"Hesablama prosesi tamamlandı.\")"
   ]
  },
  {
   "cell_type": "code",
   "execution_count": 15,
   "id": "a04977ac-3987-4c66-b683-3d51de078973",
   "metadata": {},
   "outputs": [
    {
     "name": "stdout",
     "output_type": "stream",
     "text": [
      "Hesablama prosesi tamamlandı.\n"
     ]
    },
    {
     "data": {
      "text/plain": [
       "5.0"
      ]
     },
     "execution_count": 15,
     "metadata": {},
     "output_type": "execute_result"
    }
   ],
   "source": [
    "bölmə(10, 2)"
   ]
  },
  {
   "cell_type": "code",
   "execution_count": 16,
   "id": "262efb2a-f015-4eec-bf3e-2e56bbb2b8cd",
   "metadata": {},
   "outputs": [
    {
     "name": "stdout",
     "output_type": "stream",
     "text": [
      "Hesablama prosesi tamamlandı.\n"
     ]
    },
    {
     "data": {
      "text/plain": [
       "'mümkün deyil!'"
      ]
     },
     "execution_count": 16,
     "metadata": {},
     "output_type": "execute_result"
    }
   ],
   "source": [
    "bölmə(10, 0)"
   ]
  },
  {
   "cell_type": "code",
   "execution_count": 17,
   "id": "5fac8e51-50e9-4788-8f0d-e41b0c1488df",
   "metadata": {},
   "outputs": [
    {
     "name": "stdin",
     "output_type": "stream",
     "text": [
      "Rəqəm daxil edin:  4\n"
     ]
    },
    {
     "name": "stdout",
     "output_type": "stream",
     "text": [
      "Daxil etdiyiniz rəqəm: 4\n",
      "Məlumat uğurla emal edildi.\n",
      "Proqram tamamlandı.\n"
     ]
    }
   ],
   "source": [
    "try:\n",
    "    rəqəm = int(input(\"Rəqəm daxil edin: \"))\n",
    "    print(f\"Daxil etdiyiniz rəqəm: {rəqəm}\")\n",
    "except ValueError:\n",
    "    print(\"Düzgün rəqəm daxil edilmədi!\")\n",
    "else:\n",
    "    print(\"Məlumat uğurla emal edildi.\")\n",
    "finally:\n",
    "    print(\"Proqram tamamlandı.\")"
   ]
  },
  {
   "cell_type": "code",
   "execution_count": 18,
   "id": "9474003d-38b1-47d8-af4f-0ea5bb9c87f8",
   "metadata": {},
   "outputs": [
    {
     "name": "stdin",
     "output_type": "stream",
     "text": [
      "Rəqəm daxil edin:  4\n"
     ]
    },
    {
     "name": "stdout",
     "output_type": "stream",
     "text": [
      "Rəqəmin kvadratı: 16\n"
     ]
    }
   ],
   "source": [
    "while True:\n",
    "    try:\n",
    "        rəqəm = int(input(\"Rəqəm daxil edin: \"))\n",
    "        print(f\"Rəqəmin kvadratı: {rəqəm ** 2}\")\n",
    "        break  \n",
    "    except ValueError:\n",
    "        print(\"Düzgün rəqəm daxil edin!\")"
   ]
  },
  {
   "cell_type": "code",
   "execution_count": 19,
   "id": "acc4b459-20a8-42fc-9f0a-d5d15374c70b",
   "metadata": {},
   "outputs": [
    {
     "name": "stdin",
     "output_type": "stream",
     "text": [
      "Adınızı daxil edin:  Tərlan\n",
      "Yaşınızı daxil edin:  28\n",
      "Aylıq maaşınızı daxil edin:  9000\n"
     ]
    },
    {
     "name": "stdout",
     "output_type": "stream",
     "text": [
      "Tərlan, sizin yaşınız 28, maaşınız 9000.0 AZN-dir.\n",
      "Məlumat toplanma prosesi bitdi.\n"
     ]
    }
   ],
   "source": [
    "def istifadəçi_məlumatı():\n",
    "    try:\n",
    "        ad = input(\"Adınızı daxil edin: \")\n",
    "        yaş = int(input(\"Yaşınızı daxil edin: \"))\n",
    "        maaş = float(input(\"Aylıq maaşınızı daxil edin: \"))\n",
    "        print(f\"{ad}, sizin yaşınız {yaş}, maaşınız {maaş} AZN-dir.\")\n",
    "    except ValueError as e:\n",
    "        print(f\"Xəta: {e}. Zəhmət olmasa, düzgün məlumat daxil edin.\")\n",
    "    finally:\n",
    "        print(\"Məlumat toplanma prosesi bitdi.\")\n",
    "\n",
    "istifadəçi_məlumatı()"
   ]
  },
  {
   "cell_type": "code",
   "execution_count": 20,
   "id": "95e18c9c-bbbd-414f-9e99-8716d67d7d9d",
   "metadata": {},
   "outputs": [
    {
     "name": "stdin",
     "output_type": "stream",
     "text": [
      "Hesabınızın balansını daxil edin:  1000\n",
      "Çəkəcəyiniz məbləği daxil edin:  19\n"
     ]
    },
    {
     "name": "stdout",
     "output_type": "stream",
     "text": [
      "Yeni balans: 981.0 AZN\n",
      "Əməliyyat tamamlandı.\n"
     ]
    }
   ],
   "source": [
    "def balans_hesabla():\n",
    "    try:\n",
    "        balans = float(input(\"Hesabınızın balansını daxil edin: \"))\n",
    "        çəkiliş = float(input(\"Çəkəcəyiniz məbləği daxil edin: \"))\n",
    "        if balans < çəkiliş:\n",
    "            raise ValueError(\"Balans kifayət deyil!\")\n",
    "        balans -= çəkiliş\n",
    "        print(f\"Yeni balans: {balans} AZN\")\n",
    "    except ValueError as e:\n",
    "        print(f\"Xəta: {e}\")\n",
    "    finally:\n",
    "        print(\"Əməliyyat tamamlandı.\")\n",
    "\n",
    "balans_hesabla()"
   ]
  },
  {
   "cell_type": "markdown",
   "id": "ef502ac8-bc8e-4cb2-b473-8f2c74a98159",
   "metadata": {},
   "source": [
    "## List comprehension"
   ]
  },
  {
   "cell_type": "code",
   "execution_count": 21,
   "id": "5b7ac2b5-1f5a-4b78-857a-bc3a18a57a4a",
   "metadata": {},
   "outputs": [
    {
     "data": {
      "text/plain": [
       "[0, 1, 2, 3, 4, 5, 6, 7, 8, 9]"
      ]
     },
     "execution_count": 21,
     "metadata": {},
     "output_type": "execute_result"
    }
   ],
   "source": [
    "[x for x in range(10)]"
   ]
  },
  {
   "cell_type": "code",
   "execution_count": 22,
   "id": "874ad6ed-b27d-4152-bca6-b89a832a989d",
   "metadata": {},
   "outputs": [
    {
     "data": {
      "text/plain": [
       "[0, 2, 4, 6, 8]"
      ]
     },
     "execution_count": 22,
     "metadata": {},
     "output_type": "execute_result"
    }
   ],
   "source": [
    "[x for x in range(10) if x % 2 == 0]"
   ]
  },
  {
   "cell_type": "code",
   "execution_count": 23,
   "id": "f7f73b31-4d6c-48af-90a1-8794de2ac612",
   "metadata": {},
   "outputs": [
    {
     "data": {
      "text/plain": [
       "[(0, 0), (0, 1), (1, 0), (1, 1), (2, 0), (2, 1)]"
      ]
     },
     "execution_count": 23,
     "metadata": {},
     "output_type": "execute_result"
    }
   ],
   "source": [
    "[(x, y) for x in range(3) for y in range(2)]"
   ]
  },
  {
   "cell_type": "code",
   "execution_count": 24,
   "id": "be73536c-fb9b-46e3-baf3-152c9fb2ba8e",
   "metadata": {},
   "outputs": [
    {
     "data": {
      "text/plain": [
       "[0, 6, 12, 18]"
      ]
     },
     "execution_count": 24,
     "metadata": {},
     "output_type": "execute_result"
    }
   ],
   "source": [
    "[x for x in range(20) if x % 2 == 0 and x % 3 == 0]"
   ]
  },
  {
   "cell_type": "code",
   "execution_count": 25,
   "id": "c4792e82-13ec-447f-a769-c027557646fb",
   "metadata": {},
   "outputs": [
    {
     "data": {
      "text/plain": [
       "[1, 4, 9, 16, 25]"
      ]
     },
     "execution_count": 25,
     "metadata": {},
     "output_type": "execute_result"
    }
   ],
   "source": [
    "nums = [1, 2, 3, 4, 5]\n",
    "\n",
    "[x ** 2 for x in nums]"
   ]
  },
  {
   "cell_type": "code",
   "execution_count": 26,
   "id": "599b33b5-6165-477b-b1ac-db36d660c94e",
   "metadata": {},
   "outputs": [
    {
     "data": {
      "text/plain": [
       "[(0, 1), (0, 2), (1, 0), (1, 2), (2, 0), (2, 1)]"
      ]
     },
     "execution_count": 26,
     "metadata": {},
     "output_type": "execute_result"
    }
   ],
   "source": [
    "[(x, y) for x in range(3) for y in range(3) if x != y]"
   ]
  },
  {
   "cell_type": "markdown",
   "id": "eb2155fd-0973-4d9d-aeba-5c26dc8b7fee",
   "metadata": {},
   "source": [
    "## Set comprehension"
   ]
  },
  {
   "cell_type": "code",
   "execution_count": 27,
   "id": "f42bbb22-92fd-4771-ac3f-50f7467098db",
   "metadata": {},
   "outputs": [
    {
     "data": {
      "text/plain": [
       "{0, 1, 2, 3, 4, 5, 6, 7, 8, 9}"
      ]
     },
     "execution_count": 27,
     "metadata": {},
     "output_type": "execute_result"
    }
   ],
   "source": [
    "{x for x in range(10)}"
   ]
  },
  {
   "cell_type": "code",
   "execution_count": 28,
   "id": "1cf3cad6-4f10-4a4c-aa64-843e6c61e628",
   "metadata": {},
   "outputs": [
    {
     "data": {
      "text/plain": [
       "{0, 2, 4, 6, 8}"
      ]
     },
     "execution_count": 28,
     "metadata": {},
     "output_type": "execute_result"
    }
   ],
   "source": [
    "{x for x in range(10) if x % 2 == 0}"
   ]
  },
  {
   "cell_type": "code",
   "execution_count": 29,
   "id": "eb47b749-88bc-42fc-adb7-5dc3575a364c",
   "metadata": {},
   "outputs": [
    {
     "data": {
      "text/plain": [
       "{(0, 0), (0, 1), (1, 0), (1, 1), (2, 0), (2, 1)}"
      ]
     },
     "execution_count": 29,
     "metadata": {},
     "output_type": "execute_result"
    }
   ],
   "source": [
    "{(x, y) for x in range(3) for y in range(2)}"
   ]
  },
  {
   "cell_type": "code",
   "execution_count": 30,
   "id": "f116b1e7-5419-492d-9381-63932de59387",
   "metadata": {},
   "outputs": [
    {
     "data": {
      "text/plain": [
       "{0, 6, 12, 18}"
      ]
     },
     "execution_count": 30,
     "metadata": {},
     "output_type": "execute_result"
    }
   ],
   "source": [
    "{x for x in range(20) if x % 2 == 0 and x % 3 == 0}"
   ]
  },
  {
   "cell_type": "code",
   "execution_count": 31,
   "id": "b609806a-62d1-4c36-9673-b5588ec7fa37",
   "metadata": {},
   "outputs": [
    {
     "data": {
      "text/plain": [
       "{1, 4, 9, 16, 25}"
      ]
     },
     "execution_count": 31,
     "metadata": {},
     "output_type": "execute_result"
    }
   ],
   "source": [
    "nums = [1, 2, 3, 4, 5]\n",
    "\n",
    "{x ** 2 for x in nums}"
   ]
  },
  {
   "cell_type": "code",
   "execution_count": 32,
   "id": "521a6d0c-3416-49d1-bb07-cd2e43cc0c5e",
   "metadata": {},
   "outputs": [
    {
     "data": {
      "text/plain": [
       "{(0, 1), (0, 2), (1, 0), (1, 2), (2, 0), (2, 1)}"
      ]
     },
     "execution_count": 32,
     "metadata": {},
     "output_type": "execute_result"
    }
   ],
   "source": [
    "{(x, y) for x in range(3) for y in range(3) if x != y}"
   ]
  },
  {
   "cell_type": "markdown",
   "id": "b4824a99-7e30-4251-8bb0-4444b49c9179",
   "metadata": {},
   "source": [
    "## Dictionar comprehension"
   ]
  },
  {
   "cell_type": "code",
   "execution_count": 33,
   "id": "81ecd578-6747-4397-9115-94000393b9de",
   "metadata": {},
   "outputs": [
    {
     "data": {
      "text/plain": [
       "{0: 0, 1: 1, 2: 4, 3: 9, 4: 16}"
      ]
     },
     "execution_count": 33,
     "metadata": {},
     "output_type": "execute_result"
    }
   ],
   "source": [
    "{x: x**2 for x in range(5)}"
   ]
  },
  {
   "cell_type": "code",
   "execution_count": 34,
   "id": "ab793d04-3058-47c4-9543-ec457c9ecd6a",
   "metadata": {},
   "outputs": [
    {
     "data": {
      "text/plain": [
       "{0: 'cüt',\n",
       " 1: 'tək',\n",
       " 2: 'cüt',\n",
       " 3: 'tək',\n",
       " 4: 'cüt',\n",
       " 5: 'tək',\n",
       " 6: 'cüt',\n",
       " 7: 'tək',\n",
       " 8: 'cüt',\n",
       " 9: 'tək'}"
      ]
     },
     "execution_count": 34,
     "metadata": {},
     "output_type": "execute_result"
    }
   ],
   "source": [
    "{x: 'cüt' if x % 2 == 0 else 'tək' for x in range(10)}"
   ]
  },
  {
   "cell_type": "code",
   "execution_count": 35,
   "id": "1f81802a-8b15-4e8f-8462-4137a3ef2cba",
   "metadata": {},
   "outputs": [
    {
     "data": {
      "text/plain": [
       "{'ad': 'Tərlan', 'yaş': 28, 'şəhər': 'Bakı'}"
      ]
     },
     "execution_count": 35,
     "metadata": {},
     "output_type": "execute_result"
    }
   ],
   "source": [
    "keys = [\"ad\", \"yaş\", \"şəhər\"]\n",
    "values = [\"Tərlan\", 28, \"Bakı\"]\n",
    "\n",
    "{keys[i]: values[i] for i in range(len(keys))}"
   ]
  },
  {
   "cell_type": "code",
   "execution_count": 36,
   "id": "84d42065-0a8b-4c85-8cdb-5c23fc0bf4bb",
   "metadata": {},
   "outputs": [
    {
     "data": {
      "text/plain": [
       "{1: 1, 3: 9, 5: 25, 7: 49, 9: 81}"
      ]
     },
     "execution_count": 36,
     "metadata": {},
     "output_type": "execute_result"
    }
   ],
   "source": [
    "{x: x**2 for x in range(10) if x % 2 != 0}"
   ]
  },
  {
   "cell_type": "code",
   "execution_count": 37,
   "id": "11ec6323-412c-4dd2-8561-dbc86862b632",
   "metadata": {},
   "outputs": [
    {
     "data": {
      "text/plain": [
       "{'0,0': 0,\n",
       " '0,1': 0,\n",
       " '0,2': 0,\n",
       " '0,3': 0,\n",
       " '1,0': 0,\n",
       " '1,1': 1,\n",
       " '1,2': 2,\n",
       " '1,3': 3}"
      ]
     },
     "execution_count": 37,
     "metadata": {},
     "output_type": "execute_result"
    }
   ],
   "source": [
    "{f\"{x},{y}\": x * y for x in range(2) for y in range(4)}"
   ]
  },
  {
   "cell_type": "code",
   "execution_count": 38,
   "id": "d5aba574-b92e-479a-bc5c-8e985360bef2",
   "metadata": {},
   "outputs": [
    {
     "data": {
      "text/plain": [
       "{0: 0, 1: 4, 2: 8, 3: 12}"
      ]
     },
     "execution_count": 38,
     "metadata": {},
     "output_type": "execute_result"
    }
   ],
   "source": [
    "{y: x * y for y in range(4)}"
   ]
  },
  {
   "cell_type": "code",
   "execution_count": 39,
   "id": "e6f9b019-7333-4037-ad69-533f3be1aef3",
   "metadata": {},
   "outputs": [
    {
     "data": {
      "text/plain": [
       "{0: {0: 0, 1: 0, 2: 0, 3: 0},\n",
       " 1: {0: 0, 1: 1, 2: 2, 3: 3},\n",
       " 2: {0: 0, 1: 2, 2: 4, 3: 6}}"
      ]
     },
     "execution_count": 39,
     "metadata": {},
     "output_type": "execute_result"
    }
   ],
   "source": [
    "{x: {y: x * y for y in range(4)} for x in range(3)}"
   ]
  },
  {
   "cell_type": "markdown",
   "id": "ec330869-612f-4369-a30c-f343c92d4279",
   "metadata": {},
   "source": [
    "## Lambda"
   ]
  },
  {
   "cell_type": "code",
   "execution_count": 40,
   "id": "dd1576d9-f338-431f-a17e-755697ee14b5",
   "metadata": {},
   "outputs": [
    {
     "data": {
      "text/plain": [
       "16"
      ]
     },
     "execution_count": 40,
     "metadata": {},
     "output_type": "execute_result"
    }
   ],
   "source": [
    "lambda_1 = lambda x: x ** 2\n",
    "\n",
    "lambda_1(4)"
   ]
  },
  {
   "cell_type": "code",
   "execution_count": 41,
   "id": "db60b2a2-057b-493c-81cf-33a571813e1a",
   "metadata": {},
   "outputs": [
    {
     "data": {
      "text/plain": [
       "8"
      ]
     },
     "execution_count": 41,
     "metadata": {},
     "output_type": "execute_result"
    }
   ],
   "source": [
    "lambda_2 = lambda x, y: x + y\n",
    "\n",
    "lambda_2(3, 5)"
   ]
  },
  {
   "cell_type": "code",
   "execution_count": 42,
   "id": "9412dd9b-04cc-415a-80fa-bd111c342029",
   "metadata": {},
   "outputs": [
    {
     "name": "stdout",
     "output_type": "stream",
     "text": [
      "Tək\n",
      "Cüt\n"
     ]
    }
   ],
   "source": [
    "lambda_3 = lambda x: \"Cüt\" if x % 2 == 0 else \"Tək\"\n",
    "\n",
    "print(lambda_3(7)) \n",
    "print(lambda_3(8)) "
   ]
  },
  {
   "cell_type": "code",
   "execution_count": 43,
   "id": "61eb344b-6b57-45cf-95cd-09534dc5670f",
   "metadata": {},
   "outputs": [
    {
     "data": {
      "text/plain": [
       "20"
      ]
     },
     "execution_count": 43,
     "metadata": {},
     "output_type": "execute_result"
    }
   ],
   "source": [
    "lambda_4 = lambda a, b: a if a > b else b\n",
    "\n",
    "lambda_4(10, 20) "
   ]
  },
  {
   "cell_type": "code",
   "execution_count": 44,
   "id": "6d4f14bb-b92f-4c7e-ab09-22000fc5f909",
   "metadata": {},
   "outputs": [
    {
     "data": {
      "text/plain": [
       "11"
      ]
     },
     "execution_count": 44,
     "metadata": {},
     "output_type": "execute_result"
    }
   ],
   "source": [
    "lambda_5 = lambda s: len(s)\n",
    "\n",
    "lambda_5(\"Salam Dünya\")"
   ]
  },
  {
   "cell_type": "code",
   "execution_count": 45,
   "id": "7547467b-2cfb-4b7a-b8c8-b874591709a0",
   "metadata": {},
   "outputs": [
    {
     "data": {
      "text/plain": [
       "[15, 30]"
      ]
     },
     "execution_count": 45,
     "metadata": {},
     "output_type": "execute_result"
    }
   ],
   "source": [
    "nums = [-10, 15, -20, 30, -5]\n",
    "\n",
    "list(filter(lambda x: x > 0, nums))"
   ]
  },
  {
   "cell_type": "code",
   "execution_count": 46,
   "id": "183fc553-2ca1-4408-a769-1dc78941606b",
   "metadata": {},
   "outputs": [
    {
     "data": {
      "text/plain": [
       "[2, 4, 6]"
      ]
     },
     "execution_count": 46,
     "metadata": {},
     "output_type": "execute_result"
    }
   ],
   "source": [
    "nums = [1, 2, 3, 4, 5, 6]\n",
    "\n",
    "list(filter(lambda x: x % 2 == 0, nums))"
   ]
  },
  {
   "cell_type": "code",
   "execution_count": 47,
   "id": "3bd3df0f-2eb1-4cde-8c20-3e3b66db0de0",
   "metadata": {},
   "outputs": [
    {
     "data": {
      "text/plain": [
       "'Ədəd: 25'"
      ]
     },
     "execution_count": 47,
     "metadata": {},
     "output_type": "execute_result"
    }
   ],
   "source": [
    "lambda_6 = lambda x: f\"Ədəd: {x}\"\n",
    "\n",
    "lambda_6(25)"
   ]
  },
  {
   "cell_type": "code",
   "execution_count": 48,
   "id": "0b2b1058-206d-4f52-8d36-4aa37b0d4b28",
   "metadata": {},
   "outputs": [
    {
     "data": {
      "text/plain": [
       "30"
      ]
     },
     "execution_count": 48,
     "metadata": {},
     "output_type": "execute_result"
    }
   ],
   "source": [
    "def func_2(n):\n",
    "    return lambda x: x * n\n",
    "\n",
    "lambda_7 = func_2(3)\n",
    "lambda_7(10)\n",
    "#func_2(3)(10)"
   ]
  },
  {
   "cell_type": "markdown",
   "id": "204d1cd4-065d-4faf-81c1-8a84a0d002c0",
   "metadata": {},
   "source": [
    "## map() funksiyası"
   ]
  },
  {
   "cell_type": "code",
   "execution_count": 49,
   "id": "7724d7d3-cfc2-45b6-93b4-948a0ab2b91a",
   "metadata": {},
   "outputs": [
    {
     "data": {
      "text/plain": [
       "[1, 4, 9, 16]"
      ]
     },
     "execution_count": 49,
     "metadata": {},
     "output_type": "execute_result"
    }
   ],
   "source": [
    "nums = [1, 2, 3, 4]\n",
    "\n",
    "map_1 = map(lambda x: x ** 2, nums)\n",
    "\n",
    "list(map_1)"
   ]
  },
  {
   "cell_type": "code",
   "execution_count": 50,
   "id": "6258b0b2-a36b-4315-b745-83efc5c43827",
   "metadata": {},
   "outputs": [
    {
     "data": {
      "text/plain": [
       "[5, 7, 9]"
      ]
     },
     "execution_count": 50,
     "metadata": {},
     "output_type": "execute_result"
    }
   ],
   "source": [
    "nums1 = [1, 2, 3]\n",
    "nums2 = [4, 5, 6]\n",
    "\n",
    "map_2 = map(lambda x, y: x + y, nums1, nums2)\n",
    "\n",
    "list(map_2)"
   ]
  },
  {
   "cell_type": "code",
   "execution_count": 51,
   "id": "a3bdf33c-32f8-4695-830b-e9d26f8dae0c",
   "metadata": {},
   "outputs": [
    {
     "data": {
      "text/plain": [
       "[15, 25, 35]"
      ]
     },
     "execution_count": 51,
     "metadata": {},
     "output_type": "execute_result"
    }
   ],
   "source": [
    "def func_3(x):\n",
    "    return x + 5\n",
    "\n",
    "nums = [10, 20, 30]\n",
    "map_3 = map(func_3, nums)\n",
    "\n",
    "list(map_3)"
   ]
  },
  {
   "cell_type": "code",
   "execution_count": 52,
   "id": "13ee54d6-6195-478e-a341-3a1d5dae4228",
   "metadata": {},
   "outputs": [
    {
     "data": {
      "text/plain": [
       "['AYSEL', 'NURLAN', 'LEYLA']"
      ]
     },
     "execution_count": 52,
     "metadata": {},
     "output_type": "execute_result"
    }
   ],
   "source": [
    "names = [\"Aysel\", \"Nurlan\", \"Leyla\"]\n",
    "\n",
    "map_4 = map(lambda name: name.upper(), names)\n",
    "\n",
    "list(map_4)"
   ]
  },
  {
   "cell_type": "code",
   "execution_count": 53,
   "id": "7fdfc925-a7f5-4930-b07d-d752172e53e1",
   "metadata": {},
   "outputs": [
    {
     "data": {
      "text/plain": [
       "[4, 5, 3]"
      ]
     },
     "execution_count": 53,
     "metadata": {},
     "output_type": "execute_result"
    }
   ],
   "source": [
    "words = [\"alma\", \"armud\", \"nar\"]\n",
    "\n",
    "map_5 = map(lambda word: len(word), words)\n",
    "\n",
    "list(map_5)"
   ]
  },
  {
   "cell_type": "code",
   "execution_count": 54,
   "id": "f3377bac-5230-4024-98e1-616b83e08d80",
   "metadata": {},
   "outputs": [
    {
     "data": {
      "text/plain": [
       "['2025', '2024', '2023']"
      ]
     },
     "execution_count": 54,
     "metadata": {},
     "output_type": "execute_result"
    }
   ],
   "source": [
    "dates = [\"2025-01-01\", \"2024-12-31\", \"2023-06-15\"]\n",
    "\n",
    "map_6 = map(lambda date: date.split(\"-\")[0], dates)\n",
    "\n",
    "list(map_6)"
   ]
  },
  {
   "cell_type": "code",
   "execution_count": 55,
   "id": "ac60550c-4a30-4743-9219-261ed6d2e841",
   "metadata": {},
   "outputs": [
    {
     "data": {
      "text/plain": [
       "['Cüt', 'Tək', 'Cüt', 'Tək']"
      ]
     },
     "execution_count": 55,
     "metadata": {},
     "output_type": "execute_result"
    }
   ],
   "source": [
    "nums = [10, 15, 20, 25]\n",
    "\n",
    "map_7 = map(lambda x: \"Cüt\" if x % 2 == 0 else \"Tək\", nums)\n",
    "\n",
    "list(map_7)"
   ]
  },
  {
   "cell_type": "markdown",
   "id": "9c147e90-2639-45a5-87bf-d1ea9e21ecc5",
   "metadata": {},
   "source": [
    "## Reduce() funksiyası"
   ]
  },
  {
   "cell_type": "code",
   "execution_count": 56,
   "id": "1663a295-18fc-46fa-ad2b-9e09db3d403e",
   "metadata": {},
   "outputs": [],
   "source": [
    "from functools import reduce"
   ]
  },
  {
   "cell_type": "code",
   "execution_count": 57,
   "id": "58791985-9b6c-4050-8071-c9794edc9c3b",
   "metadata": {},
   "outputs": [
    {
     "data": {
      "text/plain": [
       "10"
      ]
     },
     "execution_count": 57,
     "metadata": {},
     "output_type": "execute_result"
    }
   ],
   "source": [
    "nums = [1, 2, 3, 4]\n",
    "\n",
    "reduce(lambda x, y: x + y, nums)"
   ]
  },
  {
   "cell_type": "code",
   "execution_count": 58,
   "id": "7e8a593b-6ca4-43d3-a1ac-c104ffc59aa3",
   "metadata": {},
   "outputs": [
    {
     "data": {
      "text/plain": [
       "7"
      ]
     },
     "execution_count": 58,
     "metadata": {},
     "output_type": "execute_result"
    }
   ],
   "source": [
    "nums = [3, 7, 2, 5]\n",
    "\n",
    "reduce(lambda x, y: x if x > y else y, nums)"
   ]
  },
  {
   "cell_type": "code",
   "execution_count": 59,
   "id": "71aac208-5c60-46b1-bc87-34018fe1dbae",
   "metadata": {},
   "outputs": [
    {
     "data": {
      "text/plain": [
       "24"
      ]
     },
     "execution_count": 59,
     "metadata": {},
     "output_type": "execute_result"
    }
   ],
   "source": [
    "def func_4(x, y):\n",
    "    return x * y\n",
    "\n",
    "nums = [1, 2, 3, 4]\n",
    "\n",
    "reduce(func_4, nums)"
   ]
  },
  {
   "cell_type": "code",
   "execution_count": 60,
   "id": "bd30fc99-8fb7-4c80-a42c-20646a70e593",
   "metadata": {},
   "outputs": [
    {
     "data": {
      "text/plain": [
       "'Salam Alas Academy'"
      ]
     },
     "execution_count": 60,
     "metadata": {},
     "output_type": "execute_result"
    }
   ],
   "source": [
    "sözlər = [\"Salam\", \"Alas\", \"Academy\"]\n",
    "\n",
    "reduce(lambda x, y: x + \" \" + y, sözlər)"
   ]
  },
  {
   "cell_type": "code",
   "execution_count": 61,
   "id": "b6c09b1b-d7dd-400b-b46f-c62c3f98d7c0",
   "metadata": {},
   "outputs": [
    {
     "data": {
      "text/plain": [
       "25.0"
      ]
     },
     "execution_count": 61,
     "metadata": {},
     "output_type": "execute_result"
    }
   ],
   "source": [
    "nums = [10, 20, 30, 40]\n",
    "\n",
    "total = reduce(lambda x, y: x + y, nums)\n",
    "\n",
    "total / len(nums)"
   ]
  },
  {
   "cell_type": "code",
   "execution_count": 62,
   "id": "5af23000-2320-4ce7-8bf3-d97943e91cbe",
   "metadata": {},
   "outputs": [
    {
     "data": {
      "text/plain": [
       "120"
      ]
     },
     "execution_count": 62,
     "metadata": {},
     "output_type": "execute_result"
    }
   ],
   "source": [
    "nums = [1, 2, 3, 4, 5]\n",
    "\n",
    "reduce(lambda x, y: x * y, nums)"
   ]
  },
  {
   "cell_type": "code",
   "execution_count": 63,
   "id": "b3fc8c4f-3ae8-4be9-829a-1c30a5f9e875",
   "metadata": {},
   "outputs": [
    {
     "data": {
      "text/plain": [
       "'armud'"
      ]
     },
     "execution_count": 63,
     "metadata": {},
     "output_type": "execute_result"
    }
   ],
   "source": [
    "words = [\"alma\", \"armud\", \"nar\", \"üzüm\"]\n",
    "\n",
    "reduce(lambda x, y: x if len(x) > len(y) else y, words)"
   ]
  },
  {
   "cell_type": "code",
   "execution_count": 64,
   "id": "518d1d22-477b-42a4-883d-0dc96feff1be",
   "metadata": {},
   "outputs": [
    {
     "data": {
      "text/plain": [
       "'Python'"
      ]
     },
     "execution_count": 64,
     "metadata": {},
     "output_type": "execute_result"
    }
   ],
   "source": [
    "chars = ['P', 'y', 't', 'h', 'o', 'n']\n",
    "\n",
    "reduce(lambda x, y: x + y, chars)"
   ]
  },
  {
   "cell_type": "code",
   "execution_count": null,
   "id": "4e8d379f-0c8e-47a5-8776-2eeb39a544f7",
   "metadata": {},
   "outputs": [],
   "source": []
  }
 ],
 "metadata": {
  "kernelspec": {
   "display_name": "Python 3 (ipykernel)",
   "language": "python",
   "name": "python3"
  },
  "language_info": {
   "codemirror_mode": {
    "name": "ipython",
    "version": 3
   },
   "file_extension": ".py",
   "mimetype": "text/x-python",
   "name": "python",
   "nbconvert_exporter": "python",
   "pygments_lexer": "ipython3",
   "version": "3.13.2"
  }
 },
 "nbformat": 4,
 "nbformat_minor": 5
}
