{
 "cells": [
  {
   "cell_type": "markdown",
   "id": "183b5b40-f493-4757-b49a-66a9ec783563",
   "metadata": {},
   "source": [
    "## if, else, else if"
   ]
  },
  {
   "cell_type": "code",
   "execution_count": 1,
   "id": "14d77425-972b-490c-8831-cf807a40c22e",
   "metadata": {},
   "outputs": [
    {
     "name": "stdout",
     "output_type": "stream",
     "text": [
      "[1] \"2 böyükdür 1dən\"\n"
     ]
    }
   ],
   "source": [
    "if (2 > 1) {\n",
    "  print(\"2 böyükdür 1dən\")\n",
    "}"
   ]
  },
  {
   "cell_type": "code",
   "execution_count": 2,
   "id": "3ca2be29-0508-492d-994a-f2a2920ccb07",
   "metadata": {},
   "outputs": [
    {
     "name": "stdout",
     "output_type": "stream",
     "text": [
      "[1] TRUE\n"
     ]
    }
   ],
   "source": [
    "if (2 > 1 & 1 == 1) {\n",
    "  print(TRUE)\n",
    "}"
   ]
  },
  {
   "cell_type": "code",
   "execution_count": 3,
   "id": "e6a05232-b972-4efb-ad55-70d2fbf49dfc",
   "metadata": {},
   "outputs": [],
   "source": [
    "if (2 > 1 & 1 == 0) {\n",
    "  print(TRUE)\n",
    "}"
   ]
  },
  {
   "cell_type": "code",
   "execution_count": 4,
   "id": "65710d38-c526-4148-adfb-6df8ba1c8329",
   "metadata": {},
   "outputs": [
    {
     "name": "stdout",
     "output_type": "stream",
     "text": [
      "[1] TRUE\n"
     ]
    }
   ],
   "source": [
    "if (2 > 1 | 1 == 0) {\n",
    "  print(TRUE)\n",
    "}"
   ]
  },
  {
   "cell_type": "code",
   "execution_count": 5,
   "id": "c3d66866-6203-45fd-94ad-28d1d3b637eb",
   "metadata": {},
   "outputs": [
    {
     "name": "stdout",
     "output_type": "stream",
     "text": [
      "[1] FALSE\n"
     ]
    }
   ],
   "source": [
    "if (2 > 1 & 1 == 0) {\n",
    "  print(TRUE)\n",
    "} else {\n",
    "  print(FALSE)\n",
    "}"
   ]
  },
  {
   "cell_type": "code",
   "execution_count": 6,
   "id": "3ad654b2-8e09-4fa3-bf3a-959ac69f61fd",
   "metadata": {},
   "outputs": [
    {
     "name": "stdout",
     "output_type": "stream",
     "text": [
      "[1] \"x_1 və x_2 bərabər deyil\"\n"
     ]
    }
   ],
   "source": [
    "x_1 <- \"X\"\n",
    "x_2 <- \"x\"\n",
    "\n",
    "if (x_1 == x_2) {\n",
    "  print(\"x_1 və x_2 bərabərdir\")\n",
    "} else {\n",
    "  print(\"x_1 və x_2 bərabər deyil\")\n",
    "}"
   ]
  },
  {
   "cell_type": "code",
   "execution_count": 7,
   "id": "837cc6ed-9f0c-4e2c-97b0-482b03d06bdb",
   "metadata": {},
   "outputs": [
    {
     "name": "stdout",
     "output_type": "stream",
     "text": [
      "[1] \"x 5dən böyükdür, ancaq 9dan kiçikdir\"\n"
     ]
    }
   ],
   "source": [
    "x <- 7\n",
    "\n",
    "if (x >= 9) {\n",
    "  print(\"x 9dan böyükdür və ya 9a bərabərdir\")\n",
    "} else if (x > 5) {\n",
    "  print(\"x 5dən böyükdür, ancaq 9dan kiçikdir\")\n",
    "} else {\n",
    "  print(\"x 5dən kiçikdir\")\n",
    "}"
   ]
  },
  {
   "cell_type": "code",
   "execution_count": 8,
   "id": "73715c12-c78f-468e-b50e-ed3d8d052855",
   "metadata": {},
   "outputs": [
    {
     "name": "stdout",
     "output_type": "stream",
     "text": [
      "[1] \"söz_2 daha uzundur\"\n"
     ]
    }
   ],
   "source": [
    "söz_1 <- \"söz_1\"\n",
    "söz_2 <- \"söz_2.\"\n",
    "\n",
    "if (nchar(söz_1) == nchar(söz_2)) {\n",
    "  print(\"uzunluqlar bərabərdir\")\n",
    "} else if (nchar(söz_1) < nchar(söz_2)) {\n",
    "  print(\"söz_2 daha uzundur\")\n",
    "} else {\n",
    "  print(\"söz_1 daha uzundur\")\n",
    "}"
   ]
  },
  {
   "cell_type": "markdown",
   "id": "a9fe151b-2525-4c74-ba57-87c0ee82d275",
   "metadata": {},
   "source": [
    "## while loop"
   ]
  },
  {
   "cell_type": "code",
   "execution_count": 9,
   "id": "f16889a3-fefe-48cf-941a-15de96f4b725",
   "metadata": {},
   "outputs": [],
   "source": [
    "# while (TRUE) {\n",
    "#   print(\"stop\")\n",
    "# }"
   ]
  },
  {
   "cell_type": "code",
   "execution_count": 10,
   "id": "36a26e29-37af-4d5b-80fa-23525925de6d",
   "metadata": {},
   "outputs": [
    {
     "name": "stdout",
     "output_type": "stream",
     "text": [
      "[1] 1\n",
      "[1] 2\n",
      "[1] 3\n",
      "[1] 4\n",
      "[1] 5\n",
      "[1] 6\n",
      "[1] 7\n",
      "[1] 8\n",
      "[1] 9\n",
      "[1] 10\n",
      "[1] 11\n"
     ]
    }
   ],
   "source": [
    "z <- 1\n",
    "\n",
    "while (z < 12) {\n",
    "  print(z)\n",
    "  z <- z + 1\n",
    "}"
   ]
  },
  {
   "cell_type": "code",
   "execution_count": 11,
   "id": "e85455de-624c-49a0-b153-14afc9efe52d",
   "metadata": {},
   "outputs": [
    {
     "name": "stdout",
     "output_type": "stream",
     "text": [
      "[1] 1\n",
      "[1] 2\n",
      "[1] 3\n",
      "[1] 4\n",
      "[1] 5\n",
      "[1] 6\n",
      "[1] 7\n",
      "[1] 8\n",
      "[1] 9\n",
      "[1] 10\n",
      "[1] 11\n"
     ]
    }
   ],
   "source": [
    "z <- 1\n",
    "\n",
    "while (z < 12) {\n",
    "  print(z)\n",
    "  z <- z + 1\n",
    "}"
   ]
  },
  {
   "cell_type": "markdown",
   "id": "62c46fe2-1021-441a-ab83-969a7d341fd8",
   "metadata": {},
   "source": [
    "## for loop"
   ]
  },
  {
   "cell_type": "code",
   "execution_count": 12,
   "id": "e5a5f254-5708-423c-abe5-37bcaee7cb35",
   "metadata": {},
   "outputs": [
    {
     "name": "stdout",
     "output_type": "stream",
     "text": [
      "[1] 0\n",
      "[1] 1\n",
      "[1] 2\n",
      "[1] 3\n",
      "[1] 4\n",
      "[1] 5\n",
      "[1] 6\n",
      "[1] 7\n",
      "[1] 8\n"
     ]
    }
   ],
   "source": [
    "for (i in 0:8) {\n",
    "  print(i)\n",
    "}"
   ]
  },
  {
   "cell_type": "code",
   "execution_count": 13,
   "id": "ded634f4-5729-43b3-97b9-ea03bd5159c1",
   "metadata": {},
   "outputs": [
    {
     "name": "stdout",
     "output_type": "stream",
     "text": [
      "[1] 5\n",
      "[1] 6\n",
      "[1] 7\n",
      "[1] 8\n"
     ]
    }
   ],
   "source": [
    "for (i in 5:8) {\n",
    "  print(i)\n",
    "}"
   ]
  },
  {
   "cell_type": "code",
   "execution_count": 14,
   "id": "88562941-a007-42ee-ad31-1c0827d05dcf",
   "metadata": {},
   "outputs": [
    {
     "name": "stdout",
     "output_type": "stream",
     "text": [
      "[1] 1\n",
      "[1] 3\n",
      "[1] 5\n"
     ]
    }
   ],
   "source": [
    "for (i in seq(1, 5, by = 2)) {\n",
    "  print(i)\n",
    "}"
   ]
  },
  {
   "cell_type": "code",
   "execution_count": 15,
   "id": "a7bfa64e-67b7-4be3-bde4-05a2b2d0ad1b",
   "metadata": {},
   "outputs": [
    {
     "name": "stdout",
     "output_type": "stream",
     "text": [
      "[1] \"a\"\n",
      "[1] \"b\"\n",
      "[1] \"c\"\n",
      "[1] \"d\"\n",
      "[1] \"e\"\n"
     ]
    }
   ],
   "source": [
    "x <- c(\"a\", \"b\", \"c\", \"d\", \"e\")\n",
    "\n",
    "for (x_item in x) {\n",
    "  print(x_item)\n",
    "}"
   ]
  },
  {
   "cell_type": "code",
   "execution_count": 16,
   "id": "c66ed171-8724-490c-b5be-a8c99688f487",
   "metadata": {},
   "outputs": [
    {
     "name": "stdout",
     "output_type": "stream",
     "text": [
      "[1] 3\n",
      "[1] 11\n"
     ]
    }
   ],
   "source": [
    "list <- c(2, 3, 5, 7, 11, 13)\n",
    "\n",
    "for (gezən in c(2, 5)) {  \n",
    "  print(list[gezən])\n",
    "}"
   ]
  },
  {
   "cell_type": "code",
   "execution_count": 17,
   "id": "e02c7e10-4087-4b17-be25-d63c26f0dad4",
   "metadata": {},
   "outputs": [
    {
     "name": "stdout",
     "output_type": "stream",
     "text": [
      "1 a \n",
      "1 b \n",
      "1 c \n",
      "1 d \n",
      "1 e \n",
      "2 a \n",
      "2 b \n",
      "2 c \n",
      "2 d \n",
      "2 e \n",
      "3 a \n",
      "3 b \n",
      "3 c \n",
      "3 d \n",
      "3 e \n",
      "4 a \n",
      "4 b \n",
      "4 c \n",
      "4 d \n",
      "4 e \n"
     ]
    }
   ],
   "source": [
    "for (i in 1:4) {\n",
    "  for (v in c(\"a\", \"b\", \"c\", \"d\", \"e\")) {\n",
    "    cat(i, v, \"\\n\")\n",
    "  }\n",
    "}"
   ]
  },
  {
   "cell_type": "code",
   "execution_count": 18,
   "id": "49c16889-7d52-4663-97de-b41bbfd6e457",
   "metadata": {},
   "outputs": [
    {
     "name": "stdout",
     "output_type": "stream",
     "text": [
      "[1] \"Data\"\n",
      "[1] \"D\"\n",
      "[1] \"a\"\n",
      "[1] \"t\"\n",
      "[1] \"a\"\n",
      "[1] \"Science\"\n",
      "[1] \"S\"\n",
      "[1] \"c\"\n",
      "[1] \"i\"\n",
      "[1] \"e\"\n",
      "[1] \"n\"\n",
      "[1] \"c\"\n",
      "[1] \"e\"\n",
      "[1] \"Python\"\n",
      "[1] \"P\"\n",
      "[1] \"y\"\n",
      "[1] \"t\"\n",
      "[1] \"h\"\n",
      "[1] \"o\"\n",
      "[1] \"n\"\n",
      "[1] \"R\"\n",
      "[1] \"R\"\n",
      "[1] \"Alas\"\n",
      "[1] \"A\"\n",
      "[1] \"l\"\n",
      "[1] \"a\"\n",
      "[1] \"s\"\n",
      "[1] \"Academy\"\n",
      "[1] \"A\"\n",
      "[1] \"c\"\n",
      "[1] \"a\"\n",
      "[1] \"d\"\n",
      "[1] \"e\"\n",
      "[1] \"m\"\n",
      "[1] \"y\"\n"
     ]
    }
   ],
   "source": [
    "X <- c(\"Data\", \"Science\", \"Python\", \"R\", \"Alas\", \"Academy\")\n",
    "\n",
    "for (i in X) {\n",
    "  print(i)\n",
    "  for (j in unlist(strsplit(i, \"\"))) {\n",
    "    print(j)\n",
    "  }\n",
    "}"
   ]
  },
  {
   "cell_type": "code",
   "execution_count": 19,
   "id": "1370ec0e-5e46-4b71-bc32-9ae04eed13eb",
   "metadata": {},
   "outputs": [
    {
     "name": "stdout",
     "output_type": "stream",
     "text": [
      "[1] \"1 Data\"\n",
      "[1] \"2 Science\"\n",
      "[1] \"3 Python\"\n",
      "[1] \"4 R\"\n",
      "[1] \"5 Alas\"\n",
      "[1] \"6 Academy\"\n"
     ]
    }
   ],
   "source": [
    "X <- c(\"Data\", \"Science\", \"Python\", \"R\", \"Alas\", \"Academy\")\n",
    "\n",
    "for (i in 1:length(X)) { #seq_along(X)\n",
    "  print(paste(i, X[i]))\n",
    "}"
   ]
  },
  {
   "cell_type": "code",
   "execution_count": 20,
   "id": "db17738f-bb1a-4a47-9d3c-d88d2187df1b",
   "metadata": {},
   "outputs": [
    {
     "name": "stdout",
     "output_type": "stream",
     "text": [
      "[1] \"I found Python! Its index is 3\"\n"
     ]
    }
   ],
   "source": [
    "X <- c(\"Data\", \"Science\", \"Python\", \"R\", \"Alas\", \"Academy\")\n",
    "\n",
    "for (i in 1:length(X)) { #seq_along(X)\n",
    "  if (X[i] == \"Python\") {\n",
    "    print(paste(\"I found Python! Its index is\", i))\n",
    "  }\n",
    "}"
   ]
  },
  {
   "cell_type": "code",
   "execution_count": 21,
   "id": "ac1c9033-06bb-45b9-8837-630d47c5cb5d",
   "metadata": {},
   "outputs": [
    {
     "name": "stdout",
     "output_type": "stream",
     "text": [
      "[1] \"1 Data\"    \"2 Science\" \"3 Python\"  \"4 R\"       \"5 Alas\"    \"6 Academy\"\n"
     ]
    }
   ],
   "source": [
    "vector <- c()\n",
    "\n",
    "for (i in seq_along(X)) { #1:length(X)\n",
    "  output <- paste(i, X[i])\n",
    "  vector <- c(vector, output)\n",
    "}\n",
    "\n",
    "print(vector)"
   ]
  },
  {
   "cell_type": "markdown",
   "id": "47e163f9-d649-418e-9578-187a5cb24c9b",
   "metadata": {},
   "source": [
    "## break, next, pass"
   ]
  },
  {
   "cell_type": "code",
   "execution_count": 22,
   "id": "442a67d6-c4aa-454a-a893-f5b0fb9cba24",
   "metadata": {},
   "outputs": [
    {
     "name": "stdout",
     "output_type": "stream",
     "text": [
      "[1] 0\n",
      "[1] 1\n",
      "[1] 2\n",
      "[1] 3\n",
      "[1] 4\n",
      "[1] 5\n",
      "[1] 6\n",
      "[1] 7\n"
     ]
    }
   ],
   "source": [
    "i <- 0\n",
    "\n",
    "while (TRUE) {\n",
    "  print(i)\n",
    "  i <- i + 1\n",
    "  if (i == 8) {\n",
    "    break\n",
    "  }\n",
    "}"
   ]
  },
  {
   "cell_type": "code",
   "execution_count": 23,
   "id": "0499ccd9-9387-4870-b882-e99efe2d3873",
   "metadata": {},
   "outputs": [
    {
     "name": "stdout",
     "output_type": "stream",
     "text": [
      "[1] 1\n",
      "[1] 2\n",
      "[1] 3\n",
      "[1] 5\n",
      "[1] 6\n",
      "[1] 7\n"
     ]
    }
   ],
   "source": [
    "i <- 0\n",
    "\n",
    "while (i <= 6) {\n",
    "  i <- i + 1\n",
    "  if (i == 4) {\n",
    "    next\n",
    "  }\n",
    "  print(i)\n",
    "}"
   ]
  },
  {
   "cell_type": "code",
   "execution_count": 24,
   "id": "106aeec2-ea3e-49e7-bf3a-3af0621f5342",
   "metadata": {},
   "outputs": [
    {
     "name": "stdout",
     "output_type": "stream",
     "text": [
      "[1] 1\n",
      "[1] 2\n",
      "[1] 4\n",
      "[1] 5\n",
      "[1] 6\n",
      "[1] 7\n"
     ]
    }
   ],
   "source": [
    "i <- 0\n",
    "while (i <= 6) {\n",
    "  i <- i + 1\n",
    "  if (i == 3) {\n",
    "    #pass (R-da ekvivalent yoxdur, sadəcə boş buraxılır)\n",
    "  } else {\n",
    "    print(i)\n",
    "  }\n",
    "}"
   ]
  },
  {
   "cell_type": "code",
   "execution_count": 25,
   "id": "a2bb7424-fc07-4425-82ff-7a29f811ef62",
   "metadata": {},
   "outputs": [
    {
     "name": "stdout",
     "output_type": "stream",
     "text": [
      "[1] 0\n",
      "[1] 1\n",
      "[1] 2\n",
      "[1] 3\n",
      "[1] 4\n"
     ]
    }
   ],
   "source": [
    "for (i in 0:9) {\n",
    "  if (i == 5) {\n",
    "    break\n",
    "  }\n",
    "  print(i)\n",
    "}"
   ]
  },
  {
   "cell_type": "code",
   "execution_count": 26,
   "id": "ae8aa209-bcd4-41ba-b25b-fcc7597af605",
   "metadata": {},
   "outputs": [
    {
     "name": "stdout",
     "output_type": "stream",
     "text": [
      "[1] 1\n",
      "[1] 3\n",
      "[1] 5\n",
      "[1] 7\n",
      "[1] 9\n"
     ]
    }
   ],
   "source": [
    "for (i in 0:9) {\n",
    "  if (i %% 2 == 0) {\n",
    "    next\n",
    "  }\n",
    "  print(i)\n",
    "}"
   ]
  },
  {
   "cell_type": "code",
   "execution_count": 27,
   "id": "2f30f877-35b9-4612-9cf8-1f17100e202a",
   "metadata": {},
   "outputs": [
    {
     "name": "stdout",
     "output_type": "stream",
     "text": [
      "[1] 0\n",
      "[1] 1\n",
      "[1] 2\n",
      "[1] 4\n"
     ]
    }
   ],
   "source": [
    "for (i in 0:4) {\n",
    "  if (i == 3) {\n",
    "    #pass \n",
    "  } else {\n",
    "    print(i)\n",
    "  }\n",
    "}"
   ]
  },
  {
   "cell_type": "markdown",
   "id": "67a1858e-ef10-4168-872b-4a17f5756b25",
   "metadata": {},
   "source": [
    "## İç-içə (nested) dövrlər"
   ]
  },
  {
   "cell_type": "code",
   "execution_count": 28,
   "id": "162fc49b-6e94-4bb0-930f-9c8c34d19bf0",
   "metadata": {},
   "outputs": [
    {
     "name": "stdout",
     "output_type": "stream",
     "text": [
      " [1] \"1 a\" \"1 b\" \"1 c\" \"1 d\" \"1 e\" \"2 a\" \"2 b\" \"2 c\" \"2 d\" \"2 e\" \"3 a\" \"3 b\"\n",
      "[13] \"3 c\" \"3 d\" \"3 e\" \"4 a\" \"4 b\" \"4 c\" \"4 d\" \"4 e\" \"5 a\" \"5 b\" \"5 c\" \"5 d\"\n",
      "[25] \"5 e\"\n"
     ]
    }
   ],
   "source": [
    "vector <- c()\n",
    "\n",
    "for (i in 1:5) {\n",
    "  for (v in c(\"a\", \"b\", \"c\", \"d\", \"e\")) {\n",
    "    output <- paste(i, v)\n",
    "    vector <- c(vector, output)\n",
    "  }\n",
    "}\n",
    "\n",
    "print(vector)"
   ]
  },
  {
   "cell_type": "code",
   "execution_count": 29,
   "id": "01249bfa-be86-4cee-bfb9-e4dcf944ff7c",
   "metadata": {},
   "outputs": [
    {
     "data": {
      "text/html": [
       "<table class=\"dataframe\">\n",
       "<caption>A data.frame: 6 × 4</caption>\n",
       "<thead>\n",
       "\t<tr><th></th><th scope=col>c1</th><th scope=col>c2</th><th scope=col>c3</th><th scope=col>c4</th></tr>\n",
       "\t<tr><th></th><th scope=col>&lt;int&gt;</th><th scope=col>&lt;int&gt;</th><th scope=col>&lt;int&gt;</th><th scope=col>&lt;int&gt;</th></tr>\n",
       "</thead>\n",
       "<tbody>\n",
       "\t<tr><th scope=row>r1</th><td>1</td><td> 7</td><td>13</td><td>19</td></tr>\n",
       "\t<tr><th scope=row>r2</th><td>2</td><td> 8</td><td>14</td><td>20</td></tr>\n",
       "\t<tr><th scope=row>r3</th><td>3</td><td> 9</td><td>15</td><td>21</td></tr>\n",
       "\t<tr><th scope=row>r4</th><td>4</td><td>10</td><td>16</td><td>22</td></tr>\n",
       "\t<tr><th scope=row>r5</th><td>5</td><td>11</td><td>17</td><td>23</td></tr>\n",
       "\t<tr><th scope=row>r6</th><td>6</td><td>12</td><td>18</td><td>24</td></tr>\n",
       "</tbody>\n",
       "</table>\n"
      ],
      "text/latex": [
       "A data.frame: 6 × 4\n",
       "\\begin{tabular}{r|llll}\n",
       "  & c1 & c2 & c3 & c4\\\\\n",
       "  & <int> & <int> & <int> & <int>\\\\\n",
       "\\hline\n",
       "\tr1 & 1 &  7 & 13 & 19\\\\\n",
       "\tr2 & 2 &  8 & 14 & 20\\\\\n",
       "\tr3 & 3 &  9 & 15 & 21\\\\\n",
       "\tr4 & 4 & 10 & 16 & 22\\\\\n",
       "\tr5 & 5 & 11 & 17 & 23\\\\\n",
       "\tr6 & 6 & 12 & 18 & 24\\\\\n",
       "\\end{tabular}\n"
      ],
      "text/markdown": [
       "\n",
       "A data.frame: 6 × 4\n",
       "\n",
       "| <!--/--> | c1 &lt;int&gt; | c2 &lt;int&gt; | c3 &lt;int&gt; | c4 &lt;int&gt; |\n",
       "|---|---|---|---|---|\n",
       "| r1 | 1 |  7 | 13 | 19 |\n",
       "| r2 | 2 |  8 | 14 | 20 |\n",
       "| r3 | 3 |  9 | 15 | 21 |\n",
       "| r4 | 4 | 10 | 16 | 22 |\n",
       "| r5 | 5 | 11 | 17 | 23 |\n",
       "| r6 | 6 | 12 | 18 | 24 |\n",
       "\n"
      ],
      "text/plain": [
       "   c1 c2 c3 c4\n",
       "r1 1   7 13 19\n",
       "r2 2   8 14 20\n",
       "r3 3   9 15 21\n",
       "r4 4  10 16 22\n",
       "r5 5  11 17 23\n",
       "r6 6  12 18 24"
      ]
     },
     "metadata": {},
     "output_type": "display_data"
    }
   ],
   "source": [
    "df <- data.frame(matrix(1:24,6,4))\n",
    "\n",
    "rownames(df) <- c('r1','r2','r3','r4','r5','r6')\n",
    "colnames(df) <- c('c1','c2','c3','c4')\n",
    "\n",
    "df"
   ]
  },
  {
   "cell_type": "code",
   "execution_count": 30,
   "id": "9745f602-92bc-483f-8cca-b05264bac674",
   "metadata": {},
   "outputs": [
    {
     "data": {
      "text/html": [
       "3.5"
      ],
      "text/latex": [
       "3.5"
      ],
      "text/markdown": [
       "3.5"
      ],
      "text/plain": [
       "[1] 3.5"
      ]
     },
     "metadata": {},
     "output_type": "display_data"
    },
    {
     "data": {
      "text/html": [
       "9.5"
      ],
      "text/latex": [
       "9.5"
      ],
      "text/markdown": [
       "9.5"
      ],
      "text/plain": [
       "[1] 9.5"
      ]
     },
     "metadata": {},
     "output_type": "display_data"
    },
    {
     "data": {
      "text/html": [
       "15.5"
      ],
      "text/latex": [
       "15.5"
      ],
      "text/markdown": [
       "15.5"
      ],
      "text/plain": [
       "[1] 15.5"
      ]
     },
     "metadata": {},
     "output_type": "display_data"
    },
    {
     "data": {
      "text/html": [
       "21.5"
      ],
      "text/latex": [
       "21.5"
      ],
      "text/markdown": [
       "21.5"
      ],
      "text/plain": [
       "[1] 21.5"
      ]
     },
     "metadata": {},
     "output_type": "display_data"
    }
   ],
   "source": [
    "mean(df$c1)\n",
    "mean(df$c2)\n",
    "mean(df$c3)\n",
    "mean(df$c4)"
   ]
  },
  {
   "cell_type": "code",
   "execution_count": 31,
   "id": "73ca7c97-98b7-41a1-9696-651343da1bb5",
   "metadata": {},
   "outputs": [
    {
     "name": "stdout",
     "output_type": "stream",
     "text": [
      "[1] 3.5\n",
      "[1] 9.5\n",
      "[1] 15.5\n",
      "[1] 21.5\n"
     ]
    }
   ],
   "source": [
    "for (col in colnames(df)) {\n",
    "  print(mean(df[[col]]))\n",
    "}"
   ]
  },
  {
   "cell_type": "code",
   "execution_count": 32,
   "id": "04553687-3af2-4188-994c-7ef65062de35",
   "metadata": {},
   "outputs": [
    {
     "name": "stdout",
     "output_type": "stream",
     "text": [
      "[1] \"c1 3.5\"\n",
      "[1] \"c2 9.5\"\n",
      "[1] \"c3 15.5\"\n",
      "[1] \"c4 21.5\"\n"
     ]
    }
   ],
   "source": [
    "for (col in colnames(df)) {\n",
    "  print(paste(col, mean(df[[col]])))\n",
    "}"
   ]
  },
  {
   "cell_type": "code",
   "execution_count": 33,
   "id": "8032c720-382a-42f4-a96d-ac00973fadc3",
   "metadata": {},
   "outputs": [
    {
     "name": "stdout",
     "output_type": "stream",
     "text": [
      "[1] \"1 .sətir: 1\"\n",
      "[1] \"2 .sətir: 2\"\n",
      "[1] \"3 .sətir: 3\"\n",
      "[1] \"4 .sətir: 4\"\n",
      "[1] \"5 .sətir: 5\"\n",
      "[1] \"6 .sətir: 6\"\n"
     ]
    }
   ],
   "source": [
    "for (r in 1:nrow(df)) {\n",
    "  if (df[r, 1] > 0) {\n",
    "    print(paste(r, \".sətir:\", df[r, 1]))\n",
    "  }\n",
    "}"
   ]
  },
  {
   "cell_type": "code",
   "execution_count": 34,
   "id": "028a03c1-591a-4834-a172-479ee13d7138",
   "metadata": {},
   "outputs": [
    {
     "name": "stdout",
     "output_type": "stream",
     "text": [
      "[1] \"0 .sütun və 0 .sətir: 1\"\n",
      "[1] \"0 .sütun və 1 .sətir: 2\"\n",
      "[1] \"0 .sütun və 2 .sətir: 3\"\n",
      "[1] \"0 .sütun və 3 .sətir: 4\"\n",
      "[1] \"0 .sütun və 4 .sətir: 5\"\n",
      "[1] \"0 .sütun və 5 .sətir: 6\"\n",
      "[1] \"1 .sütun və 0 .sətir: 7\"\n",
      "[1] \"1 .sütun və 1 .sətir: 8\"\n",
      "[1] \"1 .sütun və 2 .sətir: 9\"\n",
      "[1] \"1 .sütun və 3 .sətir: 10\"\n",
      "[1] \"1 .sütun və 4 .sətir: 11\"\n",
      "[1] \"1 .sütun və 5 .sətir: 12\"\n",
      "[1] \"2 .sütun və 0 .sətir: 13\"\n",
      "[1] \"2 .sütun və 1 .sətir: 14\"\n",
      "[1] \"2 .sütun və 2 .sətir: 15\"\n",
      "[1] \"2 .sütun və 3 .sətir: 16\"\n",
      "[1] \"2 .sütun və 4 .sətir: 17\"\n",
      "[1] \"2 .sütun və 5 .sətir: 18\"\n",
      "[1] \"3 .sütun və 0 .sətir: 19\"\n",
      "[1] \"3 .sütun və 1 .sətir: 20\"\n",
      "[1] \"3 .sütun və 2 .sətir: 21\"\n",
      "[1] \"3 .sütun və 3 .sətir: 22\"\n",
      "[1] \"3 .sütun və 4 .sətir: 23\"\n",
      "[1] \"3 .sütun və 5 .sətir: 24\"\n"
     ]
    }
   ],
   "source": [
    "for (c in 1:ncol(df)) {\n",
    "  for (r in 1:nrow(df)) {\n",
    "    if (df[r, c] > 0) {\n",
    "      print(paste(c - 1, \".sütun və\", r - 1, \".sətir:\", df[r, c]))\n",
    "    }\n",
    "  }\n",
    "}"
   ]
  },
  {
   "cell_type": "code",
   "execution_count": null,
   "id": "1a8f8cae-1eb8-4033-a297-492afd0ad9c4",
   "metadata": {},
   "outputs": [],
   "source": []
  }
 ],
 "metadata": {
  "kernelspec": {
   "display_name": "R",
   "language": "R",
   "name": "ir"
  },
  "language_info": {
   "codemirror_mode": "r",
   "file_extension": ".r",
   "mimetype": "text/x-r-source",
   "name": "R",
   "pygments_lexer": "r",
   "version": "4.4.2"
  }
 },
 "nbformat": 4,
 "nbformat_minor": 5
}
