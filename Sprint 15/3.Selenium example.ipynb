{
 "cells": [
  {
   "cell_type": "code",
   "execution_count": 1,
   "id": "6804f20c-238c-425b-b197-fdfc747dddba",
   "metadata": {},
   "outputs": [],
   "source": [
    "import selenium\n",
    "from selenium import webdriver\n",
    "from selenium.webdriver.chrome.service import Service\n",
    "from selenium.webdriver.support.ui import WebDriverWait\n",
    "from selenium.webdriver.support import expected_conditions as EC\n",
    "from selenium.webdriver.common.by import By\n",
    "from selenium.webdriver.common.action_chains import ActionChains\n",
    "from selenium.common.exceptions import NoSuchElementException"
   ]
  },
  {
   "cell_type": "code",
   "execution_count": 2,
   "id": "1c0eaaa8-992c-49f1-80f6-e1aa6c3648c0",
   "metadata": {},
   "outputs": [],
   "source": [
    "service = Service()\n",
    "options = webdriver.ChromeOptions()"
   ]
  },
  {
   "cell_type": "code",
   "execution_count": 3,
   "id": "4e777b37-c0fc-48eb-97de-778f4d0bd9d0",
   "metadata": {},
   "outputs": [],
   "source": [
    "driver = webdriver.Chrome(service=service, options=options)"
   ]
  },
  {
   "cell_type": "code",
   "execution_count": 4,
   "id": "99c9775d-de6b-43fc-8e72-612633ede9ea",
   "metadata": {},
   "outputs": [],
   "source": [
    "driver.get(\"https://login.jupitered.com/\")"
   ]
  },
  {
   "cell_type": "code",
   "execution_count": 5,
   "id": "4693bced-a853-482f-a775-a941e93b06ab",
   "metadata": {},
   "outputs": [],
   "source": [
    "wait = WebDriverWait(driver, 10)"
   ]
  },
  {
   "cell_type": "code",
   "execution_count": 6,
   "id": "3960f4cd-800e-41b9-adcc-71a5afddc8f6",
   "metadata": {},
   "outputs": [],
   "source": [
    "tab_staff = wait.until(EC.element_to_be_clickable((By.ID, \"tab_staff\")))\n",
    "tab_staff.click()"
   ]
  },
  {
   "cell_type": "code",
   "execution_count": 7,
   "id": "89a903f6-17cc-4ed1-ba40-58ad14faef06",
   "metadata": {},
   "outputs": [],
   "source": [
    "username = wait.until(EC.visibility_of_element_located((By.ID, \"text_username1\")))\n",
    "username.clear()\n",
    "username.send_keys(\"shiny\")"
   ]
  },
  {
   "cell_type": "code",
   "execution_count": 8,
   "id": "e78c84de-9c47-4ad8-bf66-fb2f4b4f48c4",
   "metadata": {},
   "outputs": [],
   "source": [
    "password = driver.find_element(By.ID, \"text_password1\")\n",
    "password.clear()\n",
    "password.send_keys(\"q1!w2@e3#r4$t5%\")"
   ]
  },
  {
   "cell_type": "code",
   "execution_count": 9,
   "id": "d751ce33-8a80-40af-bab5-d35c63bf9d87",
   "metadata": {},
   "outputs": [],
   "source": [
    "lock_label = driver.find_element(By.ID, \"timeoutin1_label\")\n",
    "ActionChains(driver).move_to_element(lock_label).click().perform()"
   ]
  },
  {
   "cell_type": "code",
   "execution_count": 10,
   "id": "9e8888c5-8218-4f91-9320-cf7a8d2d92ce",
   "metadata": {},
   "outputs": [],
   "source": [
    "minute_option = wait.until(EC.element_to_be_clickable(\n",
    "        (By.XPATH, \"//*[text()='Lock screen if idle 60 minutes']\")\n",
    "    ))\n",
    "minute_option.click()"
   ]
  },
  {
   "cell_type": "code",
   "execution_count": 11,
   "id": "8e6ddfcc-8810-4ec6-9f51-fa86fe501e42",
   "metadata": {},
   "outputs": [],
   "source": [
    "login_button = wait.until(EC.element_to_be_clickable((By.ID, \"loginbtn\")))\n",
    "login_button.click()"
   ]
  },
  {
   "cell_type": "code",
   "execution_count": null,
   "id": "e01f9d70-f3cd-4294-877e-a7d498d5ae42",
   "metadata": {},
   "outputs": [],
   "source": []
  }
 ],
 "metadata": {
  "kernelspec": {
   "display_name": "Python 3 (ipykernel)",
   "language": "python",
   "name": "python3"
  },
  "language_info": {
   "codemirror_mode": {
    "name": "ipython",
    "version": 3
   },
   "file_extension": ".py",
   "mimetype": "text/x-python",
   "name": "python",
   "nbconvert_exporter": "python",
   "pygments_lexer": "ipython3",
   "version": "3.11.7"
  }
 },
 "nbformat": 4,
 "nbformat_minor": 5
}
