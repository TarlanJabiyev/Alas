{
 "cells": [
  {
   "cell_type": "markdown",
   "id": "c2b68aa0-8a9d-463f-9998-a0eb39b52140",
   "metadata": {},
   "source": [
    "## Data tipinin düzəldilməsi"
   ]
  },
  {
   "cell_type": "code",
   "execution_count": 1,
   "id": "a045e686-9020-4071-b8dd-129177719f31",
   "metadata": {},
   "outputs": [],
   "source": [
    "import pandas as pd\n",
    "import numpy as np\n",
    "from datetime import datetime"
   ]
  },
  {
   "cell_type": "code",
   "execution_count": 2,
   "id": "aeae3a4e-d9ec-4dca-91ce-80825c4df326",
   "metadata": {},
   "outputs": [],
   "source": [
    "a = [\"12\", \"13\", \"14\", \"12\", \"12\"]"
   ]
  },
  {
   "cell_type": "code",
   "execution_count": 3,
   "id": "c03f1e34-91da-47ba-b4c6-5830ce478d95",
   "metadata": {},
   "outputs": [
    {
     "data": {
      "text/plain": [
       "[12, 13, 14, 12, 12]"
      ]
     },
     "execution_count": 3,
     "metadata": {},
     "output_type": "execute_result"
    }
   ],
   "source": [
    "b = pd.to_numeric(a)\n",
    "b.tolist()"
   ]
  },
  {
   "cell_type": "code",
   "execution_count": 4,
   "id": "c442b405-1084-43ba-88c2-a1af36c0e6d0",
   "metadata": {},
   "outputs": [
    {
     "data": {
      "text/plain": [
       "['1', '2', '3']"
      ]
     },
     "execution_count": 4,
     "metadata": {},
     "output_type": "execute_result"
    }
   ],
   "source": [
    "c = np.array([1, 2, 3])\n",
    "c.astype(str).tolist()"
   ]
  },
  {
   "cell_type": "markdown",
   "id": "56bcdd73-73d0-4b30-b2a1-2e56fc3b470a",
   "metadata": {},
   "source": [
    "## Tarix data tipi ilə işləmək"
   ]
  },
  {
   "cell_type": "code",
   "execution_count": 5,
   "id": "fbfb4bff-0702-46ef-8468-f3607b99e762",
   "metadata": {},
   "outputs": [
    {
     "data": {
      "text/plain": [
       "Timestamp('2019-03-21 00:00:00')"
      ]
     },
     "execution_count": 5,
     "metadata": {},
     "output_type": "execute_result"
    }
   ],
   "source": [
    "x = \"2019-03-21\"\n",
    "y1 = pd.to_datetime(x)\n",
    "y1"
   ]
  },
  {
   "cell_type": "code",
   "execution_count": 6,
   "id": "f5d61977-f536-413e-8c75-15150d5d986e",
   "metadata": {},
   "outputs": [
    {
     "data": {
      "text/plain": [
       "pandas._libs.tslibs.timestamps.Timestamp"
      ]
     },
     "execution_count": 6,
     "metadata": {},
     "output_type": "execute_result"
    }
   ],
   "source": [
    "type(y1)"
   ]
  },
  {
   "cell_type": "code",
   "execution_count": 7,
   "id": "fa05b109-d7c1-4b1c-a0ca-37f588781103",
   "metadata": {},
   "outputs": [
    {
     "data": {
      "text/plain": [
       "Timestamp('2019-03-21 00:00:00')"
      ]
     },
     "execution_count": 7,
     "metadata": {},
     "output_type": "execute_result"
    }
   ],
   "source": [
    "x = \"2019-mar-21\"\n",
    "y2 = pd.to_datetime(x, format=\"%Y-%b-%d\")\n",
    "y2"
   ]
  },
  {
   "cell_type": "code",
   "execution_count": 8,
   "id": "2ddbce95-caf0-4eb2-a426-ba5f6aaf525b",
   "metadata": {},
   "outputs": [
    {
     "data": {
      "text/plain": [
       "Timestamp('2019-03-21 00:00:00')"
      ]
     },
     "execution_count": 8,
     "metadata": {},
     "output_type": "execute_result"
    }
   ],
   "source": [
    "x = \"21-mar-19\"\n",
    "y3 = pd.to_datetime(x, format=\"%d-%b-%y\")\n",
    "y3"
   ]
  },
  {
   "cell_type": "code",
   "execution_count": 9,
   "id": "1c12b553-f93b-4843-9673-6bd61bd9d532",
   "metadata": {},
   "outputs": [
    {
     "data": {
      "text/plain": [
       "Timestamp('2019-03-21 00:00:00')"
      ]
     },
     "execution_count": 9,
     "metadata": {},
     "output_type": "execute_result"
    }
   ],
   "source": [
    "x = \"21/MAR/19\"\n",
    "y4 = pd.to_datetime(x, format=\"%d/%b/%y\")\n",
    "y4"
   ]
  },
  {
   "cell_type": "code",
   "execution_count": 10,
   "id": "e8cfd642-a35d-42e7-bedd-77502cce55b7",
   "metadata": {},
   "outputs": [
    {
     "data": {
      "text/plain": [
       "Timestamp('2019-03-21 00:00:00')"
      ]
     },
     "execution_count": 10,
     "metadata": {},
     "output_type": "execute_result"
    }
   ],
   "source": [
    "x = \"3.21.2019\"\n",
    "y5 = pd.to_datetime(x, format=\"%m.%d.%Y\")\n",
    "y5"
   ]
  },
  {
   "cell_type": "code",
   "execution_count": 11,
   "id": "b3eb5310-ea72-4699-8a0e-63bce97b657a",
   "metadata": {},
   "outputs": [
    {
     "data": {
      "text/plain": [
       "True"
      ]
     },
     "execution_count": 11,
     "metadata": {},
     "output_type": "execute_result"
    }
   ],
   "source": [
    "y1 == y2 == y3 == y4 == y5"
   ]
  },
  {
   "cell_type": "code",
   "execution_count": 12,
   "id": "b63ae371-8c69-42ca-8ed1-1a00ab6d9ebd",
   "metadata": {},
   "outputs": [
    {
     "data": {
      "text/plain": [
       "2019"
      ]
     },
     "execution_count": 12,
     "metadata": {},
     "output_type": "execute_result"
    }
   ],
   "source": [
    "y1.year"
   ]
  },
  {
   "cell_type": "code",
   "execution_count": 13,
   "id": "daa5928f-2206-45b8-a577-cdc5e4163ac9",
   "metadata": {},
   "outputs": [
    {
     "data": {
      "text/plain": [
       "21"
      ]
     },
     "execution_count": 13,
     "metadata": {},
     "output_type": "execute_result"
    }
   ],
   "source": [
    "y2.day"
   ]
  },
  {
   "cell_type": "code",
   "execution_count": 14,
   "id": "08001d83-d3b1-4aa5-8a56-e7e092c6d631",
   "metadata": {},
   "outputs": [
    {
     "data": {
      "text/plain": [
       "3"
      ]
     },
     "execution_count": 14,
     "metadata": {},
     "output_type": "execute_result"
    }
   ],
   "source": [
    "y3.month"
   ]
  },
  {
   "cell_type": "code",
   "execution_count": 15,
   "id": "2a65e4db-ea27-41a4-82f0-08c5f1cf777d",
   "metadata": {},
   "outputs": [
    {
     "data": {
      "text/plain": [
       "'March'"
      ]
     },
     "execution_count": 15,
     "metadata": {},
     "output_type": "execute_result"
    }
   ],
   "source": [
    "y4.month_name()"
   ]
  },
  {
   "cell_type": "code",
   "execution_count": 16,
   "id": "8d49ae90-e55f-41bf-b79a-773a1c835b88",
   "metadata": {},
   "outputs": [
    {
     "data": {
      "text/plain": [
       "DatetimeIndex(['2017-11-01', '2017-11-02', '2017-11-03', '2017-11-04',\n",
       "               '2017-11-05', '2017-11-06', '2017-11-07', '2017-11-08',\n",
       "               '2017-11-09', '2017-11-10',\n",
       "               ...\n",
       "               '2018-10-30', '2018-10-31', '2018-11-01', '2018-11-02',\n",
       "               '2018-11-03', '2018-11-04', '2018-11-05', '2018-11-06',\n",
       "               '2018-11-07', '2018-11-08'],\n",
       "              dtype='datetime64[ns]', length=373, freq='D')"
      ]
     },
     "execution_count": 16,
     "metadata": {},
     "output_type": "execute_result"
    }
   ],
   "source": [
    "interval = pd.date_range(\"2017-11-01\", \"2018-11-08\")\n",
    "interval"
   ]
  },
  {
   "cell_type": "code",
   "execution_count": 17,
   "id": "a9a5ffb8-7ef9-40b1-a074-4bf1b0f3ee8d",
   "metadata": {},
   "outputs": [
    {
     "data": {
      "text/plain": [
       "372"
      ]
     },
     "execution_count": 17,
     "metadata": {},
     "output_type": "execute_result"
    }
   ],
   "source": [
    "day_period = (interval[-1] - interval[0]).days\n",
    "day_period"
   ]
  },
  {
   "cell_type": "code",
   "execution_count": 18,
   "id": "1cd8d6a3-d8f1-4299-9c95-e8f82715ff95",
   "metadata": {},
   "outputs": [
    {
     "data": {
      "text/plain": [
       "31"
      ]
     },
     "execution_count": 18,
     "metadata": {},
     "output_type": "execute_result"
    }
   ],
   "source": [
    "month_period = (interval[-1] - interval[0]).days // 12\n",
    "month_period"
   ]
  },
  {
   "cell_type": "code",
   "execution_count": 19,
   "id": "b825638e-6a96-4c12-b977-c0f5432b4a3b",
   "metadata": {},
   "outputs": [
    {
     "data": {
      "text/plain": [
       "1"
      ]
     },
     "execution_count": 19,
     "metadata": {},
     "output_type": "execute_result"
    }
   ],
   "source": [
    "year_period = (interval[-1] - interval[0]).days // 365\n",
    "year_period"
   ]
  },
  {
   "cell_type": "markdown",
   "id": "79dac4c6-ea87-4050-8bbd-c1b94c3258a4",
   "metadata": {},
   "source": [
    "## NA’lər ilə işləmək"
   ]
  },
  {
   "cell_type": "code",
   "execution_count": 20,
   "id": "a46cd12f-5a41-4610-bc1a-91f83327f9be",
   "metadata": {},
   "outputs": [
    {
     "data": {
      "text/html": [
       "<div>\n",
       "<style scoped>\n",
       "    .dataframe tbody tr th:only-of-type {\n",
       "        vertical-align: middle;\n",
       "    }\n",
       "\n",
       "    .dataframe tbody tr th {\n",
       "        vertical-align: top;\n",
       "    }\n",
       "\n",
       "    .dataframe thead th {\n",
       "        text-align: right;\n",
       "    }\n",
       "</style>\n",
       "<table border=\"1\" class=\"dataframe\">\n",
       "  <thead>\n",
       "    <tr style=\"text-align: right;\">\n",
       "      <th></th>\n",
       "      <th>ID</th>\n",
       "      <th>Name</th>\n",
       "      <th>Industry</th>\n",
       "      <th>Inception</th>\n",
       "      <th>Employees</th>\n",
       "      <th>State</th>\n",
       "      <th>City</th>\n",
       "      <th>Revenue</th>\n",
       "      <th>Expenses</th>\n",
       "      <th>Profit</th>\n",
       "      <th>Growth</th>\n",
       "    </tr>\n",
       "  </thead>\n",
       "  <tbody>\n",
       "    <tr>\n",
       "      <th>0</th>\n",
       "      <td>1</td>\n",
       "      <td>Over-Hex</td>\n",
       "      <td>Software</td>\n",
       "      <td>2006.0</td>\n",
       "      <td>25.0</td>\n",
       "      <td>TN</td>\n",
       "      <td>Franklin</td>\n",
       "      <td>$9,684,527</td>\n",
       "      <td>1,130,700 Dollars</td>\n",
       "      <td>8553827.0</td>\n",
       "      <td>19%</td>\n",
       "    </tr>\n",
       "    <tr>\n",
       "      <th>1</th>\n",
       "      <td>2</td>\n",
       "      <td>Unimattax</td>\n",
       "      <td>IT Services</td>\n",
       "      <td>2009.0</td>\n",
       "      <td>36.0</td>\n",
       "      <td>PA</td>\n",
       "      <td>Newtown Square</td>\n",
       "      <td>$14,016,543</td>\n",
       "      <td>804,035 Dollars</td>\n",
       "      <td>13212508.0</td>\n",
       "      <td>20%</td>\n",
       "    </tr>\n",
       "    <tr>\n",
       "      <th>2</th>\n",
       "      <td>3</td>\n",
       "      <td>Greenfax</td>\n",
       "      <td>Retail</td>\n",
       "      <td>2012.0</td>\n",
       "      <td>NaN</td>\n",
       "      <td>SC</td>\n",
       "      <td>Greenville</td>\n",
       "      <td>$9,746,272</td>\n",
       "      <td>1,044,375 Dollars</td>\n",
       "      <td>8701897.0</td>\n",
       "      <td>16%</td>\n",
       "    </tr>\n",
       "    <tr>\n",
       "      <th>3</th>\n",
       "      <td>4</td>\n",
       "      <td>Blacklane</td>\n",
       "      <td>IT Services</td>\n",
       "      <td>2011.0</td>\n",
       "      <td>66.0</td>\n",
       "      <td>CA</td>\n",
       "      <td>Orange</td>\n",
       "      <td>$15,359,369</td>\n",
       "      <td>4,631,808 Dollars</td>\n",
       "      <td>10727561.0</td>\n",
       "      <td>19%</td>\n",
       "    </tr>\n",
       "    <tr>\n",
       "      <th>4</th>\n",
       "      <td>5</td>\n",
       "      <td>Yearflex</td>\n",
       "      <td>Software</td>\n",
       "      <td>2013.0</td>\n",
       "      <td>45.0</td>\n",
       "      <td>WI</td>\n",
       "      <td>Madison</td>\n",
       "      <td>$8,567,910</td>\n",
       "      <td>4,374,841 Dollars</td>\n",
       "      <td>4193069.0</td>\n",
       "      <td>19%</td>\n",
       "    </tr>\n",
       "  </tbody>\n",
       "</table>\n",
       "</div>"
      ],
      "text/plain": [
       "   ID       Name     Industry  Inception  Employees State            City  \\\n",
       "0   1   Over-Hex     Software     2006.0       25.0    TN        Franklin   \n",
       "1   2  Unimattax  IT Services     2009.0       36.0    PA  Newtown Square   \n",
       "2   3   Greenfax       Retail     2012.0        NaN    SC      Greenville   \n",
       "3   4  Blacklane  IT Services     2011.0       66.0    CA          Orange   \n",
       "4   5   Yearflex     Software     2013.0       45.0    WI         Madison   \n",
       "\n",
       "       Revenue           Expenses      Profit Growth  \n",
       "0   $9,684,527  1,130,700 Dollars   8553827.0    19%  \n",
       "1  $14,016,543    804,035 Dollars  13212508.0    20%  \n",
       "2   $9,746,272  1,044,375 Dollars   8701897.0    16%  \n",
       "3  $15,359,369  4,631,808 Dollars  10727561.0    19%  \n",
       "4   $8,567,910  4,374,841 Dollars   4193069.0    19%  "
      ]
     },
     "execution_count": 20,
     "metadata": {},
     "output_type": "execute_result"
    }
   ],
   "source": [
    "df = pd.read_csv(\"startaplar.csv\", na_values=\"\")\n",
    "df.head()"
   ]
  },
  {
   "cell_type": "code",
   "execution_count": 21,
   "id": "0f95e967-9402-4fb5-acbc-796d1e2ef530",
   "metadata": {},
   "outputs": [
    {
     "name": "stdout",
     "output_type": "stream",
     "text": [
      "<class 'pandas.core.frame.DataFrame'>\n",
      "RangeIndex: 500 entries, 0 to 499\n",
      "Data columns (total 11 columns):\n",
      " #   Column     Non-Null Count  Dtype  \n",
      "---  ------     --------------  -----  \n",
      " 0   ID         500 non-null    int64  \n",
      " 1   Name       500 non-null    object \n",
      " 2   Industry   498 non-null    object \n",
      " 3   Inception  499 non-null    float64\n",
      " 4   Employees  498 non-null    float64\n",
      " 5   State      496 non-null    object \n",
      " 6   City       500 non-null    object \n",
      " 7   Revenue    498 non-null    object \n",
      " 8   Expenses   497 non-null    object \n",
      " 9   Profit     498 non-null    float64\n",
      " 10  Growth     499 non-null    object \n",
      "dtypes: float64(3), int64(1), object(7)\n",
      "memory usage: 43.1+ KB\n"
     ]
    }
   ],
   "source": [
    "df.info()"
   ]
  },
  {
   "cell_type": "code",
   "execution_count": 22,
   "id": "f690c885-d1e1-4a4c-b5e5-856ed208b1c5",
   "metadata": {},
   "outputs": [],
   "source": [
    "df['ID'] = df['ID'].astype(str)"
   ]
  },
  {
   "cell_type": "code",
   "execution_count": 23,
   "id": "321ca9b5-3808-4cdf-988d-adc406d696a3",
   "metadata": {},
   "outputs": [],
   "source": [
    "df['Expenses'] = df['Expenses'].str.replace(\" Dollars\", \"\").str.replace(\",\", \"\").astype(float)"
   ]
  },
  {
   "cell_type": "code",
   "execution_count": 24,
   "id": "0a859a8c-3539-48f7-8ef7-5a3063afa7f6",
   "metadata": {},
   "outputs": [],
   "source": [
    "df['Revenue'] = df['Revenue'].str.replace(\"[^\\d.]\", \"\", regex=True).astype(float)"
   ]
  },
  {
   "cell_type": "code",
   "execution_count": 25,
   "id": "442ba14c-6f7c-4493-b49b-cc98464213e6",
   "metadata": {},
   "outputs": [],
   "source": [
    "df['Growth'] = df['Growth'].str.replace(\"%\", \"\").astype(float)"
   ]
  },
  {
   "cell_type": "code",
   "execution_count": 26,
   "id": "bb34a6e1-0d26-480d-be6b-ef2ab332698a",
   "metadata": {},
   "outputs": [
    {
     "data": {
      "text/plain": [
       "ID           0\n",
       "Name         0\n",
       "Industry     2\n",
       "Inception    1\n",
       "Employees    2\n",
       "State        4\n",
       "City         0\n",
       "Revenue      2\n",
       "Expenses     3\n",
       "Profit       2\n",
       "Growth       1\n",
       "dtype: int64"
      ]
     },
     "execution_count": 26,
     "metadata": {},
     "output_type": "execute_result"
    }
   ],
   "source": [
    "df.isna().sum()"
   ]
  },
  {
   "cell_type": "code",
   "execution_count": 27,
   "id": "855a936f-bd9b-475e-8992-245c7b50b3ad",
   "metadata": {},
   "outputs": [
    {
     "data": {
      "text/html": [
       "<div>\n",
       "<style scoped>\n",
       "    .dataframe tbody tr th:only-of-type {\n",
       "        vertical-align: middle;\n",
       "    }\n",
       "\n",
       "    .dataframe tbody tr th {\n",
       "        vertical-align: top;\n",
       "    }\n",
       "\n",
       "    .dataframe thead th {\n",
       "        text-align: right;\n",
       "    }\n",
       "</style>\n",
       "<table border=\"1\" class=\"dataframe\">\n",
       "  <thead>\n",
       "    <tr style=\"text-align: right;\">\n",
       "      <th></th>\n",
       "      <th>ID</th>\n",
       "      <th>Name</th>\n",
       "      <th>Industry</th>\n",
       "      <th>Inception</th>\n",
       "      <th>Employees</th>\n",
       "      <th>State</th>\n",
       "      <th>City</th>\n",
       "      <th>Revenue</th>\n",
       "      <th>Expenses</th>\n",
       "      <th>Profit</th>\n",
       "      <th>Growth</th>\n",
       "    </tr>\n",
       "  </thead>\n",
       "  <tbody>\n",
       "    <tr>\n",
       "      <th>2</th>\n",
       "      <td>3</td>\n",
       "      <td>Greenfax</td>\n",
       "      <td>Retail</td>\n",
       "      <td>2012.0</td>\n",
       "      <td>NaN</td>\n",
       "      <td>SC</td>\n",
       "      <td>Greenville</td>\n",
       "      <td>9746272.0</td>\n",
       "      <td>1044375.0</td>\n",
       "      <td>8701897.0</td>\n",
       "      <td>16.0</td>\n",
       "    </tr>\n",
       "    <tr>\n",
       "      <th>7</th>\n",
       "      <td>8</td>\n",
       "      <td>Rednimdox</td>\n",
       "      <td>Construction</td>\n",
       "      <td>2013.0</td>\n",
       "      <td>73.0</td>\n",
       "      <td>NY</td>\n",
       "      <td>Woodside</td>\n",
       "      <td>NaN</td>\n",
       "      <td>NaN</td>\n",
       "      <td>NaN</td>\n",
       "      <td>NaN</td>\n",
       "    </tr>\n",
       "    <tr>\n",
       "      <th>10</th>\n",
       "      <td>11</td>\n",
       "      <td>Canecorporation</td>\n",
       "      <td>Health</td>\n",
       "      <td>2012.0</td>\n",
       "      <td>6.0</td>\n",
       "      <td>NaN</td>\n",
       "      <td>New York</td>\n",
       "      <td>10597009.0</td>\n",
       "      <td>7591189.0</td>\n",
       "      <td>3005820.0</td>\n",
       "      <td>7.0</td>\n",
       "    </tr>\n",
       "    <tr>\n",
       "      <th>13</th>\n",
       "      <td>14</td>\n",
       "      <td>Techline</td>\n",
       "      <td>NaN</td>\n",
       "      <td>2006.0</td>\n",
       "      <td>65.0</td>\n",
       "      <td>CA</td>\n",
       "      <td>San Ramon</td>\n",
       "      <td>13898119.0</td>\n",
       "      <td>5470303.0</td>\n",
       "      <td>8427816.0</td>\n",
       "      <td>23.0</td>\n",
       "    </tr>\n",
       "    <tr>\n",
       "      <th>14</th>\n",
       "      <td>15</td>\n",
       "      <td>Cityace</td>\n",
       "      <td>NaN</td>\n",
       "      <td>2010.0</td>\n",
       "      <td>25.0</td>\n",
       "      <td>CO</td>\n",
       "      <td>Louisville</td>\n",
       "      <td>9254614.0</td>\n",
       "      <td>6249498.0</td>\n",
       "      <td>3005116.0</td>\n",
       "      <td>6.0</td>\n",
       "    </tr>\n",
       "    <tr>\n",
       "      <th>16</th>\n",
       "      <td>17</td>\n",
       "      <td>Ganzlax</td>\n",
       "      <td>IT Services</td>\n",
       "      <td>2011.0</td>\n",
       "      <td>75.0</td>\n",
       "      <td>NJ</td>\n",
       "      <td>Iselin</td>\n",
       "      <td>14001180.0</td>\n",
       "      <td>NaN</td>\n",
       "      <td>11901180.0</td>\n",
       "      <td>18.0</td>\n",
       "    </tr>\n",
       "    <tr>\n",
       "      <th>21</th>\n",
       "      <td>22</td>\n",
       "      <td>Lathotline</td>\n",
       "      <td>Health</td>\n",
       "      <td>NaN</td>\n",
       "      <td>103.0</td>\n",
       "      <td>VA</td>\n",
       "      <td>McLean</td>\n",
       "      <td>9418303.0</td>\n",
       "      <td>7567233.0</td>\n",
       "      <td>1851070.0</td>\n",
       "      <td>2.0</td>\n",
       "    </tr>\n",
       "    <tr>\n",
       "      <th>43</th>\n",
       "      <td>44</td>\n",
       "      <td>Ganzgreen</td>\n",
       "      <td>Construction</td>\n",
       "      <td>2010.0</td>\n",
       "      <td>224.0</td>\n",
       "      <td>TN</td>\n",
       "      <td>Franklin</td>\n",
       "      <td>NaN</td>\n",
       "      <td>NaN</td>\n",
       "      <td>NaN</td>\n",
       "      <td>9.0</td>\n",
       "    </tr>\n",
       "    <tr>\n",
       "      <th>83</th>\n",
       "      <td>84</td>\n",
       "      <td>Drilldrill</td>\n",
       "      <td>Software</td>\n",
       "      <td>2010.0</td>\n",
       "      <td>30.0</td>\n",
       "      <td>NaN</td>\n",
       "      <td>San Francisco</td>\n",
       "      <td>7800620.0</td>\n",
       "      <td>2785799.0</td>\n",
       "      <td>5014821.0</td>\n",
       "      <td>17.0</td>\n",
       "    </tr>\n",
       "    <tr>\n",
       "      <th>266</th>\n",
       "      <td>267</td>\n",
       "      <td>Circlechop</td>\n",
       "      <td>Software</td>\n",
       "      <td>2010.0</td>\n",
       "      <td>14.0</td>\n",
       "      <td>NaN</td>\n",
       "      <td>San Francisco</td>\n",
       "      <td>9067070.0</td>\n",
       "      <td>5929828.0</td>\n",
       "      <td>3137242.0</td>\n",
       "      <td>20.0</td>\n",
       "    </tr>\n",
       "    <tr>\n",
       "      <th>331</th>\n",
       "      <td>332</td>\n",
       "      <td>Westminster</td>\n",
       "      <td>Financial Services</td>\n",
       "      <td>2010.0</td>\n",
       "      <td>NaN</td>\n",
       "      <td>MI</td>\n",
       "      <td>Troy</td>\n",
       "      <td>11861652.0</td>\n",
       "      <td>5245126.0</td>\n",
       "      <td>6616526.0</td>\n",
       "      <td>15.0</td>\n",
       "    </tr>\n",
       "    <tr>\n",
       "      <th>378</th>\n",
       "      <td>379</td>\n",
       "      <td>Stovepuck</td>\n",
       "      <td>Retail</td>\n",
       "      <td>2013.0</td>\n",
       "      <td>73.0</td>\n",
       "      <td>NaN</td>\n",
       "      <td>New York</td>\n",
       "      <td>13814975.0</td>\n",
       "      <td>5904502.0</td>\n",
       "      <td>7910473.0</td>\n",
       "      <td>10.0</td>\n",
       "    </tr>\n",
       "  </tbody>\n",
       "</table>\n",
       "</div>"
      ],
      "text/plain": [
       "      ID             Name            Industry  Inception  Employees State  \\\n",
       "2      3         Greenfax              Retail     2012.0        NaN    SC   \n",
       "7      8        Rednimdox        Construction     2013.0       73.0    NY   \n",
       "10    11  Canecorporation              Health     2012.0        6.0   NaN   \n",
       "13    14         Techline                 NaN     2006.0       65.0    CA   \n",
       "14    15          Cityace                 NaN     2010.0       25.0    CO   \n",
       "16    17          Ganzlax         IT Services     2011.0       75.0    NJ   \n",
       "21    22       Lathotline              Health        NaN      103.0    VA   \n",
       "43    44        Ganzgreen        Construction     2010.0      224.0    TN   \n",
       "83    84       Drilldrill            Software     2010.0       30.0   NaN   \n",
       "266  267       Circlechop            Software     2010.0       14.0   NaN   \n",
       "331  332      Westminster  Financial Services     2010.0        NaN    MI   \n",
       "378  379        Stovepuck              Retail     2013.0       73.0   NaN   \n",
       "\n",
       "              City     Revenue   Expenses      Profit  Growth  \n",
       "2       Greenville   9746272.0  1044375.0   8701897.0    16.0  \n",
       "7         Woodside         NaN        NaN         NaN     NaN  \n",
       "10        New York  10597009.0  7591189.0   3005820.0     7.0  \n",
       "13       San Ramon  13898119.0  5470303.0   8427816.0    23.0  \n",
       "14      Louisville   9254614.0  6249498.0   3005116.0     6.0  \n",
       "16          Iselin  14001180.0        NaN  11901180.0    18.0  \n",
       "21          McLean   9418303.0  7567233.0   1851070.0     2.0  \n",
       "43        Franklin         NaN        NaN         NaN     9.0  \n",
       "83   San Francisco   7800620.0  2785799.0   5014821.0    17.0  \n",
       "266  San Francisco   9067070.0  5929828.0   3137242.0    20.0  \n",
       "331           Troy  11861652.0  5245126.0   6616526.0    15.0  \n",
       "378       New York  13814975.0  5904502.0   7910473.0    10.0  "
      ]
     },
     "execution_count": 27,
     "metadata": {},
     "output_type": "execute_result"
    }
   ],
   "source": [
    "df[df.isna().any(axis=1)]"
   ]
  },
  {
   "cell_type": "code",
   "execution_count": 28,
   "id": "d47638c0-7a0a-4db7-8937-2f01ab327e0c",
   "metadata": {},
   "outputs": [
    {
     "data": {
      "text/html": [
       "<div>\n",
       "<style scoped>\n",
       "    .dataframe tbody tr th:only-of-type {\n",
       "        vertical-align: middle;\n",
       "    }\n",
       "\n",
       "    .dataframe tbody tr th {\n",
       "        vertical-align: top;\n",
       "    }\n",
       "\n",
       "    .dataframe thead th {\n",
       "        text-align: right;\n",
       "    }\n",
       "</style>\n",
       "<table border=\"1\" class=\"dataframe\">\n",
       "  <thead>\n",
       "    <tr style=\"text-align: right;\">\n",
       "      <th></th>\n",
       "      <th>ID</th>\n",
       "      <th>Name</th>\n",
       "      <th>Industry</th>\n",
       "      <th>Inception</th>\n",
       "      <th>Employees</th>\n",
       "      <th>State</th>\n",
       "      <th>City</th>\n",
       "      <th>Revenue</th>\n",
       "      <th>Expenses</th>\n",
       "      <th>Profit</th>\n",
       "      <th>Growth</th>\n",
       "    </tr>\n",
       "  </thead>\n",
       "  <tbody>\n",
       "    <tr>\n",
       "      <th>7</th>\n",
       "      <td>8</td>\n",
       "      <td>Rednimdox</td>\n",
       "      <td>Construction</td>\n",
       "      <td>2013.0</td>\n",
       "      <td>73.0</td>\n",
       "      <td>NY</td>\n",
       "      <td>Woodside</td>\n",
       "      <td>NaN</td>\n",
       "      <td>NaN</td>\n",
       "      <td>NaN</td>\n",
       "      <td>NaN</td>\n",
       "    </tr>\n",
       "    <tr>\n",
       "      <th>16</th>\n",
       "      <td>17</td>\n",
       "      <td>Ganzlax</td>\n",
       "      <td>IT Services</td>\n",
       "      <td>2011.0</td>\n",
       "      <td>75.0</td>\n",
       "      <td>NJ</td>\n",
       "      <td>Iselin</td>\n",
       "      <td>14001180.0</td>\n",
       "      <td>NaN</td>\n",
       "      <td>11901180.0</td>\n",
       "      <td>18.0</td>\n",
       "    </tr>\n",
       "    <tr>\n",
       "      <th>43</th>\n",
       "      <td>44</td>\n",
       "      <td>Ganzgreen</td>\n",
       "      <td>Construction</td>\n",
       "      <td>2010.0</td>\n",
       "      <td>224.0</td>\n",
       "      <td>TN</td>\n",
       "      <td>Franklin</td>\n",
       "      <td>NaN</td>\n",
       "      <td>NaN</td>\n",
       "      <td>NaN</td>\n",
       "      <td>9.0</td>\n",
       "    </tr>\n",
       "  </tbody>\n",
       "</table>\n",
       "</div>"
      ],
      "text/plain": [
       "    ID       Name      Industry  Inception  Employees State      City  \\\n",
       "7    8  Rednimdox  Construction     2013.0       73.0    NY  Woodside   \n",
       "16  17    Ganzlax   IT Services     2011.0       75.0    NJ    Iselin   \n",
       "43  44  Ganzgreen  Construction     2010.0      224.0    TN  Franklin   \n",
       "\n",
       "       Revenue  Expenses      Profit  Growth  \n",
       "7          NaN       NaN         NaN     NaN  \n",
       "16  14001180.0       NaN  11901180.0    18.0  \n",
       "43         NaN       NaN         NaN     9.0  "
      ]
     },
     "execution_count": 28,
     "metadata": {},
     "output_type": "execute_result"
    }
   ],
   "source": [
    "df[df['Expenses'].isna()]"
   ]
  },
  {
   "cell_type": "code",
   "execution_count": 29,
   "id": "01cbf992-c362-4a56-a464-70b414178791",
   "metadata": {},
   "outputs": [],
   "source": [
    "df = df[~df['Industry'].isna()]"
   ]
  },
  {
   "cell_type": "code",
   "execution_count": 30,
   "id": "08c4cb30-cda4-4b00-9ae6-f2896e88b569",
   "metadata": {},
   "outputs": [
    {
     "data": {
      "text/html": [
       "<div>\n",
       "<style scoped>\n",
       "    .dataframe tbody tr th:only-of-type {\n",
       "        vertical-align: middle;\n",
       "    }\n",
       "\n",
       "    .dataframe tbody tr th {\n",
       "        vertical-align: top;\n",
       "    }\n",
       "\n",
       "    .dataframe thead th {\n",
       "        text-align: right;\n",
       "    }\n",
       "</style>\n",
       "<table border=\"1\" class=\"dataframe\">\n",
       "  <thead>\n",
       "    <tr style=\"text-align: right;\">\n",
       "      <th></th>\n",
       "      <th>ID</th>\n",
       "      <th>Name</th>\n",
       "      <th>Industry</th>\n",
       "      <th>Inception</th>\n",
       "      <th>Employees</th>\n",
       "      <th>State</th>\n",
       "      <th>City</th>\n",
       "      <th>Revenue</th>\n",
       "      <th>Expenses</th>\n",
       "      <th>Profit</th>\n",
       "      <th>Growth</th>\n",
       "    </tr>\n",
       "  </thead>\n",
       "  <tbody>\n",
       "    <tr>\n",
       "      <th>10</th>\n",
       "      <td>11</td>\n",
       "      <td>Canecorporation</td>\n",
       "      <td>Health</td>\n",
       "      <td>2012.0</td>\n",
       "      <td>6.0</td>\n",
       "      <td>NaN</td>\n",
       "      <td>New York</td>\n",
       "      <td>10597009.0</td>\n",
       "      <td>7591189.0</td>\n",
       "      <td>3005820.0</td>\n",
       "      <td>7.0</td>\n",
       "    </tr>\n",
       "    <tr>\n",
       "      <th>378</th>\n",
       "      <td>379</td>\n",
       "      <td>Stovepuck</td>\n",
       "      <td>Retail</td>\n",
       "      <td>2013.0</td>\n",
       "      <td>73.0</td>\n",
       "      <td>NaN</td>\n",
       "      <td>New York</td>\n",
       "      <td>13814975.0</td>\n",
       "      <td>5904502.0</td>\n",
       "      <td>7910473.0</td>\n",
       "      <td>10.0</td>\n",
       "    </tr>\n",
       "  </tbody>\n",
       "</table>\n",
       "</div>"
      ],
      "text/plain": [
       "      ID             Name Industry  Inception  Employees State      City  \\\n",
       "10    11  Canecorporation   Health     2012.0        6.0   NaN  New York   \n",
       "378  379        Stovepuck   Retail     2013.0       73.0   NaN  New York   \n",
       "\n",
       "        Revenue   Expenses     Profit  Growth  \n",
       "10   10597009.0  7591189.0  3005820.0     7.0  \n",
       "378  13814975.0  5904502.0  7910473.0    10.0  "
      ]
     },
     "execution_count": 30,
     "metadata": {},
     "output_type": "execute_result"
    }
   ],
   "source": [
    "df.loc[(df['State'].isna()) & (df['City'] == \"New York\"),]"
   ]
  },
  {
   "cell_type": "code",
   "execution_count": 31,
   "id": "592ccefe-3c50-4638-be38-4e05fdaf417e",
   "metadata": {},
   "outputs": [],
   "source": [
    "df.loc[(df['State'].isna()) & (df['City'] == \"New York\"), 'State'] = \"NY\""
   ]
  },
  {
   "cell_type": "code",
   "execution_count": 32,
   "id": "14fefeb8-2d5f-4210-b191-dbb004c09d31",
   "metadata": {},
   "outputs": [
    {
     "data": {
      "text/html": [
       "<div>\n",
       "<style scoped>\n",
       "    .dataframe tbody tr th:only-of-type {\n",
       "        vertical-align: middle;\n",
       "    }\n",
       "\n",
       "    .dataframe tbody tr th {\n",
       "        vertical-align: top;\n",
       "    }\n",
       "\n",
       "    .dataframe thead th {\n",
       "        text-align: right;\n",
       "    }\n",
       "</style>\n",
       "<table border=\"1\" class=\"dataframe\">\n",
       "  <thead>\n",
       "    <tr style=\"text-align: right;\">\n",
       "      <th></th>\n",
       "      <th>ID</th>\n",
       "      <th>Name</th>\n",
       "      <th>Industry</th>\n",
       "      <th>Inception</th>\n",
       "      <th>Employees</th>\n",
       "      <th>State</th>\n",
       "      <th>City</th>\n",
       "      <th>Revenue</th>\n",
       "      <th>Expenses</th>\n",
       "      <th>Profit</th>\n",
       "      <th>Growth</th>\n",
       "    </tr>\n",
       "  </thead>\n",
       "  <tbody>\n",
       "    <tr>\n",
       "      <th>83</th>\n",
       "      <td>84</td>\n",
       "      <td>Drilldrill</td>\n",
       "      <td>Software</td>\n",
       "      <td>2010.0</td>\n",
       "      <td>30.0</td>\n",
       "      <td>NaN</td>\n",
       "      <td>San Francisco</td>\n",
       "      <td>7800620.0</td>\n",
       "      <td>2785799.0</td>\n",
       "      <td>5014821.0</td>\n",
       "      <td>17.0</td>\n",
       "    </tr>\n",
       "    <tr>\n",
       "      <th>266</th>\n",
       "      <td>267</td>\n",
       "      <td>Circlechop</td>\n",
       "      <td>Software</td>\n",
       "      <td>2010.0</td>\n",
       "      <td>14.0</td>\n",
       "      <td>NaN</td>\n",
       "      <td>San Francisco</td>\n",
       "      <td>9067070.0</td>\n",
       "      <td>5929828.0</td>\n",
       "      <td>3137242.0</td>\n",
       "      <td>20.0</td>\n",
       "    </tr>\n",
       "  </tbody>\n",
       "</table>\n",
       "</div>"
      ],
      "text/plain": [
       "      ID        Name  Industry  Inception  Employees State           City  \\\n",
       "83    84  Drilldrill  Software     2010.0       30.0   NaN  San Francisco   \n",
       "266  267  Circlechop  Software     2010.0       14.0   NaN  San Francisco   \n",
       "\n",
       "       Revenue   Expenses     Profit  Growth  \n",
       "83   7800620.0  2785799.0  5014821.0    17.0  \n",
       "266  9067070.0  5929828.0  3137242.0    20.0  "
      ]
     },
     "execution_count": 32,
     "metadata": {},
     "output_type": "execute_result"
    }
   ],
   "source": [
    "df.loc[(df['State'].isna()) & (df['City'] == \"San Francisco\"),]"
   ]
  },
  {
   "cell_type": "code",
   "execution_count": 33,
   "id": "8247b99f-d48a-4d0d-9671-f64cfcd2ea05",
   "metadata": {},
   "outputs": [],
   "source": [
    "df.loc[(df['State'].isna()) & (df['City'] == \"San Francisco\"), 'State'] = \"CA\""
   ]
  },
  {
   "cell_type": "code",
   "execution_count": 34,
   "id": "b9e411a0-988e-4186-80fd-b9547178c601",
   "metadata": {},
   "outputs": [],
   "source": [
    "med = df[(df['Industry'] == \"Retail\") & (df['Inception'] == 2012)]['Employees'].median()\n",
    "df.loc[(df['Employees'].isna()) & (df['Industry'] == \"Retail\") & (df['Inception'] == 2012), 'Employees'] = med"
   ]
  },
  {
   "cell_type": "code",
   "execution_count": 35,
   "id": "4de490ec-49de-461b-a2b7-2fd5ff0fbb02",
   "metadata": {},
   "outputs": [],
   "source": [
    "med = df[(df['Industry'] == \"Financial Services\") & (df['Inception'] == 2010)]['Employees'].median()\n",
    "df.loc[(df['Employees'].isna()) & (df['Industry'] == \"Financial Services\") & (df['Inception'] == 2010), 'Employees'] = med"
   ]
  },
  {
   "cell_type": "code",
   "execution_count": 36,
   "id": "f902f3f0-69cb-4c4d-b2ed-40bf0a5e18b8",
   "metadata": {},
   "outputs": [],
   "source": [
    "med = df[(df['Industry'] == \"Construction\") & (df['Inception'] == 2013)]['Growth'].median()\n",
    "df.loc[(df['Growth'].isna()) & (df['Industry'] == \"Construction\") & (df['Inception'] == 2013), 'Growth'] = med"
   ]
  },
  {
   "cell_type": "code",
   "execution_count": 37,
   "id": "2c93d96e-c36d-4a6f-ba70-6cf05c32b4ca",
   "metadata": {},
   "outputs": [],
   "source": [
    "med = df[(df['Industry'] == \"Construction\") & (df['Inception'] == 2010)]['Revenue'].median()\n",
    "df.loc[(df['Revenue'].isna()) & (df['Industry'] == \"Construction\") & (df['Inception'] == 2010), 'Revenue'] = med"
   ]
  },
  {
   "cell_type": "code",
   "execution_count": 38,
   "id": "b19c1d1a-2c67-46ce-8be2-7e2768763da2",
   "metadata": {},
   "outputs": [],
   "source": [
    "med = df[(df['Industry'] == \"Construction\") & (df['Inception'] == 2013)]['Revenue'].median()\n",
    "df.loc[(df['Revenue'].isna()) & (df['Industry'] == \"Construction\") & (df['Inception'] == 2013), 'Revenue'] = med"
   ]
  },
  {
   "cell_type": "code",
   "execution_count": 39,
   "id": "e756fc6c-14fa-43c5-bf52-723686a0102b",
   "metadata": {},
   "outputs": [],
   "source": [
    "med = df[(df['Industry'] == \"Construction\") & (df['Inception'] == 2010)]['Expenses'].median()\n",
    "df.loc[(df['Expenses'].isna()) & (df['Industry'] == \"Construction\") & (df['Inception'] == 2010), 'Expenses'] = med"
   ]
  },
  {
   "cell_type": "code",
   "execution_count": 40,
   "id": "fd136434-96e0-428d-b79d-24655435e84a",
   "metadata": {},
   "outputs": [],
   "source": [
    "med = df[(df['Industry'] == \"Construction\") & (df['Inception'] == 2013)]['Expenses'].median()\n",
    "df.loc[(df['Expenses'].isna()) & (df['Industry'] == \"Construction\") & (df['Inception'] == 2013), 'Expenses'] = med"
   ]
  },
  {
   "cell_type": "code",
   "execution_count": 41,
   "id": "6870b153-4d8b-4256-925f-5bc36a2befa5",
   "metadata": {},
   "outputs": [],
   "source": [
    "df.loc[df['Profit'].isna(), 'Profit'] = df['Revenue'] - df['Expenses']\n",
    "df.loc[df['Expenses'].isna(), 'Expenses'] = df['Revenue'] - df['Profit']"
   ]
  },
  {
   "cell_type": "code",
   "execution_count": 42,
   "id": "093f6aac-df40-4890-b146-73227032b070",
   "metadata": {},
   "outputs": [
    {
     "data": {
      "text/html": [
       "<div>\n",
       "<style scoped>\n",
       "    .dataframe tbody tr th:only-of-type {\n",
       "        vertical-align: middle;\n",
       "    }\n",
       "\n",
       "    .dataframe tbody tr th {\n",
       "        vertical-align: top;\n",
       "    }\n",
       "\n",
       "    .dataframe thead th {\n",
       "        text-align: right;\n",
       "    }\n",
       "</style>\n",
       "<table border=\"1\" class=\"dataframe\">\n",
       "  <thead>\n",
       "    <tr style=\"text-align: right;\">\n",
       "      <th></th>\n",
       "      <th>ID</th>\n",
       "      <th>Name</th>\n",
       "      <th>Industry</th>\n",
       "      <th>Inception</th>\n",
       "      <th>Employees</th>\n",
       "      <th>State</th>\n",
       "      <th>City</th>\n",
       "      <th>Revenue</th>\n",
       "      <th>Expenses</th>\n",
       "      <th>Profit</th>\n",
       "      <th>Growth</th>\n",
       "    </tr>\n",
       "  </thead>\n",
       "  <tbody>\n",
       "    <tr>\n",
       "      <th>21</th>\n",
       "      <td>22</td>\n",
       "      <td>Lathotline</td>\n",
       "      <td>Health</td>\n",
       "      <td>NaN</td>\n",
       "      <td>103.0</td>\n",
       "      <td>VA</td>\n",
       "      <td>McLean</td>\n",
       "      <td>9418303.0</td>\n",
       "      <td>7567233.0</td>\n",
       "      <td>1851070.0</td>\n",
       "      <td>2.0</td>\n",
       "    </tr>\n",
       "  </tbody>\n",
       "</table>\n",
       "</div>"
      ],
      "text/plain": [
       "    ID        Name Industry  Inception  Employees State    City    Revenue  \\\n",
       "21  22  Lathotline   Health        NaN      103.0    VA  McLean  9418303.0   \n",
       "\n",
       "     Expenses     Profit  Growth  \n",
       "21  7567233.0  1851070.0     2.0  "
      ]
     },
     "execution_count": 42,
     "metadata": {},
     "output_type": "execute_result"
    }
   ],
   "source": [
    "df[df.isna().any(axis=1)]"
   ]
  },
  {
   "cell_type": "code",
   "execution_count": 43,
   "id": "5c917495-faaf-49ba-af4e-e8c9a34eb4fa",
   "metadata": {},
   "outputs": [],
   "source": [
    "df['Inception'] = df['Inception'].astype(str)"
   ]
  },
  {
   "cell_type": "code",
   "execution_count": null,
   "id": "8fe9d562-40f4-4cbb-b35d-f4ab3a415235",
   "metadata": {},
   "outputs": [],
   "source": [
    "mod = df[df['Industry'] == \"Health\"]['Inception'].mode()\n",
    "df.loc[(df['Inception'].isna()) & (df['Industry'] == \"Health\"), 'Inception'] = mod"
   ]
  },
  {
   "cell_type": "markdown",
   "id": "4a5923f5-c68d-4ead-88b2-60fa5817e4df",
   "metadata": {},
   "source": [
    "## Outlier'lər ilə işləmək"
   ]
  },
  {
   "cell_type": "code",
   "execution_count": 47,
   "id": "4c44d227-47e5-424d-a54f-15c3230e5c87",
   "metadata": {},
   "outputs": [
    {
     "data": {
      "text/plain": [
       "Index(['Employees', 'Revenue', 'Expenses', 'Profit', 'Growth'], dtype='object')"
      ]
     },
     "execution_count": 47,
     "metadata": {},
     "output_type": "execute_result"
    }
   ],
   "source": [
    "num_vars = df.select_dtypes(include = 'number').columns\n",
    "num_vars"
   ]
  },
  {
   "cell_type": "code",
   "execution_count": 48,
   "id": "9c4cb641-83c9-47af-a10a-b69736607b1e",
   "metadata": {},
   "outputs": [
    {
     "name": "stdout",
     "output_type": "stream",
     "text": [
      "Outliers in Employees: [ 687.  320.  607.  280.  595.  400.  668.  850.  430. 1628.  545.  485.\n",
      "  318.  327. 2670.  486.  937.  979.  393. 1500.  285.  308.  489.  335.\n",
      "  326.  289. 1107.  818. 1442.  372.  425.  539. 1387.  457.  403.  837.\n",
      "  290.  329.  663.  605.  360.  370. 1600. 1224.  661.  330.  441.  760.\n",
      "  430.  332.  326.  278.  640.  403.  278.  425.  348.  381.  800.  566.\n",
      " 7125.]\n",
      "Outliers in Revenue: [ 1614585. 20252673.  1835717. 21810051.]\n",
      "Outliers in Profit: [19624534. 18456022.]\n"
     ]
    }
   ],
   "source": [
    "for var in num_vars:\n",
    "    q1 = df[var].quantile(0.25)\n",
    "    q3 = df[var].quantile(0.75)\n",
    "    iqr = q3 - q1\n",
    "    lower_bound = q1 - 1.5 * iqr\n",
    "    upper_bound = q3 + 1.5 * iqr\n",
    "    outliers = df[var][(df[var] < lower_bound) | (df[var] > upper_bound)]\n",
    "    if not outliers.empty:\n",
    "        print(f\"Outliers in {var}: {outliers.values}\")"
   ]
  },
  {
   "cell_type": "code",
   "execution_count": 49,
   "id": "d728776e-1fea-4b9f-b20b-d24000a851be",
   "metadata": {},
   "outputs": [],
   "source": [
    "for var in num_vars:\n",
    "    q1 = df[var].quantile(0.25)\n",
    "    q3 = df[var].quantile(0.75)\n",
    "    iqr = q3 - q1\n",
    "    lower_bound = q1 - 1.5 * iqr\n",
    "    upper_bound = q3 + 1.5 * iqr\n",
    "    df.loc[df[var] < lower_bound, var] = lower_bound\n",
    "    df.loc[df[var] > upper_bound, var] = upper_bound"
   ]
  },
  {
   "cell_type": "code",
   "execution_count": 50,
   "id": "f17c0c79-c31f-4b01-bf96-2df637d38329",
   "metadata": {},
   "outputs": [
    {
     "data": {
      "text/plain": [
       "ID           0\n",
       "Name         0\n",
       "Industry     0\n",
       "Inception    0\n",
       "Employees    0\n",
       "State        0\n",
       "City         0\n",
       "Revenue      0\n",
       "Expenses     0\n",
       "Profit       0\n",
       "Growth       0\n",
       "dtype: int64"
      ]
     },
     "execution_count": 50,
     "metadata": {},
     "output_type": "execute_result"
    }
   ],
   "source": [
    "df.isna().sum()"
   ]
  },
  {
   "cell_type": "code",
   "execution_count": null,
   "id": "3a4eef1e-b533-4893-acb5-76afb1f85fa5",
   "metadata": {},
   "outputs": [],
   "source": []
  }
 ],
 "metadata": {
  "kernelspec": {
   "display_name": "Python 3 (ipykernel)",
   "language": "python",
   "name": "python3"
  },
  "language_info": {
   "codemirror_mode": {
    "name": "ipython",
    "version": 3
   },
   "file_extension": ".py",
   "mimetype": "text/x-python",
   "name": "python",
   "nbconvert_exporter": "python",
   "pygments_lexer": "ipython3",
   "version": "3.11.7"
  }
 },
 "nbformat": 4,
 "nbformat_minor": 5
}
