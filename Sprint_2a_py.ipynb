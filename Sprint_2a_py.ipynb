{
 "cells": [
  {
   "cell_type": "markdown",
   "id": "d24cb793-8140-4ef9-87e2-b14b8c05c0f6",
   "metadata": {},
   "source": [
    "## List"
   ]
  },
  {
   "cell_type": "code",
   "execution_count": 50,
   "id": "c1e5224f-6296-4976-84b2-2344ac534ce1",
   "metadata": {},
   "outputs": [
    {
     "data": {
      "text/plain": [
       "[3, 19, 112, 4731]"
      ]
     },
     "execution_count": 50,
     "metadata": {},
     "output_type": "execute_result"
    }
   ],
   "source": [
    "list_1 = [3, 19, 112, 4731]\n",
    "list_1"
   ]
  },
  {
   "cell_type": "code",
   "execution_count": 2,
   "id": "c819ee15-844a-4fdb-a109-463d0bc5a121",
   "metadata": {},
   "outputs": [
    {
     "data": {
      "text/plain": [
       "list"
      ]
     },
     "execution_count": 2,
     "metadata": {},
     "output_type": "execute_result"
    }
   ],
   "source": [
    "type(list_1)"
   ]
  },
  {
   "cell_type": "code",
   "execution_count": 3,
   "id": "3b9b01f8-3bc5-49a0-9fe2-fd455749329d",
   "metadata": {},
   "outputs": [
    {
     "data": {
      "text/plain": [
       "4"
      ]
     },
     "execution_count": 3,
     "metadata": {},
     "output_type": "execute_result"
    }
   ],
   "source": [
    "len(list_1)"
   ]
  },
  {
   "cell_type": "code",
   "execution_count": 51,
   "id": "371d5a40-e9aa-4891-b915-fda39c5829fe",
   "metadata": {},
   "outputs": [
    {
     "data": {
      "text/plain": [
       "['b', '7', 'b7']"
      ]
     },
     "execution_count": 51,
     "metadata": {},
     "output_type": "execute_result"
    }
   ],
   "source": [
    "list_2 = ['b', '7', 'b7']\n",
    "list_2"
   ]
  },
  {
   "cell_type": "code",
   "execution_count": 52,
   "id": "8cb12176-0334-4232-b080-73f88006a8fa",
   "metadata": {},
   "outputs": [
    {
     "data": {
      "text/plain": [
       "[3, 19, 112, 4731, '37,5']"
      ]
     },
     "execution_count": 52,
     "metadata": {},
     "output_type": "execute_result"
    }
   ],
   "source": [
    "list_3 = [3, 19, 112, 4731, '37,5'] \n",
    "list_3"
   ]
  },
  {
   "cell_type": "code",
   "execution_count": 6,
   "id": "45011499-1f4c-4e6f-8b54-9fff43c636cb",
   "metadata": {},
   "outputs": [
    {
     "data": {
      "text/plain": [
       "[3, 19, 112, 4731, 'b', '7', 'b7', 3, 19, 112, 4731, '37,5']"
      ]
     },
     "execution_count": 6,
     "metadata": {},
     "output_type": "execute_result"
    }
   ],
   "source": [
    "list_all = list_1 + list_2 + list_3\n",
    "list_all"
   ]
  },
  {
   "cell_type": "code",
   "execution_count": 7,
   "id": "59b5d82b-84b1-49f9-b0f3-287ac1c6f457",
   "metadata": {},
   "outputs": [
    {
     "data": {
      "text/plain": [
       "[19, 112]"
      ]
     },
     "execution_count": 7,
     "metadata": {},
     "output_type": "execute_result"
    }
   ],
   "source": [
    "list_all[1:3]"
   ]
  },
  {
   "cell_type": "code",
   "execution_count": 8,
   "id": "b5915aad-6fd2-44ab-ac56-1f3b68effffc",
   "metadata": {},
   "outputs": [
    {
     "data": {
      "text/plain": [
       "['3', 19, 112, 4731, 'b', '7', 'b7', 3, 19, 112, 4731, '37,5']"
      ]
     },
     "execution_count": 8,
     "metadata": {},
     "output_type": "execute_result"
    }
   ],
   "source": [
    "list_all[0] = '3'\n",
    "list_all"
   ]
  },
  {
   "cell_type": "code",
   "execution_count": 9,
   "id": "427eb864-37b9-4336-a9b5-305f0a093322",
   "metadata": {},
   "outputs": [
    {
     "data": {
      "text/plain": [
       "True"
      ]
     },
     "execution_count": 9,
     "metadata": {},
     "output_type": "execute_result"
    }
   ],
   "source": [
    "'b' in list_all"
   ]
  },
  {
   "cell_type": "code",
   "execution_count": 10,
   "id": "ec346bc2-76a5-47b7-8b86-01c1e031cbb0",
   "metadata": {},
   "outputs": [
    {
     "data": {
      "text/plain": [
       "['b', '7', 'b7', 'b']"
      ]
     },
     "execution_count": 10,
     "metadata": {},
     "output_type": "execute_result"
    }
   ],
   "source": [
    "list_2.append('b') \n",
    "list_2"
   ]
  },
  {
   "cell_type": "code",
   "execution_count": 11,
   "id": "7cb66f19-d212-4814-b272-bd9ac4338f5b",
   "metadata": {},
   "outputs": [
    {
     "data": {
      "text/plain": [
       "[3, 8, 19, 112, 4731]"
      ]
     },
     "execution_count": 11,
     "metadata": {},
     "output_type": "execute_result"
    }
   ],
   "source": [
    "list_1.insert(1,8)\n",
    "list_1"
   ]
  },
  {
   "cell_type": "code",
   "execution_count": 12,
   "id": "75dea8a3-b077-4fd4-b128-23e9eff8910b",
   "metadata": {},
   "outputs": [
    {
     "data": {
      "text/plain": [
       "2"
      ]
     },
     "execution_count": 12,
     "metadata": {},
     "output_type": "execute_result"
    }
   ],
   "source": [
    "list_2.count('b')"
   ]
  },
  {
   "cell_type": "code",
   "execution_count": 13,
   "id": "ef758ea9-fd90-4479-bc99-df3728286a69",
   "metadata": {},
   "outputs": [
    {
     "data": {
      "text/plain": [
       "[3, 19, 112, 4731]"
      ]
     },
     "execution_count": 13,
     "metadata": {},
     "output_type": "execute_result"
    }
   ],
   "source": [
    "list_3.pop(4)  \n",
    "list_3 "
   ]
  },
  {
   "cell_type": "code",
   "execution_count": 14,
   "id": "220c0e3b-fd54-4ffa-a78a-9d07bedd9ea7",
   "metadata": {},
   "outputs": [
    {
     "data": {
      "text/plain": [
       "['7', 'b7', 'b']"
      ]
     },
     "execution_count": 14,
     "metadata": {},
     "output_type": "execute_result"
    }
   ],
   "source": [
    "list_2.remove('b')   \n",
    "list_2 "
   ]
  },
  {
   "cell_type": "code",
   "execution_count": 15,
   "id": "8d737f9b-e4ce-40e8-ab05-5fd2b4308d83",
   "metadata": {},
   "outputs": [
    {
     "data": {
      "text/plain": [
       "[3, 8, 19, 112, 4731]"
      ]
     },
     "execution_count": 15,
     "metadata": {},
     "output_type": "execute_result"
    }
   ],
   "source": [
    "list_1.sort()\n",
    "list_1"
   ]
  },
  {
   "cell_type": "code",
   "execution_count": 16,
   "id": "e2f26654-c1f0-4baf-8c39-ca2ad811e370",
   "metadata": {},
   "outputs": [
    {
     "data": {
      "text/plain": [
       "[4731, 112, 19, 8, 3]"
      ]
     },
     "execution_count": 16,
     "metadata": {},
     "output_type": "execute_result"
    }
   ],
   "source": [
    "list_1.sort(reverse=True)\n",
    "list_1"
   ]
  },
  {
   "cell_type": "code",
   "execution_count": 17,
   "id": "e6708627-0312-4e03-b923-72bb036fa51f",
   "metadata": {},
   "outputs": [
    {
     "data": {
      "text/plain": [
       "[4731, 112, 19, 8, 3]"
      ]
     },
     "execution_count": 17,
     "metadata": {},
     "output_type": "execute_result"
    }
   ],
   "source": [
    "list_2.sort()\n",
    "list_1"
   ]
  },
  {
   "cell_type": "code",
   "execution_count": 18,
   "id": "a7baf652-4684-4862-903e-cf9a4189fa3d",
   "metadata": {},
   "outputs": [
    {
     "data": {
      "text/plain": [
       "['X', 1.5, [2, 3, 4]]"
      ]
     },
     "execution_count": 18,
     "metadata": {},
     "output_type": "execute_result"
    }
   ],
   "source": [
    "list_4 = ['X',1.5,[2,3,4]]\n",
    "list_4"
   ]
  },
  {
   "cell_type": "markdown",
   "id": "e1eea85f-2d16-41d3-868c-2abb8fc8b9e5",
   "metadata": {},
   "source": [
    "## Tuple"
   ]
  },
  {
   "cell_type": "code",
   "execution_count": 19,
   "id": "f08adc6b-acf8-4017-aeda-1662278246e4",
   "metadata": {},
   "outputs": [
    {
     "data": {
      "text/plain": [
       "('X', 1.5, [2, 3, 4])"
      ]
     },
     "execution_count": 19,
     "metadata": {},
     "output_type": "execute_result"
    }
   ],
   "source": [
    "tuple_1 = ('X',1.5,[2,3,4])\n",
    "tuple_1"
   ]
  },
  {
   "cell_type": "code",
   "execution_count": 217,
   "id": "7e9ef0e4-6cc0-4c7e-beaa-c82fb28744e4",
   "metadata": {},
   "outputs": [
    {
     "data": {
      "text/plain": [
       "tuple"
      ]
     },
     "execution_count": 217,
     "metadata": {},
     "output_type": "execute_result"
    }
   ],
   "source": [
    "type(tuple_1)"
   ]
  },
  {
   "cell_type": "code",
   "execution_count": 20,
   "id": "9e5caea9-5ab7-425d-855d-5ad9ad1bff38",
   "metadata": {},
   "outputs": [],
   "source": [
    "#tuple_1[0] = 'Y'"
   ]
  },
  {
   "cell_type": "code",
   "execution_count": 21,
   "id": "a7627999-0e69-4370-b4a6-a387c2497f8d",
   "metadata": {},
   "outputs": [
    {
     "data": {
      "text/plain": [
       "['X', 1.5, [2, 3, 4]]"
      ]
     },
     "execution_count": 21,
     "metadata": {},
     "output_type": "execute_result"
    }
   ],
   "source": [
    "list_5 = list(tuple_1)\n",
    "list_5"
   ]
  },
  {
   "cell_type": "code",
   "execution_count": 22,
   "id": "58e288df-1fb9-4b94-b1fb-c8e91b37896f",
   "metadata": {},
   "outputs": [
    {
     "data": {
      "text/plain": [
       "['Y', 1.5, [2, 3, 4]]"
      ]
     },
     "execution_count": 22,
     "metadata": {},
     "output_type": "execute_result"
    }
   ],
   "source": [
    "list_5[0] = 'Y'\n",
    "list_5"
   ]
  },
  {
   "cell_type": "markdown",
   "id": "ea0e037a-16c7-4eea-b370-7b8e9cffe657",
   "metadata": {},
   "source": [
    "## Dictionary"
   ]
  },
  {
   "cell_type": "code",
   "execution_count": 23,
   "id": "82887c5f-1ecb-4a8b-b4b6-0586212751a0",
   "metadata": {},
   "outputs": [
    {
     "data": {
      "text/plain": [
       "{'key1': 'value1', 'key2': 'value2'}"
      ]
     },
     "execution_count": 23,
     "metadata": {},
     "output_type": "execute_result"
    }
   ],
   "source": [
    "dict_1 = {'key1':'value1','key2':'value2'} \n",
    "dict_1"
   ]
  },
  {
   "cell_type": "code",
   "execution_count": 218,
   "id": "bef79992-b2e4-432a-9617-354ad7a7d5b7",
   "metadata": {},
   "outputs": [
    {
     "data": {
      "text/plain": [
       "dict"
      ]
     },
     "execution_count": 218,
     "metadata": {},
     "output_type": "execute_result"
    }
   ],
   "source": [
    "type(dict_1)"
   ]
  },
  {
   "cell_type": "code",
   "execution_count": 24,
   "id": "555cf876-d99e-4515-99e1-241534d5be68",
   "metadata": {},
   "outputs": [
    {
     "data": {
      "text/plain": [
       "'value1'"
      ]
     },
     "execution_count": 24,
     "metadata": {},
     "output_type": "execute_result"
    }
   ],
   "source": [
    "dict_1['key1']"
   ]
  },
  {
   "cell_type": "code",
   "execution_count": 25,
   "id": "a620db0f-9ad4-4d95-a63c-1630b9440f0f",
   "metadata": {},
   "outputs": [
    {
     "data": {
      "text/plain": [
       "{'maşın': 'Kia', 'model': 'Sportage', 'il': 2015, 'rəng': 'ağ'}"
      ]
     },
     "execution_count": 25,
     "metadata": {},
     "output_type": "execute_result"
    }
   ],
   "source": [
    "dict_2 = {'maşın':'Kia','model':'Sportage','il':2015,'rəng':'ağ'}\n",
    "dict_2"
   ]
  },
  {
   "cell_type": "code",
   "execution_count": 26,
   "id": "e03a8c41-e3ca-4ec2-b78d-fde920a402b9",
   "metadata": {},
   "outputs": [
    {
     "data": {
      "text/plain": [
       "'Sportage'"
      ]
     },
     "execution_count": 26,
     "metadata": {},
     "output_type": "execute_result"
    }
   ],
   "source": [
    "dict_2['model']"
   ]
  },
  {
   "cell_type": "code",
   "execution_count": 27,
   "id": "307ca4c5-115f-4994-a1db-62881cadb07d",
   "metadata": {},
   "outputs": [
    {
     "data": {
      "text/plain": [
       "dict_items([('maşın', 'Kia'), ('model', 'Sportage'), ('il', 2015), ('rəng', 'ağ')])"
      ]
     },
     "execution_count": 27,
     "metadata": {},
     "output_type": "execute_result"
    }
   ],
   "source": [
    "dict_2.items()"
   ]
  },
  {
   "cell_type": "code",
   "execution_count": 28,
   "id": "51121be8-3c0e-44bc-8e40-f6241b4237e1",
   "metadata": {},
   "outputs": [
    {
     "data": {
      "text/plain": [
       "dict_keys(['maşın', 'model', 'il', 'rəng'])"
      ]
     },
     "execution_count": 28,
     "metadata": {},
     "output_type": "execute_result"
    }
   ],
   "source": [
    "dict_2.keys()"
   ]
  },
  {
   "cell_type": "code",
   "execution_count": 29,
   "id": "860c4c54-eaea-461b-862a-7250e5697b7f",
   "metadata": {},
   "outputs": [
    {
     "data": {
      "text/plain": [
       "dict_values(['Kia', 'Sportage', 2015, 'ağ'])"
      ]
     },
     "execution_count": 29,
     "metadata": {},
     "output_type": "execute_result"
    }
   ],
   "source": [
    "dict_2.values()"
   ]
  },
  {
   "cell_type": "code",
   "execution_count": 30,
   "id": "d836e198-cd0d-444e-9310-b5290cc42444",
   "metadata": {},
   "outputs": [
    {
     "data": {
      "text/plain": [
       "{'maşın': 'Kia', 'model': 'Sportage', 'il': 2015, 'rəng': 'ağ', 'km': 125000}"
      ]
     },
     "execution_count": 30,
     "metadata": {},
     "output_type": "execute_result"
    }
   ],
   "source": [
    "dict_2['km'] = 125000\n",
    "dict_2"
   ]
  },
  {
   "cell_type": "code",
   "execution_count": 31,
   "id": "03c3a9df-0b87-42c1-991c-14b967d97b0d",
   "metadata": {},
   "outputs": [
    {
     "data": {
      "text/plain": [
       "{'km': '125500'}"
      ]
     },
     "execution_count": 31,
     "metadata": {},
     "output_type": "execute_result"
    }
   ],
   "source": [
    "km = {'km':'125500'}\n",
    "km"
   ]
  },
  {
   "cell_type": "code",
   "execution_count": 32,
   "id": "83442152-b63c-4727-a564-c92403dd0d3f",
   "metadata": {},
   "outputs": [
    {
     "data": {
      "text/plain": [
       "{'maşın': 'Kia', 'model': 'Sportage', 'il': 2015, 'rəng': 'ağ', 'km': '125500'}"
      ]
     },
     "execution_count": 32,
     "metadata": {},
     "output_type": "execute_result"
    }
   ],
   "source": [
    "dict_2.update(km)\n",
    "dict_2"
   ]
  },
  {
   "cell_type": "code",
   "execution_count": 33,
   "id": "185c895f-13cb-4871-b3ae-6d1dfd69c587",
   "metadata": {},
   "outputs": [
    {
     "data": {
      "text/plain": [
       "{'maşın': 'Kia', 'model': 'Sportage', 'rəng': 'ağ', 'km': '125500'}"
      ]
     },
     "execution_count": 33,
     "metadata": {},
     "output_type": "execute_result"
    }
   ],
   "source": [
    "dict_2.pop('il')\n",
    "dict_2"
   ]
  },
  {
   "cell_type": "code",
   "execution_count": 34,
   "id": "8ed90fa4-7322-43d8-9b48-8525b5a665bb",
   "metadata": {},
   "outputs": [
    {
     "data": {
      "text/plain": [
       "{'k1': 9, 'k2': [4731, 112, 19, 8, 3], 'k3': {'km': '125500'}}"
      ]
     },
     "execution_count": 34,
     "metadata": {},
     "output_type": "execute_result"
    }
   ],
   "source": [
    "dict_3 = {'k1':9,'k2':list_1,'k3':km}\n",
    "dict_3"
   ]
  },
  {
   "cell_type": "code",
   "execution_count": 35,
   "id": "b6ea085c-6d75-4e5a-891e-f9398fc7472d",
   "metadata": {},
   "outputs": [
    {
     "data": {
      "text/plain": [
       "'125500'"
      ]
     },
     "execution_count": 35,
     "metadata": {},
     "output_type": "execute_result"
    }
   ],
   "source": [
    "dict_3['k3']['km']"
   ]
  },
  {
   "cell_type": "code",
   "execution_count": 36,
   "id": "b5d4cba9-edf6-4cb9-8d7a-1587ec7f917e",
   "metadata": {},
   "outputs": [
    {
     "data": {
      "text/plain": [
       "19"
      ]
     },
     "execution_count": 36,
     "metadata": {},
     "output_type": "execute_result"
    }
   ],
   "source": [
    "dict_3['k2'][2]"
   ]
  },
  {
   "cell_type": "markdown",
   "id": "5b876c70-41c4-4c09-95cf-e2ccea175448",
   "metadata": {},
   "source": [
    "## Array"
   ]
  },
  {
   "cell_type": "code",
   "execution_count": 37,
   "id": "205de5fe-a100-4569-a8f2-7324b21bf9dc",
   "metadata": {},
   "outputs": [],
   "source": [
    "import numpy as np"
   ]
  },
  {
   "cell_type": "code",
   "execution_count": 38,
   "id": "e1fb369a-0ad3-4326-885c-65b80c99c910",
   "metadata": {},
   "outputs": [
    {
     "data": {
      "text/plain": [
       "array([4731,  112,   19,    8,    3])"
      ]
     },
     "execution_count": 38,
     "metadata": {},
     "output_type": "execute_result"
    }
   ],
   "source": [
    "array_1 = np.array(list_1)\n",
    "array_1"
   ]
  },
  {
   "cell_type": "code",
   "execution_count": 219,
   "id": "2a3bf8e2-9b84-409c-b9e4-53bd9f4576a1",
   "metadata": {},
   "outputs": [
    {
     "data": {
      "text/plain": [
       "numpy.ndarray"
      ]
     },
     "execution_count": 219,
     "metadata": {},
     "output_type": "execute_result"
    }
   ],
   "source": [
    "type(array_1)"
   ]
  },
  {
   "cell_type": "code",
   "execution_count": 55,
   "id": "e236e3a2-97df-4bae-9ba6-666702a7ad22",
   "metadata": {},
   "outputs": [],
   "source": [
    "list_1 = [1,2,3]\n",
    "list_2 = [4,5,6]\n",
    "list_3 = [7,8,9]"
   ]
  },
  {
   "cell_type": "code",
   "execution_count": 56,
   "id": "8d886016-4025-4fbc-8284-8e01e3232500",
   "metadata": {},
   "outputs": [
    {
     "data": {
      "text/plain": [
       "[[1, 2, 3], [4, 5, 6], [7, 8, 9]]"
      ]
     },
     "execution_count": 56,
     "metadata": {},
     "output_type": "execute_result"
    }
   ],
   "source": [
    "list_comb = [list_1,list_2,list_3]\n",
    "list_comb"
   ]
  },
  {
   "cell_type": "code",
   "execution_count": 65,
   "id": "fa326296-279d-4c16-a008-61a2101d9666",
   "metadata": {},
   "outputs": [
    {
     "data": {
      "text/plain": [
       "array([[1, 2, 3],\n",
       "       [4, 5, 6],\n",
       "       [7, 8, 9]])"
      ]
     },
     "execution_count": 65,
     "metadata": {},
     "output_type": "execute_result"
    }
   ],
   "source": [
    "array_2 = np.array(list_comb)\n",
    "array_2"
   ]
  },
  {
   "cell_type": "code",
   "execution_count": 66,
   "id": "ae79d0bc-721f-4ba8-a999-a048ace299ee",
   "metadata": {},
   "outputs": [
    {
     "data": {
      "text/plain": [
       "dtype('int64')"
      ]
     },
     "execution_count": 66,
     "metadata": {},
     "output_type": "execute_result"
    }
   ],
   "source": [
    "array_2.dtype"
   ]
  },
  {
   "cell_type": "code",
   "execution_count": 68,
   "id": "3081ca63-4a3e-4576-9700-15e67d7ebdf5",
   "metadata": {},
   "outputs": [
    {
     "data": {
      "text/plain": [
       "array([[1., 2., 3.],\n",
       "       [4., 5., 6.],\n",
       "       [7., 8., 9.]])"
      ]
     },
     "execution_count": 68,
     "metadata": {},
     "output_type": "execute_result"
    }
   ],
   "source": [
    "array_3 = np.array(array_2, dtype='float')\n",
    "array_3"
   ]
  },
  {
   "cell_type": "code",
   "execution_count": 74,
   "id": "9902c268-5b5d-44d0-ad78-08eb19ffe23a",
   "metadata": {},
   "outputs": [
    {
     "name": "stdout",
     "output_type": "stream",
     "text": [
      "[[1 2 3]\n",
      " [4 5 6]\n",
      " [7 8 9]]\n",
      "int64\n"
     ]
    }
   ],
   "source": [
    "array_4 = array_3.astype('int')\n",
    "print(array_4)\n",
    "print(array_4.dtype)"
   ]
  },
  {
   "cell_type": "code",
   "execution_count": 107,
   "id": "1c57d3e3-a0b4-411e-9527-b82ad7b5815a",
   "metadata": {},
   "outputs": [
    {
     "data": {
      "text/plain": [
       "array([[1],\n",
       "       [2],\n",
       "       [3],\n",
       "       [4],\n",
       "       [5],\n",
       "       [6],\n",
       "       [7],\n",
       "       [8],\n",
       "       [9]])"
      ]
     },
     "execution_count": 107,
     "metadata": {},
     "output_type": "execute_result"
    }
   ],
   "source": [
    "array_4.reshape(9,1)"
   ]
  },
  {
   "cell_type": "code",
   "execution_count": 75,
   "id": "af6aadd7-3e46-49b6-9d94-807723a2a64f",
   "metadata": {},
   "outputs": [
    {
     "data": {
      "text/plain": [
       "array([0, 1, 2, 3, 4])"
      ]
     },
     "execution_count": 75,
     "metadata": {},
     "output_type": "execute_result"
    }
   ],
   "source": [
    "np.arange(5)"
   ]
  },
  {
   "cell_type": "code",
   "execution_count": 77,
   "id": "c2176335-f867-4455-a572-b36d4a777a16",
   "metadata": {},
   "outputs": [
    {
     "data": {
      "text/plain": [
       "array([ 5,  7,  9, 11, 13, 15, 17])"
      ]
     },
     "execution_count": 77,
     "metadata": {},
     "output_type": "execute_result"
    }
   ],
   "source": [
    "np.arange(5,19,2)"
   ]
  },
  {
   "cell_type": "code",
   "execution_count": 86,
   "id": "b9b17dbe-1532-4d23-9b91-096a2071cd75",
   "metadata": {},
   "outputs": [
    {
     "data": {
      "text/plain": [
       "array([0.  , 2.25, 4.5 , 6.75, 9.  ])"
      ]
     },
     "execution_count": 86,
     "metadata": {},
     "output_type": "execute_result"
    }
   ],
   "source": [
    "np.linspace(0,9,5)"
   ]
  },
  {
   "cell_type": "code",
   "execution_count": 89,
   "id": "1d951ef1-f8e9-45a3-ab88-d55b53009bf5",
   "metadata": {},
   "outputs": [
    {
     "data": {
      "text/plain": [
       "array([0.21442864, 0.22376244, 0.46163365, 0.83452629, 0.48741885,\n",
       "       0.17644723, 0.93736942, 0.86704722, 0.64338301, 0.20187959])"
      ]
     },
     "execution_count": 89,
     "metadata": {},
     "output_type": "execute_result"
    }
   ],
   "source": [
    "import numpy.random as rd\n",
    "rd.rand(10)"
   ]
  },
  {
   "cell_type": "code",
   "execution_count": 111,
   "id": "76ee5d95-2dc6-46f0-aade-67c6cac31002",
   "metadata": {},
   "outputs": [
    {
     "data": {
      "text/plain": [
       "array([4, 4, 3, 2, 3, 2, 3, 3, 4, 2])"
      ]
     },
     "execution_count": 111,
     "metadata": {},
     "output_type": "execute_result"
    }
   ],
   "source": [
    "array_5 = rd.randint(2,5,10)\n",
    "array_5"
   ]
  },
  {
   "cell_type": "code",
   "execution_count": 110,
   "id": "3fe4c2e9-2c95-4761-a3a4-4af45ff06a87",
   "metadata": {},
   "outputs": [
    {
     "data": {
      "text/plain": [
       "array([-2.16586536e+00, -1.03431787e+00, -6.07874547e-01, -1.99370333e-03,\n",
       "       -1.68383958e-01, -5.03312445e-01, -5.64270782e-01,  4.51614334e-01,\n",
       "        7.68323913e-01,  9.25589341e-02])"
      ]
     },
     "execution_count": 110,
     "metadata": {},
     "output_type": "execute_result"
    }
   ],
   "source": [
    "rd.randn(10) #normal distribution"
   ]
  },
  {
   "cell_type": "code",
   "execution_count": 146,
   "id": "150ad4c8-e55d-4f49-9533-e27fbb04f3e2",
   "metadata": {},
   "outputs": [
    {
     "data": {
      "text/plain": [
       "array([12, 13,  7,  7, 16,  5, 12, 16,  9,  7])"
      ]
     },
     "execution_count": 146,
     "metadata": {},
     "output_type": "execute_result"
    }
   ],
   "source": [
    "array_6 = np.random.randint(0,19,10)\n",
    "array_6"
   ]
  },
  {
   "cell_type": "code",
   "execution_count": 113,
   "id": "98bfa1e0-0c8d-49e8-9771-56cccbdb80f5",
   "metadata": {},
   "outputs": [
    {
     "data": {
      "text/plain": [
       "array([16,  8,  3, 20,  3, 16,  5,  6, 14, 18])"
      ]
     },
     "execution_count": 113,
     "metadata": {},
     "output_type": "execute_result"
    }
   ],
   "source": [
    "array_5 + array_6"
   ]
  },
  {
   "cell_type": "code",
   "execution_count": 116,
   "id": "a331cc7e-ca82-4cae-a9de-5288d6838ad4",
   "metadata": {},
   "outputs": [
    {
     "data": {
      "text/plain": [
       "array([16,  8,  3, 20,  3, 16,  5,  6, 14, 18])"
      ]
     },
     "execution_count": 116,
     "metadata": {},
     "output_type": "execute_result"
    }
   ],
   "source": [
    "array_5 + array_6"
   ]
  },
  {
   "cell_type": "code",
   "execution_count": 117,
   "id": "57a63406-0ad5-48ef-842c-7a14a5adfced",
   "metadata": {},
   "outputs": [
    {
     "data": {
      "text/plain": [
       "array([48, 16,  0, 36,  0, 28,  6,  9, 40, 32])"
      ]
     },
     "execution_count": 117,
     "metadata": {},
     "output_type": "execute_result"
    }
   ],
   "source": [
    "array_5 * array_6"
   ]
  },
  {
   "cell_type": "code",
   "execution_count": 119,
   "id": "03f3766e-7d24-4287-9295-013c143a1e93",
   "metadata": {},
   "outputs": [
    {
     "data": {
      "text/plain": [
       "array([40, 40, 30, 20, 30, 20, 30, 30, 40, 20])"
      ]
     },
     "execution_count": 119,
     "metadata": {},
     "output_type": "execute_result"
    }
   ],
   "source": [
    "array_5 * 10"
   ]
  },
  {
   "cell_type": "code",
   "execution_count": 122,
   "id": "df0a6324-9097-4576-aa8b-277183406b60",
   "metadata": {},
   "outputs": [
    {
     "data": {
      "text/plain": [
       "array([2.5       , 2.5       , 3.33333333, 5.        , 3.33333333,\n",
       "       5.        , 3.33333333, 3.33333333, 2.5       , 5.        ])"
      ]
     },
     "execution_count": 122,
     "metadata": {},
     "output_type": "execute_result"
    }
   ],
   "source": [
    "10 / array_5 "
   ]
  },
  {
   "cell_type": "code",
   "execution_count": 125,
   "id": "0fcac672-bd08-4228-8c96-134a2b75da7f",
   "metadata": {},
   "outputs": [
    {
     "data": {
      "text/plain": [
       "array([2, 2, 3, 5, 3, 5, 3, 3, 2, 5])"
      ]
     },
     "execution_count": 125,
     "metadata": {},
     "output_type": "execute_result"
    }
   ],
   "source": [
    "10 // array_5 "
   ]
  },
  {
   "cell_type": "code",
   "execution_count": 126,
   "id": "19be6048-665f-4ad8-965d-e4c4a0c62a92",
   "metadata": {},
   "outputs": [
    {
     "name": "stderr",
     "output_type": "stream",
     "text": [
      "/var/folders/w5/0qbzsvvx23g_63j6m77_09nm0000gn/T/ipykernel_24020/504191720.py:1: RuntimeWarning: divide by zero encountered in divide\n",
      "  array_5 / array_6\n"
     ]
    },
    {
     "data": {
      "text/plain": [
       "array([0.33333333, 1.        ,        inf, 0.11111111,        inf,\n",
       "       0.14285714, 1.5       , 1.        , 0.4       , 0.125     ])"
      ]
     },
     "execution_count": 126,
     "metadata": {},
     "output_type": "execute_result"
    }
   ],
   "source": [
    "array_5 / array_6"
   ]
  },
  {
   "cell_type": "code",
   "execution_count": 130,
   "id": "8b1ac040-a962-4f46-9ec2-a7e1d1421b8f",
   "metadata": {},
   "outputs": [
    {
     "data": {
      "text/plain": [
       "array([18,  0, 14])"
      ]
     },
     "execution_count": 130,
     "metadata": {},
     "output_type": "execute_result"
    }
   ],
   "source": [
    "array_6[3:6]"
   ]
  },
  {
   "cell_type": "code",
   "execution_count": 134,
   "id": "70174b08-6b77-4e43-bea2-38e3a92c3c21",
   "metadata": {},
   "outputs": [
    {
     "data": {
      "text/plain": [
       "array([ 0, 14,  2,  3, 10])"
      ]
     },
     "execution_count": 134,
     "metadata": {},
     "output_type": "execute_result"
    }
   ],
   "source": [
    "array_6[4:-1]"
   ]
  },
  {
   "cell_type": "code",
   "execution_count": 135,
   "id": "f41a76cf-04bb-40fc-ac43-4fa20c6ce9b6",
   "metadata": {},
   "outputs": [
    {
     "data": {
      "text/plain": [
       "array([ 0,  2, 10])"
      ]
     },
     "execution_count": 135,
     "metadata": {},
     "output_type": "execute_result"
    }
   ],
   "source": [
    "array_6[4:-1:2]"
   ]
  },
  {
   "cell_type": "code",
   "execution_count": 138,
   "id": "1f6002f2-cab3-4ac8-af5e-7f8d31d064f1",
   "metadata": {},
   "outputs": [
    {
     "data": {
      "text/plain": [
       "array([18, 14,  3, 16])"
      ]
     },
     "execution_count": 138,
     "metadata": {},
     "output_type": "execute_result"
    }
   ],
   "source": [
    "array_6[3::2]"
   ]
  },
  {
   "cell_type": "code",
   "execution_count": 141,
   "id": "0a591c85-76bc-41d9-b195-e80390dfccd2",
   "metadata": {},
   "outputs": [
    {
     "data": {
      "text/plain": [
       "array([0, 0, 0, 0, 3, 2, 3, 3, 4, 2])"
      ]
     },
     "execution_count": 141,
     "metadata": {},
     "output_type": "execute_result"
    }
   ],
   "source": [
    "array_5[0:4] = 0\n",
    "array_5"
   ]
  },
  {
   "cell_type": "code",
   "execution_count": 152,
   "id": "8ef0f651-98e0-4a92-a131-9d96bef5ba41",
   "metadata": {},
   "outputs": [
    {
     "data": {
      "text/plain": [
       "array([3, 2, 3, 3, 4, 2])"
      ]
     },
     "execution_count": 152,
     "metadata": {},
     "output_type": "execute_result"
    }
   ],
   "source": [
    "array_5b = array_5[4:]\n",
    "array_5b"
   ]
  },
  {
   "cell_type": "code",
   "execution_count": 153,
   "id": "d85f7880-7148-42e6-9f89-da4cf09a069f",
   "metadata": {},
   "outputs": [
    {
     "data": {
      "text/plain": [
       "array([0, 0, 0, 0, 0, 0])"
      ]
     },
     "execution_count": 153,
     "metadata": {},
     "output_type": "execute_result"
    }
   ],
   "source": [
    "array_5b[:] = 0\n",
    "array_5b"
   ]
  },
  {
   "cell_type": "code",
   "execution_count": 154,
   "id": "ec963b50-f354-436a-a573-688cc19a8f8f",
   "metadata": {},
   "outputs": [
    {
     "data": {
      "text/plain": [
       "array([0, 0, 0, 0, 0, 0, 0, 0, 0, 0])"
      ]
     },
     "execution_count": 154,
     "metadata": {},
     "output_type": "execute_result"
    }
   ],
   "source": [
    "array_5"
   ]
  },
  {
   "cell_type": "code",
   "execution_count": 155,
   "id": "f7d6cebe-1030-458d-8184-538b778ad5ec",
   "metadata": {},
   "outputs": [
    {
     "data": {
      "text/plain": [
       "array([0, 0, 0, 0, 0, 0])"
      ]
     },
     "execution_count": 155,
     "metadata": {},
     "output_type": "execute_result"
    }
   ],
   "source": [
    "array_5b_copy = array_5[4:].copy()\n",
    "array_5b_copy"
   ]
  },
  {
   "cell_type": "code",
   "execution_count": 206,
   "id": "0deb969a-b635-4ee0-ba49-b1729ed38176",
   "metadata": {},
   "outputs": [
    {
     "name": "stdout",
     "output_type": "stream",
     "text": [
      "[9 9 9 9 9 9]\n",
      "[0 0 0 0 0 0 0 0 0 0]\n"
     ]
    }
   ],
   "source": [
    "array_5b_copy[:] = 9\n",
    "print(array_5b_copy)\n",
    "print(array_5)"
   ]
  },
  {
   "cell_type": "code",
   "execution_count": 207,
   "id": "ad24f7b9-7edc-4754-97b6-e11d8c601451",
   "metadata": {},
   "outputs": [
    {
     "data": {
      "text/plain": [
       "array([0])"
      ]
     },
     "execution_count": 207,
     "metadata": {},
     "output_type": "execute_result"
    }
   ],
   "source": [
    "np.unique(array_5)"
   ]
  },
  {
   "cell_type": "markdown",
   "id": "04aea1fe-43bb-4ce0-b6bb-d0810ff7048d",
   "metadata": {},
   "source": [
    "### 2D array"
   ]
  },
  {
   "cell_type": "code",
   "execution_count": 168,
   "id": "9a49c697-904d-4af4-ad9f-08b94ada3449",
   "metadata": {},
   "outputs": [
    {
     "data": {
      "text/plain": [
       "array([[0, 1, 2],\n",
       "       [3, 4, 5],\n",
       "       [6, 7, 8]])"
      ]
     },
     "execution_count": 168,
     "metadata": {},
     "output_type": "execute_result"
    }
   ],
   "source": [
    "array_7 = np.array((np.arange(3),np.arange(3,6),np.arange(6,9)))\n",
    "array_7"
   ]
  },
  {
   "cell_type": "code",
   "execution_count": 212,
   "id": "19c28b61-95fc-48f9-ae02-56ca91052954",
   "metadata": {},
   "outputs": [
    {
     "data": {
      "text/plain": [
       "9"
      ]
     },
     "execution_count": 212,
     "metadata": {},
     "output_type": "execute_result"
    }
   ],
   "source": [
    "array_7.size"
   ]
  },
  {
   "cell_type": "code",
   "execution_count": 213,
   "id": "ad951022-5223-4027-b08f-38ba2cbcf0bc",
   "metadata": {},
   "outputs": [
    {
     "data": {
      "text/plain": [
       "(3, 3)"
      ]
     },
     "execution_count": 213,
     "metadata": {},
     "output_type": "execute_result"
    }
   ],
   "source": [
    "array_7.shape"
   ]
  },
  {
   "cell_type": "code",
   "execution_count": 169,
   "id": "09d35b56-c432-4b90-b351-4b357ab2d856",
   "metadata": {},
   "outputs": [
    {
     "data": {
      "text/plain": [
       "array([0, 1, 2])"
      ]
     },
     "execution_count": 169,
     "metadata": {},
     "output_type": "execute_result"
    }
   ],
   "source": [
    "array_7[0]"
   ]
  },
  {
   "cell_type": "code",
   "execution_count": 170,
   "id": "a9ffcccc-0255-4151-92ab-aeef387245d7",
   "metadata": {},
   "outputs": [
    {
     "data": {
      "text/plain": [
       "0"
      ]
     },
     "execution_count": 170,
     "metadata": {},
     "output_type": "execute_result"
    }
   ],
   "source": [
    "array_7[0][0]"
   ]
  },
  {
   "cell_type": "code",
   "execution_count": 173,
   "id": "d84ae76e-3c42-4cdb-a250-61b3492f67b6",
   "metadata": {},
   "outputs": [
    {
     "data": {
      "text/plain": [
       "1"
      ]
     },
     "execution_count": 173,
     "metadata": {},
     "output_type": "execute_result"
    }
   ],
   "source": [
    "array_7[0,1]"
   ]
  },
  {
   "cell_type": "code",
   "execution_count": 178,
   "id": "bb8c03b4-210b-447c-a933-bd6a26079286",
   "metadata": {},
   "outputs": [
    {
     "data": {
      "text/plain": [
       "array([[1, 2],\n",
       "       [4, 5]])"
      ]
     },
     "execution_count": 178,
     "metadata": {},
     "output_type": "execute_result"
    }
   ],
   "source": [
    "array_7[0:2,1:3]"
   ]
  },
  {
   "cell_type": "code",
   "execution_count": 179,
   "id": "7c54e300-45f8-450c-8fc3-ac9c23ce251a",
   "metadata": {},
   "outputs": [
    {
     "data": {
      "text/plain": [
       "array([[1, 2]])"
      ]
     },
     "execution_count": 179,
     "metadata": {},
     "output_type": "execute_result"
    }
   ],
   "source": [
    "array_7[0:1,1:]"
   ]
  },
  {
   "cell_type": "code",
   "execution_count": 180,
   "id": "0fc377a8-b2a4-449c-bdda-d7feccb19372",
   "metadata": {},
   "outputs": [
    {
     "data": {
      "text/plain": [
       "array([[ 0,  1,  2,  3],\n",
       "       [ 4,  5,  6,  7],\n",
       "       [ 8,  9, 10, 11],\n",
       "       [12, 13, 14, 15],\n",
       "       [16, 17, 18, 19],\n",
       "       [20, 21, 22, 23]])"
      ]
     },
     "execution_count": 180,
     "metadata": {},
     "output_type": "execute_result"
    }
   ],
   "source": [
    "array_8 = np.arange(24).reshape(6,4)\n",
    "array_8"
   ]
  },
  {
   "cell_type": "code",
   "execution_count": 184,
   "id": "2229e558-6332-46a1-95e8-b7a0bd629a11",
   "metadata": {},
   "outputs": [
    {
     "data": {
      "text/plain": [
       "array([[ 0,  1,  2,  3],\n",
       "       [ 8,  9, 10, 11]])"
      ]
     },
     "execution_count": 184,
     "metadata": {},
     "output_type": "execute_result"
    }
   ],
   "source": [
    "array_8[[0,2],:]"
   ]
  },
  {
   "cell_type": "code",
   "execution_count": 185,
   "id": "226bb033-ab2c-419f-994f-a8afed1ed879",
   "metadata": {},
   "outputs": [
    {
     "data": {
      "text/plain": [
       "array([[False, False, False, False],\n",
       "       [False, False, False, False],\n",
       "       [False, False, False,  True],\n",
       "       [ True,  True,  True,  True],\n",
       "       [ True,  True,  True,  True],\n",
       "       [ True,  True,  True,  True]])"
      ]
     },
     "execution_count": 185,
     "metadata": {},
     "output_type": "execute_result"
    }
   ],
   "source": [
    "array_8 > 10"
   ]
  },
  {
   "cell_type": "code",
   "execution_count": 188,
   "id": "3a72dcfc-8bf7-4c4b-98c8-a9fe3266b369",
   "metadata": {},
   "outputs": [
    {
     "data": {
      "text/plain": [
       "array([11, 12, 13, 14, 15, 16, 17, 18, 19, 20, 21, 22, 23])"
      ]
     },
     "execution_count": 188,
     "metadata": {},
     "output_type": "execute_result"
    }
   ],
   "source": [
    "array_9 = array_8 > 10\n",
    "array_8[array_9]"
   ]
  },
  {
   "cell_type": "code",
   "execution_count": 191,
   "id": "44565def-8202-4fcc-a638-bd2739d3bf7c",
   "metadata": {},
   "outputs": [
    {
     "data": {
      "text/plain": [
       "276"
      ]
     },
     "execution_count": 191,
     "metadata": {},
     "output_type": "execute_result"
    }
   ],
   "source": [
    "array_8.sum()"
   ]
  },
  {
   "cell_type": "code",
   "execution_count": 193,
   "id": "51562840-2488-4753-91ce-e4d7c8d9f99a",
   "metadata": {},
   "outputs": [
    {
     "data": {
      "text/plain": [
       "array([60, 66, 72, 78])"
      ]
     },
     "execution_count": 193,
     "metadata": {},
     "output_type": "execute_result"
    }
   ],
   "source": [
    "array_8.sum(axis = 0)"
   ]
  },
  {
   "cell_type": "code",
   "execution_count": 194,
   "id": "a5b20e7e-9441-441b-ac9d-58a6b51ead5c",
   "metadata": {},
   "outputs": [
    {
     "data": {
      "text/plain": [
       "array([ 6, 22, 38, 54, 70, 86])"
      ]
     },
     "execution_count": 194,
     "metadata": {},
     "output_type": "execute_result"
    }
   ],
   "source": [
    "array_8.sum(axis = 1)"
   ]
  },
  {
   "cell_type": "code",
   "execution_count": 196,
   "id": "8668745e-a303-47b0-ade5-935f0f9117c4",
   "metadata": {},
   "outputs": [
    {
     "data": {
      "text/plain": [
       "array([20, 21, 22, 23])"
      ]
     },
     "execution_count": 196,
     "metadata": {},
     "output_type": "execute_result"
    }
   ],
   "source": [
    "array_8.max(axis = 0)"
   ]
  },
  {
   "cell_type": "code",
   "execution_count": 199,
   "id": "4ceceafa-48d4-462e-8560-a1e70c238848",
   "metadata": {},
   "outputs": [
    {
     "data": {
      "text/plain": [
       "array([ 0,  4,  8, 12, 16, 20])"
      ]
     },
     "execution_count": 199,
     "metadata": {},
     "output_type": "execute_result"
    }
   ],
   "source": [
    "array_8.min(axis = 1)"
   ]
  },
  {
   "cell_type": "code",
   "execution_count": 203,
   "id": "81240f0e-1440-41f6-99d2-4bb482aa58ff",
   "metadata": {},
   "outputs": [
    {
     "data": {
      "text/plain": [
       "array([[ 0,  1,  2,  3],\n",
       "       [ 4,  5,  6,  7],\n",
       "       [ 8,  9, 10, 11],\n",
       "       [12, 13, 14, 15],\n",
       "       [16, 17, 18, 19],\n",
       "       [20, 21, 22, 23]])"
      ]
     },
     "execution_count": 203,
     "metadata": {},
     "output_type": "execute_result"
    }
   ],
   "source": [
    "array_8.sort(axis=0)\n",
    "array_8"
   ]
  },
  {
   "cell_type": "code",
   "execution_count": 204,
   "id": "4505e693-f5b3-4f2d-9b8a-a3b20de7910d",
   "metadata": {},
   "outputs": [
    {
     "data": {
      "text/plain": [
       "array([[ 0,  1,  2,  3],\n",
       "       [ 4,  5,  6,  7],\n",
       "       [ 8,  9, 10, 11],\n",
       "       [12, 13, 14, 15],\n",
       "       [16, 17, 18, 19],\n",
       "       [20, 21, 22, 23]])"
      ]
     },
     "execution_count": 204,
     "metadata": {},
     "output_type": "execute_result"
    }
   ],
   "source": [
    "array_8.sort(axis=1)\n",
    "array_8"
   ]
  },
  {
   "cell_type": "code",
   "execution_count": 214,
   "id": "0b0e1a6b-c9f9-4ef5-b35c-d71320a4947a",
   "metadata": {},
   "outputs": [
    {
     "data": {
      "text/plain": [
       "array([ True,  True, False, False])"
      ]
     },
     "execution_count": 214,
     "metadata": {},
     "output_type": "execute_result"
    }
   ],
   "source": [
    "array_9 = np.array([True,True,False,False])\n",
    "array_9"
   ]
  },
  {
   "cell_type": "code",
   "execution_count": 215,
   "id": "79d31d3d-8287-46e8-9723-bd379da32098",
   "metadata": {},
   "outputs": [
    {
     "data": {
      "text/plain": [
       "True"
      ]
     },
     "execution_count": 215,
     "metadata": {},
     "output_type": "execute_result"
    }
   ],
   "source": [
    "array_9.any()"
   ]
  },
  {
   "cell_type": "code",
   "execution_count": 216,
   "id": "e01ce2de-1853-47d1-8260-4c195a7da9b8",
   "metadata": {},
   "outputs": [
    {
     "data": {
      "text/plain": [
       "False"
      ]
     },
     "execution_count": 216,
     "metadata": {},
     "output_type": "execute_result"
    }
   ],
   "source": [
    "array_9.all()"
   ]
  },
  {
   "cell_type": "code",
   "execution_count": null,
   "id": "f783fae7-5de8-49b9-b352-6bb5bbbd4971",
   "metadata": {},
   "outputs": [],
   "source": []
  }
 ],
 "metadata": {
  "kernelspec": {
   "display_name": "Python 3 (ipykernel)",
   "language": "python",
   "name": "python3"
  },
  "language_info": {
   "codemirror_mode": {
    "name": "ipython",
    "version": 3
   },
   "file_extension": ".py",
   "mimetype": "text/x-python",
   "name": "python",
   "nbconvert_exporter": "python",
   "pygments_lexer": "ipython3",
   "version": "3.11.6"
  }
 },
 "nbformat": 4,
 "nbformat_minor": 5
}
