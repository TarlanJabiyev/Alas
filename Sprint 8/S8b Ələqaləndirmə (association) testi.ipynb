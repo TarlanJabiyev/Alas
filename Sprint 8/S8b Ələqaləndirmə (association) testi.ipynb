{
 "cells": [
  {
   "cell_type": "code",
   "execution_count": 1,
   "id": "63629578-54a7-4035-ae0c-a6b851585185",
   "metadata": {},
   "outputs": [],
   "source": [
    "import pandas as pd\n",
    "import numpy as np\n",
    "from scipy import stats\n",
    "from statsmodels.stats.contingency_tables import Table\n",
    "from pingouin import partial_corr\n",
    "import warnings\n",
    "warnings.filterwarnings('ignore')"
   ]
  },
  {
   "cell_type": "code",
   "execution_count": 2,
   "id": "612939ff-dfc4-4b7a-9e3d-c2c3d6ad1229",
   "metadata": {},
   "outputs": [
    {
     "data": {
      "text/html": [
       "<div>\n",
       "<style scoped>\n",
       "    .dataframe tbody tr th:only-of-type {\n",
       "        vertical-align: middle;\n",
       "    }\n",
       "\n",
       "    .dataframe tbody tr th {\n",
       "        vertical-align: top;\n",
       "    }\n",
       "\n",
       "    .dataframe thead th {\n",
       "        text-align: right;\n",
       "    }\n",
       "</style>\n",
       "<table border=\"1\" class=\"dataframe\">\n",
       "  <thead>\n",
       "    <tr style=\"text-align: right;\">\n",
       "      <th></th>\n",
       "      <th>height</th>\n",
       "      <th>weight</th>\n",
       "      <th>gender</th>\n",
       "    </tr>\n",
       "  </thead>\n",
       "  <tbody>\n",
       "    <tr>\n",
       "      <th>0</th>\n",
       "      <td>192.3</td>\n",
       "      <td>97.6</td>\n",
       "      <td>Female</td>\n",
       "    </tr>\n",
       "    <tr>\n",
       "      <th>1</th>\n",
       "      <td>186.8</td>\n",
       "      <td>95.0</td>\n",
       "      <td>Male</td>\n",
       "    </tr>\n",
       "    <tr>\n",
       "      <th>2</th>\n",
       "      <td>184.6</td>\n",
       "      <td>94.3</td>\n",
       "      <td>Male</td>\n",
       "    </tr>\n",
       "    <tr>\n",
       "      <th>3</th>\n",
       "      <td>181.6</td>\n",
       "      <td>92.3</td>\n",
       "      <td>Male</td>\n",
       "    </tr>\n",
       "    <tr>\n",
       "      <th>4</th>\n",
       "      <td>185.7</td>\n",
       "      <td>90.7</td>\n",
       "      <td>Male</td>\n",
       "    </tr>\n",
       "  </tbody>\n",
       "</table>\n",
       "</div>"
      ],
      "text/plain": [
       "   height  weight  gender\n",
       "0   192.3    97.6  Female\n",
       "1   186.8    95.0    Male\n",
       "2   184.6    94.3    Male\n",
       "3   181.6    92.3    Male\n",
       "4   185.7    90.7    Male"
      ]
     },
     "execution_count": 2,
     "metadata": {},
     "output_type": "execute_result"
    }
   ],
   "source": [
    "hw = pd.read_csv(\"hw.csv\")\n",
    "\n",
    "hw.head()"
   ]
  },
  {
   "cell_type": "markdown",
   "id": "e2ca6fb9-1388-47f2-8e95-6ab2bcf30b62",
   "metadata": {},
   "source": [
    "## \"Pearson\" korrelyasiyası"
   ]
  },
  {
   "cell_type": "raw",
   "id": "ec115595-323e-4810-a015-3d2d2123be4d",
   "metadata": {},
   "source": [
    "Subyektlərin boyu və çəkisi arasındakı əlaqənin hesablanamsı və şərhi\n",
    "\n",
    "İlkin fərziyyələr:\n",
    "    dəyişənlər normal paylanmışdır\n",
    "    əhəmiyyətli dərəcədə “outliers” yoxdur\n",
    "    dəyişənlər arasındakı əlaqə təxminən xəttidir"
   ]
  },
  {
   "cell_type": "code",
   "execution_count": 3,
   "id": "db31e3e2-d487-4e1b-b7fd-4372bc51aeb5",
   "metadata": {},
   "outputs": [],
   "source": [
    "pearson_r, pearson_p = stats.pearsonr(hw['height'], hw['weight'])"
   ]
  },
  {
   "cell_type": "code",
   "execution_count": 4,
   "id": "862be721-5591-4463-9b76-3213aeb76c2d",
   "metadata": {},
   "outputs": [
    {
     "name": "stdout",
     "output_type": "stream",
     "text": [
      "Pearson Correlation Results:\n",
      "Correlation coefficient (r): 0.807\n",
      "p-value: 0.0000\n",
      "Note: Confidence interval not computed, as it requires custom implementation.\n"
     ]
    }
   ],
   "source": [
    "print(\"Pearson Correlation Results:\")\n",
    "print(f\"Correlation coefficient (r): {pearson_r:.3f}\")\n",
    "print(f\"p-value: {pearson_p:.4f}\")\n",
    "print(\"Note: Confidence interval not computed, as it requires custom implementation.\")"
   ]
  },
  {
   "cell_type": "raw",
   "id": "fc4ede5e-81a4-443b-be2a-12503483cb77",
   "metadata": {},
   "source": [
    "r – Statistikada Pearson korrelyasiya əmsalını ifadə edən simvoldur.\n",
    "Tələffüz: \"ar\"\n",
    "Bu əmsal iki dəyişən arasındakı xətti (lineer) əlaqəni ölçür."
   ]
  },
  {
   "cell_type": "raw",
   "id": "bca85ccb-44b4-423e-8778-f5f56cc496c1",
   "metadata": {},
   "source": [
    "Korrelyasiya əmsalı (r = 0.807):\n",
    "    Çox güclü müsbət korrelyasiya deməkdir.\n",
    "    Yəni boy artdıqca çəkinin də artma meyli yüksəkdir.\n",
    "\n",
    "p-value < 0.05 (çox kiçikdir):\n",
    "    H0 fərziyyəsi (korrelyasiya yoxdur) rədd olunur.\n",
    "    Boy ilə çəki arasında statistik olaraq əhəmiyyətli bir əlaqə mövcuddur."
   ]
  },
  {
   "cell_type": "markdown",
   "id": "eb2cfda4-0053-4695-bbab-3a874e6e2802",
   "metadata": {},
   "source": [
    "## \"Spearman\" korrelyasiyası"
   ]
  },
  {
   "cell_type": "raw",
   "id": "d32f014d-a73c-4b66-964f-546cc4668052",
   "metadata": {},
   "source": [
    "Boy və çəki arasında monoton (mütəmadi artan və ya azalan) əlaqə varmı?"
   ]
  },
  {
   "cell_type": "code",
   "execution_count": 5,
   "id": "e29562f9-e14d-4224-9d70-71914bf334c1",
   "metadata": {},
   "outputs": [],
   "source": [
    "spearman_rho, spearman_p = stats.spearmanr(hw['height'], hw['weight'])"
   ]
  },
  {
   "cell_type": "code",
   "execution_count": 6,
   "id": "3d836835-4484-4474-9ea3-1e77eadb6365",
   "metadata": {},
   "outputs": [
    {
     "name": "stdout",
     "output_type": "stream",
     "text": [
      "\n",
      "Spearman Correlation Results:\n",
      "Spearman rho: 0.808\n",
      "p-value: 0.0000\n"
     ]
    }
   ],
   "source": [
    "print(\"\\nSpearman Correlation Results:\")\n",
    "print(f\"Spearman rho: {spearman_rho:.3f}\")\n",
    "print(f\"p-value: {spearman_p:.4f}\")"
   ]
  },
  {
   "cell_type": "raw",
   "id": "4d6d6148-7f89-4503-9798-51f14bdf99d0",
   "metadata": {},
   "source": [
    "\"rho\" (ρ) — yunanca \"r\" hərfinin kiçik formasıdır.\n",
    "Statistikada \"rho\" adətən Spearman korrelyasiya əmsalını ifadə etmək üçün istifadə olunur.\n",
    "Tələffüzü: \"ro\""
   ]
  },
  {
   "cell_type": "raw",
   "id": "07f70d89-32e3-4b53-a1a6-46d3d294346a",
   "metadata": {},
   "source": [
    "Spearman rho = 0.808:\n",
    "    Bu, çox güclü müsbət monoton əlaqə deməkdir.\n",
    "    Yəni boy artdıqca çəki ümumiyyətlə artır. Əlaqə xətti olmaq məcburiyyətində deyil, amma ardıcıl bir istiqamət var.\n",
    "\n",
    "#p-value < 0.05:\n",
    "  #H0 fərziyyəsi (rho = 0) rədd olunur.\n",
    "  #Statistik olaraq əhəmiyyətli bir əlaqə mövcuddur."
   ]
  },
  {
   "cell_type": "markdown",
   "id": "2b0cde12-38a5-4fac-ab5e-bdea5bdc2640",
   "metadata": {},
   "source": [
    "## \"Kendall\" korrelyasiyası"
   ]
  },
  {
   "cell_type": "raw",
   "id": "31c1cc67-5c50-4b10-a835-ad9a7aabbc47",
   "metadata": {},
   "source": [
    "Boy və çəki arasında monoton əlaqə varmı?"
   ]
  },
  {
   "cell_type": "code",
   "execution_count": 7,
   "id": "d4758562-7cf3-463d-b219-bfb83cb1ebf8",
   "metadata": {},
   "outputs": [],
   "source": [
    "kendall_tau, kendall_p = stats.kendalltau(hw['height'], hw['weight'])"
   ]
  },
  {
   "cell_type": "code",
   "execution_count": 8,
   "id": "cc3f364e-57ac-4159-ad17-840a16bfa915",
   "metadata": {},
   "outputs": [
    {
     "name": "stdout",
     "output_type": "stream",
     "text": [
      "\n",
      "Kendall Correlation Results:\n",
      "Kendall tau: 0.6225\n",
      "p-value: 0.0000\n"
     ]
    }
   ],
   "source": [
    "print(\"\\nKendall Correlation Results:\")\n",
    "print(f\"Kendall tau: {kendall_tau:.4f}\")\n",
    "print(f\"p-value: {kendall_p:.4f}\")"
   ]
  },
  {
   "cell_type": "raw",
   "id": "918c4f3c-9747-4de7-96f8-3aa4032809b8",
   "metadata": {},
   "source": [
    "\"tau\" (τ) - Yunan əlifbasında olan bir hərfdir.\n",
    "Statistikada Kendall's Tau (τ) adlanan korrelyasiya əmsalını ifadə etmək üçün istifadə olunur.\n",
    "Tələffüzü: \"tau\" (avropa dillərində “taʊ” kimi oxunur, yəni “tao”)"
   ]
  },
  {
   "cell_type": "raw",
   "id": "9d7ef75c-3fab-40ca-abd6-696f183e2916",
   "metadata": {},
   "source": [
    "Tau = 0.6225 - Bu müsbət və güclü monoton əlaqədir.\n",
    "    Yəni boy artdıqca, çəki də ümumiyyətlə artır.\n",
    "    Dəyərlər arasındakı uyğun sıralama əlaqəsi nəzərə alınır.\n",
    "\n",
    "p-value < 0.05\n",
    "    H0 fərziyyəsi (tau = 0) rədd edilir.\n",
    "    Bu o deməkdir ki, boy və çəki arasında statistik olaraq əhəmiyyətli əlaqə var."
   ]
  },
  {
   "cell_type": "markdown",
   "id": "36535511-59a2-4d37-a631-08ca0b800ab0",
   "metadata": {},
   "source": [
    "## \"Partial\" korrelyasiya"
   ]
  },
  {
   "cell_type": "code",
   "execution_count": 9,
   "id": "df66452c-faf5-4ab4-9e89-dd2c8b630381",
   "metadata": {},
   "outputs": [
    {
     "data": {
      "text/html": [
       "<div>\n",
       "<style scoped>\n",
       "    .dataframe tbody tr th:only-of-type {\n",
       "        vertical-align: middle;\n",
       "    }\n",
       "\n",
       "    .dataframe tbody tr th {\n",
       "        vertical-align: top;\n",
       "    }\n",
       "\n",
       "    .dataframe thead th {\n",
       "        text-align: right;\n",
       "    }\n",
       "</style>\n",
       "<table border=\"1\" class=\"dataframe\">\n",
       "  <thead>\n",
       "    <tr style=\"text-align: right;\">\n",
       "      <th></th>\n",
       "      <th>month</th>\n",
       "      <th>attacks</th>\n",
       "      <th>icecream</th>\n",
       "      <th>temp</th>\n",
       "    </tr>\n",
       "  </thead>\n",
       "  <tbody>\n",
       "    <tr>\n",
       "      <th>0</th>\n",
       "      <td>Jan</td>\n",
       "      <td>2</td>\n",
       "      <td>8</td>\n",
       "      <td>-5</td>\n",
       "    </tr>\n",
       "    <tr>\n",
       "      <th>1</th>\n",
       "      <td>Feb</td>\n",
       "      <td>2</td>\n",
       "      <td>7</td>\n",
       "      <td>-1</td>\n",
       "    </tr>\n",
       "    <tr>\n",
       "      <th>2</th>\n",
       "      <td>Mar</td>\n",
       "      <td>4</td>\n",
       "      <td>14</td>\n",
       "      <td>6</td>\n",
       "    </tr>\n",
       "    <tr>\n",
       "      <th>3</th>\n",
       "      <td>Apr</td>\n",
       "      <td>5</td>\n",
       "      <td>16</td>\n",
       "      <td>14</td>\n",
       "    </tr>\n",
       "    <tr>\n",
       "      <th>4</th>\n",
       "      <td>May</td>\n",
       "      <td>8</td>\n",
       "      <td>22</td>\n",
       "      <td>19</td>\n",
       "    </tr>\n",
       "  </tbody>\n",
       "</table>\n",
       "</div>"
      ],
      "text/plain": [
       "  month  attacks  icecream  temp\n",
       "0   Jan        2         8    -5\n",
       "1   Feb        2         7    -1\n",
       "2   Mar        4        14     6\n",
       "3   Apr        5        16    14\n",
       "4   May        8        22    19"
      ]
     },
     "execution_count": 9,
     "metadata": {},
     "output_type": "execute_result"
    }
   ],
   "source": [
    "ice = pd.read_csv(\"icecream.csv\")\n",
    "\n",
    "ice.head()"
   ]
  },
  {
   "cell_type": "raw",
   "id": "94640706-9aab-48c5-864b-57d33b2bd4df",
   "metadata": {},
   "source": [
    "Dondurma satışı ilə infarktların sayı arasında qismən korrelyasiyanı hesablayacağıq control variable: temperatur"
   ]
  },
  {
   "cell_type": "code",
   "execution_count": 10,
   "id": "27dac397-0536-40a9-ac00-a94ef0fdc788",
   "metadata": {},
   "outputs": [],
   "source": [
    "#Əvvəlcə dəyişənlər arasında Pearson korrelyasiyasının hesablanamsı lazımdır\n",
    "pearson_r_ice, pearson_p_ice = stats.pearsonr(ice['attacks'], ice['icecream'])"
   ]
  },
  {
   "cell_type": "code",
   "execution_count": 11,
   "id": "a7e41a1f-cb54-403c-b5bd-f70aa41599bd",
   "metadata": {},
   "outputs": [
    {
     "name": "stdout",
     "output_type": "stream",
     "text": [
      "\n",
      "Pearson Correlation (Attacks vs Ice Cream Sales):\n",
      "Correlation coefficient (r): 0.870\n",
      "p-value: 0.0000\n"
     ]
    }
   ],
   "source": [
    "print(\"\\nPearson Correlation (Attacks vs Ice Cream Sales):\")\n",
    "print(f\"Correlation coefficient (r): {pearson_r_ice:.3f}\")\n",
    "print(f\"p-value: {pearson_p_ice:.4f}\")"
   ]
  },
  {
   "cell_type": "code",
   "execution_count": 12,
   "id": "3cca63e0-c608-4b44-b770-7a639a5b5cd1",
   "metadata": {},
   "outputs": [],
   "source": [
    "partial_result = partial_corr(data=ice, x='attacks', y='icecream', covar='temp', method='pearson')\n",
    "partial_r = partial_result['r'].iloc[0]\n",
    "partial_p = partial_result['p-val'].iloc[0]"
   ]
  },
  {
   "cell_type": "code",
   "execution_count": 13,
   "id": "6215e13a-afdc-4201-97b6-2e191c9cabb0",
   "metadata": {},
   "outputs": [
    {
     "name": "stdout",
     "output_type": "stream",
     "text": [
      "\n",
      "Partial Correlation (Attacks vs Ice Cream Sales, controlling for temp):\n",
      "Partial correlation coefficient (r): 0.182\n",
      "p-value: 0.4049\n"
     ]
    }
   ],
   "source": [
    "print(\"\\nPartial Correlation (Attacks vs Ice Cream Sales, controlling for temp):\")\n",
    "print(f\"Partial correlation coefficient (r): {partial_r:.3f}\")\n",
    "print(f\"p-value: {partial_p:.4f}\")"
   ]
  },
  {
   "cell_type": "raw",
   "id": "6d1a78e5-7ca4-4fa2-81a8-80acf2d86a41",
   "metadata": {},
   "source": [
    "Temperaturun təsiri aradan qaldırıldıqda (yəni nəzarət etdikdə), dondurma satışı ilə hücum sayı arasında demək olar ki, əhəmiyyətli əlaqə qalmır.\n",
    "\n",
    "Görünən yüksək korrelyasiya: Dondurma satışı ilə hücum sayı arasında yüksək r (0.87) var\n",
    "Ancaq:\tTemperatur həm dondurma satışını, həm də hücum sayını artıran ortaq faktor ola bilər\n",
    "Partial korrelyasiya:\tTemperaturun təsirini çıxarıb araşdırdıqda, real əlaqənin zəif olduğu ortaya çıxır (r = 0.18, p > 0.4)\n",
    "\n",
    "\"Korrelasiya səbəb demək deyil\" - yəni dondurma satışlarının artması birbaşa hücumların artmasına səbəb olmur. Əsas səbəb temperaturdur."
   ]
  },
  {
   "cell_type": "markdown",
   "id": "d20c293a-6c83-47c0-837e-a3dd0c38b4ad",
   "metadata": {},
   "source": [
    "## Müstəqil dəyişən üçün \"Chi-Square\" testi"
   ]
  },
  {
   "cell_type": "code",
   "execution_count": 14,
   "id": "f84c4fa1-2dba-4038-8a52-5f33e4ddda3c",
   "metadata": {},
   "outputs": [
    {
     "data": {
      "text/html": [
       "<div>\n",
       "<style scoped>\n",
       "    .dataframe tbody tr th:only-of-type {\n",
       "        vertical-align: middle;\n",
       "    }\n",
       "\n",
       "    .dataframe tbody tr th {\n",
       "        vertical-align: top;\n",
       "    }\n",
       "\n",
       "    .dataframe thead th {\n",
       "        text-align: right;\n",
       "    }\n",
       "</style>\n",
       "<table border=\"1\" class=\"dataframe\">\n",
       "  <thead>\n",
       "    <tr style=\"text-align: right;\">\n",
       "      <th></th>\n",
       "      <th>agecat</th>\n",
       "      <th>bfast</th>\n",
       "    </tr>\n",
       "  </thead>\n",
       "  <tbody>\n",
       "    <tr>\n",
       "      <th>0</th>\n",
       "      <td>Under 31</td>\n",
       "      <td>Cereal</td>\n",
       "    </tr>\n",
       "    <tr>\n",
       "      <th>1</th>\n",
       "      <td>46-60</td>\n",
       "      <td>Breakfast Bar</td>\n",
       "    </tr>\n",
       "    <tr>\n",
       "      <th>2</th>\n",
       "      <td>Over 60</td>\n",
       "      <td>Oatmeal</td>\n",
       "    </tr>\n",
       "    <tr>\n",
       "      <th>3</th>\n",
       "      <td>31-45</td>\n",
       "      <td>Oatmeal</td>\n",
       "    </tr>\n",
       "    <tr>\n",
       "      <th>4</th>\n",
       "      <td>46-60</td>\n",
       "      <td>Oatmeal</td>\n",
       "    </tr>\n",
       "  </tbody>\n",
       "</table>\n",
       "</div>"
      ],
      "text/plain": [
       "     agecat          bfast\n",
       "0  Under 31         Cereal\n",
       "1     46-60  Breakfast Bar\n",
       "2   Over 60        Oatmeal\n",
       "3     31-45        Oatmeal\n",
       "4     46-60        Oatmeal"
      ]
     },
     "execution_count": 14,
     "metadata": {},
     "output_type": "execute_result"
    }
   ],
   "source": [
    "bf = pd.read_csv(\"breakfast.csv\")\n",
    "\n",
    "bf.head()"
   ]
  },
  {
   "cell_type": "code",
   "execution_count": 15,
   "id": "d8efbdd2-55a9-450d-97ed-ee89e04253ed",
   "metadata": {},
   "outputs": [
    {
     "data": {
      "text/html": [
       "<div>\n",
       "<style scoped>\n",
       "    .dataframe tbody tr th:only-of-type {\n",
       "        vertical-align: middle;\n",
       "    }\n",
       "\n",
       "    .dataframe tbody tr th {\n",
       "        vertical-align: top;\n",
       "    }\n",
       "\n",
       "    .dataframe thead th {\n",
       "        text-align: right;\n",
       "    }\n",
       "</style>\n",
       "<table border=\"1\" class=\"dataframe\">\n",
       "  <thead>\n",
       "    <tr style=\"text-align: right;\">\n",
       "      <th>bfast</th>\n",
       "      <th>Breakfast Bar</th>\n",
       "      <th>Cereal</th>\n",
       "      <th>Oatmeal</th>\n",
       "    </tr>\n",
       "    <tr>\n",
       "      <th>agecat</th>\n",
       "      <th></th>\n",
       "      <th></th>\n",
       "      <th></th>\n",
       "    </tr>\n",
       "  </thead>\n",
       "  <tbody>\n",
       "    <tr>\n",
       "      <th>31-45</th>\n",
       "      <td>90</td>\n",
       "      <td>92</td>\n",
       "      <td>24</td>\n",
       "    </tr>\n",
       "    <tr>\n",
       "      <th>46-60</th>\n",
       "      <td>39</td>\n",
       "      <td>95</td>\n",
       "      <td>97</td>\n",
       "    </tr>\n",
       "    <tr>\n",
       "      <th>Over 60</th>\n",
       "      <td>18</td>\n",
       "      <td>59</td>\n",
       "      <td>185</td>\n",
       "    </tr>\n",
       "    <tr>\n",
       "      <th>Under 31</th>\n",
       "      <td>84</td>\n",
       "      <td>93</td>\n",
       "      <td>4</td>\n",
       "    </tr>\n",
       "  </tbody>\n",
       "</table>\n",
       "</div>"
      ],
      "text/plain": [
       "bfast     Breakfast Bar  Cereal  Oatmeal\n",
       "agecat                                  \n",
       "31-45                90      92       24\n",
       "46-60                39      95       97\n",
       "Over 60              18      59      185\n",
       "Under 31             84      93        4"
      ]
     },
     "execution_count": 15,
     "metadata": {},
     "output_type": "execute_result"
    }
   ],
   "source": [
    "contingency_table = pd.crosstab(bf['agecat'], bf['bfast'])\n",
    "contingency_table"
   ]
  },
  {
   "cell_type": "raw",
   "id": "c9cd4f43-9cf7-42e8-9e7b-8961f24a5e42",
   "metadata": {},
   "source": [
    "\"agecat\" (yaş kateqoriyası) və \"bfast\" (səhər yeməyinə üstünlük) dəyişənləri üçün assosiasiya üçün Chi-Square Testni hesablayacağıq."
   ]
  },
  {
   "cell_type": "code",
   "execution_count": 16,
   "id": "7816a50f-a265-4b5e-acd5-0a374161fc9c",
   "metadata": {},
   "outputs": [],
   "source": [
    "chi2_stat, chi2_p, dof, expected = stats.chi2_contingency(contingency_table)"
   ]
  },
  {
   "cell_type": "code",
   "execution_count": 17,
   "id": "91291b84-3454-40a5-b870-6eb26f5a79ae",
   "metadata": {},
   "outputs": [
    {
     "name": "stdout",
     "output_type": "stream",
     "text": [
      "\n",
      "Chi-Square Test Results:\n",
      "Chi-square statistic: 309.34\n",
      "Degrees of freedom: 6\n",
      "p-value: 0.0000\n",
      "\n",
      "Expected Frequencies:\n",
      "bfast     Breakfast Bar      Cereal    Oatmeal\n",
      "agecat                                        \n",
      "31-45           54.0750   79.356818  72.568182\n",
      "46-60           60.6375   88.987500  81.375000\n",
      "Over 60         68.7750  100.929545  92.295455\n",
      "Under 31        47.5125   69.726136  63.761364\n"
     ]
    }
   ],
   "source": [
    "print(\"\\nChi-Square Test Results:\")\n",
    "print(f\"Chi-square statistic: {chi2_stat:.2f}\")\n",
    "print(f\"Degrees of freedom: {dof}\")\n",
    "print(f\"p-value: {chi2_p:.4f}\")\n",
    "print(\"\\nExpected Frequencies:\")\n",
    "print(pd.DataFrame(expected, index=contingency_table.index, columns=contingency_table.columns))"
   ]
  },
  {
   "cell_type": "raw",
   "id": "35c15b18-24d6-4999-af22-f182145014ab",
   "metadata": {},
   "source": [
    "Cədvəldə hər hüceyrədə:\n",
    "      #1ci sətrdə: müşahidə olunan say (N)\n",
    "      #2ci sətrdə: gözlənilən say (Expected N) - yaşla səhər yeməyi seçimi əlaqəsizdirsə, bu say olmalı idi.\n",
    "\n",
    "Məsələn:\n",
    "      #Yaşı 31-45 olan 90 nəfər Breakfast Bar seçib.\n",
    "      #Halbuki, əgər yaşla seçim arasında əlaqə olmasaydı, bu say 54 olmalı idi.\n",
    "      #Bu fərqlər nə qədər böyükdürsə, Chi-Kvadrat statistikası da o qədər böyük olur.\n",
    "\n",
    "Chi-Square Statistikası:\n",
    "      #Chi^2 = 309.34 - çox yüksəkdir.\n",
    "      #d.f. = (4 yaş qrupu - 1) × (3 yemək növü - 1) = 3 × 2 = 6\n",
    "      #p-value < 0.001 - çox əhəmiyyətlidir, yəni nəticə təsadüfi ola bilməz.\n",
    "\n",
    "Nəticə:\n",
    "      #Yaş kateqoriyası ilə səhər yeməyi seçimi arasında statistik olaraq əhəmiyyətli bir əlaqə var. (p < 0.001)\n",
    "      #Başqa sözlə, insanlar müxtəlif yaş qruplarında olduqca, seçdikləri səhər yeməyi növü də dəyişir."
   ]
  },
  {
   "cell_type": "raw",
   "id": "0f13b61f-1fa1-4c81-a550-65c9bd3133ca",
   "metadata": {},
   "source": [
    "Cramér's V statistikası: yaş kateqoriyası ilə səhər yeməyi seçimi arasında effekt ölçüsünü (effect size) göstərir."
   ]
  },
  {
   "cell_type": "code",
   "execution_count": 18,
   "id": "2585409c-cb9a-40ae-a1d4-62ed16d23a62",
   "metadata": {},
   "outputs": [],
   "source": [
    "n = contingency_table.sum().sum()\n",
    "phi2 = chi2_stat / n\n",
    "r, k = contingency_table.shape\n",
    "cramers_v = np.sqrt(phi2 / min(r-1, k-1))"
   ]
  },
  {
   "cell_type": "code",
   "execution_count": 19,
   "id": "446d430c-e1ed-403e-a0d9-004b4adeb522",
   "metadata": {},
   "outputs": [
    {
     "name": "stdout",
     "output_type": "stream",
     "text": [
      "\n",
      "Cramér's V:\n",
      "Cramér's V: 0.419\n"
     ]
    }
   ],
   "source": [
    "print(\"\\nCramér's V:\")\n",
    "print(f\"Cramér's V: {cramers_v:.3f}\")"
   ]
  },
  {
   "cell_type": "raw",
   "id": "49f2d1fd-51b9-454e-852a-80f6f191193c",
   "metadata": {},
   "source": [
    "Cramér's V    | Effekt ölçüsü                 |\n",
    "------------- | ----------------------------- |\n",
    "0.1 və aşağı  | Zəif (weak) əlaqə             |\n",
    "0.1 - 0.3     | Orta (moderate) əlaqə         |\n",
    "0.3 - 0.5     | Güclü (strong) əlaqə          |\n",
    "0.5 və yuxarı | Çox güclü (very strong) əlaqə |\n",
    "\n",
    "V = 0.419 - güclü əlaqə var deməkdir.\n",
    "Bu, o deməkdir ki, yaş qrupları ilə səhər yeməyi seçimi arasında statistik cəhətdən güclü bir əlaqə müşahidə olunur."
   ]
  }
 ],
 "metadata": {
  "kernelspec": {
   "display_name": "Python 3 (ipykernel)",
   "language": "python",
   "name": "python3"
  },
  "language_info": {
   "codemirror_mode": {
    "name": "ipython",
    "version": 3
   },
   "file_extension": ".py",
   "mimetype": "text/x-python",
   "name": "python",
   "nbconvert_exporter": "python",
   "pygments_lexer": "ipython3",
   "version": "3.11.7"
  }
 },
 "nbformat": 4,
 "nbformat_minor": 5
}
