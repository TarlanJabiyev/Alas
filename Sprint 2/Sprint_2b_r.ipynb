{
 "cells": [
  {
   "cell_type": "markdown",
   "id": "a0ea6798-a4af-4778-813f-1c0a070191ad",
   "metadata": {},
   "source": [
    "## Vector 2"
   ]
  },
  {
   "cell_type": "code",
   "execution_count": 1,
   "id": "00d8a1b3-58a1-4be6-9bd6-a8025b6358ec",
   "metadata": {},
   "outputs": [
    {
     "data": {
      "text/plain": [
       "NULL"
      ]
     },
     "metadata": {},
     "output_type": "display_data"
    }
   ],
   "source": [
    "vec_1 <- c(3, 19, 112, 4731)\n",
    "names(vec_1)"
   ]
  },
  {
   "cell_type": "code",
   "execution_count": 2,
   "id": "5380ed14-e8eb-450c-82f4-fc70713bc17f",
   "metadata": {},
   "outputs": [
    {
     "data": {
      "text/html": [
       "<style>\n",
       ".dl-inline {width: auto; margin:0; padding: 0}\n",
       ".dl-inline>dt, .dl-inline>dd {float: none; width: auto; display: inline-block}\n",
       ".dl-inline>dt::after {content: \":\\0020\"; padding-right: .5ex}\n",
       ".dl-inline>dt:not(:first-of-type) {padding-left: .5ex}\n",
       "</style><dl class=dl-inline><dt>1</dt><dd>3</dd><dt>2</dt><dd>19</dd><dt>3</dt><dd>112</dd><dt>4</dt><dd>4731</dd></dl>\n"
      ],
      "text/latex": [
       "\\begin{description*}\n",
       "\\item[1] 3\n",
       "\\item[2] 19\n",
       "\\item[3] 112\n",
       "\\item[4] 4731\n",
       "\\end{description*}\n"
      ],
      "text/markdown": [
       "1\n",
       ":   32\n",
       ":   193\n",
       ":   1124\n",
       ":   4731\n",
       "\n"
      ],
      "text/plain": [
       "   1    2    3    4 \n",
       "   3   19  112 4731 "
      ]
     },
     "metadata": {},
     "output_type": "display_data"
    }
   ],
   "source": [
    "names(vec_1) <- 1:4\n",
    "vec_1"
   ]
  },
  {
   "cell_type": "code",
   "execution_count": 3,
   "id": "7c4782da-c03b-4cf5-be7d-e51f318ae204",
   "metadata": {},
   "outputs": [
    {
     "data": {
      "text/html": [
       "<style>\n",
       ".dl-inline {width: auto; margin:0; padding: 0}\n",
       ".dl-inline>dt, .dl-inline>dd {float: none; width: auto; display: inline-block}\n",
       ".dl-inline>dt::after {content: \":\\0020\"; padding-right: .5ex}\n",
       ".dl-inline>dt:not(:first-of-type) {padding-left: .5ex}\n",
       "</style><dl class=dl-inline><dt>A</dt><dd>3</dd><dt>B</dt><dd>19</dd><dt>C</dt><dd>112</dd><dt>D</dt><dd>4731</dd></dl>\n"
      ],
      "text/latex": [
       "\\begin{description*}\n",
       "\\item[A] 3\n",
       "\\item[B] 19\n",
       "\\item[C] 112\n",
       "\\item[D] 4731\n",
       "\\end{description*}\n"
      ],
      "text/markdown": [
       "A\n",
       ":   3B\n",
       ":   19C\n",
       ":   112D\n",
       ":   4731\n",
       "\n"
      ],
      "text/plain": [
       "   A    B    C    D \n",
       "   3   19  112 4731 "
      ]
     },
     "metadata": {},
     "output_type": "display_data"
    }
   ],
   "source": [
    "vec_2 <- vec_1\n",
    "names(vec_2) <- c(\"A\", \"B\", \"C\", \"D\")\n",
    "vec_2"
   ]
  },
  {
   "cell_type": "code",
   "execution_count": 4,
   "id": "133a233f-3b59-4e61-b803-eeb014bef8de",
   "metadata": {},
   "outputs": [
    {
     "data": {
      "text/html": [
       "<strong>A:</strong> 3"
      ],
      "text/latex": [
       "\\textbf{A:} 3"
      ],
      "text/markdown": [
       "**A:** 3"
      ],
      "text/plain": [
       "A \n",
       "3 "
      ]
     },
     "metadata": {},
     "output_type": "display_data"
    },
    {
     "data": {
      "text/html": [
       "<strong>A:</strong> 3"
      ],
      "text/latex": [
       "\\textbf{A:} 3"
      ],
      "text/markdown": [
       "**A:** 3"
      ],
      "text/plain": [
       "A \n",
       "3 "
      ]
     },
     "metadata": {},
     "output_type": "display_data"
    }
   ],
   "source": [
    "vec_2[1]\n",
    "vec_2[\"A\"]"
   ]
  },
  {
   "cell_type": "code",
   "execution_count": 5,
   "id": "3828ff1b-41b9-4c47-bb5d-e16f6a69d359",
   "metadata": {},
   "outputs": [
    {
     "data": {
      "text/html": [
       "<style>\n",
       ".dl-inline {width: auto; margin:0; padding: 0}\n",
       ".dl-inline>dt, .dl-inline>dd {float: none; width: auto; display: inline-block}\n",
       ".dl-inline>dt::after {content: \":\\0020\"; padding-right: .5ex}\n",
       ".dl-inline>dt:not(:first-of-type) {padding-left: .5ex}\n",
       "</style><dl class=dl-inline><dt>A</dt><dd>3</dd><dt>D</dt><dd>4731</dd></dl>\n"
      ],
      "text/latex": [
       "\\begin{description*}\n",
       "\\item[A] 3\n",
       "\\item[D] 4731\n",
       "\\end{description*}\n"
      ],
      "text/markdown": [
       "A\n",
       ":   3D\n",
       ":   4731\n",
       "\n"
      ],
      "text/plain": [
       "   A    D \n",
       "   3 4731 "
      ]
     },
     "metadata": {},
     "output_type": "display_data"
    }
   ],
   "source": [
    "vec_2[c(\"A\", \"D\")]"
   ]
  },
  {
   "cell_type": "code",
   "execution_count": 6,
   "id": "a6df3416-8e75-4f8a-9239-460bd2c2e4b6",
   "metadata": {},
   "outputs": [
    {
     "data": {
      "text/html": [
       "<style>\n",
       ".dl-inline {width: auto; margin:0; padding: 0}\n",
       ".dl-inline>dt, .dl-inline>dd {float: none; width: auto; display: inline-block}\n",
       ".dl-inline>dt::after {content: \":\\0020\"; padding-right: .5ex}\n",
       ".dl-inline>dt:not(:first-of-type) {padding-left: .5ex}\n",
       "</style><dl class=dl-inline><dt>A</dt><dd>FALSE</dd><dt>B</dt><dd>FALSE</dd><dt>C</dt><dd>TRUE</dd><dt>D</dt><dd>TRUE</dd></dl>\n"
      ],
      "text/latex": [
       "\\begin{description*}\n",
       "\\item[A] FALSE\n",
       "\\item[B] FALSE\n",
       "\\item[C] TRUE\n",
       "\\item[D] TRUE\n",
       "\\end{description*}\n"
      ],
      "text/markdown": [
       "A\n",
       ":   FALSEB\n",
       ":   FALSEC\n",
       ":   TRUED\n",
       ":   TRUE\n",
       "\n"
      ],
      "text/plain": [
       "    A     B     C     D \n",
       "FALSE FALSE  TRUE  TRUE "
      ]
     },
     "metadata": {},
     "output_type": "display_data"
    }
   ],
   "source": [
    "vec_2 > 19"
   ]
  },
  {
   "cell_type": "code",
   "execution_count": 7,
   "id": "77abba75-5c7e-45b3-8e70-5c3c2af232e6",
   "metadata": {},
   "outputs": [
    {
     "data": {
      "text/html": [
       "<style>\n",
       ".dl-inline {width: auto; margin:0; padding: 0}\n",
       ".dl-inline>dt, .dl-inline>dd {float: none; width: auto; display: inline-block}\n",
       ".dl-inline>dt::after {content: \":\\0020\"; padding-right: .5ex}\n",
       ".dl-inline>dt:not(:first-of-type) {padding-left: .5ex}\n",
       "</style><dl class=dl-inline><dt>C</dt><dd>112</dd><dt>D</dt><dd>4731</dd></dl>\n"
      ],
      "text/latex": [
       "\\begin{description*}\n",
       "\\item[C] 112\n",
       "\\item[D] 4731\n",
       "\\end{description*}\n"
      ],
      "text/markdown": [
       "C\n",
       ":   112D\n",
       ":   4731\n",
       "\n"
      ],
      "text/plain": [
       "   C    D \n",
       " 112 4731 "
      ]
     },
     "metadata": {},
     "output_type": "display_data"
    }
   ],
   "source": [
    "vec_2[vec_2 > 19]"
   ]
  },
  {
   "cell_type": "code",
   "execution_count": 8,
   "id": "b724d389-f98d-46ee-8e65-87fc42a24cb0",
   "metadata": {},
   "outputs": [
    {
     "data": {
      "text/html": [
       "<style>\n",
       ".dl-inline {width: auto; margin:0; padding: 0}\n",
       ".dl-inline>dt, .dl-inline>dd {float: none; width: auto; display: inline-block}\n",
       ".dl-inline>dt::after {content: \":\\0020\"; padding-right: .5ex}\n",
       ".dl-inline>dt:not(:first-of-type) {padding-left: .5ex}\n",
       "</style><dl class=dl-inline><dt>1</dt><dd>3</dd><dt>2</dt><dd>19</dd><dt>3</dt><dd>56</dd><dt>4</dt><dd>2365.5</dd></dl>\n"
      ],
      "text/latex": [
       "\\begin{description*}\n",
       "\\item[1] 3\n",
       "\\item[2] 19\n",
       "\\item[3] 56\n",
       "\\item[4] 2365.5\n",
       "\\end{description*}\n"
      ],
      "text/markdown": [
       "1\n",
       ":   32\n",
       ":   193\n",
       ":   564\n",
       ":   2365.5\n",
       "\n"
      ],
      "text/plain": [
       "     1      2      3      4 \n",
       "   3.0   19.0   56.0 2365.5 "
      ]
     },
     "metadata": {},
     "output_type": "display_data"
    }
   ],
   "source": [
    "vec_1[vec_1 > 19] <- vec_1[vec_1 > 19] / 2\n",
    "vec_1"
   ]
  },
  {
   "cell_type": "code",
   "execution_count": 9,
   "id": "140511cd-06e3-42f6-82dc-7317f165077d",
   "metadata": {},
   "outputs": [
    {
     "data": {
      "text/html": [
       "<style>\n",
       ".dl-inline {width: auto; margin:0; padding: 0}\n",
       ".dl-inline>dt, .dl-inline>dd {float: none; width: auto; display: inline-block}\n",
       ".dl-inline>dt::after {content: \":\\0020\"; padding-right: .5ex}\n",
       ".dl-inline>dt:not(:first-of-type) {padding-left: .5ex}\n",
       "</style><dl class=dl-inline><dt>1</dt><dd>6</dd><dt>2</dt><dd>38</dd><dt>3</dt><dd>168</dd><dt>4</dt><dd>7096.5</dd></dl>\n"
      ],
      "text/latex": [
       "\\begin{description*}\n",
       "\\item[1] 6\n",
       "\\item[2] 38\n",
       "\\item[3] 168\n",
       "\\item[4] 7096.5\n",
       "\\end{description*}\n"
      ],
      "text/markdown": [
       "1\n",
       ":   62\n",
       ":   383\n",
       ":   1684\n",
       ":   7096.5\n",
       "\n"
      ],
      "text/plain": [
       "     1      2      3      4 \n",
       "   6.0   38.0  168.0 7096.5 "
      ]
     },
     "metadata": {},
     "output_type": "display_data"
    },
    {
     "data": {
      "text/html": [
       "<style>\n",
       ".dl-inline {width: auto; margin:0; padding: 0}\n",
       ".dl-inline>dt, .dl-inline>dd {float: none; width: auto; display: inline-block}\n",
       ".dl-inline>dt::after {content: \":\\0020\"; padding-right: .5ex}\n",
       ".dl-inline>dt:not(:first-of-type) {padding-left: .5ex}\n",
       "</style><dl class=dl-inline><dt>A</dt><dd>6</dd><dt>B</dt><dd>38</dd><dt>C</dt><dd>168</dd><dt>D</dt><dd>7096.5</dd></dl>\n"
      ],
      "text/latex": [
       "\\begin{description*}\n",
       "\\item[A] 6\n",
       "\\item[B] 38\n",
       "\\item[C] 168\n",
       "\\item[D] 7096.5\n",
       "\\end{description*}\n"
      ],
      "text/markdown": [
       "A\n",
       ":   6B\n",
       ":   38C\n",
       ":   168D\n",
       ":   7096.5\n",
       "\n"
      ],
      "text/plain": [
       "     A      B      C      D \n",
       "   6.0   38.0  168.0 7096.5 "
      ]
     },
     "metadata": {},
     "output_type": "display_data"
    }
   ],
   "source": [
    "vec_1 + vec_2\n",
    "vec_2 + vec_1"
   ]
  },
  {
   "cell_type": "code",
   "execution_count": 10,
   "id": "208997c3-7eda-4f9d-be45-14edcbea3dab",
   "metadata": {},
   "outputs": [
    {
     "data": {
      "text/html": [
       "<style>\n",
       ".dl-inline {width: auto; margin:0; padding: 0}\n",
       ".dl-inline>dt, .dl-inline>dd {float: none; width: auto; display: inline-block}\n",
       ".dl-inline>dt::after {content: \":\\0020\"; padding-right: .5ex}\n",
       ".dl-inline>dt:not(:first-of-type) {padding-left: .5ex}\n",
       "</style><dl class=dl-inline><dt>Z</dt><dd>3</dd><dt>B</dt><dd>19</dd><dt>C</dt><dd>56</dd><dt>F</dt><dd>2365.5</dd></dl>\n"
      ],
      "text/latex": [
       "\\begin{description*}\n",
       "\\item[Z] 3\n",
       "\\item[B] 19\n",
       "\\item[C] 56\n",
       "\\item[F] 2365.5\n",
       "\\end{description*}\n"
      ],
      "text/markdown": [
       "Z\n",
       ":   3B\n",
       ":   19C\n",
       ":   56F\n",
       ":   2365.5\n",
       "\n"
      ],
      "text/plain": [
       "     Z      B      C      F \n",
       "   3.0   19.0   56.0 2365.5 "
      ]
     },
     "metadata": {},
     "output_type": "display_data"
    }
   ],
   "source": [
    "vec_3 <- vec_1\n",
    "names(vec_3) <- c(\"Z\", \"B\", \"C\", \"F\")\n",
    "vec_3"
   ]
  },
  {
   "cell_type": "code",
   "execution_count": 11,
   "id": "f16d4ddf-3878-42f2-ac26-52f0f215959d",
   "metadata": {},
   "outputs": [
    {
     "data": {
      "text/html": [
       "<style>\n",
       ".dl-inline {width: auto; margin:0; padding: 0}\n",
       ".dl-inline>dt, .dl-inline>dd {float: none; width: auto; display: inline-block}\n",
       ".dl-inline>dt::after {content: \":\\0020\"; padding-right: .5ex}\n",
       ".dl-inline>dt:not(:first-of-type) {padding-left: .5ex}\n",
       "</style><dl class=dl-inline><dt>A</dt><dd>6</dd><dt>B</dt><dd>38</dd><dt>C</dt><dd>168</dd><dt>D</dt><dd>7096.5</dd></dl>\n"
      ],
      "text/latex": [
       "\\begin{description*}\n",
       "\\item[A] 6\n",
       "\\item[B] 38\n",
       "\\item[C] 168\n",
       "\\item[D] 7096.5\n",
       "\\end{description*}\n"
      ],
      "text/markdown": [
       "A\n",
       ":   6B\n",
       ":   38C\n",
       ":   168D\n",
       ":   7096.5\n",
       "\n"
      ],
      "text/plain": [
       "     A      B      C      D \n",
       "   6.0   38.0  168.0 7096.5 "
      ]
     },
     "metadata": {},
     "output_type": "display_data"
    }
   ],
   "source": [
    "vec_4 <- vec_2 + vec_3 \n",
    "vec_4"
   ]
  },
  {
   "cell_type": "code",
   "execution_count": 12,
   "id": "e0157cf6-8268-4e2e-a906-8877ef8c15d4",
   "metadata": {},
   "outputs": [
    {
     "data": {
      "text/html": [
       "<style>\n",
       ".dl-inline {width: auto; margin:0; padding: 0}\n",
       ".dl-inline>dt, .dl-inline>dd {float: none; width: auto; display: inline-block}\n",
       ".dl-inline>dt::after {content: \":\\0020\"; padding-right: .5ex}\n",
       ".dl-inline>dt:not(:first-of-type) {padding-left: .5ex}\n",
       "</style><dl class=dl-inline><dt>B</dt><dd>19</dd><dt>C</dt><dd>56</dd><dt>F</dt><dd>2365.5</dd><dt>Z</dt><dd>3</dd></dl>\n"
      ],
      "text/latex": [
       "\\begin{description*}\n",
       "\\item[B] 19\n",
       "\\item[C] 56\n",
       "\\item[F] 2365.5\n",
       "\\item[Z] 3\n",
       "\\end{description*}\n"
      ],
      "text/markdown": [
       "B\n",
       ":   19C\n",
       ":   56F\n",
       ":   2365.5Z\n",
       ":   3\n",
       "\n"
      ],
      "text/plain": [
       "     B      C      F      Z \n",
       "  19.0   56.0 2365.5    3.0 "
      ]
     },
     "metadata": {},
     "output_type": "display_data"
    }
   ],
   "source": [
    "vec_3[c(\"B\",\"C\",\"F\",\"Z\")]"
   ]
  },
  {
   "cell_type": "code",
   "execution_count": 13,
   "id": "10e2fba6-aad6-49e8-935e-8904099282ca",
   "metadata": {},
   "outputs": [
    {
     "data": {
      "text/html": [
       "<style>\n",
       ".dl-inline {width: auto; margin:0; padding: 0}\n",
       ".dl-inline>dt, .dl-inline>dd {float: none; width: auto; display: inline-block}\n",
       ".dl-inline>dt::after {content: \":\\0020\"; padding-right: .5ex}\n",
       ".dl-inline>dt:not(:first-of-type) {padding-left: .5ex}\n",
       "</style><dl class=dl-inline><dt>B</dt><dd>19</dd><dt>C</dt><dd>56</dd><dt>F</dt><dd>2365.5</dd><dt>Z</dt><dd>3</dd></dl>\n"
      ],
      "text/latex": [
       "\\begin{description*}\n",
       "\\item[B] 19\n",
       "\\item[C] 56\n",
       "\\item[F] 2365.5\n",
       "\\item[Z] 3\n",
       "\\end{description*}\n"
      ],
      "text/markdown": [
       "B\n",
       ":   19C\n",
       ":   56F\n",
       ":   2365.5Z\n",
       ":   3\n",
       "\n"
      ],
      "text/plain": [
       "     B      C      F      Z \n",
       "  19.0   56.0 2365.5    3.0 "
      ]
     },
     "metadata": {},
     "output_type": "display_data"
    }
   ],
   "source": [
    "vec_3[sort(names(vec_3))]"
   ]
  },
  {
   "cell_type": "code",
   "execution_count": 14,
   "id": "a2fb1bd2-1fe2-440c-9042-e135284f336a",
   "metadata": {},
   "outputs": [
    {
     "data": {
      "text/html": [
       "<style>\n",
       ".dl-inline {width: auto; margin:0; padding: 0}\n",
       ".dl-inline>dt, .dl-inline>dd {float: none; width: auto; display: inline-block}\n",
       ".dl-inline>dt::after {content: \":\\0020\"; padding-right: .5ex}\n",
       ".dl-inline>dt:not(:first-of-type) {padding-left: .5ex}\n",
       "</style><dl class=dl-inline><dt>Z</dt><dd>3</dd><dt>F</dt><dd>2365.5</dd><dt>C</dt><dd>56</dd><dt>B</dt><dd>19</dd></dl>\n"
      ],
      "text/latex": [
       "\\begin{description*}\n",
       "\\item[Z] 3\n",
       "\\item[F] 2365.5\n",
       "\\item[C] 56\n",
       "\\item[B] 19\n",
       "\\end{description*}\n"
      ],
      "text/markdown": [
       "Z\n",
       ":   3F\n",
       ":   2365.5C\n",
       ":   56B\n",
       ":   19\n",
       "\n"
      ],
      "text/plain": [
       "     Z      F      C      B \n",
       "   3.0 2365.5   56.0   19.0 "
      ]
     },
     "metadata": {},
     "output_type": "display_data"
    }
   ],
   "source": [
    "vec_3[sort(names(vec_3), decreasing = T)]"
   ]
  },
  {
   "cell_type": "code",
   "execution_count": 15,
   "id": "760521c0-7997-4c63-a896-40eb9efcf34d",
   "metadata": {},
   "outputs": [
    {
     "data": {
      "text/html": [
       "<style>\n",
       ".dl-inline {width: auto; margin:0; padding: 0}\n",
       ".dl-inline>dt, .dl-inline>dd {float: none; width: auto; display: inline-block}\n",
       ".dl-inline>dt::after {content: \":\\0020\"; padding-right: .5ex}\n",
       ".dl-inline>dt:not(:first-of-type) {padding-left: .5ex}\n",
       "</style><dl class=dl-inline><dt>B</dt><dd>19</dd><dt>C</dt><dd>56</dd><dt>F</dt><dd>2365.5</dd></dl>\n"
      ],
      "text/latex": [
       "\\begin{description*}\n",
       "\\item[B] 19\n",
       "\\item[C] 56\n",
       "\\item[F] 2365.5\n",
       "\\end{description*}\n"
      ],
      "text/markdown": [
       "B\n",
       ":   19C\n",
       ":   56F\n",
       ":   2365.5\n",
       "\n"
      ],
      "text/plain": [
       "     B      C      F \n",
       "  19.0   56.0 2365.5 "
      ]
     },
     "metadata": {},
     "output_type": "display_data"
    }
   ],
   "source": [
    "vec_3[names(vec_3) != \"Z\"]"
   ]
  },
  {
   "cell_type": "code",
   "execution_count": 16,
   "id": "3f2c4d3d-18ca-4bf3-ae24-a16fac4b7e3d",
   "metadata": {},
   "outputs": [
    {
     "data": {
      "text/html": [
       "<style>\n",
       ".dl-inline {width: auto; margin:0; padding: 0}\n",
       ".dl-inline>dt, .dl-inline>dd {float: none; width: auto; display: inline-block}\n",
       ".dl-inline>dt::after {content: \":\\0020\"; padding-right: .5ex}\n",
       ".dl-inline>dt:not(:first-of-type) {padding-left: .5ex}\n",
       "</style><dl class=dl-inline><dt>Z</dt><dd>3</dd><dt>B</dt><dd>19</dd></dl>\n"
      ],
      "text/latex": [
       "\\begin{description*}\n",
       "\\item[Z] 3\n",
       "\\item[B] 19\n",
       "\\end{description*}\n"
      ],
      "text/markdown": [
       "Z\n",
       ":   3B\n",
       ":   19\n",
       "\n"
      ],
      "text/plain": [
       " Z  B \n",
       " 3 19 "
      ]
     },
     "metadata": {},
     "output_type": "display_data"
    },
    {
     "data": {
      "text/html": [
       "<style>\n",
       ".dl-inline {width: auto; margin:0; padding: 0}\n",
       ".dl-inline>dt, .dl-inline>dd {float: none; width: auto; display: inline-block}\n",
       ".dl-inline>dt::after {content: \":\\0020\"; padding-right: .5ex}\n",
       ".dl-inline>dt:not(:first-of-type) {padding-left: .5ex}\n",
       "</style><dl class=dl-inline><dt>Z</dt><dd>3</dd><dt>B</dt><dd>19</dd></dl>\n"
      ],
      "text/latex": [
       "\\begin{description*}\n",
       "\\item[Z] 3\n",
       "\\item[B] 19\n",
       "\\end{description*}\n"
      ],
      "text/markdown": [
       "Z\n",
       ":   3B\n",
       ":   19\n",
       "\n"
      ],
      "text/plain": [
       " Z  B \n",
       " 3 19 "
      ]
     },
     "metadata": {},
     "output_type": "display_data"
    }
   ],
   "source": [
    "vec_3[names(vec_3) != c(\"C\", \"F\")]\n",
    "vec_3[!names(vec_3) %in% c(\"C\", \"F\")]"
   ]
  },
  {
   "cell_type": "code",
   "execution_count": 17,
   "id": "4a891c95-c3c1-46ce-9ff4-aefe689de9fd",
   "metadata": {},
   "outputs": [],
   "source": [
    "vec_1 <- c(vec_1, 3, 19)"
   ]
  },
  {
   "cell_type": "code",
   "execution_count": 18,
   "id": "e1f5ab85-ed2f-4723-ae8f-1b158d9ae8a8",
   "metadata": {},
   "outputs": [
    {
     "data": {
      "text/html": [
       "<style>\n",
       ".list-inline {list-style: none; margin:0; padding: 0}\n",
       ".list-inline>li {display: inline-block}\n",
       ".list-inline>li:not(:last-child)::after {content: \"\\00b7\"; padding: 0 .5ex}\n",
       "</style>\n",
       "<ol class=list-inline><li>'1'</li><li>'2'</li><li>'3'</li><li>'4'</li><li>'5'</li><li>'6'</li></ol>\n"
      ],
      "text/latex": [
       "\\begin{enumerate*}\n",
       "\\item '1'\n",
       "\\item '2'\n",
       "\\item '3'\n",
       "\\item '4'\n",
       "\\item '5'\n",
       "\\item '6'\n",
       "\\end{enumerate*}\n"
      ],
      "text/markdown": [
       "1. '1'\n",
       "2. '2'\n",
       "3. '3'\n",
       "4. '4'\n",
       "5. '5'\n",
       "6. '6'\n",
       "\n",
       "\n"
      ],
      "text/plain": [
       "[1] \"1\" \"2\" \"3\" \"4\" \"5\" \"6\""
      ]
     },
     "metadata": {},
     "output_type": "display_data"
    }
   ],
   "source": [
    "names(vec_1)[5:6] <- 5:6\n",
    "names(vec_1)"
   ]
  },
  {
   "cell_type": "code",
   "execution_count": 19,
   "id": "fcd8aa87-2626-4452-9bb8-729f6986f111",
   "metadata": {},
   "outputs": [
    {
     "data": {
      "text/html": [
       "<style>\n",
       ".dl-inline {width: auto; margin:0; padding: 0}\n",
       ".dl-inline>dt, .dl-inline>dd {float: none; width: auto; display: inline-block}\n",
       ".dl-inline>dt::after {content: \":\\0020\"; padding-right: .5ex}\n",
       ".dl-inline>dt:not(:first-of-type) {padding-left: .5ex}\n",
       "</style><dl class=dl-inline><dt>1</dt><dd>3</dd><dt>2</dt><dd>19</dd><dt>3</dt><dd>56</dd><dt>4</dt><dd>2365.5</dd><dt>5</dt><dd>3</dd><dt>6</dt><dd>19</dd></dl>\n"
      ],
      "text/latex": [
       "\\begin{description*}\n",
       "\\item[1] 3\n",
       "\\item[2] 19\n",
       "\\item[3] 56\n",
       "\\item[4] 2365.5\n",
       "\\item[5] 3\n",
       "\\item[6] 19\n",
       "\\end{description*}\n"
      ],
      "text/markdown": [
       "1\n",
       ":   32\n",
       ":   193\n",
       ":   564\n",
       ":   2365.55\n",
       ":   36\n",
       ":   19\n",
       "\n"
      ],
      "text/plain": [
       "     1      2      3      4      5      6 \n",
       "   3.0   19.0   56.0 2365.5    3.0   19.0 "
      ]
     },
     "metadata": {},
     "output_type": "display_data"
    },
    {
     "data": {
      "text/html": [
       "<style>\n",
       ".dl-inline {width: auto; margin:0; padding: 0}\n",
       ".dl-inline>dt, .dl-inline>dd {float: none; width: auto; display: inline-block}\n",
       ".dl-inline>dt::after {content: \":\\0020\"; padding-right: .5ex}\n",
       ".dl-inline>dt:not(:first-of-type) {padding-left: .5ex}\n",
       "</style><dl class=dl-inline><dt>A</dt><dd>3</dd><dt>B</dt><dd>19</dd><dt>C</dt><dd>112</dd><dt>D</dt><dd>4731</dd></dl>\n"
      ],
      "text/latex": [
       "\\begin{description*}\n",
       "\\item[A] 3\n",
       "\\item[B] 19\n",
       "\\item[C] 112\n",
       "\\item[D] 4731\n",
       "\\end{description*}\n"
      ],
      "text/markdown": [
       "A\n",
       ":   3B\n",
       ":   19C\n",
       ":   112D\n",
       ":   4731\n",
       "\n"
      ],
      "text/plain": [
       "   A    B    C    D \n",
       "   3   19  112 4731 "
      ]
     },
     "metadata": {},
     "output_type": "display_data"
    },
    {
     "data": {
      "text/html": [
       "<style>\n",
       ".dl-inline {width: auto; margin:0; padding: 0}\n",
       ".dl-inline>dt, .dl-inline>dd {float: none; width: auto; display: inline-block}\n",
       ".dl-inline>dt::after {content: \":\\0020\"; padding-right: .5ex}\n",
       ".dl-inline>dt:not(:first-of-type) {padding-left: .5ex}\n",
       "</style><dl class=dl-inline><dt>Z</dt><dd>3</dd><dt>B</dt><dd>19</dd><dt>C</dt><dd>56</dd><dt>F</dt><dd>2365.5</dd></dl>\n"
      ],
      "text/latex": [
       "\\begin{description*}\n",
       "\\item[Z] 3\n",
       "\\item[B] 19\n",
       "\\item[C] 56\n",
       "\\item[F] 2365.5\n",
       "\\end{description*}\n"
      ],
      "text/markdown": [
       "Z\n",
       ":   3B\n",
       ":   19C\n",
       ":   56F\n",
       ":   2365.5\n",
       "\n"
      ],
      "text/plain": [
       "     Z      B      C      F \n",
       "   3.0   19.0   56.0 2365.5 "
      ]
     },
     "metadata": {},
     "output_type": "display_data"
    }
   ],
   "source": [
    "vec_1\n",
    "vec_2\n",
    "vec_3"
   ]
  },
  {
   "cell_type": "code",
   "execution_count": 20,
   "id": "b2de2596-d23a-4801-9544-71930870e0f6",
   "metadata": {},
   "outputs": [
    {
     "data": {
      "text/html": [
       "<table class=\"dataframe\">\n",
       "<caption>A matrix: 2 × 6 of type dbl</caption>\n",
       "<thead>\n",
       "\t<tr><th></th><th scope=col>1</th><th scope=col>2</th><th scope=col>3</th><th scope=col>4</th><th scope=col>5</th><th scope=col>6</th></tr>\n",
       "</thead>\n",
       "<tbody>\n",
       "\t<tr><th scope=row>vec_1</th><td>3</td><td>19</td><td>56</td><td>2365.5</td><td>3</td><td>19</td></tr>\n",
       "\t<tr><th scope=row>vec_1</th><td>3</td><td>19</td><td>56</td><td>2365.5</td><td>3</td><td>19</td></tr>\n",
       "</tbody>\n",
       "</table>\n"
      ],
      "text/latex": [
       "A matrix: 2 × 6 of type dbl\n",
       "\\begin{tabular}{r|llllll}\n",
       "  & 1 & 2 & 3 & 4 & 5 & 6\\\\\n",
       "\\hline\n",
       "\tvec\\_1 & 3 & 19 & 56 & 2365.5 & 3 & 19\\\\\n",
       "\tvec\\_1 & 3 & 19 & 56 & 2365.5 & 3 & 19\\\\\n",
       "\\end{tabular}\n"
      ],
      "text/markdown": [
       "\n",
       "A matrix: 2 × 6 of type dbl\n",
       "\n",
       "| <!--/--> | 1 | 2 | 3 | 4 | 5 | 6 |\n",
       "|---|---|---|---|---|---|---|\n",
       "| vec_1 | 3 | 19 | 56 | 2365.5 | 3 | 19 |\n",
       "| vec_1 | 3 | 19 | 56 | 2365.5 | 3 | 19 |\n",
       "\n"
      ],
      "text/plain": [
       "      1 2  3  4      5 6 \n",
       "vec_1 3 19 56 2365.5 3 19\n",
       "vec_1 3 19 56 2365.5 3 19"
      ]
     },
     "metadata": {},
     "output_type": "display_data"
    }
   ],
   "source": [
    "rbind(vec_1, vec_1)"
   ]
  },
  {
   "cell_type": "code",
   "execution_count": 21,
   "id": "0e63469d-c386-431d-b477-e7e78a6a78e7",
   "metadata": {},
   "outputs": [
    {
     "data": {
      "text/html": [
       "<table class=\"dataframe\">\n",
       "<caption>A matrix: 6 × 2 of type dbl</caption>\n",
       "<thead>\n",
       "\t<tr><th></th><th scope=col>vec_1</th><th scope=col>vec_1</th></tr>\n",
       "</thead>\n",
       "<tbody>\n",
       "\t<tr><th scope=row>1</th><td>   3.0</td><td>   3.0</td></tr>\n",
       "\t<tr><th scope=row>2</th><td>  19.0</td><td>  19.0</td></tr>\n",
       "\t<tr><th scope=row>3</th><td>  56.0</td><td>  56.0</td></tr>\n",
       "\t<tr><th scope=row>4</th><td>2365.5</td><td>2365.5</td></tr>\n",
       "\t<tr><th scope=row>5</th><td>   3.0</td><td>   3.0</td></tr>\n",
       "\t<tr><th scope=row>6</th><td>  19.0</td><td>  19.0</td></tr>\n",
       "</tbody>\n",
       "</table>\n"
      ],
      "text/latex": [
       "A matrix: 6 × 2 of type dbl\n",
       "\\begin{tabular}{r|ll}\n",
       "  & vec\\_1 & vec\\_1\\\\\n",
       "\\hline\n",
       "\t1 &    3.0 &    3.0\\\\\n",
       "\t2 &   19.0 &   19.0\\\\\n",
       "\t3 &   56.0 &   56.0\\\\\n",
       "\t4 & 2365.5 & 2365.5\\\\\n",
       "\t5 &    3.0 &    3.0\\\\\n",
       "\t6 &   19.0 &   19.0\\\\\n",
       "\\end{tabular}\n"
      ],
      "text/markdown": [
       "\n",
       "A matrix: 6 × 2 of type dbl\n",
       "\n",
       "| <!--/--> | vec_1 | vec_1 |\n",
       "|---|---|---|\n",
       "| 1 |    3.0 |    3.0 |\n",
       "| 2 |   19.0 |   19.0 |\n",
       "| 3 |   56.0 |   56.0 |\n",
       "| 4 | 2365.5 | 2365.5 |\n",
       "| 5 |    3.0 |    3.0 |\n",
       "| 6 |   19.0 |   19.0 |\n",
       "\n"
      ],
      "text/plain": [
       "  vec_1  vec_1 \n",
       "1    3.0    3.0\n",
       "2   19.0   19.0\n",
       "3   56.0   56.0\n",
       "4 2365.5 2365.5\n",
       "5    3.0    3.0\n",
       "6   19.0   19.0"
      ]
     },
     "metadata": {},
     "output_type": "display_data"
    }
   ],
   "source": [
    "cbind(vec_1, vec_1)"
   ]
  },
  {
   "cell_type": "code",
   "execution_count": 22,
   "id": "d6c7d665-7718-4b34-a7c8-a9c991d7afbb",
   "metadata": {},
   "outputs": [
    {
     "name": "stderr",
     "output_type": "stream",
     "text": [
      "Warning message in rbind(vec_1, vec_2):\n",
      "“number of columns of result is not a multiple of vector length (arg 2)”\n"
     ]
    },
    {
     "data": {
      "text/html": [
       "<table class=\"dataframe\">\n",
       "<caption>A matrix: 2 × 6 of type dbl</caption>\n",
       "<thead>\n",
       "\t<tr><th></th><th scope=col>1</th><th scope=col>2</th><th scope=col>3</th><th scope=col>4</th><th scope=col>5</th><th scope=col>6</th></tr>\n",
       "</thead>\n",
       "<tbody>\n",
       "\t<tr><th scope=row>vec_1</th><td>3</td><td>19</td><td> 56</td><td>2365.5</td><td>3</td><td>19</td></tr>\n",
       "\t<tr><th scope=row>vec_2</th><td>3</td><td>19</td><td>112</td><td>4731.0</td><td>3</td><td>19</td></tr>\n",
       "</tbody>\n",
       "</table>\n"
      ],
      "text/latex": [
       "A matrix: 2 × 6 of type dbl\n",
       "\\begin{tabular}{r|llllll}\n",
       "  & 1 & 2 & 3 & 4 & 5 & 6\\\\\n",
       "\\hline\n",
       "\tvec\\_1 & 3 & 19 &  56 & 2365.5 & 3 & 19\\\\\n",
       "\tvec\\_2 & 3 & 19 & 112 & 4731.0 & 3 & 19\\\\\n",
       "\\end{tabular}\n"
      ],
      "text/markdown": [
       "\n",
       "A matrix: 2 × 6 of type dbl\n",
       "\n",
       "| <!--/--> | 1 | 2 | 3 | 4 | 5 | 6 |\n",
       "|---|---|---|---|---|---|---|\n",
       "| vec_1 | 3 | 19 |  56 | 2365.5 | 3 | 19 |\n",
       "| vec_2 | 3 | 19 | 112 | 4731.0 | 3 | 19 |\n",
       "\n"
      ],
      "text/plain": [
       "      1 2  3   4      5 6 \n",
       "vec_1 3 19  56 2365.5 3 19\n",
       "vec_2 3 19 112 4731.0 3 19"
      ]
     },
     "metadata": {},
     "output_type": "display_data"
    },
    {
     "name": "stderr",
     "output_type": "stream",
     "text": [
      "Warning message in rbind(vec_2, vec_1):\n",
      "“number of columns of result is not a multiple of vector length (arg 1)”\n"
     ]
    },
    {
     "data": {
      "text/html": [
       "<table class=\"dataframe\">\n",
       "<caption>A matrix: 2 × 6 of type dbl</caption>\n",
       "<thead>\n",
       "\t<tr><th></th><th scope=col>1</th><th scope=col>2</th><th scope=col>3</th><th scope=col>4</th><th scope=col>5</th><th scope=col>6</th></tr>\n",
       "</thead>\n",
       "<tbody>\n",
       "\t<tr><th scope=row>vec_2</th><td>3</td><td>19</td><td>112</td><td>4731.0</td><td>3</td><td>19</td></tr>\n",
       "\t<tr><th scope=row>vec_1</th><td>3</td><td>19</td><td> 56</td><td>2365.5</td><td>3</td><td>19</td></tr>\n",
       "</tbody>\n",
       "</table>\n"
      ],
      "text/latex": [
       "A matrix: 2 × 6 of type dbl\n",
       "\\begin{tabular}{r|llllll}\n",
       "  & 1 & 2 & 3 & 4 & 5 & 6\\\\\n",
       "\\hline\n",
       "\tvec\\_2 & 3 & 19 & 112 & 4731.0 & 3 & 19\\\\\n",
       "\tvec\\_1 & 3 & 19 &  56 & 2365.5 & 3 & 19\\\\\n",
       "\\end{tabular}\n"
      ],
      "text/markdown": [
       "\n",
       "A matrix: 2 × 6 of type dbl\n",
       "\n",
       "| <!--/--> | 1 | 2 | 3 | 4 | 5 | 6 |\n",
       "|---|---|---|---|---|---|---|\n",
       "| vec_2 | 3 | 19 | 112 | 4731.0 | 3 | 19 |\n",
       "| vec_1 | 3 | 19 |  56 | 2365.5 | 3 | 19 |\n",
       "\n"
      ],
      "text/plain": [
       "      1 2  3   4      5 6 \n",
       "vec_2 3 19 112 4731.0 3 19\n",
       "vec_1 3 19  56 2365.5 3 19"
      ]
     },
     "metadata": {},
     "output_type": "display_data"
    }
   ],
   "source": [
    "rbind(vec_1, vec_2)\n",
    "rbind(vec_2, vec_1)"
   ]
  },
  {
   "cell_type": "code",
   "execution_count": 23,
   "id": "d3569bd3-465a-41b0-8796-08a8ae99c857",
   "metadata": {},
   "outputs": [
    {
     "name": "stderr",
     "output_type": "stream",
     "text": [
      "Warning message in rbind(vec_1, vec_2):\n",
      "“number of columns of result is not a multiple of vector length (arg 2)”\n"
     ]
    },
    {
     "data": {
      "text/html": [
       "<table class=\"dataframe\">\n",
       "<caption>A matrix: 2 × 6 of type dbl</caption>\n",
       "<thead>\n",
       "\t<tr><th></th><th scope=col>1</th><th scope=col>2</th><th scope=col>3</th><th scope=col>4</th><th scope=col>5</th><th scope=col>6</th></tr>\n",
       "</thead>\n",
       "<tbody>\n",
       "\t<tr><th scope=row>vec_1</th><td>3</td><td>19</td><td> 56</td><td>2365.5</td><td>3</td><td>19</td></tr>\n",
       "\t<tr><th scope=row>vec_2</th><td>3</td><td>19</td><td>112</td><td>4731.0</td><td>3</td><td>19</td></tr>\n",
       "</tbody>\n",
       "</table>\n"
      ],
      "text/latex": [
       "A matrix: 2 × 6 of type dbl\n",
       "\\begin{tabular}{r|llllll}\n",
       "  & 1 & 2 & 3 & 4 & 5 & 6\\\\\n",
       "\\hline\n",
       "\tvec\\_1 & 3 & 19 &  56 & 2365.5 & 3 & 19\\\\\n",
       "\tvec\\_2 & 3 & 19 & 112 & 4731.0 & 3 & 19\\\\\n",
       "\\end{tabular}\n"
      ],
      "text/markdown": [
       "\n",
       "A matrix: 2 × 6 of type dbl\n",
       "\n",
       "| <!--/--> | 1 | 2 | 3 | 4 | 5 | 6 |\n",
       "|---|---|---|---|---|---|---|\n",
       "| vec_1 | 3 | 19 |  56 | 2365.5 | 3 | 19 |\n",
       "| vec_2 | 3 | 19 | 112 | 4731.0 | 3 | 19 |\n",
       "\n"
      ],
      "text/plain": [
       "      1 2  3   4      5 6 \n",
       "vec_1 3 19  56 2365.5 3 19\n",
       "vec_2 3 19 112 4731.0 3 19"
      ]
     },
     "metadata": {},
     "output_type": "display_data"
    },
    {
     "name": "stderr",
     "output_type": "stream",
     "text": [
      "Warning message in rbind(vec_2, vec_1):\n",
      "“number of columns of result is not a multiple of vector length (arg 1)”\n"
     ]
    },
    {
     "data": {
      "text/html": [
       "<table class=\"dataframe\">\n",
       "<caption>A matrix: 2 × 6 of type dbl</caption>\n",
       "<thead>\n",
       "\t<tr><th></th><th scope=col>1</th><th scope=col>2</th><th scope=col>3</th><th scope=col>4</th><th scope=col>5</th><th scope=col>6</th></tr>\n",
       "</thead>\n",
       "<tbody>\n",
       "\t<tr><th scope=row>vec_2</th><td>3</td><td>19</td><td>112</td><td>4731.0</td><td>3</td><td>19</td></tr>\n",
       "\t<tr><th scope=row>vec_1</th><td>3</td><td>19</td><td> 56</td><td>2365.5</td><td>3</td><td>19</td></tr>\n",
       "</tbody>\n",
       "</table>\n"
      ],
      "text/latex": [
       "A matrix: 2 × 6 of type dbl\n",
       "\\begin{tabular}{r|llllll}\n",
       "  & 1 & 2 & 3 & 4 & 5 & 6\\\\\n",
       "\\hline\n",
       "\tvec\\_2 & 3 & 19 & 112 & 4731.0 & 3 & 19\\\\\n",
       "\tvec\\_1 & 3 & 19 &  56 & 2365.5 & 3 & 19\\\\\n",
       "\\end{tabular}\n"
      ],
      "text/markdown": [
       "\n",
       "A matrix: 2 × 6 of type dbl\n",
       "\n",
       "| <!--/--> | 1 | 2 | 3 | 4 | 5 | 6 |\n",
       "|---|---|---|---|---|---|---|\n",
       "| vec_2 | 3 | 19 | 112 | 4731.0 | 3 | 19 |\n",
       "| vec_1 | 3 | 19 |  56 | 2365.5 | 3 | 19 |\n",
       "\n"
      ],
      "text/plain": [
       "      1 2  3   4      5 6 \n",
       "vec_2 3 19 112 4731.0 3 19\n",
       "vec_1 3 19  56 2365.5 3 19"
      ]
     },
     "metadata": {},
     "output_type": "display_data"
    }
   ],
   "source": [
    "rbind(vec_1, vec_2)\n",
    "rbind(vec_2, vec_1)"
   ]
  },
  {
   "cell_type": "code",
   "execution_count": 24,
   "id": "4304297d-a4fc-40c7-be06-2bf2096d981d",
   "metadata": {},
   "outputs": [
    {
     "name": "stderr",
     "output_type": "stream",
     "text": [
      "Warning message in cbind(vec_1, vec_3):\n",
      "“number of rows of result is not a multiple of vector length (arg 2)”\n"
     ]
    },
    {
     "data": {
      "text/html": [
       "<table class=\"dataframe\">\n",
       "<caption>A matrix: 6 × 2 of type dbl</caption>\n",
       "<thead>\n",
       "\t<tr><th></th><th scope=col>vec_1</th><th scope=col>vec_3</th></tr>\n",
       "</thead>\n",
       "<tbody>\n",
       "\t<tr><th scope=row>1</th><td>   3.0</td><td>   3.0</td></tr>\n",
       "\t<tr><th scope=row>2</th><td>  19.0</td><td>  19.0</td></tr>\n",
       "\t<tr><th scope=row>3</th><td>  56.0</td><td>  56.0</td></tr>\n",
       "\t<tr><th scope=row>4</th><td>2365.5</td><td>2365.5</td></tr>\n",
       "\t<tr><th scope=row>5</th><td>   3.0</td><td>   3.0</td></tr>\n",
       "\t<tr><th scope=row>6</th><td>  19.0</td><td>  19.0</td></tr>\n",
       "</tbody>\n",
       "</table>\n"
      ],
      "text/latex": [
       "A matrix: 6 × 2 of type dbl\n",
       "\\begin{tabular}{r|ll}\n",
       "  & vec\\_1 & vec\\_3\\\\\n",
       "\\hline\n",
       "\t1 &    3.0 &    3.0\\\\\n",
       "\t2 &   19.0 &   19.0\\\\\n",
       "\t3 &   56.0 &   56.0\\\\\n",
       "\t4 & 2365.5 & 2365.5\\\\\n",
       "\t5 &    3.0 &    3.0\\\\\n",
       "\t6 &   19.0 &   19.0\\\\\n",
       "\\end{tabular}\n"
      ],
      "text/markdown": [
       "\n",
       "A matrix: 6 × 2 of type dbl\n",
       "\n",
       "| <!--/--> | vec_1 | vec_3 |\n",
       "|---|---|---|\n",
       "| 1 |    3.0 |    3.0 |\n",
       "| 2 |   19.0 |   19.0 |\n",
       "| 3 |   56.0 |   56.0 |\n",
       "| 4 | 2365.5 | 2365.5 |\n",
       "| 5 |    3.0 |    3.0 |\n",
       "| 6 |   19.0 |   19.0 |\n",
       "\n"
      ],
      "text/plain": [
       "  vec_1  vec_3 \n",
       "1    3.0    3.0\n",
       "2   19.0   19.0\n",
       "3   56.0   56.0\n",
       "4 2365.5 2365.5\n",
       "5    3.0    3.0\n",
       "6   19.0   19.0"
      ]
     },
     "metadata": {},
     "output_type": "display_data"
    },
    {
     "name": "stderr",
     "output_type": "stream",
     "text": [
      "Warning message in cbind(vec_3, vec_1):\n",
      "“number of rows of result is not a multiple of vector length (arg 1)”\n"
     ]
    },
    {
     "data": {
      "text/html": [
       "<table class=\"dataframe\">\n",
       "<caption>A matrix: 6 × 2 of type dbl</caption>\n",
       "<thead>\n",
       "\t<tr><th></th><th scope=col>vec_3</th><th scope=col>vec_1</th></tr>\n",
       "</thead>\n",
       "<tbody>\n",
       "\t<tr><th scope=row>1</th><td>   3.0</td><td>   3.0</td></tr>\n",
       "\t<tr><th scope=row>2</th><td>  19.0</td><td>  19.0</td></tr>\n",
       "\t<tr><th scope=row>3</th><td>  56.0</td><td>  56.0</td></tr>\n",
       "\t<tr><th scope=row>4</th><td>2365.5</td><td>2365.5</td></tr>\n",
       "\t<tr><th scope=row>5</th><td>   3.0</td><td>   3.0</td></tr>\n",
       "\t<tr><th scope=row>6</th><td>  19.0</td><td>  19.0</td></tr>\n",
       "</tbody>\n",
       "</table>\n"
      ],
      "text/latex": [
       "A matrix: 6 × 2 of type dbl\n",
       "\\begin{tabular}{r|ll}\n",
       "  & vec\\_3 & vec\\_1\\\\\n",
       "\\hline\n",
       "\t1 &    3.0 &    3.0\\\\\n",
       "\t2 &   19.0 &   19.0\\\\\n",
       "\t3 &   56.0 &   56.0\\\\\n",
       "\t4 & 2365.5 & 2365.5\\\\\n",
       "\t5 &    3.0 &    3.0\\\\\n",
       "\t6 &   19.0 &   19.0\\\\\n",
       "\\end{tabular}\n"
      ],
      "text/markdown": [
       "\n",
       "A matrix: 6 × 2 of type dbl\n",
       "\n",
       "| <!--/--> | vec_3 | vec_1 |\n",
       "|---|---|---|\n",
       "| 1 |    3.0 |    3.0 |\n",
       "| 2 |   19.0 |   19.0 |\n",
       "| 3 |   56.0 |   56.0 |\n",
       "| 4 | 2365.5 | 2365.5 |\n",
       "| 5 |    3.0 |    3.0 |\n",
       "| 6 |   19.0 |   19.0 |\n",
       "\n"
      ],
      "text/plain": [
       "  vec_3  vec_1 \n",
       "1    3.0    3.0\n",
       "2   19.0   19.0\n",
       "3   56.0   56.0\n",
       "4 2365.5 2365.5\n",
       "5    3.0    3.0\n",
       "6   19.0   19.0"
      ]
     },
     "metadata": {},
     "output_type": "display_data"
    }
   ],
   "source": [
    "cbind(vec_1, vec_3)\n",
    "cbind(vec_3, vec_1)"
   ]
  },
  {
   "cell_type": "markdown",
   "id": "6e077260-e86d-4d64-af7f-ad914f7996dc",
   "metadata": {},
   "source": [
    "## Matrix"
   ]
  },
  {
   "cell_type": "code",
   "execution_count": 25,
   "id": "ee526691-34ea-4939-b52b-7d07d382515e",
   "metadata": {},
   "outputs": [
    {
     "data": {
      "text/html": [
       "<table class=\"dataframe\">\n",
       "<caption>A matrix: 3 × 3 of type int</caption>\n",
       "<tbody>\n",
       "\t<tr><td>1</td><td>4</td><td>7</td></tr>\n",
       "\t<tr><td>2</td><td>5</td><td>8</td></tr>\n",
       "\t<tr><td>3</td><td>6</td><td>9</td></tr>\n",
       "</tbody>\n",
       "</table>\n"
      ],
      "text/latex": [
       "A matrix: 3 × 3 of type int\n",
       "\\begin{tabular}{lll}\n",
       "\t 1 & 4 & 7\\\\\n",
       "\t 2 & 5 & 8\\\\\n",
       "\t 3 & 6 & 9\\\\\n",
       "\\end{tabular}\n"
      ],
      "text/markdown": [
       "\n",
       "A matrix: 3 × 3 of type int\n",
       "\n",
       "| 1 | 4 | 7 |\n",
       "| 2 | 5 | 8 |\n",
       "| 3 | 6 | 9 |\n",
       "\n"
      ],
      "text/plain": [
       "     [,1] [,2] [,3]\n",
       "[1,] 1    4    7   \n",
       "[2,] 2    5    8   \n",
       "[3,] 3    6    9   "
      ]
     },
     "metadata": {},
     "output_type": "display_data"
    }
   ],
   "source": [
    "matrix_1 <- matrix(data = 1:9, ncol = 3, nrow = 3)\n",
    "matrix_1"
   ]
  },
  {
   "cell_type": "code",
   "execution_count": 26,
   "id": "6ba19b7d-24d2-48d9-a82a-353fc0a56b86",
   "metadata": {},
   "outputs": [
    {
     "data": {
      "text/html": [
       "<table class=\"dataframe\">\n",
       "<caption>A matrix: 3 × 3 of type int</caption>\n",
       "<tbody>\n",
       "\t<tr><td>1</td><td>2</td><td>3</td></tr>\n",
       "\t<tr><td>4</td><td>5</td><td>6</td></tr>\n",
       "\t<tr><td>7</td><td>8</td><td>9</td></tr>\n",
       "</tbody>\n",
       "</table>\n"
      ],
      "text/latex": [
       "A matrix: 3 × 3 of type int\n",
       "\\begin{tabular}{lll}\n",
       "\t 1 & 2 & 3\\\\\n",
       "\t 4 & 5 & 6\\\\\n",
       "\t 7 & 8 & 9\\\\\n",
       "\\end{tabular}\n"
      ],
      "text/markdown": [
       "\n",
       "A matrix: 3 × 3 of type int\n",
       "\n",
       "| 1 | 2 | 3 |\n",
       "| 4 | 5 | 6 |\n",
       "| 7 | 8 | 9 |\n",
       "\n"
      ],
      "text/plain": [
       "     [,1] [,2] [,3]\n",
       "[1,] 1    2    3   \n",
       "[2,] 4    5    6   \n",
       "[3,] 7    8    9   "
      ]
     },
     "metadata": {},
     "output_type": "display_data"
    }
   ],
   "source": [
    "matrix_2 <- matrix(data = 1:9, ncol = 3, nrow = 3, byrow = TRUE)\n",
    "matrix_2"
   ]
  },
  {
   "cell_type": "code",
   "execution_count": 27,
   "id": "858d415d-07d6-49f0-bc97-882db2e82141",
   "metadata": {},
   "outputs": [
    {
     "data": {
      "text/html": [
       "<table class=\"dataframe\">\n",
       "<caption>A matrix: 3 × 6 of type int</caption>\n",
       "<tbody>\n",
       "\t<tr><td>1</td><td>4</td><td>7</td><td>1</td><td>2</td><td>3</td></tr>\n",
       "\t<tr><td>2</td><td>5</td><td>8</td><td>4</td><td>5</td><td>6</td></tr>\n",
       "\t<tr><td>3</td><td>6</td><td>9</td><td>7</td><td>8</td><td>9</td></tr>\n",
       "</tbody>\n",
       "</table>\n"
      ],
      "text/latex": [
       "A matrix: 3 × 6 of type int\n",
       "\\begin{tabular}{llllll}\n",
       "\t 1 & 4 & 7 & 1 & 2 & 3\\\\\n",
       "\t 2 & 5 & 8 & 4 & 5 & 6\\\\\n",
       "\t 3 & 6 & 9 & 7 & 8 & 9\\\\\n",
       "\\end{tabular}\n"
      ],
      "text/markdown": [
       "\n",
       "A matrix: 3 × 6 of type int\n",
       "\n",
       "| 1 | 4 | 7 | 1 | 2 | 3 |\n",
       "| 2 | 5 | 8 | 4 | 5 | 6 |\n",
       "| 3 | 6 | 9 | 7 | 8 | 9 |\n",
       "\n"
      ],
      "text/plain": [
       "     [,1] [,2] [,3] [,4] [,5] [,6]\n",
       "[1,] 1    4    7    1    2    3   \n",
       "[2,] 2    5    8    4    5    6   \n",
       "[3,] 3    6    9    7    8    9   "
      ]
     },
     "metadata": {},
     "output_type": "display_data"
    }
   ],
   "source": [
    "matrix_3 <- cbind(matrix_1,matrix_2)\n",
    "matrix_3"
   ]
  },
  {
   "cell_type": "code",
   "execution_count": 28,
   "id": "b5579639-15d6-4998-8aec-0b9b2137697a",
   "metadata": {},
   "outputs": [
    {
     "data": {
      "text/html": [
       "<table class=\"dataframe\">\n",
       "<caption>A matrix: 6 × 3 of type int</caption>\n",
       "<tbody>\n",
       "\t<tr><td>1</td><td>4</td><td>7</td></tr>\n",
       "\t<tr><td>2</td><td>5</td><td>8</td></tr>\n",
       "\t<tr><td>3</td><td>6</td><td>9</td></tr>\n",
       "\t<tr><td>1</td><td>2</td><td>3</td></tr>\n",
       "\t<tr><td>4</td><td>5</td><td>6</td></tr>\n",
       "\t<tr><td>7</td><td>8</td><td>9</td></tr>\n",
       "</tbody>\n",
       "</table>\n"
      ],
      "text/latex": [
       "A matrix: 6 × 3 of type int\n",
       "\\begin{tabular}{lll}\n",
       "\t 1 & 4 & 7\\\\\n",
       "\t 2 & 5 & 8\\\\\n",
       "\t 3 & 6 & 9\\\\\n",
       "\t 1 & 2 & 3\\\\\n",
       "\t 4 & 5 & 6\\\\\n",
       "\t 7 & 8 & 9\\\\\n",
       "\\end{tabular}\n"
      ],
      "text/markdown": [
       "\n",
       "A matrix: 6 × 3 of type int\n",
       "\n",
       "| 1 | 4 | 7 |\n",
       "| 2 | 5 | 8 |\n",
       "| 3 | 6 | 9 |\n",
       "| 1 | 2 | 3 |\n",
       "| 4 | 5 | 6 |\n",
       "| 7 | 8 | 9 |\n",
       "\n"
      ],
      "text/plain": [
       "     [,1] [,2] [,3]\n",
       "[1,] 1    4    7   \n",
       "[2,] 2    5    8   \n",
       "[3,] 3    6    9   \n",
       "[4,] 1    2    3   \n",
       "[5,] 4    5    6   \n",
       "[6,] 7    8    9   "
      ]
     },
     "metadata": {},
     "output_type": "display_data"
    }
   ],
   "source": [
    "matrix_4 <- rbind(matrix_1,matrix_2)\n",
    "matrix_4"
   ]
  },
  {
   "cell_type": "code",
   "execution_count": 29,
   "id": "ca7369ac-f155-4286-bda4-fe2fb07e8ead",
   "metadata": {},
   "outputs": [
    {
     "data": {
      "text/html": [
       "8"
      ],
      "text/latex": [
       "8"
      ],
      "text/markdown": [
       "8"
      ],
      "text/plain": [
       "[1] 8"
      ]
     },
     "metadata": {},
     "output_type": "display_data"
    }
   ],
   "source": [
    "matrix_3[2,3]"
   ]
  },
  {
   "cell_type": "code",
   "execution_count": 30,
   "id": "d4f9d31f-725a-4f8f-99c1-00a642ec1417",
   "metadata": {},
   "outputs": [
    {
     "data": {
      "text/html": [
       "<style>\n",
       ".list-inline {list-style: none; margin:0; padding: 0}\n",
       ".list-inline>li {display: inline-block}\n",
       ".list-inline>li:not(:last-child)::after {content: \"\\00b7\"; padding: 0 .5ex}\n",
       "</style>\n",
       "<ol class=list-inline><li>2</li><li>5</li><li>8</li><li>4</li><li>5</li><li>6</li></ol>\n"
      ],
      "text/latex": [
       "\\begin{enumerate*}\n",
       "\\item 2\n",
       "\\item 5\n",
       "\\item 8\n",
       "\\item 4\n",
       "\\item 5\n",
       "\\item 6\n",
       "\\end{enumerate*}\n"
      ],
      "text/markdown": [
       "1. 2\n",
       "2. 5\n",
       "3. 8\n",
       "4. 4\n",
       "5. 5\n",
       "6. 6\n",
       "\n",
       "\n"
      ],
      "text/plain": [
       "[1] 2 5 8 4 5 6"
      ]
     },
     "metadata": {},
     "output_type": "display_data"
    }
   ],
   "source": [
    "matrix_3[2,]"
   ]
  },
  {
   "cell_type": "code",
   "execution_count": 31,
   "id": "8846003b-9c98-4ece-acb8-cb9bd29d525a",
   "metadata": {},
   "outputs": [
    {
     "data": {
      "text/html": [
       "<style>\n",
       ".list-inline {list-style: none; margin:0; padding: 0}\n",
       ".list-inline>li {display: inline-block}\n",
       ".list-inline>li:not(:last-child)::after {content: \"\\00b7\"; padding: 0 .5ex}\n",
       "</style>\n",
       "<ol class=list-inline><li>7</li><li>8</li><li>9</li></ol>\n"
      ],
      "text/latex": [
       "\\begin{enumerate*}\n",
       "\\item 7\n",
       "\\item 8\n",
       "\\item 9\n",
       "\\end{enumerate*}\n"
      ],
      "text/markdown": [
       "1. 7\n",
       "2. 8\n",
       "3. 9\n",
       "\n",
       "\n"
      ],
      "text/plain": [
       "[1] 7 8 9"
      ]
     },
     "metadata": {},
     "output_type": "display_data"
    }
   ],
   "source": [
    "matrix_3[,3]"
   ]
  },
  {
   "cell_type": "code",
   "execution_count": 32,
   "id": "607e0eee-7839-4d39-9758-f89473fcbe2c",
   "metadata": {},
   "outputs": [
    {
     "data": {
      "text/html": [
       "<table class=\"dataframe\">\n",
       "<caption>A matrix: 3 × 6 of type int</caption>\n",
       "<tbody>\n",
       "\t<tr><td>1</td><td>4</td><td>7</td><td>1</td><td>2</td><td>3</td></tr>\n",
       "\t<tr><td>2</td><td>5</td><td>8</td><td>4</td><td>5</td><td>6</td></tr>\n",
       "\t<tr><td>3</td><td>6</td><td>9</td><td>7</td><td>8</td><td>9</td></tr>\n",
       "</tbody>\n",
       "</table>\n"
      ],
      "text/latex": [
       "A matrix: 3 × 6 of type int\n",
       "\\begin{tabular}{llllll}\n",
       "\t 1 & 4 & 7 & 1 & 2 & 3\\\\\n",
       "\t 2 & 5 & 8 & 4 & 5 & 6\\\\\n",
       "\t 3 & 6 & 9 & 7 & 8 & 9\\\\\n",
       "\\end{tabular}\n"
      ],
      "text/markdown": [
       "\n",
       "A matrix: 3 × 6 of type int\n",
       "\n",
       "| 1 | 4 | 7 | 1 | 2 | 3 |\n",
       "| 2 | 5 | 8 | 4 | 5 | 6 |\n",
       "| 3 | 6 | 9 | 7 | 8 | 9 |\n",
       "\n"
      ],
      "text/plain": [
       "     [,1] [,2] [,3] [,4] [,5] [,6]\n",
       "[1,] 1    4    7    1    2    3   \n",
       "[2,] 2    5    8    4    5    6   \n",
       "[3,] 3    6    9    7    8    9   "
      ]
     },
     "metadata": {},
     "output_type": "display_data"
    }
   ],
   "source": [
    "matrix_3"
   ]
  },
  {
   "cell_type": "code",
   "execution_count": 33,
   "id": "2caa87c8-7084-4b17-9ed8-401c5a323571",
   "metadata": {},
   "outputs": [
    {
     "data": {
      "text/html": [
       "<table class=\"dataframe\">\n",
       "<caption>A matrix: 2 × 2 of type int</caption>\n",
       "<tbody>\n",
       "\t<tr><td>2</td><td>6</td></tr>\n",
       "\t<tr><td>3</td><td>9</td></tr>\n",
       "</tbody>\n",
       "</table>\n"
      ],
      "text/latex": [
       "A matrix: 2 × 2 of type int\n",
       "\\begin{tabular}{ll}\n",
       "\t 2 & 6\\\\\n",
       "\t 3 & 9\\\\\n",
       "\\end{tabular}\n"
      ],
      "text/markdown": [
       "\n",
       "A matrix: 2 × 2 of type int\n",
       "\n",
       "| 2 | 6 |\n",
       "| 3 | 9 |\n",
       "\n"
      ],
      "text/plain": [
       "     [,1] [,2]\n",
       "[1,] 2    6   \n",
       "[2,] 3    9   "
      ]
     },
     "metadata": {},
     "output_type": "display_data"
    }
   ],
   "source": [
    "matrix_3[2:3,c(1,6)]"
   ]
  },
  {
   "cell_type": "markdown",
   "id": "a61d412b-5e85-4542-90ce-1a32cd40ec87",
   "metadata": {},
   "source": [
    "## DataFrame"
   ]
  },
  {
   "cell_type": "code",
   "execution_count": 34,
   "id": "b60033b5-5931-4fed-992a-f860a8021947",
   "metadata": {},
   "outputs": [
    {
     "data": {
      "text/html": [
       "<table class=\"dataframe\">\n",
       "<caption>A data.frame: 6 × 3</caption>\n",
       "<thead>\n",
       "\t<tr><th scope=col>V1</th><th scope=col>V2</th><th scope=col>V3</th></tr>\n",
       "\t<tr><th scope=col>&lt;int&gt;</th><th scope=col>&lt;int&gt;</th><th scope=col>&lt;int&gt;</th></tr>\n",
       "</thead>\n",
       "<tbody>\n",
       "\t<tr><td>1</td><td>4</td><td>7</td></tr>\n",
       "\t<tr><td>2</td><td>5</td><td>8</td></tr>\n",
       "\t<tr><td>3</td><td>6</td><td>9</td></tr>\n",
       "\t<tr><td>1</td><td>2</td><td>3</td></tr>\n",
       "\t<tr><td>4</td><td>5</td><td>6</td></tr>\n",
       "\t<tr><td>7</td><td>8</td><td>9</td></tr>\n",
       "</tbody>\n",
       "</table>\n"
      ],
      "text/latex": [
       "A data.frame: 6 × 3\n",
       "\\begin{tabular}{lll}\n",
       " V1 & V2 & V3\\\\\n",
       " <int> & <int> & <int>\\\\\n",
       "\\hline\n",
       "\t 1 & 4 & 7\\\\\n",
       "\t 2 & 5 & 8\\\\\n",
       "\t 3 & 6 & 9\\\\\n",
       "\t 1 & 2 & 3\\\\\n",
       "\t 4 & 5 & 6\\\\\n",
       "\t 7 & 8 & 9\\\\\n",
       "\\end{tabular}\n"
      ],
      "text/markdown": [
       "\n",
       "A data.frame: 6 × 3\n",
       "\n",
       "| V1 &lt;int&gt; | V2 &lt;int&gt; | V3 &lt;int&gt; |\n",
       "|---|---|---|\n",
       "| 1 | 4 | 7 |\n",
       "| 2 | 5 | 8 |\n",
       "| 3 | 6 | 9 |\n",
       "| 1 | 2 | 3 |\n",
       "| 4 | 5 | 6 |\n",
       "| 7 | 8 | 9 |\n",
       "\n"
      ],
      "text/plain": [
       "  V1 V2 V3\n",
       "1 1  4  7 \n",
       "2 2  5  8 \n",
       "3 3  6  9 \n",
       "4 1  2  3 \n",
       "5 4  5  6 \n",
       "6 7  8  9 "
      ]
     },
     "metadata": {},
     "output_type": "display_data"
    }
   ],
   "source": [
    "df_1 <- as.data.frame(matrix_4)\n",
    "df_1"
   ]
  },
  {
   "cell_type": "code",
   "execution_count": 35,
   "id": "bb698de5-5c92-4f01-bf20-e566da678f3a",
   "metadata": {},
   "outputs": [
    {
     "data": {
      "text/html": [
       "8"
      ],
      "text/latex": [
       "8"
      ],
      "text/markdown": [
       "8"
      ],
      "text/plain": [
       "[1] 8"
      ]
     },
     "metadata": {},
     "output_type": "display_data"
    }
   ],
   "source": [
    "df_1[2,3]"
   ]
  },
  {
   "cell_type": "code",
   "execution_count": 36,
   "id": "a0a74764-7521-479e-bb2c-b9e927a8eb41",
   "metadata": {},
   "outputs": [
    {
     "data": {
      "text/html": [
       "<table class=\"dataframe\">\n",
       "<caption>A data.frame: 1 × 3</caption>\n",
       "<thead>\n",
       "\t<tr><th></th><th scope=col>V1</th><th scope=col>V2</th><th scope=col>V3</th></tr>\n",
       "\t<tr><th></th><th scope=col>&lt;int&gt;</th><th scope=col>&lt;int&gt;</th><th scope=col>&lt;int&gt;</th></tr>\n",
       "</thead>\n",
       "<tbody>\n",
       "\t<tr><th scope=row>2</th><td>2</td><td>5</td><td>8</td></tr>\n",
       "</tbody>\n",
       "</table>\n"
      ],
      "text/latex": [
       "A data.frame: 1 × 3\n",
       "\\begin{tabular}{r|lll}\n",
       "  & V1 & V2 & V3\\\\\n",
       "  & <int> & <int> & <int>\\\\\n",
       "\\hline\n",
       "\t2 & 2 & 5 & 8\\\\\n",
       "\\end{tabular}\n"
      ],
      "text/markdown": [
       "\n",
       "A data.frame: 1 × 3\n",
       "\n",
       "| <!--/--> | V1 &lt;int&gt; | V2 &lt;int&gt; | V3 &lt;int&gt; |\n",
       "|---|---|---|---|\n",
       "| 2 | 2 | 5 | 8 |\n",
       "\n"
      ],
      "text/plain": [
       "  V1 V2 V3\n",
       "2 2  5  8 "
      ]
     },
     "metadata": {},
     "output_type": "display_data"
    }
   ],
   "source": [
    "df_1[2,]"
   ]
  },
  {
   "cell_type": "code",
   "execution_count": 37,
   "id": "49b4a054-8122-4a41-920d-407375a9e2e7",
   "metadata": {},
   "outputs": [
    {
     "data": {
      "text/html": [
       "<style>\n",
       ".list-inline {list-style: none; margin:0; padding: 0}\n",
       ".list-inline>li {display: inline-block}\n",
       ".list-inline>li:not(:last-child)::after {content: \"\\00b7\"; padding: 0 .5ex}\n",
       "</style>\n",
       "<ol class=list-inline><li>7</li><li>8</li><li>9</li><li>3</li><li>6</li><li>9</li></ol>\n"
      ],
      "text/latex": [
       "\\begin{enumerate*}\n",
       "\\item 7\n",
       "\\item 8\n",
       "\\item 9\n",
       "\\item 3\n",
       "\\item 6\n",
       "\\item 9\n",
       "\\end{enumerate*}\n"
      ],
      "text/markdown": [
       "1. 7\n",
       "2. 8\n",
       "3. 9\n",
       "4. 3\n",
       "5. 6\n",
       "6. 9\n",
       "\n",
       "\n"
      ],
      "text/plain": [
       "[1] 7 8 9 3 6 9"
      ]
     },
     "metadata": {},
     "output_type": "display_data"
    }
   ],
   "source": [
    "df_1[,3]"
   ]
  },
  {
   "cell_type": "code",
   "execution_count": 38,
   "id": "de0d0d23-3acb-4f84-b5e9-ebdcd9a11ad2",
   "metadata": {},
   "outputs": [
    {
     "data": {
      "text/html": [
       "<table class=\"dataframe\">\n",
       "<caption>A data.frame: 2 × 2</caption>\n",
       "<thead>\n",
       "\t<tr><th></th><th scope=col>V1</th><th scope=col>V3</th></tr>\n",
       "\t<tr><th></th><th scope=col>&lt;int&gt;</th><th scope=col>&lt;int&gt;</th></tr>\n",
       "</thead>\n",
       "<tbody>\n",
       "\t<tr><th scope=row>2</th><td>2</td><td>8</td></tr>\n",
       "\t<tr><th scope=row>3</th><td>3</td><td>9</td></tr>\n",
       "</tbody>\n",
       "</table>\n"
      ],
      "text/latex": [
       "A data.frame: 2 × 2\n",
       "\\begin{tabular}{r|ll}\n",
       "  & V1 & V3\\\\\n",
       "  & <int> & <int>\\\\\n",
       "\\hline\n",
       "\t2 & 2 & 8\\\\\n",
       "\t3 & 3 & 9\\\\\n",
       "\\end{tabular}\n"
      ],
      "text/markdown": [
       "\n",
       "A data.frame: 2 × 2\n",
       "\n",
       "| <!--/--> | V1 &lt;int&gt; | V3 &lt;int&gt; |\n",
       "|---|---|---|\n",
       "| 2 | 2 | 8 |\n",
       "| 3 | 3 | 9 |\n",
       "\n"
      ],
      "text/plain": [
       "  V1 V3\n",
       "2 2  8 \n",
       "3 3  9 "
      ]
     },
     "metadata": {},
     "output_type": "display_data"
    }
   ],
   "source": [
    "df_1[2:3,c(1,3)]"
   ]
  },
  {
   "cell_type": "code",
   "execution_count": 39,
   "id": "9113ecd9-583e-4890-b1c7-412296cda735",
   "metadata": {},
   "outputs": [
    {
     "data": {
      "text/html": [
       "<table class=\"dataframe\">\n",
       "<caption>A data.frame: 6 × 1</caption>\n",
       "<thead>\n",
       "\t<tr><th scope=col>V2</th></tr>\n",
       "\t<tr><th scope=col>&lt;int&gt;</th></tr>\n",
       "</thead>\n",
       "<tbody>\n",
       "\t<tr><td>4</td></tr>\n",
       "\t<tr><td>5</td></tr>\n",
       "\t<tr><td>6</td></tr>\n",
       "\t<tr><td>2</td></tr>\n",
       "\t<tr><td>5</td></tr>\n",
       "\t<tr><td>8</td></tr>\n",
       "</tbody>\n",
       "</table>\n"
      ],
      "text/latex": [
       "A data.frame: 6 × 1\n",
       "\\begin{tabular}{l}\n",
       " V2\\\\\n",
       " <int>\\\\\n",
       "\\hline\n",
       "\t 4\\\\\n",
       "\t 5\\\\\n",
       "\t 6\\\\\n",
       "\t 2\\\\\n",
       "\t 5\\\\\n",
       "\t 8\\\\\n",
       "\\end{tabular}\n"
      ],
      "text/markdown": [
       "\n",
       "A data.frame: 6 × 1\n",
       "\n",
       "| V2 &lt;int&gt; |\n",
       "|---|\n",
       "| 4 |\n",
       "| 5 |\n",
       "| 6 |\n",
       "| 2 |\n",
       "| 5 |\n",
       "| 8 |\n",
       "\n"
      ],
      "text/plain": [
       "  V2\n",
       "1 4 \n",
       "2 5 \n",
       "3 6 \n",
       "4 2 \n",
       "5 5 \n",
       "6 8 "
      ]
     },
     "metadata": {},
     "output_type": "display_data"
    }
   ],
   "source": [
    "df_1[2]"
   ]
  },
  {
   "cell_type": "code",
   "execution_count": 40,
   "id": "82e955f5-0d30-4952-bc31-51c94127d0b4",
   "metadata": {},
   "outputs": [
    {
     "data": {
      "text/html": [
       "<style>\n",
       ".list-inline {list-style: none; margin:0; padding: 0}\n",
       ".list-inline>li {display: inline-block}\n",
       ".list-inline>li:not(:last-child)::after {content: \"\\00b7\"; padding: 0 .5ex}\n",
       "</style>\n",
       "<ol class=list-inline><li>4</li><li>5</li><li>6</li><li>2</li><li>5</li><li>8</li></ol>\n"
      ],
      "text/latex": [
       "\\begin{enumerate*}\n",
       "\\item 4\n",
       "\\item 5\n",
       "\\item 6\n",
       "\\item 2\n",
       "\\item 5\n",
       "\\item 8\n",
       "\\end{enumerate*}\n"
      ],
      "text/markdown": [
       "1. 4\n",
       "2. 5\n",
       "3. 6\n",
       "4. 2\n",
       "5. 5\n",
       "6. 8\n",
       "\n",
       "\n"
      ],
      "text/plain": [
       "[1] 4 5 6 2 5 8"
      ]
     },
     "metadata": {},
     "output_type": "display_data"
    },
    {
     "data": {
      "text/html": [
       "<style>\n",
       ".list-inline {list-style: none; margin:0; padding: 0}\n",
       ".list-inline>li {display: inline-block}\n",
       ".list-inline>li:not(:last-child)::after {content: \"\\00b7\"; padding: 0 .5ex}\n",
       "</style>\n",
       "<ol class=list-inline><li>4</li><li>5</li><li>6</li><li>2</li><li>5</li><li>8</li></ol>\n"
      ],
      "text/latex": [
       "\\begin{enumerate*}\n",
       "\\item 4\n",
       "\\item 5\n",
       "\\item 6\n",
       "\\item 2\n",
       "\\item 5\n",
       "\\item 8\n",
       "\\end{enumerate*}\n"
      ],
      "text/markdown": [
       "1. 4\n",
       "2. 5\n",
       "3. 6\n",
       "4. 2\n",
       "5. 5\n",
       "6. 8\n",
       "\n",
       "\n"
      ],
      "text/plain": [
       "[1] 4 5 6 2 5 8"
      ]
     },
     "metadata": {},
     "output_type": "display_data"
    }
   ],
   "source": [
    "df_1[[2]]\n",
    "df_1[,2]"
   ]
  },
  {
   "cell_type": "code",
   "execution_count": 41,
   "id": "a558b48a-6221-4c8a-ac55-a26ad7d26d31",
   "metadata": {},
   "outputs": [
    {
     "data": {
      "text/html": [
       "<style>\n",
       ".list-inline {list-style: none; margin:0; padding: 0}\n",
       ".list-inline>li {display: inline-block}\n",
       ".list-inline>li:not(:last-child)::after {content: \"\\00b7\"; padding: 0 .5ex}\n",
       "</style>\n",
       "<ol class=list-inline><li>4</li><li>5</li><li>6</li><li>2</li><li>5</li><li>8</li></ol>\n"
      ],
      "text/latex": [
       "\\begin{enumerate*}\n",
       "\\item 4\n",
       "\\item 5\n",
       "\\item 6\n",
       "\\item 2\n",
       "\\item 5\n",
       "\\item 8\n",
       "\\end{enumerate*}\n"
      ],
      "text/markdown": [
       "1. 4\n",
       "2. 5\n",
       "3. 6\n",
       "4. 2\n",
       "5. 5\n",
       "6. 8\n",
       "\n",
       "\n"
      ],
      "text/plain": [
       "[1] 4 5 6 2 5 8"
      ]
     },
     "metadata": {},
     "output_type": "display_data"
    },
    {
     "data": {
      "text/html": [
       "<style>\n",
       ".list-inline {list-style: none; margin:0; padding: 0}\n",
       ".list-inline>li {display: inline-block}\n",
       ".list-inline>li:not(:last-child)::after {content: \"\\00b7\"; padding: 0 .5ex}\n",
       "</style>\n",
       "<ol class=list-inline><li>4</li><li>5</li><li>6</li><li>2</li><li>5</li><li>8</li></ol>\n"
      ],
      "text/latex": [
       "\\begin{enumerate*}\n",
       "\\item 4\n",
       "\\item 5\n",
       "\\item 6\n",
       "\\item 2\n",
       "\\item 5\n",
       "\\item 8\n",
       "\\end{enumerate*}\n"
      ],
      "text/markdown": [
       "1. 4\n",
       "2. 5\n",
       "3. 6\n",
       "4. 2\n",
       "5. 5\n",
       "6. 8\n",
       "\n",
       "\n"
      ],
      "text/plain": [
       "[1] 4 5 6 2 5 8"
      ]
     },
     "metadata": {},
     "output_type": "display_data"
    },
    {
     "data": {
      "text/html": [
       "<style>\n",
       ".list-inline {list-style: none; margin:0; padding: 0}\n",
       ".list-inline>li {display: inline-block}\n",
       ".list-inline>li:not(:last-child)::after {content: \"\\00b7\"; padding: 0 .5ex}\n",
       "</style>\n",
       "<ol class=list-inline><li>4</li><li>5</li><li>6</li><li>2</li><li>5</li><li>8</li></ol>\n"
      ],
      "text/latex": [
       "\\begin{enumerate*}\n",
       "\\item 4\n",
       "\\item 5\n",
       "\\item 6\n",
       "\\item 2\n",
       "\\item 5\n",
       "\\item 8\n",
       "\\end{enumerate*}\n"
      ],
      "text/markdown": [
       "1. 4\n",
       "2. 5\n",
       "3. 6\n",
       "4. 2\n",
       "5. 5\n",
       "6. 8\n",
       "\n",
       "\n"
      ],
      "text/plain": [
       "[1] 4 5 6 2 5 8"
      ]
     },
     "metadata": {},
     "output_type": "display_data"
    }
   ],
   "source": [
    "df_1$V2\n",
    "df_1[[\"V2\"]]\n",
    "df_1[,\"V2\"]"
   ]
  },
  {
   "cell_type": "code",
   "execution_count": 42,
   "id": "fe56335b-3c2c-4b6e-9dab-45df67e07a98",
   "metadata": {},
   "outputs": [
    {
     "data": {
      "text/html": [
       "<style>\n",
       ".list-inline {list-style: none; margin:0; padding: 0}\n",
       ".list-inline>li {display: inline-block}\n",
       ".list-inline>li:not(:last-child)::after {content: \"\\00b7\"; padding: 0 .5ex}\n",
       "</style>\n",
       "<ol class=list-inline><li>5</li><li>6</li><li>2</li><li>5</li></ol>\n"
      ],
      "text/latex": [
       "\\begin{enumerate*}\n",
       "\\item 5\n",
       "\\item 6\n",
       "\\item 2\n",
       "\\item 5\n",
       "\\end{enumerate*}\n"
      ],
      "text/markdown": [
       "1. 5\n",
       "2. 6\n",
       "3. 2\n",
       "4. 5\n",
       "\n",
       "\n"
      ],
      "text/plain": [
       "[1] 5 6 2 5"
      ]
     },
     "metadata": {},
     "output_type": "display_data"
    },
    {
     "data": {
      "text/html": [
       "<style>\n",
       ".list-inline {list-style: none; margin:0; padding: 0}\n",
       ".list-inline>li {display: inline-block}\n",
       ".list-inline>li:not(:last-child)::after {content: \"\\00b7\"; padding: 0 .5ex}\n",
       "</style>\n",
       "<ol class=list-inline><li>5</li><li>6</li><li>2</li><li>5</li></ol>\n"
      ],
      "text/latex": [
       "\\begin{enumerate*}\n",
       "\\item 5\n",
       "\\item 6\n",
       "\\item 2\n",
       "\\item 5\n",
       "\\end{enumerate*}\n"
      ],
      "text/markdown": [
       "1. 5\n",
       "2. 6\n",
       "3. 2\n",
       "4. 5\n",
       "\n",
       "\n"
      ],
      "text/plain": [
       "[1] 5 6 2 5"
      ]
     },
     "metadata": {},
     "output_type": "display_data"
    },
    {
     "data": {
      "text/html": [
       "<style>\n",
       ".list-inline {list-style: none; margin:0; padding: 0}\n",
       ".list-inline>li {display: inline-block}\n",
       ".list-inline>li:not(:last-child)::after {content: \"\\00b7\"; padding: 0 .5ex}\n",
       "</style>\n",
       "<ol class=list-inline><li>5</li><li>6</li><li>2</li><li>5</li></ol>\n"
      ],
      "text/latex": [
       "\\begin{enumerate*}\n",
       "\\item 5\n",
       "\\item 6\n",
       "\\item 2\n",
       "\\item 5\n",
       "\\end{enumerate*}\n"
      ],
      "text/markdown": [
       "1. 5\n",
       "2. 6\n",
       "3. 2\n",
       "4. 5\n",
       "\n",
       "\n"
      ],
      "text/plain": [
       "[1] 5 6 2 5"
      ]
     },
     "metadata": {},
     "output_type": "display_data"
    }
   ],
   "source": [
    "df_1[2:5,\"V2\"]\n",
    "df_1[2:5,]$V2\n",
    "df_1$V2[2:5]"
   ]
  },
  {
   "cell_type": "code",
   "execution_count": 43,
   "id": "9dfe62a5-16b9-4618-bbaf-617b6570402b",
   "metadata": {},
   "outputs": [
    {
     "data": {
      "text/html": [
       "<table class=\"dataframe\">\n",
       "<caption>A data.frame: 6 × 4</caption>\n",
       "<thead>\n",
       "\t<tr><th></th><th scope=col>c1</th><th scope=col>c2</th><th scope=col>c3</th><th scope=col>c4</th></tr>\n",
       "\t<tr><th></th><th scope=col>&lt;int&gt;</th><th scope=col>&lt;int&gt;</th><th scope=col>&lt;int&gt;</th><th scope=col>&lt;int&gt;</th></tr>\n",
       "</thead>\n",
       "<tbody>\n",
       "\t<tr><th scope=row>r1</th><td> 0</td><td> 1</td><td> 2</td><td> 3</td></tr>\n",
       "\t<tr><th scope=row>r2</th><td> 4</td><td> 5</td><td> 6</td><td> 7</td></tr>\n",
       "\t<tr><th scope=row>r3</th><td> 8</td><td> 9</td><td>10</td><td>11</td></tr>\n",
       "\t<tr><th scope=row>r4</th><td>12</td><td>13</td><td>14</td><td>15</td></tr>\n",
       "\t<tr><th scope=row>r5</th><td>16</td><td>17</td><td>18</td><td>19</td></tr>\n",
       "\t<tr><th scope=row>r6</th><td>20</td><td>21</td><td>22</td><td>23</td></tr>\n",
       "</tbody>\n",
       "</table>\n"
      ],
      "text/latex": [
       "A data.frame: 6 × 4\n",
       "\\begin{tabular}{r|llll}\n",
       "  & c1 & c2 & c3 & c4\\\\\n",
       "  & <int> & <int> & <int> & <int>\\\\\n",
       "\\hline\n",
       "\tr1 &  0 &  1 &  2 &  3\\\\\n",
       "\tr2 &  4 &  5 &  6 &  7\\\\\n",
       "\tr3 &  8 &  9 & 10 & 11\\\\\n",
       "\tr4 & 12 & 13 & 14 & 15\\\\\n",
       "\tr5 & 16 & 17 & 18 & 19\\\\\n",
       "\tr6 & 20 & 21 & 22 & 23\\\\\n",
       "\\end{tabular}\n"
      ],
      "text/markdown": [
       "\n",
       "A data.frame: 6 × 4\n",
       "\n",
       "| <!--/--> | c1 &lt;int&gt; | c2 &lt;int&gt; | c3 &lt;int&gt; | c4 &lt;int&gt; |\n",
       "|---|---|---|---|---|\n",
       "| r1 |  0 |  1 |  2 |  3 |\n",
       "| r2 |  4 |  5 |  6 |  7 |\n",
       "| r3 |  8 |  9 | 10 | 11 |\n",
       "| r4 | 12 | 13 | 14 | 15 |\n",
       "| r5 | 16 | 17 | 18 | 19 |\n",
       "| r6 | 20 | 21 | 22 | 23 |\n",
       "\n"
      ],
      "text/plain": [
       "   c1 c2 c3 c4\n",
       "r1  0  1  2  3\n",
       "r2  4  5  6  7\n",
       "r3  8  9 10 11\n",
       "r4 12 13 14 15\n",
       "r5 16 17 18 19\n",
       "r6 20 21 22 23"
      ]
     },
     "metadata": {},
     "output_type": "display_data"
    }
   ],
   "source": [
    "matrix_3 <- matrix(0:23, nrow=6, ncol=4, byrow=TRUE)\n",
    "df_2 <- as.data.frame(matrix_3)\n",
    "\n",
    "rownames(df_2) <- c(\"r1\", \"r2\", \"r3\", \"r4\", \"r5\", \"r6\")\n",
    "colnames(df_2) <- c(\"c1\", \"c2\", \"c3\", \"c4\")\n",
    "\n",
    "df_2"
   ]
  },
  {
   "cell_type": "code",
   "execution_count": 44,
   "id": "f1308ddd-ceac-4d2d-99e2-d9ff1a097d2d",
   "metadata": {},
   "outputs": [
    {
     "data": {
      "text/html": [
       "<style>\n",
       ".list-inline {list-style: none; margin:0; padding: 0}\n",
       ".list-inline>li {display: inline-block}\n",
       ".list-inline>li:not(:last-child)::after {content: \"\\00b7\"; padding: 0 .5ex}\n",
       "</style>\n",
       "<ol class=list-inline><li>'r1'</li><li>'r2'</li><li>'r3'</li><li>'r4'</li><li>'r5'</li><li>'r6'</li></ol>\n"
      ],
      "text/latex": [
       "\\begin{enumerate*}\n",
       "\\item 'r1'\n",
       "\\item 'r2'\n",
       "\\item 'r3'\n",
       "\\item 'r4'\n",
       "\\item 'r5'\n",
       "\\item 'r6'\n",
       "\\end{enumerate*}\n"
      ],
      "text/markdown": [
       "1. 'r1'\n",
       "2. 'r2'\n",
       "3. 'r3'\n",
       "4. 'r4'\n",
       "5. 'r5'\n",
       "6. 'r6'\n",
       "\n",
       "\n"
      ],
      "text/plain": [
       "[1] \"r1\" \"r2\" \"r3\" \"r4\" \"r5\" \"r6\""
      ]
     },
     "metadata": {},
     "output_type": "display_data"
    },
    {
     "data": {
      "text/html": [
       "<style>\n",
       ".list-inline {list-style: none; margin:0; padding: 0}\n",
       ".list-inline>li {display: inline-block}\n",
       ".list-inline>li:not(:last-child)::after {content: \"\\00b7\"; padding: 0 .5ex}\n",
       "</style>\n",
       "<ol class=list-inline><li>'c1'</li><li>'c2'</li><li>'c3'</li><li>'c4'</li></ol>\n"
      ],
      "text/latex": [
       "\\begin{enumerate*}\n",
       "\\item 'c1'\n",
       "\\item 'c2'\n",
       "\\item 'c3'\n",
       "\\item 'c4'\n",
       "\\end{enumerate*}\n"
      ],
      "text/markdown": [
       "1. 'c1'\n",
       "2. 'c2'\n",
       "3. 'c3'\n",
       "4. 'c4'\n",
       "\n",
       "\n"
      ],
      "text/plain": [
       "[1] \"c1\" \"c2\" \"c3\" \"c4\""
      ]
     },
     "metadata": {},
     "output_type": "display_data"
    }
   ],
   "source": [
    "rownames(df_2)\n",
    "colnames(df_2)"
   ]
  },
  {
   "cell_type": "code",
   "execution_count": 45,
   "id": "ee1d68f0-c09a-40ce-82d3-39ce91b46d25",
   "metadata": {},
   "outputs": [
    {
     "data": {
      "text/html": [
       "<table class=\"dataframe\">\n",
       "<caption>A matrix: 6 × 4 of type lgl</caption>\n",
       "<thead>\n",
       "\t<tr><th></th><th scope=col>c1</th><th scope=col>c2</th><th scope=col>c3</th><th scope=col>c4</th></tr>\n",
       "</thead>\n",
       "<tbody>\n",
       "\t<tr><th scope=row>r1</th><td>FALSE</td><td>FALSE</td><td>FALSE</td><td>FALSE</td></tr>\n",
       "\t<tr><th scope=row>r2</th><td>FALSE</td><td>FALSE</td><td>FALSE</td><td> TRUE</td></tr>\n",
       "\t<tr><th scope=row>r3</th><td> TRUE</td><td> TRUE</td><td> TRUE</td><td> TRUE</td></tr>\n",
       "\t<tr><th scope=row>r4</th><td> TRUE</td><td> TRUE</td><td> TRUE</td><td> TRUE</td></tr>\n",
       "\t<tr><th scope=row>r5</th><td> TRUE</td><td> TRUE</td><td> TRUE</td><td> TRUE</td></tr>\n",
       "\t<tr><th scope=row>r6</th><td> TRUE</td><td> TRUE</td><td> TRUE</td><td> TRUE</td></tr>\n",
       "</tbody>\n",
       "</table>\n"
      ],
      "text/latex": [
       "A matrix: 6 × 4 of type lgl\n",
       "\\begin{tabular}{r|llll}\n",
       "  & c1 & c2 & c3 & c4\\\\\n",
       "\\hline\n",
       "\tr1 & FALSE & FALSE & FALSE & FALSE\\\\\n",
       "\tr2 & FALSE & FALSE & FALSE &  TRUE\\\\\n",
       "\tr3 &  TRUE &  TRUE &  TRUE &  TRUE\\\\\n",
       "\tr4 &  TRUE &  TRUE &  TRUE &  TRUE\\\\\n",
       "\tr5 &  TRUE &  TRUE &  TRUE &  TRUE\\\\\n",
       "\tr6 &  TRUE &  TRUE &  TRUE &  TRUE\\\\\n",
       "\\end{tabular}\n"
      ],
      "text/markdown": [
       "\n",
       "A matrix: 6 × 4 of type lgl\n",
       "\n",
       "| <!--/--> | c1 | c2 | c3 | c4 |\n",
       "|---|---|---|---|---|\n",
       "| r1 | FALSE | FALSE | FALSE | FALSE |\n",
       "| r2 | FALSE | FALSE | FALSE |  TRUE |\n",
       "| r3 |  TRUE |  TRUE |  TRUE |  TRUE |\n",
       "| r4 |  TRUE |  TRUE |  TRUE |  TRUE |\n",
       "| r5 |  TRUE |  TRUE |  TRUE |  TRUE |\n",
       "| r6 |  TRUE |  TRUE |  TRUE |  TRUE |\n",
       "\n"
      ],
      "text/plain": [
       "   c1    c2    c3    c4   \n",
       "r1 FALSE FALSE FALSE FALSE\n",
       "r2 FALSE FALSE FALSE  TRUE\n",
       "r3  TRUE  TRUE  TRUE  TRUE\n",
       "r4  TRUE  TRUE  TRUE  TRUE\n",
       "r5  TRUE  TRUE  TRUE  TRUE\n",
       "r6  TRUE  TRUE  TRUE  TRUE"
      ]
     },
     "metadata": {},
     "output_type": "display_data"
    }
   ],
   "source": [
    "df_2 > 6"
   ]
  },
  {
   "cell_type": "code",
   "execution_count": 46,
   "id": "b2eff95e-f985-465e-a4d2-7a7ea2deee62",
   "metadata": {},
   "outputs": [
    {
     "data": {
      "text/html": [
       "<table class=\"dataframe\">\n",
       "<caption>A data.frame: 2 × 4</caption>\n",
       "<thead>\n",
       "\t<tr><th></th><th scope=col>c1</th><th scope=col>c2</th><th scope=col>c3</th><th scope=col>c4</th></tr>\n",
       "\t<tr><th></th><th scope=col>&lt;int&gt;</th><th scope=col>&lt;int&gt;</th><th scope=col>&lt;int&gt;</th><th scope=col>&lt;int&gt;</th></tr>\n",
       "</thead>\n",
       "<tbody>\n",
       "\t<tr><th scope=row>r5</th><td>16</td><td>17</td><td>18</td><td>19</td></tr>\n",
       "\t<tr><th scope=row>r6</th><td>20</td><td>21</td><td>22</td><td>23</td></tr>\n",
       "</tbody>\n",
       "</table>\n"
      ],
      "text/latex": [
       "A data.frame: 2 × 4\n",
       "\\begin{tabular}{r|llll}\n",
       "  & c1 & c2 & c3 & c4\\\\\n",
       "  & <int> & <int> & <int> & <int>\\\\\n",
       "\\hline\n",
       "\tr5 & 16 & 17 & 18 & 19\\\\\n",
       "\tr6 & 20 & 21 & 22 & 23\\\\\n",
       "\\end{tabular}\n"
      ],
      "text/markdown": [
       "\n",
       "A data.frame: 2 × 4\n",
       "\n",
       "| <!--/--> | c1 &lt;int&gt; | c2 &lt;int&gt; | c3 &lt;int&gt; | c4 &lt;int&gt; |\n",
       "|---|---|---|---|---|\n",
       "| r5 | 16 | 17 | 18 | 19 |\n",
       "| r6 | 20 | 21 | 22 | 23 |\n",
       "\n"
      ],
      "text/plain": [
       "   c1 c2 c3 c4\n",
       "r5 16 17 18 19\n",
       "r6 20 21 22 23"
      ]
     },
     "metadata": {},
     "output_type": "display_data"
    }
   ],
   "source": [
    "df_2[df_2$c2 > 15,]"
   ]
  },
  {
   "cell_type": "code",
   "execution_count": 47,
   "id": "1e4a8476-51e2-47e6-8f68-4514af37812f",
   "metadata": {},
   "outputs": [
    {
     "data": {
      "text/html": [
       "<table class=\"dataframe\">\n",
       "<caption>A data.frame: 3 × 4</caption>\n",
       "<thead>\n",
       "\t<tr><th></th><th scope=col>c1</th><th scope=col>c2</th><th scope=col>c3</th><th scope=col>c4</th></tr>\n",
       "\t<tr><th></th><th scope=col>&lt;int&gt;</th><th scope=col>&lt;int&gt;</th><th scope=col>&lt;int&gt;</th><th scope=col>&lt;int&gt;</th></tr>\n",
       "</thead>\n",
       "<tbody>\n",
       "\t<tr><th scope=row>r1</th><td> 0</td><td> 1</td><td> 2</td><td> 3</td></tr>\n",
       "\t<tr><th scope=row>r5</th><td>16</td><td>17</td><td>18</td><td>19</td></tr>\n",
       "\t<tr><th scope=row>r6</th><td>20</td><td>21</td><td>22</td><td>23</td></tr>\n",
       "</tbody>\n",
       "</table>\n"
      ],
      "text/latex": [
       "A data.frame: 3 × 4\n",
       "\\begin{tabular}{r|llll}\n",
       "  & c1 & c2 & c3 & c4\\\\\n",
       "  & <int> & <int> & <int> & <int>\\\\\n",
       "\\hline\n",
       "\tr1 &  0 &  1 &  2 &  3\\\\\n",
       "\tr5 & 16 & 17 & 18 & 19\\\\\n",
       "\tr6 & 20 & 21 & 22 & 23\\\\\n",
       "\\end{tabular}\n"
      ],
      "text/markdown": [
       "\n",
       "A data.frame: 3 × 4\n",
       "\n",
       "| <!--/--> | c1 &lt;int&gt; | c2 &lt;int&gt; | c3 &lt;int&gt; | c4 &lt;int&gt; |\n",
       "|---|---|---|---|---|\n",
       "| r1 |  0 |  1 |  2 |  3 |\n",
       "| r5 | 16 | 17 | 18 | 19 |\n",
       "| r6 | 20 | 21 | 22 | 23 |\n",
       "\n"
      ],
      "text/plain": [
       "   c1 c2 c3 c4\n",
       "r1  0  1  2  3\n",
       "r5 16 17 18 19\n",
       "r6 20 21 22 23"
      ]
     },
     "metadata": {},
     "output_type": "display_data"
    }
   ],
   "source": [
    "df_2[df_2$c2 > 15 | df_2$c2 == 1, ]"
   ]
  },
  {
   "cell_type": "code",
   "execution_count": 48,
   "id": "c538c0bb-893e-4ea1-af48-c093417fb845",
   "metadata": {},
   "outputs": [
    {
     "data": {
      "text/html": [
       "<table class=\"dataframe\">\n",
       "<caption>A data.frame: 8 × 4</caption>\n",
       "<thead>\n",
       "\t<tr><th></th><th scope=col>c1</th><th scope=col>c2</th><th scope=col>c3</th><th scope=col>c4</th></tr>\n",
       "\t<tr><th></th><th scope=col>&lt;int&gt;</th><th scope=col>&lt;int&gt;</th><th scope=col>&lt;int&gt;</th><th scope=col>&lt;int&gt;</th></tr>\n",
       "</thead>\n",
       "<tbody>\n",
       "\t<tr><th scope=row>r1</th><td> 0</td><td> 1</td><td> 2</td><td> 3</td></tr>\n",
       "\t<tr><th scope=row>r2</th><td> 4</td><td> 5</td><td> 6</td><td> 7</td></tr>\n",
       "\t<tr><th scope=row>r3</th><td> 8</td><td> 9</td><td>10</td><td>11</td></tr>\n",
       "\t<tr><th scope=row>r4</th><td>12</td><td>13</td><td>14</td><td>15</td></tr>\n",
       "\t<tr><th scope=row>r5</th><td>16</td><td>17</td><td>18</td><td>19</td></tr>\n",
       "\t<tr><th scope=row>r6</th><td>20</td><td>21</td><td>22</td><td>23</td></tr>\n",
       "\t<tr><th scope=row>r7</th><td>NA</td><td>NA</td><td>NA</td><td>NA</td></tr>\n",
       "\t<tr><th scope=row>r8</th><td>NA</td><td>NA</td><td>NA</td><td>NA</td></tr>\n",
       "</tbody>\n",
       "</table>\n"
      ],
      "text/latex": [
       "A data.frame: 8 × 4\n",
       "\\begin{tabular}{r|llll}\n",
       "  & c1 & c2 & c3 & c4\\\\\n",
       "  & <int> & <int> & <int> & <int>\\\\\n",
       "\\hline\n",
       "\tr1 &  0 &  1 &  2 &  3\\\\\n",
       "\tr2 &  4 &  5 &  6 &  7\\\\\n",
       "\tr3 &  8 &  9 & 10 & 11\\\\\n",
       "\tr4 & 12 & 13 & 14 & 15\\\\\n",
       "\tr5 & 16 & 17 & 18 & 19\\\\\n",
       "\tr6 & 20 & 21 & 22 & 23\\\\\n",
       "\tr7 & NA & NA & NA & NA\\\\\n",
       "\tr8 & NA & NA & NA & NA\\\\\n",
       "\\end{tabular}\n"
      ],
      "text/markdown": [
       "\n",
       "A data.frame: 8 × 4\n",
       "\n",
       "| <!--/--> | c1 &lt;int&gt; | c2 &lt;int&gt; | c3 &lt;int&gt; | c4 &lt;int&gt; |\n",
       "|---|---|---|---|---|\n",
       "| r1 |  0 |  1 |  2 |  3 |\n",
       "| r2 |  4 |  5 |  6 |  7 |\n",
       "| r3 |  8 |  9 | 10 | 11 |\n",
       "| r4 | 12 | 13 | 14 | 15 |\n",
       "| r5 | 16 | 17 | 18 | 19 |\n",
       "| r6 | 20 | 21 | 22 | 23 |\n",
       "| r7 | NA | NA | NA | NA |\n",
       "| r8 | NA | NA | NA | NA |\n",
       "\n"
      ],
      "text/plain": [
       "   c1 c2 c3 c4\n",
       "r1  0  1  2  3\n",
       "r2  4  5  6  7\n",
       "r3  8  9 10 11\n",
       "r4 12 13 14 15\n",
       "r5 16 17 18 19\n",
       "r6 20 21 22 23\n",
       "r7 NA NA NA NA\n",
       "r8 NA NA NA NA"
      ]
     },
     "metadata": {},
     "output_type": "display_data"
    }
   ],
   "source": [
    "new_row_labels <- c(\"r1\", \"r2\", \"r3\", \"r4\", \"r5\", \"r6\", \"r7\", \"r8\")\n",
    "df_3 <- df_2[new_row_labels, ]\n",
    "rownames(df_3) <- new_row_labels\n",
    "df_3"
   ]
  },
  {
   "cell_type": "code",
   "execution_count": 49,
   "id": "dc46420c-72ab-4201-8f34-08aee9820910",
   "metadata": {},
   "outputs": [
    {
     "data": {
      "text/html": [
       "<dl>\n",
       "\t<dt>$s1</dt>\n",
       "\t\t<dd><style>\n",
       ".list-inline {list-style: none; margin:0; padding: 0}\n",
       ".list-inline>li {display: inline-block}\n",
       ".list-inline>li:not(:last-child)::after {content: \"\\00b7\"; padding: 0 .5ex}\n",
       "</style>\n",
       "<ol class=list-inline><li>1</li><li>4</li><li>9</li></ol>\n",
       "</dd>\n",
       "\t<dt>$s2</dt>\n",
       "\t\t<dd><style>\n",
       ".list-inline {list-style: none; margin:0; padding: 0}\n",
       ".list-inline>li {display: inline-block}\n",
       ".list-inline>li:not(:last-child)::after {content: \"\\00b7\"; padding: 0 .5ex}\n",
       "</style>\n",
       "<ol class=list-inline><li>2</li><li>5</li><li>8</li></ol>\n",
       "</dd>\n",
       "\t<dt>$s3</dt>\n",
       "\t\t<dd><style>\n",
       ".list-inline {list-style: none; margin:0; padding: 0}\n",
       ".list-inline>li {display: inline-block}\n",
       ".list-inline>li:not(:last-child)::after {content: \"\\00b7\"; padding: 0 .5ex}\n",
       "</style>\n",
       "<ol class=list-inline><li>3</li><li>6</li><li>7</li></ol>\n",
       "</dd>\n",
       "</dl>\n"
      ],
      "text/latex": [
       "\\begin{description}\n",
       "\\item[\\$s1] \\begin{enumerate*}\n",
       "\\item 1\n",
       "\\item 4\n",
       "\\item 9\n",
       "\\end{enumerate*}\n",
       "\n",
       "\\item[\\$s2] \\begin{enumerate*}\n",
       "\\item 2\n",
       "\\item 5\n",
       "\\item 8\n",
       "\\end{enumerate*}\n",
       "\n",
       "\\item[\\$s3] \\begin{enumerate*}\n",
       "\\item 3\n",
       "\\item 6\n",
       "\\item 7\n",
       "\\end{enumerate*}\n",
       "\n",
       "\\end{description}\n"
      ],
      "text/markdown": [
       "$s1\n",
       ":   1. 1\n",
       "2. 4\n",
       "3. 9\n",
       "\n",
       "\n",
       "\n",
       "$s2\n",
       ":   1. 2\n",
       "2. 5\n",
       "3. 8\n",
       "\n",
       "\n",
       "\n",
       "$s3\n",
       ":   1. 3\n",
       "2. 6\n",
       "3. 7\n",
       "\n",
       "\n",
       "\n",
       "\n",
       "\n"
      ],
      "text/plain": [
       "$s1\n",
       "[1] 1 4 9\n",
       "\n",
       "$s2\n",
       "[1] 2 5 8\n",
       "\n",
       "$s3\n",
       "[1] 3 6 7\n"
      ]
     },
     "metadata": {},
     "output_type": "display_data"
    }
   ],
   "source": [
    "list_1 <- list(\"s1\"=c(1, 4, 9), \"s2\"=c(2, 5, 8), \"s3\"=c(3, 6, 7))\n",
    "list_1"
   ]
  },
  {
   "cell_type": "code",
   "execution_count": 50,
   "id": "e73a9343-4ee0-46e8-8a64-bf7be8b0ff54",
   "metadata": {},
   "outputs": [
    {
     "data": {
      "text/html": [
       "<table class=\"dataframe\">\n",
       "<caption>A data.frame: 3 × 3</caption>\n",
       "<thead>\n",
       "\t<tr><th></th><th scope=col>s1</th><th scope=col>s2</th><th scope=col>s3</th></tr>\n",
       "\t<tr><th></th><th scope=col>&lt;dbl&gt;</th><th scope=col>&lt;dbl&gt;</th><th scope=col>&lt;dbl&gt;</th></tr>\n",
       "</thead>\n",
       "<tbody>\n",
       "\t<tr><th scope=row>r1</th><td>1</td><td>2</td><td>3</td></tr>\n",
       "\t<tr><th scope=row>r2</th><td>4</td><td>5</td><td>6</td></tr>\n",
       "\t<tr><th scope=row>r3</th><td>9</td><td>8</td><td>7</td></tr>\n",
       "</tbody>\n",
       "</table>\n"
      ],
      "text/latex": [
       "A data.frame: 3 × 3\n",
       "\\begin{tabular}{r|lll}\n",
       "  & s1 & s2 & s3\\\\\n",
       "  & <dbl> & <dbl> & <dbl>\\\\\n",
       "\\hline\n",
       "\tr1 & 1 & 2 & 3\\\\\n",
       "\tr2 & 4 & 5 & 6\\\\\n",
       "\tr3 & 9 & 8 & 7\\\\\n",
       "\\end{tabular}\n"
      ],
      "text/markdown": [
       "\n",
       "A data.frame: 3 × 3\n",
       "\n",
       "| <!--/--> | s1 &lt;dbl&gt; | s2 &lt;dbl&gt; | s3 &lt;dbl&gt; |\n",
       "|---|---|---|---|\n",
       "| r1 | 1 | 2 | 3 |\n",
       "| r2 | 4 | 5 | 6 |\n",
       "| r3 | 9 | 8 | 7 |\n",
       "\n"
      ],
      "text/plain": [
       "   s1 s2 s3\n",
       "r1 1  2  3 \n",
       "r2 4  5  6 \n",
       "r3 9  8  7 "
      ]
     },
     "metadata": {},
     "output_type": "display_data"
    }
   ],
   "source": [
    "df_4 <- as.data.frame(list_1)\n",
    "rownames(df_4) <- c(\"r1\", \"r2\", \"r3\")\n",
    "df_4"
   ]
  },
  {
   "cell_type": "code",
   "execution_count": 51,
   "id": "1943cb6e-722a-4b6e-b2ab-44518ab9aa10",
   "metadata": {},
   "outputs": [
    {
     "data": {
      "text/html": [
       "<table class=\"dataframe\">\n",
       "<caption>A data.frame: 4 × 3</caption>\n",
       "<thead>\n",
       "\t<tr><th scope=col>a</th><th scope=col>b</th><th scope=col>c</th></tr>\n",
       "\t<tr><th scope=col>&lt;dbl&gt;</th><th scope=col>&lt;dbl&gt;</th><th scope=col>&lt;dbl&gt;</th></tr>\n",
       "</thead>\n",
       "<tbody>\n",
       "\t<tr><td> 1</td><td>NA</td><td> 3</td></tr>\n",
       "\t<tr><td> 4</td><td>NA</td><td>NA</td></tr>\n",
       "\t<tr><td> 9</td><td> 7</td><td> 8</td></tr>\n",
       "\t<tr><td>NA</td><td>NA</td><td>NA</td></tr>\n",
       "</tbody>\n",
       "</table>\n"
      ],
      "text/latex": [
       "A data.frame: 4 × 3\n",
       "\\begin{tabular}{lll}\n",
       " a & b & c\\\\\n",
       " <dbl> & <dbl> & <dbl>\\\\\n",
       "\\hline\n",
       "\t  1 & NA &  3\\\\\n",
       "\t  4 & NA & NA\\\\\n",
       "\t  9 &  7 &  8\\\\\n",
       "\t NA & NA & NA\\\\\n",
       "\\end{tabular}\n"
      ],
      "text/markdown": [
       "\n",
       "A data.frame: 4 × 3\n",
       "\n",
       "| a &lt;dbl&gt; | b &lt;dbl&gt; | c &lt;dbl&gt; |\n",
       "|---|---|---|\n",
       "|  1 | NA |  3 |\n",
       "|  4 | NA | NA |\n",
       "|  9 |  7 |  8 |\n",
       "| NA | NA | NA |\n",
       "\n"
      ],
      "text/plain": [
       "  a  b  c \n",
       "1  1 NA  3\n",
       "2  4 NA NA\n",
       "3  9  7  8\n",
       "4 NA NA NA"
      ]
     },
     "metadata": {},
     "output_type": "display_data"
    }
   ],
   "source": [
    "df_5 <- data.frame(\n",
    "  a = c(1, 4, 9, NA),\n",
    "  b = c(NA, NA, 7, NA),\n",
    "  c = c(3, NA, 8, NA)\n",
    ")\n",
    "df_5"
   ]
  },
  {
   "cell_type": "code",
   "execution_count": 52,
   "id": "36017307-83bd-4709-96c7-f06989a56deb",
   "metadata": {},
   "outputs": [
    {
     "data": {
      "text/html": [
       "<style>\n",
       ".list-inline {list-style: none; margin:0; padding: 0}\n",
       ".list-inline>li {display: inline-block}\n",
       ".list-inline>li:not(:last-child)::after {content: \"\\00b7\"; padding: 0 .5ex}\n",
       "</style>\n",
       "<ol class=list-inline><li>FALSE</li><li>FALSE</li><li>TRUE</li><li>FALSE</li></ol>\n"
      ],
      "text/latex": [
       "\\begin{enumerate*}\n",
       "\\item FALSE\n",
       "\\item FALSE\n",
       "\\item TRUE\n",
       "\\item FALSE\n",
       "\\end{enumerate*}\n"
      ],
      "text/markdown": [
       "1. FALSE\n",
       "2. FALSE\n",
       "3. TRUE\n",
       "4. FALSE\n",
       "\n",
       "\n"
      ],
      "text/plain": [
       "[1] FALSE FALSE  TRUE FALSE"
      ]
     },
     "metadata": {},
     "output_type": "display_data"
    }
   ],
   "source": [
    "complete.cases(df_5)"
   ]
  },
  {
   "cell_type": "code",
   "execution_count": 53,
   "id": "d4e16398-381d-4cb8-8c1e-7d779ee48888",
   "metadata": {},
   "outputs": [
    {
     "data": {
      "text/html": [
       "<table class=\"dataframe\">\n",
       "<caption>A data.frame: 1 × 3</caption>\n",
       "<thead>\n",
       "\t<tr><th></th><th scope=col>a</th><th scope=col>b</th><th scope=col>c</th></tr>\n",
       "\t<tr><th></th><th scope=col>&lt;dbl&gt;</th><th scope=col>&lt;dbl&gt;</th><th scope=col>&lt;dbl&gt;</th></tr>\n",
       "</thead>\n",
       "<tbody>\n",
       "\t<tr><th scope=row>3</th><td>9</td><td>7</td><td>8</td></tr>\n",
       "</tbody>\n",
       "</table>\n"
      ],
      "text/latex": [
       "A data.frame: 1 × 3\n",
       "\\begin{tabular}{r|lll}\n",
       "  & a & b & c\\\\\n",
       "  & <dbl> & <dbl> & <dbl>\\\\\n",
       "\\hline\n",
       "\t3 & 9 & 7 & 8\\\\\n",
       "\\end{tabular}\n"
      ],
      "text/markdown": [
       "\n",
       "A data.frame: 1 × 3\n",
       "\n",
       "| <!--/--> | a &lt;dbl&gt; | b &lt;dbl&gt; | c &lt;dbl&gt; |\n",
       "|---|---|---|---|\n",
       "| 3 | 9 | 7 | 8 |\n",
       "\n"
      ],
      "text/plain": [
       "  a b c\n",
       "3 9 7 8"
      ]
     },
     "metadata": {},
     "output_type": "display_data"
    }
   ],
   "source": [
    "df_5[complete.cases(df_5), ]"
   ]
  },
  {
   "cell_type": "code",
   "execution_count": 54,
   "id": "0ac7d648-3615-49ee-87c5-c915e98eef79",
   "metadata": {},
   "outputs": [
    {
     "data": {
      "text/html": [
       "<table class=\"dataframe\">\n",
       "<caption>A matrix: 4 × 3 of type lgl</caption>\n",
       "<thead>\n",
       "\t<tr><th scope=col>a</th><th scope=col>b</th><th scope=col>c</th></tr>\n",
       "</thead>\n",
       "<tbody>\n",
       "\t<tr><td>FALSE</td><td> TRUE</td><td>FALSE</td></tr>\n",
       "\t<tr><td>FALSE</td><td> TRUE</td><td> TRUE</td></tr>\n",
       "\t<tr><td>FALSE</td><td>FALSE</td><td>FALSE</td></tr>\n",
       "\t<tr><td> TRUE</td><td> TRUE</td><td> TRUE</td></tr>\n",
       "</tbody>\n",
       "</table>\n"
      ],
      "text/latex": [
       "A matrix: 4 × 3 of type lgl\n",
       "\\begin{tabular}{lll}\n",
       " a & b & c\\\\\n",
       "\\hline\n",
       "\t FALSE &  TRUE & FALSE\\\\\n",
       "\t FALSE &  TRUE &  TRUE\\\\\n",
       "\t FALSE & FALSE & FALSE\\\\\n",
       "\t  TRUE &  TRUE &  TRUE\\\\\n",
       "\\end{tabular}\n"
      ],
      "text/markdown": [
       "\n",
       "A matrix: 4 × 3 of type lgl\n",
       "\n",
       "| a | b | c |\n",
       "|---|---|---|\n",
       "| FALSE |  TRUE | FALSE |\n",
       "| FALSE |  TRUE |  TRUE |\n",
       "| FALSE | FALSE | FALSE |\n",
       "|  TRUE |  TRUE |  TRUE |\n",
       "\n"
      ],
      "text/plain": [
       "     a     b     c    \n",
       "[1,] FALSE  TRUE FALSE\n",
       "[2,] FALSE  TRUE  TRUE\n",
       "[3,] FALSE FALSE FALSE\n",
       "[4,]  TRUE  TRUE  TRUE"
      ]
     },
     "metadata": {},
     "output_type": "display_data"
    }
   ],
   "source": [
    "is.na(df_5)"
   ]
  },
  {
   "cell_type": "code",
   "execution_count": 55,
   "id": "ae94c86f-e605-4e68-be3c-b75de5075a13",
   "metadata": {},
   "outputs": [
    {
     "data": {
      "text/html": [
       "<style>\n",
       ".dl-inline {width: auto; margin:0; padding: 0}\n",
       ".dl-inline>dt, .dl-inline>dd {float: none; width: auto; display: inline-block}\n",
       ".dl-inline>dt::after {content: \":\\0020\"; padding-right: .5ex}\n",
       ".dl-inline>dt:not(:first-of-type) {padding-left: .5ex}\n",
       "</style><dl class=dl-inline><dt>a</dt><dd>1</dd><dt>b</dt><dd>3</dd><dt>c</dt><dd>2</dd></dl>\n"
      ],
      "text/latex": [
       "\\begin{description*}\n",
       "\\item[a] 1\n",
       "\\item[b] 3\n",
       "\\item[c] 2\n",
       "\\end{description*}\n"
      ],
      "text/markdown": [
       "a\n",
       ":   1b\n",
       ":   3c\n",
       ":   2\n",
       "\n"
      ],
      "text/plain": [
       "a b c \n",
       "1 3 2 "
      ]
     },
     "metadata": {},
     "output_type": "display_data"
    }
   ],
   "source": [
    "colSums(is.na(df_5))"
   ]
  },
  {
   "cell_type": "code",
   "execution_count": 56,
   "id": "5cf0cd8d-a282-411e-9e82-7797b8e2a2c1",
   "metadata": {},
   "outputs": [
    {
     "data": {
      "text/html": [
       "<style>\n",
       ".list-inline {list-style: none; margin:0; padding: 0}\n",
       ".list-inline>li {display: inline-block}\n",
       ".list-inline>li:not(:last-child)::after {content: \"\\00b7\"; padding: 0 .5ex}\n",
       "</style>\n",
       "<ol class=list-inline><li>1</li><li>4</li><li>9</li><li>&lt;NA&gt;</li></ol>\n"
      ],
      "text/latex": [
       "\\begin{enumerate*}\n",
       "\\item 1\n",
       "\\item 4\n",
       "\\item 9\n",
       "\\item <NA>\n",
       "\\end{enumerate*}\n"
      ],
      "text/markdown": [
       "1. 1\n",
       "2. 4\n",
       "3. 9\n",
       "4. &lt;NA&gt;\n",
       "\n",
       "\n"
      ],
      "text/plain": [
       "[1]  1  4  9 NA"
      ]
     },
     "metadata": {},
     "output_type": "display_data"
    }
   ],
   "source": [
    "df_5[, colSums(is.na(df_5)) == 1]"
   ]
  },
  {
   "cell_type": "code",
   "execution_count": 57,
   "id": "62e6223e-f522-4567-bec9-3939405af8ac",
   "metadata": {},
   "outputs": [
    {
     "data": {
      "text/html": [
       "<table class=\"dataframe\">\n",
       "<caption>A data.frame: 2 × 3</caption>\n",
       "<thead>\n",
       "\t<tr><th></th><th scope=col>a</th><th scope=col>b</th><th scope=col>c</th></tr>\n",
       "\t<tr><th></th><th scope=col>&lt;dbl&gt;</th><th scope=col>&lt;dbl&gt;</th><th scope=col>&lt;dbl&gt;</th></tr>\n",
       "</thead>\n",
       "<tbody>\n",
       "\t<tr><th scope=row>1</th><td>1</td><td>NA</td><td>3</td></tr>\n",
       "\t<tr><th scope=row>3</th><td>9</td><td> 7</td><td>8</td></tr>\n",
       "</tbody>\n",
       "</table>\n"
      ],
      "text/latex": [
       "A data.frame: 2 × 3\n",
       "\\begin{tabular}{r|lll}\n",
       "  & a & b & c\\\\\n",
       "  & <dbl> & <dbl> & <dbl>\\\\\n",
       "\\hline\n",
       "\t1 & 1 & NA & 3\\\\\n",
       "\t3 & 9 &  7 & 8\\\\\n",
       "\\end{tabular}\n"
      ],
      "text/markdown": [
       "\n",
       "A data.frame: 2 × 3\n",
       "\n",
       "| <!--/--> | a &lt;dbl&gt; | b &lt;dbl&gt; | c &lt;dbl&gt; |\n",
       "|---|---|---|---|\n",
       "| 1 | 1 | NA | 3 |\n",
       "| 3 | 9 |  7 | 8 |\n",
       "\n"
      ],
      "text/plain": [
       "  a b  c\n",
       "1 1 NA 3\n",
       "3 9  7 8"
      ]
     },
     "metadata": {},
     "output_type": "display_data"
    }
   ],
   "source": [
    "df_5[rowSums(!is.na(df_5)) >= 2, ]"
   ]
  },
  {
   "cell_type": "code",
   "execution_count": 58,
   "id": "c8219a72-ea7e-41d7-abcd-50d884e9b344",
   "metadata": {},
   "outputs": [
    {
     "data": {
      "text/html": [
       "<table class=\"dataframe\">\n",
       "<caption>A data.frame: 4 × 3</caption>\n",
       "<thead>\n",
       "\t<tr><th scope=col>a</th><th scope=col>b</th><th scope=col>c</th></tr>\n",
       "\t<tr><th scope=col>&lt;dbl&gt;</th><th scope=col>&lt;dbl&gt;</th><th scope=col>&lt;dbl&gt;</th></tr>\n",
       "</thead>\n",
       "<tbody>\n",
       "\t<tr><td>1</td><td>0</td><td>3</td></tr>\n",
       "\t<tr><td>4</td><td>0</td><td>0</td></tr>\n",
       "\t<tr><td>9</td><td>7</td><td>8</td></tr>\n",
       "\t<tr><td>0</td><td>0</td><td>0</td></tr>\n",
       "</tbody>\n",
       "</table>\n"
      ],
      "text/latex": [
       "A data.frame: 4 × 3\n",
       "\\begin{tabular}{lll}\n",
       " a & b & c\\\\\n",
       " <dbl> & <dbl> & <dbl>\\\\\n",
       "\\hline\n",
       "\t 1 & 0 & 3\\\\\n",
       "\t 4 & 0 & 0\\\\\n",
       "\t 9 & 7 & 8\\\\\n",
       "\t 0 & 0 & 0\\\\\n",
       "\\end{tabular}\n"
      ],
      "text/markdown": [
       "\n",
       "A data.frame: 4 × 3\n",
       "\n",
       "| a &lt;dbl&gt; | b &lt;dbl&gt; | c &lt;dbl&gt; |\n",
       "|---|---|---|\n",
       "| 1 | 0 | 3 |\n",
       "| 4 | 0 | 0 |\n",
       "| 9 | 7 | 8 |\n",
       "| 0 | 0 | 0 |\n",
       "\n"
      ],
      "text/plain": [
       "  a b c\n",
       "1 1 0 3\n",
       "2 4 0 0\n",
       "3 9 7 8\n",
       "4 0 0 0"
      ]
     },
     "metadata": {},
     "output_type": "display_data"
    }
   ],
   "source": [
    "df_5[is.na(df_5)] <- 0\n",
    "df_5"
   ]
  },
  {
   "cell_type": "code",
   "execution_count": 59,
   "id": "881f589a-724c-428f-9413-4ac660ea1420",
   "metadata": {},
   "outputs": [
    {
     "data": {
      "text/html": [
       "&lt;NA&gt;"
      ],
      "text/latex": [
       "<NA>"
      ],
      "text/markdown": [
       "&lt;NA&gt;"
      ],
      "text/plain": [
       "[1] NA"
      ]
     },
     "metadata": {},
     "output_type": "display_data"
    }
   ],
   "source": [
    "df_5 <- data.frame(\n",
    "  a = c(1, 4, 9, NA),\n",
    "  b = c(NA, NA, 7, NA),\n",
    "  c = c(3, NA, 8, NA)\n",
    ")\n",
    "\n",
    "df_5$a[is.na(df_5$a)]"
   ]
  },
  {
   "cell_type": "code",
   "execution_count": 60,
   "id": "397c9a14-ea15-4730-be0a-7c0b8ddbb003",
   "metadata": {},
   "outputs": [
    {
     "data": {
      "text/html": [
       "&lt;NA&gt;"
      ],
      "text/latex": [
       "<NA>"
      ],
      "text/markdown": [
       "&lt;NA&gt;"
      ],
      "text/plain": [
       "[1] NA"
      ]
     },
     "metadata": {},
     "output_type": "display_data"
    },
    {
     "data": {
      "text/html": [
       "4.66666666666667"
      ],
      "text/latex": [
       "4.66666666666667"
      ],
      "text/markdown": [
       "4.66666666666667"
      ],
      "text/plain": [
       "[1] 4.666667"
      ]
     },
     "metadata": {},
     "output_type": "display_data"
    }
   ],
   "source": [
    "mean(df_5$a)\n",
    "mean(df_5$a, na.rm=TRUE)"
   ]
  },
  {
   "cell_type": "code",
   "execution_count": 61,
   "id": "4912d8c1-6b02-4a21-9d15-ab798a5f2963",
   "metadata": {},
   "outputs": [
    {
     "data": {
      "text/html": [
       "<table class=\"dataframe\">\n",
       "<caption>A data.frame: 4 × 3</caption>\n",
       "<thead>\n",
       "\t<tr><th scope=col>a</th><th scope=col>b</th><th scope=col>c</th></tr>\n",
       "\t<tr><th scope=col>&lt;dbl&gt;</th><th scope=col>&lt;dbl&gt;</th><th scope=col>&lt;dbl&gt;</th></tr>\n",
       "</thead>\n",
       "<tbody>\n",
       "\t<tr><td>1.000000</td><td>NA</td><td> 3</td></tr>\n",
       "\t<tr><td>4.000000</td><td>NA</td><td>NA</td></tr>\n",
       "\t<tr><td>9.000000</td><td> 7</td><td> 8</td></tr>\n",
       "\t<tr><td>4.666667</td><td>NA</td><td>NA</td></tr>\n",
       "</tbody>\n",
       "</table>\n"
      ],
      "text/latex": [
       "A data.frame: 4 × 3\n",
       "\\begin{tabular}{lll}\n",
       " a & b & c\\\\\n",
       " <dbl> & <dbl> & <dbl>\\\\\n",
       "\\hline\n",
       "\t 1.000000 & NA &  3\\\\\n",
       "\t 4.000000 & NA & NA\\\\\n",
       "\t 9.000000 &  7 &  8\\\\\n",
       "\t 4.666667 & NA & NA\\\\\n",
       "\\end{tabular}\n"
      ],
      "text/markdown": [
       "\n",
       "A data.frame: 4 × 3\n",
       "\n",
       "| a &lt;dbl&gt; | b &lt;dbl&gt; | c &lt;dbl&gt; |\n",
       "|---|---|---|\n",
       "| 1.000000 | NA |  3 |\n",
       "| 4.000000 | NA | NA |\n",
       "| 9.000000 |  7 |  8 |\n",
       "| 4.666667 | NA | NA |\n",
       "\n"
      ],
      "text/plain": [
       "  a        b  c \n",
       "1 1.000000 NA  3\n",
       "2 4.000000 NA NA\n",
       "3 9.000000  7  8\n",
       "4 4.666667 NA NA"
      ]
     },
     "metadata": {},
     "output_type": "display_data"
    }
   ],
   "source": [
    "df_5$a[is.na(df_5$a)] <- mean(df_5$a, na.rm=TRUE)\n",
    "df_5"
   ]
  },
  {
   "cell_type": "code",
   "execution_count": 62,
   "id": "96640ad8-827b-4533-a9b2-1642af5a2be7",
   "metadata": {},
   "outputs": [
    {
     "data": {
      "text/html": [
       "<table class=\"dataframe\">\n",
       "<caption>A data.frame: 4 × 4</caption>\n",
       "<thead>\n",
       "\t<tr><th></th><th scope=col>A_1</th><th scope=col>A_2</th><th scope=col>B_1</th><th scope=col>B_2</th></tr>\n",
       "\t<tr><th></th><th scope=col>&lt;int&gt;</th><th scope=col>&lt;int&gt;</th><th scope=col>&lt;int&gt;</th><th scope=col>&lt;int&gt;</th></tr>\n",
       "</thead>\n",
       "<tbody>\n",
       "\t<tr><th scope=row>a_1</th><td>0</td><td>4</td><td> 8</td><td>12</td></tr>\n",
       "\t<tr><th scope=row>a_2</th><td>1</td><td>5</td><td> 9</td><td>13</td></tr>\n",
       "\t<tr><th scope=row>b_1</th><td>2</td><td>6</td><td>10</td><td>14</td></tr>\n",
       "\t<tr><th scope=row>b_2</th><td>3</td><td>7</td><td>11</td><td>15</td></tr>\n",
       "</tbody>\n",
       "</table>\n"
      ],
      "text/latex": [
       "A data.frame: 4 × 4\n",
       "\\begin{tabular}{r|llll}\n",
       "  & A\\_1 & A\\_2 & B\\_1 & B\\_2\\\\\n",
       "  & <int> & <int> & <int> & <int>\\\\\n",
       "\\hline\n",
       "\ta\\_1 & 0 & 4 &  8 & 12\\\\\n",
       "\ta\\_2 & 1 & 5 &  9 & 13\\\\\n",
       "\tb\\_1 & 2 & 6 & 10 & 14\\\\\n",
       "\tb\\_2 & 3 & 7 & 11 & 15\\\\\n",
       "\\end{tabular}\n"
      ],
      "text/markdown": [
       "\n",
       "A data.frame: 4 × 4\n",
       "\n",
       "| <!--/--> | A_1 &lt;int&gt; | A_2 &lt;int&gt; | B_1 &lt;int&gt; | B_2 &lt;int&gt; |\n",
       "|---|---|---|---|---|\n",
       "| a_1 | 0 | 4 |  8 | 12 |\n",
       "| a_2 | 1 | 5 |  9 | 13 |\n",
       "| b_1 | 2 | 6 | 10 | 14 |\n",
       "| b_2 | 3 | 7 | 11 | 15 |\n",
       "\n"
      ],
      "text/plain": [
       "    A_1 A_2 B_1 B_2\n",
       "a_1 0   4    8  12 \n",
       "a_2 1   5    9  13 \n",
       "b_1 2   6   10  14 \n",
       "b_2 3   7   11  15 "
      ]
     },
     "metadata": {},
     "output_type": "display_data"
    }
   ],
   "source": [
    "df_6 <- as.data.frame(matrix(0:15, nrow=4, ncol=4))\n",
    "rownames(df_6) <- c(\"a_1\", \"a_2\", \"b_1\", \"b_2\")\n",
    "colnames(df_6) <- c(\"A_1\", \"A_2\", \"B_1\", \"B_2\")\n",
    "df_6"
   ]
  },
  {
   "cell_type": "code",
   "execution_count": 63,
   "id": "2c3f889e-8f17-4d1e-a9f4-b068879d2604",
   "metadata": {},
   "outputs": [
    {
     "data": {
      "text/html": [
       "<style>\n",
       ".list-inline {list-style: none; margin:0; padding: 0}\n",
       ".list-inline>li {display: inline-block}\n",
       ".list-inline>li:not(:last-child)::after {content: \"\\00b7\"; padding: 0 .5ex}\n",
       "</style>\n",
       "<ol class=list-inline><li>2</li><li>4</li></ol>\n"
      ],
      "text/latex": [
       "\\begin{enumerate*}\n",
       "\\item 2\n",
       "\\item 4\n",
       "\\end{enumerate*}\n"
      ],
      "text/markdown": [
       "1. 2\n",
       "2. 4\n",
       "\n",
       "\n"
      ],
      "text/plain": [
       "[1] 2 4"
      ]
     },
     "metadata": {},
     "output_type": "display_data"
    }
   ],
   "source": [
    "grep(\"^a\", c(\"c\",\"a\",\"b\",\"a\"))"
   ]
  },
  {
   "cell_type": "code",
   "execution_count": 64,
   "id": "d9514be9-a119-4c89-b7c0-33ed8bc82df3",
   "metadata": {},
   "outputs": [
    {
     "data": {
      "text/html": [
       "<style>\n",
       ".list-inline {list-style: none; margin:0; padding: 0}\n",
       ".list-inline>li {display: inline-block}\n",
       ".list-inline>li:not(:last-child)::after {content: \"\\00b7\"; padding: 0 .5ex}\n",
       "</style>\n",
       "<ol class=list-inline><li>1</li><li>2</li></ol>\n"
      ],
      "text/latex": [
       "\\begin{enumerate*}\n",
       "\\item 1\n",
       "\\item 2\n",
       "\\end{enumerate*}\n"
      ],
      "text/markdown": [
       "1. 1\n",
       "2. 2\n",
       "\n",
       "\n"
      ],
      "text/plain": [
       "[1] 1 2"
      ]
     },
     "metadata": {},
     "output_type": "display_data"
    }
   ],
   "source": [
    "grep(\"^a\", rownames(df_6))"
   ]
  },
  {
   "cell_type": "code",
   "execution_count": 65,
   "id": "80270bb6-da07-4c05-a286-e42fa70d638b",
   "metadata": {},
   "outputs": [
    {
     "data": {
      "text/html": [
       "<table class=\"dataframe\">\n",
       "<caption>A data.frame: 2 × 4</caption>\n",
       "<thead>\n",
       "\t<tr><th></th><th scope=col>A_1</th><th scope=col>A_2</th><th scope=col>B_1</th><th scope=col>B_2</th></tr>\n",
       "\t<tr><th></th><th scope=col>&lt;int&gt;</th><th scope=col>&lt;int&gt;</th><th scope=col>&lt;int&gt;</th><th scope=col>&lt;int&gt;</th></tr>\n",
       "</thead>\n",
       "<tbody>\n",
       "\t<tr><th scope=row>a_1</th><td>0</td><td>4</td><td>8</td><td>12</td></tr>\n",
       "\t<tr><th scope=row>a_2</th><td>1</td><td>5</td><td>9</td><td>13</td></tr>\n",
       "</tbody>\n",
       "</table>\n"
      ],
      "text/latex": [
       "A data.frame: 2 × 4\n",
       "\\begin{tabular}{r|llll}\n",
       "  & A\\_1 & A\\_2 & B\\_1 & B\\_2\\\\\n",
       "  & <int> & <int> & <int> & <int>\\\\\n",
       "\\hline\n",
       "\ta\\_1 & 0 & 4 & 8 & 12\\\\\n",
       "\ta\\_2 & 1 & 5 & 9 & 13\\\\\n",
       "\\end{tabular}\n"
      ],
      "text/markdown": [
       "\n",
       "A data.frame: 2 × 4\n",
       "\n",
       "| <!--/--> | A_1 &lt;int&gt; | A_2 &lt;int&gt; | B_1 &lt;int&gt; | B_2 &lt;int&gt; |\n",
       "|---|---|---|---|---|\n",
       "| a_1 | 0 | 4 | 8 | 12 |\n",
       "| a_2 | 1 | 5 | 9 | 13 |\n",
       "\n"
      ],
      "text/plain": [
       "    A_1 A_2 B_1 B_2\n",
       "a_1 0   4   8   12 \n",
       "a_2 1   5   9   13 "
      ]
     },
     "metadata": {},
     "output_type": "display_data"
    }
   ],
   "source": [
    "df_6[grep(\"^a\", rownames(df_6)), ]"
   ]
  },
  {
   "cell_type": "code",
   "execution_count": null,
   "id": "92d00cd7-f724-4152-8289-2195a180c276",
   "metadata": {},
   "outputs": [],
   "source": []
  },
  {
   "cell_type": "markdown",
   "id": "0a4ae543-29ed-4bba-bf54-bdd2814cc7d5",
   "metadata": {},
   "source": [
    "## List 2"
   ]
  },
  {
   "cell_type": "code",
   "execution_count": 66,
   "id": "d9af1b2a-55d3-448c-8221-7286b17db1be",
   "metadata": {},
   "outputs": [
    {
     "data": {
      "text/html": [
       "<ol>\n",
       "\t<li>3</li>\n",
       "\t<li>19</li>\n",
       "\t<li>112</li>\n",
       "\t<li>4731</li>\n",
       "</ol>\n"
      ],
      "text/latex": [
       "\\begin{enumerate}\n",
       "\\item 3\n",
       "\\item 19\n",
       "\\item 112\n",
       "\\item 4731\n",
       "\\end{enumerate}\n"
      ],
      "text/markdown": [
       "1. 3\n",
       "2. 19\n",
       "3. 112\n",
       "4. 4731\n",
       "\n",
       "\n"
      ],
      "text/plain": [
       "[[1]]\n",
       "[1] 3\n",
       "\n",
       "[[2]]\n",
       "[1] 19\n",
       "\n",
       "[[3]]\n",
       "[1] 112\n",
       "\n",
       "[[4]]\n",
       "[1] 4731\n"
      ]
     },
     "metadata": {},
     "output_type": "display_data"
    }
   ],
   "source": [
    "list_2 <- list(3, 19, 112, 4731)\n",
    "list_2"
   ]
  },
  {
   "cell_type": "code",
   "execution_count": 67,
   "id": "475ff59d-6e6e-43c3-861e-79367f78302b",
   "metadata": {},
   "outputs": [
    {
     "data": {
      "text/html": [
       "<dl>\n",
       "\t<dt>$A</dt>\n",
       "\t\t<dd>3</dd>\n",
       "\t<dt>$B</dt>\n",
       "\t\t<dd>19</dd>\n",
       "\t<dt>$C</dt>\n",
       "\t\t<dd>112</dd>\n",
       "\t<dt>$D</dt>\n",
       "\t\t<dd>4731</dd>\n",
       "</dl>\n"
      ],
      "text/latex": [
       "\\begin{description}\n",
       "\\item[\\$A] 3\n",
       "\\item[\\$B] 19\n",
       "\\item[\\$C] 112\n",
       "\\item[\\$D] 4731\n",
       "\\end{description}\n"
      ],
      "text/markdown": [
       "$A\n",
       ":   3\n",
       "$B\n",
       ":   19\n",
       "$C\n",
       ":   112\n",
       "$D\n",
       ":   4731\n",
       "\n",
       "\n"
      ],
      "text/plain": [
       "$A\n",
       "[1] 3\n",
       "\n",
       "$B\n",
       "[1] 19\n",
       "\n",
       "$C\n",
       "[1] 112\n",
       "\n",
       "$D\n",
       "[1] 4731\n"
      ]
     },
     "metadata": {},
     "output_type": "display_data"
    }
   ],
   "source": [
    "names(list_2) <- c(\"A\", \"B\", \"C\", \"D\")\n",
    "list_2"
   ]
  },
  {
   "cell_type": "code",
   "execution_count": 68,
   "id": "74f563e0-d300-426b-ad49-84aea38bd7b6",
   "metadata": {},
   "outputs": [
    {
     "data": {
      "text/html": [
       "3"
      ],
      "text/latex": [
       "3"
      ],
      "text/markdown": [
       "3"
      ],
      "text/plain": [
       "[1] 3"
      ]
     },
     "metadata": {},
     "output_type": "display_data"
    },
    {
     "data": {
      "text/html": [
       "3"
      ],
      "text/latex": [
       "3"
      ],
      "text/markdown": [
       "3"
      ],
      "text/plain": [
       "[1] 3"
      ]
     },
     "metadata": {},
     "output_type": "display_data"
    }
   ],
   "source": [
    "list_2[[1]]\n",
    "list_2$A"
   ]
  },
  {
   "cell_type": "code",
   "execution_count": 69,
   "id": "bbb6f710-bd21-4897-9af1-fe416fba3ce6",
   "metadata": {},
   "outputs": [
    {
     "data": {
      "text/html": [
       "<ol>\n",
       "\t<li><style>\n",
       ".dl-inline {width: auto; margin:0; padding: 0}\n",
       ".dl-inline>dt, .dl-inline>dd {float: none; width: auto; display: inline-block}\n",
       ".dl-inline>dt::after {content: \":\\0020\"; padding-right: .5ex}\n",
       ".dl-inline>dt:not(:first-of-type) {padding-left: .5ex}\n",
       "</style><dl class=dl-inline><dt>1</dt><dd>3</dd><dt>2</dt><dd>19</dd><dt>3</dt><dd>56</dd><dt>4</dt><dd>2365.5</dd><dt>5</dt><dd>3</dd><dt>6</dt><dd>19</dd></dl>\n",
       "</li>\n",
       "\t<li><table class=\"dataframe\">\n",
       "<caption>A matrix: 3 × 3 of type int</caption>\n",
       "<tbody>\n",
       "\t<tr><td>1</td><td>4</td><td>7</td></tr>\n",
       "\t<tr><td>2</td><td>5</td><td>8</td></tr>\n",
       "\t<tr><td>3</td><td>6</td><td>9</td></tr>\n",
       "</tbody>\n",
       "</table>\n",
       "</li>\n",
       "\t<li><table class=\"dataframe\">\n",
       "<caption>A data.frame: 6 × 3</caption>\n",
       "<thead>\n",
       "\t<tr><th scope=col>V1</th><th scope=col>V2</th><th scope=col>V3</th></tr>\n",
       "\t<tr><th scope=col>&lt;int&gt;</th><th scope=col>&lt;int&gt;</th><th scope=col>&lt;int&gt;</th></tr>\n",
       "</thead>\n",
       "<tbody>\n",
       "\t<tr><td>1</td><td>4</td><td>7</td></tr>\n",
       "\t<tr><td>2</td><td>5</td><td>8</td></tr>\n",
       "\t<tr><td>3</td><td>6</td><td>9</td></tr>\n",
       "\t<tr><td>1</td><td>2</td><td>3</td></tr>\n",
       "\t<tr><td>4</td><td>5</td><td>6</td></tr>\n",
       "\t<tr><td>7</td><td>8</td><td>9</td></tr>\n",
       "</tbody>\n",
       "</table>\n",
       "</li>\n",
       "\t<li><dl>\n",
       "\t<dt>$s1</dt>\n",
       "\t\t<dd><style>\n",
       ".list-inline {list-style: none; margin:0; padding: 0}\n",
       ".list-inline>li {display: inline-block}\n",
       ".list-inline>li:not(:last-child)::after {content: \"\\00b7\"; padding: 0 .5ex}\n",
       "</style>\n",
       "<ol class=list-inline><li>1</li><li>4</li><li>9</li></ol>\n",
       "</dd>\n",
       "\t<dt>$s2</dt>\n",
       "\t\t<dd><style>\n",
       ".list-inline {list-style: none; margin:0; padding: 0}\n",
       ".list-inline>li {display: inline-block}\n",
       ".list-inline>li:not(:last-child)::after {content: \"\\00b7\"; padding: 0 .5ex}\n",
       "</style>\n",
       "<ol class=list-inline><li>2</li><li>5</li><li>8</li></ol>\n",
       "</dd>\n",
       "\t<dt>$s3</dt>\n",
       "\t\t<dd><style>\n",
       ".list-inline {list-style: none; margin:0; padding: 0}\n",
       ".list-inline>li {display: inline-block}\n",
       ".list-inline>li:not(:last-child)::after {content: \"\\00b7\"; padding: 0 .5ex}\n",
       "</style>\n",
       "<ol class=list-inline><li>3</li><li>6</li><li>7</li></ol>\n",
       "</dd>\n",
       "</dl>\n",
       "</li>\n",
       "</ol>\n"
      ],
      "text/latex": [
       "\\begin{enumerate}\n",
       "\\item \\begin{description*}\n",
       "\\item[1] 3\n",
       "\\item[2] 19\n",
       "\\item[3] 56\n",
       "\\item[4] 2365.5\n",
       "\\item[5] 3\n",
       "\\item[6] 19\n",
       "\\end{description*}\n",
       "\n",
       "\\item A matrix: 3 × 3 of type int\n",
       "\\begin{tabular}{lll}\n",
       "\t 1 & 4 & 7\\\\\n",
       "\t 2 & 5 & 8\\\\\n",
       "\t 3 & 6 & 9\\\\\n",
       "\\end{tabular}\n",
       "\n",
       "\\item A data.frame: 6 × 3\n",
       "\\begin{tabular}{lll}\n",
       " V1 & V2 & V3\\\\\n",
       " <int> & <int> & <int>\\\\\n",
       "\\hline\n",
       "\t 1 & 4 & 7\\\\\n",
       "\t 2 & 5 & 8\\\\\n",
       "\t 3 & 6 & 9\\\\\n",
       "\t 1 & 2 & 3\\\\\n",
       "\t 4 & 5 & 6\\\\\n",
       "\t 7 & 8 & 9\\\\\n",
       "\\end{tabular}\n",
       "\n",
       "\\item \\begin{description}\n",
       "\\item[\\$s1] \\begin{enumerate*}\n",
       "\\item 1\n",
       "\\item 4\n",
       "\\item 9\n",
       "\\end{enumerate*}\n",
       "\n",
       "\\item[\\$s2] \\begin{enumerate*}\n",
       "\\item 2\n",
       "\\item 5\n",
       "\\item 8\n",
       "\\end{enumerate*}\n",
       "\n",
       "\\item[\\$s3] \\begin{enumerate*}\n",
       "\\item 3\n",
       "\\item 6\n",
       "\\item 7\n",
       "\\end{enumerate*}\n",
       "\n",
       "\\end{description}\n",
       "\n",
       "\\end{enumerate}\n"
      ],
      "text/markdown": [
       "1. 1\n",
       ":   32\n",
       ":   193\n",
       ":   564\n",
       ":   2365.55\n",
       ":   36\n",
       ":   19\n",
       "\n",
       "\n",
       "2. \n",
       "A matrix: 3 × 3 of type int\n",
       "\n",
       "| 1 | 4 | 7 |\n",
       "| 2 | 5 | 8 |\n",
       "| 3 | 6 | 9 |\n",
       "\n",
       "\n",
       "3. \n",
       "A data.frame: 6 × 3\n",
       "\n",
       "| V1 &lt;int&gt; | V2 &lt;int&gt; | V3 &lt;int&gt; |\n",
       "|---|---|---|\n",
       "| 1 | 4 | 7 |\n",
       "| 2 | 5 | 8 |\n",
       "| 3 | 6 | 9 |\n",
       "| 1 | 2 | 3 |\n",
       "| 4 | 5 | 6 |\n",
       "| 7 | 8 | 9 |\n",
       "\n",
       "\n",
       "4. $s1\n",
       ":   1. 1\n",
       "2. 4\n",
       "3. 9\n",
       "\n",
       "\n",
       "\n",
       "$s2\n",
       ":   1. 2\n",
       "2. 5\n",
       "3. 8\n",
       "\n",
       "\n",
       "\n",
       "$s3\n",
       ":   1. 3\n",
       "2. 6\n",
       "3. 7\n",
       "\n",
       "\n",
       "\n",
       "\n",
       "\n",
       "\n",
       "\n",
       "\n"
      ],
      "text/plain": [
       "[[1]]\n",
       "     1      2      3      4      5      6 \n",
       "   3.0   19.0   56.0 2365.5    3.0   19.0 \n",
       "\n",
       "[[2]]\n",
       "     [,1] [,2] [,3]\n",
       "[1,]    1    4    7\n",
       "[2,]    2    5    8\n",
       "[3,]    3    6    9\n",
       "\n",
       "[[3]]\n",
       "  V1 V2 V3\n",
       "1  1  4  7\n",
       "2  2  5  8\n",
       "3  3  6  9\n",
       "4  1  2  3\n",
       "5  4  5  6\n",
       "6  7  8  9\n",
       "\n",
       "[[4]]\n",
       "[[4]]$s1\n",
       "[1] 1 4 9\n",
       "\n",
       "[[4]]$s2\n",
       "[1] 2 5 8\n",
       "\n",
       "[[4]]$s3\n",
       "[1] 3 6 7\n",
       "\n"
      ]
     },
     "metadata": {},
     "output_type": "display_data"
    }
   ],
   "source": [
    "list_3 <- list(vec_1,matrix_1,df_1,list_1)\n",
    "list_3"
   ]
  },
  {
   "cell_type": "code",
   "execution_count": 70,
   "id": "29902ef7-80b2-4e20-bd03-ea48031bd2bc",
   "metadata": {},
   "outputs": [
    {
     "data": {
      "text/html": [
       "<table class=\"dataframe\">\n",
       "<caption>A matrix: 3 × 3 of type int</caption>\n",
       "<tbody>\n",
       "\t<tr><td>1</td><td>4</td><td>7</td></tr>\n",
       "\t<tr><td>2</td><td>5</td><td>8</td></tr>\n",
       "\t<tr><td>3</td><td>6</td><td>9</td></tr>\n",
       "</tbody>\n",
       "</table>\n"
      ],
      "text/latex": [
       "A matrix: 3 × 3 of type int\n",
       "\\begin{tabular}{lll}\n",
       "\t 1 & 4 & 7\\\\\n",
       "\t 2 & 5 & 8\\\\\n",
       "\t 3 & 6 & 9\\\\\n",
       "\\end{tabular}\n"
      ],
      "text/markdown": [
       "\n",
       "A matrix: 3 × 3 of type int\n",
       "\n",
       "| 1 | 4 | 7 |\n",
       "| 2 | 5 | 8 |\n",
       "| 3 | 6 | 9 |\n",
       "\n"
      ],
      "text/plain": [
       "     [,1] [,2] [,3]\n",
       "[1,] 1    4    7   \n",
       "[2,] 2    5    8   \n",
       "[3,] 3    6    9   "
      ]
     },
     "metadata": {},
     "output_type": "display_data"
    }
   ],
   "source": [
    "list_3[[2]]"
   ]
  },
  {
   "cell_type": "code",
   "execution_count": 71,
   "id": "659534cd-1259-44ce-a7b5-5c5adb1f044e",
   "metadata": {},
   "outputs": [
    {
     "data": {
      "text/html": [
       "<style>\n",
       ".list-inline {list-style: none; margin:0; padding: 0}\n",
       ".list-inline>li {display: inline-block}\n",
       ".list-inline>li:not(:last-child)::after {content: \"\\00b7\"; padding: 0 .5ex}\n",
       "</style>\n",
       "<ol class=list-inline><li>1</li><li>2</li><li>3</li></ol>\n"
      ],
      "text/latex": [
       "\\begin{enumerate*}\n",
       "\\item 1\n",
       "\\item 2\n",
       "\\item 3\n",
       "\\end{enumerate*}\n"
      ],
      "text/markdown": [
       "1. 1\n",
       "2. 2\n",
       "3. 3\n",
       "\n",
       "\n"
      ],
      "text/plain": [
       "[1] 1 2 3"
      ]
     },
     "metadata": {},
     "output_type": "display_data"
    }
   ],
   "source": [
    "list_3[[2]][,1]"
   ]
  },
  {
   "cell_type": "code",
   "execution_count": 72,
   "id": "ddeb46cd-15ed-4b10-bfca-4529eaa7a514",
   "metadata": {},
   "outputs": [
    {
     "data": {
      "text/html": [
       "6"
      ],
      "text/latex": [
       "6"
      ],
      "text/markdown": [
       "6"
      ],
      "text/plain": [
       "[1] 6"
      ]
     },
     "metadata": {},
     "output_type": "display_data"
    }
   ],
   "source": [
    "list_3[[3]][3,2]"
   ]
  },
  {
   "cell_type": "code",
   "execution_count": 73,
   "id": "d28ad972-e50e-47c9-8678-8aee26240c7d",
   "metadata": {},
   "outputs": [
    {
     "data": {
      "text/plain": [
       "NULL"
      ]
     },
     "metadata": {},
     "output_type": "display_data"
    }
   ],
   "source": [
    "list_3[[4]]$D"
   ]
  },
  {
   "cell_type": "code",
   "execution_count": null,
   "id": "1ee4752e-e5fe-47aa-a729-7fbb396fca73",
   "metadata": {},
   "outputs": [],
   "source": []
  }
 ],
 "metadata": {
  "kernelspec": {
   "display_name": "R",
   "language": "R",
   "name": "ir"
  },
  "language_info": {
   "codemirror_mode": "r",
   "file_extension": ".r",
   "mimetype": "text/x-r-source",
   "name": "R",
   "pygments_lexer": "r",
   "version": "4.4.2"
  }
 },
 "nbformat": 4,
 "nbformat_minor": 5
}
