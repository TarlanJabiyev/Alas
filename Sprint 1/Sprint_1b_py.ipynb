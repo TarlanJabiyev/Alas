{
 "cells": [
  {
   "cell_type": "markdown",
   "id": "3e109c0c-3253-454a-bbad-1ab55f3431c5",
   "metadata": {},
   "source": [
    "## String"
   ]
  },
  {
   "cell_type": "code",
   "execution_count": 1,
   "id": "0825f22d-8b3d-4222-8337-56653e20c649",
   "metadata": {},
   "outputs": [
    {
     "data": {
      "text/plain": [
       "'Alas'"
      ]
     },
     "execution_count": 1,
     "metadata": {},
     "output_type": "execute_result"
    }
   ],
   "source": [
    "\"Alas\""
   ]
  },
  {
   "cell_type": "code",
   "execution_count": 2,
   "id": "7d630999-8562-4b8e-87cc-4cd7a0caf1c1",
   "metadata": {},
   "outputs": [
    {
     "data": {
      "text/plain": [
       "'Alas'"
      ]
     },
     "execution_count": 2,
     "metadata": {},
     "output_type": "execute_result"
    }
   ],
   "source": [
    "'Alas'"
   ]
  },
  {
   "cell_type": "code",
   "execution_count": 2,
   "id": "ea56679f-36c2-460c-b9a8-e8779dae6646",
   "metadata": {},
   "outputs": [
    {
     "data": {
      "text/plain": [
       "'Salam Alas'"
      ]
     },
     "execution_count": 2,
     "metadata": {},
     "output_type": "execute_result"
    }
   ],
   "source": [
    "'Salam Alas'"
   ]
  },
  {
   "cell_type": "markdown",
   "id": "d1400329-c24c-4404-858c-1f01dfa96170",
   "metadata": {},
   "source": [
    "### Index"
   ]
  },
  {
   "cell_type": "code",
   "execution_count": 3,
   "id": "6ddb99e7-462f-4717-a8ba-697a3d4c7f4e",
   "metadata": {},
   "outputs": [],
   "source": [
    "söz = 'Alas'\n",
    "cümlə = 'Salam Alas'"
   ]
  },
  {
   "cell_type": "code",
   "execution_count": 5,
   "id": "f050960f-1d11-4214-b112-5c32c7c87b2f",
   "metadata": {},
   "outputs": [
    {
     "data": {
      "text/plain": [
       "4"
      ]
     },
     "execution_count": 5,
     "metadata": {},
     "output_type": "execute_result"
    }
   ],
   "source": [
    "len(söz)"
   ]
  },
  {
   "cell_type": "code",
   "execution_count": 6,
   "id": "052cc7b0-b56a-4ca5-97ac-6248717e146f",
   "metadata": {},
   "outputs": [
    {
     "data": {
      "text/plain": [
       "'A'"
      ]
     },
     "execution_count": 6,
     "metadata": {},
     "output_type": "execute_result"
    }
   ],
   "source": [
    "söz[0]"
   ]
  },
  {
   "cell_type": "code",
   "execution_count": 7,
   "id": "e9e6d7cd-ca1a-40e9-9708-7f5536e8cbe3",
   "metadata": {},
   "outputs": [
    {
     "data": {
      "text/plain": [
       "'l'"
      ]
     },
     "execution_count": 7,
     "metadata": {},
     "output_type": "execute_result"
    }
   ],
   "source": [
    "söz[1]"
   ]
  },
  {
   "cell_type": "code",
   "execution_count": 8,
   "id": "28ef740e-9a18-4c21-a2d4-027de406245a",
   "metadata": {},
   "outputs": [
    {
     "data": {
      "text/plain": [
       "'s'"
      ]
     },
     "execution_count": 8,
     "metadata": {},
     "output_type": "execute_result"
    }
   ],
   "source": [
    "cümlə[-1]"
   ]
  },
  {
   "cell_type": "code",
   "execution_count": 9,
   "id": "5c37372d-3250-46e3-bf66-c3ddc32e5396",
   "metadata": {},
   "outputs": [
    {
     "data": {
      "text/plain": [
       "'al'"
      ]
     },
     "execution_count": 9,
     "metadata": {},
     "output_type": "execute_result"
    }
   ],
   "source": [
    "cümlə[1:3]"
   ]
  },
  {
   "cell_type": "code",
   "execution_count": 10,
   "id": "f68f29ba-236b-41ff-a9ec-c37cd3782df2",
   "metadata": {},
   "outputs": [
    {
     "data": {
      "text/plain": [
       "'SlmAa'"
      ]
     },
     "execution_count": 10,
     "metadata": {},
     "output_type": "execute_result"
    }
   ],
   "source": [
    "cümlə[::2]"
   ]
  },
  {
   "cell_type": "code",
   "execution_count": 11,
   "id": "15a62227-7507-4f21-b3bd-e0121e06006c",
   "metadata": {},
   "outputs": [
    {
     "data": {
      "text/plain": [
       "'salA malaS'"
      ]
     },
     "execution_count": 11,
     "metadata": {},
     "output_type": "execute_result"
    }
   ],
   "source": [
    "cümlə[::-1]"
   ]
  },
  {
   "cell_type": "code",
   "execution_count": 12,
   "id": "c32b2814-8d56-4377-bb94-c8a6cba30382",
   "metadata": {},
   "outputs": [
    {
     "data": {
      "text/plain": [
       "10"
      ]
     },
     "execution_count": 12,
     "metadata": {},
     "output_type": "execute_result"
    }
   ],
   "source": [
    "len(cümlə)"
   ]
  },
  {
   "cell_type": "code",
   "execution_count": 13,
   "id": "cc1297fe-8fb0-4539-94f0-0af6dda30181",
   "metadata": {},
   "outputs": [],
   "source": [
    "söz_2 = 'academy'"
   ]
  },
  {
   "cell_type": "code",
   "execution_count": 14,
   "id": "ce2f349f-8ae0-4fa0-a0b7-a2cd1124b1b9",
   "metadata": {},
   "outputs": [
    {
     "data": {
      "text/plain": [
       "'Alasacademy'"
      ]
     },
     "execution_count": 14,
     "metadata": {},
     "output_type": "execute_result"
    }
   ],
   "source": [
    "söz + söz_2"
   ]
  },
  {
   "cell_type": "code",
   "execution_count": 15,
   "id": "0eb0a495-b0f7-4fca-8298-a7061f8ff907",
   "metadata": {},
   "outputs": [
    {
     "data": {
      "text/plain": [
       "'Alas academy'"
      ]
     },
     "execution_count": 15,
     "metadata": {},
     "output_type": "execute_result"
    }
   ],
   "source": [
    "söz + ' ' + söz_2"
   ]
  },
  {
   "cell_type": "code",
   "execution_count": 16,
   "id": "cae96cc4-4177-42f8-ae9f-bd00bb53fdd5",
   "metadata": {},
   "outputs": [
    {
     "data": {
      "text/plain": [
       "'Data Science ➡️ 𝐑ꨄ 𝙖𝙣𝙙 𝓟ᥫ᭡'"
      ]
     },
     "execution_count": 16,
     "metadata": {},
     "output_type": "execute_result"
    }
   ],
   "source": [
    "\"Data Science \" + '➡️ ' + '𝐑ꨄ ' + '𝙖𝙣𝙙 ' + '𝓟ᥫ᭡'"
   ]
  },
  {
   "cell_type": "markdown",
   "id": "d4e8dea6-de96-43c9-aefb-259ff46dbf39",
   "metadata": {},
   "source": [
    "### Xüsusi funksiyalar"
   ]
  },
  {
   "cell_type": "code",
   "execution_count": 17,
   "id": "4fb2693a-f5ea-4dcd-93bb-240374469031",
   "metadata": {},
   "outputs": [
    {
     "data": {
      "text/plain": [
       "'Academy'"
      ]
     },
     "execution_count": 17,
     "metadata": {},
     "output_type": "execute_result"
    }
   ],
   "source": [
    "söz_2.capitalize()"
   ]
  },
  {
   "cell_type": "code",
   "execution_count": 18,
   "id": "8b949581-cf63-48ec-a32f-e1cb4fbfd2cf",
   "metadata": {},
   "outputs": [
    {
     "data": {
      "text/plain": [
       "'ACADEMY'"
      ]
     },
     "execution_count": 18,
     "metadata": {},
     "output_type": "execute_result"
    }
   ],
   "source": [
    "söz_2.upper()"
   ]
  },
  {
   "cell_type": "code",
   "execution_count": 19,
   "id": "4b0b49be-e546-4c79-925b-583ed036f49a",
   "metadata": {},
   "outputs": [
    {
     "data": {
      "text/plain": [
       "'salam alas'"
      ]
     },
     "execution_count": 19,
     "metadata": {},
     "output_type": "execute_result"
    }
   ],
   "source": [
    "cümlə.lower()"
   ]
  },
  {
   "cell_type": "code",
   "execution_count": 20,
   "id": "e093b203-a048-4206-ba31-0d84428f519d",
   "metadata": {},
   "outputs": [
    {
     "data": {
      "text/plain": [
       "['Salam', 'Alas']"
      ]
     },
     "execution_count": 20,
     "metadata": {},
     "output_type": "execute_result"
    }
   ],
   "source": [
    "cümlə.split()"
   ]
  },
  {
   "cell_type": "code",
   "execution_count": 21,
   "id": "e3a3eb68-5eb9-436e-b232-1f3617658147",
   "metadata": {},
   "outputs": [],
   "source": [
    "cümlə_2 = 'Salam-Alas-Academy'"
   ]
  },
  {
   "cell_type": "code",
   "execution_count": 22,
   "id": "827b0dde-6d05-406e-9510-767852507412",
   "metadata": {},
   "outputs": [
    {
     "data": {
      "text/plain": [
       "['Salam', 'Alas', 'Academy']"
      ]
     },
     "execution_count": 22,
     "metadata": {},
     "output_type": "execute_result"
    }
   ],
   "source": [
    "cümlə_2.split(\"-\")"
   ]
  },
  {
   "cell_type": "code",
   "execution_count": 23,
   "id": "371c029d-358a-4dcf-9b07-9c5beadc8425",
   "metadata": {},
   "outputs": [
    {
     "data": {
      "text/plain": [
       "'Salam Alas Academy'"
      ]
     },
     "execution_count": 23,
     "metadata": {},
     "output_type": "execute_result"
    }
   ],
   "source": [
    "cümlə_2.replace(\"-\",\" \")"
   ]
  },
  {
   "cell_type": "markdown",
   "id": "f7b8075f-e2c2-482f-a315-fd803f0e4d0e",
   "metadata": {},
   "source": [
    "## Format Print"
   ]
  },
  {
   "cell_type": "markdown",
   "id": "022b37ec-214a-4715-ba9e-e4ad450a56b4",
   "metadata": {},
   "source": [
    "### f format"
   ]
  },
  {
   "cell_type": "code",
   "execution_count": 12,
   "id": "bb646d81-b998-4eec-ba78-28709e7eaceb",
   "metadata": {},
   "outputs": [
    {
     "data": {
      "text/plain": [
       "5.333333333333333"
      ]
     },
     "execution_count": 12,
     "metadata": {},
     "output_type": "execute_result"
    }
   ],
   "source": [
    "hesab = 16 / 3\n",
    "hesab"
   ]
  },
  {
   "cell_type": "code",
   "execution_count": 17,
   "id": "ec843298-f0bf-44b2-b666-876273e3625f",
   "metadata": {},
   "outputs": [
    {
     "name": "stdout",
     "output_type": "stream",
     "text": [
      "Nəticə 5.333333333333333\n"
     ]
    }
   ],
   "source": [
    "print(f'Nəticə {hesab}')"
   ]
  },
  {
   "cell_type": "code",
   "execution_count": 18,
   "id": "ccb47340-ee55-4860-bfcd-4a90acbe1ee4",
   "metadata": {},
   "outputs": [],
   "source": [
    "son_hesab = round(hesab,1)"
   ]
  },
  {
   "cell_type": "code",
   "execution_count": 33,
   "id": "b65c9caf-3615-4c34-849f-b5fcbac906fa",
   "metadata": {},
   "outputs": [
    {
     "name": "stdout",
     "output_type": "stream",
     "text": [
      "Nəticə 5.333333333333333, Son nəticə: 5.3\n"
     ]
    }
   ],
   "source": [
    "print(f'Nəticə {hesab}, Son nəticə: {son_hesab}')"
   ]
  },
  {
   "cell_type": "code",
   "execution_count": 34,
   "id": "8f294325-59c5-407d-8c16-dd05576a9c07",
   "metadata": {},
   "outputs": [
    {
     "name": "stdout",
     "output_type": "stream",
     "text": [
      "Nəticə 5.333333333333333,\n",
      "Son nəticə: 5.3\n"
     ]
    }
   ],
   "source": [
    "print(f'Nəticə {hesab},\\nSon nəticə: {son_hesab}')"
   ]
  },
  {
   "cell_type": "markdown",
   "id": "26290c2c-78af-4018-a0db-3ed746fc9cc6",
   "metadata": {},
   "source": [
    "### % format"
   ]
  },
  {
   "cell_type": "raw",
   "id": "bce49401-f8db-4633-a5c2-61037b778373",
   "metadata": {},
   "source": [
    "%f --> float\n",
    "%d --> integer\n",
    "%s --> string, list"
   ]
  },
  {
   "cell_type": "code",
   "execution_count": 15,
   "id": "a92e80d6-a4b6-4de7-b359-34f96e8901ba",
   "metadata": {},
   "outputs": [
    {
     "name": "stdout",
     "output_type": "stream",
     "text": [
      "given number: 5.33\n"
     ]
    }
   ],
   "source": [
    "print(\"given number: %.2f\" %hesab)"
   ]
  },
  {
   "cell_type": "code",
   "execution_count": 33,
   "id": "a2dfe5c6-e2c0-4f64-9864-d90018f5f4fc",
   "metadata": {},
   "outputs": [
    {
     "name": "stdout",
     "output_type": "stream",
     "text": [
      "Mənim 22 yaşım var\n"
     ]
    }
   ],
   "source": [
    "yaş = 22\n",
    "\n",
    "print('Mənim %d yaşım var' %yaş)"
   ]
  },
  {
   "cell_type": "code",
   "execution_count": 34,
   "id": "1987409d-53c9-41c7-8a2f-0b9780eb70b3",
   "metadata": {},
   "outputs": [
    {
     "name": "stdout",
     "output_type": "stream",
     "text": [
      "Mən Bakının Xətai rayonunda yaşayıram.\n"
     ]
    }
   ],
   "source": [
    "şəhər = 'Bakı'\n",
    "rayon = 'Xətai'\n",
    "print('Mən %snın %s rayonunda yaşayıram.' %(şəhər,rayon))"
   ]
  },
  {
   "cell_type": "code",
   "execution_count": null,
   "id": "aed74388-a878-49c7-b326-8db73f5d9f85",
   "metadata": {},
   "outputs": [],
   "source": []
  }
 ],
 "metadata": {
  "kernelspec": {
   "display_name": "Python 3 (ipykernel)",
   "language": "python",
   "name": "python3"
  },
  "language_info": {
   "codemirror_mode": {
    "name": "ipython",
    "version": 3
   },
   "file_extension": ".py",
   "mimetype": "text/x-python",
   "name": "python",
   "nbconvert_exporter": "python",
   "pygments_lexer": "ipython3",
   "version": "3.13.2"
  }
 },
 "nbformat": 4,
 "nbformat_minor": 5
}
