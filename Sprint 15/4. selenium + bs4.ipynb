{
 "cells": [
  {
   "cell_type": "code",
   "execution_count": null,
   "id": "d12ba98f-e048-460d-af97-008f49849e42",
   "metadata": {},
   "outputs": [],
   "source": [
    "from selenium import webdriver\n",
    "from selenium.webdriver.chrome.service import Service\n",
    "from selenium.common.exceptions import NoSuchElementException\n",
    "from selenium.webdriver.common.by import By\n",
    "from bs4 import BeautifulSoup\n",
    "import pandas as pd\n",
    "import time"
   ]
  },
  {
   "cell_type": "code",
   "execution_count": null,
   "id": "fe76f401-59b9-4288-9eb9-de0080bc2b08",
   "metadata": {},
   "outputs": [],
   "source": [
    "service = Service()\n",
    "options = webdriver.ChromeOptions()"
   ]
  },
  {
   "cell_type": "code",
   "execution_count": null,
   "id": "2a0febbe-2c9c-4c5d-bea7-34773d2c012e",
   "metadata": {},
   "outputs": [],
   "source": [
    "driver = webdriver.Chrome(service=service, options=options)"
   ]
  },
  {
   "cell_type": "code",
   "execution_count": null,
   "id": "180032cf-3294-4012-883f-0420dbea37a2",
   "metadata": {},
   "outputs": [],
   "source": [
    "driver.get(\"https://salaries.texastribune.org/search/?q=%22Department+of+Public+Safety%22\")"
   ]
  },
  {
   "cell_type": "code",
   "execution_count": null,
   "id": "be37dfaa-caa3-4168-9a5f-4bf80496836e",
   "metadata": {},
   "outputs": [],
   "source": [
    "soup = BeautifulSoup(driver.page_source, 'html.parser')"
   ]
  },
  {
   "cell_type": "code",
   "execution_count": null,
   "id": "aecde206-4b6e-4e0e-9569-8c5adda33bd5",
   "metadata": {
    "scrolled": true
   },
   "outputs": [],
   "source": [
    "tables = soup.find_all('table')\n",
    "len(tables)"
   ]
  },
  {
   "cell_type": "code",
   "execution_count": null,
   "id": "345b293d-b4a4-4be6-9993-b70dd2f404be",
   "metadata": {},
   "outputs": [],
   "source": [
    "df = pd.read_html(str(tables[1]))[0]\n",
    "df.head()"
   ]
  },
  {
   "cell_type": "code",
   "execution_count": null,
   "id": "80a29c00-c8c6-4f90-b7da-c56f6668ca4c",
   "metadata": {},
   "outputs": [],
   "source": [
    "next_button = driver.find_element(By.XPATH, '//a[@aria-label=\"Next Page\"]')\n",
    "next_button.click() # təkrar kliklər üçün while loop yazaq"
   ]
  },
  {
   "cell_type": "code",
   "execution_count": null,
   "id": "222a4bad-5591-47b8-9a8c-d9812408a3b8",
   "metadata": {},
   "outputs": [],
   "source": [
    "all_data = []"
   ]
  },
  {
   "cell_type": "code",
   "execution_count": null,
   "id": "b76ca1a9-c338-4866-a3cc-34e40fcfbd1e",
   "metadata": {},
   "outputs": [],
   "source": [
    "while True:\n",
    "    soup = BeautifulSoup(driver.page_source, 'html.parser')\n",
    "    tables = soup.find_all('table')\n",
    "    df = pd.read_html(str(tables[1]))[0]\n",
    "    all_data.append(df)\n",
    "   \n",
    "    try:\n",
    "        next_button = driver.find_element(By.XPATH, '//a[@aria-label=\"Next Page\"]')\n",
    "        next_button.click()\n",
    "        #time.sleep(1)\n",
    "    except NoSuchElementException:\n",
    "        print(\"Script Complete!\")\n",
    "        break"
   ]
  },
  {
   "cell_type": "code",
   "execution_count": null,
   "id": "3e6f728c-cb99-41a3-a00e-b85e22686163",
   "metadata": {},
   "outputs": [],
   "source": [
    "final_df = pd.concat(all_data, ignore_index=True)\n",
    "final_df.columns.values[2] = \"Agency\""
   ]
  },
  {
   "cell_type": "code",
   "execution_count": null,
   "id": "d71a8725-7c87-4578-98ed-7610190230d7",
   "metadata": {},
   "outputs": [],
   "source": [
    "final_df[\"Annual salary\"] = final_df[\"Annual salary\"].replace('[\\$,]', '', regex=True).astype(float)"
   ]
  },
  {
   "cell_type": "code",
   "execution_count": null,
   "id": "0c90941b-b432-4ef4-a8b0-8ea4b0adef38",
   "metadata": {},
   "outputs": [],
   "source": [
    "driver.quit()"
   ]
  }
 ],
 "metadata": {
  "kernelspec": {
   "display_name": "Python 3 (ipykernel)",
   "language": "python",
   "name": "python3"
  },
  "language_info": {
   "codemirror_mode": {
    "name": "ipython",
    "version": 3
   },
   "file_extension": ".py",
   "mimetype": "text/x-python",
   "name": "python",
   "nbconvert_exporter": "python",
   "pygments_lexer": "ipython3",
   "version": "3.11.7"
  }
 },
 "nbformat": 4,
 "nbformat_minor": 5
}
