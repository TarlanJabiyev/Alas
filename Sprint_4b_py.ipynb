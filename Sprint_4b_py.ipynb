{
 "cells": [
  {
   "cell_type": "markdown",
   "id": "21225e18-eeb7-419d-9bf9-41620187b067",
   "metadata": {},
   "source": [
    "# OOP-yə Giriş (Object-Oriented Programming - Obyekt-Yönümlü Proqramlaşdırma)"
   ]
  },
  {
   "cell_type": "markdown",
   "id": "0c980d69-100e-4540-82be-72fb22670bc0",
   "metadata": {},
   "source": [
    "- Obyekt-Yönümlü Proqramlaşdırma (OOP) proqramlaşdırma paradiqmasıdır və obyektlərdən istifadə edərək verilənlər və funksionallıq arasında əlaqə yaratmağa imkan verir. \n",
    "- OOP kompleks proqramların strukturlaşdırılmasını asanlaşdırır və kodun təkrar istifadəsini artırır."
   ]
  },
  {
   "cell_type": "markdown",
   "id": "4cb2e349-e684-4e4b-8abf-db78e8d77f14",
   "metadata": {},
   "source": [
    "## OOP Anlayışı və Prinsipləri"
   ]
  },
  {
   "cell_type": "markdown",
   "id": "6e9150b7-2282-4930-9dab-324c6054d6ca",
   "metadata": {},
   "source": [
    "OOP əsasən 4 əsas prinsipi əhatə edir:\n",
    "\n",
    "1. Encapsulation (Qapalılıq):\n",
    "Verilənləri və funksiyaları bir sinifdə birləşdirir. Verilənlərin birbaşa manipulyasiyasını məhdudlaşdırır.\n",
    "\n",
    "2. Inheritance (İrsiyyət):\n",
    "Mövcud bir sinifin xüsusiyyətlərini başqa bir sinifə ötürərək yenidən istifadəni təmin edir.\n",
    "\n",
    "3. Abstraction (Abstraksiya):\n",
    "Lazımsız detalları gizlədərək yalnız zəruri xüsusiyyətləri göstərir.\n",
    "\n",
    "4. Polymorphism (Polimorfizm):\n",
    "Eyni interfeys və ya metodun fərqli obyektlərdə müxtəlif şəkildə işləməsini təmin edir."
   ]
  },
  {
   "cell_type": "markdown",
   "id": "96f0d70a-4f21-45d5-9124-8138552e84d4",
   "metadata": {},
   "source": [
    "# Sinif (Class) və Obyekt (Object) Anlayışları"
   ]
  },
  {
   "cell_type": "markdown",
   "id": "90008fc4-9841-4596-a8c4-a12cb70aeeeb",
   "metadata": {},
   "source": [
    "- Class: Obyektlərin modeli və ya şablonu kimi xidmət edir. Class atributlar (verilənlər) və metodlardan (funksiyalar) ibarətdir.\n",
    "- Object: Sinifdən yaradılan real nümunədir."
   ]
  },
  {
   "cell_type": "code",
   "execution_count": 1,
   "id": "916320c4-5a00-45ab-982e-1840ee2cea4d",
   "metadata": {},
   "outputs": [],
   "source": [
    "# Sinif (Class)\n",
    "\n",
    "class Car:\n",
    "    brand = None # Instance Attribute\n",
    "    model = None"
   ]
  },
  {
   "cell_type": "code",
   "execution_count": 2,
   "id": "6cb36e93-211a-40f1-a2ab-77e52ca4b3b8",
   "metadata": {},
   "outputs": [
    {
     "name": "stdout",
     "output_type": "stream",
     "text": [
      "None\n"
     ]
    }
   ],
   "source": [
    "# Obyekt (Object/Instance)\n",
    "\n",
    "car_1 = Car()\n",
    "print(car_1.brand)"
   ]
  },
  {
   "cell_type": "code",
   "execution_count": 3,
   "id": "69b8a9b8-07ef-47e7-ae40-254e578a1d74",
   "metadata": {},
   "outputs": [],
   "source": [
    "car_1.brand = 'Tesla'"
   ]
  },
  {
   "cell_type": "code",
   "execution_count": 4,
   "id": "3beed72e-40ec-4464-a874-69bd08c60b6f",
   "metadata": {},
   "outputs": [
    {
     "name": "stdout",
     "output_type": "stream",
     "text": [
      "Tesla\n"
     ]
    }
   ],
   "source": [
    "print(car_1.brand)"
   ]
  },
  {
   "cell_type": "code",
   "execution_count": 5,
   "id": "ca1356b7-a19e-4033-bbd6-3bf9380dcb99",
   "metadata": {},
   "outputs": [],
   "source": [
    "class Car:\n",
    "    def __init__(self): #dunder\n",
    "        self.brand = 'BYD'"
   ]
  },
  {
   "cell_type": "code",
   "execution_count": 6,
   "id": "8932d1c7-2585-48c8-bfd3-20eb94e9923f",
   "metadata": {},
   "outputs": [
    {
     "name": "stdout",
     "output_type": "stream",
     "text": [
      "BYD\n"
     ]
    }
   ],
   "source": [
    "car_2 = Car()\n",
    "print(car_2.brand)"
   ]
  },
  {
   "cell_type": "code",
   "execution_count": 7,
   "id": "e0b323b8-c52f-4f5f-a7df-abdf2aac015c",
   "metadata": {},
   "outputs": [],
   "source": [
    "class Car:\n",
    "    def __init__(self, brand, model):\n",
    "        self.brand = brand  \n",
    "        self.model = model\n",
    "\n",
    "#doğru forma"
   ]
  },
  {
   "cell_type": "code",
   "execution_count": 8,
   "id": "32d05cc6-fe56-468b-b0d0-8f1bed67e774",
   "metadata": {},
   "outputs": [],
   "source": [
    "#car_3 = Car()"
   ]
  },
  {
   "cell_type": "code",
   "execution_count": 9,
   "id": "5a9ce467-491f-4767-b011-8e6cd354f831",
   "metadata": {},
   "outputs": [
    {
     "name": "stdout",
     "output_type": "stream",
     "text": [
      "Toyota\n"
     ]
    }
   ],
   "source": [
    "car_3 = Car('Toyota', 'Corolla')\n",
    "print(car_3.brand)\n",
    "\n",
    "#doğru forma"
   ]
  },
  {
   "cell_type": "code",
   "execution_count": 10,
   "id": "6f041921-dbc7-43b2-a6b5-02f6acbb5ae7",
   "metadata": {},
   "outputs": [],
   "source": [
    "class Car:\n",
    "    def __init__(self, brand, model):\n",
    "        self.brand = brand  \n",
    "        self.model = model\n",
    "\n",
    "    def show_details(self):\n",
    "        print(f\"Marka: {self.brand}, Model: {self.model}\")"
   ]
  },
  {
   "cell_type": "code",
   "execution_count": 11,
   "id": "3e73893e-9591-4d1f-98dc-c93840e3c040",
   "metadata": {},
   "outputs": [
    {
     "name": "stdout",
     "output_type": "stream",
     "text": [
      "Marka: Toyota, Model: Corolla\n"
     ]
    }
   ],
   "source": [
    "car_4 = Car('Toyota', 'Corolla')\n",
    "car_4.show_details()"
   ]
  },
  {
   "cell_type": "markdown",
   "id": "261b1434-da13-40bc-a9ca-74c6fe770de9",
   "metadata": {},
   "source": [
    "# Class Attribute və Instance Attribute"
   ]
  },
  {
   "cell_type": "markdown",
   "id": "42adf8af-8390-4c71-92c1-f71bf98c6653",
   "metadata": {},
   "source": [
    "- Class Attribute: Sinif səviyyəsində təyin edilir və bütün obyektlər üçün ümumi olur.\n",
    "- Instance Attribute: Obyektlərə aid olan və fərqli obyektlər üçün müxtəlif dəyərlərə malik ola bilən atributlardır."
   ]
  },
  {
   "cell_type": "code",
   "execution_count": 12,
   "id": "220dc75d-0855-4b01-8d13-c61ebaf8b134",
   "metadata": {},
   "outputs": [],
   "source": [
    "class Car:\n",
    "    def __init__(self, brand, model, year, color):\n",
    "        self.brand = brand #Class Attribute\n",
    "        self.model = model #Class Attribute\n",
    "        self.year = year   #Class Attribute\n",
    "        self.color = color #Class Attribute\n",
    "\n",
    "    def show_details(self):\n",
    "        print(f\"Marka: {self.brand}, Model: {self.model}, İl: {self.year}, Rəng: {self.color}\") #Instance Attribute"
   ]
  },
  {
   "cell_type": "code",
   "execution_count": 13,
   "id": "90616610-56eb-477f-8357-70ffb2a83570",
   "metadata": {},
   "outputs": [
    {
     "name": "stdout",
     "output_type": "stream",
     "text": [
      "Marka: Toyota, Model: Corolla, İl: 2024, Rəng: white\n"
     ]
    }
   ],
   "source": [
    "car_5 = Car(brand='Toyota', model='Corolla', year=2024, color='white')\n",
    "car_5.show_details()"
   ]
  },
  {
   "cell_type": "code",
   "execution_count": 14,
   "id": "2ccd1d6c-6f55-4ea7-835a-f65ba92d2245",
   "metadata": {},
   "outputs": [
    {
     "name": "stdout",
     "output_type": "stream",
     "text": [
      "Marka: Kia, Model: Sportage, İl: 2023, Rəng: grey\n"
     ]
    }
   ],
   "source": [
    "car_6 = Car(brand='Kia', model='Sportage', year=2023, color='grey')\n",
    "car_6.show_details()"
   ]
  },
  {
   "cell_type": "code",
   "execution_count": 15,
   "id": "c24ae983-cd45-47d9-b29a-41e78998388a",
   "metadata": {},
   "outputs": [
    {
     "name": "stdout",
     "output_type": "stream",
     "text": [
      "4408732432\n",
      "4408854608\n",
      "4408896272\n",
      "4408931408\n",
      "4408833616\n",
      "4408829456\n"
     ]
    }
   ],
   "source": [
    "print(id(car_1))\n",
    "print(id(car_2))\n",
    "print(id(car_3))\n",
    "print(id(car_4))\n",
    "print(id(car_5))\n",
    "print(id(car_6))"
   ]
  },
  {
   "cell_type": "markdown",
   "id": "ad5641f7-964f-4e45-a1fb-b405dc43c917",
   "metadata": {},
   "source": [
    "# Dunder/Magic Methods"
   ]
  },
  {
   "cell_type": "code",
   "execution_count": 16,
   "id": "053d606e-2451-4b1c-ac01-d2c146ad1f72",
   "metadata": {},
   "outputs": [],
   "source": [
    "class Character:\n",
    "    def __init__(self, name):\n",
    "        self.name = name\n",
    "        self.health = 100\n",
    "        self.arr = ['A','B','C']\n",
    "\n",
    "    def is_died(self):\n",
    "        return self.health == 0\n",
    "\n",
    "    def damage(self, value):\n",
    "        self.health = max(0,self.health - value)\n",
    "\n",
    "    def __str__(self):\n",
    "        return f\"{self.name} with {self.health}\"\n",
    "\n",
    "    def __len__(self):\n",
    "        return self.health\n",
    "\n",
    "    def __getitem__(self, item):\n",
    "        return self.arr[item]\n",
    "\n",
    "    def __eq__(self, other):\n",
    "        return self.health == other.health\n",
    "\n",
    "    def __lt__(self, other): #lessthan\n",
    "        return self.health < other.health\n",
    "\n",
    "    def __add__(self, other):\n",
    "        return self.health + other.health\n",
    "\n",
    "    def __sub__(self, other):\n",
    "        pass\n",
    "\n",
    "    def __mul__(self, other):\n",
    "        return self.health * other.health"
   ]
  },
  {
   "cell_type": "code",
   "execution_count": 17,
   "id": "45895d8b-a2b6-4586-ad67-b5ec8432ddda",
   "metadata": {},
   "outputs": [],
   "source": [
    "# __init__\n",
    "alpha = Character(name=\"Alpha\")\n",
    "beta = Character(name=\"Beta\")"
   ]
  },
  {
   "cell_type": "code",
   "execution_count": 18,
   "id": "90fea880-5e96-4894-89be-ca2926b909ed",
   "metadata": {},
   "outputs": [
    {
     "name": "stdout",
     "output_type": "stream",
     "text": [
      "Alpha with 100\n",
      "Beta with 100\n"
     ]
    }
   ],
   "source": [
    "# __str__\n",
    "print(alpha)\n",
    "print(beta)"
   ]
  },
  {
   "cell_type": "code",
   "execution_count": 19,
   "id": "676843f2-55b8-4685-b76d-fa95c3222d78",
   "metadata": {},
   "outputs": [
    {
     "name": "stdout",
     "output_type": "stream",
     "text": [
      "False\n",
      "False\n"
     ]
    }
   ],
   "source": [
    "# is_died\n",
    "print(alpha.is_died())\n",
    "print(beta.is_died())"
   ]
  },
  {
   "cell_type": "code",
   "execution_count": 20,
   "id": "c99949e5-2c94-4b2f-8d81-69754d1714a4",
   "metadata": {},
   "outputs": [
    {
     "name": "stdout",
     "output_type": "stream",
     "text": [
      "100\n",
      "100\n"
     ]
    }
   ],
   "source": [
    "# __len__\n",
    "print(len(alpha))\n",
    "print(len(beta))"
   ]
  },
  {
   "cell_type": "code",
   "execution_count": 21,
   "id": "489a8051-03f2-4ca5-b6c3-ff12408b5da1",
   "metadata": {},
   "outputs": [
    {
     "name": "stdout",
     "output_type": "stream",
     "text": [
      "A\n",
      "B\n",
      "C\n"
     ]
    }
   ],
   "source": [
    "# __getitem__\n",
    "print(alpha[0])\n",
    "print(alpha[1])\n",
    "print(alpha[2])"
   ]
  },
  {
   "cell_type": "code",
   "execution_count": 22,
   "id": "efc7d1e2-67c9-4796-8d2e-fb1ee88f6429",
   "metadata": {},
   "outputs": [
    {
     "name": "stdout",
     "output_type": "stream",
     "text": [
      "True\n",
      "Alpha with 25\n",
      "False\n"
     ]
    }
   ],
   "source": [
    "# __eq__\n",
    "# damage\n",
    "print(alpha == beta)\n",
    "alpha.damage(75)\n",
    "print(alpha)\n",
    "print(alpha == beta)"
   ]
  },
  {
   "cell_type": "code",
   "execution_count": 23,
   "id": "4fa2295b-7e5d-47c3-98dc-7d03b6fa0256",
   "metadata": {},
   "outputs": [
    {
     "name": "stdout",
     "output_type": "stream",
     "text": [
      "True\n"
     ]
    }
   ],
   "source": [
    "# __lt__\n",
    "beta.damage(25)\n",
    "print(alpha < beta)"
   ]
  },
  {
   "cell_type": "code",
   "execution_count": 24,
   "id": "7d2df7de-68b5-40af-9cf3-3551f61bafb4",
   "metadata": {},
   "outputs": [
    {
     "name": "stdout",
     "output_type": "stream",
     "text": [
      "100\n"
     ]
    }
   ],
   "source": [
    "# __add__\n",
    "print(alpha + beta)"
   ]
  },
  {
   "cell_type": "code",
   "execution_count": 25,
   "id": "650c459b-273f-4f93-8a80-664128b07766",
   "metadata": {},
   "outputs": [
    {
     "name": "stdout",
     "output_type": "stream",
     "text": [
      "None\n"
     ]
    }
   ],
   "source": [
    "# __sub__\n",
    "print(alpha - beta)"
   ]
  },
  {
   "cell_type": "code",
   "execution_count": 26,
   "id": "1d139b3c-e5e7-4793-98a4-f580e12a317c",
   "metadata": {},
   "outputs": [
    {
     "name": "stdout",
     "output_type": "stream",
     "text": [
      "1875\n"
     ]
    }
   ],
   "source": [
    "# __mul__\n",
    "print(alpha * beta)"
   ]
  },
  {
   "cell_type": "markdown",
   "id": "5e940e1f-0388-438d-a104-d230d4c1d477",
   "metadata": {},
   "source": [
    "# @staticmethod"
   ]
  },
  {
   "cell_type": "code",
   "execution_count": 27,
   "id": "bc3b87c9-3d66-434a-8a0d-7d7de358a39d",
   "metadata": {},
   "outputs": [
    {
     "name": "stdout",
     "output_type": "stream",
     "text": [
      "15\n"
     ]
    }
   ],
   "source": [
    "class Calculator:\n",
    "    def add(self, x, y):\n",
    "        return x + y\n",
    "\n",
    "    def subtract(self, x, y):\n",
    "        return x - y\n",
    "\n",
    "c_1 = Calculator()\n",
    "print(c_1.add(x=7, y=8))\n",
    "\n",
    "#OOP stantartından kənar üsul"
   ]
  },
  {
   "cell_type": "code",
   "execution_count": 28,
   "id": "d27f6d12-0c1a-40c7-9816-2ac39a26e92e",
   "metadata": {},
   "outputs": [
    {
     "name": "stdout",
     "output_type": "stream",
     "text": [
      "15\n"
     ]
    }
   ],
   "source": [
    "class Calculator:\n",
    "    @staticmethod\n",
    "    def add(x, y):\n",
    "        return x + y\n",
    "\n",
    "    def subtract(self, x, y):\n",
    "        return x - y\n",
    "\n",
    "print(Calculator.add(x=7, y=8))"
   ]
  },
  {
   "cell_type": "code",
   "execution_count": 29,
   "id": "2a81b15c-337e-4778-861b-e521dc0c0a00",
   "metadata": {},
   "outputs": [
    {
     "name": "stdout",
     "output_type": "stream",
     "text": [
      "-1\n"
     ]
    }
   ],
   "source": [
    "class Calculator:\n",
    "    @staticmethod\n",
    "    def add(x,y):\n",
    "        return x + y\n",
    "\n",
    "    @staticmethod\n",
    "    def subtract(x,y):\n",
    "        return x - y\n",
    "        \n",
    "print(Calculator.subtract(7, 8))"
   ]
  },
  {
   "cell_type": "markdown",
   "id": "3104d8d5-bbf5-4e0b-8a98-e311d7480aa3",
   "metadata": {},
   "source": [
    "# @classmethod"
   ]
  },
  {
   "cell_type": "markdown",
   "id": "b5bbee4d-bd11-4c53-a236-cc0e0c5ed470",
   "metadata": {},
   "source": [
    "- Class Method-da ilk parametr class olur. Static Method üçün spesifik bir parametr tələb olunmur.\n",
    "- Class Method class-ın cari vəziyyətini əldə edə və dəyişə bilir. Static Method isə class haqda heç bir məlumatı bilmir."
   ]
  },
  {
   "cell_type": "code",
   "execution_count": 30,
   "id": "0859f865-dfda-4781-8009-5a3044e1848e",
   "metadata": {},
   "outputs": [
    {
     "name": "stdout",
     "output_type": "stream",
     "text": [
      "0\n",
      "0\n"
     ]
    }
   ],
   "source": [
    "class Student:\n",
    "    student_count = 0\n",
    "    instances = []\n",
    "\n",
    "    def __init__(self, name, score):\n",
    "        self.name = name\n",
    "        self.score = score\n",
    "\n",
    "Azər = Student('Azər', 90)\n",
    "Aytac = Student('Aytac', 88)\n",
    "Azad = Student('Azad', 81)\n",
    "\n",
    "print(Student.student_count)\n",
    "print(Azər.student_count)"
   ]
  },
  {
   "cell_type": "code",
   "execution_count": 31,
   "id": "4deb00c8-1a7b-4ba0-a1ba-56032c2e934d",
   "metadata": {},
   "outputs": [
    {
     "name": "stdout",
     "output_type": "stream",
     "text": [
      "3\n",
      "3\n",
      "3\n"
     ]
    }
   ],
   "source": [
    "class Student:\n",
    "    student_count = 0\n",
    "    instances = []\n",
    "\n",
    "    def __init__(self, name, score):\n",
    "        self.name = name\n",
    "        self.score = score\n",
    "        Student.student_count += 1\n",
    "\n",
    "Azər = Student('Azər', 90)\n",
    "Aytac = Student('Aytac', 88)\n",
    "Azad = Student('Azad', 81)\n",
    "\n",
    "print(Student.student_count)\n",
    "print(Azər.student_count)\n",
    "print(Aytac.student_count)"
   ]
  },
  {
   "cell_type": "code",
   "execution_count": 32,
   "id": "1558496c-d41f-4f18-82c2-b274dc0f308b",
   "metadata": {},
   "outputs": [
    {
     "name": "stdout",
     "output_type": "stream",
     "text": [
      "[<__main__.Student object at 0x106cdaf90>, <__main__.Student object at 0x106a40b10>, <__main__.Student object at 0x106c7eb50>]\n"
     ]
    }
   ],
   "source": [
    "class Student:\n",
    "    student_count = 0\n",
    "    instances = []\n",
    "\n",
    "    def __init__(self, name, score):\n",
    "        self.name = name\n",
    "        self.score = score\n",
    "        Student.student_count += 1\n",
    "        Student.instances.append(self)\n",
    "\n",
    "Azər = Student('Azər', 90)\n",
    "Aytac = Student('Aytac', 88)\n",
    "Azad = Student('Azad', 81)\n",
    "\n",
    "print(Student.instances)"
   ]
  },
  {
   "cell_type": "code",
   "execution_count": 33,
   "id": "b5c2ed9e-bac2-40c3-b7fc-893aab6dec92",
   "metadata": {},
   "outputs": [
    {
     "name": "stdout",
     "output_type": "stream",
     "text": [
      "Azər\n",
      "Aytac\n",
      "Azad\n"
     ]
    }
   ],
   "source": [
    "for instance in Student.instances:\n",
    "    print(instance.name)"
   ]
  },
  {
   "cell_type": "code",
   "execution_count": 34,
   "id": "20e218dd-2f87-49ce-8544-3ac6ae0c1105",
   "metadata": {},
   "outputs": [
    {
     "name": "stdout",
     "output_type": "stream",
     "text": [
      "['Azər', 'Aytac', 'Azad']\n"
     ]
    }
   ],
   "source": [
    "print([instance.name for instance in Student.instances])"
   ]
  },
  {
   "cell_type": "code",
   "execution_count": 35,
   "id": "c4521c83-4844-4cd7-9727-771fd2deff4b",
   "metadata": {},
   "outputs": [
    {
     "name": "stdout",
     "output_type": "stream",
     "text": [
      "Student count: 3\n"
     ]
    }
   ],
   "source": [
    "class Student:\n",
    "    student_count = 0\n",
    "    instances = []\n",
    "\n",
    "    def __init__(self,name,score):\n",
    "        self.name = name\n",
    "        self.score = score\n",
    "        Student.student_count += 1\n",
    "        Student.instances.append(self)\n",
    "\n",
    "    @classmethod\n",
    "    def get_student_count(cls):\n",
    "        return f\"Student count: {cls.student_count}\"\n",
    "\n",
    "Azər = Student('Azər', 90)\n",
    "Aytac = Student('Aytac', 88)\n",
    "Azad = Student('Azad', 81)\n",
    "\n",
    "print(Student.get_student_count())"
   ]
  },
  {
   "cell_type": "code",
   "execution_count": 36,
   "id": "91257597-7e18-473e-bca8-f20e85663f49",
   "metadata": {},
   "outputs": [
    {
     "data": {
      "text/plain": [
       "[{'name': 'Azər', 'score': 90},\n",
       " {'name': 'Aytac', 'score': 88},\n",
       " {'name': 'Azad', 'score': 81}]"
      ]
     },
     "execution_count": 36,
     "metadata": {},
     "output_type": "execute_result"
    }
   ],
   "source": [
    "data = [\n",
    "    {\n",
    "        \"name\": \"Azər\",\n",
    "        \"score\": 90\n",
    "    },\n",
    "    {\n",
    "        \"name\": \"Aytac\",\n",
    "        \"score\": 88\n",
    "    },\n",
    "    {\n",
    "        \"name\": \"Azad\",\n",
    "        \"score\": 81\n",
    "    },\n",
    "]\n",
    "\n",
    "data"
   ]
  },
  {
   "cell_type": "code",
   "execution_count": 37,
   "id": "268d8176-929e-43cc-a667-7b666026b9b0",
   "metadata": {},
   "outputs": [],
   "source": [
    "class Student:\n",
    "    student_count = 0\n",
    "    instances = []\n",
    "\n",
    "    def __init__(self,name,score):\n",
    "        self.name = name\n",
    "        self.score = score\n",
    "        Student.student_count += 1\n",
    "        Student.instances.append(self)\n",
    "\n",
    "    @classmethod\n",
    "    def get_student_count(cls):\n",
    "        return f\"Student count: {cls.student_count}\"\n",
    "\n",
    "    @classmethod\n",
    "    def convert(cls, students):\n",
    "        result = []\n",
    "\n",
    "        for student in students:\n",
    "            result.append(cls(student[\"name\"], student[\"score\"]))\n",
    "\n",
    "        return result"
   ]
  },
  {
   "cell_type": "code",
   "execution_count": 38,
   "id": "c8e0736f-a6ee-41e7-9bd9-ea3c544bf8d1",
   "metadata": {},
   "outputs": [
    {
     "name": "stdout",
     "output_type": "stream",
     "text": [
      "[\"Azər's score is 90\", \"Aytac's score is 88\", \"Azad's score is 81\"]\n"
     ]
    }
   ],
   "source": [
    "c_2 = Student.convert(data)\n",
    "\n",
    "print([f\"{instance.name}'s score is {instance.score}\" for instance in c_2])"
   ]
  },
  {
   "cell_type": "markdown",
   "id": "cb97f035-5e01-4382-8b8d-0665ccfccbca",
   "metadata": {},
   "source": [
    "# Inheritance (İrsiyyət)"
   ]
  },
  {
   "cell_type": "markdown",
   "id": "cb05db76-4de0-4acc-8cc9-407ddc9d1074",
   "metadata": {},
   "source": [
    "Mövcud bir sinifin xüsusiyyətlərini başqa bir sinifə ötürmək üçün istifadə edilir."
   ]
  },
  {
   "cell_type": "code",
   "execution_count": 39,
   "id": "44be7725-e674-4d5d-86cb-46d73cc32786",
   "metadata": {},
   "outputs": [
    {
     "name": "stdout",
     "output_type": "stream",
     "text": [
      "My grade is 85\n"
     ]
    }
   ],
   "source": [
    "class Person:\n",
    "    def __init__(self, full_name, age):\n",
    "        self.full_name = full_name\n",
    "        self.age = age\n",
    "\n",
    "    def greet(self):\n",
    "        print(f'Salam')\n",
    "\n",
    "class Student:\n",
    "    def __init__(self, full_name, age, grade):\n",
    "        self.full_name = full_name\n",
    "        self.age = age\n",
    "        self.grade = grade\n",
    "\n",
    "    def greet(self):\n",
    "        print(f'Salam')\n",
    "\n",
    "    def say_grade(self):\n",
    "        print(f'My grade is {self.grade}')\n",
    "\n",
    "person_1 = Person('Anar', 14)\n",
    "student_1 = Student('Aytac', 14, 85)\n",
    "\n",
    "student_1.say_grade()\n",
    "\n",
    "# Yanlış üsul."
   ]
  },
  {
   "cell_type": "markdown",
   "id": "c01436f2-62fa-447e-8901-d3cb79672c77",
   "metadata": {},
   "source": [
    "### Eyni xüsusiyyətlərə malikdir 2 class da. \n",
    "### Inheritance üsulu ilə 1ci klası 2ci üçün istifadə edəbilərik."
   ]
  },
  {
   "cell_type": "code",
   "execution_count": 40,
   "id": "5479ed71-5a44-4233-ada3-364052cd7f17",
   "metadata": {},
   "outputs": [
    {
     "name": "stdout",
     "output_type": "stream",
     "text": [
      "Salam\n"
     ]
    }
   ],
   "source": [
    "class Person:\n",
    "    def __init__(self, full_name, age):\n",
    "        self.full_name = full_name\n",
    "        self.age = age\n",
    "\n",
    "    def greet(self):\n",
    "        print(f'Salam')\n",
    "\n",
    "class Student(Person): #Inheritance\n",
    "    pass\n",
    "    \n",
    "\n",
    "student_2 = Student('Aytac', 14)\n",
    "\n",
    "student_2.greet()"
   ]
  },
  {
   "cell_type": "code",
   "execution_count": 41,
   "id": "3bd210b0-7187-49c9-9342-554a80658a33",
   "metadata": {},
   "outputs": [
    {
     "name": "stdout",
     "output_type": "stream",
     "text": [
      "Aytac 14\n"
     ]
    }
   ],
   "source": [
    "print(student_2.full_name, student_2.age)"
   ]
  },
  {
   "cell_type": "code",
   "execution_count": 42,
   "id": "b83e4a67-f8eb-4481-a524-c4c020897c9d",
   "metadata": {},
   "outputs": [
    {
     "data": {
      "text/plain": [
       "85"
      ]
     },
     "execution_count": 42,
     "metadata": {},
     "output_type": "execute_result"
    }
   ],
   "source": [
    "class Person:\n",
    "    def __init__(self, full_name, age):\n",
    "        self.full_name = full_name\n",
    "        self.age = age\n",
    "\n",
    "    def greet(self):\n",
    "        print(f'Salam')\n",
    "\n",
    "class Student(Person): #Inheritance\n",
    "    def __init__(self, full_name, age, grade):\n",
    "        self.full_name = full_name\n",
    "        self.age = age\n",
    "        self.grade = grade\n",
    "    \n",
    "\n",
    "student_3 = Student('Aytac', 14, 85)\n",
    "\n",
    "student_3.grade"
   ]
  },
  {
   "cell_type": "code",
   "execution_count": 43,
   "id": "7d8590e1-b8ca-41ac-a7e4-8af8f1c66b40",
   "metadata": {},
   "outputs": [
    {
     "name": "stdout",
     "output_type": "stream",
     "text": [
      "Aytac's grade is 85\n"
     ]
    }
   ],
   "source": [
    "class Person:\n",
    "    def __init__(self, full_name, age):\n",
    "        self.full_name = full_name\n",
    "        self.age = age\n",
    "\n",
    "    def greet(self):\n",
    "        print(f'Salam')\n",
    "\n",
    "class Student(Person): #Inheritance\n",
    "    def __init__(self, full_name, age, grade):\n",
    "        self.full_name = full_name\n",
    "        self.age = age\n",
    "        self.grade = grade\n",
    "\n",
    "    def grade_answer(self):\n",
    "        print(f\"{self.full_name}'s grade is {self.grade}\")\n",
    "    \n",
    "\n",
    "student_4 = Student('Aytac', 14, 85)\n",
    "\n",
    "student_4.grade_answer()\n",
    "\n",
    "# Inheritance istifadə olunsa da yenə də bu class optimal deyil.\n",
    "# Çünki yenə də təkrarlar var və bu kodun lazımsız uzanmasına səbəb olub."
   ]
  },
  {
   "cell_type": "markdown",
   "id": "9e252f67-12c8-443f-9779-1bdaa6d89210",
   "metadata": {},
   "source": [
    "### super()"
   ]
  },
  {
   "cell_type": "code",
   "execution_count": 44,
   "id": "21357dfc-c62d-437f-b621-8fe00fc1b6b3",
   "metadata": {},
   "outputs": [
    {
     "name": "stdout",
     "output_type": "stream",
     "text": [
      "Salam\n",
      "Aytac's grade is 85\n"
     ]
    }
   ],
   "source": [
    "class Person:\n",
    "    def __init__(self, full_name, age):\n",
    "        self.full_name = full_name\n",
    "        self.age = age\n",
    "\n",
    "    def greet(self):\n",
    "        print(f'Salam')\n",
    "\n",
    "class Student(Person): #Inheritance\n",
    "    def __init__(self, full_name, age, grade):\n",
    "        self.full_name = full_name\n",
    "        self.age = age\n",
    "        self.grade = grade\n",
    "\n",
    "    def grade_answer(self):\n",
    "        super().greet()\n",
    "        print(f\"{self.full_name}'s grade is {self.grade}\")\n",
    "    \n",
    "\n",
    "student_5 = Student('Aytac', 14, 85)\n",
    "\n",
    "student_5.grade_answer()"
   ]
  },
  {
   "cell_type": "code",
   "execution_count": 45,
   "id": "e369cc9e-c7d0-45d8-b870-3883b52c3f33",
   "metadata": {},
   "outputs": [
    {
     "name": "stdout",
     "output_type": "stream",
     "text": [
      "Ad: Aytac\n",
      "Yaş: 14\n",
      "Qiymət: 85\n"
     ]
    }
   ],
   "source": [
    "class Person:\n",
    "    def __init__(self, full_name, age):\n",
    "        self.full_name = full_name\n",
    "        self.age = age\n",
    "\n",
    "    def greet(self):\n",
    "        print(f'Salam')\n",
    "\n",
    "    def show_info(self):\n",
    "        print('Ad:', self.full_name)\n",
    "        print('Yaş:', self.age)\n",
    "\n",
    "class Student(Person): #Inheritance\n",
    "    def __init__(self, full_name, age,grade):\n",
    "        super().__init__(full_name, age)\n",
    "        self.grade = grade\n",
    "\n",
    "    def grade_answer(self):\n",
    "        super().greet()\n",
    "        print(f\"{self.full_name}'s grade is {self.grade}\")\n",
    "\n",
    "    def show_info(self):\n",
    "        super().show_info()\n",
    "        print('Qiymət:', self.grade)\n",
    "    \n",
    "\n",
    "student_6 = Student('Aytac', 14, 85)\n",
    "\n",
    "student_6.show_info()"
   ]
  },
  {
   "cell_type": "code",
   "execution_count": 46,
   "id": "34403a27-6fb6-4bcb-9556-ea6abe0e3931",
   "metadata": {},
   "outputs": [
    {
     "name": "stdout",
     "output_type": "stream",
     "text": [
      "Ad: Anar\n",
      "Yaş: 14\n"
     ]
    }
   ],
   "source": [
    "person_2 = Person('Anar', 14)\n",
    "\n",
    "person_2.show_info()"
   ]
  },
  {
   "cell_type": "markdown",
   "id": "04253143-3979-4088-8562-4d9d73d70bd4",
   "metadata": {},
   "source": [
    "# Encapsulation (Qapalılıq)"
   ]
  },
  {
   "cell_type": "raw",
   "id": "04273c2d-2ea2-454f-8e14-35369e0ed05e",
   "metadata": {},
   "source": [
    "Encapsulation, sinifin daxili məlumatlarını gizlətmək və onlara yalnız müəyyən metodlar vasitəsilə çıxışı təmin etmək üçün istifadə olunur. \n",
    "Bu, məlumatların təhlükəsizliyini və kodun daha yaxşı təşkil olunmasını təmin edir. "
   ]
  },
  {
   "cell_type": "markdown",
   "id": "7c10124c-2174-4e0b-b381-6ccf825151ed",
   "metadata": {},
   "source": [
    "### Private və Public Dəyişənlər"
   ]
  },
  {
   "cell_type": "raw",
   "id": "ec3bd5ee-b5ed-4b9e-85c8-38000c679c44",
   "metadata": {},
   "source": [
    "Python-da dəyişənləri gizlətmək üçün _ və __ prefikslərindən istifadə olunur. \n",
    "\n",
    "_ prefiksi, dəyişənin \"protected\" olduğunu göstərir, yəni bu dəyişənə sinif daxilindən və ya miras alınmış siniflərdən çıxış mümkündür. \n",
    "__ prefiksi isə dəyişənin \"private\" olduğunu göstərir, yəni bu dəyişənə yalnız sinif daxilindən çıxış mümkündür."
   ]
  },
  {
   "cell_type": "code",
   "execution_count": 47,
   "id": "c3f02621-bc99-45a3-b901-2f277f69d367",
   "metadata": {},
   "outputs": [
    {
     "name": "stdout",
     "output_type": "stream",
     "text": [
      "Salam, mənim adım Anar və mən 14 yaşım var.\n"
     ]
    }
   ],
   "source": [
    "class Person:\n",
    "    def __init__(self, full_name, age):\n",
    "        self._full_name = full_name  # Protected dəyişən\n",
    "        self.__age = age  # Private dəyişən\n",
    "\n",
    "    def greet(self):\n",
    "        print(f'Salam, mənim adım {self._full_name} və mən {self.__age} yaşım var.')\n",
    "\n",
    "person = Person('Anar', 14)\n",
    "person.greet()"
   ]
  },
  {
   "cell_type": "code",
   "execution_count": 48,
   "id": "f9ddd5ce-6d65-46ab-bb69-31b0672fdbf5",
   "metadata": {},
   "outputs": [
    {
     "name": "stdout",
     "output_type": "stream",
     "text": [
      "Anar\n"
     ]
    }
   ],
   "source": [
    "# Protected dəyişənə çıxış\n",
    "\n",
    "print(person._full_name)"
   ]
  },
  {
   "cell_type": "code",
   "execution_count": 49,
   "id": "b37f63c7-8afb-47d8-b83f-48f898f47172",
   "metadata": {},
   "outputs": [],
   "source": [
    "# Private dəyişənə çıxış\n",
    "#print(person.__age)"
   ]
  },
  {
   "cell_type": "markdown",
   "id": "85434d76-24b2-449c-a664-92264f321638",
   "metadata": {},
   "source": [
    "### Getter və Setter Metodları"
   ]
  },
  {
   "cell_type": "raw",
   "id": "598d7c5b-58ed-4afe-b9d1-28ae3d68c073",
   "metadata": {},
   "source": [
    "Private dəyişənlərə çıxışı təmin etmək üçün getter və setter metodlarından istifadə edilir. \n",
    "Bu metodlar vasitəsilə dəyişənlərin dəyərlərini oxumaq və dəyişdirmək mümkündür."
   ]
  },
  {
   "cell_type": "code",
   "execution_count": 50,
   "id": "a2faa409-c9cc-4e38-9723-c686f454cc54",
   "metadata": {},
   "outputs": [
    {
     "name": "stdout",
     "output_type": "stream",
     "text": [
      "Salam, mənim adım Anar və mən 14 yaşım var.\n"
     ]
    }
   ],
   "source": [
    "class Person:\n",
    "    def __init__(self, full_name, age):\n",
    "        self._full_name = full_name\n",
    "        self.__age = age\n",
    "\n",
    "    def get_age(self):\n",
    "        return self.__age\n",
    "\n",
    "    def set_age(self, age):\n",
    "        if age > 0:\n",
    "            self.__age = age\n",
    "        else:\n",
    "            print(\"Yaş mənfi ola bilməz.\")\n",
    "\n",
    "    def greet(self):\n",
    "        print(f'Salam, mənim adım {self._full_name} və mən {self.__age} yaşım var.')\n",
    "\n",
    "person = Person('Anar', 14)\n",
    "person.greet()"
   ]
  },
  {
   "cell_type": "code",
   "execution_count": 51,
   "id": "68a71ac2-98ac-4819-89a3-2adfe24ded58",
   "metadata": {},
   "outputs": [
    {
     "name": "stdout",
     "output_type": "stream",
     "text": [
      "Salam, mənim adım Anar və mən 15 yaşım var.\n"
     ]
    }
   ],
   "source": [
    "# Yaşı dəyişdirmək\n",
    "\n",
    "person.set_age(15)\n",
    "person.greet()"
   ]
  },
  {
   "cell_type": "code",
   "execution_count": 52,
   "id": "8b18e7e4-679b-42a1-bc90-d4be0ae8ed26",
   "metadata": {},
   "outputs": [
    {
     "name": "stdout",
     "output_type": "stream",
     "text": [
      "Yaş mənfi ola bilməz.\n"
     ]
    }
   ],
   "source": [
    "# Yaşı mənfi dəyərə dəyişdirmək\n",
    "\n",
    "person.set_age(-5)"
   ]
  },
  {
   "cell_type": "code",
   "execution_count": 53,
   "id": "52ae1be8-5c78-4fbf-943c-336d8d5a37b5",
   "metadata": {},
   "outputs": [
    {
     "name": "stdout",
     "output_type": "stream",
     "text": [
      "15\n"
     ]
    }
   ],
   "source": [
    "# Yaşı oxumaq\n",
    "\n",
    "print(person.get_age())"
   ]
  },
  {
   "cell_type": "markdown",
   "id": "5ccb783d-b1f8-45fb-8525-66cbda8d0139",
   "metadata": {},
   "source": [
    "### Property Decorator"
   ]
  },
  {
   "cell_type": "raw",
   "id": "6f7cb725-024e-4f3d-a678-3c98631fde59",
   "metadata": {},
   "source": [
    "Python-da @property decorator-u ilə getter və setter metodlarını daha effektiv şəkildə təyin etmək mümkündür. \n",
    "Bu, dəyişənləri atribut kimi istifadə etməyə imkan verir."
   ]
  },
  {
   "cell_type": "code",
   "execution_count": 54,
   "id": "e9b32d04-f8b5-4e22-a7ab-2d872cae9393",
   "metadata": {},
   "outputs": [
    {
     "name": "stdout",
     "output_type": "stream",
     "text": [
      "Salam, mənim adım Anar və mən 14 yaşım var.\n"
     ]
    }
   ],
   "source": [
    "class Person:\n",
    "    def __init__(self, full_name, age):\n",
    "        self._full_name = full_name\n",
    "        self.__age = age\n",
    "\n",
    "    @property\n",
    "    def age(self):\n",
    "        return self.__age\n",
    "\n",
    "    @age.setter\n",
    "    def age(self, age):\n",
    "        if age > 0:\n",
    "            self.__age = age\n",
    "        else:\n",
    "            print(\"Yaş mənfi ola bilməz.\")\n",
    "\n",
    "    def greet(self):\n",
    "        print(f'Salam, mənim adım {self._full_name} və mən {self.__age} yaşım var.')\n",
    "\n",
    "person = Person('Anar', 14)\n",
    "person.greet()"
   ]
  },
  {
   "cell_type": "code",
   "execution_count": 55,
   "id": "bb643155-9be8-4a51-9d3d-054924df6468",
   "metadata": {},
   "outputs": [
    {
     "name": "stdout",
     "output_type": "stream",
     "text": [
      "Salam, mənim adım Anar və mən 15 yaşım var.\n"
     ]
    }
   ],
   "source": [
    "# Yaşı dəyişdirmək\n",
    "\n",
    "person.age = 15\n",
    "person.greet()"
   ]
  },
  {
   "cell_type": "code",
   "execution_count": 56,
   "id": "02816dd9-ff75-4ea6-bcdb-927669772c61",
   "metadata": {},
   "outputs": [
    {
     "name": "stdout",
     "output_type": "stream",
     "text": [
      "Yaş mənfi ola bilməz.\n"
     ]
    }
   ],
   "source": [
    "# Yaşı mənfi dəyərə dəyişdirmək\n",
    "\n",
    "person.age = -5\n"
   ]
  },
  {
   "cell_type": "code",
   "execution_count": 57,
   "id": "71e2ba1a-4a8b-4438-a2ff-7db37ab6cedd",
   "metadata": {},
   "outputs": [
    {
     "name": "stdout",
     "output_type": "stream",
     "text": [
      "15\n"
     ]
    }
   ],
   "source": [
    "# Yaşı oxumaq\n",
    "\n",
    "print(person.age)"
   ]
  },
  {
   "cell_type": "markdown",
   "id": "0369724a-a8c7-4c4b-ac21-021810cfd4c5",
   "metadata": {},
   "source": [
    "### Encapsulation və Inheritance"
   ]
  },
  {
   "cell_type": "raw",
   "id": "5dcbf8b2-c54e-494e-9ee3-910e05067643",
   "metadata": {},
   "source": [
    "Encapsulation, inheritance ilə birlikdə istifadə edildikdə daha da effektiv olur. \n",
    "Aşağıdakı nümunədə Student sinifi Person sinifindən miras alır və Person sinfinin private dəyişənlərinə çıxışı təmin edir."
   ]
  },
  {
   "cell_type": "code",
   "execution_count": 58,
   "id": "683f9098-e221-48c5-8fd3-614ab7824f11",
   "metadata": {},
   "outputs": [
    {
     "name": "stdout",
     "output_type": "stream",
     "text": [
      "Salam, mənim adım Aytac və mən 14 yaşım var.\n",
      "Qiymət: 85\n"
     ]
    }
   ],
   "source": [
    "class Person:\n",
    "    def __init__(self, full_name, age):\n",
    "        self._full_name = full_name\n",
    "        self.__age = age\n",
    "\n",
    "    @property\n",
    "    def age(self):\n",
    "        return self.__age\n",
    "\n",
    "    @age.setter\n",
    "    def age(self, age):\n",
    "        if age > 0:\n",
    "            self.__age = age\n",
    "        else:\n",
    "            print(\"Yaş mənfi ola bilməz.\")\n",
    "\n",
    "    def greet(self):\n",
    "        print(f'Salam, mənim adım {self._full_name} və mən {self.__age} yaşım var.')\n",
    "\n",
    "class Student(Person):\n",
    "    def __init__(self, full_name, age, grade):\n",
    "        super().__init__(full_name, age)\n",
    "        self.__grade = grade\n",
    "\n",
    "    @property\n",
    "    def grade(self):\n",
    "        return self.__grade\n",
    "\n",
    "    @grade.setter\n",
    "    def grade(self, grade):\n",
    "        if grade >= 0 and grade <= 100:\n",
    "            self.__grade = grade\n",
    "        else:\n",
    "            print(\"Qiymət 0 ilə 100 arasında olmalıdır.\")\n",
    "\n",
    "    def show_info(self):\n",
    "        self.greet()\n",
    "        print(f'Qiymət: {self.__grade}')\n",
    "\n",
    "student = Student('Aytac', 14, 85)\n",
    "student.show_info()"
   ]
  },
  {
   "cell_type": "code",
   "execution_count": 59,
   "id": "b6648d99-f252-4113-a938-f8f1199ee03a",
   "metadata": {},
   "outputs": [
    {
     "name": "stdout",
     "output_type": "stream",
     "text": [
      "Salam, mənim adım Aytac və mən 14 yaşım var.\n",
      "Qiymət: 90\n"
     ]
    }
   ],
   "source": [
    "# Qiyməti dəyişdirmək\n",
    "\n",
    "student.grade = 90\n",
    "student.show_info()"
   ]
  },
  {
   "cell_type": "code",
   "execution_count": 60,
   "id": "63c669a8-d880-4157-8226-c9f40af74d73",
   "metadata": {},
   "outputs": [
    {
     "name": "stdout",
     "output_type": "stream",
     "text": [
      "Qiymət 0 ilə 100 arasında olmalıdır.\n"
     ]
    }
   ],
   "source": [
    "# Qiyməti yanlış dəyərə dəyişdirmək\n",
    "\n",
    "student.grade = 105"
   ]
  },
  {
   "cell_type": "markdown",
   "id": "3789f764-962b-4216-8af3-4c45c7e6c7e7",
   "metadata": {},
   "source": [
    "# Abstraction (Abstraksiya)"
   ]
  },
  {
   "cell_type": "markdown",
   "id": "787b0d8e-e45a-4b0c-b607-057dc26901fc",
   "metadata": {},
   "source": [
    "Abstraksiya, mürəkkəbliyi gizlətmək və yalnız zəruri olan məlumatları göstərmək üçün istifadə olunur. \n",
    "\n",
    "Python-da abstraksiya üçün ABC (Abstract Base Class) kitabxanası istifadə edilir."
   ]
  },
  {
   "cell_type": "code",
   "execution_count": 61,
   "id": "0f6bf814-0cf8-4364-be94-c5baf94a9599",
   "metadata": {},
   "outputs": [],
   "source": [
    "from abc import ABC, abstractmethod"
   ]
  },
  {
   "cell_type": "markdown",
   "id": "e6cea899-bee3-49c8-98d2-9c067414b4f8",
   "metadata": {},
   "source": [
    "### Abstract Siniflər"
   ]
  },
  {
   "cell_type": "raw",
   "id": "90cfa9d6-7608-4dca-8f97-3c4db5939fcb",
   "metadata": {},
   "source": [
    "Abstract siniflər, özləri instansiya edilə bilməyən, lakin digər siniflər tərəfindən miras alına bilən siniflərdir. \n",
    "Abstract siniflər, abstract metodlar təyin edə bilərlər ki, bu metodlar miras alan siniflər tərəfindən tətbiq edilməlidir."
   ]
  },
  {
   "cell_type": "code",
   "execution_count": 62,
   "id": "cff9e511-201a-4851-8729-f1f2103b6741",
   "metadata": {},
   "outputs": [
    {
     "name": "stdout",
     "output_type": "stream",
     "text": [
      "Hav hav!\n",
      "Miyav miyav!\n"
     ]
    }
   ],
   "source": [
    "class Animal(ABC):  # Abstract sinif\n",
    "    @abstractmethod\n",
    "    def make_sound(self):\n",
    "        pass\n",
    "\n",
    "class Dog(Animal):\n",
    "    def make_sound(self):\n",
    "        print(\"Hav hav!\")\n",
    "\n",
    "class Cat(Animal):\n",
    "    def make_sound(self):\n",
    "        print(\"Miyav miyav!\")\n",
    "\n",
    "# Abstract sinifin instansiyası yaradıla bilməz\n",
    "# animal = Animal()  # Error\n",
    "\n",
    "dog = Dog()\n",
    "cat = Cat()\n",
    "\n",
    "dog.make_sound()\n",
    "cat.make_sound()"
   ]
  },
  {
   "cell_type": "markdown",
   "id": "be4249c7-b38e-4d25-bd2c-81db67f87e53",
   "metadata": {},
   "source": [
    "### Abstract Metodlar"
   ]
  },
  {
   "cell_type": "code",
   "execution_count": 63,
   "id": "29277db8-b9e1-4395-8195-35bd95e897b0",
   "metadata": {},
   "outputs": [
    {
     "name": "stdout",
     "output_type": "stream",
     "text": [
      "Düzbucaqlının sahəsi: 50\n",
      "Düzbucaqlının perimetri: 30\n",
      "Dairənin sahəsi: 153.86\n",
      "Dairənin perimetri: 43.96\n"
     ]
    }
   ],
   "source": [
    "class Shape(ABC):  # Abstract sinif\n",
    "    @abstractmethod\n",
    "    def area(self):\n",
    "        pass\n",
    "\n",
    "    @abstractmethod\n",
    "    def perimeter(self):\n",
    "        pass\n",
    "\n",
    "class Rectangle(Shape):\n",
    "    def __init__(self, width, height):\n",
    "        self.width = width\n",
    "        self.height = height\n",
    "\n",
    "    def area(self):\n",
    "        return self.width * self.height\n",
    "\n",
    "    def perimeter(self):\n",
    "        return 2 * (self.width + self.height)\n",
    "\n",
    "class Circle(Shape):\n",
    "    def __init__(self, radius):\n",
    "        self.radius = radius\n",
    "\n",
    "    def area(self):\n",
    "        return 3.14 * self.radius * self.radius\n",
    "\n",
    "    def perimeter(self):\n",
    "        return 2 * 3.14 * self.radius\n",
    "\n",
    "rectangle = Rectangle(5, 10)\n",
    "circle = Circle(7)\n",
    "\n",
    "print(\"Düzbucaqlının sahəsi:\", rectangle.area())\n",
    "print(\"Düzbucaqlının perimetri:\", rectangle.perimeter())\n",
    "\n",
    "print(\"Dairənin sahəsi:\", circle.area())\n",
    "print(\"Dairənin perimetri:\", circle.perimeter())"
   ]
  },
  {
   "cell_type": "markdown",
   "id": "4c79faf6-4dd2-4df3-a187-e3561191a0d8",
   "metadata": {},
   "source": [
    "### Abstraksiya və Encapsulation"
   ]
  },
  {
   "cell_type": "code",
   "execution_count": 64,
   "id": "0ff58fc7-25c8-4648-9c7a-f9e4ae1c1be7",
   "metadata": {},
   "outputs": [],
   "source": [
    "class Vehicle(ABC):  # Abstract sinif\n",
    "    def __init__(self, brand, model):\n",
    "        self._brand = brand  # Protected dəyişən\n",
    "        self.__model = model  # Private dəyişən\n",
    "\n",
    "    @property\n",
    "    def model(self):\n",
    "        return self.__model\n",
    "\n",
    "    @abstractmethod\n",
    "    def start_engine(self):\n",
    "        pass\n",
    "\n",
    "class Car(Vehicle):\n",
    "    def start_engine(self):\n",
    "        print(f\"{self._brand} {self.model} mühərriki işə salındı.\")\n",
    "\n",
    "class Motorcycle(Vehicle):\n",
    "    def start_engine(self):\n",
    "        print(f\"{self._brand} {self.model} mühərriki işə salındı.\")\n",
    "\n",
    "car = Car(\"Toyota\", \"Corolla\")\n",
    "motorcycle = Motorcycle(\"Yamaha\", \"YZF-R1\")"
   ]
  },
  {
   "cell_type": "code",
   "execution_count": 65,
   "id": "d2e2d8aa-3b24-4eed-be50-818d8faa3923",
   "metadata": {},
   "outputs": [
    {
     "name": "stdout",
     "output_type": "stream",
     "text": [
      "Toyota Corolla mühərriki işə salındı.\n",
      "Yamaha YZF-R1 mühərriki işə salındı.\n"
     ]
    }
   ],
   "source": [
    "car.start_engine()\n",
    "motorcycle.start_engine()"
   ]
  },
  {
   "cell_type": "code",
   "execution_count": 66,
   "id": "ba81a1c7-06fd-4f03-8a7b-84165bf7b27c",
   "metadata": {},
   "outputs": [],
   "source": [
    "# Private dəyişənə çıxış\n",
    "#print(car.__model)"
   ]
  },
  {
   "cell_type": "markdown",
   "id": "4d187cd6-f7d0-4b0a-b565-75647c87060e",
   "metadata": {},
   "source": [
    "### Abstraksiya və Inheritance"
   ]
  },
  {
   "cell_type": "raw",
   "id": "fbcaa4d0-0f5c-41f5-a5bf-7e3d44823f2f",
   "metadata": {},
   "source": [
    "Abstraksiya, inheritance ilə birlikdə istifadə edildikdə daha da effektiv olur. \n",
    "Aşağıdakı nümunədə Vehicle abstract sinifi digər siniflər üçün əsas təşkil edir və miras alan siniflər abstract metodları tətbiq etməlidir."
   ]
  },
  {
   "cell_type": "code",
   "execution_count": 67,
   "id": "23e6ddb1-99d7-447d-a9f1-d876db30c6e7",
   "metadata": {},
   "outputs": [],
   "source": [
    "class Vehicle(ABC):  # Abstract sinif\n",
    "    def __init__(self, brand, model):\n",
    "        self._brand = brand\n",
    "        self._model = model\n",
    "\n",
    "    @abstractmethod\n",
    "    def start_engine(self):\n",
    "        pass\n",
    "\n",
    "    @abstractmethod\n",
    "    def stop_engine(self):\n",
    "        pass\n",
    "\n",
    "class Car(Vehicle):\n",
    "    def start_engine(self):\n",
    "        print(f\"{self._brand} {self._model} mühərriki işə salındı.\")\n",
    "\n",
    "    def stop_engine(self):\n",
    "        print(f\"{self._brand} {self._model} mühərriki söndürüldü.\")\n",
    "\n",
    "class Motorcycle(Vehicle):\n",
    "    def start_engine(self):\n",
    "        print(f\"{self._brand} {self._model} mühərriki işə salındı.\")\n",
    "\n",
    "    def stop_engine(self):\n",
    "        print(f\"{self._brand} {self._model} mühərriki söndürüldü.\")\n",
    "\n",
    "car = Car(\"Toyota\", \"Corolla\")\n",
    "motorcycle = Motorcycle(\"Yamaha\", \"YZF-R1\")"
   ]
  },
  {
   "cell_type": "code",
   "execution_count": 68,
   "id": "5ad8cc7e-6b5a-4ece-8553-588d067b03f0",
   "metadata": {},
   "outputs": [
    {
     "name": "stdout",
     "output_type": "stream",
     "text": [
      "Toyota Corolla mühərriki işə salındı.\n",
      "Toyota Corolla mühərriki söndürüldü.\n",
      "Yamaha YZF-R1 mühərriki işə salındı.\n",
      "Yamaha YZF-R1 mühərriki söndürüldü.\n"
     ]
    }
   ],
   "source": [
    "car.start_engine()\n",
    "car.stop_engine()\n",
    "motorcycle.start_engine()\n",
    "motorcycle.stop_engine()"
   ]
  },
  {
   "cell_type": "markdown",
   "id": "f8960033-8164-4082-b817-f29b337a1714",
   "metadata": {},
   "source": [
    "# Polymorphism (Polimorfizm)"
   ]
  },
  {
   "cell_type": "raw",
   "id": "178bd2c7-26bc-4ce2-b195-608bb3c52aff",
   "metadata": {},
   "source": [
    "Polimorfizm, eyni adlı metodların fərqli siniflərdə fərqli davranışlar göstərməsi prinsipidir.\n",
    "Bu, kodun daha çevik və genişlənə bilən olmasını təmin edir."
   ]
  },
  {
   "cell_type": "markdown",
   "id": "5d90f4bd-6bde-4f45-b497-803b2e90ddad",
   "metadata": {},
   "source": [
    "### Metod Overriding (Metodun Yenidən Təyin Edilməsi)"
   ]
  },
  {
   "cell_type": "raw",
   "id": "237647ca-a60b-4490-9f72-8ae65d5d66f6",
   "metadata": {},
   "source": [
    "Metod overriding, miras alınmış sinifdə əsas sinifin metodunu yenidən təyin etmək deməkdir. \n",
    "Bu, polimorfizmin əsas nümunələrindən biridir."
   ]
  },
  {
   "cell_type": "code",
   "execution_count": 73,
   "id": "3f7a18c7-f4c5-413b-a5d3-e0196860e884",
   "metadata": {},
   "outputs": [
    {
     "name": "stdout",
     "output_type": "stream",
     "text": [
      "Bu bir heyvan səsidir.\n",
      "Hav hav!\n",
      "Miyav miyav!\n"
     ]
    }
   ],
   "source": [
    "class Animal:\n",
    "    def make_sound(self):\n",
    "        print(\"Bu bir heyvan səsidir.\")\n",
    "\n",
    "class Dog(Animal):\n",
    "    def make_sound(self):\n",
    "        print(\"Hav hav!\")\n",
    "\n",
    "class Cat(Animal):\n",
    "    def make_sound(self):\n",
    "        print(\"Miyav miyav!\")\n",
    "\n",
    "animal = Animal()\n",
    "dog = Dog()\n",
    "cat = Cat()\n",
    "\n",
    "animal.make_sound()\n",
    "dog.make_sound()\n",
    "cat.make_sound()"
   ]
  },
  {
   "cell_type": "markdown",
   "id": "80730b8a-a427-46dc-ae80-fb624c22a501",
   "metadata": {},
   "source": [
    "### Polimorfizm və Funksiyalar"
   ]
  },
  {
   "cell_type": "raw",
   "id": "a85e4dbe-99f0-47f0-975a-c6bdca724f2b",
   "metadata": {},
   "source": [
    "Polimorfizm, funksiyalar vasitəsilə də tətbiq edilə bilər. \n",
    "Aşağıdakı nümunədə, eyni funksiya fərqli siniflərin obyektləri ilə işləyərək fərqli nəticələr verir."
   ]
  },
  {
   "cell_type": "code",
   "execution_count": 71,
   "id": "ad3ea47a-f15e-47bc-90aa-982ff96e631b",
   "metadata": {},
   "outputs": [
    {
     "name": "stdout",
     "output_type": "stream",
     "text": [
      "Bu bir heyvan səsidir.\n",
      "Hav hav!\n",
      "Miyav miyav!\n"
     ]
    }
   ],
   "source": [
    "def animal_sound(animal):\n",
    "    animal.make_sound()\n",
    "\n",
    "animal = Animal()\n",
    "dog = Dog()\n",
    "cat = Cat()\n",
    "\n",
    "animal_sound(animal)\n",
    "animal_sound(dog)\n",
    "animal_sound(cat)"
   ]
  },
  {
   "cell_type": "markdown",
   "id": "8d71ef90-485f-4382-9b49-72c5dd0a0241",
   "metadata": {},
   "source": [
    "### Polimorfizm və Abstract Siniflər"
   ]
  },
  {
   "cell_type": "raw",
   "id": "715cbbf5-b2d5-42e4-818a-261e16366655",
   "metadata": {},
   "source": [
    "Abstract siniflər və metodlar polimorfizmi daha da gücləndirir. \n",
    "Aşağıdakı nümunədə, Shape abstract sinifi və onun miras alan sinifləri polimorfizmi nümayiş etdirir."
   ]
  },
  {
   "cell_type": "code",
   "execution_count": 74,
   "id": "70c546ec-efa1-445b-b021-9f5e2d6aaac7",
   "metadata": {},
   "outputs": [
    {
     "name": "stdout",
     "output_type": "stream",
     "text": [
      "Şəklin sahəsi: 50\n",
      "Şəklin sahəsi: 153.86\n"
     ]
    }
   ],
   "source": [
    "from abc import ABC, abstractmethod\n",
    "\n",
    "class Shape(ABC):  # Abstract sinif\n",
    "    @abstractmethod\n",
    "    def area(self):\n",
    "        pass\n",
    "\n",
    "class Rectangle(Shape):\n",
    "    def __init__(self, width, height):\n",
    "        self.width = width\n",
    "        self.height = height\n",
    "\n",
    "    def area(self):\n",
    "        return self.width * self.height\n",
    "\n",
    "class Circle(Shape):\n",
    "    def __init__(self, radius):\n",
    "        self.radius = radius\n",
    "\n",
    "    def area(self):\n",
    "        return 3.14 * self.radius * self.radius\n",
    "\n",
    "def print_area(shape):\n",
    "    print(f\"Şəklin sahəsi: {shape.area()}\")\n",
    "\n",
    "rectangle = Rectangle(5, 10)\n",
    "circle = Circle(7)\n",
    "\n",
    "print_area(rectangle)\n",
    "print_area(circle)"
   ]
  },
  {
   "cell_type": "markdown",
   "id": "f5333c18-7d09-4fca-82d4-640d91281c26",
   "metadata": {},
   "source": [
    "### Polimorfizm və Daxili Metodlar"
   ]
  },
  {
   "cell_type": "raw",
   "id": "878e5b7b-de3f-4562-beb3-36bb03b502f2",
   "metadata": {},
   "source": [
    "Polimorfizm, Python-un daxili metodları ilə də tətbiq edilə bilər. \n",
    "Aşağıdakı nümunədə, __str__ metodu fərqli siniflərdə fərqli şəkildə tətbiq edilir."
   ]
  },
  {
   "cell_type": "code",
   "execution_count": 75,
   "id": "561559da-008f-4b4a-b2c6-c66c29be32a6",
   "metadata": {},
   "outputs": [
    {
     "name": "stdout",
     "output_type": "stream",
     "text": [
      "Bu bir adi heyvanıdır.\n",
      "Bu bir Alabaş itidir.\n",
      "Bu bir Məstan pişikdir.\n"
     ]
    }
   ],
   "source": [
    "class Animal:\n",
    "    def __init__(self, name):\n",
    "        self.name = name\n",
    "\n",
    "    def __str__(self):\n",
    "        return f\"Bu bir {self.name} heyvanıdır.\"\n",
    "\n",
    "class Dog(Animal):\n",
    "    def __str__(self):\n",
    "        return f\"Bu bir {self.name} itidir.\"\n",
    "\n",
    "class Cat(Animal):\n",
    "    def __str__(self):\n",
    "        return f\"Bu bir {self.name} pişikdir.\"\n",
    "\n",
    "animal = Animal('adi')\n",
    "dog = Dog('Alabaş')\n",
    "cat = Cat('Məstan')\n",
    "\n",
    "print(animal)\n",
    "print(dog)\n",
    "print(cat)"
   ]
  },
  {
   "cell_type": "markdown",
   "id": "c7c1e659-608a-4238-b12d-110d440e8f3f",
   "metadata": {},
   "source": [
    "### Polimorfizm və Operator Overloading (Operatorların Yenidən Təyin Edilməsi)"
   ]
  },
  {
   "cell_type": "raw",
   "id": "460a9c15-c18c-4a3e-8efc-4d154744ea15",
   "metadata": {},
   "source": [
    "Polimorfizm, operatorların yenidən təyin edilməsi ilə də tətbiq edilə bilər. \n",
    "Aşağıdakı nümunədə, + operatoru fərqli siniflərdə fərqli şəkildə tətbiq edilir."
   ]
  },
  {
   "cell_type": "code",
   "execution_count": 76,
   "id": "e4e289bd-fff1-4828-8fe7-eacf6ad0bb5e",
   "metadata": {},
   "outputs": [
    {
     "name": "stdout",
     "output_type": "stream",
     "text": [
      "Vector(7, 10)\n"
     ]
    }
   ],
   "source": [
    "class Vector:\n",
    "    def __init__(self, x, y):\n",
    "        self.x = x\n",
    "        self.y = y\n",
    "\n",
    "    def __add__(self, other):\n",
    "        return Vector(self.x + other.x, self.y + other.y)\n",
    "\n",
    "    def __str__(self):\n",
    "        return f\"Vector({self.x}, {self.y})\"\n",
    "\n",
    "v1 = Vector(2, 3)\n",
    "v2 = Vector(5, 7)\n",
    "\n",
    "v3 = v1 + v2\n",
    "\n",
    "print(v3)"
   ]
  },
  {
   "cell_type": "code",
   "execution_count": null,
   "id": "f6a4e210-4553-465f-a5df-83cfaaaf1a7b",
   "metadata": {},
   "outputs": [],
   "source": []
  }
 ],
 "metadata": {
  "kernelspec": {
   "display_name": "Python 3 (ipykernel)",
   "language": "python",
   "name": "python3"
  },
  "language_info": {
   "codemirror_mode": {
    "name": "ipython",
    "version": 3
   },
   "file_extension": ".py",
   "mimetype": "text/x-python",
   "name": "python",
   "nbconvert_exporter": "python",
   "pygments_lexer": "ipython3",
   "version": "3.11.6"
  }
 },
 "nbformat": 4,
 "nbformat_minor": 5
}
