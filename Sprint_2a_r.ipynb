{
 "cells": [
  {
   "cell_type": "markdown",
   "id": "a5d55e86-770f-48c1-8099-cd7f7eaadc52",
   "metadata": {},
   "source": [
    "## Vector"
   ]
  },
  {
   "cell_type": "code",
   "execution_count": 1,
   "id": "bd46134b-2f51-4edb-84b0-b73464c3c1d3",
   "metadata": {},
   "outputs": [
    {
     "data": {
      "text/html": [
       "<style>\n",
       ".list-inline {list-style: none; margin:0; padding: 0}\n",
       ".list-inline>li {display: inline-block}\n",
       ".list-inline>li:not(:last-child)::after {content: \"\\00b7\"; padding: 0 .5ex}\n",
       "</style>\n",
       "<ol class=list-inline><li>3</li><li>19</li><li>112</li><li>4731</li></ol>\n"
      ],
      "text/latex": [
       "\\begin{enumerate*}\n",
       "\\item 3\n",
       "\\item 19\n",
       "\\item 112\n",
       "\\item 4731\n",
       "\\end{enumerate*}\n"
      ],
      "text/markdown": [
       "1. 3\n",
       "2. 19\n",
       "3. 112\n",
       "4. 4731\n",
       "\n",
       "\n"
      ],
      "text/plain": [
       "[1]    3   19  112 4731"
      ]
     },
     "metadata": {},
     "output_type": "display_data"
    }
   ],
   "source": [
    "vec_1 <- c(3, 19, 112, 4731)\n",
    "vec_1"
   ]
  },
  {
   "cell_type": "code",
   "execution_count": 2,
   "id": "0984041b-f183-4fe7-b3f1-799033481e93",
   "metadata": {},
   "outputs": [
    {
     "data": {
      "text/html": [
       "'numeric'"
      ],
      "text/latex": [
       "'numeric'"
      ],
      "text/markdown": [
       "'numeric'"
      ],
      "text/plain": [
       "[1] \"numeric\""
      ]
     },
     "metadata": {},
     "output_type": "display_data"
    }
   ],
   "source": [
    "class(vec_1)"
   ]
  },
  {
   "cell_type": "code",
   "execution_count": 3,
   "id": "ec773885-d33c-40d7-a062-7168f6d57e50",
   "metadata": {},
   "outputs": [
    {
     "data": {
      "text/html": [
       "4"
      ],
      "text/latex": [
       "4"
      ],
      "text/markdown": [
       "4"
      ],
      "text/plain": [
       "[1] 4"
      ]
     },
     "metadata": {},
     "output_type": "display_data"
    }
   ],
   "source": [
    "length(vec_1)"
   ]
  },
  {
   "cell_type": "code",
   "execution_count": 4,
   "id": "c92c9c13-62e6-4b2d-9c32-7e9e0aba158e",
   "metadata": {},
   "outputs": [
    {
     "data": {
      "text/html": [
       "<style>\n",
       ".list-inline {list-style: none; margin:0; padding: 0}\n",
       ".list-inline>li {display: inline-block}\n",
       ".list-inline>li:not(:last-child)::after {content: \"\\00b7\"; padding: 0 .5ex}\n",
       "</style>\n",
       "<ol class=list-inline><li>'b'</li><li>'7'</li><li>'b7'</li></ol>\n"
      ],
      "text/latex": [
       "\\begin{enumerate*}\n",
       "\\item 'b'\n",
       "\\item '7'\n",
       "\\item 'b7'\n",
       "\\end{enumerate*}\n"
      ],
      "text/markdown": [
       "1. 'b'\n",
       "2. '7'\n",
       "3. 'b7'\n",
       "\n",
       "\n"
      ],
      "text/plain": [
       "[1] \"b\"  \"7\"  \"b7\""
      ]
     },
     "metadata": {},
     "output_type": "display_data"
    }
   ],
   "source": [
    "vec_2 <- c(\"b\", \"7\", \"b7\")\n",
    "vec_2"
   ]
  },
  {
   "cell_type": "code",
   "execution_count": 5,
   "id": "4d17df0f-29b7-49f2-870f-b831f8064121",
   "metadata": {},
   "outputs": [
    {
     "data": {
      "text/html": [
       "<style>\n",
       ".list-inline {list-style: none; margin:0; padding: 0}\n",
       ".list-inline>li {display: inline-block}\n",
       ".list-inline>li:not(:last-child)::after {content: \"\\00b7\"; padding: 0 .5ex}\n",
       "</style>\n",
       "<ol class=list-inline><li>'3'</li><li>'19'</li><li>'112'</li><li>'4731'</li><li>'37,5'</li></ol>\n"
      ],
      "text/latex": [
       "\\begin{enumerate*}\n",
       "\\item '3'\n",
       "\\item '19'\n",
       "\\item '112'\n",
       "\\item '4731'\n",
       "\\item '37,5'\n",
       "\\end{enumerate*}\n"
      ],
      "text/markdown": [
       "1. '3'\n",
       "2. '19'\n",
       "3. '112'\n",
       "4. '4731'\n",
       "5. '37,5'\n",
       "\n",
       "\n"
      ],
      "text/plain": [
       "[1] \"3\"    \"19\"   \"112\"  \"4731\" \"37,5\""
      ]
     },
     "metadata": {},
     "output_type": "display_data"
    }
   ],
   "source": [
    "vec_3 <- c(3, 19, 112, 4731, \"37,5\")\n",
    "vec_3"
   ]
  },
  {
   "cell_type": "code",
   "execution_count": 6,
   "id": "db038f2d-14f5-4d32-a607-7a65644158c2",
   "metadata": {},
   "outputs": [
    {
     "data": {
      "text/html": [
       "<style>\n",
       ".list-inline {list-style: none; margin:0; padding: 0}\n",
       ".list-inline>li {display: inline-block}\n",
       ".list-inline>li:not(:last-child)::after {content: \"\\00b7\"; padding: 0 .5ex}\n",
       "</style>\n",
       "<ol class=list-inline><li>'3'</li><li>'19'</li><li>'112'</li><li>'4731'</li><li>'b'</li><li>'7'</li><li>'b7'</li><li>'3'</li><li>'19'</li><li>'112'</li><li>'4731'</li><li>'37,5'</li></ol>\n"
      ],
      "text/latex": [
       "\\begin{enumerate*}\n",
       "\\item '3'\n",
       "\\item '19'\n",
       "\\item '112'\n",
       "\\item '4731'\n",
       "\\item 'b'\n",
       "\\item '7'\n",
       "\\item 'b7'\n",
       "\\item '3'\n",
       "\\item '19'\n",
       "\\item '112'\n",
       "\\item '4731'\n",
       "\\item '37,5'\n",
       "\\end{enumerate*}\n"
      ],
      "text/markdown": [
       "1. '3'\n",
       "2. '19'\n",
       "3. '112'\n",
       "4. '4731'\n",
       "5. 'b'\n",
       "6. '7'\n",
       "7. 'b7'\n",
       "8. '3'\n",
       "9. '19'\n",
       "10. '112'\n",
       "11. '4731'\n",
       "12. '37,5'\n",
       "\n",
       "\n"
      ],
      "text/plain": [
       " [1] \"3\"    \"19\"   \"112\"  \"4731\" \"b\"    \"7\"    \"b7\"   \"3\"    \"19\"   \"112\" \n",
       "[11] \"4731\" \"37,5\""
      ]
     },
     "metadata": {},
     "output_type": "display_data"
    }
   ],
   "source": [
    "vec_all <- c(vec_1, vec_2, vec_3)\n",
    "vec_all"
   ]
  },
  {
   "cell_type": "code",
   "execution_count": 7,
   "id": "9f16ecfb-f7d6-4b31-a49c-6af7d50f9177",
   "metadata": {},
   "outputs": [
    {
     "data": {
      "text/html": [
       "<style>\n",
       ".list-inline {list-style: none; margin:0; padding: 0}\n",
       ".list-inline>li {display: inline-block}\n",
       ".list-inline>li:not(:last-child)::after {content: \"\\00b7\"; padding: 0 .5ex}\n",
       "</style>\n",
       "<ol class=list-inline><li>'3'</li><li>'19'</li><li>'112'</li></ol>\n"
      ],
      "text/latex": [
       "\\begin{enumerate*}\n",
       "\\item '3'\n",
       "\\item '19'\n",
       "\\item '112'\n",
       "\\end{enumerate*}\n"
      ],
      "text/markdown": [
       "1. '3'\n",
       "2. '19'\n",
       "3. '112'\n",
       "\n",
       "\n"
      ],
      "text/plain": [
       "[1] \"3\"   \"19\"  \"112\""
      ]
     },
     "metadata": {},
     "output_type": "display_data"
    }
   ],
   "source": [
    "vec_all[1:3]"
   ]
  },
  {
   "cell_type": "code",
   "execution_count": 8,
   "id": "5ddd5bfd-eb36-47c5-a858-b53607d33f41",
   "metadata": {},
   "outputs": [
    {
     "data": {
      "text/html": [
       "<style>\n",
       ".list-inline {list-style: none; margin:0; padding: 0}\n",
       ".list-inline>li {display: inline-block}\n",
       ".list-inline>li:not(:last-child)::after {content: \"\\00b7\"; padding: 0 .5ex}\n",
       "</style>\n",
       "<ol class=list-inline><li>'b'</li><li>'19'</li><li>'112'</li><li>'4731'</li><li>'b'</li><li>'7'</li><li>'b7'</li><li>'3'</li><li>'19'</li><li>'112'</li><li>'4731'</li><li>'37,5'</li></ol>\n"
      ],
      "text/latex": [
       "\\begin{enumerate*}\n",
       "\\item 'b'\n",
       "\\item '19'\n",
       "\\item '112'\n",
       "\\item '4731'\n",
       "\\item 'b'\n",
       "\\item '7'\n",
       "\\item 'b7'\n",
       "\\item '3'\n",
       "\\item '19'\n",
       "\\item '112'\n",
       "\\item '4731'\n",
       "\\item '37,5'\n",
       "\\end{enumerate*}\n"
      ],
      "text/markdown": [
       "1. 'b'\n",
       "2. '19'\n",
       "3. '112'\n",
       "4. '4731'\n",
       "5. 'b'\n",
       "6. '7'\n",
       "7. 'b7'\n",
       "8. '3'\n",
       "9. '19'\n",
       "10. '112'\n",
       "11. '4731'\n",
       "12. '37,5'\n",
       "\n",
       "\n"
      ],
      "text/plain": [
       " [1] \"b\"    \"19\"   \"112\"  \"4731\" \"b\"    \"7\"    \"b7\"   \"3\"    \"19\"   \"112\" \n",
       "[11] \"4731\" \"37,5\""
      ]
     },
     "metadata": {},
     "output_type": "display_data"
    }
   ],
   "source": [
    "vec_all[1] <- \"b\"\n",
    "vec_all"
   ]
  },
  {
   "cell_type": "code",
   "execution_count": 9,
   "id": "9182f00c-1380-4b36-a858-833f1c6a33e1",
   "metadata": {},
   "outputs": [
    {
     "data": {
      "text/html": [
       "TRUE"
      ],
      "text/latex": [
       "TRUE"
      ],
      "text/markdown": [
       "TRUE"
      ],
      "text/plain": [
       "[1] TRUE"
      ]
     },
     "metadata": {},
     "output_type": "display_data"
    }
   ],
   "source": [
    "\"b\" %in% vec_all"
   ]
  },
  {
   "cell_type": "code",
   "execution_count": 10,
   "id": "8d27f90e-edd6-475b-b856-9a008c0fdfcd",
   "metadata": {},
   "outputs": [
    {
     "data": {
      "text/html": [
       "<style>\n",
       ".list-inline {list-style: none; margin:0; padding: 0}\n",
       ".list-inline>li {display: inline-block}\n",
       ".list-inline>li:not(:last-child)::after {content: \"\\00b7\"; padding: 0 .5ex}\n",
       "</style>\n",
       "<ol class=list-inline><li>'b'</li><li>'7'</li><li>'b7'</li><li>'b'</li></ol>\n"
      ],
      "text/latex": [
       "\\begin{enumerate*}\n",
       "\\item 'b'\n",
       "\\item '7'\n",
       "\\item 'b7'\n",
       "\\item 'b'\n",
       "\\end{enumerate*}\n"
      ],
      "text/markdown": [
       "1. 'b'\n",
       "2. '7'\n",
       "3. 'b7'\n",
       "4. 'b'\n",
       "\n",
       "\n"
      ],
      "text/plain": [
       "[1] \"b\"  \"7\"  \"b7\" \"b\" "
      ]
     },
     "metadata": {},
     "output_type": "display_data"
    }
   ],
   "source": [
    "vec_2 <- c(vec_2, \"b\")\n",
    "vec_2"
   ]
  },
  {
   "cell_type": "code",
   "execution_count": 11,
   "id": "26fa740e-6386-48cf-b60f-39d5f3b8c4d9",
   "metadata": {},
   "outputs": [
    {
     "data": {
      "text/html": [
       "<style>\n",
       ".list-inline {list-style: none; margin:0; padding: 0}\n",
       ".list-inline>li {display: inline-block}\n",
       ".list-inline>li:not(:last-child)::after {content: \"\\00b7\"; padding: 0 .5ex}\n",
       "</style>\n",
       "<ol class=list-inline><li>3</li><li>8</li><li>19</li><li>112</li><li>4731</li></ol>\n"
      ],
      "text/latex": [
       "\\begin{enumerate*}\n",
       "\\item 3\n",
       "\\item 8\n",
       "\\item 19\n",
       "\\item 112\n",
       "\\item 4731\n",
       "\\end{enumerate*}\n"
      ],
      "text/markdown": [
       "1. 3\n",
       "2. 8\n",
       "3. 19\n",
       "4. 112\n",
       "5. 4731\n",
       "\n",
       "\n"
      ],
      "text/plain": [
       "[1]    3    8   19  112 4731"
      ]
     },
     "metadata": {},
     "output_type": "display_data"
    }
   ],
   "source": [
    "vec_1 <- append(vec_1, 8, after = 1)\n",
    "vec_1"
   ]
  },
  {
   "cell_type": "code",
   "execution_count": 12,
   "id": "bdb7e5af-aeb1-4b09-9273-3ae03f213666",
   "metadata": {},
   "outputs": [
    {
     "data": {
      "text/html": [
       "2"
      ],
      "text/latex": [
       "2"
      ],
      "text/markdown": [
       "2"
      ],
      "text/plain": [
       "[1] 2"
      ]
     },
     "metadata": {},
     "output_type": "display_data"
    }
   ],
   "source": [
    "sum(vec_2 == \"b\")"
   ]
  },
  {
   "cell_type": "code",
   "execution_count": 13,
   "id": "3ffdd173-6f40-44cb-b4c0-e83b05a11347",
   "metadata": {},
   "outputs": [
    {
     "data": {
      "text/html": [
       "<style>\n",
       ".list-inline {list-style: none; margin:0; padding: 0}\n",
       ".list-inline>li {display: inline-block}\n",
       ".list-inline>li:not(:last-child)::after {content: \"\\00b7\"; padding: 0 .5ex}\n",
       "</style>\n",
       "<ol class=list-inline><li>'3'</li><li>'19'</li><li>'112'</li><li>'4731'</li></ol>\n"
      ],
      "text/latex": [
       "\\begin{enumerate*}\n",
       "\\item '3'\n",
       "\\item '19'\n",
       "\\item '112'\n",
       "\\item '4731'\n",
       "\\end{enumerate*}\n"
      ],
      "text/markdown": [
       "1. '3'\n",
       "2. '19'\n",
       "3. '112'\n",
       "4. '4731'\n",
       "\n",
       "\n"
      ],
      "text/plain": [
       "[1] \"3\"    \"19\"   \"112\"  \"4731\""
      ]
     },
     "metadata": {},
     "output_type": "display_data"
    }
   ],
   "source": [
    "vec_3[-5]"
   ]
  },
  {
   "cell_type": "code",
   "execution_count": 14,
   "id": "e1fac227-9995-4622-bafa-5200c32bdba7",
   "metadata": {},
   "outputs": [
    {
     "data": {
      "text/html": [
       "<style>\n",
       ".list-inline {list-style: none; margin:0; padding: 0}\n",
       ".list-inline>li {display: inline-block}\n",
       ".list-inline>li:not(:last-child)::after {content: \"\\00b7\"; padding: 0 .5ex}\n",
       "</style>\n",
       "<ol class=list-inline><li>'7'</li><li>'b7'</li></ol>\n"
      ],
      "text/latex": [
       "\\begin{enumerate*}\n",
       "\\item '7'\n",
       "\\item 'b7'\n",
       "\\end{enumerate*}\n"
      ],
      "text/markdown": [
       "1. '7'\n",
       "2. 'b7'\n",
       "\n",
       "\n"
      ],
      "text/plain": [
       "[1] \"7\"  \"b7\""
      ]
     },
     "metadata": {},
     "output_type": "display_data"
    }
   ],
   "source": [
    "vec_2[vec_2 != \"b\"]"
   ]
  },
  {
   "cell_type": "code",
   "execution_count": 15,
   "id": "79b03ce9-07be-4a7c-845d-514bbbf3d2a7",
   "metadata": {},
   "outputs": [
    {
     "data": {
      "text/html": [
       "<style>\n",
       ".list-inline {list-style: none; margin:0; padding: 0}\n",
       ".list-inline>li {display: inline-block}\n",
       ".list-inline>li:not(:last-child)::after {content: \"\\00b7\"; padding: 0 .5ex}\n",
       "</style>\n",
       "<ol class=list-inline><li>3</li><li>8</li><li>19</li><li>112</li><li>4731</li></ol>\n"
      ],
      "text/latex": [
       "\\begin{enumerate*}\n",
       "\\item 3\n",
       "\\item 8\n",
       "\\item 19\n",
       "\\item 112\n",
       "\\item 4731\n",
       "\\end{enumerate*}\n"
      ],
      "text/markdown": [
       "1. 3\n",
       "2. 8\n",
       "3. 19\n",
       "4. 112\n",
       "5. 4731\n",
       "\n",
       "\n"
      ],
      "text/plain": [
       "[1]    3    8   19  112 4731"
      ]
     },
     "metadata": {},
     "output_type": "display_data"
    }
   ],
   "source": [
    "sort(vec_1)"
   ]
  },
  {
   "cell_type": "code",
   "execution_count": 16,
   "id": "c2f7a141-affe-4498-beb6-473edea8d711",
   "metadata": {},
   "outputs": [
    {
     "data": {
      "text/html": [
       "<style>\n",
       ".list-inline {list-style: none; margin:0; padding: 0}\n",
       ".list-inline>li {display: inline-block}\n",
       ".list-inline>li:not(:last-child)::after {content: \"\\00b7\"; padding: 0 .5ex}\n",
       "</style>\n",
       "<ol class=list-inline><li>4731</li><li>112</li><li>19</li><li>8</li><li>3</li></ol>\n"
      ],
      "text/latex": [
       "\\begin{enumerate*}\n",
       "\\item 4731\n",
       "\\item 112\n",
       "\\item 19\n",
       "\\item 8\n",
       "\\item 3\n",
       "\\end{enumerate*}\n"
      ],
      "text/markdown": [
       "1. 4731\n",
       "2. 112\n",
       "3. 19\n",
       "4. 8\n",
       "5. 3\n",
       "\n",
       "\n"
      ],
      "text/plain": [
       "[1] 4731  112   19    8    3"
      ]
     },
     "metadata": {},
     "output_type": "display_data"
    }
   ],
   "source": [
    "sort(vec_1, decreasing = TRUE)"
   ]
  },
  {
   "cell_type": "code",
   "execution_count": null,
   "id": "f8667fbc-5f63-446a-83b3-d83ff7237682",
   "metadata": {},
   "outputs": [],
   "source": []
  },
  {
   "cell_type": "code",
   "execution_count": 17,
   "id": "3ad6ca64-acb1-46db-916e-b144343638f8",
   "metadata": {},
   "outputs": [
    {
     "data": {
      "text/html": [
       "<style>\n",
       ".list-inline {list-style: none; margin:0; padding: 0}\n",
       ".list-inline>li {display: inline-block}\n",
       ".list-inline>li:not(:last-child)::after {content: \"\\00b7\"; padding: 0 .5ex}\n",
       "</style>\n",
       "<ol class=list-inline><li>1</li><li>2</li><li>3</li><li>4</li><li>5</li><li>6</li><li>7</li><li>8</li><li>9</li><li>10</li><li>11</li><li>12</li><li>13</li><li>14</li><li>15</li></ol>\n"
      ],
      "text/latex": [
       "\\begin{enumerate*}\n",
       "\\item 1\n",
       "\\item 2\n",
       "\\item 3\n",
       "\\item 4\n",
       "\\item 5\n",
       "\\item 6\n",
       "\\item 7\n",
       "\\item 8\n",
       "\\item 9\n",
       "\\item 10\n",
       "\\item 11\n",
       "\\item 12\n",
       "\\item 13\n",
       "\\item 14\n",
       "\\item 15\n",
       "\\end{enumerate*}\n"
      ],
      "text/markdown": [
       "1. 1\n",
       "2. 2\n",
       "3. 3\n",
       "4. 4\n",
       "5. 5\n",
       "6. 6\n",
       "7. 7\n",
       "8. 8\n",
       "9. 9\n",
       "10. 10\n",
       "11. 11\n",
       "12. 12\n",
       "13. 13\n",
       "14. 14\n",
       "15. 15\n",
       "\n",
       "\n"
      ],
      "text/plain": [
       " [1]  1  2  3  4  5  6  7  8  9 10 11 12 13 14 15"
      ]
     },
     "metadata": {},
     "output_type": "display_data"
    },
    {
     "data": {
      "text/html": [
       "<style>\n",
       ".list-inline {list-style: none; margin:0; padding: 0}\n",
       ".list-inline>li {display: inline-block}\n",
       ".list-inline>li:not(:last-child)::after {content: \"\\00b7\"; padding: 0 .5ex}\n",
       "</style>\n",
       "<ol class=list-inline><li>1</li><li>2</li><li>3</li><li>4</li><li>5</li><li>6</li><li>7</li><li>8</li><li>9</li><li>10</li><li>11</li><li>12</li><li>13</li><li>14</li><li>15</li></ol>\n"
      ],
      "text/latex": [
       "\\begin{enumerate*}\n",
       "\\item 1\n",
       "\\item 2\n",
       "\\item 3\n",
       "\\item 4\n",
       "\\item 5\n",
       "\\item 6\n",
       "\\item 7\n",
       "\\item 8\n",
       "\\item 9\n",
       "\\item 10\n",
       "\\item 11\n",
       "\\item 12\n",
       "\\item 13\n",
       "\\item 14\n",
       "\\item 15\n",
       "\\end{enumerate*}\n"
      ],
      "text/markdown": [
       "1. 1\n",
       "2. 2\n",
       "3. 3\n",
       "4. 4\n",
       "5. 5\n",
       "6. 6\n",
       "7. 7\n",
       "8. 8\n",
       "9. 9\n",
       "10. 10\n",
       "11. 11\n",
       "12. 12\n",
       "13. 13\n",
       "14. 14\n",
       "15. 15\n",
       "\n",
       "\n"
      ],
      "text/plain": [
       " [1]  1  2  3  4  5  6  7  8  9 10 11 12 13 14 15"
      ]
     },
     "metadata": {},
     "output_type": "display_data"
    }
   ],
   "source": [
    "1:15\n",
    "seq(1, 15)"
   ]
  },
  {
   "cell_type": "code",
   "execution_count": 18,
   "id": "e3a6f867-32f5-4b9d-a137-96bf9f954ce1",
   "metadata": {},
   "outputs": [
    {
     "data": {
      "text/html": [
       "<style>\n",
       ".list-inline {list-style: none; margin:0; padding: 0}\n",
       ".list-inline>li {display: inline-block}\n",
       ".list-inline>li:not(:last-child)::after {content: \"\\00b7\"; padding: 0 .5ex}\n",
       "</style>\n",
       "<ol class=list-inline><li>1</li><li>3</li><li>5</li><li>7</li><li>9</li><li>11</li><li>13</li><li>15</li></ol>\n"
      ],
      "text/latex": [
       "\\begin{enumerate*}\n",
       "\\item 1\n",
       "\\item 3\n",
       "\\item 5\n",
       "\\item 7\n",
       "\\item 9\n",
       "\\item 11\n",
       "\\item 13\n",
       "\\item 15\n",
       "\\end{enumerate*}\n"
      ],
      "text/markdown": [
       "1. 1\n",
       "2. 3\n",
       "3. 5\n",
       "4. 7\n",
       "5. 9\n",
       "6. 11\n",
       "7. 13\n",
       "8. 15\n",
       "\n",
       "\n"
      ],
      "text/plain": [
       "[1]  1  3  5  7  9 11 13 15"
      ]
     },
     "metadata": {},
     "output_type": "display_data"
    }
   ],
   "source": [
    "seq(1, 15, 2)"
   ]
  },
  {
   "cell_type": "code",
   "execution_count": 19,
   "id": "ff71fd15-89fe-49c1-9378-8af1c5a649ce",
   "metadata": {},
   "outputs": [
    {
     "data": {
      "text/html": [
       "<style>\n",
       ".list-inline {list-style: none; margin:0; padding: 0}\n",
       ".list-inline>li {display: inline-block}\n",
       ".list-inline>li:not(:last-child)::after {content: \"\\00b7\"; padding: 0 .5ex}\n",
       "</style>\n",
       "<ol class=list-inline><li>3</li><li>3</li><li>3</li><li>3</li><li>3</li><li>3</li><li>3</li><li>3</li><li>3</li><li>3</li><li>3</li><li>3</li><li>3</li><li>3</li><li>3</li><li>3</li><li>3</li><li>3</li><li>3</li><li>3</li><li>3</li><li>3</li><li>3</li><li>3</li><li>3</li><li>3</li><li>3</li><li>3</li><li>3</li><li>3</li><li>3</li><li>3</li><li>3</li><li>3</li><li>3</li><li>3</li><li>3</li><li>3</li><li>3</li><li>3</li><li>3</li><li>3</li><li>3</li><li>3</li><li>3</li><li>3</li><li>3</li><li>3</li><li>3</li><li>3</li></ol>\n"
      ],
      "text/latex": [
       "\\begin{enumerate*}\n",
       "\\item 3\n",
       "\\item 3\n",
       "\\item 3\n",
       "\\item 3\n",
       "\\item 3\n",
       "\\item 3\n",
       "\\item 3\n",
       "\\item 3\n",
       "\\item 3\n",
       "\\item 3\n",
       "\\item 3\n",
       "\\item 3\n",
       "\\item 3\n",
       "\\item 3\n",
       "\\item 3\n",
       "\\item 3\n",
       "\\item 3\n",
       "\\item 3\n",
       "\\item 3\n",
       "\\item 3\n",
       "\\item 3\n",
       "\\item 3\n",
       "\\item 3\n",
       "\\item 3\n",
       "\\item 3\n",
       "\\item 3\n",
       "\\item 3\n",
       "\\item 3\n",
       "\\item 3\n",
       "\\item 3\n",
       "\\item 3\n",
       "\\item 3\n",
       "\\item 3\n",
       "\\item 3\n",
       "\\item 3\n",
       "\\item 3\n",
       "\\item 3\n",
       "\\item 3\n",
       "\\item 3\n",
       "\\item 3\n",
       "\\item 3\n",
       "\\item 3\n",
       "\\item 3\n",
       "\\item 3\n",
       "\\item 3\n",
       "\\item 3\n",
       "\\item 3\n",
       "\\item 3\n",
       "\\item 3\n",
       "\\item 3\n",
       "\\end{enumerate*}\n"
      ],
      "text/markdown": [
       "1. 3\n",
       "2. 3\n",
       "3. 3\n",
       "4. 3\n",
       "5. 3\n",
       "6. 3\n",
       "7. 3\n",
       "8. 3\n",
       "9. 3\n",
       "10. 3\n",
       "11. 3\n",
       "12. 3\n",
       "13. 3\n",
       "14. 3\n",
       "15. 3\n",
       "16. 3\n",
       "17. 3\n",
       "18. 3\n",
       "19. 3\n",
       "20. 3\n",
       "21. 3\n",
       "22. 3\n",
       "23. 3\n",
       "24. 3\n",
       "25. 3\n",
       "26. 3\n",
       "27. 3\n",
       "28. 3\n",
       "29. 3\n",
       "30. 3\n",
       "31. 3\n",
       "32. 3\n",
       "33. 3\n",
       "34. 3\n",
       "35. 3\n",
       "36. 3\n",
       "37. 3\n",
       "38. 3\n",
       "39. 3\n",
       "40. 3\n",
       "41. 3\n",
       "42. 3\n",
       "43. 3\n",
       "44. 3\n",
       "45. 3\n",
       "46. 3\n",
       "47. 3\n",
       "48. 3\n",
       "49. 3\n",
       "50. 3\n",
       "\n",
       "\n"
      ],
      "text/plain": [
       " [1] 3 3 3 3 3 3 3 3 3 3 3 3 3 3 3 3 3 3 3 3 3 3 3 3 3 3 3 3 3 3 3 3 3 3 3 3 3 3\n",
       "[39] 3 3 3 3 3 3 3 3 3 3 3 3"
      ]
     },
     "metadata": {},
     "output_type": "display_data"
    },
    {
     "data": {
      "text/html": [
       "<style>\n",
       ".list-inline {list-style: none; margin:0; padding: 0}\n",
       ".list-inline>li {display: inline-block}\n",
       ".list-inline>li:not(:last-child)::after {content: \"\\00b7\"; padding: 0 .5ex}\n",
       "</style>\n",
       "<ol class=list-inline><li>'a'</li><li>'a'</li><li>'a'</li><li>'a'</li><li>'a'</li></ol>\n"
      ],
      "text/latex": [
       "\\begin{enumerate*}\n",
       "\\item 'a'\n",
       "\\item 'a'\n",
       "\\item 'a'\n",
       "\\item 'a'\n",
       "\\item 'a'\n",
       "\\end{enumerate*}\n"
      ],
      "text/markdown": [
       "1. 'a'\n",
       "2. 'a'\n",
       "3. 'a'\n",
       "4. 'a'\n",
       "5. 'a'\n",
       "\n",
       "\n"
      ],
      "text/plain": [
       "[1] \"a\" \"a\" \"a\" \"a\" \"a\""
      ]
     },
     "metadata": {},
     "output_type": "display_data"
    }
   ],
   "source": [
    "rep(3, 50)\n",
    "rep(\"a\", 5) "
   ]
  },
  {
   "cell_type": "code",
   "execution_count": 20,
   "id": "3f742405-5704-4391-b1c3-a114954efa55",
   "metadata": {},
   "outputs": [
    {
     "data": {
      "text/html": [
       "<style>\n",
       ".list-inline {list-style: none; margin:0; padding: 0}\n",
       ".list-inline>li {display: inline-block}\n",
       ".list-inline>li:not(:last-child)::after {content: \"\\00b7\"; padding: 0 .5ex}\n",
       "</style>\n",
       "<ol class=list-inline><li>80</li><li>20</li><li>80</li><li>20</li><li>80</li><li>20</li><li>80</li><li>20</li><li>80</li><li>20</li><li>80</li><li>20</li><li>80</li><li>20</li><li>80</li><li>20</li><li>80</li><li>20</li><li>80</li><li>20</li></ol>\n"
      ],
      "text/latex": [
       "\\begin{enumerate*}\n",
       "\\item 80\n",
       "\\item 20\n",
       "\\item 80\n",
       "\\item 20\n",
       "\\item 80\n",
       "\\item 20\n",
       "\\item 80\n",
       "\\item 20\n",
       "\\item 80\n",
       "\\item 20\n",
       "\\item 80\n",
       "\\item 20\n",
       "\\item 80\n",
       "\\item 20\n",
       "\\item 80\n",
       "\\item 20\n",
       "\\item 80\n",
       "\\item 20\n",
       "\\item 80\n",
       "\\item 20\n",
       "\\end{enumerate*}\n"
      ],
      "text/markdown": [
       "1. 80\n",
       "2. 20\n",
       "3. 80\n",
       "4. 20\n",
       "5. 80\n",
       "6. 20\n",
       "7. 80\n",
       "8. 20\n",
       "9. 80\n",
       "10. 20\n",
       "11. 80\n",
       "12. 20\n",
       "13. 80\n",
       "14. 20\n",
       "15. 80\n",
       "16. 20\n",
       "17. 80\n",
       "18. 20\n",
       "19. 80\n",
       "20. 20\n",
       "\n",
       "\n"
      ],
      "text/plain": [
       " [1] 80 20 80 20 80 20 80 20 80 20 80 20 80 20 80 20 80 20 80 20"
      ]
     },
     "metadata": {},
     "output_type": "display_data"
    }
   ],
   "source": [
    "vec_4 <- c(80, 20)\n",
    "rep(vec_4, 10) "
   ]
  },
  {
   "cell_type": "code",
   "execution_count": 21,
   "id": "a9f8a3a1-fc4c-493f-86c6-6c984b8a5d78",
   "metadata": {},
   "outputs": [
    {
     "data": {
      "text/html": [
       "<style>\n",
       ".list-inline {list-style: none; margin:0; padding: 0}\n",
       ".list-inline>li {display: inline-block}\n",
       ".list-inline>li:not(:last-child)::after {content: \"\\00b7\"; padding: 0 .5ex}\n",
       "</style>\n",
       "<ol class=list-inline><li>0.511322605889291</li><li>0.10776071017608</li><li>0.807233716128394</li><li>0.321017216192558</li><li>0.621187295066193</li><li>0.178935241419822</li></ol>\n"
      ],
      "text/latex": [
       "\\begin{enumerate*}\n",
       "\\item 0.511322605889291\n",
       "\\item 0.10776071017608\n",
       "\\item 0.807233716128394\n",
       "\\item 0.321017216192558\n",
       "\\item 0.621187295066193\n",
       "\\item 0.178935241419822\n",
       "\\end{enumerate*}\n"
      ],
      "text/markdown": [
       "1. 0.511322605889291\n",
       "2. 0.10776071017608\n",
       "3. 0.807233716128394\n",
       "4. 0.321017216192558\n",
       "5. 0.621187295066193\n",
       "6. 0.178935241419822\n",
       "\n",
       "\n"
      ],
      "text/plain": [
       "[1] 0.5113226 0.1077607 0.8072337 0.3210172 0.6211873 0.1789352"
      ]
     },
     "metadata": {},
     "output_type": "display_data"
    }
   ],
   "source": [
    "runif(6)"
   ]
  },
  {
   "cell_type": "markdown",
   "id": "5ec8afe6-c03a-46a5-895b-9fe7dd3f4a63",
   "metadata": {},
   "source": [
    "## List"
   ]
  },
  {
   "cell_type": "code",
   "execution_count": 22,
   "id": "9200e95e-6b4a-48cd-af66-85307b00be19",
   "metadata": {},
   "outputs": [
    {
     "data": {
      "text/html": [
       "<ol>\n",
       "\t<li>3</li>\n",
       "\t<li>19</li>\n",
       "\t<li>112</li>\n",
       "\t<li>4731</li>\n",
       "</ol>\n"
      ],
      "text/latex": [
       "\\begin{enumerate}\n",
       "\\item 3\n",
       "\\item 19\n",
       "\\item 112\n",
       "\\item 4731\n",
       "\\end{enumerate}\n"
      ],
      "text/markdown": [
       "1. 3\n",
       "2. 19\n",
       "3. 112\n",
       "4. 4731\n",
       "\n",
       "\n"
      ],
      "text/plain": [
       "[[1]]\n",
       "[1] 3\n",
       "\n",
       "[[2]]\n",
       "[1] 19\n",
       "\n",
       "[[3]]\n",
       "[1] 112\n",
       "\n",
       "[[4]]\n",
       "[1] 4731\n"
      ]
     },
     "metadata": {},
     "output_type": "display_data"
    }
   ],
   "source": [
    "list_1 <- list(3, 19, 112, 4731)\n",
    "list_1"
   ]
  },
  {
   "cell_type": "code",
   "execution_count": 23,
   "id": "d0b307d1-c8c6-49dd-8d87-d99a9f72b4b2",
   "metadata": {},
   "outputs": [
    {
     "data": {
      "text/html": [
       "'list'"
      ],
      "text/latex": [
       "'list'"
      ],
      "text/markdown": [
       "'list'"
      ],
      "text/plain": [
       "[1] \"list\""
      ]
     },
     "metadata": {},
     "output_type": "display_data"
    }
   ],
   "source": [
    "class(list_1)"
   ]
  },
  {
   "cell_type": "code",
   "execution_count": 24,
   "id": "d1532e80-e7b7-43f8-9e0a-3d292f9eccec",
   "metadata": {},
   "outputs": [
    {
     "data": {
      "text/html": [
       "4"
      ],
      "text/latex": [
       "4"
      ],
      "text/markdown": [
       "4"
      ],
      "text/plain": [
       "[1] 4"
      ]
     },
     "metadata": {},
     "output_type": "display_data"
    }
   ],
   "source": [
    "length(list_1)"
   ]
  },
  {
   "cell_type": "code",
   "execution_count": 25,
   "id": "9fa53cb5-86bf-42c0-ac42-f34b0b739c88",
   "metadata": {},
   "outputs": [
    {
     "data": {
      "text/html": [
       "<ol>\n",
       "\t<li>'b'</li>\n",
       "\t<li>'7'</li>\n",
       "\t<li>'b7'</li>\n",
       "</ol>\n"
      ],
      "text/latex": [
       "\\begin{enumerate}\n",
       "\\item 'b'\n",
       "\\item '7'\n",
       "\\item 'b7'\n",
       "\\end{enumerate}\n"
      ],
      "text/markdown": [
       "1. 'b'\n",
       "2. '7'\n",
       "3. 'b7'\n",
       "\n",
       "\n"
      ],
      "text/plain": [
       "[[1]]\n",
       "[1] \"b\"\n",
       "\n",
       "[[2]]\n",
       "[1] \"7\"\n",
       "\n",
       "[[3]]\n",
       "[1] \"b7\"\n"
      ]
     },
     "metadata": {},
     "output_type": "display_data"
    }
   ],
   "source": [
    "list_2 <- list(\"b\", \"7\", \"b7\")\n",
    "list_2"
   ]
  },
  {
   "cell_type": "code",
   "execution_count": 26,
   "id": "ebc43a17-5fab-4393-b75f-9ffc11f5c0c9",
   "metadata": {},
   "outputs": [
    {
     "data": {
      "text/html": [
       "<ol>\n",
       "\t<li>3</li>\n",
       "\t<li>19</li>\n",
       "\t<li>112</li>\n",
       "\t<li>4731</li>\n",
       "\t<li>'37,5'</li>\n",
       "</ol>\n"
      ],
      "text/latex": [
       "\\begin{enumerate}\n",
       "\\item 3\n",
       "\\item 19\n",
       "\\item 112\n",
       "\\item 4731\n",
       "\\item '37,5'\n",
       "\\end{enumerate}\n"
      ],
      "text/markdown": [
       "1. 3\n",
       "2. 19\n",
       "3. 112\n",
       "4. 4731\n",
       "5. '37,5'\n",
       "\n",
       "\n"
      ],
      "text/plain": [
       "[[1]]\n",
       "[1] 3\n",
       "\n",
       "[[2]]\n",
       "[1] 19\n",
       "\n",
       "[[3]]\n",
       "[1] 112\n",
       "\n",
       "[[4]]\n",
       "[1] 4731\n",
       "\n",
       "[[5]]\n",
       "[1] \"37,5\"\n"
      ]
     },
     "metadata": {},
     "output_type": "display_data"
    }
   ],
   "source": [
    "list_3 <- list(3, 19, 112, 4731, \"37,5\")\n",
    "list_3"
   ]
  },
  {
   "cell_type": "code",
   "execution_count": 27,
   "id": "0eb62590-2046-4d73-a164-895d3cc94872",
   "metadata": {},
   "outputs": [
    {
     "data": {
      "text/html": [
       "<ol>\n",
       "\t<li>3</li>\n",
       "\t<li>19</li>\n",
       "\t<li>112</li>\n",
       "\t<li>4731</li>\n",
       "\t<li>'b'</li>\n",
       "\t<li>'7'</li>\n",
       "\t<li>'b7'</li>\n",
       "\t<li>3</li>\n",
       "\t<li>19</li>\n",
       "\t<li>112</li>\n",
       "\t<li>4731</li>\n",
       "\t<li>'37,5'</li>\n",
       "</ol>\n"
      ],
      "text/latex": [
       "\\begin{enumerate}\n",
       "\\item 3\n",
       "\\item 19\n",
       "\\item 112\n",
       "\\item 4731\n",
       "\\item 'b'\n",
       "\\item '7'\n",
       "\\item 'b7'\n",
       "\\item 3\n",
       "\\item 19\n",
       "\\item 112\n",
       "\\item 4731\n",
       "\\item '37,5'\n",
       "\\end{enumerate}\n"
      ],
      "text/markdown": [
       "1. 3\n",
       "2. 19\n",
       "3. 112\n",
       "4. 4731\n",
       "5. 'b'\n",
       "6. '7'\n",
       "7. 'b7'\n",
       "8. 3\n",
       "9. 19\n",
       "10. 112\n",
       "11. 4731\n",
       "12. '37,5'\n",
       "\n",
       "\n"
      ],
      "text/plain": [
       "[[1]]\n",
       "[1] 3\n",
       "\n",
       "[[2]]\n",
       "[1] 19\n",
       "\n",
       "[[3]]\n",
       "[1] 112\n",
       "\n",
       "[[4]]\n",
       "[1] 4731\n",
       "\n",
       "[[5]]\n",
       "[1] \"b\"\n",
       "\n",
       "[[6]]\n",
       "[1] \"7\"\n",
       "\n",
       "[[7]]\n",
       "[1] \"b7\"\n",
       "\n",
       "[[8]]\n",
       "[1] 3\n",
       "\n",
       "[[9]]\n",
       "[1] 19\n",
       "\n",
       "[[10]]\n",
       "[1] 112\n",
       "\n",
       "[[11]]\n",
       "[1] 4731\n",
       "\n",
       "[[12]]\n",
       "[1] \"37,5\"\n"
      ]
     },
     "metadata": {},
     "output_type": "display_data"
    }
   ],
   "source": [
    "list_all_vec <- c(list_1, list_2, list_3)\n",
    "list_all_vec"
   ]
  },
  {
   "cell_type": "code",
   "execution_count": 28,
   "id": "41df53ce-bc50-446e-9dca-22e931f28d63",
   "metadata": {},
   "outputs": [
    {
     "data": {
      "text/html": [
       "<ol>\n",
       "\t<li><ol>\n",
       "\t<li>3</li>\n",
       "\t<li>19</li>\n",
       "\t<li>112</li>\n",
       "\t<li>4731</li>\n",
       "</ol>\n",
       "</li>\n",
       "\t<li><ol>\n",
       "\t<li>'b'</li>\n",
       "\t<li>'7'</li>\n",
       "\t<li>'b7'</li>\n",
       "</ol>\n",
       "</li>\n",
       "\t<li><ol>\n",
       "\t<li>3</li>\n",
       "\t<li>19</li>\n",
       "\t<li>112</li>\n",
       "\t<li>4731</li>\n",
       "\t<li>'37,5'</li>\n",
       "</ol>\n",
       "</li>\n",
       "</ol>\n"
      ],
      "text/latex": [
       "\\begin{enumerate}\n",
       "\\item \\begin{enumerate}\n",
       "\\item 3\n",
       "\\item 19\n",
       "\\item 112\n",
       "\\item 4731\n",
       "\\end{enumerate}\n",
       "\n",
       "\\item \\begin{enumerate}\n",
       "\\item 'b'\n",
       "\\item '7'\n",
       "\\item 'b7'\n",
       "\\end{enumerate}\n",
       "\n",
       "\\item \\begin{enumerate}\n",
       "\\item 3\n",
       "\\item 19\n",
       "\\item 112\n",
       "\\item 4731\n",
       "\\item '37,5'\n",
       "\\end{enumerate}\n",
       "\n",
       "\\end{enumerate}\n"
      ],
      "text/markdown": [
       "1. 1. 3\n",
       "2. 19\n",
       "3. 112\n",
       "4. 4731\n",
       "\n",
       "\n",
       "\n",
       "2. 1. 'b'\n",
       "2. '7'\n",
       "3. 'b7'\n",
       "\n",
       "\n",
       "\n",
       "3. 1. 3\n",
       "2. 19\n",
       "3. 112\n",
       "4. 4731\n",
       "5. '37,5'\n",
       "\n",
       "\n",
       "\n",
       "\n",
       "\n"
      ],
      "text/plain": [
       "[[1]]\n",
       "[[1]][[1]]\n",
       "[1] 3\n",
       "\n",
       "[[1]][[2]]\n",
       "[1] 19\n",
       "\n",
       "[[1]][[3]]\n",
       "[1] 112\n",
       "\n",
       "[[1]][[4]]\n",
       "[1] 4731\n",
       "\n",
       "\n",
       "[[2]]\n",
       "[[2]][[1]]\n",
       "[1] \"b\"\n",
       "\n",
       "[[2]][[2]]\n",
       "[1] \"7\"\n",
       "\n",
       "[[2]][[3]]\n",
       "[1] \"b7\"\n",
       "\n",
       "\n",
       "[[3]]\n",
       "[[3]][[1]]\n",
       "[1] 3\n",
       "\n",
       "[[3]][[2]]\n",
       "[1] 19\n",
       "\n",
       "[[3]][[3]]\n",
       "[1] 112\n",
       "\n",
       "[[3]][[4]]\n",
       "[1] 4731\n",
       "\n",
       "[[3]][[5]]\n",
       "[1] \"37,5\"\n",
       "\n"
      ]
     },
     "metadata": {},
     "output_type": "display_data"
    }
   ],
   "source": [
    "list_all_list <- list(list_1, list_2, list_3)\n",
    "list_all_list"
   ]
  },
  {
   "cell_type": "code",
   "execution_count": 29,
   "id": "26daf861-890d-4f1b-8091-5673f0c1a1f3",
   "metadata": {},
   "outputs": [
    {
     "data": {
      "text/html": [
       "<ol>\n",
       "\t<li>19</li>\n",
       "\t<li>112</li>\n",
       "</ol>\n"
      ],
      "text/latex": [
       "\\begin{enumerate}\n",
       "\\item 19\n",
       "\\item 112\n",
       "\\end{enumerate}\n"
      ],
      "text/markdown": [
       "1. 19\n",
       "2. 112\n",
       "\n",
       "\n"
      ],
      "text/plain": [
       "[[1]]\n",
       "[1] 19\n",
       "\n",
       "[[2]]\n",
       "[1] 112\n"
      ]
     },
     "metadata": {},
     "output_type": "display_data"
    }
   ],
   "source": [
    "list_all_vec[2:3]"
   ]
  },
  {
   "cell_type": "code",
   "execution_count": 30,
   "id": "e2faf230-fa03-4f1c-9c5f-438a9fa18753",
   "metadata": {},
   "outputs": [
    {
     "data": {
      "text/html": [
       "<ol>\n",
       "\t<li>19</li>\n",
       "\t<li>112</li>\n",
       "</ol>\n"
      ],
      "text/latex": [
       "\\begin{enumerate}\n",
       "\\item 19\n",
       "\\item 112\n",
       "\\end{enumerate}\n"
      ],
      "text/markdown": [
       "1. 19\n",
       "2. 112\n",
       "\n",
       "\n"
      ],
      "text/plain": [
       "[[1]]\n",
       "[1] 19\n",
       "\n",
       "[[2]]\n",
       "[1] 112\n"
      ]
     },
     "metadata": {},
     "output_type": "display_data"
    }
   ],
   "source": [
    "list_all_list[[1]][2:3]"
   ]
  },
  {
   "cell_type": "code",
   "execution_count": 31,
   "id": "34b3f152-1d6c-47ba-8972-ea83661054c1",
   "metadata": {},
   "outputs": [
    {
     "data": {
      "text/html": [
       "<ol>\n",
       "\t<li>3</li>\n",
       "\t<li>19</li>\n",
       "</ol>\n"
      ],
      "text/latex": [
       "\\begin{enumerate}\n",
       "\\item 3\n",
       "\\item 19\n",
       "\\end{enumerate}\n"
      ],
      "text/markdown": [
       "1. 3\n",
       "2. 19\n",
       "\n",
       "\n"
      ],
      "text/plain": [
       "[[1]]\n",
       "[1] 3\n",
       "\n",
       "[[2]]\n",
       "[1] 19\n"
      ]
     },
     "metadata": {},
     "output_type": "display_data"
    }
   ],
   "source": [
    "list_all_list[[3]][1:2]"
   ]
  },
  {
   "cell_type": "code",
   "execution_count": 32,
   "id": "71e1964f-43e1-4864-802c-787f50880a81",
   "metadata": {},
   "outputs": [
    {
     "data": {
      "text/html": [
       "<ol>\n",
       "\t<li><ol>\n",
       "\t<li>'b'</li>\n",
       "\t<li>19</li>\n",
       "\t<li>112</li>\n",
       "\t<li>4731</li>\n",
       "</ol>\n",
       "</li>\n",
       "\t<li><ol>\n",
       "\t<li>'b'</li>\n",
       "\t<li>'7'</li>\n",
       "\t<li>'b7'</li>\n",
       "</ol>\n",
       "</li>\n",
       "\t<li><ol>\n",
       "\t<li>3</li>\n",
       "\t<li>19</li>\n",
       "\t<li>112</li>\n",
       "\t<li>4731</li>\n",
       "\t<li>'37,5'</li>\n",
       "</ol>\n",
       "</li>\n",
       "</ol>\n"
      ],
      "text/latex": [
       "\\begin{enumerate}\n",
       "\\item \\begin{enumerate}\n",
       "\\item 'b'\n",
       "\\item 19\n",
       "\\item 112\n",
       "\\item 4731\n",
       "\\end{enumerate}\n",
       "\n",
       "\\item \\begin{enumerate}\n",
       "\\item 'b'\n",
       "\\item '7'\n",
       "\\item 'b7'\n",
       "\\end{enumerate}\n",
       "\n",
       "\\item \\begin{enumerate}\n",
       "\\item 3\n",
       "\\item 19\n",
       "\\item 112\n",
       "\\item 4731\n",
       "\\item '37,5'\n",
       "\\end{enumerate}\n",
       "\n",
       "\\end{enumerate}\n"
      ],
      "text/markdown": [
       "1. 1. 'b'\n",
       "2. 19\n",
       "3. 112\n",
       "4. 4731\n",
       "\n",
       "\n",
       "\n",
       "2. 1. 'b'\n",
       "2. '7'\n",
       "3. 'b7'\n",
       "\n",
       "\n",
       "\n",
       "3. 1. 3\n",
       "2. 19\n",
       "3. 112\n",
       "4. 4731\n",
       "5. '37,5'\n",
       "\n",
       "\n",
       "\n",
       "\n",
       "\n"
      ],
      "text/plain": [
       "[[1]]\n",
       "[[1]][[1]]\n",
       "[1] \"b\"\n",
       "\n",
       "[[1]][[2]]\n",
       "[1] 19\n",
       "\n",
       "[[1]][[3]]\n",
       "[1] 112\n",
       "\n",
       "[[1]][[4]]\n",
       "[1] 4731\n",
       "\n",
       "\n",
       "[[2]]\n",
       "[[2]][[1]]\n",
       "[1] \"b\"\n",
       "\n",
       "[[2]][[2]]\n",
       "[1] \"7\"\n",
       "\n",
       "[[2]][[3]]\n",
       "[1] \"b7\"\n",
       "\n",
       "\n",
       "[[3]]\n",
       "[[3]][[1]]\n",
       "[1] 3\n",
       "\n",
       "[[3]][[2]]\n",
       "[1] 19\n",
       "\n",
       "[[3]][[3]]\n",
       "[1] 112\n",
       "\n",
       "[[3]][[4]]\n",
       "[1] 4731\n",
       "\n",
       "[[3]][[5]]\n",
       "[1] \"37,5\"\n",
       "\n"
      ]
     },
     "metadata": {},
     "output_type": "display_data"
    }
   ],
   "source": [
    "list_all_list[[1]][1] <- \"b\"\n",
    "list_all_list"
   ]
  },
  {
   "cell_type": "code",
   "execution_count": 33,
   "id": "4e576d79-e22e-4507-98fb-597b215eb4e1",
   "metadata": {},
   "outputs": [
    {
     "data": {
      "text/html": [
       "FALSE"
      ],
      "text/latex": [
       "FALSE"
      ],
      "text/markdown": [
       "FALSE"
      ],
      "text/plain": [
       "[1] FALSE"
      ]
     },
     "metadata": {},
     "output_type": "display_data"
    },
    {
     "data": {
      "text/html": [
       "TRUE"
      ],
      "text/latex": [
       "TRUE"
      ],
      "text/markdown": [
       "TRUE"
      ],
      "text/plain": [
       "[1] TRUE"
      ]
     },
     "metadata": {},
     "output_type": "display_data"
    }
   ],
   "source": [
    "\"b\" %in% list_all_list\n",
    "\"b\" %in% list_all_list[[1]]"
   ]
  },
  {
   "cell_type": "code",
   "execution_count": 34,
   "id": "ab8959b0-c131-486e-9d47-579d1d9916f7",
   "metadata": {},
   "outputs": [
    {
     "data": {
      "text/html": [
       "<ol>\n",
       "\t<li>'b'</li>\n",
       "\t<li>'7'</li>\n",
       "\t<li>'b7'</li>\n",
       "\t<li>'b'</li>\n",
       "</ol>\n"
      ],
      "text/latex": [
       "\\begin{enumerate}\n",
       "\\item 'b'\n",
       "\\item '7'\n",
       "\\item 'b7'\n",
       "\\item 'b'\n",
       "\\end{enumerate}\n"
      ],
      "text/markdown": [
       "1. 'b'\n",
       "2. '7'\n",
       "3. 'b7'\n",
       "4. 'b'\n",
       "\n",
       "\n"
      ],
      "text/plain": [
       "[[1]]\n",
       "[1] \"b\"\n",
       "\n",
       "[[2]]\n",
       "[1] \"7\"\n",
       "\n",
       "[[3]]\n",
       "[1] \"b7\"\n",
       "\n",
       "[[4]]\n",
       "[1] \"b\"\n"
      ]
     },
     "metadata": {},
     "output_type": "display_data"
    }
   ],
   "source": [
    "list_2 <- c(list_2, \"b\")\n",
    "list_2"
   ]
  },
  {
   "cell_type": "code",
   "execution_count": 35,
   "id": "c8536c21-2cd1-4ee9-8ed3-f1d1d4052c6c",
   "metadata": {},
   "outputs": [
    {
     "data": {
      "text/html": [
       "<ol>\n",
       "\t<li>3</li>\n",
       "\t<li>8</li>\n",
       "\t<li>19</li>\n",
       "\t<li>112</li>\n",
       "\t<li>4731</li>\n",
       "</ol>\n"
      ],
      "text/latex": [
       "\\begin{enumerate}\n",
       "\\item 3\n",
       "\\item 8\n",
       "\\item 19\n",
       "\\item 112\n",
       "\\item 4731\n",
       "\\end{enumerate}\n"
      ],
      "text/markdown": [
       "1. 3\n",
       "2. 8\n",
       "3. 19\n",
       "4. 112\n",
       "5. 4731\n",
       "\n",
       "\n"
      ],
      "text/plain": [
       "[[1]]\n",
       "[1] 3\n",
       "\n",
       "[[2]]\n",
       "[1] 8\n",
       "\n",
       "[[3]]\n",
       "[1] 19\n",
       "\n",
       "[[4]]\n",
       "[1] 112\n",
       "\n",
       "[[5]]\n",
       "[1] 4731\n"
      ]
     },
     "metadata": {},
     "output_type": "display_data"
    }
   ],
   "source": [
    "list_1 <- append(list_1, 8, after = 1)\n",
    "list_1"
   ]
  },
  {
   "cell_type": "code",
   "execution_count": 36,
   "id": "99f7b680-6359-4250-88b2-c17224c23af6",
   "metadata": {},
   "outputs": [
    {
     "data": {
      "text/html": [
       "2"
      ],
      "text/latex": [
       "2"
      ],
      "text/markdown": [
       "2"
      ],
      "text/plain": [
       "[1] 2"
      ]
     },
     "metadata": {},
     "output_type": "display_data"
    }
   ],
   "source": [
    "sum(list_2 == \"b\")"
   ]
  },
  {
   "cell_type": "code",
   "execution_count": 37,
   "id": "7d3282ad-1e77-4988-900d-d8197a500872",
   "metadata": {},
   "outputs": [
    {
     "data": {
      "text/html": [
       "<ol>\n",
       "\t<li>3</li>\n",
       "\t<li>19</li>\n",
       "\t<li>112</li>\n",
       "\t<li>4731</li>\n",
       "</ol>\n"
      ],
      "text/latex": [
       "\\begin{enumerate}\n",
       "\\item 3\n",
       "\\item 19\n",
       "\\item 112\n",
       "\\item 4731\n",
       "\\end{enumerate}\n"
      ],
      "text/markdown": [
       "1. 3\n",
       "2. 19\n",
       "3. 112\n",
       "4. 4731\n",
       "\n",
       "\n"
      ],
      "text/plain": [
       "[[1]]\n",
       "[1] 3\n",
       "\n",
       "[[2]]\n",
       "[1] 19\n",
       "\n",
       "[[3]]\n",
       "[1] 112\n",
       "\n",
       "[[4]]\n",
       "[1] 4731\n"
      ]
     },
     "metadata": {},
     "output_type": "display_data"
    }
   ],
   "source": [
    "list_3[-5]"
   ]
  },
  {
   "cell_type": "code",
   "execution_count": 38,
   "id": "b9a225f8-2517-41e1-8c2c-7add921bb26b",
   "metadata": {},
   "outputs": [
    {
     "data": {
      "text/html": [
       "<ol>\n",
       "\t<li>'7'</li>\n",
       "\t<li>'b7'</li>\n",
       "</ol>\n"
      ],
      "text/latex": [
       "\\begin{enumerate}\n",
       "\\item '7'\n",
       "\\item 'b7'\n",
       "\\end{enumerate}\n"
      ],
      "text/markdown": [
       "1. '7'\n",
       "2. 'b7'\n",
       "\n",
       "\n"
      ],
      "text/plain": [
       "[[1]]\n",
       "[1] \"7\"\n",
       "\n",
       "[[2]]\n",
       "[1] \"b7\"\n"
      ]
     },
     "metadata": {},
     "output_type": "display_data"
    }
   ],
   "source": [
    "list_2[list_2 != \"b\"]"
   ]
  },
  {
   "cell_type": "code",
   "execution_count": 39,
   "id": "16140692-da63-4394-b4d2-cdd7dc7ab77d",
   "metadata": {},
   "outputs": [
    {
     "data": {
      "text/html": [
       "<style>\n",
       ".list-inline {list-style: none; margin:0; padding: 0}\n",
       ".list-inline>li {display: inline-block}\n",
       ".list-inline>li:not(:last-child)::after {content: \"\\00b7\"; padding: 0 .5ex}\n",
       "</style>\n",
       "<ol class=list-inline><li>3</li><li>8</li><li>19</li><li>112</li><li>4731</li></ol>\n"
      ],
      "text/latex": [
       "\\begin{enumerate*}\n",
       "\\item 3\n",
       "\\item 8\n",
       "\\item 19\n",
       "\\item 112\n",
       "\\item 4731\n",
       "\\end{enumerate*}\n"
      ],
      "text/markdown": [
       "1. 3\n",
       "2. 8\n",
       "3. 19\n",
       "4. 112\n",
       "5. 4731\n",
       "\n",
       "\n"
      ],
      "text/plain": [
       "[1]    3    8   19  112 4731"
      ]
     },
     "metadata": {},
     "output_type": "display_data"
    }
   ],
   "source": [
    "vec_4 <- unlist(list_1)\n",
    "vec_4"
   ]
  },
  {
   "cell_type": "code",
   "execution_count": null,
   "id": "942884f9-b34d-46da-b63c-d81f725e429b",
   "metadata": {},
   "outputs": [],
   "source": []
  }
 ],
 "metadata": {
  "kernelspec": {
   "display_name": "R",
   "language": "R",
   "name": "ir"
  },
  "language_info": {
   "codemirror_mode": "r",
   "file_extension": ".r",
   "mimetype": "text/x-r-source",
   "name": "R",
   "pygments_lexer": "r",
   "version": "4.4.2"
  }
 },
 "nbformat": 4,
 "nbformat_minor": 5
}
